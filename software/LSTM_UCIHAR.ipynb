{
  "cells": [
    {
      "cell_type": "markdown",
      "metadata": {
        "id": "view-in-github",
        "colab_type": "text"
      },
      "source": [
        "<a href=\"https://colab.research.google.com/github/shreyasrajesh0308/ece209as_project/blob/main/software/LSTM_UCIHAR.ipynb\" target=\"_parent\"><img src=\"https://colab.research.google.com/assets/colab-badge.svg\" alt=\"Open In Colab\"/></a>"
      ]
    },
    {
      "cell_type": "markdown",
      "id": "3ced1304",
      "metadata": {
        "id": "3ced1304"
      },
      "source": [
        "# LSTM \n",
        "\n",
        "Building the LSTM architecture and experimenting with the UCI HAR dataset\n",
        "\n",
        "Results are compared for the following cases:\n",
        "\n",
        "1. Baseline LSTM model.\n",
        "2. Model with weight decay\n",
        "3. Model with Rotation. \n",
        "4. Model with Scale. \n",
        "5. Model with Magnify \n",
        "6. Model with Resample\n",
        "7. Model with Noise\n",
        "\n",
        "|  Activity |  Baseline |  Weight Decay |  Rotation | Scaling  |  Noise |  Resampling | Magnify | \n",
        "|---|---|---|---|---|---|---|---|\n",
        "| Walking  | 0.94  |  0.95 |  0.96 |  0.96 |  0.95 |  0.94 | 0.97 | \n",
        "| Stairs-Up  |  0.96 |  0.97 | 0.97 | 0.98  |  0.95 | 0.96  | 0.98 |\n",
        "| Stairs-Down  | .99  | 0.99  |  0.99 |  0.99 |  0.99 | 1.0  | 0.99 |\n",
        "| Sitting  | 0.80  | 0.77  |  0.8 | 0.82  | 0.79  |  0.79 | 0.81 |\n",
        "| Standing | 0.83  |  0.86 |  0.79 |  0.9 | 0.81  |  0.83 | 0.94 |\n",
        "| Lying  |  1 |  0.99 |  0.94 | 1  | 1  |  1 | 1 |\n",
        "|  Overall Accuracy |  0.92 |  0.92 | 0.9  | 0.94  |  0.91 | 0.92  | 0.95|"
      ]
    },
    {
      "cell_type": "markdown",
      "id": "471e5497",
      "metadata": {
        "id": "471e5497"
      },
      "source": [
        "## Module Import"
      ]
    },
    {
      "cell_type": "code",
      "execution_count": null,
      "id": "f0127712",
      "metadata": {
        "id": "f0127712"
      },
      "outputs": [],
      "source": [
        "import tensorflow as tf\n",
        "from tensorflow import keras \n",
        "from keras import layers\n",
        "\n",
        "import numpy as np\n",
        "\n",
        "from sklearn.utils import class_weight"
      ]
    },
    {
      "cell_type": "code",
      "source": [
        "from google.colab import drive\n",
        "drive.mount('/content/drive')"
      ],
      "metadata": {
        "colab": {
          "base_uri": "https://localhost:8080/"
        },
        "id": "Wk0ejQrtKRfP",
        "outputId": "be9c66c7-e14f-4e52-8e8c-a6889378db11"
      },
      "id": "Wk0ejQrtKRfP",
      "execution_count": null,
      "outputs": [
        {
          "output_type": "stream",
          "name": "stdout",
          "text": [
            "Drive already mounted at /content/drive; to attempt to forcibly remount, call drive.mount(\"/content/drive\", force_remount=True).\n"
          ]
        }
      ]
    },
    {
      "cell_type": "markdown",
      "id": "3780af41",
      "metadata": {
        "id": "3780af41"
      },
      "source": [
        "## Load the Dataset"
      ]
    },
    {
      "cell_type": "code",
      "execution_count": null,
      "id": "ac002044",
      "metadata": {
        "id": "ac002044"
      },
      "outputs": [],
      "source": [
        "path_to_dataset = \"/content/drive/My Drive/ECE_209_AS_project_data/UCIHAR/\"\n",
        "path_to_logs = \"/content/drive/My Drive/ECE_209_AS_project_data/UCIHARlogs/\"\n",
        "path_to_models = \"/content/drive/My Drive/ECE_209_AS_project_data/UCIHARmodels/\"\n",
        "\n",
        "# Load only accelero and Gyro Data, we dont use Magno\n",
        "X_train = np.load(path_to_dataset + \"X_train.npy\")[:,:,:9]\n",
        "# First argmax\n",
        "Y_train = np.load(path_to_dataset + \"y_train.npy\").argmax(1)\n",
        "\n",
        "X_test = np.load(path_to_dataset + \"X_test.npy\")[:,:,:9]\n",
        "Y_test = np.load(path_to_dataset + \"y_test.npy\").argmax(1)"
      ]
    },
    {
      "cell_type": "code",
      "execution_count": null,
      "id": "63d707ab",
      "metadata": {
        "colab": {
          "base_uri": "https://localhost:8080/"
        },
        "id": "63d707ab",
        "outputId": "54a67bf3-90db-4ff0-8048-0fd9135bace3"
      },
      "outputs": [
        {
          "output_type": "stream",
          "name": "stdout",
          "text": [
            "(7352, 128, 9)\n",
            "(7352,)\n",
            "(2947, 128, 9)\n",
            "(2947,)\n"
          ]
        }
      ],
      "source": [
        "print(X_train.shape)\n",
        "print(Y_train.shape)\n",
        "print(X_test.shape)\n",
        "print(Y_test.shape)"
      ]
    },
    {
      "cell_type": "markdown",
      "id": "f4fbaa46",
      "metadata": {
        "id": "f4fbaa46"
      },
      "source": [
        "## Randomy Permute the dataset"
      ]
    },
    {
      "cell_type": "code",
      "execution_count": null,
      "id": "609a11ca",
      "metadata": {
        "id": "609a11ca"
      },
      "outputs": [],
      "source": [
        "data_class_names = [\"Walking\", \"Stairs-Up\", \"Stairs-Down\", \"Sitting\", \"Standing\", \"Lying\"]\n",
        "data_class_weights = class_weight.compute_class_weight(class_weight='balanced',classes=range(len(data_class_names)),y=Y_train)\n",
        "data_class_weights = dict(zip(range(len(data_class_weights)),data_class_weights.round(2)))"
      ]
    },
    {
      "cell_type": "code",
      "execution_count": null,
      "id": "06236314",
      "metadata": {
        "colab": {
          "base_uri": "https://localhost:8080/"
        },
        "id": "06236314",
        "outputId": "f77132a3-3256-4055-a109-63335932adb4"
      },
      "outputs": [
        {
          "output_type": "execute_result",
          "data": {
            "text/plain": [
              "{0: 1.0, 1: 1.14, 2: 1.24, 3: 0.95, 4: 0.89, 5: 0.87}"
            ]
          },
          "metadata": {},
          "execution_count": 6
        }
      ],
      "source": [
        "data_class_weights"
      ]
    },
    {
      "cell_type": "markdown",
      "id": "1e373bd9",
      "metadata": {
        "id": "1e373bd9"
      },
      "source": [
        "### Define the model "
      ]
    },
    {
      "cell_type": "code",
      "execution_count": null,
      "id": "9b7c6e21",
      "metadata": {
        "id": "9b7c6e21"
      },
      "outputs": [],
      "source": [
        "inputs = keras.Input(shape = (128, 9))\n",
        "features = layers.LSTM(100)(inputs)\n",
        "features = layers.Dropout(0.5)(features)\n",
        "features = layers.Dense(100, activation = \"relu\")(features)\n",
        "outputs = layers.Dense(6, activation = \"softmax\")(features)\n",
        "\n",
        "model = keras.Model(inputs = inputs, outputs = outputs)"
      ]
    },
    {
      "cell_type": "code",
      "execution_count": null,
      "id": "adb167c6",
      "metadata": {
        "colab": {
          "base_uri": "https://localhost:8080/"
        },
        "id": "adb167c6",
        "outputId": "c89ba737-3e10-49db-e96a-1883f59a3c6f"
      },
      "outputs": [
        {
          "output_type": "stream",
          "name": "stdout",
          "text": [
            "Model: \"model\"\n",
            "_________________________________________________________________\n",
            " Layer (type)                Output Shape              Param #   \n",
            "=================================================================\n",
            " input_1 (InputLayer)        [(None, 128, 9)]          0         \n",
            "                                                                 \n",
            " lstm (LSTM)                 (None, 100)               44000     \n",
            "                                                                 \n",
            " dropout (Dropout)           (None, 100)               0         \n",
            "                                                                 \n",
            " dense (Dense)               (None, 100)               10100     \n",
            "                                                                 \n",
            " dense_1 (Dense)             (None, 6)                 606       \n",
            "                                                                 \n",
            "=================================================================\n",
            "Total params: 54,706\n",
            "Trainable params: 54,706\n",
            "Non-trainable params: 0\n",
            "_________________________________________________________________\n"
          ]
        }
      ],
      "source": [
        "model.summary()"
      ]
    },
    {
      "cell_type": "markdown",
      "id": "89104158",
      "metadata": {
        "id": "89104158"
      },
      "source": [
        "### Split the Data and Train the model "
      ]
    },
    {
      "cell_type": "code",
      "source": [
        "import absl.logging\n",
        "absl.logging.set_verbosity(absl.logging.ERROR)"
      ],
      "metadata": {
        "id": "0gqiJVQoJjRg"
      },
      "id": "0gqiJVQoJjRg",
      "execution_count": null,
      "outputs": []
    },
    {
      "cell_type": "code",
      "source": [
        "seeds = []"
      ],
      "metadata": {
        "id": "AajsTRlzIQ0f"
      },
      "id": "AajsTRlzIQ0f",
      "execution_count": null,
      "outputs": []
    },
    {
      "cell_type": "code",
      "source": [
        "from sklearn.metrics import confusion_matrix, recall_score"
      ],
      "metadata": {
        "id": "XeMW9tcf4IqW"
      },
      "id": "XeMW9tcf4IqW",
      "execution_count": null,
      "outputs": []
    },
    {
      "cell_type": "code",
      "source": [
        "test_accuracies = []\n",
        "recall_scores = []\n",
        "\n",
        "for i in range(5):\n",
        "\n",
        "  rnd_seed = np.random.randint(1, 100)\n",
        "  seeds.append(rnd_seed)\n",
        "  tf.random.set_seed(rnd_seed)\n",
        "  indices = np.random.RandomState(seed=rnd_seed).permutation(len(X_train))\n",
        "  X_train = X_train[indices]\n",
        "  Y_train = Y_train[indices]\n",
        "\n",
        "  train_data = X_train[len(X_train)//10:]\n",
        "  train_labels = Y_train[len(X_train)//10:]\n",
        "  val_data = X_train[:len(X_train)//10]\n",
        "  val_labels = Y_train[:len(X_train)//10]\n",
        "\n",
        "  model = keras.Model(inputs = inputs, outputs = outputs)\n",
        "  model.compile(loss = \"sparse_categorical_crossentropy\", optimizer = \"adam\", metrics=[\"accuracy\"])\n",
        "  tensorboard = keras.callbacks.TensorBoard(log_dir = path_to_logs)\n",
        "  callbacks = [keras.callbacks.ModelCheckpoint(filepath=path_to_models + f\"LSTM_baseline_{i}\"), tensorboard]\n",
        "  history = model.fit(train_data, train_labels, epochs = 25, batch_size = 64, validation_data = (val_data, val_labels), callbacks = callbacks, class_weight = data_class_weights, verbose = False)\n",
        "\n",
        "  model_saved = keras.models.load_model(path_to_models + f\"LSTM_baseline_{i}\")\n",
        "  test_accuracy = tf.keras.metrics.Accuracy()\n",
        "  logits = model_saved(X_test, training=False)\n",
        "  prediction = tf.argmax(logits, axis=1, output_type=tf.int32)\n",
        "  test_accuracies.append(test_accuracy(prediction, Y_test))\n",
        "  print(test_accuracy(prediction, Y_test))\n",
        "  recall_scores.append(recall_score(Y_test, prediction, average=None))"
      ],
      "metadata": {
        "colab": {
          "base_uri": "https://localhost:8080/"
        },
        "id": "QsBspytF91ve",
        "outputId": "f32b955e-c816-41d8-b548-f446799ae2b9"
      },
      "id": "QsBspytF91ve",
      "execution_count": null,
      "outputs": [
        {
          "output_type": "stream",
          "name": "stdout",
          "text": [
            "INFO:tensorflow:Assets written to: /content/drive/My Drive/ECE_209_AS_project_data/UCIHARmodels/LSTM_baseline_0/assets\n"
          ]
        },
        {
          "output_type": "stream",
          "name": "stderr",
          "text": [
            "INFO:tensorflow:Assets written to: /content/drive/My Drive/ECE_209_AS_project_data/UCIHARmodels/LSTM_baseline_0/assets\n"
          ]
        },
        {
          "output_type": "stream",
          "name": "stdout",
          "text": [
            "INFO:tensorflow:Assets written to: /content/drive/My Drive/ECE_209_AS_project_data/UCIHARmodels/LSTM_baseline_0/assets\n"
          ]
        },
        {
          "output_type": "stream",
          "name": "stderr",
          "text": [
            "INFO:tensorflow:Assets written to: /content/drive/My Drive/ECE_209_AS_project_data/UCIHARmodels/LSTM_baseline_0/assets\n"
          ]
        },
        {
          "output_type": "stream",
          "name": "stdout",
          "text": [
            "INFO:tensorflow:Assets written to: /content/drive/My Drive/ECE_209_AS_project_data/UCIHARmodels/LSTM_baseline_0/assets\n"
          ]
        },
        {
          "output_type": "stream",
          "name": "stderr",
          "text": [
            "INFO:tensorflow:Assets written to: /content/drive/My Drive/ECE_209_AS_project_data/UCIHARmodels/LSTM_baseline_0/assets\n"
          ]
        },
        {
          "output_type": "stream",
          "name": "stdout",
          "text": [
            "INFO:tensorflow:Assets written to: /content/drive/My Drive/ECE_209_AS_project_data/UCIHARmodels/LSTM_baseline_0/assets\n"
          ]
        },
        {
          "output_type": "stream",
          "name": "stderr",
          "text": [
            "INFO:tensorflow:Assets written to: /content/drive/My Drive/ECE_209_AS_project_data/UCIHARmodels/LSTM_baseline_0/assets\n"
          ]
        },
        {
          "output_type": "stream",
          "name": "stdout",
          "text": [
            "INFO:tensorflow:Assets written to: /content/drive/My Drive/ECE_209_AS_project_data/UCIHARmodels/LSTM_baseline_0/assets\n"
          ]
        },
        {
          "output_type": "stream",
          "name": "stderr",
          "text": [
            "INFO:tensorflow:Assets written to: /content/drive/My Drive/ECE_209_AS_project_data/UCIHARmodels/LSTM_baseline_0/assets\n"
          ]
        },
        {
          "output_type": "stream",
          "name": "stdout",
          "text": [
            "INFO:tensorflow:Assets written to: /content/drive/My Drive/ECE_209_AS_project_data/UCIHARmodels/LSTM_baseline_0/assets\n"
          ]
        },
        {
          "output_type": "stream",
          "name": "stderr",
          "text": [
            "INFO:tensorflow:Assets written to: /content/drive/My Drive/ECE_209_AS_project_data/UCIHARmodels/LSTM_baseline_0/assets\n"
          ]
        },
        {
          "output_type": "stream",
          "name": "stdout",
          "text": [
            "INFO:tensorflow:Assets written to: /content/drive/My Drive/ECE_209_AS_project_data/UCIHARmodels/LSTM_baseline_0/assets\n"
          ]
        },
        {
          "output_type": "stream",
          "name": "stderr",
          "text": [
            "INFO:tensorflow:Assets written to: /content/drive/My Drive/ECE_209_AS_project_data/UCIHARmodels/LSTM_baseline_0/assets\n"
          ]
        },
        {
          "output_type": "stream",
          "name": "stdout",
          "text": [
            "INFO:tensorflow:Assets written to: /content/drive/My Drive/ECE_209_AS_project_data/UCIHARmodels/LSTM_baseline_0/assets\n"
          ]
        },
        {
          "output_type": "stream",
          "name": "stderr",
          "text": [
            "INFO:tensorflow:Assets written to: /content/drive/My Drive/ECE_209_AS_project_data/UCIHARmodels/LSTM_baseline_0/assets\n"
          ]
        },
        {
          "output_type": "stream",
          "name": "stdout",
          "text": [
            "INFO:tensorflow:Assets written to: /content/drive/My Drive/ECE_209_AS_project_data/UCIHARmodels/LSTM_baseline_0/assets\n"
          ]
        },
        {
          "output_type": "stream",
          "name": "stderr",
          "text": [
            "INFO:tensorflow:Assets written to: /content/drive/My Drive/ECE_209_AS_project_data/UCIHARmodels/LSTM_baseline_0/assets\n"
          ]
        },
        {
          "output_type": "stream",
          "name": "stdout",
          "text": [
            "INFO:tensorflow:Assets written to: /content/drive/My Drive/ECE_209_AS_project_data/UCIHARmodels/LSTM_baseline_0/assets\n"
          ]
        },
        {
          "output_type": "stream",
          "name": "stderr",
          "text": [
            "INFO:tensorflow:Assets written to: /content/drive/My Drive/ECE_209_AS_project_data/UCIHARmodels/LSTM_baseline_0/assets\n"
          ]
        },
        {
          "output_type": "stream",
          "name": "stdout",
          "text": [
            "INFO:tensorflow:Assets written to: /content/drive/My Drive/ECE_209_AS_project_data/UCIHARmodels/LSTM_baseline_0/assets\n"
          ]
        },
        {
          "output_type": "stream",
          "name": "stderr",
          "text": [
            "INFO:tensorflow:Assets written to: /content/drive/My Drive/ECE_209_AS_project_data/UCIHARmodels/LSTM_baseline_0/assets\n"
          ]
        },
        {
          "output_type": "stream",
          "name": "stdout",
          "text": [
            "INFO:tensorflow:Assets written to: /content/drive/My Drive/ECE_209_AS_project_data/UCIHARmodels/LSTM_baseline_0/assets\n"
          ]
        },
        {
          "output_type": "stream",
          "name": "stderr",
          "text": [
            "INFO:tensorflow:Assets written to: /content/drive/My Drive/ECE_209_AS_project_data/UCIHARmodels/LSTM_baseline_0/assets\n"
          ]
        },
        {
          "output_type": "stream",
          "name": "stdout",
          "text": [
            "INFO:tensorflow:Assets written to: /content/drive/My Drive/ECE_209_AS_project_data/UCIHARmodels/LSTM_baseline_0/assets\n"
          ]
        },
        {
          "output_type": "stream",
          "name": "stderr",
          "text": [
            "INFO:tensorflow:Assets written to: /content/drive/My Drive/ECE_209_AS_project_data/UCIHARmodels/LSTM_baseline_0/assets\n"
          ]
        },
        {
          "output_type": "stream",
          "name": "stdout",
          "text": [
            "INFO:tensorflow:Assets written to: /content/drive/My Drive/ECE_209_AS_project_data/UCIHARmodels/LSTM_baseline_0/assets\n"
          ]
        },
        {
          "output_type": "stream",
          "name": "stderr",
          "text": [
            "INFO:tensorflow:Assets written to: /content/drive/My Drive/ECE_209_AS_project_data/UCIHARmodels/LSTM_baseline_0/assets\n"
          ]
        },
        {
          "output_type": "stream",
          "name": "stdout",
          "text": [
            "INFO:tensorflow:Assets written to: /content/drive/My Drive/ECE_209_AS_project_data/UCIHARmodels/LSTM_baseline_0/assets\n"
          ]
        },
        {
          "output_type": "stream",
          "name": "stderr",
          "text": [
            "INFO:tensorflow:Assets written to: /content/drive/My Drive/ECE_209_AS_project_data/UCIHARmodels/LSTM_baseline_0/assets\n"
          ]
        },
        {
          "output_type": "stream",
          "name": "stdout",
          "text": [
            "INFO:tensorflow:Assets written to: /content/drive/My Drive/ECE_209_AS_project_data/UCIHARmodels/LSTM_baseline_0/assets\n"
          ]
        },
        {
          "output_type": "stream",
          "name": "stderr",
          "text": [
            "INFO:tensorflow:Assets written to: /content/drive/My Drive/ECE_209_AS_project_data/UCIHARmodels/LSTM_baseline_0/assets\n"
          ]
        },
        {
          "output_type": "stream",
          "name": "stdout",
          "text": [
            "INFO:tensorflow:Assets written to: /content/drive/My Drive/ECE_209_AS_project_data/UCIHARmodels/LSTM_baseline_0/assets\n"
          ]
        },
        {
          "output_type": "stream",
          "name": "stderr",
          "text": [
            "INFO:tensorflow:Assets written to: /content/drive/My Drive/ECE_209_AS_project_data/UCIHARmodels/LSTM_baseline_0/assets\n"
          ]
        },
        {
          "output_type": "stream",
          "name": "stdout",
          "text": [
            "INFO:tensorflow:Assets written to: /content/drive/My Drive/ECE_209_AS_project_data/UCIHARmodels/LSTM_baseline_0/assets\n"
          ]
        },
        {
          "output_type": "stream",
          "name": "stderr",
          "text": [
            "INFO:tensorflow:Assets written to: /content/drive/My Drive/ECE_209_AS_project_data/UCIHARmodels/LSTM_baseline_0/assets\n"
          ]
        },
        {
          "output_type": "stream",
          "name": "stdout",
          "text": [
            "INFO:tensorflow:Assets written to: /content/drive/My Drive/ECE_209_AS_project_data/UCIHARmodels/LSTM_baseline_0/assets\n"
          ]
        },
        {
          "output_type": "stream",
          "name": "stderr",
          "text": [
            "INFO:tensorflow:Assets written to: /content/drive/My Drive/ECE_209_AS_project_data/UCIHARmodels/LSTM_baseline_0/assets\n"
          ]
        },
        {
          "output_type": "stream",
          "name": "stdout",
          "text": [
            "INFO:tensorflow:Assets written to: /content/drive/My Drive/ECE_209_AS_project_data/UCIHARmodels/LSTM_baseline_0/assets\n"
          ]
        },
        {
          "output_type": "stream",
          "name": "stderr",
          "text": [
            "INFO:tensorflow:Assets written to: /content/drive/My Drive/ECE_209_AS_project_data/UCIHARmodels/LSTM_baseline_0/assets\n"
          ]
        },
        {
          "output_type": "stream",
          "name": "stdout",
          "text": [
            "INFO:tensorflow:Assets written to: /content/drive/My Drive/ECE_209_AS_project_data/UCIHARmodels/LSTM_baseline_0/assets\n"
          ]
        },
        {
          "output_type": "stream",
          "name": "stderr",
          "text": [
            "INFO:tensorflow:Assets written to: /content/drive/My Drive/ECE_209_AS_project_data/UCIHARmodels/LSTM_baseline_0/assets\n"
          ]
        },
        {
          "output_type": "stream",
          "name": "stdout",
          "text": [
            "INFO:tensorflow:Assets written to: /content/drive/My Drive/ECE_209_AS_project_data/UCIHARmodels/LSTM_baseline_0/assets\n"
          ]
        },
        {
          "output_type": "stream",
          "name": "stderr",
          "text": [
            "INFO:tensorflow:Assets written to: /content/drive/My Drive/ECE_209_AS_project_data/UCIHARmodels/LSTM_baseline_0/assets\n"
          ]
        },
        {
          "output_type": "stream",
          "name": "stdout",
          "text": [
            "INFO:tensorflow:Assets written to: /content/drive/My Drive/ECE_209_AS_project_data/UCIHARmodels/LSTM_baseline_0/assets\n"
          ]
        },
        {
          "output_type": "stream",
          "name": "stderr",
          "text": [
            "INFO:tensorflow:Assets written to: /content/drive/My Drive/ECE_209_AS_project_data/UCIHARmodels/LSTM_baseline_0/assets\n"
          ]
        },
        {
          "output_type": "stream",
          "name": "stdout",
          "text": [
            "INFO:tensorflow:Assets written to: /content/drive/My Drive/ECE_209_AS_project_data/UCIHARmodels/LSTM_baseline_0/assets\n"
          ]
        },
        {
          "output_type": "stream",
          "name": "stderr",
          "text": [
            "INFO:tensorflow:Assets written to: /content/drive/My Drive/ECE_209_AS_project_data/UCIHARmodels/LSTM_baseline_0/assets\n"
          ]
        },
        {
          "output_type": "stream",
          "name": "stdout",
          "text": [
            "INFO:tensorflow:Assets written to: /content/drive/My Drive/ECE_209_AS_project_data/UCIHARmodels/LSTM_baseline_0/assets\n"
          ]
        },
        {
          "output_type": "stream",
          "name": "stderr",
          "text": [
            "INFO:tensorflow:Assets written to: /content/drive/My Drive/ECE_209_AS_project_data/UCIHARmodels/LSTM_baseline_0/assets\n"
          ]
        },
        {
          "output_type": "stream",
          "name": "stdout",
          "text": [
            "tf.Tensor(0.91415, shape=(), dtype=float32)\n",
            "INFO:tensorflow:Assets written to: /content/drive/My Drive/ECE_209_AS_project_data/UCIHARmodels/LSTM_baseline_1/assets\n"
          ]
        },
        {
          "output_type": "stream",
          "name": "stderr",
          "text": [
            "INFO:tensorflow:Assets written to: /content/drive/My Drive/ECE_209_AS_project_data/UCIHARmodels/LSTM_baseline_1/assets\n"
          ]
        },
        {
          "output_type": "stream",
          "name": "stdout",
          "text": [
            "INFO:tensorflow:Assets written to: /content/drive/My Drive/ECE_209_AS_project_data/UCIHARmodels/LSTM_baseline_1/assets\n"
          ]
        },
        {
          "output_type": "stream",
          "name": "stderr",
          "text": [
            "INFO:tensorflow:Assets written to: /content/drive/My Drive/ECE_209_AS_project_data/UCIHARmodels/LSTM_baseline_1/assets\n"
          ]
        },
        {
          "output_type": "stream",
          "name": "stdout",
          "text": [
            "INFO:tensorflow:Assets written to: /content/drive/My Drive/ECE_209_AS_project_data/UCIHARmodels/LSTM_baseline_1/assets\n"
          ]
        },
        {
          "output_type": "stream",
          "name": "stderr",
          "text": [
            "INFO:tensorflow:Assets written to: /content/drive/My Drive/ECE_209_AS_project_data/UCIHARmodels/LSTM_baseline_1/assets\n"
          ]
        },
        {
          "output_type": "stream",
          "name": "stdout",
          "text": [
            "INFO:tensorflow:Assets written to: /content/drive/My Drive/ECE_209_AS_project_data/UCIHARmodels/LSTM_baseline_1/assets\n"
          ]
        },
        {
          "output_type": "stream",
          "name": "stderr",
          "text": [
            "INFO:tensorflow:Assets written to: /content/drive/My Drive/ECE_209_AS_project_data/UCIHARmodels/LSTM_baseline_1/assets\n"
          ]
        },
        {
          "output_type": "stream",
          "name": "stdout",
          "text": [
            "INFO:tensorflow:Assets written to: /content/drive/My Drive/ECE_209_AS_project_data/UCIHARmodels/LSTM_baseline_1/assets\n"
          ]
        },
        {
          "output_type": "stream",
          "name": "stderr",
          "text": [
            "INFO:tensorflow:Assets written to: /content/drive/My Drive/ECE_209_AS_project_data/UCIHARmodels/LSTM_baseline_1/assets\n"
          ]
        },
        {
          "output_type": "stream",
          "name": "stdout",
          "text": [
            "INFO:tensorflow:Assets written to: /content/drive/My Drive/ECE_209_AS_project_data/UCIHARmodels/LSTM_baseline_1/assets\n"
          ]
        },
        {
          "output_type": "stream",
          "name": "stderr",
          "text": [
            "INFO:tensorflow:Assets written to: /content/drive/My Drive/ECE_209_AS_project_data/UCIHARmodels/LSTM_baseline_1/assets\n"
          ]
        },
        {
          "output_type": "stream",
          "name": "stdout",
          "text": [
            "INFO:tensorflow:Assets written to: /content/drive/My Drive/ECE_209_AS_project_data/UCIHARmodels/LSTM_baseline_1/assets\n"
          ]
        },
        {
          "output_type": "stream",
          "name": "stderr",
          "text": [
            "INFO:tensorflow:Assets written to: /content/drive/My Drive/ECE_209_AS_project_data/UCIHARmodels/LSTM_baseline_1/assets\n"
          ]
        },
        {
          "output_type": "stream",
          "name": "stdout",
          "text": [
            "INFO:tensorflow:Assets written to: /content/drive/My Drive/ECE_209_AS_project_data/UCIHARmodels/LSTM_baseline_1/assets\n"
          ]
        },
        {
          "output_type": "stream",
          "name": "stderr",
          "text": [
            "INFO:tensorflow:Assets written to: /content/drive/My Drive/ECE_209_AS_project_data/UCIHARmodels/LSTM_baseline_1/assets\n"
          ]
        },
        {
          "output_type": "stream",
          "name": "stdout",
          "text": [
            "INFO:tensorflow:Assets written to: /content/drive/My Drive/ECE_209_AS_project_data/UCIHARmodels/LSTM_baseline_1/assets\n"
          ]
        },
        {
          "output_type": "stream",
          "name": "stderr",
          "text": [
            "INFO:tensorflow:Assets written to: /content/drive/My Drive/ECE_209_AS_project_data/UCIHARmodels/LSTM_baseline_1/assets\n"
          ]
        },
        {
          "output_type": "stream",
          "name": "stdout",
          "text": [
            "INFO:tensorflow:Assets written to: /content/drive/My Drive/ECE_209_AS_project_data/UCIHARmodels/LSTM_baseline_1/assets\n"
          ]
        },
        {
          "output_type": "stream",
          "name": "stderr",
          "text": [
            "INFO:tensorflow:Assets written to: /content/drive/My Drive/ECE_209_AS_project_data/UCIHARmodels/LSTM_baseline_1/assets\n"
          ]
        },
        {
          "output_type": "stream",
          "name": "stdout",
          "text": [
            "INFO:tensorflow:Assets written to: /content/drive/My Drive/ECE_209_AS_project_data/UCIHARmodels/LSTM_baseline_1/assets\n"
          ]
        },
        {
          "output_type": "stream",
          "name": "stderr",
          "text": [
            "INFO:tensorflow:Assets written to: /content/drive/My Drive/ECE_209_AS_project_data/UCIHARmodels/LSTM_baseline_1/assets\n"
          ]
        },
        {
          "output_type": "stream",
          "name": "stdout",
          "text": [
            "INFO:tensorflow:Assets written to: /content/drive/My Drive/ECE_209_AS_project_data/UCIHARmodels/LSTM_baseline_1/assets\n"
          ]
        },
        {
          "output_type": "stream",
          "name": "stderr",
          "text": [
            "INFO:tensorflow:Assets written to: /content/drive/My Drive/ECE_209_AS_project_data/UCIHARmodels/LSTM_baseline_1/assets\n"
          ]
        },
        {
          "output_type": "stream",
          "name": "stdout",
          "text": [
            "INFO:tensorflow:Assets written to: /content/drive/My Drive/ECE_209_AS_project_data/UCIHARmodels/LSTM_baseline_1/assets\n"
          ]
        },
        {
          "output_type": "stream",
          "name": "stderr",
          "text": [
            "INFO:tensorflow:Assets written to: /content/drive/My Drive/ECE_209_AS_project_data/UCIHARmodels/LSTM_baseline_1/assets\n"
          ]
        },
        {
          "output_type": "stream",
          "name": "stdout",
          "text": [
            "INFO:tensorflow:Assets written to: /content/drive/My Drive/ECE_209_AS_project_data/UCIHARmodels/LSTM_baseline_1/assets\n"
          ]
        },
        {
          "output_type": "stream",
          "name": "stderr",
          "text": [
            "INFO:tensorflow:Assets written to: /content/drive/My Drive/ECE_209_AS_project_data/UCIHARmodels/LSTM_baseline_1/assets\n"
          ]
        },
        {
          "output_type": "stream",
          "name": "stdout",
          "text": [
            "INFO:tensorflow:Assets written to: /content/drive/My Drive/ECE_209_AS_project_data/UCIHARmodels/LSTM_baseline_1/assets\n"
          ]
        },
        {
          "output_type": "stream",
          "name": "stderr",
          "text": [
            "INFO:tensorflow:Assets written to: /content/drive/My Drive/ECE_209_AS_project_data/UCIHARmodels/LSTM_baseline_1/assets\n"
          ]
        },
        {
          "output_type": "stream",
          "name": "stdout",
          "text": [
            "INFO:tensorflow:Assets written to: /content/drive/My Drive/ECE_209_AS_project_data/UCIHARmodels/LSTM_baseline_1/assets\n"
          ]
        },
        {
          "output_type": "stream",
          "name": "stderr",
          "text": [
            "INFO:tensorflow:Assets written to: /content/drive/My Drive/ECE_209_AS_project_data/UCIHARmodels/LSTM_baseline_1/assets\n"
          ]
        },
        {
          "output_type": "stream",
          "name": "stdout",
          "text": [
            "INFO:tensorflow:Assets written to: /content/drive/My Drive/ECE_209_AS_project_data/UCIHARmodels/LSTM_baseline_1/assets\n"
          ]
        },
        {
          "output_type": "stream",
          "name": "stderr",
          "text": [
            "INFO:tensorflow:Assets written to: /content/drive/My Drive/ECE_209_AS_project_data/UCIHARmodels/LSTM_baseline_1/assets\n"
          ]
        },
        {
          "output_type": "stream",
          "name": "stdout",
          "text": [
            "INFO:tensorflow:Assets written to: /content/drive/My Drive/ECE_209_AS_project_data/UCIHARmodels/LSTM_baseline_1/assets\n"
          ]
        },
        {
          "output_type": "stream",
          "name": "stderr",
          "text": [
            "INFO:tensorflow:Assets written to: /content/drive/My Drive/ECE_209_AS_project_data/UCIHARmodels/LSTM_baseline_1/assets\n"
          ]
        },
        {
          "output_type": "stream",
          "name": "stdout",
          "text": [
            "INFO:tensorflow:Assets written to: /content/drive/My Drive/ECE_209_AS_project_data/UCIHARmodels/LSTM_baseline_1/assets\n"
          ]
        },
        {
          "output_type": "stream",
          "name": "stderr",
          "text": [
            "INFO:tensorflow:Assets written to: /content/drive/My Drive/ECE_209_AS_project_data/UCIHARmodels/LSTM_baseline_1/assets\n"
          ]
        },
        {
          "output_type": "stream",
          "name": "stdout",
          "text": [
            "INFO:tensorflow:Assets written to: /content/drive/My Drive/ECE_209_AS_project_data/UCIHARmodels/LSTM_baseline_1/assets\n"
          ]
        },
        {
          "output_type": "stream",
          "name": "stderr",
          "text": [
            "INFO:tensorflow:Assets written to: /content/drive/My Drive/ECE_209_AS_project_data/UCIHARmodels/LSTM_baseline_1/assets\n"
          ]
        },
        {
          "output_type": "stream",
          "name": "stdout",
          "text": [
            "INFO:tensorflow:Assets written to: /content/drive/My Drive/ECE_209_AS_project_data/UCIHARmodels/LSTM_baseline_1/assets\n"
          ]
        },
        {
          "output_type": "stream",
          "name": "stderr",
          "text": [
            "INFO:tensorflow:Assets written to: /content/drive/My Drive/ECE_209_AS_project_data/UCIHARmodels/LSTM_baseline_1/assets\n"
          ]
        },
        {
          "output_type": "stream",
          "name": "stdout",
          "text": [
            "INFO:tensorflow:Assets written to: /content/drive/My Drive/ECE_209_AS_project_data/UCIHARmodels/LSTM_baseline_1/assets\n"
          ]
        },
        {
          "output_type": "stream",
          "name": "stderr",
          "text": [
            "INFO:tensorflow:Assets written to: /content/drive/My Drive/ECE_209_AS_project_data/UCIHARmodels/LSTM_baseline_1/assets\n"
          ]
        },
        {
          "output_type": "stream",
          "name": "stdout",
          "text": [
            "INFO:tensorflow:Assets written to: /content/drive/My Drive/ECE_209_AS_project_data/UCIHARmodels/LSTM_baseline_1/assets\n"
          ]
        },
        {
          "output_type": "stream",
          "name": "stderr",
          "text": [
            "INFO:tensorflow:Assets written to: /content/drive/My Drive/ECE_209_AS_project_data/UCIHARmodels/LSTM_baseline_1/assets\n"
          ]
        },
        {
          "output_type": "stream",
          "name": "stdout",
          "text": [
            "INFO:tensorflow:Assets written to: /content/drive/My Drive/ECE_209_AS_project_data/UCIHARmodels/LSTM_baseline_1/assets\n"
          ]
        },
        {
          "output_type": "stream",
          "name": "stderr",
          "text": [
            "INFO:tensorflow:Assets written to: /content/drive/My Drive/ECE_209_AS_project_data/UCIHARmodels/LSTM_baseline_1/assets\n"
          ]
        },
        {
          "output_type": "stream",
          "name": "stdout",
          "text": [
            "INFO:tensorflow:Assets written to: /content/drive/My Drive/ECE_209_AS_project_data/UCIHARmodels/LSTM_baseline_1/assets\n"
          ]
        },
        {
          "output_type": "stream",
          "name": "stderr",
          "text": [
            "INFO:tensorflow:Assets written to: /content/drive/My Drive/ECE_209_AS_project_data/UCIHARmodels/LSTM_baseline_1/assets\n"
          ]
        },
        {
          "output_type": "stream",
          "name": "stdout",
          "text": [
            "tf.Tensor(0.9165253, shape=(), dtype=float32)\n",
            "INFO:tensorflow:Assets written to: /content/drive/My Drive/ECE_209_AS_project_data/UCIHARmodels/LSTM_baseline_2/assets\n"
          ]
        },
        {
          "output_type": "stream",
          "name": "stderr",
          "text": [
            "INFO:tensorflow:Assets written to: /content/drive/My Drive/ECE_209_AS_project_data/UCIHARmodels/LSTM_baseline_2/assets\n"
          ]
        },
        {
          "output_type": "stream",
          "name": "stdout",
          "text": [
            "INFO:tensorflow:Assets written to: /content/drive/My Drive/ECE_209_AS_project_data/UCIHARmodels/LSTM_baseline_2/assets\n"
          ]
        },
        {
          "output_type": "stream",
          "name": "stderr",
          "text": [
            "INFO:tensorflow:Assets written to: /content/drive/My Drive/ECE_209_AS_project_data/UCIHARmodels/LSTM_baseline_2/assets\n"
          ]
        },
        {
          "output_type": "stream",
          "name": "stdout",
          "text": [
            "INFO:tensorflow:Assets written to: /content/drive/My Drive/ECE_209_AS_project_data/UCIHARmodels/LSTM_baseline_2/assets\n"
          ]
        },
        {
          "output_type": "stream",
          "name": "stderr",
          "text": [
            "INFO:tensorflow:Assets written to: /content/drive/My Drive/ECE_209_AS_project_data/UCIHARmodels/LSTM_baseline_2/assets\n"
          ]
        },
        {
          "output_type": "stream",
          "name": "stdout",
          "text": [
            "INFO:tensorflow:Assets written to: /content/drive/My Drive/ECE_209_AS_project_data/UCIHARmodels/LSTM_baseline_2/assets\n"
          ]
        },
        {
          "output_type": "stream",
          "name": "stderr",
          "text": [
            "INFO:tensorflow:Assets written to: /content/drive/My Drive/ECE_209_AS_project_data/UCIHARmodels/LSTM_baseline_2/assets\n"
          ]
        },
        {
          "output_type": "stream",
          "name": "stdout",
          "text": [
            "INFO:tensorflow:Assets written to: /content/drive/My Drive/ECE_209_AS_project_data/UCIHARmodels/LSTM_baseline_2/assets\n"
          ]
        },
        {
          "output_type": "stream",
          "name": "stderr",
          "text": [
            "INFO:tensorflow:Assets written to: /content/drive/My Drive/ECE_209_AS_project_data/UCIHARmodels/LSTM_baseline_2/assets\n"
          ]
        },
        {
          "output_type": "stream",
          "name": "stdout",
          "text": [
            "INFO:tensorflow:Assets written to: /content/drive/My Drive/ECE_209_AS_project_data/UCIHARmodels/LSTM_baseline_2/assets\n"
          ]
        },
        {
          "output_type": "stream",
          "name": "stderr",
          "text": [
            "INFO:tensorflow:Assets written to: /content/drive/My Drive/ECE_209_AS_project_data/UCIHARmodels/LSTM_baseline_2/assets\n"
          ]
        },
        {
          "output_type": "stream",
          "name": "stdout",
          "text": [
            "INFO:tensorflow:Assets written to: /content/drive/My Drive/ECE_209_AS_project_data/UCIHARmodels/LSTM_baseline_2/assets\n"
          ]
        },
        {
          "output_type": "stream",
          "name": "stderr",
          "text": [
            "INFO:tensorflow:Assets written to: /content/drive/My Drive/ECE_209_AS_project_data/UCIHARmodels/LSTM_baseline_2/assets\n"
          ]
        },
        {
          "output_type": "stream",
          "name": "stdout",
          "text": [
            "INFO:tensorflow:Assets written to: /content/drive/My Drive/ECE_209_AS_project_data/UCIHARmodels/LSTM_baseline_2/assets\n"
          ]
        },
        {
          "output_type": "stream",
          "name": "stderr",
          "text": [
            "INFO:tensorflow:Assets written to: /content/drive/My Drive/ECE_209_AS_project_data/UCIHARmodels/LSTM_baseline_2/assets\n"
          ]
        },
        {
          "output_type": "stream",
          "name": "stdout",
          "text": [
            "INFO:tensorflow:Assets written to: /content/drive/My Drive/ECE_209_AS_project_data/UCIHARmodels/LSTM_baseline_2/assets\n"
          ]
        },
        {
          "output_type": "stream",
          "name": "stderr",
          "text": [
            "INFO:tensorflow:Assets written to: /content/drive/My Drive/ECE_209_AS_project_data/UCIHARmodels/LSTM_baseline_2/assets\n"
          ]
        },
        {
          "output_type": "stream",
          "name": "stdout",
          "text": [
            "INFO:tensorflow:Assets written to: /content/drive/My Drive/ECE_209_AS_project_data/UCIHARmodels/LSTM_baseline_2/assets\n"
          ]
        },
        {
          "output_type": "stream",
          "name": "stderr",
          "text": [
            "INFO:tensorflow:Assets written to: /content/drive/My Drive/ECE_209_AS_project_data/UCIHARmodels/LSTM_baseline_2/assets\n"
          ]
        },
        {
          "output_type": "stream",
          "name": "stdout",
          "text": [
            "INFO:tensorflow:Assets written to: /content/drive/My Drive/ECE_209_AS_project_data/UCIHARmodels/LSTM_baseline_2/assets\n"
          ]
        },
        {
          "output_type": "stream",
          "name": "stderr",
          "text": [
            "INFO:tensorflow:Assets written to: /content/drive/My Drive/ECE_209_AS_project_data/UCIHARmodels/LSTM_baseline_2/assets\n"
          ]
        },
        {
          "output_type": "stream",
          "name": "stdout",
          "text": [
            "INFO:tensorflow:Assets written to: /content/drive/My Drive/ECE_209_AS_project_data/UCIHARmodels/LSTM_baseline_2/assets\n"
          ]
        },
        {
          "output_type": "stream",
          "name": "stderr",
          "text": [
            "INFO:tensorflow:Assets written to: /content/drive/My Drive/ECE_209_AS_project_data/UCIHARmodels/LSTM_baseline_2/assets\n"
          ]
        },
        {
          "output_type": "stream",
          "name": "stdout",
          "text": [
            "INFO:tensorflow:Assets written to: /content/drive/My Drive/ECE_209_AS_project_data/UCIHARmodels/LSTM_baseline_2/assets\n"
          ]
        },
        {
          "output_type": "stream",
          "name": "stderr",
          "text": [
            "INFO:tensorflow:Assets written to: /content/drive/My Drive/ECE_209_AS_project_data/UCIHARmodels/LSTM_baseline_2/assets\n"
          ]
        },
        {
          "output_type": "stream",
          "name": "stdout",
          "text": [
            "INFO:tensorflow:Assets written to: /content/drive/My Drive/ECE_209_AS_project_data/UCIHARmodels/LSTM_baseline_2/assets\n"
          ]
        },
        {
          "output_type": "stream",
          "name": "stderr",
          "text": [
            "INFO:tensorflow:Assets written to: /content/drive/My Drive/ECE_209_AS_project_data/UCIHARmodels/LSTM_baseline_2/assets\n"
          ]
        },
        {
          "output_type": "stream",
          "name": "stdout",
          "text": [
            "INFO:tensorflow:Assets written to: /content/drive/My Drive/ECE_209_AS_project_data/UCIHARmodels/LSTM_baseline_2/assets\n"
          ]
        },
        {
          "output_type": "stream",
          "name": "stderr",
          "text": [
            "INFO:tensorflow:Assets written to: /content/drive/My Drive/ECE_209_AS_project_data/UCIHARmodels/LSTM_baseline_2/assets\n"
          ]
        },
        {
          "output_type": "stream",
          "name": "stdout",
          "text": [
            "INFO:tensorflow:Assets written to: /content/drive/My Drive/ECE_209_AS_project_data/UCIHARmodels/LSTM_baseline_2/assets\n"
          ]
        },
        {
          "output_type": "stream",
          "name": "stderr",
          "text": [
            "INFO:tensorflow:Assets written to: /content/drive/My Drive/ECE_209_AS_project_data/UCIHARmodels/LSTM_baseline_2/assets\n"
          ]
        },
        {
          "output_type": "stream",
          "name": "stdout",
          "text": [
            "INFO:tensorflow:Assets written to: /content/drive/My Drive/ECE_209_AS_project_data/UCIHARmodels/LSTM_baseline_2/assets\n"
          ]
        },
        {
          "output_type": "stream",
          "name": "stderr",
          "text": [
            "INFO:tensorflow:Assets written to: /content/drive/My Drive/ECE_209_AS_project_data/UCIHARmodels/LSTM_baseline_2/assets\n"
          ]
        },
        {
          "output_type": "stream",
          "name": "stdout",
          "text": [
            "INFO:tensorflow:Assets written to: /content/drive/My Drive/ECE_209_AS_project_data/UCIHARmodels/LSTM_baseline_2/assets\n"
          ]
        },
        {
          "output_type": "stream",
          "name": "stderr",
          "text": [
            "INFO:tensorflow:Assets written to: /content/drive/My Drive/ECE_209_AS_project_data/UCIHARmodels/LSTM_baseline_2/assets\n"
          ]
        },
        {
          "output_type": "stream",
          "name": "stdout",
          "text": [
            "INFO:tensorflow:Assets written to: /content/drive/My Drive/ECE_209_AS_project_data/UCIHARmodels/LSTM_baseline_2/assets\n"
          ]
        },
        {
          "output_type": "stream",
          "name": "stderr",
          "text": [
            "INFO:tensorflow:Assets written to: /content/drive/My Drive/ECE_209_AS_project_data/UCIHARmodels/LSTM_baseline_2/assets\n"
          ]
        },
        {
          "output_type": "stream",
          "name": "stdout",
          "text": [
            "INFO:tensorflow:Assets written to: /content/drive/My Drive/ECE_209_AS_project_data/UCIHARmodels/LSTM_baseline_2/assets\n"
          ]
        },
        {
          "output_type": "stream",
          "name": "stderr",
          "text": [
            "INFO:tensorflow:Assets written to: /content/drive/My Drive/ECE_209_AS_project_data/UCIHARmodels/LSTM_baseline_2/assets\n"
          ]
        },
        {
          "output_type": "stream",
          "name": "stdout",
          "text": [
            "INFO:tensorflow:Assets written to: /content/drive/My Drive/ECE_209_AS_project_data/UCIHARmodels/LSTM_baseline_2/assets\n"
          ]
        },
        {
          "output_type": "stream",
          "name": "stderr",
          "text": [
            "INFO:tensorflow:Assets written to: /content/drive/My Drive/ECE_209_AS_project_data/UCIHARmodels/LSTM_baseline_2/assets\n"
          ]
        },
        {
          "output_type": "stream",
          "name": "stdout",
          "text": [
            "INFO:tensorflow:Assets written to: /content/drive/My Drive/ECE_209_AS_project_data/UCIHARmodels/LSTM_baseline_2/assets\n"
          ]
        },
        {
          "output_type": "stream",
          "name": "stderr",
          "text": [
            "INFO:tensorflow:Assets written to: /content/drive/My Drive/ECE_209_AS_project_data/UCIHARmodels/LSTM_baseline_2/assets\n"
          ]
        },
        {
          "output_type": "stream",
          "name": "stdout",
          "text": [
            "INFO:tensorflow:Assets written to: /content/drive/My Drive/ECE_209_AS_project_data/UCIHARmodels/LSTM_baseline_2/assets\n"
          ]
        },
        {
          "output_type": "stream",
          "name": "stderr",
          "text": [
            "INFO:tensorflow:Assets written to: /content/drive/My Drive/ECE_209_AS_project_data/UCIHARmodels/LSTM_baseline_2/assets\n"
          ]
        },
        {
          "output_type": "stream",
          "name": "stdout",
          "text": [
            "INFO:tensorflow:Assets written to: /content/drive/My Drive/ECE_209_AS_project_data/UCIHARmodels/LSTM_baseline_2/assets\n"
          ]
        },
        {
          "output_type": "stream",
          "name": "stderr",
          "text": [
            "INFO:tensorflow:Assets written to: /content/drive/My Drive/ECE_209_AS_project_data/UCIHARmodels/LSTM_baseline_2/assets\n"
          ]
        },
        {
          "output_type": "stream",
          "name": "stdout",
          "text": [
            "INFO:tensorflow:Assets written to: /content/drive/My Drive/ECE_209_AS_project_data/UCIHARmodels/LSTM_baseline_2/assets\n"
          ]
        },
        {
          "output_type": "stream",
          "name": "stderr",
          "text": [
            "INFO:tensorflow:Assets written to: /content/drive/My Drive/ECE_209_AS_project_data/UCIHARmodels/LSTM_baseline_2/assets\n"
          ]
        },
        {
          "output_type": "stream",
          "name": "stdout",
          "text": [
            "tf.Tensor(0.92127585, shape=(), dtype=float32)\n",
            "INFO:tensorflow:Assets written to: /content/drive/My Drive/ECE_209_AS_project_data/UCIHARmodels/LSTM_baseline_3/assets\n"
          ]
        },
        {
          "output_type": "stream",
          "name": "stderr",
          "text": [
            "INFO:tensorflow:Assets written to: /content/drive/My Drive/ECE_209_AS_project_data/UCIHARmodels/LSTM_baseline_3/assets\n"
          ]
        },
        {
          "output_type": "stream",
          "name": "stdout",
          "text": [
            "INFO:tensorflow:Assets written to: /content/drive/My Drive/ECE_209_AS_project_data/UCIHARmodels/LSTM_baseline_3/assets\n"
          ]
        },
        {
          "output_type": "stream",
          "name": "stderr",
          "text": [
            "INFO:tensorflow:Assets written to: /content/drive/My Drive/ECE_209_AS_project_data/UCIHARmodels/LSTM_baseline_3/assets\n"
          ]
        },
        {
          "output_type": "stream",
          "name": "stdout",
          "text": [
            "INFO:tensorflow:Assets written to: /content/drive/My Drive/ECE_209_AS_project_data/UCIHARmodels/LSTM_baseline_3/assets\n"
          ]
        },
        {
          "output_type": "stream",
          "name": "stderr",
          "text": [
            "INFO:tensorflow:Assets written to: /content/drive/My Drive/ECE_209_AS_project_data/UCIHARmodels/LSTM_baseline_3/assets\n"
          ]
        },
        {
          "output_type": "stream",
          "name": "stdout",
          "text": [
            "INFO:tensorflow:Assets written to: /content/drive/My Drive/ECE_209_AS_project_data/UCIHARmodels/LSTM_baseline_3/assets\n"
          ]
        },
        {
          "output_type": "stream",
          "name": "stderr",
          "text": [
            "INFO:tensorflow:Assets written to: /content/drive/My Drive/ECE_209_AS_project_data/UCIHARmodels/LSTM_baseline_3/assets\n"
          ]
        },
        {
          "output_type": "stream",
          "name": "stdout",
          "text": [
            "INFO:tensorflow:Assets written to: /content/drive/My Drive/ECE_209_AS_project_data/UCIHARmodels/LSTM_baseline_3/assets\n"
          ]
        },
        {
          "output_type": "stream",
          "name": "stderr",
          "text": [
            "INFO:tensorflow:Assets written to: /content/drive/My Drive/ECE_209_AS_project_data/UCIHARmodels/LSTM_baseline_3/assets\n"
          ]
        },
        {
          "output_type": "stream",
          "name": "stdout",
          "text": [
            "INFO:tensorflow:Assets written to: /content/drive/My Drive/ECE_209_AS_project_data/UCIHARmodels/LSTM_baseline_3/assets\n"
          ]
        },
        {
          "output_type": "stream",
          "name": "stderr",
          "text": [
            "INFO:tensorflow:Assets written to: /content/drive/My Drive/ECE_209_AS_project_data/UCIHARmodels/LSTM_baseline_3/assets\n"
          ]
        },
        {
          "output_type": "stream",
          "name": "stdout",
          "text": [
            "INFO:tensorflow:Assets written to: /content/drive/My Drive/ECE_209_AS_project_data/UCIHARmodels/LSTM_baseline_3/assets\n"
          ]
        },
        {
          "output_type": "stream",
          "name": "stderr",
          "text": [
            "INFO:tensorflow:Assets written to: /content/drive/My Drive/ECE_209_AS_project_data/UCIHARmodels/LSTM_baseline_3/assets\n"
          ]
        },
        {
          "output_type": "stream",
          "name": "stdout",
          "text": [
            "INFO:tensorflow:Assets written to: /content/drive/My Drive/ECE_209_AS_project_data/UCIHARmodels/LSTM_baseline_3/assets\n"
          ]
        },
        {
          "output_type": "stream",
          "name": "stderr",
          "text": [
            "INFO:tensorflow:Assets written to: /content/drive/My Drive/ECE_209_AS_project_data/UCIHARmodels/LSTM_baseline_3/assets\n"
          ]
        },
        {
          "output_type": "stream",
          "name": "stdout",
          "text": [
            "INFO:tensorflow:Assets written to: /content/drive/My Drive/ECE_209_AS_project_data/UCIHARmodels/LSTM_baseline_3/assets\n"
          ]
        },
        {
          "output_type": "stream",
          "name": "stderr",
          "text": [
            "INFO:tensorflow:Assets written to: /content/drive/My Drive/ECE_209_AS_project_data/UCIHARmodels/LSTM_baseline_3/assets\n"
          ]
        },
        {
          "output_type": "stream",
          "name": "stdout",
          "text": [
            "INFO:tensorflow:Assets written to: /content/drive/My Drive/ECE_209_AS_project_data/UCIHARmodels/LSTM_baseline_3/assets\n"
          ]
        },
        {
          "output_type": "stream",
          "name": "stderr",
          "text": [
            "INFO:tensorflow:Assets written to: /content/drive/My Drive/ECE_209_AS_project_data/UCIHARmodels/LSTM_baseline_3/assets\n"
          ]
        },
        {
          "output_type": "stream",
          "name": "stdout",
          "text": [
            "INFO:tensorflow:Assets written to: /content/drive/My Drive/ECE_209_AS_project_data/UCIHARmodels/LSTM_baseline_3/assets\n"
          ]
        },
        {
          "output_type": "stream",
          "name": "stderr",
          "text": [
            "INFO:tensorflow:Assets written to: /content/drive/My Drive/ECE_209_AS_project_data/UCIHARmodels/LSTM_baseline_3/assets\n"
          ]
        },
        {
          "output_type": "stream",
          "name": "stdout",
          "text": [
            "INFO:tensorflow:Assets written to: /content/drive/My Drive/ECE_209_AS_project_data/UCIHARmodels/LSTM_baseline_3/assets\n"
          ]
        },
        {
          "output_type": "stream",
          "name": "stderr",
          "text": [
            "INFO:tensorflow:Assets written to: /content/drive/My Drive/ECE_209_AS_project_data/UCIHARmodels/LSTM_baseline_3/assets\n"
          ]
        },
        {
          "output_type": "stream",
          "name": "stdout",
          "text": [
            "INFO:tensorflow:Assets written to: /content/drive/My Drive/ECE_209_AS_project_data/UCIHARmodels/LSTM_baseline_3/assets\n"
          ]
        },
        {
          "output_type": "stream",
          "name": "stderr",
          "text": [
            "INFO:tensorflow:Assets written to: /content/drive/My Drive/ECE_209_AS_project_data/UCIHARmodels/LSTM_baseline_3/assets\n"
          ]
        },
        {
          "output_type": "stream",
          "name": "stdout",
          "text": [
            "INFO:tensorflow:Assets written to: /content/drive/My Drive/ECE_209_AS_project_data/UCIHARmodels/LSTM_baseline_3/assets\n"
          ]
        },
        {
          "output_type": "stream",
          "name": "stderr",
          "text": [
            "INFO:tensorflow:Assets written to: /content/drive/My Drive/ECE_209_AS_project_data/UCIHARmodels/LSTM_baseline_3/assets\n"
          ]
        },
        {
          "output_type": "stream",
          "name": "stdout",
          "text": [
            "INFO:tensorflow:Assets written to: /content/drive/My Drive/ECE_209_AS_project_data/UCIHARmodels/LSTM_baseline_3/assets\n"
          ]
        },
        {
          "output_type": "stream",
          "name": "stderr",
          "text": [
            "INFO:tensorflow:Assets written to: /content/drive/My Drive/ECE_209_AS_project_data/UCIHARmodels/LSTM_baseline_3/assets\n"
          ]
        },
        {
          "output_type": "stream",
          "name": "stdout",
          "text": [
            "INFO:tensorflow:Assets written to: /content/drive/My Drive/ECE_209_AS_project_data/UCIHARmodels/LSTM_baseline_3/assets\n"
          ]
        },
        {
          "output_type": "stream",
          "name": "stderr",
          "text": [
            "INFO:tensorflow:Assets written to: /content/drive/My Drive/ECE_209_AS_project_data/UCIHARmodels/LSTM_baseline_3/assets\n"
          ]
        },
        {
          "output_type": "stream",
          "name": "stdout",
          "text": [
            "INFO:tensorflow:Assets written to: /content/drive/My Drive/ECE_209_AS_project_data/UCIHARmodels/LSTM_baseline_3/assets\n"
          ]
        },
        {
          "output_type": "stream",
          "name": "stderr",
          "text": [
            "INFO:tensorflow:Assets written to: /content/drive/My Drive/ECE_209_AS_project_data/UCIHARmodels/LSTM_baseline_3/assets\n"
          ]
        },
        {
          "output_type": "stream",
          "name": "stdout",
          "text": [
            "INFO:tensorflow:Assets written to: /content/drive/My Drive/ECE_209_AS_project_data/UCIHARmodels/LSTM_baseline_3/assets\n"
          ]
        },
        {
          "output_type": "stream",
          "name": "stderr",
          "text": [
            "INFO:tensorflow:Assets written to: /content/drive/My Drive/ECE_209_AS_project_data/UCIHARmodels/LSTM_baseline_3/assets\n"
          ]
        },
        {
          "output_type": "stream",
          "name": "stdout",
          "text": [
            "INFO:tensorflow:Assets written to: /content/drive/My Drive/ECE_209_AS_project_data/UCIHARmodels/LSTM_baseline_3/assets\n"
          ]
        },
        {
          "output_type": "stream",
          "name": "stderr",
          "text": [
            "INFO:tensorflow:Assets written to: /content/drive/My Drive/ECE_209_AS_project_data/UCIHARmodels/LSTM_baseline_3/assets\n"
          ]
        },
        {
          "output_type": "stream",
          "name": "stdout",
          "text": [
            "INFO:tensorflow:Assets written to: /content/drive/My Drive/ECE_209_AS_project_data/UCIHARmodels/LSTM_baseline_3/assets\n"
          ]
        },
        {
          "output_type": "stream",
          "name": "stderr",
          "text": [
            "INFO:tensorflow:Assets written to: /content/drive/My Drive/ECE_209_AS_project_data/UCIHARmodels/LSTM_baseline_3/assets\n"
          ]
        },
        {
          "output_type": "stream",
          "name": "stdout",
          "text": [
            "INFO:tensorflow:Assets written to: /content/drive/My Drive/ECE_209_AS_project_data/UCIHARmodels/LSTM_baseline_3/assets\n"
          ]
        },
        {
          "output_type": "stream",
          "name": "stderr",
          "text": [
            "INFO:tensorflow:Assets written to: /content/drive/My Drive/ECE_209_AS_project_data/UCIHARmodels/LSTM_baseline_3/assets\n"
          ]
        },
        {
          "output_type": "stream",
          "name": "stdout",
          "text": [
            "INFO:tensorflow:Assets written to: /content/drive/My Drive/ECE_209_AS_project_data/UCIHARmodels/LSTM_baseline_3/assets\n"
          ]
        },
        {
          "output_type": "stream",
          "name": "stderr",
          "text": [
            "INFO:tensorflow:Assets written to: /content/drive/My Drive/ECE_209_AS_project_data/UCIHARmodels/LSTM_baseline_3/assets\n"
          ]
        },
        {
          "output_type": "stream",
          "name": "stdout",
          "text": [
            "INFO:tensorflow:Assets written to: /content/drive/My Drive/ECE_209_AS_project_data/UCIHARmodels/LSTM_baseline_3/assets\n"
          ]
        },
        {
          "output_type": "stream",
          "name": "stderr",
          "text": [
            "INFO:tensorflow:Assets written to: /content/drive/My Drive/ECE_209_AS_project_data/UCIHARmodels/LSTM_baseline_3/assets\n"
          ]
        },
        {
          "output_type": "stream",
          "name": "stdout",
          "text": [
            "INFO:tensorflow:Assets written to: /content/drive/My Drive/ECE_209_AS_project_data/UCIHARmodels/LSTM_baseline_3/assets\n"
          ]
        },
        {
          "output_type": "stream",
          "name": "stderr",
          "text": [
            "INFO:tensorflow:Assets written to: /content/drive/My Drive/ECE_209_AS_project_data/UCIHARmodels/LSTM_baseline_3/assets\n"
          ]
        },
        {
          "output_type": "stream",
          "name": "stdout",
          "text": [
            "INFO:tensorflow:Assets written to: /content/drive/My Drive/ECE_209_AS_project_data/UCIHARmodels/LSTM_baseline_3/assets\n"
          ]
        },
        {
          "output_type": "stream",
          "name": "stderr",
          "text": [
            "INFO:tensorflow:Assets written to: /content/drive/My Drive/ECE_209_AS_project_data/UCIHARmodels/LSTM_baseline_3/assets\n"
          ]
        },
        {
          "output_type": "stream",
          "name": "stdout",
          "text": [
            "tf.Tensor(0.93145573, shape=(), dtype=float32)\n",
            "INFO:tensorflow:Assets written to: /content/drive/My Drive/ECE_209_AS_project_data/UCIHARmodels/LSTM_baseline_4/assets\n"
          ]
        },
        {
          "output_type": "stream",
          "name": "stderr",
          "text": [
            "INFO:tensorflow:Assets written to: /content/drive/My Drive/ECE_209_AS_project_data/UCIHARmodels/LSTM_baseline_4/assets\n"
          ]
        },
        {
          "output_type": "stream",
          "name": "stdout",
          "text": [
            "INFO:tensorflow:Assets written to: /content/drive/My Drive/ECE_209_AS_project_data/UCIHARmodels/LSTM_baseline_4/assets\n"
          ]
        },
        {
          "output_type": "stream",
          "name": "stderr",
          "text": [
            "INFO:tensorflow:Assets written to: /content/drive/My Drive/ECE_209_AS_project_data/UCIHARmodels/LSTM_baseline_4/assets\n"
          ]
        },
        {
          "output_type": "stream",
          "name": "stdout",
          "text": [
            "INFO:tensorflow:Assets written to: /content/drive/My Drive/ECE_209_AS_project_data/UCIHARmodels/LSTM_baseline_4/assets\n"
          ]
        },
        {
          "output_type": "stream",
          "name": "stderr",
          "text": [
            "INFO:tensorflow:Assets written to: /content/drive/My Drive/ECE_209_AS_project_data/UCIHARmodels/LSTM_baseline_4/assets\n"
          ]
        },
        {
          "output_type": "stream",
          "name": "stdout",
          "text": [
            "INFO:tensorflow:Assets written to: /content/drive/My Drive/ECE_209_AS_project_data/UCIHARmodels/LSTM_baseline_4/assets\n"
          ]
        },
        {
          "output_type": "stream",
          "name": "stderr",
          "text": [
            "INFO:tensorflow:Assets written to: /content/drive/My Drive/ECE_209_AS_project_data/UCIHARmodels/LSTM_baseline_4/assets\n"
          ]
        },
        {
          "output_type": "stream",
          "name": "stdout",
          "text": [
            "INFO:tensorflow:Assets written to: /content/drive/My Drive/ECE_209_AS_project_data/UCIHARmodels/LSTM_baseline_4/assets\n"
          ]
        },
        {
          "output_type": "stream",
          "name": "stderr",
          "text": [
            "INFO:tensorflow:Assets written to: /content/drive/My Drive/ECE_209_AS_project_data/UCIHARmodels/LSTM_baseline_4/assets\n"
          ]
        },
        {
          "output_type": "stream",
          "name": "stdout",
          "text": [
            "INFO:tensorflow:Assets written to: /content/drive/My Drive/ECE_209_AS_project_data/UCIHARmodels/LSTM_baseline_4/assets\n"
          ]
        },
        {
          "output_type": "stream",
          "name": "stderr",
          "text": [
            "INFO:tensorflow:Assets written to: /content/drive/My Drive/ECE_209_AS_project_data/UCIHARmodels/LSTM_baseline_4/assets\n"
          ]
        },
        {
          "output_type": "stream",
          "name": "stdout",
          "text": [
            "INFO:tensorflow:Assets written to: /content/drive/My Drive/ECE_209_AS_project_data/UCIHARmodels/LSTM_baseline_4/assets\n"
          ]
        },
        {
          "output_type": "stream",
          "name": "stderr",
          "text": [
            "INFO:tensorflow:Assets written to: /content/drive/My Drive/ECE_209_AS_project_data/UCIHARmodels/LSTM_baseline_4/assets\n"
          ]
        },
        {
          "output_type": "stream",
          "name": "stdout",
          "text": [
            "INFO:tensorflow:Assets written to: /content/drive/My Drive/ECE_209_AS_project_data/UCIHARmodels/LSTM_baseline_4/assets\n"
          ]
        },
        {
          "output_type": "stream",
          "name": "stderr",
          "text": [
            "INFO:tensorflow:Assets written to: /content/drive/My Drive/ECE_209_AS_project_data/UCIHARmodels/LSTM_baseline_4/assets\n"
          ]
        },
        {
          "output_type": "stream",
          "name": "stdout",
          "text": [
            "INFO:tensorflow:Assets written to: /content/drive/My Drive/ECE_209_AS_project_data/UCIHARmodels/LSTM_baseline_4/assets\n"
          ]
        },
        {
          "output_type": "stream",
          "name": "stderr",
          "text": [
            "INFO:tensorflow:Assets written to: /content/drive/My Drive/ECE_209_AS_project_data/UCIHARmodels/LSTM_baseline_4/assets\n"
          ]
        },
        {
          "output_type": "stream",
          "name": "stdout",
          "text": [
            "INFO:tensorflow:Assets written to: /content/drive/My Drive/ECE_209_AS_project_data/UCIHARmodels/LSTM_baseline_4/assets\n"
          ]
        },
        {
          "output_type": "stream",
          "name": "stderr",
          "text": [
            "INFO:tensorflow:Assets written to: /content/drive/My Drive/ECE_209_AS_project_data/UCIHARmodels/LSTM_baseline_4/assets\n"
          ]
        },
        {
          "output_type": "stream",
          "name": "stdout",
          "text": [
            "INFO:tensorflow:Assets written to: /content/drive/My Drive/ECE_209_AS_project_data/UCIHARmodels/LSTM_baseline_4/assets\n"
          ]
        },
        {
          "output_type": "stream",
          "name": "stderr",
          "text": [
            "INFO:tensorflow:Assets written to: /content/drive/My Drive/ECE_209_AS_project_data/UCIHARmodels/LSTM_baseline_4/assets\n"
          ]
        },
        {
          "output_type": "stream",
          "name": "stdout",
          "text": [
            "INFO:tensorflow:Assets written to: /content/drive/My Drive/ECE_209_AS_project_data/UCIHARmodels/LSTM_baseline_4/assets\n"
          ]
        },
        {
          "output_type": "stream",
          "name": "stderr",
          "text": [
            "INFO:tensorflow:Assets written to: /content/drive/My Drive/ECE_209_AS_project_data/UCIHARmodels/LSTM_baseline_4/assets\n"
          ]
        },
        {
          "output_type": "stream",
          "name": "stdout",
          "text": [
            "INFO:tensorflow:Assets written to: /content/drive/My Drive/ECE_209_AS_project_data/UCIHARmodels/LSTM_baseline_4/assets\n"
          ]
        },
        {
          "output_type": "stream",
          "name": "stderr",
          "text": [
            "INFO:tensorflow:Assets written to: /content/drive/My Drive/ECE_209_AS_project_data/UCIHARmodels/LSTM_baseline_4/assets\n"
          ]
        },
        {
          "output_type": "stream",
          "name": "stdout",
          "text": [
            "INFO:tensorflow:Assets written to: /content/drive/My Drive/ECE_209_AS_project_data/UCIHARmodels/LSTM_baseline_4/assets\n"
          ]
        },
        {
          "output_type": "stream",
          "name": "stderr",
          "text": [
            "INFO:tensorflow:Assets written to: /content/drive/My Drive/ECE_209_AS_project_data/UCIHARmodels/LSTM_baseline_4/assets\n"
          ]
        },
        {
          "output_type": "stream",
          "name": "stdout",
          "text": [
            "INFO:tensorflow:Assets written to: /content/drive/My Drive/ECE_209_AS_project_data/UCIHARmodels/LSTM_baseline_4/assets\n"
          ]
        },
        {
          "output_type": "stream",
          "name": "stderr",
          "text": [
            "INFO:tensorflow:Assets written to: /content/drive/My Drive/ECE_209_AS_project_data/UCIHARmodels/LSTM_baseline_4/assets\n"
          ]
        },
        {
          "output_type": "stream",
          "name": "stdout",
          "text": [
            "INFO:tensorflow:Assets written to: /content/drive/My Drive/ECE_209_AS_project_data/UCIHARmodels/LSTM_baseline_4/assets\n"
          ]
        },
        {
          "output_type": "stream",
          "name": "stderr",
          "text": [
            "INFO:tensorflow:Assets written to: /content/drive/My Drive/ECE_209_AS_project_data/UCIHARmodels/LSTM_baseline_4/assets\n"
          ]
        },
        {
          "output_type": "stream",
          "name": "stdout",
          "text": [
            "INFO:tensorflow:Assets written to: /content/drive/My Drive/ECE_209_AS_project_data/UCIHARmodels/LSTM_baseline_4/assets\n"
          ]
        },
        {
          "output_type": "stream",
          "name": "stderr",
          "text": [
            "INFO:tensorflow:Assets written to: /content/drive/My Drive/ECE_209_AS_project_data/UCIHARmodels/LSTM_baseline_4/assets\n"
          ]
        },
        {
          "output_type": "stream",
          "name": "stdout",
          "text": [
            "INFO:tensorflow:Assets written to: /content/drive/My Drive/ECE_209_AS_project_data/UCIHARmodels/LSTM_baseline_4/assets\n"
          ]
        },
        {
          "output_type": "stream",
          "name": "stderr",
          "text": [
            "INFO:tensorflow:Assets written to: /content/drive/My Drive/ECE_209_AS_project_data/UCIHARmodels/LSTM_baseline_4/assets\n"
          ]
        },
        {
          "output_type": "stream",
          "name": "stdout",
          "text": [
            "INFO:tensorflow:Assets written to: /content/drive/My Drive/ECE_209_AS_project_data/UCIHARmodels/LSTM_baseline_4/assets\n"
          ]
        },
        {
          "output_type": "stream",
          "name": "stderr",
          "text": [
            "INFO:tensorflow:Assets written to: /content/drive/My Drive/ECE_209_AS_project_data/UCIHARmodels/LSTM_baseline_4/assets\n"
          ]
        },
        {
          "output_type": "stream",
          "name": "stdout",
          "text": [
            "INFO:tensorflow:Assets written to: /content/drive/My Drive/ECE_209_AS_project_data/UCIHARmodels/LSTM_baseline_4/assets\n"
          ]
        },
        {
          "output_type": "stream",
          "name": "stderr",
          "text": [
            "INFO:tensorflow:Assets written to: /content/drive/My Drive/ECE_209_AS_project_data/UCIHARmodels/LSTM_baseline_4/assets\n"
          ]
        },
        {
          "output_type": "stream",
          "name": "stdout",
          "text": [
            "INFO:tensorflow:Assets written to: /content/drive/My Drive/ECE_209_AS_project_data/UCIHARmodels/LSTM_baseline_4/assets\n"
          ]
        },
        {
          "output_type": "stream",
          "name": "stderr",
          "text": [
            "INFO:tensorflow:Assets written to: /content/drive/My Drive/ECE_209_AS_project_data/UCIHARmodels/LSTM_baseline_4/assets\n"
          ]
        },
        {
          "output_type": "stream",
          "name": "stdout",
          "text": [
            "INFO:tensorflow:Assets written to: /content/drive/My Drive/ECE_209_AS_project_data/UCIHARmodels/LSTM_baseline_4/assets\n"
          ]
        },
        {
          "output_type": "stream",
          "name": "stderr",
          "text": [
            "INFO:tensorflow:Assets written to: /content/drive/My Drive/ECE_209_AS_project_data/UCIHARmodels/LSTM_baseline_4/assets\n"
          ]
        },
        {
          "output_type": "stream",
          "name": "stdout",
          "text": [
            "INFO:tensorflow:Assets written to: /content/drive/My Drive/ECE_209_AS_project_data/UCIHARmodels/LSTM_baseline_4/assets\n"
          ]
        },
        {
          "output_type": "stream",
          "name": "stderr",
          "text": [
            "INFO:tensorflow:Assets written to: /content/drive/My Drive/ECE_209_AS_project_data/UCIHARmodels/LSTM_baseline_4/assets\n"
          ]
        },
        {
          "output_type": "stream",
          "name": "stdout",
          "text": [
            "INFO:tensorflow:Assets written to: /content/drive/My Drive/ECE_209_AS_project_data/UCIHARmodels/LSTM_baseline_4/assets\n"
          ]
        },
        {
          "output_type": "stream",
          "name": "stderr",
          "text": [
            "INFO:tensorflow:Assets written to: /content/drive/My Drive/ECE_209_AS_project_data/UCIHARmodels/LSTM_baseline_4/assets\n"
          ]
        },
        {
          "output_type": "stream",
          "name": "stdout",
          "text": [
            "INFO:tensorflow:Assets written to: /content/drive/My Drive/ECE_209_AS_project_data/UCIHARmodels/LSTM_baseline_4/assets\n"
          ]
        },
        {
          "output_type": "stream",
          "name": "stderr",
          "text": [
            "INFO:tensorflow:Assets written to: /content/drive/My Drive/ECE_209_AS_project_data/UCIHARmodels/LSTM_baseline_4/assets\n"
          ]
        },
        {
          "output_type": "stream",
          "name": "stdout",
          "text": [
            "tf.Tensor(0.90770274, shape=(), dtype=float32)\n"
          ]
        }
      ]
    },
    {
      "cell_type": "code",
      "source": [
        "# Print Average Total Accuracy \n",
        "sum_ac = 0\n",
        "\n",
        "for ac in test_accuracies:\n",
        "\n",
        "  sum_ac += ac.numpy()\n",
        "\n",
        "print(f\"Mean accuracy is {sum_ac/len(test_accuracies)}\")"
      ],
      "metadata": {
        "colab": {
          "base_uri": "https://localhost:8080/"
        },
        "id": "X1xeEESK9enG",
        "outputId": "88f946cf-441f-4bd6-86b3-8d3c3f07fae0"
      },
      "id": "X1xeEESK9enG",
      "execution_count": null,
      "outputs": [
        {
          "output_type": "stream",
          "name": "stdout",
          "text": [
            "Mean accuracy is 0.9182219266891479\n"
          ]
        }
      ]
    },
    {
      "cell_type": "code",
      "source": [
        "mean_recall_scores  = sum(recall_scores)/len(recall_scores)\n",
        "\n",
        "for i in range(len(mean_recall_scores)):\n",
        "\n",
        "  print(f\"Label {data_class_names[i]} has mean accuracy {mean_recall_scores[i]}\")"
      ],
      "metadata": {
        "colab": {
          "base_uri": "https://localhost:8080/"
        },
        "id": "O2V1B9eS-7yj",
        "outputId": "44839a2a-4eca-4a25-df50-a6bd485efa76"
      },
      "id": "O2V1B9eS-7yj",
      "execution_count": null,
      "outputs": [
        {
          "output_type": "stream",
          "name": "stdout",
          "text": [
            "Label Walking has mean accuracy 0.9370967741935484\n",
            "Label Stairs-Up has mean accuracy 0.9562632696390658\n",
            "Label Stairs-Down has mean accuracy 0.9942857142857143\n",
            "Label Sitting has mean accuracy 0.8061099796334013\n",
            "Label Standing has mean accuracy 0.8278195488721805\n",
            "Label Lying has mean accuracy 1.0\n"
          ]
        }
      ]
    },
    {
      "cell_type": "markdown",
      "source": [
        "## Same model with regularization"
      ],
      "metadata": {
        "id": "ThJOJJ5Qph0v"
      },
      "id": "ThJOJJ5Qph0v"
    },
    {
      "cell_type": "code",
      "source": [
        "from tensorflow.keras import regularizers"
      ],
      "metadata": {
        "id": "CDPA3cnVsBpL"
      },
      "id": "CDPA3cnVsBpL",
      "execution_count": null,
      "outputs": []
    },
    {
      "cell_type": "code",
      "source": [
        "inputs = keras.Input(shape = (128, 9))\n",
        "features = layers.LSTM(100, kernel_regularizer=regularizers.L1L2(l1=1e-5, l2=1e-4))(inputs)\n",
        "features = layers.Dropout(0.5)(features)\n",
        "features = layers.Dense(100, activation = \"relu\", kernel_regularizer=regularizers.L1L2(l1=1e-5, l2=1e-4))(features)\n",
        "outputs = layers.Dense(6, activation = \"softmax\", kernel_regularizer=regularizers.L1L2(l1=1e-5, l2=1e-4))(features)\n",
        "\n",
        "model_with_reg = keras.Model(inputs = inputs, outputs = outputs)"
      ],
      "metadata": {
        "id": "YwfpRmanrjfm"
      },
      "id": "YwfpRmanrjfm",
      "execution_count": null,
      "outputs": []
    },
    {
      "cell_type": "code",
      "source": [
        "test_accuracies_with_reg = []\n",
        "recall_scores_with_reg = []\n",
        "\n",
        "for i in range(5):\n",
        "\n",
        "  rnd_seed = seeds[i]\n",
        "  tf.random.set_seed(rnd_seed)\n",
        "  indices = np.random.RandomState(seed=rnd_seed).permutation(len(X_train))\n",
        "  X_train = X_train[indices]\n",
        "  Y_train = Y_train[indices]\n",
        "\n",
        "  train_data = X_train[len(X_train)//10:]\n",
        "  train_labels = Y_train[len(X_train)//10:]\n",
        "  val_data = X_train[:len(X_train)//10]\n",
        "  val_labels = Y_train[:len(X_train)//10]\n",
        "\n",
        "  model_with_reg = keras.Model(inputs = inputs, outputs = outputs)\n",
        "  model_with_reg.compile(loss = \"sparse_categorical_crossentropy\", optimizer = \"adam\", metrics=[\"accuracy\"])\n",
        "  tensorboard = keras.callbacks.TensorBoard(log_dir = path_to_logs)\n",
        "  callbacks = [keras.callbacks.ModelCheckpoint(filepath=path_to_models + f\"LSTM_with_reg_{i}\"), tensorboard]\n",
        "  history = model_with_reg.fit(train_data, train_labels, epochs = 25, batch_size = 64, validation_data = (val_data, val_labels), callbacks = callbacks, class_weight = data_class_weights, verbose = False)\n",
        "\n",
        "  model_saved = keras.models.load_model(path_to_models + f\"LSTM_with_reg_{i}\")\n",
        "  test_accuracy = tf.keras.metrics.Accuracy()\n",
        "  logits = model_saved(X_test, training=False)\n",
        "  prediction = tf.argmax(logits, axis=1, output_type=tf.int32)\n",
        "  test_accuracies_with_reg.append(test_accuracy(prediction, Y_test))\n",
        "  print(test_accuracy(prediction, Y_test))\n",
        "  recall_scores_with_reg.append(recall_score(Y_test, prediction, average=None))"
      ],
      "metadata": {
        "colab": {
          "base_uri": "https://localhost:8080/"
        },
        "id": "Yaas6g94Ha79",
        "outputId": "8d5ec40a-b1ae-4df0-9a56-6f609f0b8d05"
      },
      "id": "Yaas6g94Ha79",
      "execution_count": null,
      "outputs": [
        {
          "output_type": "stream",
          "name": "stdout",
          "text": [
            "INFO:tensorflow:Assets written to: /content/drive/My Drive/ECE_209_AS_project_data/UCIHARmodels/LSTM_with_reg_0/assets\n"
          ]
        },
        {
          "output_type": "stream",
          "name": "stderr",
          "text": [
            "INFO:tensorflow:Assets written to: /content/drive/My Drive/ECE_209_AS_project_data/UCIHARmodels/LSTM_with_reg_0/assets\n"
          ]
        },
        {
          "output_type": "stream",
          "name": "stdout",
          "text": [
            "INFO:tensorflow:Assets written to: /content/drive/My Drive/ECE_209_AS_project_data/UCIHARmodels/LSTM_with_reg_0/assets\n"
          ]
        },
        {
          "output_type": "stream",
          "name": "stderr",
          "text": [
            "INFO:tensorflow:Assets written to: /content/drive/My Drive/ECE_209_AS_project_data/UCIHARmodels/LSTM_with_reg_0/assets\n"
          ]
        },
        {
          "output_type": "stream",
          "name": "stdout",
          "text": [
            "INFO:tensorflow:Assets written to: /content/drive/My Drive/ECE_209_AS_project_data/UCIHARmodels/LSTM_with_reg_0/assets\n"
          ]
        },
        {
          "output_type": "stream",
          "name": "stderr",
          "text": [
            "INFO:tensorflow:Assets written to: /content/drive/My Drive/ECE_209_AS_project_data/UCIHARmodels/LSTM_with_reg_0/assets\n"
          ]
        },
        {
          "output_type": "stream",
          "name": "stdout",
          "text": [
            "INFO:tensorflow:Assets written to: /content/drive/My Drive/ECE_209_AS_project_data/UCIHARmodels/LSTM_with_reg_0/assets\n"
          ]
        },
        {
          "output_type": "stream",
          "name": "stderr",
          "text": [
            "INFO:tensorflow:Assets written to: /content/drive/My Drive/ECE_209_AS_project_data/UCIHARmodels/LSTM_with_reg_0/assets\n"
          ]
        },
        {
          "output_type": "stream",
          "name": "stdout",
          "text": [
            "INFO:tensorflow:Assets written to: /content/drive/My Drive/ECE_209_AS_project_data/UCIHARmodels/LSTM_with_reg_0/assets\n"
          ]
        },
        {
          "output_type": "stream",
          "name": "stderr",
          "text": [
            "INFO:tensorflow:Assets written to: /content/drive/My Drive/ECE_209_AS_project_data/UCIHARmodels/LSTM_with_reg_0/assets\n"
          ]
        },
        {
          "output_type": "stream",
          "name": "stdout",
          "text": [
            "INFO:tensorflow:Assets written to: /content/drive/My Drive/ECE_209_AS_project_data/UCIHARmodels/LSTM_with_reg_0/assets\n"
          ]
        },
        {
          "output_type": "stream",
          "name": "stderr",
          "text": [
            "INFO:tensorflow:Assets written to: /content/drive/My Drive/ECE_209_AS_project_data/UCIHARmodels/LSTM_with_reg_0/assets\n"
          ]
        },
        {
          "output_type": "stream",
          "name": "stdout",
          "text": [
            "INFO:tensorflow:Assets written to: /content/drive/My Drive/ECE_209_AS_project_data/UCIHARmodels/LSTM_with_reg_0/assets\n"
          ]
        },
        {
          "output_type": "stream",
          "name": "stderr",
          "text": [
            "INFO:tensorflow:Assets written to: /content/drive/My Drive/ECE_209_AS_project_data/UCIHARmodels/LSTM_with_reg_0/assets\n"
          ]
        },
        {
          "output_type": "stream",
          "name": "stdout",
          "text": [
            "INFO:tensorflow:Assets written to: /content/drive/My Drive/ECE_209_AS_project_data/UCIHARmodels/LSTM_with_reg_0/assets\n"
          ]
        },
        {
          "output_type": "stream",
          "name": "stderr",
          "text": [
            "INFO:tensorflow:Assets written to: /content/drive/My Drive/ECE_209_AS_project_data/UCIHARmodels/LSTM_with_reg_0/assets\n"
          ]
        },
        {
          "output_type": "stream",
          "name": "stdout",
          "text": [
            "INFO:tensorflow:Assets written to: /content/drive/My Drive/ECE_209_AS_project_data/UCIHARmodels/LSTM_with_reg_0/assets\n"
          ]
        },
        {
          "output_type": "stream",
          "name": "stderr",
          "text": [
            "INFO:tensorflow:Assets written to: /content/drive/My Drive/ECE_209_AS_project_data/UCIHARmodels/LSTM_with_reg_0/assets\n"
          ]
        },
        {
          "output_type": "stream",
          "name": "stdout",
          "text": [
            "INFO:tensorflow:Assets written to: /content/drive/My Drive/ECE_209_AS_project_data/UCIHARmodels/LSTM_with_reg_0/assets\n"
          ]
        },
        {
          "output_type": "stream",
          "name": "stderr",
          "text": [
            "INFO:tensorflow:Assets written to: /content/drive/My Drive/ECE_209_AS_project_data/UCIHARmodels/LSTM_with_reg_0/assets\n"
          ]
        },
        {
          "output_type": "stream",
          "name": "stdout",
          "text": [
            "INFO:tensorflow:Assets written to: /content/drive/My Drive/ECE_209_AS_project_data/UCIHARmodels/LSTM_with_reg_0/assets\n"
          ]
        },
        {
          "output_type": "stream",
          "name": "stderr",
          "text": [
            "INFO:tensorflow:Assets written to: /content/drive/My Drive/ECE_209_AS_project_data/UCIHARmodels/LSTM_with_reg_0/assets\n"
          ]
        },
        {
          "output_type": "stream",
          "name": "stdout",
          "text": [
            "INFO:tensorflow:Assets written to: /content/drive/My Drive/ECE_209_AS_project_data/UCIHARmodels/LSTM_with_reg_0/assets\n"
          ]
        },
        {
          "output_type": "stream",
          "name": "stderr",
          "text": [
            "INFO:tensorflow:Assets written to: /content/drive/My Drive/ECE_209_AS_project_data/UCIHARmodels/LSTM_with_reg_0/assets\n"
          ]
        },
        {
          "output_type": "stream",
          "name": "stdout",
          "text": [
            "INFO:tensorflow:Assets written to: /content/drive/My Drive/ECE_209_AS_project_data/UCIHARmodels/LSTM_with_reg_0/assets\n"
          ]
        },
        {
          "output_type": "stream",
          "name": "stderr",
          "text": [
            "INFO:tensorflow:Assets written to: /content/drive/My Drive/ECE_209_AS_project_data/UCIHARmodels/LSTM_with_reg_0/assets\n"
          ]
        },
        {
          "output_type": "stream",
          "name": "stdout",
          "text": [
            "INFO:tensorflow:Assets written to: /content/drive/My Drive/ECE_209_AS_project_data/UCIHARmodels/LSTM_with_reg_0/assets\n"
          ]
        },
        {
          "output_type": "stream",
          "name": "stderr",
          "text": [
            "INFO:tensorflow:Assets written to: /content/drive/My Drive/ECE_209_AS_project_data/UCIHARmodels/LSTM_with_reg_0/assets\n"
          ]
        },
        {
          "output_type": "stream",
          "name": "stdout",
          "text": [
            "INFO:tensorflow:Assets written to: /content/drive/My Drive/ECE_209_AS_project_data/UCIHARmodels/LSTM_with_reg_0/assets\n"
          ]
        },
        {
          "output_type": "stream",
          "name": "stderr",
          "text": [
            "INFO:tensorflow:Assets written to: /content/drive/My Drive/ECE_209_AS_project_data/UCIHARmodels/LSTM_with_reg_0/assets\n"
          ]
        },
        {
          "output_type": "stream",
          "name": "stdout",
          "text": [
            "INFO:tensorflow:Assets written to: /content/drive/My Drive/ECE_209_AS_project_data/UCIHARmodels/LSTM_with_reg_0/assets\n"
          ]
        },
        {
          "output_type": "stream",
          "name": "stderr",
          "text": [
            "INFO:tensorflow:Assets written to: /content/drive/My Drive/ECE_209_AS_project_data/UCIHARmodels/LSTM_with_reg_0/assets\n"
          ]
        },
        {
          "output_type": "stream",
          "name": "stdout",
          "text": [
            "INFO:tensorflow:Assets written to: /content/drive/My Drive/ECE_209_AS_project_data/UCIHARmodels/LSTM_with_reg_0/assets\n"
          ]
        },
        {
          "output_type": "stream",
          "name": "stderr",
          "text": [
            "INFO:tensorflow:Assets written to: /content/drive/My Drive/ECE_209_AS_project_data/UCIHARmodels/LSTM_with_reg_0/assets\n"
          ]
        },
        {
          "output_type": "stream",
          "name": "stdout",
          "text": [
            "INFO:tensorflow:Assets written to: /content/drive/My Drive/ECE_209_AS_project_data/UCIHARmodels/LSTM_with_reg_0/assets\n"
          ]
        },
        {
          "output_type": "stream",
          "name": "stderr",
          "text": [
            "INFO:tensorflow:Assets written to: /content/drive/My Drive/ECE_209_AS_project_data/UCIHARmodels/LSTM_with_reg_0/assets\n"
          ]
        },
        {
          "output_type": "stream",
          "name": "stdout",
          "text": [
            "INFO:tensorflow:Assets written to: /content/drive/My Drive/ECE_209_AS_project_data/UCIHARmodels/LSTM_with_reg_0/assets\n"
          ]
        },
        {
          "output_type": "stream",
          "name": "stderr",
          "text": [
            "INFO:tensorflow:Assets written to: /content/drive/My Drive/ECE_209_AS_project_data/UCIHARmodels/LSTM_with_reg_0/assets\n"
          ]
        },
        {
          "output_type": "stream",
          "name": "stdout",
          "text": [
            "INFO:tensorflow:Assets written to: /content/drive/My Drive/ECE_209_AS_project_data/UCIHARmodels/LSTM_with_reg_0/assets\n"
          ]
        },
        {
          "output_type": "stream",
          "name": "stderr",
          "text": [
            "INFO:tensorflow:Assets written to: /content/drive/My Drive/ECE_209_AS_project_data/UCIHARmodels/LSTM_with_reg_0/assets\n"
          ]
        },
        {
          "output_type": "stream",
          "name": "stdout",
          "text": [
            "INFO:tensorflow:Assets written to: /content/drive/My Drive/ECE_209_AS_project_data/UCIHARmodels/LSTM_with_reg_0/assets\n"
          ]
        },
        {
          "output_type": "stream",
          "name": "stderr",
          "text": [
            "INFO:tensorflow:Assets written to: /content/drive/My Drive/ECE_209_AS_project_data/UCIHARmodels/LSTM_with_reg_0/assets\n"
          ]
        },
        {
          "output_type": "stream",
          "name": "stdout",
          "text": [
            "INFO:tensorflow:Assets written to: /content/drive/My Drive/ECE_209_AS_project_data/UCIHARmodels/LSTM_with_reg_0/assets\n"
          ]
        },
        {
          "output_type": "stream",
          "name": "stderr",
          "text": [
            "INFO:tensorflow:Assets written to: /content/drive/My Drive/ECE_209_AS_project_data/UCIHARmodels/LSTM_with_reg_0/assets\n"
          ]
        },
        {
          "output_type": "stream",
          "name": "stdout",
          "text": [
            "INFO:tensorflow:Assets written to: /content/drive/My Drive/ECE_209_AS_project_data/UCIHARmodels/LSTM_with_reg_0/assets\n"
          ]
        },
        {
          "output_type": "stream",
          "name": "stderr",
          "text": [
            "INFO:tensorflow:Assets written to: /content/drive/My Drive/ECE_209_AS_project_data/UCIHARmodels/LSTM_with_reg_0/assets\n"
          ]
        },
        {
          "output_type": "stream",
          "name": "stdout",
          "text": [
            "INFO:tensorflow:Assets written to: /content/drive/My Drive/ECE_209_AS_project_data/UCIHARmodels/LSTM_with_reg_0/assets\n"
          ]
        },
        {
          "output_type": "stream",
          "name": "stderr",
          "text": [
            "INFO:tensorflow:Assets written to: /content/drive/My Drive/ECE_209_AS_project_data/UCIHARmodels/LSTM_with_reg_0/assets\n"
          ]
        },
        {
          "output_type": "stream",
          "name": "stdout",
          "text": [
            "INFO:tensorflow:Assets written to: /content/drive/My Drive/ECE_209_AS_project_data/UCIHARmodels/LSTM_with_reg_0/assets\n"
          ]
        },
        {
          "output_type": "stream",
          "name": "stderr",
          "text": [
            "INFO:tensorflow:Assets written to: /content/drive/My Drive/ECE_209_AS_project_data/UCIHARmodels/LSTM_with_reg_0/assets\n"
          ]
        },
        {
          "output_type": "stream",
          "name": "stdout",
          "text": [
            "tf.Tensor(0.9253478, shape=(), dtype=float32)\n",
            "INFO:tensorflow:Assets written to: /content/drive/My Drive/ECE_209_AS_project_data/UCIHARmodels/LSTM_with_reg_1/assets\n"
          ]
        },
        {
          "output_type": "stream",
          "name": "stderr",
          "text": [
            "INFO:tensorflow:Assets written to: /content/drive/My Drive/ECE_209_AS_project_data/UCIHARmodels/LSTM_with_reg_1/assets\n"
          ]
        },
        {
          "output_type": "stream",
          "name": "stdout",
          "text": [
            "INFO:tensorflow:Assets written to: /content/drive/My Drive/ECE_209_AS_project_data/UCIHARmodels/LSTM_with_reg_1/assets\n"
          ]
        },
        {
          "output_type": "stream",
          "name": "stderr",
          "text": [
            "INFO:tensorflow:Assets written to: /content/drive/My Drive/ECE_209_AS_project_data/UCIHARmodels/LSTM_with_reg_1/assets\n"
          ]
        },
        {
          "output_type": "stream",
          "name": "stdout",
          "text": [
            "INFO:tensorflow:Assets written to: /content/drive/My Drive/ECE_209_AS_project_data/UCIHARmodels/LSTM_with_reg_1/assets\n"
          ]
        },
        {
          "output_type": "stream",
          "name": "stderr",
          "text": [
            "INFO:tensorflow:Assets written to: /content/drive/My Drive/ECE_209_AS_project_data/UCIHARmodels/LSTM_with_reg_1/assets\n"
          ]
        },
        {
          "output_type": "stream",
          "name": "stdout",
          "text": [
            "INFO:tensorflow:Assets written to: /content/drive/My Drive/ECE_209_AS_project_data/UCIHARmodels/LSTM_with_reg_1/assets\n"
          ]
        },
        {
          "output_type": "stream",
          "name": "stderr",
          "text": [
            "INFO:tensorflow:Assets written to: /content/drive/My Drive/ECE_209_AS_project_data/UCIHARmodels/LSTM_with_reg_1/assets\n"
          ]
        },
        {
          "output_type": "stream",
          "name": "stdout",
          "text": [
            "INFO:tensorflow:Assets written to: /content/drive/My Drive/ECE_209_AS_project_data/UCIHARmodels/LSTM_with_reg_1/assets\n"
          ]
        },
        {
          "output_type": "stream",
          "name": "stderr",
          "text": [
            "INFO:tensorflow:Assets written to: /content/drive/My Drive/ECE_209_AS_project_data/UCIHARmodels/LSTM_with_reg_1/assets\n"
          ]
        },
        {
          "output_type": "stream",
          "name": "stdout",
          "text": [
            "INFO:tensorflow:Assets written to: /content/drive/My Drive/ECE_209_AS_project_data/UCIHARmodels/LSTM_with_reg_1/assets\n"
          ]
        },
        {
          "output_type": "stream",
          "name": "stderr",
          "text": [
            "INFO:tensorflow:Assets written to: /content/drive/My Drive/ECE_209_AS_project_data/UCIHARmodels/LSTM_with_reg_1/assets\n"
          ]
        },
        {
          "output_type": "stream",
          "name": "stdout",
          "text": [
            "INFO:tensorflow:Assets written to: /content/drive/My Drive/ECE_209_AS_project_data/UCIHARmodels/LSTM_with_reg_1/assets\n"
          ]
        },
        {
          "output_type": "stream",
          "name": "stderr",
          "text": [
            "INFO:tensorflow:Assets written to: /content/drive/My Drive/ECE_209_AS_project_data/UCIHARmodels/LSTM_with_reg_1/assets\n"
          ]
        },
        {
          "output_type": "stream",
          "name": "stdout",
          "text": [
            "INFO:tensorflow:Assets written to: /content/drive/My Drive/ECE_209_AS_project_data/UCIHARmodels/LSTM_with_reg_1/assets\n"
          ]
        },
        {
          "output_type": "stream",
          "name": "stderr",
          "text": [
            "INFO:tensorflow:Assets written to: /content/drive/My Drive/ECE_209_AS_project_data/UCIHARmodels/LSTM_with_reg_1/assets\n"
          ]
        },
        {
          "output_type": "stream",
          "name": "stdout",
          "text": [
            "INFO:tensorflow:Assets written to: /content/drive/My Drive/ECE_209_AS_project_data/UCIHARmodels/LSTM_with_reg_1/assets\n"
          ]
        },
        {
          "output_type": "stream",
          "name": "stderr",
          "text": [
            "INFO:tensorflow:Assets written to: /content/drive/My Drive/ECE_209_AS_project_data/UCIHARmodels/LSTM_with_reg_1/assets\n"
          ]
        },
        {
          "output_type": "stream",
          "name": "stdout",
          "text": [
            "INFO:tensorflow:Assets written to: /content/drive/My Drive/ECE_209_AS_project_data/UCIHARmodels/LSTM_with_reg_1/assets\n"
          ]
        },
        {
          "output_type": "stream",
          "name": "stderr",
          "text": [
            "INFO:tensorflow:Assets written to: /content/drive/My Drive/ECE_209_AS_project_data/UCIHARmodels/LSTM_with_reg_1/assets\n"
          ]
        },
        {
          "output_type": "stream",
          "name": "stdout",
          "text": [
            "INFO:tensorflow:Assets written to: /content/drive/My Drive/ECE_209_AS_project_data/UCIHARmodels/LSTM_with_reg_1/assets\n"
          ]
        },
        {
          "output_type": "stream",
          "name": "stderr",
          "text": [
            "INFO:tensorflow:Assets written to: /content/drive/My Drive/ECE_209_AS_project_data/UCIHARmodels/LSTM_with_reg_1/assets\n"
          ]
        },
        {
          "output_type": "stream",
          "name": "stdout",
          "text": [
            "INFO:tensorflow:Assets written to: /content/drive/My Drive/ECE_209_AS_project_data/UCIHARmodels/LSTM_with_reg_1/assets\n"
          ]
        },
        {
          "output_type": "stream",
          "name": "stderr",
          "text": [
            "INFO:tensorflow:Assets written to: /content/drive/My Drive/ECE_209_AS_project_data/UCIHARmodels/LSTM_with_reg_1/assets\n"
          ]
        },
        {
          "output_type": "stream",
          "name": "stdout",
          "text": [
            "INFO:tensorflow:Assets written to: /content/drive/My Drive/ECE_209_AS_project_data/UCIHARmodels/LSTM_with_reg_1/assets\n"
          ]
        },
        {
          "output_type": "stream",
          "name": "stderr",
          "text": [
            "INFO:tensorflow:Assets written to: /content/drive/My Drive/ECE_209_AS_project_data/UCIHARmodels/LSTM_with_reg_1/assets\n"
          ]
        },
        {
          "output_type": "stream",
          "name": "stdout",
          "text": [
            "INFO:tensorflow:Assets written to: /content/drive/My Drive/ECE_209_AS_project_data/UCIHARmodels/LSTM_with_reg_1/assets\n"
          ]
        },
        {
          "output_type": "stream",
          "name": "stderr",
          "text": [
            "INFO:tensorflow:Assets written to: /content/drive/My Drive/ECE_209_AS_project_data/UCIHARmodels/LSTM_with_reg_1/assets\n"
          ]
        },
        {
          "output_type": "stream",
          "name": "stdout",
          "text": [
            "INFO:tensorflow:Assets written to: /content/drive/My Drive/ECE_209_AS_project_data/UCIHARmodels/LSTM_with_reg_1/assets\n"
          ]
        },
        {
          "output_type": "stream",
          "name": "stderr",
          "text": [
            "INFO:tensorflow:Assets written to: /content/drive/My Drive/ECE_209_AS_project_data/UCIHARmodels/LSTM_with_reg_1/assets\n"
          ]
        },
        {
          "output_type": "stream",
          "name": "stdout",
          "text": [
            "INFO:tensorflow:Assets written to: /content/drive/My Drive/ECE_209_AS_project_data/UCIHARmodels/LSTM_with_reg_1/assets\n"
          ]
        },
        {
          "output_type": "stream",
          "name": "stderr",
          "text": [
            "INFO:tensorflow:Assets written to: /content/drive/My Drive/ECE_209_AS_project_data/UCIHARmodels/LSTM_with_reg_1/assets\n"
          ]
        },
        {
          "output_type": "stream",
          "name": "stdout",
          "text": [
            "INFO:tensorflow:Assets written to: /content/drive/My Drive/ECE_209_AS_project_data/UCIHARmodels/LSTM_with_reg_1/assets\n"
          ]
        },
        {
          "output_type": "stream",
          "name": "stderr",
          "text": [
            "INFO:tensorflow:Assets written to: /content/drive/My Drive/ECE_209_AS_project_data/UCIHARmodels/LSTM_with_reg_1/assets\n"
          ]
        },
        {
          "output_type": "stream",
          "name": "stdout",
          "text": [
            "INFO:tensorflow:Assets written to: /content/drive/My Drive/ECE_209_AS_project_data/UCIHARmodels/LSTM_with_reg_1/assets\n"
          ]
        },
        {
          "output_type": "stream",
          "name": "stderr",
          "text": [
            "INFO:tensorflow:Assets written to: /content/drive/My Drive/ECE_209_AS_project_data/UCIHARmodels/LSTM_with_reg_1/assets\n"
          ]
        },
        {
          "output_type": "stream",
          "name": "stdout",
          "text": [
            "INFO:tensorflow:Assets written to: /content/drive/My Drive/ECE_209_AS_project_data/UCIHARmodels/LSTM_with_reg_1/assets\n"
          ]
        },
        {
          "output_type": "stream",
          "name": "stderr",
          "text": [
            "INFO:tensorflow:Assets written to: /content/drive/My Drive/ECE_209_AS_project_data/UCIHARmodels/LSTM_with_reg_1/assets\n"
          ]
        },
        {
          "output_type": "stream",
          "name": "stdout",
          "text": [
            "INFO:tensorflow:Assets written to: /content/drive/My Drive/ECE_209_AS_project_data/UCIHARmodels/LSTM_with_reg_1/assets\n"
          ]
        },
        {
          "output_type": "stream",
          "name": "stderr",
          "text": [
            "INFO:tensorflow:Assets written to: /content/drive/My Drive/ECE_209_AS_project_data/UCIHARmodels/LSTM_with_reg_1/assets\n"
          ]
        },
        {
          "output_type": "stream",
          "name": "stdout",
          "text": [
            "INFO:tensorflow:Assets written to: /content/drive/My Drive/ECE_209_AS_project_data/UCIHARmodels/LSTM_with_reg_1/assets\n"
          ]
        },
        {
          "output_type": "stream",
          "name": "stderr",
          "text": [
            "INFO:tensorflow:Assets written to: /content/drive/My Drive/ECE_209_AS_project_data/UCIHARmodels/LSTM_with_reg_1/assets\n"
          ]
        },
        {
          "output_type": "stream",
          "name": "stdout",
          "text": [
            "INFO:tensorflow:Assets written to: /content/drive/My Drive/ECE_209_AS_project_data/UCIHARmodels/LSTM_with_reg_1/assets\n"
          ]
        },
        {
          "output_type": "stream",
          "name": "stderr",
          "text": [
            "INFO:tensorflow:Assets written to: /content/drive/My Drive/ECE_209_AS_project_data/UCIHARmodels/LSTM_with_reg_1/assets\n"
          ]
        },
        {
          "output_type": "stream",
          "name": "stdout",
          "text": [
            "INFO:tensorflow:Assets written to: /content/drive/My Drive/ECE_209_AS_project_data/UCIHARmodels/LSTM_with_reg_1/assets\n"
          ]
        },
        {
          "output_type": "stream",
          "name": "stderr",
          "text": [
            "INFO:tensorflow:Assets written to: /content/drive/My Drive/ECE_209_AS_project_data/UCIHARmodels/LSTM_with_reg_1/assets\n"
          ]
        },
        {
          "output_type": "stream",
          "name": "stdout",
          "text": [
            "INFO:tensorflow:Assets written to: /content/drive/My Drive/ECE_209_AS_project_data/UCIHARmodels/LSTM_with_reg_1/assets\n"
          ]
        },
        {
          "output_type": "stream",
          "name": "stderr",
          "text": [
            "INFO:tensorflow:Assets written to: /content/drive/My Drive/ECE_209_AS_project_data/UCIHARmodels/LSTM_with_reg_1/assets\n"
          ]
        },
        {
          "output_type": "stream",
          "name": "stdout",
          "text": [
            "INFO:tensorflow:Assets written to: /content/drive/My Drive/ECE_209_AS_project_data/UCIHARmodels/LSTM_with_reg_1/assets\n"
          ]
        },
        {
          "output_type": "stream",
          "name": "stderr",
          "text": [
            "INFO:tensorflow:Assets written to: /content/drive/My Drive/ECE_209_AS_project_data/UCIHARmodels/LSTM_with_reg_1/assets\n"
          ]
        },
        {
          "output_type": "stream",
          "name": "stdout",
          "text": [
            "tf.Tensor(0.9205972, shape=(), dtype=float32)\n",
            "INFO:tensorflow:Assets written to: /content/drive/My Drive/ECE_209_AS_project_data/UCIHARmodels/LSTM_with_reg_2/assets\n"
          ]
        },
        {
          "output_type": "stream",
          "name": "stderr",
          "text": [
            "INFO:tensorflow:Assets written to: /content/drive/My Drive/ECE_209_AS_project_data/UCIHARmodels/LSTM_with_reg_2/assets\n"
          ]
        },
        {
          "output_type": "stream",
          "name": "stdout",
          "text": [
            "INFO:tensorflow:Assets written to: /content/drive/My Drive/ECE_209_AS_project_data/UCIHARmodels/LSTM_with_reg_2/assets\n"
          ]
        },
        {
          "output_type": "stream",
          "name": "stderr",
          "text": [
            "INFO:tensorflow:Assets written to: /content/drive/My Drive/ECE_209_AS_project_data/UCIHARmodels/LSTM_with_reg_2/assets\n"
          ]
        },
        {
          "output_type": "stream",
          "name": "stdout",
          "text": [
            "INFO:tensorflow:Assets written to: /content/drive/My Drive/ECE_209_AS_project_data/UCIHARmodels/LSTM_with_reg_2/assets\n"
          ]
        },
        {
          "output_type": "stream",
          "name": "stderr",
          "text": [
            "INFO:tensorflow:Assets written to: /content/drive/My Drive/ECE_209_AS_project_data/UCIHARmodels/LSTM_with_reg_2/assets\n"
          ]
        },
        {
          "output_type": "stream",
          "name": "stdout",
          "text": [
            "INFO:tensorflow:Assets written to: /content/drive/My Drive/ECE_209_AS_project_data/UCIHARmodels/LSTM_with_reg_2/assets\n"
          ]
        },
        {
          "output_type": "stream",
          "name": "stderr",
          "text": [
            "INFO:tensorflow:Assets written to: /content/drive/My Drive/ECE_209_AS_project_data/UCIHARmodels/LSTM_with_reg_2/assets\n"
          ]
        },
        {
          "output_type": "stream",
          "name": "stdout",
          "text": [
            "INFO:tensorflow:Assets written to: /content/drive/My Drive/ECE_209_AS_project_data/UCIHARmodels/LSTM_with_reg_2/assets\n"
          ]
        },
        {
          "output_type": "stream",
          "name": "stderr",
          "text": [
            "INFO:tensorflow:Assets written to: /content/drive/My Drive/ECE_209_AS_project_data/UCIHARmodels/LSTM_with_reg_2/assets\n"
          ]
        },
        {
          "output_type": "stream",
          "name": "stdout",
          "text": [
            "INFO:tensorflow:Assets written to: /content/drive/My Drive/ECE_209_AS_project_data/UCIHARmodels/LSTM_with_reg_2/assets\n"
          ]
        },
        {
          "output_type": "stream",
          "name": "stderr",
          "text": [
            "INFO:tensorflow:Assets written to: /content/drive/My Drive/ECE_209_AS_project_data/UCIHARmodels/LSTM_with_reg_2/assets\n"
          ]
        },
        {
          "output_type": "stream",
          "name": "stdout",
          "text": [
            "INFO:tensorflow:Assets written to: /content/drive/My Drive/ECE_209_AS_project_data/UCIHARmodels/LSTM_with_reg_2/assets\n"
          ]
        },
        {
          "output_type": "stream",
          "name": "stderr",
          "text": [
            "INFO:tensorflow:Assets written to: /content/drive/My Drive/ECE_209_AS_project_data/UCIHARmodels/LSTM_with_reg_2/assets\n"
          ]
        },
        {
          "output_type": "stream",
          "name": "stdout",
          "text": [
            "INFO:tensorflow:Assets written to: /content/drive/My Drive/ECE_209_AS_project_data/UCIHARmodels/LSTM_with_reg_2/assets\n"
          ]
        },
        {
          "output_type": "stream",
          "name": "stderr",
          "text": [
            "INFO:tensorflow:Assets written to: /content/drive/My Drive/ECE_209_AS_project_data/UCIHARmodels/LSTM_with_reg_2/assets\n"
          ]
        },
        {
          "output_type": "stream",
          "name": "stdout",
          "text": [
            "INFO:tensorflow:Assets written to: /content/drive/My Drive/ECE_209_AS_project_data/UCIHARmodels/LSTM_with_reg_2/assets\n"
          ]
        },
        {
          "output_type": "stream",
          "name": "stderr",
          "text": [
            "INFO:tensorflow:Assets written to: /content/drive/My Drive/ECE_209_AS_project_data/UCIHARmodels/LSTM_with_reg_2/assets\n"
          ]
        },
        {
          "output_type": "stream",
          "name": "stdout",
          "text": [
            "INFO:tensorflow:Assets written to: /content/drive/My Drive/ECE_209_AS_project_data/UCIHARmodels/LSTM_with_reg_2/assets\n"
          ]
        },
        {
          "output_type": "stream",
          "name": "stderr",
          "text": [
            "INFO:tensorflow:Assets written to: /content/drive/My Drive/ECE_209_AS_project_data/UCIHARmodels/LSTM_with_reg_2/assets\n"
          ]
        },
        {
          "output_type": "stream",
          "name": "stdout",
          "text": [
            "INFO:tensorflow:Assets written to: /content/drive/My Drive/ECE_209_AS_project_data/UCIHARmodels/LSTM_with_reg_2/assets\n"
          ]
        },
        {
          "output_type": "stream",
          "name": "stderr",
          "text": [
            "INFO:tensorflow:Assets written to: /content/drive/My Drive/ECE_209_AS_project_data/UCIHARmodels/LSTM_with_reg_2/assets\n"
          ]
        },
        {
          "output_type": "stream",
          "name": "stdout",
          "text": [
            "INFO:tensorflow:Assets written to: /content/drive/My Drive/ECE_209_AS_project_data/UCIHARmodels/LSTM_with_reg_2/assets\n"
          ]
        },
        {
          "output_type": "stream",
          "name": "stderr",
          "text": [
            "INFO:tensorflow:Assets written to: /content/drive/My Drive/ECE_209_AS_project_data/UCIHARmodels/LSTM_with_reg_2/assets\n"
          ]
        },
        {
          "output_type": "stream",
          "name": "stdout",
          "text": [
            "INFO:tensorflow:Assets written to: /content/drive/My Drive/ECE_209_AS_project_data/UCIHARmodels/LSTM_with_reg_2/assets\n"
          ]
        },
        {
          "output_type": "stream",
          "name": "stderr",
          "text": [
            "INFO:tensorflow:Assets written to: /content/drive/My Drive/ECE_209_AS_project_data/UCIHARmodels/LSTM_with_reg_2/assets\n"
          ]
        },
        {
          "output_type": "stream",
          "name": "stdout",
          "text": [
            "INFO:tensorflow:Assets written to: /content/drive/My Drive/ECE_209_AS_project_data/UCIHARmodels/LSTM_with_reg_2/assets\n"
          ]
        },
        {
          "output_type": "stream",
          "name": "stderr",
          "text": [
            "INFO:tensorflow:Assets written to: /content/drive/My Drive/ECE_209_AS_project_data/UCIHARmodels/LSTM_with_reg_2/assets\n"
          ]
        },
        {
          "output_type": "stream",
          "name": "stdout",
          "text": [
            "INFO:tensorflow:Assets written to: /content/drive/My Drive/ECE_209_AS_project_data/UCIHARmodels/LSTM_with_reg_2/assets\n"
          ]
        },
        {
          "output_type": "stream",
          "name": "stderr",
          "text": [
            "INFO:tensorflow:Assets written to: /content/drive/My Drive/ECE_209_AS_project_data/UCIHARmodels/LSTM_with_reg_2/assets\n"
          ]
        },
        {
          "output_type": "stream",
          "name": "stdout",
          "text": [
            "INFO:tensorflow:Assets written to: /content/drive/My Drive/ECE_209_AS_project_data/UCIHARmodels/LSTM_with_reg_2/assets\n"
          ]
        },
        {
          "output_type": "stream",
          "name": "stderr",
          "text": [
            "INFO:tensorflow:Assets written to: /content/drive/My Drive/ECE_209_AS_project_data/UCIHARmodels/LSTM_with_reg_2/assets\n"
          ]
        },
        {
          "output_type": "stream",
          "name": "stdout",
          "text": [
            "INFO:tensorflow:Assets written to: /content/drive/My Drive/ECE_209_AS_project_data/UCIHARmodels/LSTM_with_reg_2/assets\n"
          ]
        },
        {
          "output_type": "stream",
          "name": "stderr",
          "text": [
            "INFO:tensorflow:Assets written to: /content/drive/My Drive/ECE_209_AS_project_data/UCIHARmodels/LSTM_with_reg_2/assets\n"
          ]
        },
        {
          "output_type": "stream",
          "name": "stdout",
          "text": [
            "INFO:tensorflow:Assets written to: /content/drive/My Drive/ECE_209_AS_project_data/UCIHARmodels/LSTM_with_reg_2/assets\n"
          ]
        },
        {
          "output_type": "stream",
          "name": "stderr",
          "text": [
            "INFO:tensorflow:Assets written to: /content/drive/My Drive/ECE_209_AS_project_data/UCIHARmodels/LSTM_with_reg_2/assets\n"
          ]
        },
        {
          "output_type": "stream",
          "name": "stdout",
          "text": [
            "INFO:tensorflow:Assets written to: /content/drive/My Drive/ECE_209_AS_project_data/UCIHARmodels/LSTM_with_reg_2/assets\n"
          ]
        },
        {
          "output_type": "stream",
          "name": "stderr",
          "text": [
            "INFO:tensorflow:Assets written to: /content/drive/My Drive/ECE_209_AS_project_data/UCIHARmodels/LSTM_with_reg_2/assets\n"
          ]
        },
        {
          "output_type": "stream",
          "name": "stdout",
          "text": [
            "INFO:tensorflow:Assets written to: /content/drive/My Drive/ECE_209_AS_project_data/UCIHARmodels/LSTM_with_reg_2/assets\n"
          ]
        },
        {
          "output_type": "stream",
          "name": "stderr",
          "text": [
            "INFO:tensorflow:Assets written to: /content/drive/My Drive/ECE_209_AS_project_data/UCIHARmodels/LSTM_with_reg_2/assets\n"
          ]
        },
        {
          "output_type": "stream",
          "name": "stdout",
          "text": [
            "INFO:tensorflow:Assets written to: /content/drive/My Drive/ECE_209_AS_project_data/UCIHARmodels/LSTM_with_reg_2/assets\n"
          ]
        },
        {
          "output_type": "stream",
          "name": "stderr",
          "text": [
            "INFO:tensorflow:Assets written to: /content/drive/My Drive/ECE_209_AS_project_data/UCIHARmodels/LSTM_with_reg_2/assets\n"
          ]
        },
        {
          "output_type": "stream",
          "name": "stdout",
          "text": [
            "INFO:tensorflow:Assets written to: /content/drive/My Drive/ECE_209_AS_project_data/UCIHARmodels/LSTM_with_reg_2/assets\n"
          ]
        },
        {
          "output_type": "stream",
          "name": "stderr",
          "text": [
            "INFO:tensorflow:Assets written to: /content/drive/My Drive/ECE_209_AS_project_data/UCIHARmodels/LSTM_with_reg_2/assets\n"
          ]
        },
        {
          "output_type": "stream",
          "name": "stdout",
          "text": [
            "INFO:tensorflow:Assets written to: /content/drive/My Drive/ECE_209_AS_project_data/UCIHARmodels/LSTM_with_reg_2/assets\n"
          ]
        },
        {
          "output_type": "stream",
          "name": "stderr",
          "text": [
            "INFO:tensorflow:Assets written to: /content/drive/My Drive/ECE_209_AS_project_data/UCIHARmodels/LSTM_with_reg_2/assets\n"
          ]
        },
        {
          "output_type": "stream",
          "name": "stdout",
          "text": [
            "INFO:tensorflow:Assets written to: /content/drive/My Drive/ECE_209_AS_project_data/UCIHARmodels/LSTM_with_reg_2/assets\n"
          ]
        },
        {
          "output_type": "stream",
          "name": "stderr",
          "text": [
            "INFO:tensorflow:Assets written to: /content/drive/My Drive/ECE_209_AS_project_data/UCIHARmodels/LSTM_with_reg_2/assets\n"
          ]
        },
        {
          "output_type": "stream",
          "name": "stdout",
          "text": [
            "INFO:tensorflow:Assets written to: /content/drive/My Drive/ECE_209_AS_project_data/UCIHARmodels/LSTM_with_reg_2/assets\n"
          ]
        },
        {
          "output_type": "stream",
          "name": "stderr",
          "text": [
            "INFO:tensorflow:Assets written to: /content/drive/My Drive/ECE_209_AS_project_data/UCIHARmodels/LSTM_with_reg_2/assets\n"
          ]
        },
        {
          "output_type": "stream",
          "name": "stdout",
          "text": [
            "tf.Tensor(0.9144893, shape=(), dtype=float32)\n",
            "INFO:tensorflow:Assets written to: /content/drive/My Drive/ECE_209_AS_project_data/UCIHARmodels/LSTM_with_reg_3/assets\n"
          ]
        },
        {
          "output_type": "stream",
          "name": "stderr",
          "text": [
            "INFO:tensorflow:Assets written to: /content/drive/My Drive/ECE_209_AS_project_data/UCIHARmodels/LSTM_with_reg_3/assets\n"
          ]
        },
        {
          "output_type": "stream",
          "name": "stdout",
          "text": [
            "INFO:tensorflow:Assets written to: /content/drive/My Drive/ECE_209_AS_project_data/UCIHARmodels/LSTM_with_reg_3/assets\n"
          ]
        },
        {
          "output_type": "stream",
          "name": "stderr",
          "text": [
            "INFO:tensorflow:Assets written to: /content/drive/My Drive/ECE_209_AS_project_data/UCIHARmodels/LSTM_with_reg_3/assets\n"
          ]
        },
        {
          "output_type": "stream",
          "name": "stdout",
          "text": [
            "INFO:tensorflow:Assets written to: /content/drive/My Drive/ECE_209_AS_project_data/UCIHARmodels/LSTM_with_reg_3/assets\n"
          ]
        },
        {
          "output_type": "stream",
          "name": "stderr",
          "text": [
            "INFO:tensorflow:Assets written to: /content/drive/My Drive/ECE_209_AS_project_data/UCIHARmodels/LSTM_with_reg_3/assets\n"
          ]
        },
        {
          "output_type": "stream",
          "name": "stdout",
          "text": [
            "INFO:tensorflow:Assets written to: /content/drive/My Drive/ECE_209_AS_project_data/UCIHARmodels/LSTM_with_reg_3/assets\n"
          ]
        },
        {
          "output_type": "stream",
          "name": "stderr",
          "text": [
            "INFO:tensorflow:Assets written to: /content/drive/My Drive/ECE_209_AS_project_data/UCIHARmodels/LSTM_with_reg_3/assets\n"
          ]
        },
        {
          "output_type": "stream",
          "name": "stdout",
          "text": [
            "INFO:tensorflow:Assets written to: /content/drive/My Drive/ECE_209_AS_project_data/UCIHARmodels/LSTM_with_reg_3/assets\n"
          ]
        },
        {
          "output_type": "stream",
          "name": "stderr",
          "text": [
            "INFO:tensorflow:Assets written to: /content/drive/My Drive/ECE_209_AS_project_data/UCIHARmodels/LSTM_with_reg_3/assets\n"
          ]
        },
        {
          "output_type": "stream",
          "name": "stdout",
          "text": [
            "INFO:tensorflow:Assets written to: /content/drive/My Drive/ECE_209_AS_project_data/UCIHARmodels/LSTM_with_reg_3/assets\n"
          ]
        },
        {
          "output_type": "stream",
          "name": "stderr",
          "text": [
            "INFO:tensorflow:Assets written to: /content/drive/My Drive/ECE_209_AS_project_data/UCIHARmodels/LSTM_with_reg_3/assets\n"
          ]
        },
        {
          "output_type": "stream",
          "name": "stdout",
          "text": [
            "INFO:tensorflow:Assets written to: /content/drive/My Drive/ECE_209_AS_project_data/UCIHARmodels/LSTM_with_reg_3/assets\n"
          ]
        },
        {
          "output_type": "stream",
          "name": "stderr",
          "text": [
            "INFO:tensorflow:Assets written to: /content/drive/My Drive/ECE_209_AS_project_data/UCIHARmodels/LSTM_with_reg_3/assets\n"
          ]
        },
        {
          "output_type": "stream",
          "name": "stdout",
          "text": [
            "INFO:tensorflow:Assets written to: /content/drive/My Drive/ECE_209_AS_project_data/UCIHARmodels/LSTM_with_reg_3/assets\n"
          ]
        },
        {
          "output_type": "stream",
          "name": "stderr",
          "text": [
            "INFO:tensorflow:Assets written to: /content/drive/My Drive/ECE_209_AS_project_data/UCIHARmodels/LSTM_with_reg_3/assets\n"
          ]
        },
        {
          "output_type": "stream",
          "name": "stdout",
          "text": [
            "INFO:tensorflow:Assets written to: /content/drive/My Drive/ECE_209_AS_project_data/UCIHARmodels/LSTM_with_reg_3/assets\n"
          ]
        },
        {
          "output_type": "stream",
          "name": "stderr",
          "text": [
            "INFO:tensorflow:Assets written to: /content/drive/My Drive/ECE_209_AS_project_data/UCIHARmodels/LSTM_with_reg_3/assets\n"
          ]
        },
        {
          "output_type": "stream",
          "name": "stdout",
          "text": [
            "INFO:tensorflow:Assets written to: /content/drive/My Drive/ECE_209_AS_project_data/UCIHARmodels/LSTM_with_reg_3/assets\n"
          ]
        },
        {
          "output_type": "stream",
          "name": "stderr",
          "text": [
            "INFO:tensorflow:Assets written to: /content/drive/My Drive/ECE_209_AS_project_data/UCIHARmodels/LSTM_with_reg_3/assets\n"
          ]
        },
        {
          "output_type": "stream",
          "name": "stdout",
          "text": [
            "INFO:tensorflow:Assets written to: /content/drive/My Drive/ECE_209_AS_project_data/UCIHARmodels/LSTM_with_reg_3/assets\n"
          ]
        },
        {
          "output_type": "stream",
          "name": "stderr",
          "text": [
            "INFO:tensorflow:Assets written to: /content/drive/My Drive/ECE_209_AS_project_data/UCIHARmodels/LSTM_with_reg_3/assets\n"
          ]
        },
        {
          "output_type": "stream",
          "name": "stdout",
          "text": [
            "INFO:tensorflow:Assets written to: /content/drive/My Drive/ECE_209_AS_project_data/UCIHARmodels/LSTM_with_reg_3/assets\n"
          ]
        },
        {
          "output_type": "stream",
          "name": "stderr",
          "text": [
            "INFO:tensorflow:Assets written to: /content/drive/My Drive/ECE_209_AS_project_data/UCIHARmodels/LSTM_with_reg_3/assets\n"
          ]
        },
        {
          "output_type": "stream",
          "name": "stdout",
          "text": [
            "INFO:tensorflow:Assets written to: /content/drive/My Drive/ECE_209_AS_project_data/UCIHARmodels/LSTM_with_reg_3/assets\n"
          ]
        },
        {
          "output_type": "stream",
          "name": "stderr",
          "text": [
            "INFO:tensorflow:Assets written to: /content/drive/My Drive/ECE_209_AS_project_data/UCIHARmodels/LSTM_with_reg_3/assets\n"
          ]
        },
        {
          "output_type": "stream",
          "name": "stdout",
          "text": [
            "INFO:tensorflow:Assets written to: /content/drive/My Drive/ECE_209_AS_project_data/UCIHARmodels/LSTM_with_reg_3/assets\n"
          ]
        },
        {
          "output_type": "stream",
          "name": "stderr",
          "text": [
            "INFO:tensorflow:Assets written to: /content/drive/My Drive/ECE_209_AS_project_data/UCIHARmodels/LSTM_with_reg_3/assets\n"
          ]
        },
        {
          "output_type": "stream",
          "name": "stdout",
          "text": [
            "INFO:tensorflow:Assets written to: /content/drive/My Drive/ECE_209_AS_project_data/UCIHARmodels/LSTM_with_reg_3/assets\n"
          ]
        },
        {
          "output_type": "stream",
          "name": "stderr",
          "text": [
            "INFO:tensorflow:Assets written to: /content/drive/My Drive/ECE_209_AS_project_data/UCIHARmodels/LSTM_with_reg_3/assets\n"
          ]
        },
        {
          "output_type": "stream",
          "name": "stdout",
          "text": [
            "INFO:tensorflow:Assets written to: /content/drive/My Drive/ECE_209_AS_project_data/UCIHARmodels/LSTM_with_reg_3/assets\n"
          ]
        },
        {
          "output_type": "stream",
          "name": "stderr",
          "text": [
            "INFO:tensorflow:Assets written to: /content/drive/My Drive/ECE_209_AS_project_data/UCIHARmodels/LSTM_with_reg_3/assets\n"
          ]
        },
        {
          "output_type": "stream",
          "name": "stdout",
          "text": [
            "INFO:tensorflow:Assets written to: /content/drive/My Drive/ECE_209_AS_project_data/UCIHARmodels/LSTM_with_reg_3/assets\n"
          ]
        },
        {
          "output_type": "stream",
          "name": "stderr",
          "text": [
            "INFO:tensorflow:Assets written to: /content/drive/My Drive/ECE_209_AS_project_data/UCIHARmodels/LSTM_with_reg_3/assets\n"
          ]
        },
        {
          "output_type": "stream",
          "name": "stdout",
          "text": [
            "INFO:tensorflow:Assets written to: /content/drive/My Drive/ECE_209_AS_project_data/UCIHARmodels/LSTM_with_reg_3/assets\n"
          ]
        },
        {
          "output_type": "stream",
          "name": "stderr",
          "text": [
            "INFO:tensorflow:Assets written to: /content/drive/My Drive/ECE_209_AS_project_data/UCIHARmodels/LSTM_with_reg_3/assets\n"
          ]
        },
        {
          "output_type": "stream",
          "name": "stdout",
          "text": [
            "INFO:tensorflow:Assets written to: /content/drive/My Drive/ECE_209_AS_project_data/UCIHARmodels/LSTM_with_reg_3/assets\n"
          ]
        },
        {
          "output_type": "stream",
          "name": "stderr",
          "text": [
            "INFO:tensorflow:Assets written to: /content/drive/My Drive/ECE_209_AS_project_data/UCIHARmodels/LSTM_with_reg_3/assets\n"
          ]
        },
        {
          "output_type": "stream",
          "name": "stdout",
          "text": [
            "INFO:tensorflow:Assets written to: /content/drive/My Drive/ECE_209_AS_project_data/UCIHARmodels/LSTM_with_reg_3/assets\n"
          ]
        },
        {
          "output_type": "stream",
          "name": "stderr",
          "text": [
            "INFO:tensorflow:Assets written to: /content/drive/My Drive/ECE_209_AS_project_data/UCIHARmodels/LSTM_with_reg_3/assets\n"
          ]
        },
        {
          "output_type": "stream",
          "name": "stdout",
          "text": [
            "INFO:tensorflow:Assets written to: /content/drive/My Drive/ECE_209_AS_project_data/UCIHARmodels/LSTM_with_reg_3/assets\n"
          ]
        },
        {
          "output_type": "stream",
          "name": "stderr",
          "text": [
            "INFO:tensorflow:Assets written to: /content/drive/My Drive/ECE_209_AS_project_data/UCIHARmodels/LSTM_with_reg_3/assets\n"
          ]
        },
        {
          "output_type": "stream",
          "name": "stdout",
          "text": [
            "INFO:tensorflow:Assets written to: /content/drive/My Drive/ECE_209_AS_project_data/UCIHARmodels/LSTM_with_reg_3/assets\n"
          ]
        },
        {
          "output_type": "stream",
          "name": "stderr",
          "text": [
            "INFO:tensorflow:Assets written to: /content/drive/My Drive/ECE_209_AS_project_data/UCIHARmodels/LSTM_with_reg_3/assets\n"
          ]
        },
        {
          "output_type": "stream",
          "name": "stdout",
          "text": [
            "INFO:tensorflow:Assets written to: /content/drive/My Drive/ECE_209_AS_project_data/UCIHARmodels/LSTM_with_reg_3/assets\n"
          ]
        },
        {
          "output_type": "stream",
          "name": "stderr",
          "text": [
            "INFO:tensorflow:Assets written to: /content/drive/My Drive/ECE_209_AS_project_data/UCIHARmodels/LSTM_with_reg_3/assets\n"
          ]
        },
        {
          "output_type": "stream",
          "name": "stdout",
          "text": [
            "INFO:tensorflow:Assets written to: /content/drive/My Drive/ECE_209_AS_project_data/UCIHARmodels/LSTM_with_reg_3/assets\n"
          ]
        },
        {
          "output_type": "stream",
          "name": "stderr",
          "text": [
            "INFO:tensorflow:Assets written to: /content/drive/My Drive/ECE_209_AS_project_data/UCIHARmodels/LSTM_with_reg_3/assets\n"
          ]
        },
        {
          "output_type": "stream",
          "name": "stdout",
          "text": [
            "INFO:tensorflow:Assets written to: /content/drive/My Drive/ECE_209_AS_project_data/UCIHARmodels/LSTM_with_reg_3/assets\n"
          ]
        },
        {
          "output_type": "stream",
          "name": "stderr",
          "text": [
            "INFO:tensorflow:Assets written to: /content/drive/My Drive/ECE_209_AS_project_data/UCIHARmodels/LSTM_with_reg_3/assets\n"
          ]
        },
        {
          "output_type": "stream",
          "name": "stdout",
          "text": [
            "tf.Tensor(0.9216152, shape=(), dtype=float32)\n",
            "INFO:tensorflow:Assets written to: /content/drive/My Drive/ECE_209_AS_project_data/UCIHARmodels/LSTM_with_reg_4/assets\n"
          ]
        },
        {
          "output_type": "stream",
          "name": "stderr",
          "text": [
            "INFO:tensorflow:Assets written to: /content/drive/My Drive/ECE_209_AS_project_data/UCIHARmodels/LSTM_with_reg_4/assets\n"
          ]
        },
        {
          "output_type": "stream",
          "name": "stdout",
          "text": [
            "INFO:tensorflow:Assets written to: /content/drive/My Drive/ECE_209_AS_project_data/UCIHARmodels/LSTM_with_reg_4/assets\n"
          ]
        },
        {
          "output_type": "stream",
          "name": "stderr",
          "text": [
            "INFO:tensorflow:Assets written to: /content/drive/My Drive/ECE_209_AS_project_data/UCIHARmodels/LSTM_with_reg_4/assets\n"
          ]
        },
        {
          "output_type": "stream",
          "name": "stdout",
          "text": [
            "INFO:tensorflow:Assets written to: /content/drive/My Drive/ECE_209_AS_project_data/UCIHARmodels/LSTM_with_reg_4/assets\n"
          ]
        },
        {
          "output_type": "stream",
          "name": "stderr",
          "text": [
            "INFO:tensorflow:Assets written to: /content/drive/My Drive/ECE_209_AS_project_data/UCIHARmodels/LSTM_with_reg_4/assets\n"
          ]
        },
        {
          "output_type": "stream",
          "name": "stdout",
          "text": [
            "INFO:tensorflow:Assets written to: /content/drive/My Drive/ECE_209_AS_project_data/UCIHARmodels/LSTM_with_reg_4/assets\n"
          ]
        },
        {
          "output_type": "stream",
          "name": "stderr",
          "text": [
            "INFO:tensorflow:Assets written to: /content/drive/My Drive/ECE_209_AS_project_data/UCIHARmodels/LSTM_with_reg_4/assets\n"
          ]
        },
        {
          "output_type": "stream",
          "name": "stdout",
          "text": [
            "INFO:tensorflow:Assets written to: /content/drive/My Drive/ECE_209_AS_project_data/UCIHARmodels/LSTM_with_reg_4/assets\n"
          ]
        },
        {
          "output_type": "stream",
          "name": "stderr",
          "text": [
            "INFO:tensorflow:Assets written to: /content/drive/My Drive/ECE_209_AS_project_data/UCIHARmodels/LSTM_with_reg_4/assets\n"
          ]
        },
        {
          "output_type": "stream",
          "name": "stdout",
          "text": [
            "INFO:tensorflow:Assets written to: /content/drive/My Drive/ECE_209_AS_project_data/UCIHARmodels/LSTM_with_reg_4/assets\n"
          ]
        },
        {
          "output_type": "stream",
          "name": "stderr",
          "text": [
            "INFO:tensorflow:Assets written to: /content/drive/My Drive/ECE_209_AS_project_data/UCIHARmodels/LSTM_with_reg_4/assets\n"
          ]
        },
        {
          "output_type": "stream",
          "name": "stdout",
          "text": [
            "INFO:tensorflow:Assets written to: /content/drive/My Drive/ECE_209_AS_project_data/UCIHARmodels/LSTM_with_reg_4/assets\n"
          ]
        },
        {
          "output_type": "stream",
          "name": "stderr",
          "text": [
            "INFO:tensorflow:Assets written to: /content/drive/My Drive/ECE_209_AS_project_data/UCIHARmodels/LSTM_with_reg_4/assets\n"
          ]
        },
        {
          "output_type": "stream",
          "name": "stdout",
          "text": [
            "INFO:tensorflow:Assets written to: /content/drive/My Drive/ECE_209_AS_project_data/UCIHARmodels/LSTM_with_reg_4/assets\n"
          ]
        },
        {
          "output_type": "stream",
          "name": "stderr",
          "text": [
            "INFO:tensorflow:Assets written to: /content/drive/My Drive/ECE_209_AS_project_data/UCIHARmodels/LSTM_with_reg_4/assets\n"
          ]
        },
        {
          "output_type": "stream",
          "name": "stdout",
          "text": [
            "INFO:tensorflow:Assets written to: /content/drive/My Drive/ECE_209_AS_project_data/UCIHARmodels/LSTM_with_reg_4/assets\n"
          ]
        },
        {
          "output_type": "stream",
          "name": "stderr",
          "text": [
            "INFO:tensorflow:Assets written to: /content/drive/My Drive/ECE_209_AS_project_data/UCIHARmodels/LSTM_with_reg_4/assets\n"
          ]
        },
        {
          "output_type": "stream",
          "name": "stdout",
          "text": [
            "INFO:tensorflow:Assets written to: /content/drive/My Drive/ECE_209_AS_project_data/UCIHARmodels/LSTM_with_reg_4/assets\n"
          ]
        },
        {
          "output_type": "stream",
          "name": "stderr",
          "text": [
            "INFO:tensorflow:Assets written to: /content/drive/My Drive/ECE_209_AS_project_data/UCIHARmodels/LSTM_with_reg_4/assets\n"
          ]
        },
        {
          "output_type": "stream",
          "name": "stdout",
          "text": [
            "INFO:tensorflow:Assets written to: /content/drive/My Drive/ECE_209_AS_project_data/UCIHARmodels/LSTM_with_reg_4/assets\n"
          ]
        },
        {
          "output_type": "stream",
          "name": "stderr",
          "text": [
            "INFO:tensorflow:Assets written to: /content/drive/My Drive/ECE_209_AS_project_data/UCIHARmodels/LSTM_with_reg_4/assets\n"
          ]
        },
        {
          "output_type": "stream",
          "name": "stdout",
          "text": [
            "INFO:tensorflow:Assets written to: /content/drive/My Drive/ECE_209_AS_project_data/UCIHARmodels/LSTM_with_reg_4/assets\n"
          ]
        },
        {
          "output_type": "stream",
          "name": "stderr",
          "text": [
            "INFO:tensorflow:Assets written to: /content/drive/My Drive/ECE_209_AS_project_data/UCIHARmodels/LSTM_with_reg_4/assets\n"
          ]
        },
        {
          "output_type": "stream",
          "name": "stdout",
          "text": [
            "INFO:tensorflow:Assets written to: /content/drive/My Drive/ECE_209_AS_project_data/UCIHARmodels/LSTM_with_reg_4/assets\n"
          ]
        },
        {
          "output_type": "stream",
          "name": "stderr",
          "text": [
            "INFO:tensorflow:Assets written to: /content/drive/My Drive/ECE_209_AS_project_data/UCIHARmodels/LSTM_with_reg_4/assets\n"
          ]
        },
        {
          "output_type": "stream",
          "name": "stdout",
          "text": [
            "INFO:tensorflow:Assets written to: /content/drive/My Drive/ECE_209_AS_project_data/UCIHARmodels/LSTM_with_reg_4/assets\n"
          ]
        },
        {
          "output_type": "stream",
          "name": "stderr",
          "text": [
            "INFO:tensorflow:Assets written to: /content/drive/My Drive/ECE_209_AS_project_data/UCIHARmodels/LSTM_with_reg_4/assets\n"
          ]
        },
        {
          "output_type": "stream",
          "name": "stdout",
          "text": [
            "INFO:tensorflow:Assets written to: /content/drive/My Drive/ECE_209_AS_project_data/UCIHARmodels/LSTM_with_reg_4/assets\n"
          ]
        },
        {
          "output_type": "stream",
          "name": "stderr",
          "text": [
            "INFO:tensorflow:Assets written to: /content/drive/My Drive/ECE_209_AS_project_data/UCIHARmodels/LSTM_with_reg_4/assets\n"
          ]
        },
        {
          "output_type": "stream",
          "name": "stdout",
          "text": [
            "INFO:tensorflow:Assets written to: /content/drive/My Drive/ECE_209_AS_project_data/UCIHARmodels/LSTM_with_reg_4/assets\n"
          ]
        },
        {
          "output_type": "stream",
          "name": "stderr",
          "text": [
            "INFO:tensorflow:Assets written to: /content/drive/My Drive/ECE_209_AS_project_data/UCIHARmodels/LSTM_with_reg_4/assets\n"
          ]
        },
        {
          "output_type": "stream",
          "name": "stdout",
          "text": [
            "INFO:tensorflow:Assets written to: /content/drive/My Drive/ECE_209_AS_project_data/UCIHARmodels/LSTM_with_reg_4/assets\n"
          ]
        },
        {
          "output_type": "stream",
          "name": "stderr",
          "text": [
            "INFO:tensorflow:Assets written to: /content/drive/My Drive/ECE_209_AS_project_data/UCIHARmodels/LSTM_with_reg_4/assets\n"
          ]
        },
        {
          "output_type": "stream",
          "name": "stdout",
          "text": [
            "INFO:tensorflow:Assets written to: /content/drive/My Drive/ECE_209_AS_project_data/UCIHARmodels/LSTM_with_reg_4/assets\n"
          ]
        },
        {
          "output_type": "stream",
          "name": "stderr",
          "text": [
            "INFO:tensorflow:Assets written to: /content/drive/My Drive/ECE_209_AS_project_data/UCIHARmodels/LSTM_with_reg_4/assets\n"
          ]
        },
        {
          "output_type": "stream",
          "name": "stdout",
          "text": [
            "INFO:tensorflow:Assets written to: /content/drive/My Drive/ECE_209_AS_project_data/UCIHARmodels/LSTM_with_reg_4/assets\n"
          ]
        },
        {
          "output_type": "stream",
          "name": "stderr",
          "text": [
            "INFO:tensorflow:Assets written to: /content/drive/My Drive/ECE_209_AS_project_data/UCIHARmodels/LSTM_with_reg_4/assets\n"
          ]
        },
        {
          "output_type": "stream",
          "name": "stdout",
          "text": [
            "INFO:tensorflow:Assets written to: /content/drive/My Drive/ECE_209_AS_project_data/UCIHARmodels/LSTM_with_reg_4/assets\n"
          ]
        },
        {
          "output_type": "stream",
          "name": "stderr",
          "text": [
            "INFO:tensorflow:Assets written to: /content/drive/My Drive/ECE_209_AS_project_data/UCIHARmodels/LSTM_with_reg_4/assets\n"
          ]
        },
        {
          "output_type": "stream",
          "name": "stdout",
          "text": [
            "INFO:tensorflow:Assets written to: /content/drive/My Drive/ECE_209_AS_project_data/UCIHARmodels/LSTM_with_reg_4/assets\n"
          ]
        },
        {
          "output_type": "stream",
          "name": "stderr",
          "text": [
            "INFO:tensorflow:Assets written to: /content/drive/My Drive/ECE_209_AS_project_data/UCIHARmodels/LSTM_with_reg_4/assets\n"
          ]
        },
        {
          "output_type": "stream",
          "name": "stdout",
          "text": [
            "INFO:tensorflow:Assets written to: /content/drive/My Drive/ECE_209_AS_project_data/UCIHARmodels/LSTM_with_reg_4/assets\n"
          ]
        },
        {
          "output_type": "stream",
          "name": "stderr",
          "text": [
            "INFO:tensorflow:Assets written to: /content/drive/My Drive/ECE_209_AS_project_data/UCIHARmodels/LSTM_with_reg_4/assets\n"
          ]
        },
        {
          "output_type": "stream",
          "name": "stdout",
          "text": [
            "INFO:tensorflow:Assets written to: /content/drive/My Drive/ECE_209_AS_project_data/UCIHARmodels/LSTM_with_reg_4/assets\n"
          ]
        },
        {
          "output_type": "stream",
          "name": "stderr",
          "text": [
            "INFO:tensorflow:Assets written to: /content/drive/My Drive/ECE_209_AS_project_data/UCIHARmodels/LSTM_with_reg_4/assets\n"
          ]
        },
        {
          "output_type": "stream",
          "name": "stdout",
          "text": [
            "INFO:tensorflow:Assets written to: /content/drive/My Drive/ECE_209_AS_project_data/UCIHARmodels/LSTM_with_reg_4/assets\n"
          ]
        },
        {
          "output_type": "stream",
          "name": "stderr",
          "text": [
            "INFO:tensorflow:Assets written to: /content/drive/My Drive/ECE_209_AS_project_data/UCIHARmodels/LSTM_with_reg_4/assets\n"
          ]
        },
        {
          "output_type": "stream",
          "name": "stdout",
          "text": [
            "INFO:tensorflow:Assets written to: /content/drive/My Drive/ECE_209_AS_project_data/UCIHARmodels/LSTM_with_reg_4/assets\n"
          ]
        },
        {
          "output_type": "stream",
          "name": "stderr",
          "text": [
            "INFO:tensorflow:Assets written to: /content/drive/My Drive/ECE_209_AS_project_data/UCIHARmodels/LSTM_with_reg_4/assets\n"
          ]
        },
        {
          "output_type": "stream",
          "name": "stdout",
          "text": [
            "tf.Tensor(0.9144893, shape=(), dtype=float32)\n"
          ]
        }
      ]
    },
    {
      "cell_type": "code",
      "source": [
        "sum_ac = 0\n",
        "\n",
        "for ac in test_accuracies_with_reg:\n",
        "\n",
        "  sum_ac += ac.numpy()\n",
        "\n",
        "print(f\"Mean accuracy is {sum_ac/len(test_accuracies_with_reg)}\")"
      ],
      "metadata": {
        "colab": {
          "base_uri": "https://localhost:8080/"
        },
        "id": "VO3WodH__1BV",
        "outputId": "bd05fd8f-c946-4b62-8b05-0d1f15a932b8"
      },
      "id": "VO3WodH__1BV",
      "execution_count": null,
      "outputs": [
        {
          "output_type": "stream",
          "name": "stdout",
          "text": [
            "Mean accuracy is 0.9193077683448792\n"
          ]
        }
      ]
    },
    {
      "cell_type": "code",
      "source": [
        "mean_recall_scores_with_reg  = sum(recall_scores_with_reg)/len(recall_scores_with_reg)\n",
        "\n",
        "for i in range(len(mean_recall_scores_with_reg)):\n",
        "\n",
        "  print(f\"Label {data_class_names[i]} has mean accuracy {mean_recall_scores_with_reg[i]}\")"
      ],
      "metadata": {
        "colab": {
          "base_uri": "https://localhost:8080/"
        },
        "id": "TgrX8i4u_32k",
        "outputId": "cdc9a30d-344f-4d3b-bc24-d89334d0a8f5"
      },
      "id": "TgrX8i4u_32k",
      "execution_count": null,
      "outputs": [
        {
          "output_type": "stream",
          "name": "stdout",
          "text": [
            "Label Walking has mean accuracy 0.9443548387096774\n",
            "Label Stairs-Up has mean accuracy 0.9749469214437367\n",
            "Label Stairs-Down has mean accuracy 0.9914285714285714\n",
            "Label Sitting has mean accuracy 0.769857433808554\n",
            "Label Standing has mean accuracy 0.8563909774436089\n",
            "Label Lying has mean accuracy 0.9899441340782122\n"
          ]
        }
      ]
    },
    {
      "cell_type": "markdown",
      "source": [
        "## With Augmentations\n",
        "\n",
        "1. Rotation\n",
        "2. Scale\n",
        "3. Magnify\n",
        "4. Resample\n",
        "5. Noise"
      ],
      "metadata": {
        "id": "inzqqX_x59It"
      },
      "id": "inzqqX_x59It"
    },
    {
      "cell_type": "markdown",
      "source": [
        "### Augmentations"
      ],
      "metadata": {
        "id": "_yfPDEClURqA"
      },
      "id": "_yfPDEClURqA"
    },
    {
      "cell_type": "code",
      "source": [
        "import numpy as np\n",
        "import tensorflow as tf\n",
        "import random\n",
        "\n",
        "def resampling_fast_random(x):\n",
        "    M, N = random.choice([[1, 0], [2, 1], [3, 2]])\n",
        "    time_steps = x.shape[1]\n",
        "    raw_set = np.arange(x.shape[1])\n",
        "    interp_steps = np.arange(0, raw_set[-1] + 1e-1, 1 / (M + 1))\n",
        "    x_interp = interp1d(raw_set, x, axis=1)\n",
        "    x_up = x_interp(interp_steps)\n",
        "\n",
        "    length_inserted = x_up.shape[1]\n",
        "    start = random.randint(0, length_inserted - time_steps * (N + 1))\n",
        "    index_selected = np.arange(start, start + time_steps * (N + 1), N + 1)\n",
        "    return x_up[:, index_selected, :]\n",
        "\n",
        "def resampling(x,M,N):\n",
        "    '''\n",
        "    :param x: the data of a batch,shape=(batch_size,timesteps,features)\n",
        "    :param M: the number of  new value under tow values\n",
        "    :param N: the interval of resampling\n",
        "    :return: x after resampling，shape=(batch_size,timesteps,features)\n",
        "    '''\n",
        "    assert M>N,'the value of M have to greater than N'\n",
        "\n",
        "    timesetps = x.shape[1]\n",
        "\n",
        "    for i in range(timesetps-1):\n",
        "        x1 = x[:,i*(M+1),:]\n",
        "        x2 = x[:,i*(M+1)+1,:]\n",
        "        for j in range(M):\n",
        "            v = np.add(1,np.subtract(x2,x1)*(j+1)/(M+1))\n",
        "            x = np.insert(x,i*(M+1)+j+1,v,axis=1)\n",
        "\n",
        "    length_inserted = x.shape[1]\n",
        "    start = random.randint(0,length_inserted-timesetps*(N+1))\n",
        "    index_selected = np.arange(start,start+timesetps*(N+1),N+1)\n",
        "    return x[:,index_selected,:]\n",
        "    return x\n",
        "\n",
        "def noise(x):\n",
        "    x = tf.add(x,tf.multiply(x,tf.cast(tf.random.uniform(shape = (x.shape[0],x.shape[1],x.shape[2]),minval=-0.1,maxval=0.1),tf.float32)))\n",
        "    return x\n",
        "\n",
        "\n",
        "def scaling(x):\n",
        "    alpha = np.random.randint(7,10)/10\n",
        "    # alpha = 0.9\n",
        "    return tf.multiply(x,alpha)\n",
        "#\n",
        "def magnify(x):\n",
        "    lam = np.random.randint(11,14)/10\n",
        "    return tf.multiply(x,lam)\n",
        "\n",
        "\n",
        "def inverting(x):\n",
        "    return np.multiply(x,-1)\n",
        "def reversing(x):\n",
        "    return x[:,-1::-1,:]\n",
        "\n",
        "\n",
        "def rotation(x):\n",
        "    c = x.shape[2]//3\n",
        "    x_new = rotation_transform_vectorized(x[:,:,0:3])\n",
        "    for i in range(1,c):\n",
        "        temp = rotation_transform_vectorized(x[:,:,i*3:(i+1)*3])\n",
        "        x_new = np.concatenate((x_new,temp),axis=-1)\n",
        "    return x_new\n",
        "def rotation_transform_vectorized(X):\n",
        "    \"\"\"\n",
        "    Applying a random 3D rotation\n",
        "    \"\"\"\n",
        "    axes = np.random.uniform(low=-1, high=1, size=(X.shape[0], X.shape[2]))\n",
        "    angles = np.random.uniform(low=-np.pi, high=np.pi, size=(X.shape[0]))\n",
        "    matrices = axis_angle_to_rotation_matrix_3d_vectorized(axes, angles)\n",
        "\n",
        "    return np.matmul(X, matrices)\n",
        "def axis_angle_to_rotation_matrix_3d_vectorized(axes, angles):\n",
        "    \"\"\"\n",
        "    Get the rotational matrix corresponding to a rotation of (angle) radian around the axes\n",
        "    Reference: the Transforms3d package - transforms3d.axangles.axangle2mat\n",
        "    Formula: http://en.wikipedia.org/wiki/Rotation_matrix#Axis_and_angle\n",
        "    \"\"\"\n",
        "    axes = axes / np.linalg.norm(axes, ord=2, axis=1, keepdims=True)\n",
        "    x = axes[:, 0]; y = axes[:, 1]; z = axes[:, 2]\n",
        "    c = np.cos(angles)\n",
        "    s = np.sin(angles)\n",
        "    C = 1 - c\n",
        "\n",
        "    xs = x*s;   ys = y*s;   zs = z*s\n",
        "    xC = x*C;   yC = y*C;   zC = z*C\n",
        "    xyC = x*yC; yzC = y*zC; zxC = z*xC\n",
        "\n",
        "    m = np.array([\n",
        "        [ x*xC+c,   xyC-zs,   zxC+ys ],\n",
        "        [ xyC+zs,   y*yC+c,   yzC-xs ],\n",
        "        [ zxC-ys,   yzC+xs,   z*zC+c ]])\n",
        "    matrix_transposed = np.transpose(m, axes=(2,0,1))\n",
        "    return matrix_transposed\n",
        "## This example using cubic splice is not the best approach to generate random curves. \n",
        "## You can use other aprroaches, e.g., Gaussian process regression, Bezier curve, etc.\n",
        "def GenerateRandomCurves(X, sigma=0.2, knot=4):\n",
        "    xx = (np.ones((X.shape[1],1))*(np.arange(0,X.shape[0], (X.shape[0]-1)/(knot+1)))).transpose()\n",
        "    yy = np.random.normal(loc=1.0, scale=sigma, size=(knot+2, X.shape[1]))\n",
        "    x_range = np.arange(X.shape[0])\n",
        "    cs_x = CubicSpline(xx[:,0], yy[:,0])\n",
        "    cs_y = CubicSpline(xx[:,1], yy[:,1])\n",
        "    cs_z = CubicSpline(xx[:,2], yy[:,2])\n",
        "    return np.array([cs_x(x_range),cs_y(x_range),cs_z(x_range)]).transpose()\n",
        "\n",
        "  \n",
        "def DistortTimesteps(X, sigma=0.2):\n",
        "    tt = GenerateRandomCurves(X, sigma) # Regard these samples aroun 1 as time intervals\n",
        "    tt_cum = np.cumsum(tt, axis=0)        # Add intervals to make a cumulative graph\n",
        "    # Make the last value to have X.shape[0]\n",
        "    t_scale = [(X.shape[0]-1)/tt_cum[-1,0],(X.shape[0]-1)/tt_cum[-1,1],(X.shape[0]-1)/tt_cum[-1,2]]\n",
        "    tt_cum[:,0] = tt_cum[:,0]*t_scale[0]\n",
        "    tt_cum[:,1] = tt_cum[:,1]*t_scale[1]\n",
        "    tt_cum[:,2] = tt_cum[:,2]*t_scale[2]\n",
        "    return tt_cum\n",
        "\n",
        "def DA_TimeWarp(X, sigma=0.2):\n",
        "    tt_new = DistortTimesteps(X, sigma)\n",
        "    X_new = np.zeros(X.shape)\n",
        "    x_range = np.arange(X.shape[0])\n",
        "    X_new[:,0] = np.interp(x_range, tt_new[:,0], X[:,0])\n",
        "    X_new[:,1] = np.interp(x_range, tt_new[:,1], X[:,1])\n",
        "    X_new[:,2] = np.interp(x_range, tt_new[:,2], X[:,2])\n",
        "    return X_new\n"
      ],
      "metadata": {
        "id": "2NqzomTtUUNJ"
      },
      "id": "2NqzomTtUUNJ",
      "execution_count": null,
      "outputs": []
    },
    {
      "cell_type": "markdown",
      "source": [
        "### Rotation"
      ],
      "metadata": {
        "id": "m6gJcAY4Ou6z"
      },
      "id": "m6gJcAY4Ou6z"
    },
    {
      "cell_type": "code",
      "source": [
        "test_accuracies_rot = []\n",
        "recall_scores_rot = []\n",
        "\n",
        "for i in range(5):\n",
        "\n",
        "  rnd_seed = np.random.randint(1, 100)\n",
        "  seeds.append(rnd_seed)\n",
        "  tf.random.set_seed(rnd_seed)\n",
        "  indices = np.random.RandomState(seed=rnd_seed).permutation(len(X_train))\n",
        "  X_train = X_train[indices]\n",
        "  Y_train = Y_train[indices]\n",
        "\n",
        "  X_train_rot = rotation((X_train))\n",
        "  Xtrain_tot=np.concatenate((X_train, X_train_rot))\n",
        "  Y_train_tot = np.concatenate((Y_train, Y_train))\n",
        "\n",
        "  train_data = Xtrain_tot[len(Xtrain_tot)//10:]\n",
        "  train_labels = Y_train_tot[len(Xtrain_tot)//10:]\n",
        "  val_data = Xtrain_tot[:len(Xtrain_tot)//10]\n",
        "  val_labels = Y_train_tot[:len(Xtrain_tot)//10]\n",
        "\n",
        "  model = keras.Model(inputs = inputs, outputs = outputs)\n",
        "  model.compile(loss = \"sparse_categorical_crossentropy\", optimizer = \"adam\", metrics=[\"accuracy\"])\n",
        "  tensorboard = keras.callbacks.TensorBoard(log_dir = path_to_logs)\n",
        "  callbacks = [keras.callbacks.ModelCheckpoint(filepath=path_to_models + f\"LSTM_withrot_{i}\"), tensorboard]\n",
        "  history = model.fit(train_data, train_labels, epochs = 25, batch_size = 64, validation_data = (val_data, val_labels), callbacks = callbacks, class_weight = data_class_weights, verbose = False)\n",
        "\n",
        "  model_saved = keras.models.load_model(path_to_models + f\"LSTM_withrot_{i}\")\n",
        "  test_accuracy = tf.keras.metrics.Accuracy()\n",
        "  logits = model_saved(X_test, training=False)\n",
        "  prediction = tf.argmax(logits, axis=1, output_type=tf.int32)\n",
        "  test_accuracies_rot.append(test_accuracy(prediction, Y_test))\n",
        "  print(test_accuracy(prediction, Y_test))\n",
        "  recall_scores_rot.append(recall_score(Y_test, prediction, average=None))"
      ],
      "metadata": {
        "colab": {
          "base_uri": "https://localhost:8080/"
        },
        "id": "ftcQfCEgNbfo",
        "outputId": "cd568241-2c1b-449d-cd9b-8b28b31abb38"
      },
      "id": "ftcQfCEgNbfo",
      "execution_count": null,
      "outputs": [
        {
          "output_type": "stream",
          "name": "stdout",
          "text": [
            "INFO:tensorflow:Assets written to: /content/drive/My Drive/ECE_209_AS_project_data/UCIHARmodels/LSTM_withrot_0/assets\n"
          ]
        },
        {
          "output_type": "stream",
          "name": "stderr",
          "text": [
            "INFO:tensorflow:Assets written to: /content/drive/My Drive/ECE_209_AS_project_data/UCIHARmodels/LSTM_withrot_0/assets\n"
          ]
        },
        {
          "output_type": "stream",
          "name": "stdout",
          "text": [
            "INFO:tensorflow:Assets written to: /content/drive/My Drive/ECE_209_AS_project_data/UCIHARmodels/LSTM_withrot_0/assets\n"
          ]
        },
        {
          "output_type": "stream",
          "name": "stderr",
          "text": [
            "INFO:tensorflow:Assets written to: /content/drive/My Drive/ECE_209_AS_project_data/UCIHARmodels/LSTM_withrot_0/assets\n"
          ]
        },
        {
          "output_type": "stream",
          "name": "stdout",
          "text": [
            "INFO:tensorflow:Assets written to: /content/drive/My Drive/ECE_209_AS_project_data/UCIHARmodels/LSTM_withrot_0/assets\n"
          ]
        },
        {
          "output_type": "stream",
          "name": "stderr",
          "text": [
            "INFO:tensorflow:Assets written to: /content/drive/My Drive/ECE_209_AS_project_data/UCIHARmodels/LSTM_withrot_0/assets\n"
          ]
        },
        {
          "output_type": "stream",
          "name": "stdout",
          "text": [
            "INFO:tensorflow:Assets written to: /content/drive/My Drive/ECE_209_AS_project_data/UCIHARmodels/LSTM_withrot_0/assets\n"
          ]
        },
        {
          "output_type": "stream",
          "name": "stderr",
          "text": [
            "INFO:tensorflow:Assets written to: /content/drive/My Drive/ECE_209_AS_project_data/UCIHARmodels/LSTM_withrot_0/assets\n"
          ]
        },
        {
          "output_type": "stream",
          "name": "stdout",
          "text": [
            "INFO:tensorflow:Assets written to: /content/drive/My Drive/ECE_209_AS_project_data/UCIHARmodels/LSTM_withrot_0/assets\n"
          ]
        },
        {
          "output_type": "stream",
          "name": "stderr",
          "text": [
            "INFO:tensorflow:Assets written to: /content/drive/My Drive/ECE_209_AS_project_data/UCIHARmodels/LSTM_withrot_0/assets\n"
          ]
        },
        {
          "output_type": "stream",
          "name": "stdout",
          "text": [
            "INFO:tensorflow:Assets written to: /content/drive/My Drive/ECE_209_AS_project_data/UCIHARmodels/LSTM_withrot_0/assets\n"
          ]
        },
        {
          "output_type": "stream",
          "name": "stderr",
          "text": [
            "INFO:tensorflow:Assets written to: /content/drive/My Drive/ECE_209_AS_project_data/UCIHARmodels/LSTM_withrot_0/assets\n"
          ]
        },
        {
          "output_type": "stream",
          "name": "stdout",
          "text": [
            "INFO:tensorflow:Assets written to: /content/drive/My Drive/ECE_209_AS_project_data/UCIHARmodels/LSTM_withrot_0/assets\n"
          ]
        },
        {
          "output_type": "stream",
          "name": "stderr",
          "text": [
            "INFO:tensorflow:Assets written to: /content/drive/My Drive/ECE_209_AS_project_data/UCIHARmodels/LSTM_withrot_0/assets\n"
          ]
        },
        {
          "output_type": "stream",
          "name": "stdout",
          "text": [
            "INFO:tensorflow:Assets written to: /content/drive/My Drive/ECE_209_AS_project_data/UCIHARmodels/LSTM_withrot_0/assets\n"
          ]
        },
        {
          "output_type": "stream",
          "name": "stderr",
          "text": [
            "INFO:tensorflow:Assets written to: /content/drive/My Drive/ECE_209_AS_project_data/UCIHARmodels/LSTM_withrot_0/assets\n"
          ]
        },
        {
          "output_type": "stream",
          "name": "stdout",
          "text": [
            "INFO:tensorflow:Assets written to: /content/drive/My Drive/ECE_209_AS_project_data/UCIHARmodels/LSTM_withrot_0/assets\n"
          ]
        },
        {
          "output_type": "stream",
          "name": "stderr",
          "text": [
            "INFO:tensorflow:Assets written to: /content/drive/My Drive/ECE_209_AS_project_data/UCIHARmodels/LSTM_withrot_0/assets\n"
          ]
        },
        {
          "output_type": "stream",
          "name": "stdout",
          "text": [
            "INFO:tensorflow:Assets written to: /content/drive/My Drive/ECE_209_AS_project_data/UCIHARmodels/LSTM_withrot_0/assets\n"
          ]
        },
        {
          "output_type": "stream",
          "name": "stderr",
          "text": [
            "INFO:tensorflow:Assets written to: /content/drive/My Drive/ECE_209_AS_project_data/UCIHARmodels/LSTM_withrot_0/assets\n"
          ]
        },
        {
          "output_type": "stream",
          "name": "stdout",
          "text": [
            "INFO:tensorflow:Assets written to: /content/drive/My Drive/ECE_209_AS_project_data/UCIHARmodels/LSTM_withrot_0/assets\n"
          ]
        },
        {
          "output_type": "stream",
          "name": "stderr",
          "text": [
            "INFO:tensorflow:Assets written to: /content/drive/My Drive/ECE_209_AS_project_data/UCIHARmodels/LSTM_withrot_0/assets\n"
          ]
        },
        {
          "output_type": "stream",
          "name": "stdout",
          "text": [
            "INFO:tensorflow:Assets written to: /content/drive/My Drive/ECE_209_AS_project_data/UCIHARmodels/LSTM_withrot_0/assets\n"
          ]
        },
        {
          "output_type": "stream",
          "name": "stderr",
          "text": [
            "INFO:tensorflow:Assets written to: /content/drive/My Drive/ECE_209_AS_project_data/UCIHARmodels/LSTM_withrot_0/assets\n"
          ]
        },
        {
          "output_type": "stream",
          "name": "stdout",
          "text": [
            "INFO:tensorflow:Assets written to: /content/drive/My Drive/ECE_209_AS_project_data/UCIHARmodels/LSTM_withrot_0/assets\n"
          ]
        },
        {
          "output_type": "stream",
          "name": "stderr",
          "text": [
            "INFO:tensorflow:Assets written to: /content/drive/My Drive/ECE_209_AS_project_data/UCIHARmodels/LSTM_withrot_0/assets\n"
          ]
        },
        {
          "output_type": "stream",
          "name": "stdout",
          "text": [
            "INFO:tensorflow:Assets written to: /content/drive/My Drive/ECE_209_AS_project_data/UCIHARmodels/LSTM_withrot_0/assets\n"
          ]
        },
        {
          "output_type": "stream",
          "name": "stderr",
          "text": [
            "INFO:tensorflow:Assets written to: /content/drive/My Drive/ECE_209_AS_project_data/UCIHARmodels/LSTM_withrot_0/assets\n"
          ]
        },
        {
          "output_type": "stream",
          "name": "stdout",
          "text": [
            "INFO:tensorflow:Assets written to: /content/drive/My Drive/ECE_209_AS_project_data/UCIHARmodels/LSTM_withrot_0/assets\n"
          ]
        },
        {
          "output_type": "stream",
          "name": "stderr",
          "text": [
            "INFO:tensorflow:Assets written to: /content/drive/My Drive/ECE_209_AS_project_data/UCIHARmodels/LSTM_withrot_0/assets\n"
          ]
        },
        {
          "output_type": "stream",
          "name": "stdout",
          "text": [
            "INFO:tensorflow:Assets written to: /content/drive/My Drive/ECE_209_AS_project_data/UCIHARmodels/LSTM_withrot_0/assets\n"
          ]
        },
        {
          "output_type": "stream",
          "name": "stderr",
          "text": [
            "INFO:tensorflow:Assets written to: /content/drive/My Drive/ECE_209_AS_project_data/UCIHARmodels/LSTM_withrot_0/assets\n"
          ]
        },
        {
          "output_type": "stream",
          "name": "stdout",
          "text": [
            "INFO:tensorflow:Assets written to: /content/drive/My Drive/ECE_209_AS_project_data/UCIHARmodels/LSTM_withrot_0/assets\n"
          ]
        },
        {
          "output_type": "stream",
          "name": "stderr",
          "text": [
            "INFO:tensorflow:Assets written to: /content/drive/My Drive/ECE_209_AS_project_data/UCIHARmodels/LSTM_withrot_0/assets\n"
          ]
        },
        {
          "output_type": "stream",
          "name": "stdout",
          "text": [
            "INFO:tensorflow:Assets written to: /content/drive/My Drive/ECE_209_AS_project_data/UCIHARmodels/LSTM_withrot_0/assets\n"
          ]
        },
        {
          "output_type": "stream",
          "name": "stderr",
          "text": [
            "INFO:tensorflow:Assets written to: /content/drive/My Drive/ECE_209_AS_project_data/UCIHARmodels/LSTM_withrot_0/assets\n"
          ]
        },
        {
          "output_type": "stream",
          "name": "stdout",
          "text": [
            "INFO:tensorflow:Assets written to: /content/drive/My Drive/ECE_209_AS_project_data/UCIHARmodels/LSTM_withrot_0/assets\n"
          ]
        },
        {
          "output_type": "stream",
          "name": "stderr",
          "text": [
            "INFO:tensorflow:Assets written to: /content/drive/My Drive/ECE_209_AS_project_data/UCIHARmodels/LSTM_withrot_0/assets\n"
          ]
        },
        {
          "output_type": "stream",
          "name": "stdout",
          "text": [
            "INFO:tensorflow:Assets written to: /content/drive/My Drive/ECE_209_AS_project_data/UCIHARmodels/LSTM_withrot_0/assets\n"
          ]
        },
        {
          "output_type": "stream",
          "name": "stderr",
          "text": [
            "INFO:tensorflow:Assets written to: /content/drive/My Drive/ECE_209_AS_project_data/UCIHARmodels/LSTM_withrot_0/assets\n"
          ]
        },
        {
          "output_type": "stream",
          "name": "stdout",
          "text": [
            "INFO:tensorflow:Assets written to: /content/drive/My Drive/ECE_209_AS_project_data/UCIHARmodels/LSTM_withrot_0/assets\n"
          ]
        },
        {
          "output_type": "stream",
          "name": "stderr",
          "text": [
            "INFO:tensorflow:Assets written to: /content/drive/My Drive/ECE_209_AS_project_data/UCIHARmodels/LSTM_withrot_0/assets\n"
          ]
        },
        {
          "output_type": "stream",
          "name": "stdout",
          "text": [
            "INFO:tensorflow:Assets written to: /content/drive/My Drive/ECE_209_AS_project_data/UCIHARmodels/LSTM_withrot_0/assets\n"
          ]
        },
        {
          "output_type": "stream",
          "name": "stderr",
          "text": [
            "INFO:tensorflow:Assets written to: /content/drive/My Drive/ECE_209_AS_project_data/UCIHARmodels/LSTM_withrot_0/assets\n"
          ]
        },
        {
          "output_type": "stream",
          "name": "stdout",
          "text": [
            "INFO:tensorflow:Assets written to: /content/drive/My Drive/ECE_209_AS_project_data/UCIHARmodels/LSTM_withrot_0/assets\n"
          ]
        },
        {
          "output_type": "stream",
          "name": "stderr",
          "text": [
            "INFO:tensorflow:Assets written to: /content/drive/My Drive/ECE_209_AS_project_data/UCIHARmodels/LSTM_withrot_0/assets\n"
          ]
        },
        {
          "output_type": "stream",
          "name": "stdout",
          "text": [
            "INFO:tensorflow:Assets written to: /content/drive/My Drive/ECE_209_AS_project_data/UCIHARmodels/LSTM_withrot_0/assets\n"
          ]
        },
        {
          "output_type": "stream",
          "name": "stderr",
          "text": [
            "INFO:tensorflow:Assets written to: /content/drive/My Drive/ECE_209_AS_project_data/UCIHARmodels/LSTM_withrot_0/assets\n"
          ]
        },
        {
          "output_type": "stream",
          "name": "stdout",
          "text": [
            "INFO:tensorflow:Assets written to: /content/drive/My Drive/ECE_209_AS_project_data/UCIHARmodels/LSTM_withrot_0/assets\n"
          ]
        },
        {
          "output_type": "stream",
          "name": "stderr",
          "text": [
            "INFO:tensorflow:Assets written to: /content/drive/My Drive/ECE_209_AS_project_data/UCIHARmodels/LSTM_withrot_0/assets\n"
          ]
        },
        {
          "output_type": "stream",
          "name": "stdout",
          "text": [
            "tf.Tensor(0.91482866, shape=(), dtype=float32)\n",
            "INFO:tensorflow:Assets written to: /content/drive/My Drive/ECE_209_AS_project_data/UCIHARmodels/LSTM_withrot_1/assets\n"
          ]
        },
        {
          "output_type": "stream",
          "name": "stderr",
          "text": [
            "INFO:tensorflow:Assets written to: /content/drive/My Drive/ECE_209_AS_project_data/UCIHARmodels/LSTM_withrot_1/assets\n"
          ]
        },
        {
          "output_type": "stream",
          "name": "stdout",
          "text": [
            "INFO:tensorflow:Assets written to: /content/drive/My Drive/ECE_209_AS_project_data/UCIHARmodels/LSTM_withrot_1/assets\n"
          ]
        },
        {
          "output_type": "stream",
          "name": "stderr",
          "text": [
            "INFO:tensorflow:Assets written to: /content/drive/My Drive/ECE_209_AS_project_data/UCIHARmodels/LSTM_withrot_1/assets\n"
          ]
        },
        {
          "output_type": "stream",
          "name": "stdout",
          "text": [
            "INFO:tensorflow:Assets written to: /content/drive/My Drive/ECE_209_AS_project_data/UCIHARmodels/LSTM_withrot_1/assets\n"
          ]
        },
        {
          "output_type": "stream",
          "name": "stderr",
          "text": [
            "INFO:tensorflow:Assets written to: /content/drive/My Drive/ECE_209_AS_project_data/UCIHARmodels/LSTM_withrot_1/assets\n"
          ]
        },
        {
          "output_type": "stream",
          "name": "stdout",
          "text": [
            "INFO:tensorflow:Assets written to: /content/drive/My Drive/ECE_209_AS_project_data/UCIHARmodels/LSTM_withrot_1/assets\n"
          ]
        },
        {
          "output_type": "stream",
          "name": "stderr",
          "text": [
            "INFO:tensorflow:Assets written to: /content/drive/My Drive/ECE_209_AS_project_data/UCIHARmodels/LSTM_withrot_1/assets\n"
          ]
        },
        {
          "output_type": "stream",
          "name": "stdout",
          "text": [
            "INFO:tensorflow:Assets written to: /content/drive/My Drive/ECE_209_AS_project_data/UCIHARmodels/LSTM_withrot_1/assets\n"
          ]
        },
        {
          "output_type": "stream",
          "name": "stderr",
          "text": [
            "INFO:tensorflow:Assets written to: /content/drive/My Drive/ECE_209_AS_project_data/UCIHARmodels/LSTM_withrot_1/assets\n"
          ]
        },
        {
          "output_type": "stream",
          "name": "stdout",
          "text": [
            "INFO:tensorflow:Assets written to: /content/drive/My Drive/ECE_209_AS_project_data/UCIHARmodels/LSTM_withrot_1/assets\n"
          ]
        },
        {
          "output_type": "stream",
          "name": "stderr",
          "text": [
            "INFO:tensorflow:Assets written to: /content/drive/My Drive/ECE_209_AS_project_data/UCIHARmodels/LSTM_withrot_1/assets\n"
          ]
        },
        {
          "output_type": "stream",
          "name": "stdout",
          "text": [
            "INFO:tensorflow:Assets written to: /content/drive/My Drive/ECE_209_AS_project_data/UCIHARmodels/LSTM_withrot_1/assets\n"
          ]
        },
        {
          "output_type": "stream",
          "name": "stderr",
          "text": [
            "INFO:tensorflow:Assets written to: /content/drive/My Drive/ECE_209_AS_project_data/UCIHARmodels/LSTM_withrot_1/assets\n"
          ]
        },
        {
          "output_type": "stream",
          "name": "stdout",
          "text": [
            "INFO:tensorflow:Assets written to: /content/drive/My Drive/ECE_209_AS_project_data/UCIHARmodels/LSTM_withrot_1/assets\n"
          ]
        },
        {
          "output_type": "stream",
          "name": "stderr",
          "text": [
            "INFO:tensorflow:Assets written to: /content/drive/My Drive/ECE_209_AS_project_data/UCIHARmodels/LSTM_withrot_1/assets\n"
          ]
        },
        {
          "output_type": "stream",
          "name": "stdout",
          "text": [
            "INFO:tensorflow:Assets written to: /content/drive/My Drive/ECE_209_AS_project_data/UCIHARmodels/LSTM_withrot_1/assets\n"
          ]
        },
        {
          "output_type": "stream",
          "name": "stderr",
          "text": [
            "INFO:tensorflow:Assets written to: /content/drive/My Drive/ECE_209_AS_project_data/UCIHARmodels/LSTM_withrot_1/assets\n"
          ]
        },
        {
          "output_type": "stream",
          "name": "stdout",
          "text": [
            "INFO:tensorflow:Assets written to: /content/drive/My Drive/ECE_209_AS_project_data/UCIHARmodels/LSTM_withrot_1/assets\n"
          ]
        },
        {
          "output_type": "stream",
          "name": "stderr",
          "text": [
            "INFO:tensorflow:Assets written to: /content/drive/My Drive/ECE_209_AS_project_data/UCIHARmodels/LSTM_withrot_1/assets\n"
          ]
        },
        {
          "output_type": "stream",
          "name": "stdout",
          "text": [
            "INFO:tensorflow:Assets written to: /content/drive/My Drive/ECE_209_AS_project_data/UCIHARmodels/LSTM_withrot_1/assets\n"
          ]
        },
        {
          "output_type": "stream",
          "name": "stderr",
          "text": [
            "INFO:tensorflow:Assets written to: /content/drive/My Drive/ECE_209_AS_project_data/UCIHARmodels/LSTM_withrot_1/assets\n"
          ]
        },
        {
          "output_type": "stream",
          "name": "stdout",
          "text": [
            "INFO:tensorflow:Assets written to: /content/drive/My Drive/ECE_209_AS_project_data/UCIHARmodels/LSTM_withrot_1/assets\n"
          ]
        },
        {
          "output_type": "stream",
          "name": "stderr",
          "text": [
            "INFO:tensorflow:Assets written to: /content/drive/My Drive/ECE_209_AS_project_data/UCIHARmodels/LSTM_withrot_1/assets\n"
          ]
        },
        {
          "output_type": "stream",
          "name": "stdout",
          "text": [
            "INFO:tensorflow:Assets written to: /content/drive/My Drive/ECE_209_AS_project_data/UCIHARmodels/LSTM_withrot_1/assets\n"
          ]
        },
        {
          "output_type": "stream",
          "name": "stderr",
          "text": [
            "INFO:tensorflow:Assets written to: /content/drive/My Drive/ECE_209_AS_project_data/UCIHARmodels/LSTM_withrot_1/assets\n"
          ]
        },
        {
          "output_type": "stream",
          "name": "stdout",
          "text": [
            "INFO:tensorflow:Assets written to: /content/drive/My Drive/ECE_209_AS_project_data/UCIHARmodels/LSTM_withrot_1/assets\n"
          ]
        },
        {
          "output_type": "stream",
          "name": "stderr",
          "text": [
            "INFO:tensorflow:Assets written to: /content/drive/My Drive/ECE_209_AS_project_data/UCIHARmodels/LSTM_withrot_1/assets\n"
          ]
        },
        {
          "output_type": "stream",
          "name": "stdout",
          "text": [
            "INFO:tensorflow:Assets written to: /content/drive/My Drive/ECE_209_AS_project_data/UCIHARmodels/LSTM_withrot_1/assets\n"
          ]
        },
        {
          "output_type": "stream",
          "name": "stderr",
          "text": [
            "INFO:tensorflow:Assets written to: /content/drive/My Drive/ECE_209_AS_project_data/UCIHARmodels/LSTM_withrot_1/assets\n"
          ]
        },
        {
          "output_type": "stream",
          "name": "stdout",
          "text": [
            "INFO:tensorflow:Assets written to: /content/drive/My Drive/ECE_209_AS_project_data/UCIHARmodels/LSTM_withrot_1/assets\n"
          ]
        },
        {
          "output_type": "stream",
          "name": "stderr",
          "text": [
            "INFO:tensorflow:Assets written to: /content/drive/My Drive/ECE_209_AS_project_data/UCIHARmodels/LSTM_withrot_1/assets\n"
          ]
        },
        {
          "output_type": "stream",
          "name": "stdout",
          "text": [
            "INFO:tensorflow:Assets written to: /content/drive/My Drive/ECE_209_AS_project_data/UCIHARmodels/LSTM_withrot_1/assets\n"
          ]
        },
        {
          "output_type": "stream",
          "name": "stderr",
          "text": [
            "INFO:tensorflow:Assets written to: /content/drive/My Drive/ECE_209_AS_project_data/UCIHARmodels/LSTM_withrot_1/assets\n"
          ]
        },
        {
          "output_type": "stream",
          "name": "stdout",
          "text": [
            "INFO:tensorflow:Assets written to: /content/drive/My Drive/ECE_209_AS_project_data/UCIHARmodels/LSTM_withrot_1/assets\n"
          ]
        },
        {
          "output_type": "stream",
          "name": "stderr",
          "text": [
            "INFO:tensorflow:Assets written to: /content/drive/My Drive/ECE_209_AS_project_data/UCIHARmodels/LSTM_withrot_1/assets\n"
          ]
        },
        {
          "output_type": "stream",
          "name": "stdout",
          "text": [
            "INFO:tensorflow:Assets written to: /content/drive/My Drive/ECE_209_AS_project_data/UCIHARmodels/LSTM_withrot_1/assets\n"
          ]
        },
        {
          "output_type": "stream",
          "name": "stderr",
          "text": [
            "INFO:tensorflow:Assets written to: /content/drive/My Drive/ECE_209_AS_project_data/UCIHARmodels/LSTM_withrot_1/assets\n"
          ]
        },
        {
          "output_type": "stream",
          "name": "stdout",
          "text": [
            "INFO:tensorflow:Assets written to: /content/drive/My Drive/ECE_209_AS_project_data/UCIHARmodels/LSTM_withrot_1/assets\n"
          ]
        },
        {
          "output_type": "stream",
          "name": "stderr",
          "text": [
            "INFO:tensorflow:Assets written to: /content/drive/My Drive/ECE_209_AS_project_data/UCIHARmodels/LSTM_withrot_1/assets\n"
          ]
        },
        {
          "output_type": "stream",
          "name": "stdout",
          "text": [
            "INFO:tensorflow:Assets written to: /content/drive/My Drive/ECE_209_AS_project_data/UCIHARmodels/LSTM_withrot_1/assets\n"
          ]
        },
        {
          "output_type": "stream",
          "name": "stderr",
          "text": [
            "INFO:tensorflow:Assets written to: /content/drive/My Drive/ECE_209_AS_project_data/UCIHARmodels/LSTM_withrot_1/assets\n"
          ]
        },
        {
          "output_type": "stream",
          "name": "stdout",
          "text": [
            "INFO:tensorflow:Assets written to: /content/drive/My Drive/ECE_209_AS_project_data/UCIHARmodels/LSTM_withrot_1/assets\n"
          ]
        },
        {
          "output_type": "stream",
          "name": "stderr",
          "text": [
            "INFO:tensorflow:Assets written to: /content/drive/My Drive/ECE_209_AS_project_data/UCIHARmodels/LSTM_withrot_1/assets\n"
          ]
        },
        {
          "output_type": "stream",
          "name": "stdout",
          "text": [
            "INFO:tensorflow:Assets written to: /content/drive/My Drive/ECE_209_AS_project_data/UCIHARmodels/LSTM_withrot_1/assets\n"
          ]
        },
        {
          "output_type": "stream",
          "name": "stderr",
          "text": [
            "INFO:tensorflow:Assets written to: /content/drive/My Drive/ECE_209_AS_project_data/UCIHARmodels/LSTM_withrot_1/assets\n"
          ]
        },
        {
          "output_type": "stream",
          "name": "stdout",
          "text": [
            "INFO:tensorflow:Assets written to: /content/drive/My Drive/ECE_209_AS_project_data/UCIHARmodels/LSTM_withrot_1/assets\n"
          ]
        },
        {
          "output_type": "stream",
          "name": "stderr",
          "text": [
            "INFO:tensorflow:Assets written to: /content/drive/My Drive/ECE_209_AS_project_data/UCIHARmodels/LSTM_withrot_1/assets\n"
          ]
        },
        {
          "output_type": "stream",
          "name": "stdout",
          "text": [
            "INFO:tensorflow:Assets written to: /content/drive/My Drive/ECE_209_AS_project_data/UCIHARmodels/LSTM_withrot_1/assets\n"
          ]
        },
        {
          "output_type": "stream",
          "name": "stderr",
          "text": [
            "INFO:tensorflow:Assets written to: /content/drive/My Drive/ECE_209_AS_project_data/UCIHARmodels/LSTM_withrot_1/assets\n"
          ]
        },
        {
          "output_type": "stream",
          "name": "stdout",
          "text": [
            "tf.Tensor(0.90770274, shape=(), dtype=float32)\n",
            "INFO:tensorflow:Assets written to: /content/drive/My Drive/ECE_209_AS_project_data/UCIHARmodels/LSTM_withrot_2/assets\n"
          ]
        },
        {
          "output_type": "stream",
          "name": "stderr",
          "text": [
            "INFO:tensorflow:Assets written to: /content/drive/My Drive/ECE_209_AS_project_data/UCIHARmodels/LSTM_withrot_2/assets\n"
          ]
        },
        {
          "output_type": "stream",
          "name": "stdout",
          "text": [
            "INFO:tensorflow:Assets written to: /content/drive/My Drive/ECE_209_AS_project_data/UCIHARmodels/LSTM_withrot_2/assets\n"
          ]
        },
        {
          "output_type": "stream",
          "name": "stderr",
          "text": [
            "INFO:tensorflow:Assets written to: /content/drive/My Drive/ECE_209_AS_project_data/UCIHARmodels/LSTM_withrot_2/assets\n"
          ]
        },
        {
          "output_type": "stream",
          "name": "stdout",
          "text": [
            "INFO:tensorflow:Assets written to: /content/drive/My Drive/ECE_209_AS_project_data/UCIHARmodels/LSTM_withrot_2/assets\n"
          ]
        },
        {
          "output_type": "stream",
          "name": "stderr",
          "text": [
            "INFO:tensorflow:Assets written to: /content/drive/My Drive/ECE_209_AS_project_data/UCIHARmodels/LSTM_withrot_2/assets\n"
          ]
        },
        {
          "output_type": "stream",
          "name": "stdout",
          "text": [
            "INFO:tensorflow:Assets written to: /content/drive/My Drive/ECE_209_AS_project_data/UCIHARmodels/LSTM_withrot_2/assets\n"
          ]
        },
        {
          "output_type": "stream",
          "name": "stderr",
          "text": [
            "INFO:tensorflow:Assets written to: /content/drive/My Drive/ECE_209_AS_project_data/UCIHARmodels/LSTM_withrot_2/assets\n"
          ]
        },
        {
          "output_type": "stream",
          "name": "stdout",
          "text": [
            "INFO:tensorflow:Assets written to: /content/drive/My Drive/ECE_209_AS_project_data/UCIHARmodels/LSTM_withrot_2/assets\n"
          ]
        },
        {
          "output_type": "stream",
          "name": "stderr",
          "text": [
            "INFO:tensorflow:Assets written to: /content/drive/My Drive/ECE_209_AS_project_data/UCIHARmodels/LSTM_withrot_2/assets\n"
          ]
        },
        {
          "output_type": "stream",
          "name": "stdout",
          "text": [
            "INFO:tensorflow:Assets written to: /content/drive/My Drive/ECE_209_AS_project_data/UCIHARmodels/LSTM_withrot_2/assets\n"
          ]
        },
        {
          "output_type": "stream",
          "name": "stderr",
          "text": [
            "INFO:tensorflow:Assets written to: /content/drive/My Drive/ECE_209_AS_project_data/UCIHARmodels/LSTM_withrot_2/assets\n"
          ]
        },
        {
          "output_type": "stream",
          "name": "stdout",
          "text": [
            "INFO:tensorflow:Assets written to: /content/drive/My Drive/ECE_209_AS_project_data/UCIHARmodels/LSTM_withrot_2/assets\n"
          ]
        },
        {
          "output_type": "stream",
          "name": "stderr",
          "text": [
            "INFO:tensorflow:Assets written to: /content/drive/My Drive/ECE_209_AS_project_data/UCIHARmodels/LSTM_withrot_2/assets\n"
          ]
        },
        {
          "output_type": "stream",
          "name": "stdout",
          "text": [
            "INFO:tensorflow:Assets written to: /content/drive/My Drive/ECE_209_AS_project_data/UCIHARmodels/LSTM_withrot_2/assets\n"
          ]
        },
        {
          "output_type": "stream",
          "name": "stderr",
          "text": [
            "INFO:tensorflow:Assets written to: /content/drive/My Drive/ECE_209_AS_project_data/UCIHARmodels/LSTM_withrot_2/assets\n"
          ]
        },
        {
          "output_type": "stream",
          "name": "stdout",
          "text": [
            "INFO:tensorflow:Assets written to: /content/drive/My Drive/ECE_209_AS_project_data/UCIHARmodels/LSTM_withrot_2/assets\n"
          ]
        },
        {
          "output_type": "stream",
          "name": "stderr",
          "text": [
            "INFO:tensorflow:Assets written to: /content/drive/My Drive/ECE_209_AS_project_data/UCIHARmodels/LSTM_withrot_2/assets\n"
          ]
        },
        {
          "output_type": "stream",
          "name": "stdout",
          "text": [
            "INFO:tensorflow:Assets written to: /content/drive/My Drive/ECE_209_AS_project_data/UCIHARmodels/LSTM_withrot_2/assets\n"
          ]
        },
        {
          "output_type": "stream",
          "name": "stderr",
          "text": [
            "INFO:tensorflow:Assets written to: /content/drive/My Drive/ECE_209_AS_project_data/UCIHARmodels/LSTM_withrot_2/assets\n"
          ]
        },
        {
          "output_type": "stream",
          "name": "stdout",
          "text": [
            "INFO:tensorflow:Assets written to: /content/drive/My Drive/ECE_209_AS_project_data/UCIHARmodels/LSTM_withrot_2/assets\n"
          ]
        },
        {
          "output_type": "stream",
          "name": "stderr",
          "text": [
            "INFO:tensorflow:Assets written to: /content/drive/My Drive/ECE_209_AS_project_data/UCIHARmodels/LSTM_withrot_2/assets\n"
          ]
        },
        {
          "output_type": "stream",
          "name": "stdout",
          "text": [
            "INFO:tensorflow:Assets written to: /content/drive/My Drive/ECE_209_AS_project_data/UCIHARmodels/LSTM_withrot_2/assets\n"
          ]
        },
        {
          "output_type": "stream",
          "name": "stderr",
          "text": [
            "INFO:tensorflow:Assets written to: /content/drive/My Drive/ECE_209_AS_project_data/UCIHARmodels/LSTM_withrot_2/assets\n"
          ]
        },
        {
          "output_type": "stream",
          "name": "stdout",
          "text": [
            "INFO:tensorflow:Assets written to: /content/drive/My Drive/ECE_209_AS_project_data/UCIHARmodels/LSTM_withrot_2/assets\n"
          ]
        },
        {
          "output_type": "stream",
          "name": "stderr",
          "text": [
            "INFO:tensorflow:Assets written to: /content/drive/My Drive/ECE_209_AS_project_data/UCIHARmodels/LSTM_withrot_2/assets\n"
          ]
        },
        {
          "output_type": "stream",
          "name": "stdout",
          "text": [
            "INFO:tensorflow:Assets written to: /content/drive/My Drive/ECE_209_AS_project_data/UCIHARmodels/LSTM_withrot_2/assets\n"
          ]
        },
        {
          "output_type": "stream",
          "name": "stderr",
          "text": [
            "INFO:tensorflow:Assets written to: /content/drive/My Drive/ECE_209_AS_project_data/UCIHARmodels/LSTM_withrot_2/assets\n"
          ]
        },
        {
          "output_type": "stream",
          "name": "stdout",
          "text": [
            "INFO:tensorflow:Assets written to: /content/drive/My Drive/ECE_209_AS_project_data/UCIHARmodels/LSTM_withrot_2/assets\n"
          ]
        },
        {
          "output_type": "stream",
          "name": "stderr",
          "text": [
            "INFO:tensorflow:Assets written to: /content/drive/My Drive/ECE_209_AS_project_data/UCIHARmodels/LSTM_withrot_2/assets\n"
          ]
        },
        {
          "output_type": "stream",
          "name": "stdout",
          "text": [
            "INFO:tensorflow:Assets written to: /content/drive/My Drive/ECE_209_AS_project_data/UCIHARmodels/LSTM_withrot_2/assets\n"
          ]
        },
        {
          "output_type": "stream",
          "name": "stderr",
          "text": [
            "INFO:tensorflow:Assets written to: /content/drive/My Drive/ECE_209_AS_project_data/UCIHARmodels/LSTM_withrot_2/assets\n"
          ]
        },
        {
          "output_type": "stream",
          "name": "stdout",
          "text": [
            "INFO:tensorflow:Assets written to: /content/drive/My Drive/ECE_209_AS_project_data/UCIHARmodels/LSTM_withrot_2/assets\n"
          ]
        },
        {
          "output_type": "stream",
          "name": "stderr",
          "text": [
            "INFO:tensorflow:Assets written to: /content/drive/My Drive/ECE_209_AS_project_data/UCIHARmodels/LSTM_withrot_2/assets\n"
          ]
        },
        {
          "output_type": "stream",
          "name": "stdout",
          "text": [
            "INFO:tensorflow:Assets written to: /content/drive/My Drive/ECE_209_AS_project_data/UCIHARmodels/LSTM_withrot_2/assets\n"
          ]
        },
        {
          "output_type": "stream",
          "name": "stderr",
          "text": [
            "INFO:tensorflow:Assets written to: /content/drive/My Drive/ECE_209_AS_project_data/UCIHARmodels/LSTM_withrot_2/assets\n"
          ]
        },
        {
          "output_type": "stream",
          "name": "stdout",
          "text": [
            "INFO:tensorflow:Assets written to: /content/drive/My Drive/ECE_209_AS_project_data/UCIHARmodels/LSTM_withrot_2/assets\n"
          ]
        },
        {
          "output_type": "stream",
          "name": "stderr",
          "text": [
            "INFO:tensorflow:Assets written to: /content/drive/My Drive/ECE_209_AS_project_data/UCIHARmodels/LSTM_withrot_2/assets\n"
          ]
        },
        {
          "output_type": "stream",
          "name": "stdout",
          "text": [
            "INFO:tensorflow:Assets written to: /content/drive/My Drive/ECE_209_AS_project_data/UCIHARmodels/LSTM_withrot_2/assets\n"
          ]
        },
        {
          "output_type": "stream",
          "name": "stderr",
          "text": [
            "INFO:tensorflow:Assets written to: /content/drive/My Drive/ECE_209_AS_project_data/UCIHARmodels/LSTM_withrot_2/assets\n"
          ]
        },
        {
          "output_type": "stream",
          "name": "stdout",
          "text": [
            "INFO:tensorflow:Assets written to: /content/drive/My Drive/ECE_209_AS_project_data/UCIHARmodels/LSTM_withrot_2/assets\n"
          ]
        },
        {
          "output_type": "stream",
          "name": "stderr",
          "text": [
            "INFO:tensorflow:Assets written to: /content/drive/My Drive/ECE_209_AS_project_data/UCIHARmodels/LSTM_withrot_2/assets\n"
          ]
        },
        {
          "output_type": "stream",
          "name": "stdout",
          "text": [
            "INFO:tensorflow:Assets written to: /content/drive/My Drive/ECE_209_AS_project_data/UCIHARmodels/LSTM_withrot_2/assets\n"
          ]
        },
        {
          "output_type": "stream",
          "name": "stderr",
          "text": [
            "INFO:tensorflow:Assets written to: /content/drive/My Drive/ECE_209_AS_project_data/UCIHARmodels/LSTM_withrot_2/assets\n"
          ]
        },
        {
          "output_type": "stream",
          "name": "stdout",
          "text": [
            "INFO:tensorflow:Assets written to: /content/drive/My Drive/ECE_209_AS_project_data/UCIHARmodels/LSTM_withrot_2/assets\n"
          ]
        },
        {
          "output_type": "stream",
          "name": "stderr",
          "text": [
            "INFO:tensorflow:Assets written to: /content/drive/My Drive/ECE_209_AS_project_data/UCIHARmodels/LSTM_withrot_2/assets\n"
          ]
        },
        {
          "output_type": "stream",
          "name": "stdout",
          "text": [
            "INFO:tensorflow:Assets written to: /content/drive/My Drive/ECE_209_AS_project_data/UCIHARmodels/LSTM_withrot_2/assets\n"
          ]
        },
        {
          "output_type": "stream",
          "name": "stderr",
          "text": [
            "INFO:tensorflow:Assets written to: /content/drive/My Drive/ECE_209_AS_project_data/UCIHARmodels/LSTM_withrot_2/assets\n"
          ]
        },
        {
          "output_type": "stream",
          "name": "stdout",
          "text": [
            "INFO:tensorflow:Assets written to: /content/drive/My Drive/ECE_209_AS_project_data/UCIHARmodels/LSTM_withrot_2/assets\n"
          ]
        },
        {
          "output_type": "stream",
          "name": "stderr",
          "text": [
            "INFO:tensorflow:Assets written to: /content/drive/My Drive/ECE_209_AS_project_data/UCIHARmodels/LSTM_withrot_2/assets\n"
          ]
        },
        {
          "output_type": "stream",
          "name": "stdout",
          "text": [
            "tf.Tensor(0.89412963, shape=(), dtype=float32)\n",
            "INFO:tensorflow:Assets written to: /content/drive/My Drive/ECE_209_AS_project_data/UCIHARmodels/LSTM_withrot_3/assets\n"
          ]
        },
        {
          "output_type": "stream",
          "name": "stderr",
          "text": [
            "INFO:tensorflow:Assets written to: /content/drive/My Drive/ECE_209_AS_project_data/UCIHARmodels/LSTM_withrot_3/assets\n"
          ]
        },
        {
          "output_type": "stream",
          "name": "stdout",
          "text": [
            "INFO:tensorflow:Assets written to: /content/drive/My Drive/ECE_209_AS_project_data/UCIHARmodels/LSTM_withrot_3/assets\n"
          ]
        },
        {
          "output_type": "stream",
          "name": "stderr",
          "text": [
            "INFO:tensorflow:Assets written to: /content/drive/My Drive/ECE_209_AS_project_data/UCIHARmodels/LSTM_withrot_3/assets\n"
          ]
        },
        {
          "output_type": "stream",
          "name": "stdout",
          "text": [
            "INFO:tensorflow:Assets written to: /content/drive/My Drive/ECE_209_AS_project_data/UCIHARmodels/LSTM_withrot_3/assets\n"
          ]
        },
        {
          "output_type": "stream",
          "name": "stderr",
          "text": [
            "INFO:tensorflow:Assets written to: /content/drive/My Drive/ECE_209_AS_project_data/UCIHARmodels/LSTM_withrot_3/assets\n"
          ]
        },
        {
          "output_type": "stream",
          "name": "stdout",
          "text": [
            "INFO:tensorflow:Assets written to: /content/drive/My Drive/ECE_209_AS_project_data/UCIHARmodels/LSTM_withrot_3/assets\n"
          ]
        },
        {
          "output_type": "stream",
          "name": "stderr",
          "text": [
            "INFO:tensorflow:Assets written to: /content/drive/My Drive/ECE_209_AS_project_data/UCIHARmodels/LSTM_withrot_3/assets\n"
          ]
        },
        {
          "output_type": "stream",
          "name": "stdout",
          "text": [
            "INFO:tensorflow:Assets written to: /content/drive/My Drive/ECE_209_AS_project_data/UCIHARmodels/LSTM_withrot_3/assets\n"
          ]
        },
        {
          "output_type": "stream",
          "name": "stderr",
          "text": [
            "INFO:tensorflow:Assets written to: /content/drive/My Drive/ECE_209_AS_project_data/UCIHARmodels/LSTM_withrot_3/assets\n"
          ]
        },
        {
          "output_type": "stream",
          "name": "stdout",
          "text": [
            "INFO:tensorflow:Assets written to: /content/drive/My Drive/ECE_209_AS_project_data/UCIHARmodels/LSTM_withrot_3/assets\n"
          ]
        },
        {
          "output_type": "stream",
          "name": "stderr",
          "text": [
            "INFO:tensorflow:Assets written to: /content/drive/My Drive/ECE_209_AS_project_data/UCIHARmodels/LSTM_withrot_3/assets\n"
          ]
        },
        {
          "output_type": "stream",
          "name": "stdout",
          "text": [
            "INFO:tensorflow:Assets written to: /content/drive/My Drive/ECE_209_AS_project_data/UCIHARmodels/LSTM_withrot_3/assets\n"
          ]
        },
        {
          "output_type": "stream",
          "name": "stderr",
          "text": [
            "INFO:tensorflow:Assets written to: /content/drive/My Drive/ECE_209_AS_project_data/UCIHARmodels/LSTM_withrot_3/assets\n"
          ]
        },
        {
          "output_type": "stream",
          "name": "stdout",
          "text": [
            "INFO:tensorflow:Assets written to: /content/drive/My Drive/ECE_209_AS_project_data/UCIHARmodels/LSTM_withrot_3/assets\n"
          ]
        },
        {
          "output_type": "stream",
          "name": "stderr",
          "text": [
            "INFO:tensorflow:Assets written to: /content/drive/My Drive/ECE_209_AS_project_data/UCIHARmodels/LSTM_withrot_3/assets\n"
          ]
        },
        {
          "output_type": "stream",
          "name": "stdout",
          "text": [
            "INFO:tensorflow:Assets written to: /content/drive/My Drive/ECE_209_AS_project_data/UCIHARmodels/LSTM_withrot_3/assets\n"
          ]
        },
        {
          "output_type": "stream",
          "name": "stderr",
          "text": [
            "INFO:tensorflow:Assets written to: /content/drive/My Drive/ECE_209_AS_project_data/UCIHARmodels/LSTM_withrot_3/assets\n"
          ]
        },
        {
          "output_type": "stream",
          "name": "stdout",
          "text": [
            "INFO:tensorflow:Assets written to: /content/drive/My Drive/ECE_209_AS_project_data/UCIHARmodels/LSTM_withrot_3/assets\n"
          ]
        },
        {
          "output_type": "stream",
          "name": "stderr",
          "text": [
            "INFO:tensorflow:Assets written to: /content/drive/My Drive/ECE_209_AS_project_data/UCIHARmodels/LSTM_withrot_3/assets\n"
          ]
        },
        {
          "output_type": "stream",
          "name": "stdout",
          "text": [
            "INFO:tensorflow:Assets written to: /content/drive/My Drive/ECE_209_AS_project_data/UCIHARmodels/LSTM_withrot_3/assets\n"
          ]
        },
        {
          "output_type": "stream",
          "name": "stderr",
          "text": [
            "INFO:tensorflow:Assets written to: /content/drive/My Drive/ECE_209_AS_project_data/UCIHARmodels/LSTM_withrot_3/assets\n"
          ]
        },
        {
          "output_type": "stream",
          "name": "stdout",
          "text": [
            "INFO:tensorflow:Assets written to: /content/drive/My Drive/ECE_209_AS_project_data/UCIHARmodels/LSTM_withrot_3/assets\n"
          ]
        },
        {
          "output_type": "stream",
          "name": "stderr",
          "text": [
            "INFO:tensorflow:Assets written to: /content/drive/My Drive/ECE_209_AS_project_data/UCIHARmodels/LSTM_withrot_3/assets\n"
          ]
        },
        {
          "output_type": "stream",
          "name": "stdout",
          "text": [
            "INFO:tensorflow:Assets written to: /content/drive/My Drive/ECE_209_AS_project_data/UCIHARmodels/LSTM_withrot_3/assets\n"
          ]
        },
        {
          "output_type": "stream",
          "name": "stderr",
          "text": [
            "INFO:tensorflow:Assets written to: /content/drive/My Drive/ECE_209_AS_project_data/UCIHARmodels/LSTM_withrot_3/assets\n"
          ]
        },
        {
          "output_type": "stream",
          "name": "stdout",
          "text": [
            "INFO:tensorflow:Assets written to: /content/drive/My Drive/ECE_209_AS_project_data/UCIHARmodels/LSTM_withrot_3/assets\n"
          ]
        },
        {
          "output_type": "stream",
          "name": "stderr",
          "text": [
            "INFO:tensorflow:Assets written to: /content/drive/My Drive/ECE_209_AS_project_data/UCIHARmodels/LSTM_withrot_3/assets\n"
          ]
        },
        {
          "output_type": "stream",
          "name": "stdout",
          "text": [
            "INFO:tensorflow:Assets written to: /content/drive/My Drive/ECE_209_AS_project_data/UCIHARmodels/LSTM_withrot_3/assets\n"
          ]
        },
        {
          "output_type": "stream",
          "name": "stderr",
          "text": [
            "INFO:tensorflow:Assets written to: /content/drive/My Drive/ECE_209_AS_project_data/UCIHARmodels/LSTM_withrot_3/assets\n"
          ]
        },
        {
          "output_type": "stream",
          "name": "stdout",
          "text": [
            "INFO:tensorflow:Assets written to: /content/drive/My Drive/ECE_209_AS_project_data/UCIHARmodels/LSTM_withrot_3/assets\n"
          ]
        },
        {
          "output_type": "stream",
          "name": "stderr",
          "text": [
            "INFO:tensorflow:Assets written to: /content/drive/My Drive/ECE_209_AS_project_data/UCIHARmodels/LSTM_withrot_3/assets\n"
          ]
        },
        {
          "output_type": "stream",
          "name": "stdout",
          "text": [
            "INFO:tensorflow:Assets written to: /content/drive/My Drive/ECE_209_AS_project_data/UCIHARmodels/LSTM_withrot_3/assets\n"
          ]
        },
        {
          "output_type": "stream",
          "name": "stderr",
          "text": [
            "INFO:tensorflow:Assets written to: /content/drive/My Drive/ECE_209_AS_project_data/UCIHARmodels/LSTM_withrot_3/assets\n"
          ]
        },
        {
          "output_type": "stream",
          "name": "stdout",
          "text": [
            "INFO:tensorflow:Assets written to: /content/drive/My Drive/ECE_209_AS_project_data/UCIHARmodels/LSTM_withrot_3/assets\n"
          ]
        },
        {
          "output_type": "stream",
          "name": "stderr",
          "text": [
            "INFO:tensorflow:Assets written to: /content/drive/My Drive/ECE_209_AS_project_data/UCIHARmodels/LSTM_withrot_3/assets\n"
          ]
        },
        {
          "output_type": "stream",
          "name": "stdout",
          "text": [
            "INFO:tensorflow:Assets written to: /content/drive/My Drive/ECE_209_AS_project_data/UCIHARmodels/LSTM_withrot_3/assets\n"
          ]
        },
        {
          "output_type": "stream",
          "name": "stderr",
          "text": [
            "INFO:tensorflow:Assets written to: /content/drive/My Drive/ECE_209_AS_project_data/UCIHARmodels/LSTM_withrot_3/assets\n"
          ]
        },
        {
          "output_type": "stream",
          "name": "stdout",
          "text": [
            "INFO:tensorflow:Assets written to: /content/drive/My Drive/ECE_209_AS_project_data/UCIHARmodels/LSTM_withrot_3/assets\n"
          ]
        },
        {
          "output_type": "stream",
          "name": "stderr",
          "text": [
            "INFO:tensorflow:Assets written to: /content/drive/My Drive/ECE_209_AS_project_data/UCIHARmodels/LSTM_withrot_3/assets\n"
          ]
        },
        {
          "output_type": "stream",
          "name": "stdout",
          "text": [
            "INFO:tensorflow:Assets written to: /content/drive/My Drive/ECE_209_AS_project_data/UCIHARmodels/LSTM_withrot_3/assets\n"
          ]
        },
        {
          "output_type": "stream",
          "name": "stderr",
          "text": [
            "INFO:tensorflow:Assets written to: /content/drive/My Drive/ECE_209_AS_project_data/UCIHARmodels/LSTM_withrot_3/assets\n"
          ]
        },
        {
          "output_type": "stream",
          "name": "stdout",
          "text": [
            "INFO:tensorflow:Assets written to: /content/drive/My Drive/ECE_209_AS_project_data/UCIHARmodels/LSTM_withrot_3/assets\n"
          ]
        },
        {
          "output_type": "stream",
          "name": "stderr",
          "text": [
            "INFO:tensorflow:Assets written to: /content/drive/My Drive/ECE_209_AS_project_data/UCIHARmodels/LSTM_withrot_3/assets\n"
          ]
        },
        {
          "output_type": "stream",
          "name": "stdout",
          "text": [
            "INFO:tensorflow:Assets written to: /content/drive/My Drive/ECE_209_AS_project_data/UCIHARmodels/LSTM_withrot_3/assets\n"
          ]
        },
        {
          "output_type": "stream",
          "name": "stderr",
          "text": [
            "INFO:tensorflow:Assets written to: /content/drive/My Drive/ECE_209_AS_project_data/UCIHARmodels/LSTM_withrot_3/assets\n"
          ]
        },
        {
          "output_type": "stream",
          "name": "stdout",
          "text": [
            "INFO:tensorflow:Assets written to: /content/drive/My Drive/ECE_209_AS_project_data/UCIHARmodels/LSTM_withrot_3/assets\n"
          ]
        },
        {
          "output_type": "stream",
          "name": "stderr",
          "text": [
            "INFO:tensorflow:Assets written to: /content/drive/My Drive/ECE_209_AS_project_data/UCIHARmodels/LSTM_withrot_3/assets\n"
          ]
        },
        {
          "output_type": "stream",
          "name": "stdout",
          "text": [
            "INFO:tensorflow:Assets written to: /content/drive/My Drive/ECE_209_AS_project_data/UCIHARmodels/LSTM_withrot_3/assets\n"
          ]
        },
        {
          "output_type": "stream",
          "name": "stderr",
          "text": [
            "INFO:tensorflow:Assets written to: /content/drive/My Drive/ECE_209_AS_project_data/UCIHARmodels/LSTM_withrot_3/assets\n"
          ]
        },
        {
          "output_type": "stream",
          "name": "stdout",
          "text": [
            "tf.Tensor(0.88496774, shape=(), dtype=float32)\n",
            "INFO:tensorflow:Assets written to: /content/drive/My Drive/ECE_209_AS_project_data/UCIHARmodels/LSTM_withrot_4/assets\n"
          ]
        },
        {
          "output_type": "stream",
          "name": "stderr",
          "text": [
            "INFO:tensorflow:Assets written to: /content/drive/My Drive/ECE_209_AS_project_data/UCIHARmodels/LSTM_withrot_4/assets\n"
          ]
        },
        {
          "output_type": "stream",
          "name": "stdout",
          "text": [
            "INFO:tensorflow:Assets written to: /content/drive/My Drive/ECE_209_AS_project_data/UCIHARmodels/LSTM_withrot_4/assets\n"
          ]
        },
        {
          "output_type": "stream",
          "name": "stderr",
          "text": [
            "INFO:tensorflow:Assets written to: /content/drive/My Drive/ECE_209_AS_project_data/UCIHARmodels/LSTM_withrot_4/assets\n"
          ]
        },
        {
          "output_type": "stream",
          "name": "stdout",
          "text": [
            "INFO:tensorflow:Assets written to: /content/drive/My Drive/ECE_209_AS_project_data/UCIHARmodels/LSTM_withrot_4/assets\n"
          ]
        },
        {
          "output_type": "stream",
          "name": "stderr",
          "text": [
            "INFO:tensorflow:Assets written to: /content/drive/My Drive/ECE_209_AS_project_data/UCIHARmodels/LSTM_withrot_4/assets\n"
          ]
        },
        {
          "output_type": "stream",
          "name": "stdout",
          "text": [
            "INFO:tensorflow:Assets written to: /content/drive/My Drive/ECE_209_AS_project_data/UCIHARmodels/LSTM_withrot_4/assets\n"
          ]
        },
        {
          "output_type": "stream",
          "name": "stderr",
          "text": [
            "INFO:tensorflow:Assets written to: /content/drive/My Drive/ECE_209_AS_project_data/UCIHARmodels/LSTM_withrot_4/assets\n"
          ]
        },
        {
          "output_type": "stream",
          "name": "stdout",
          "text": [
            "INFO:tensorflow:Assets written to: /content/drive/My Drive/ECE_209_AS_project_data/UCIHARmodels/LSTM_withrot_4/assets\n"
          ]
        },
        {
          "output_type": "stream",
          "name": "stderr",
          "text": [
            "INFO:tensorflow:Assets written to: /content/drive/My Drive/ECE_209_AS_project_data/UCIHARmodels/LSTM_withrot_4/assets\n"
          ]
        },
        {
          "output_type": "stream",
          "name": "stdout",
          "text": [
            "INFO:tensorflow:Assets written to: /content/drive/My Drive/ECE_209_AS_project_data/UCIHARmodels/LSTM_withrot_4/assets\n"
          ]
        },
        {
          "output_type": "stream",
          "name": "stderr",
          "text": [
            "INFO:tensorflow:Assets written to: /content/drive/My Drive/ECE_209_AS_project_data/UCIHARmodels/LSTM_withrot_4/assets\n"
          ]
        },
        {
          "output_type": "stream",
          "name": "stdout",
          "text": [
            "INFO:tensorflow:Assets written to: /content/drive/My Drive/ECE_209_AS_project_data/UCIHARmodels/LSTM_withrot_4/assets\n"
          ]
        },
        {
          "output_type": "stream",
          "name": "stderr",
          "text": [
            "INFO:tensorflow:Assets written to: /content/drive/My Drive/ECE_209_AS_project_data/UCIHARmodels/LSTM_withrot_4/assets\n"
          ]
        },
        {
          "output_type": "stream",
          "name": "stdout",
          "text": [
            "INFO:tensorflow:Assets written to: /content/drive/My Drive/ECE_209_AS_project_data/UCIHARmodels/LSTM_withrot_4/assets\n"
          ]
        },
        {
          "output_type": "stream",
          "name": "stderr",
          "text": [
            "INFO:tensorflow:Assets written to: /content/drive/My Drive/ECE_209_AS_project_data/UCIHARmodels/LSTM_withrot_4/assets\n"
          ]
        },
        {
          "output_type": "stream",
          "name": "stdout",
          "text": [
            "INFO:tensorflow:Assets written to: /content/drive/My Drive/ECE_209_AS_project_data/UCIHARmodels/LSTM_withrot_4/assets\n"
          ]
        },
        {
          "output_type": "stream",
          "name": "stderr",
          "text": [
            "INFO:tensorflow:Assets written to: /content/drive/My Drive/ECE_209_AS_project_data/UCIHARmodels/LSTM_withrot_4/assets\n"
          ]
        },
        {
          "output_type": "stream",
          "name": "stdout",
          "text": [
            "INFO:tensorflow:Assets written to: /content/drive/My Drive/ECE_209_AS_project_data/UCIHARmodels/LSTM_withrot_4/assets\n"
          ]
        },
        {
          "output_type": "stream",
          "name": "stderr",
          "text": [
            "INFO:tensorflow:Assets written to: /content/drive/My Drive/ECE_209_AS_project_data/UCIHARmodels/LSTM_withrot_4/assets\n"
          ]
        },
        {
          "output_type": "stream",
          "name": "stdout",
          "text": [
            "INFO:tensorflow:Assets written to: /content/drive/My Drive/ECE_209_AS_project_data/UCIHARmodels/LSTM_withrot_4/assets\n"
          ]
        },
        {
          "output_type": "stream",
          "name": "stderr",
          "text": [
            "INFO:tensorflow:Assets written to: /content/drive/My Drive/ECE_209_AS_project_data/UCIHARmodels/LSTM_withrot_4/assets\n"
          ]
        },
        {
          "output_type": "stream",
          "name": "stdout",
          "text": [
            "INFO:tensorflow:Assets written to: /content/drive/My Drive/ECE_209_AS_project_data/UCIHARmodels/LSTM_withrot_4/assets\n"
          ]
        },
        {
          "output_type": "stream",
          "name": "stderr",
          "text": [
            "INFO:tensorflow:Assets written to: /content/drive/My Drive/ECE_209_AS_project_data/UCIHARmodels/LSTM_withrot_4/assets\n"
          ]
        },
        {
          "output_type": "stream",
          "name": "stdout",
          "text": [
            "INFO:tensorflow:Assets written to: /content/drive/My Drive/ECE_209_AS_project_data/UCIHARmodels/LSTM_withrot_4/assets\n"
          ]
        },
        {
          "output_type": "stream",
          "name": "stderr",
          "text": [
            "INFO:tensorflow:Assets written to: /content/drive/My Drive/ECE_209_AS_project_data/UCIHARmodels/LSTM_withrot_4/assets\n"
          ]
        },
        {
          "output_type": "stream",
          "name": "stdout",
          "text": [
            "INFO:tensorflow:Assets written to: /content/drive/My Drive/ECE_209_AS_project_data/UCIHARmodels/LSTM_withrot_4/assets\n"
          ]
        },
        {
          "output_type": "stream",
          "name": "stderr",
          "text": [
            "INFO:tensorflow:Assets written to: /content/drive/My Drive/ECE_209_AS_project_data/UCIHARmodels/LSTM_withrot_4/assets\n"
          ]
        },
        {
          "output_type": "stream",
          "name": "stdout",
          "text": [
            "INFO:tensorflow:Assets written to: /content/drive/My Drive/ECE_209_AS_project_data/UCIHARmodels/LSTM_withrot_4/assets\n"
          ]
        },
        {
          "output_type": "stream",
          "name": "stderr",
          "text": [
            "INFO:tensorflow:Assets written to: /content/drive/My Drive/ECE_209_AS_project_data/UCIHARmodels/LSTM_withrot_4/assets\n"
          ]
        },
        {
          "output_type": "stream",
          "name": "stdout",
          "text": [
            "INFO:tensorflow:Assets written to: /content/drive/My Drive/ECE_209_AS_project_data/UCIHARmodels/LSTM_withrot_4/assets\n"
          ]
        },
        {
          "output_type": "stream",
          "name": "stderr",
          "text": [
            "INFO:tensorflow:Assets written to: /content/drive/My Drive/ECE_209_AS_project_data/UCIHARmodels/LSTM_withrot_4/assets\n"
          ]
        },
        {
          "output_type": "stream",
          "name": "stdout",
          "text": [
            "INFO:tensorflow:Assets written to: /content/drive/My Drive/ECE_209_AS_project_data/UCIHARmodels/LSTM_withrot_4/assets\n"
          ]
        },
        {
          "output_type": "stream",
          "name": "stderr",
          "text": [
            "INFO:tensorflow:Assets written to: /content/drive/My Drive/ECE_209_AS_project_data/UCIHARmodels/LSTM_withrot_4/assets\n"
          ]
        },
        {
          "output_type": "stream",
          "name": "stdout",
          "text": [
            "INFO:tensorflow:Assets written to: /content/drive/My Drive/ECE_209_AS_project_data/UCIHARmodels/LSTM_withrot_4/assets\n"
          ]
        },
        {
          "output_type": "stream",
          "name": "stderr",
          "text": [
            "INFO:tensorflow:Assets written to: /content/drive/My Drive/ECE_209_AS_project_data/UCIHARmodels/LSTM_withrot_4/assets\n"
          ]
        },
        {
          "output_type": "stream",
          "name": "stdout",
          "text": [
            "INFO:tensorflow:Assets written to: /content/drive/My Drive/ECE_209_AS_project_data/UCIHARmodels/LSTM_withrot_4/assets\n"
          ]
        },
        {
          "output_type": "stream",
          "name": "stderr",
          "text": [
            "INFO:tensorflow:Assets written to: /content/drive/My Drive/ECE_209_AS_project_data/UCIHARmodels/LSTM_withrot_4/assets\n"
          ]
        },
        {
          "output_type": "stream",
          "name": "stdout",
          "text": [
            "INFO:tensorflow:Assets written to: /content/drive/My Drive/ECE_209_AS_project_data/UCIHARmodels/LSTM_withrot_4/assets\n"
          ]
        },
        {
          "output_type": "stream",
          "name": "stderr",
          "text": [
            "INFO:tensorflow:Assets written to: /content/drive/My Drive/ECE_209_AS_project_data/UCIHARmodels/LSTM_withrot_4/assets\n"
          ]
        },
        {
          "output_type": "stream",
          "name": "stdout",
          "text": [
            "INFO:tensorflow:Assets written to: /content/drive/My Drive/ECE_209_AS_project_data/UCIHARmodels/LSTM_withrot_4/assets\n"
          ]
        },
        {
          "output_type": "stream",
          "name": "stderr",
          "text": [
            "INFO:tensorflow:Assets written to: /content/drive/My Drive/ECE_209_AS_project_data/UCIHARmodels/LSTM_withrot_4/assets\n"
          ]
        },
        {
          "output_type": "stream",
          "name": "stdout",
          "text": [
            "INFO:tensorflow:Assets written to: /content/drive/My Drive/ECE_209_AS_project_data/UCIHARmodels/LSTM_withrot_4/assets\n"
          ]
        },
        {
          "output_type": "stream",
          "name": "stderr",
          "text": [
            "INFO:tensorflow:Assets written to: /content/drive/My Drive/ECE_209_AS_project_data/UCIHARmodels/LSTM_withrot_4/assets\n"
          ]
        },
        {
          "output_type": "stream",
          "name": "stdout",
          "text": [
            "INFO:tensorflow:Assets written to: /content/drive/My Drive/ECE_209_AS_project_data/UCIHARmodels/LSTM_withrot_4/assets\n"
          ]
        },
        {
          "output_type": "stream",
          "name": "stderr",
          "text": [
            "INFO:tensorflow:Assets written to: /content/drive/My Drive/ECE_209_AS_project_data/UCIHARmodels/LSTM_withrot_4/assets\n"
          ]
        },
        {
          "output_type": "stream",
          "name": "stdout",
          "text": [
            "INFO:tensorflow:Assets written to: /content/drive/My Drive/ECE_209_AS_project_data/UCIHARmodels/LSTM_withrot_4/assets\n"
          ]
        },
        {
          "output_type": "stream",
          "name": "stderr",
          "text": [
            "INFO:tensorflow:Assets written to: /content/drive/My Drive/ECE_209_AS_project_data/UCIHARmodels/LSTM_withrot_4/assets\n"
          ]
        },
        {
          "output_type": "stream",
          "name": "stdout",
          "text": [
            "INFO:tensorflow:Assets written to: /content/drive/My Drive/ECE_209_AS_project_data/UCIHARmodels/LSTM_withrot_4/assets\n"
          ]
        },
        {
          "output_type": "stream",
          "name": "stderr",
          "text": [
            "INFO:tensorflow:Assets written to: /content/drive/My Drive/ECE_209_AS_project_data/UCIHARmodels/LSTM_withrot_4/assets\n"
          ]
        },
        {
          "output_type": "stream",
          "name": "stdout",
          "text": [
            "tf.Tensor(0.92229384, shape=(), dtype=float32)\n"
          ]
        }
      ]
    },
    {
      "cell_type": "code",
      "source": [
        "sum_ac = 0\n",
        "\n",
        "for ac in test_accuracies_rot:\n",
        "\n",
        "  sum_ac += ac.numpy()\n",
        "\n",
        "print(f\"Mean accuracy is {round(sum_ac/len(test_accuracies_rot), 2)}\")"
      ],
      "metadata": {
        "colab": {
          "base_uri": "https://localhost:8080/"
        },
        "outputId": "1005abd7-e878-4a36-ca20-e6c086116a32",
        "id": "vLKVw88eOFvj"
      },
      "execution_count": null,
      "outputs": [
        {
          "output_type": "stream",
          "name": "stdout",
          "text": [
            "Mean accuracy is 0.9\n"
          ]
        }
      ],
      "id": "vLKVw88eOFvj"
    },
    {
      "cell_type": "code",
      "source": [
        "mean_recall_scores_with_rot  = sum(recall_scores_rot)/len(recall_scores_rot)\n",
        "\n",
        "for i in range(len(mean_recall_scores_with_rot)):\n",
        "\n",
        "  print(f\"Label {data_class_names[i]} has mean accuracy {round(mean_recall_scores_with_rot[i], 2)}\")"
      ],
      "metadata": {
        "colab": {
          "base_uri": "https://localhost:8080/"
        },
        "outputId": "7b9f65a6-9913-4ac7-fe69-42ba99fa815a",
        "id": "Lu8EFJdFOFvk"
      },
      "execution_count": null,
      "outputs": [
        {
          "output_type": "stream",
          "name": "stdout",
          "text": [
            "Label Walking has mean accuracy 0.96\n",
            "Label Stairs-Up has mean accuracy 0.97\n",
            "Label Stairs-Down has mean accuracy 0.99\n",
            "Label Sitting has mean accuracy 0.8\n",
            "Label Standing has mean accuracy 0.79\n",
            "Label Lying has mean accuracy 0.94\n"
          ]
        }
      ],
      "id": "Lu8EFJdFOFvk"
    },
    {
      "cell_type": "markdown",
      "source": [
        "### Scaling"
      ],
      "metadata": {
        "id": "aT2-9javOsIf"
      },
      "id": "aT2-9javOsIf"
    },
    {
      "cell_type": "code",
      "source": [
        "test_accuracies_scale = []\n",
        "recall_scores_scale = []\n",
        "\n",
        "for i in range(5):\n",
        "\n",
        "  rnd_seed = np.random.randint(1, 100)\n",
        "  seeds.append(rnd_seed)\n",
        "  tf.random.set_seed(rnd_seed)\n",
        "  indices = np.random.RandomState(seed=rnd_seed).permutation(len(X_train))\n",
        "  X_train = X_train[indices]\n",
        "  Y_train = Y_train[indices]\n",
        "\n",
        "  X_train_scale = scaling((X_train))\n",
        "  Xtrain_tot=np.concatenate((X_train, X_train_scale))\n",
        "  Y_train_tot = np.concatenate((Y_train, Y_train))\n",
        "\n",
        "  train_data = Xtrain_tot[len(Xtrain_tot)//10:]\n",
        "  train_labels = Y_train_tot[len(Xtrain_tot)//10:]\n",
        "  val_data = Xtrain_tot[:len(Xtrain_tot)//10]\n",
        "  val_labels = Y_train_tot[:len(Xtrain_tot)//10]\n",
        "\n",
        "  model = keras.Model(inputs = inputs, outputs = outputs)\n",
        "  model.compile(loss = \"sparse_categorical_crossentropy\", optimizer = \"adam\", metrics=[\"accuracy\"])\n",
        "  tensorboard = keras.callbacks.TensorBoard(log_dir = path_to_logs)\n",
        "  callbacks = [keras.callbacks.ModelCheckpoint(filepath=path_to_models + f\"LSTM_withscale_{i}\"), tensorboard]\n",
        "  history = model.fit(train_data, train_labels, epochs = 25, batch_size = 64, validation_data = (val_data, val_labels), callbacks = callbacks, class_weight = data_class_weights, verbose = False)\n",
        "\n",
        "  model_saved = keras.models.load_model(path_to_models + f\"LSTM_withscale_{i}\")\n",
        "  test_accuracy = tf.keras.metrics.Accuracy()\n",
        "  logits = model_saved(X_test, training=False)\n",
        "  prediction = tf.argmax(logits, axis=1, output_type=tf.int32)\n",
        "  test_accuracies_scale.append(test_accuracy(prediction, Y_test))\n",
        "  print(test_accuracy(prediction, Y_test))\n",
        "  recall_scores_scale.append(recall_score(Y_test, prediction, average=None))"
      ],
      "metadata": {
        "colab": {
          "base_uri": "https://localhost:8080/"
        },
        "id": "dNVN1AoBOi-U",
        "outputId": "9bfbbc73-9f36-4394-9b77-50bd4778e817"
      },
      "id": "dNVN1AoBOi-U",
      "execution_count": null,
      "outputs": [
        {
          "output_type": "stream",
          "name": "stdout",
          "text": [
            "INFO:tensorflow:Assets written to: /content/drive/My Drive/ECE_209_AS_project_data/UCIHARmodels/LSTM_withscale_0/assets\n"
          ]
        },
        {
          "output_type": "stream",
          "name": "stderr",
          "text": [
            "INFO:tensorflow:Assets written to: /content/drive/My Drive/ECE_209_AS_project_data/UCIHARmodels/LSTM_withscale_0/assets\n"
          ]
        },
        {
          "output_type": "stream",
          "name": "stdout",
          "text": [
            "INFO:tensorflow:Assets written to: /content/drive/My Drive/ECE_209_AS_project_data/UCIHARmodels/LSTM_withscale_0/assets\n"
          ]
        },
        {
          "output_type": "stream",
          "name": "stderr",
          "text": [
            "INFO:tensorflow:Assets written to: /content/drive/My Drive/ECE_209_AS_project_data/UCIHARmodels/LSTM_withscale_0/assets\n"
          ]
        },
        {
          "output_type": "stream",
          "name": "stdout",
          "text": [
            "INFO:tensorflow:Assets written to: /content/drive/My Drive/ECE_209_AS_project_data/UCIHARmodels/LSTM_withscale_0/assets\n"
          ]
        },
        {
          "output_type": "stream",
          "name": "stderr",
          "text": [
            "INFO:tensorflow:Assets written to: /content/drive/My Drive/ECE_209_AS_project_data/UCIHARmodels/LSTM_withscale_0/assets\n"
          ]
        },
        {
          "output_type": "stream",
          "name": "stdout",
          "text": [
            "INFO:tensorflow:Assets written to: /content/drive/My Drive/ECE_209_AS_project_data/UCIHARmodels/LSTM_withscale_0/assets\n"
          ]
        },
        {
          "output_type": "stream",
          "name": "stderr",
          "text": [
            "INFO:tensorflow:Assets written to: /content/drive/My Drive/ECE_209_AS_project_data/UCIHARmodels/LSTM_withscale_0/assets\n"
          ]
        },
        {
          "output_type": "stream",
          "name": "stdout",
          "text": [
            "INFO:tensorflow:Assets written to: /content/drive/My Drive/ECE_209_AS_project_data/UCIHARmodels/LSTM_withscale_0/assets\n"
          ]
        },
        {
          "output_type": "stream",
          "name": "stderr",
          "text": [
            "INFO:tensorflow:Assets written to: /content/drive/My Drive/ECE_209_AS_project_data/UCIHARmodels/LSTM_withscale_0/assets\n"
          ]
        },
        {
          "output_type": "stream",
          "name": "stdout",
          "text": [
            "INFO:tensorflow:Assets written to: /content/drive/My Drive/ECE_209_AS_project_data/UCIHARmodels/LSTM_withscale_0/assets\n"
          ]
        },
        {
          "output_type": "stream",
          "name": "stderr",
          "text": [
            "INFO:tensorflow:Assets written to: /content/drive/My Drive/ECE_209_AS_project_data/UCIHARmodels/LSTM_withscale_0/assets\n"
          ]
        },
        {
          "output_type": "stream",
          "name": "stdout",
          "text": [
            "INFO:tensorflow:Assets written to: /content/drive/My Drive/ECE_209_AS_project_data/UCIHARmodels/LSTM_withscale_0/assets\n"
          ]
        },
        {
          "output_type": "stream",
          "name": "stderr",
          "text": [
            "INFO:tensorflow:Assets written to: /content/drive/My Drive/ECE_209_AS_project_data/UCIHARmodels/LSTM_withscale_0/assets\n"
          ]
        },
        {
          "output_type": "stream",
          "name": "stdout",
          "text": [
            "INFO:tensorflow:Assets written to: /content/drive/My Drive/ECE_209_AS_project_data/UCIHARmodels/LSTM_withscale_0/assets\n"
          ]
        },
        {
          "output_type": "stream",
          "name": "stderr",
          "text": [
            "INFO:tensorflow:Assets written to: /content/drive/My Drive/ECE_209_AS_project_data/UCIHARmodels/LSTM_withscale_0/assets\n"
          ]
        },
        {
          "output_type": "stream",
          "name": "stdout",
          "text": [
            "INFO:tensorflow:Assets written to: /content/drive/My Drive/ECE_209_AS_project_data/UCIHARmodels/LSTM_withscale_0/assets\n"
          ]
        },
        {
          "output_type": "stream",
          "name": "stderr",
          "text": [
            "INFO:tensorflow:Assets written to: /content/drive/My Drive/ECE_209_AS_project_data/UCIHARmodels/LSTM_withscale_0/assets\n"
          ]
        },
        {
          "output_type": "stream",
          "name": "stdout",
          "text": [
            "INFO:tensorflow:Assets written to: /content/drive/My Drive/ECE_209_AS_project_data/UCIHARmodels/LSTM_withscale_0/assets\n"
          ]
        },
        {
          "output_type": "stream",
          "name": "stderr",
          "text": [
            "INFO:tensorflow:Assets written to: /content/drive/My Drive/ECE_209_AS_project_data/UCIHARmodels/LSTM_withscale_0/assets\n"
          ]
        },
        {
          "output_type": "stream",
          "name": "stdout",
          "text": [
            "INFO:tensorflow:Assets written to: /content/drive/My Drive/ECE_209_AS_project_data/UCIHARmodels/LSTM_withscale_0/assets\n"
          ]
        },
        {
          "output_type": "stream",
          "name": "stderr",
          "text": [
            "INFO:tensorflow:Assets written to: /content/drive/My Drive/ECE_209_AS_project_data/UCIHARmodels/LSTM_withscale_0/assets\n"
          ]
        },
        {
          "output_type": "stream",
          "name": "stdout",
          "text": [
            "INFO:tensorflow:Assets written to: /content/drive/My Drive/ECE_209_AS_project_data/UCIHARmodels/LSTM_withscale_0/assets\n"
          ]
        },
        {
          "output_type": "stream",
          "name": "stderr",
          "text": [
            "INFO:tensorflow:Assets written to: /content/drive/My Drive/ECE_209_AS_project_data/UCIHARmodels/LSTM_withscale_0/assets\n"
          ]
        },
        {
          "output_type": "stream",
          "name": "stdout",
          "text": [
            "INFO:tensorflow:Assets written to: /content/drive/My Drive/ECE_209_AS_project_data/UCIHARmodels/LSTM_withscale_0/assets\n"
          ]
        },
        {
          "output_type": "stream",
          "name": "stderr",
          "text": [
            "INFO:tensorflow:Assets written to: /content/drive/My Drive/ECE_209_AS_project_data/UCIHARmodels/LSTM_withscale_0/assets\n"
          ]
        },
        {
          "output_type": "stream",
          "name": "stdout",
          "text": [
            "INFO:tensorflow:Assets written to: /content/drive/My Drive/ECE_209_AS_project_data/UCIHARmodels/LSTM_withscale_0/assets\n"
          ]
        },
        {
          "output_type": "stream",
          "name": "stderr",
          "text": [
            "INFO:tensorflow:Assets written to: /content/drive/My Drive/ECE_209_AS_project_data/UCIHARmodels/LSTM_withscale_0/assets\n"
          ]
        },
        {
          "output_type": "stream",
          "name": "stdout",
          "text": [
            "INFO:tensorflow:Assets written to: /content/drive/My Drive/ECE_209_AS_project_data/UCIHARmodels/LSTM_withscale_0/assets\n"
          ]
        },
        {
          "output_type": "stream",
          "name": "stderr",
          "text": [
            "INFO:tensorflow:Assets written to: /content/drive/My Drive/ECE_209_AS_project_data/UCIHARmodels/LSTM_withscale_0/assets\n"
          ]
        },
        {
          "output_type": "stream",
          "name": "stdout",
          "text": [
            "INFO:tensorflow:Assets written to: /content/drive/My Drive/ECE_209_AS_project_data/UCIHARmodels/LSTM_withscale_0/assets\n"
          ]
        },
        {
          "output_type": "stream",
          "name": "stderr",
          "text": [
            "INFO:tensorflow:Assets written to: /content/drive/My Drive/ECE_209_AS_project_data/UCIHARmodels/LSTM_withscale_0/assets\n"
          ]
        },
        {
          "output_type": "stream",
          "name": "stdout",
          "text": [
            "INFO:tensorflow:Assets written to: /content/drive/My Drive/ECE_209_AS_project_data/UCIHARmodels/LSTM_withscale_0/assets\n"
          ]
        },
        {
          "output_type": "stream",
          "name": "stderr",
          "text": [
            "INFO:tensorflow:Assets written to: /content/drive/My Drive/ECE_209_AS_project_data/UCIHARmodels/LSTM_withscale_0/assets\n"
          ]
        },
        {
          "output_type": "stream",
          "name": "stdout",
          "text": [
            "INFO:tensorflow:Assets written to: /content/drive/My Drive/ECE_209_AS_project_data/UCIHARmodels/LSTM_withscale_0/assets\n"
          ]
        },
        {
          "output_type": "stream",
          "name": "stderr",
          "text": [
            "INFO:tensorflow:Assets written to: /content/drive/My Drive/ECE_209_AS_project_data/UCIHARmodels/LSTM_withscale_0/assets\n"
          ]
        },
        {
          "output_type": "stream",
          "name": "stdout",
          "text": [
            "INFO:tensorflow:Assets written to: /content/drive/My Drive/ECE_209_AS_project_data/UCIHARmodels/LSTM_withscale_0/assets\n"
          ]
        },
        {
          "output_type": "stream",
          "name": "stderr",
          "text": [
            "INFO:tensorflow:Assets written to: /content/drive/My Drive/ECE_209_AS_project_data/UCIHARmodels/LSTM_withscale_0/assets\n"
          ]
        },
        {
          "output_type": "stream",
          "name": "stdout",
          "text": [
            "INFO:tensorflow:Assets written to: /content/drive/My Drive/ECE_209_AS_project_data/UCIHARmodels/LSTM_withscale_0/assets\n"
          ]
        },
        {
          "output_type": "stream",
          "name": "stderr",
          "text": [
            "INFO:tensorflow:Assets written to: /content/drive/My Drive/ECE_209_AS_project_data/UCIHARmodels/LSTM_withscale_0/assets\n"
          ]
        },
        {
          "output_type": "stream",
          "name": "stdout",
          "text": [
            "INFO:tensorflow:Assets written to: /content/drive/My Drive/ECE_209_AS_project_data/UCIHARmodels/LSTM_withscale_0/assets\n"
          ]
        },
        {
          "output_type": "stream",
          "name": "stderr",
          "text": [
            "INFO:tensorflow:Assets written to: /content/drive/My Drive/ECE_209_AS_project_data/UCIHARmodels/LSTM_withscale_0/assets\n"
          ]
        },
        {
          "output_type": "stream",
          "name": "stdout",
          "text": [
            "INFO:tensorflow:Assets written to: /content/drive/My Drive/ECE_209_AS_project_data/UCIHARmodels/LSTM_withscale_0/assets\n"
          ]
        },
        {
          "output_type": "stream",
          "name": "stderr",
          "text": [
            "INFO:tensorflow:Assets written to: /content/drive/My Drive/ECE_209_AS_project_data/UCIHARmodels/LSTM_withscale_0/assets\n"
          ]
        },
        {
          "output_type": "stream",
          "name": "stdout",
          "text": [
            "INFO:tensorflow:Assets written to: /content/drive/My Drive/ECE_209_AS_project_data/UCIHARmodels/LSTM_withscale_0/assets\n"
          ]
        },
        {
          "output_type": "stream",
          "name": "stderr",
          "text": [
            "INFO:tensorflow:Assets written to: /content/drive/My Drive/ECE_209_AS_project_data/UCIHARmodels/LSTM_withscale_0/assets\n"
          ]
        },
        {
          "output_type": "stream",
          "name": "stdout",
          "text": [
            "INFO:tensorflow:Assets written to: /content/drive/My Drive/ECE_209_AS_project_data/UCIHARmodels/LSTM_withscale_0/assets\n"
          ]
        },
        {
          "output_type": "stream",
          "name": "stderr",
          "text": [
            "INFO:tensorflow:Assets written to: /content/drive/My Drive/ECE_209_AS_project_data/UCIHARmodels/LSTM_withscale_0/assets\n"
          ]
        },
        {
          "output_type": "stream",
          "name": "stdout",
          "text": [
            "INFO:tensorflow:Assets written to: /content/drive/My Drive/ECE_209_AS_project_data/UCIHARmodels/LSTM_withscale_0/assets\n"
          ]
        },
        {
          "output_type": "stream",
          "name": "stderr",
          "text": [
            "INFO:tensorflow:Assets written to: /content/drive/My Drive/ECE_209_AS_project_data/UCIHARmodels/LSTM_withscale_0/assets\n"
          ]
        },
        {
          "output_type": "stream",
          "name": "stdout",
          "text": [
            "tf.Tensor(0.93043774, shape=(), dtype=float32)\n",
            "INFO:tensorflow:Assets written to: /content/drive/My Drive/ECE_209_AS_project_data/UCIHARmodels/LSTM_withscale_1/assets\n"
          ]
        },
        {
          "output_type": "stream",
          "name": "stderr",
          "text": [
            "INFO:tensorflow:Assets written to: /content/drive/My Drive/ECE_209_AS_project_data/UCIHARmodels/LSTM_withscale_1/assets\n"
          ]
        },
        {
          "output_type": "stream",
          "name": "stdout",
          "text": [
            "INFO:tensorflow:Assets written to: /content/drive/My Drive/ECE_209_AS_project_data/UCIHARmodels/LSTM_withscale_1/assets\n"
          ]
        },
        {
          "output_type": "stream",
          "name": "stderr",
          "text": [
            "INFO:tensorflow:Assets written to: /content/drive/My Drive/ECE_209_AS_project_data/UCIHARmodels/LSTM_withscale_1/assets\n"
          ]
        },
        {
          "output_type": "stream",
          "name": "stdout",
          "text": [
            "INFO:tensorflow:Assets written to: /content/drive/My Drive/ECE_209_AS_project_data/UCIHARmodels/LSTM_withscale_1/assets\n"
          ]
        },
        {
          "output_type": "stream",
          "name": "stderr",
          "text": [
            "INFO:tensorflow:Assets written to: /content/drive/My Drive/ECE_209_AS_project_data/UCIHARmodels/LSTM_withscale_1/assets\n"
          ]
        },
        {
          "output_type": "stream",
          "name": "stdout",
          "text": [
            "INFO:tensorflow:Assets written to: /content/drive/My Drive/ECE_209_AS_project_data/UCIHARmodels/LSTM_withscale_1/assets\n"
          ]
        },
        {
          "output_type": "stream",
          "name": "stderr",
          "text": [
            "INFO:tensorflow:Assets written to: /content/drive/My Drive/ECE_209_AS_project_data/UCIHARmodels/LSTM_withscale_1/assets\n"
          ]
        },
        {
          "output_type": "stream",
          "name": "stdout",
          "text": [
            "INFO:tensorflow:Assets written to: /content/drive/My Drive/ECE_209_AS_project_data/UCIHARmodels/LSTM_withscale_1/assets\n"
          ]
        },
        {
          "output_type": "stream",
          "name": "stderr",
          "text": [
            "INFO:tensorflow:Assets written to: /content/drive/My Drive/ECE_209_AS_project_data/UCIHARmodels/LSTM_withscale_1/assets\n"
          ]
        },
        {
          "output_type": "stream",
          "name": "stdout",
          "text": [
            "INFO:tensorflow:Assets written to: /content/drive/My Drive/ECE_209_AS_project_data/UCIHARmodels/LSTM_withscale_1/assets\n"
          ]
        },
        {
          "output_type": "stream",
          "name": "stderr",
          "text": [
            "INFO:tensorflow:Assets written to: /content/drive/My Drive/ECE_209_AS_project_data/UCIHARmodels/LSTM_withscale_1/assets\n"
          ]
        },
        {
          "output_type": "stream",
          "name": "stdout",
          "text": [
            "INFO:tensorflow:Assets written to: /content/drive/My Drive/ECE_209_AS_project_data/UCIHARmodels/LSTM_withscale_1/assets\n"
          ]
        },
        {
          "output_type": "stream",
          "name": "stderr",
          "text": [
            "INFO:tensorflow:Assets written to: /content/drive/My Drive/ECE_209_AS_project_data/UCIHARmodels/LSTM_withscale_1/assets\n"
          ]
        },
        {
          "output_type": "stream",
          "name": "stdout",
          "text": [
            "INFO:tensorflow:Assets written to: /content/drive/My Drive/ECE_209_AS_project_data/UCIHARmodels/LSTM_withscale_1/assets\n"
          ]
        },
        {
          "output_type": "stream",
          "name": "stderr",
          "text": [
            "INFO:tensorflow:Assets written to: /content/drive/My Drive/ECE_209_AS_project_data/UCIHARmodels/LSTM_withscale_1/assets\n"
          ]
        },
        {
          "output_type": "stream",
          "name": "stdout",
          "text": [
            "INFO:tensorflow:Assets written to: /content/drive/My Drive/ECE_209_AS_project_data/UCIHARmodels/LSTM_withscale_1/assets\n"
          ]
        },
        {
          "output_type": "stream",
          "name": "stderr",
          "text": [
            "INFO:tensorflow:Assets written to: /content/drive/My Drive/ECE_209_AS_project_data/UCIHARmodels/LSTM_withscale_1/assets\n"
          ]
        },
        {
          "output_type": "stream",
          "name": "stdout",
          "text": [
            "INFO:tensorflow:Assets written to: /content/drive/My Drive/ECE_209_AS_project_data/UCIHARmodels/LSTM_withscale_1/assets\n"
          ]
        },
        {
          "output_type": "stream",
          "name": "stderr",
          "text": [
            "INFO:tensorflow:Assets written to: /content/drive/My Drive/ECE_209_AS_project_data/UCIHARmodels/LSTM_withscale_1/assets\n"
          ]
        },
        {
          "output_type": "stream",
          "name": "stdout",
          "text": [
            "INFO:tensorflow:Assets written to: /content/drive/My Drive/ECE_209_AS_project_data/UCIHARmodels/LSTM_withscale_1/assets\n"
          ]
        },
        {
          "output_type": "stream",
          "name": "stderr",
          "text": [
            "INFO:tensorflow:Assets written to: /content/drive/My Drive/ECE_209_AS_project_data/UCIHARmodels/LSTM_withscale_1/assets\n"
          ]
        },
        {
          "output_type": "stream",
          "name": "stdout",
          "text": [
            "INFO:tensorflow:Assets written to: /content/drive/My Drive/ECE_209_AS_project_data/UCIHARmodels/LSTM_withscale_1/assets\n"
          ]
        },
        {
          "output_type": "stream",
          "name": "stderr",
          "text": [
            "INFO:tensorflow:Assets written to: /content/drive/My Drive/ECE_209_AS_project_data/UCIHARmodels/LSTM_withscale_1/assets\n"
          ]
        },
        {
          "output_type": "stream",
          "name": "stdout",
          "text": [
            "INFO:tensorflow:Assets written to: /content/drive/My Drive/ECE_209_AS_project_data/UCIHARmodels/LSTM_withscale_1/assets\n"
          ]
        },
        {
          "output_type": "stream",
          "name": "stderr",
          "text": [
            "INFO:tensorflow:Assets written to: /content/drive/My Drive/ECE_209_AS_project_data/UCIHARmodels/LSTM_withscale_1/assets\n"
          ]
        },
        {
          "output_type": "stream",
          "name": "stdout",
          "text": [
            "INFO:tensorflow:Assets written to: /content/drive/My Drive/ECE_209_AS_project_data/UCIHARmodels/LSTM_withscale_1/assets\n"
          ]
        },
        {
          "output_type": "stream",
          "name": "stderr",
          "text": [
            "INFO:tensorflow:Assets written to: /content/drive/My Drive/ECE_209_AS_project_data/UCIHARmodels/LSTM_withscale_1/assets\n"
          ]
        },
        {
          "output_type": "stream",
          "name": "stdout",
          "text": [
            "INFO:tensorflow:Assets written to: /content/drive/My Drive/ECE_209_AS_project_data/UCIHARmodels/LSTM_withscale_1/assets\n"
          ]
        },
        {
          "output_type": "stream",
          "name": "stderr",
          "text": [
            "INFO:tensorflow:Assets written to: /content/drive/My Drive/ECE_209_AS_project_data/UCIHARmodels/LSTM_withscale_1/assets\n"
          ]
        },
        {
          "output_type": "stream",
          "name": "stdout",
          "text": [
            "INFO:tensorflow:Assets written to: /content/drive/My Drive/ECE_209_AS_project_data/UCIHARmodels/LSTM_withscale_1/assets\n"
          ]
        },
        {
          "output_type": "stream",
          "name": "stderr",
          "text": [
            "INFO:tensorflow:Assets written to: /content/drive/My Drive/ECE_209_AS_project_data/UCIHARmodels/LSTM_withscale_1/assets\n"
          ]
        },
        {
          "output_type": "stream",
          "name": "stdout",
          "text": [
            "INFO:tensorflow:Assets written to: /content/drive/My Drive/ECE_209_AS_project_data/UCIHARmodels/LSTM_withscale_1/assets\n"
          ]
        },
        {
          "output_type": "stream",
          "name": "stderr",
          "text": [
            "INFO:tensorflow:Assets written to: /content/drive/My Drive/ECE_209_AS_project_data/UCIHARmodels/LSTM_withscale_1/assets\n"
          ]
        },
        {
          "output_type": "stream",
          "name": "stdout",
          "text": [
            "INFO:tensorflow:Assets written to: /content/drive/My Drive/ECE_209_AS_project_data/UCIHARmodels/LSTM_withscale_1/assets\n"
          ]
        },
        {
          "output_type": "stream",
          "name": "stderr",
          "text": [
            "INFO:tensorflow:Assets written to: /content/drive/My Drive/ECE_209_AS_project_data/UCIHARmodels/LSTM_withscale_1/assets\n"
          ]
        },
        {
          "output_type": "stream",
          "name": "stdout",
          "text": [
            "INFO:tensorflow:Assets written to: /content/drive/My Drive/ECE_209_AS_project_data/UCIHARmodels/LSTM_withscale_1/assets\n"
          ]
        },
        {
          "output_type": "stream",
          "name": "stderr",
          "text": [
            "INFO:tensorflow:Assets written to: /content/drive/My Drive/ECE_209_AS_project_data/UCIHARmodels/LSTM_withscale_1/assets\n"
          ]
        },
        {
          "output_type": "stream",
          "name": "stdout",
          "text": [
            "INFO:tensorflow:Assets written to: /content/drive/My Drive/ECE_209_AS_project_data/UCIHARmodels/LSTM_withscale_1/assets\n"
          ]
        },
        {
          "output_type": "stream",
          "name": "stderr",
          "text": [
            "INFO:tensorflow:Assets written to: /content/drive/My Drive/ECE_209_AS_project_data/UCIHARmodels/LSTM_withscale_1/assets\n"
          ]
        },
        {
          "output_type": "stream",
          "name": "stdout",
          "text": [
            "INFO:tensorflow:Assets written to: /content/drive/My Drive/ECE_209_AS_project_data/UCIHARmodels/LSTM_withscale_1/assets\n"
          ]
        },
        {
          "output_type": "stream",
          "name": "stderr",
          "text": [
            "INFO:tensorflow:Assets written to: /content/drive/My Drive/ECE_209_AS_project_data/UCIHARmodels/LSTM_withscale_1/assets\n"
          ]
        },
        {
          "output_type": "stream",
          "name": "stdout",
          "text": [
            "INFO:tensorflow:Assets written to: /content/drive/My Drive/ECE_209_AS_project_data/UCIHARmodels/LSTM_withscale_1/assets\n"
          ]
        },
        {
          "output_type": "stream",
          "name": "stderr",
          "text": [
            "INFO:tensorflow:Assets written to: /content/drive/My Drive/ECE_209_AS_project_data/UCIHARmodels/LSTM_withscale_1/assets\n"
          ]
        },
        {
          "output_type": "stream",
          "name": "stdout",
          "text": [
            "INFO:tensorflow:Assets written to: /content/drive/My Drive/ECE_209_AS_project_data/UCIHARmodels/LSTM_withscale_1/assets\n"
          ]
        },
        {
          "output_type": "stream",
          "name": "stderr",
          "text": [
            "INFO:tensorflow:Assets written to: /content/drive/My Drive/ECE_209_AS_project_data/UCIHARmodels/LSTM_withscale_1/assets\n"
          ]
        },
        {
          "output_type": "stream",
          "name": "stdout",
          "text": [
            "INFO:tensorflow:Assets written to: /content/drive/My Drive/ECE_209_AS_project_data/UCIHARmodels/LSTM_withscale_1/assets\n"
          ]
        },
        {
          "output_type": "stream",
          "name": "stderr",
          "text": [
            "INFO:tensorflow:Assets written to: /content/drive/My Drive/ECE_209_AS_project_data/UCIHARmodels/LSTM_withscale_1/assets\n"
          ]
        },
        {
          "output_type": "stream",
          "name": "stdout",
          "text": [
            "INFO:tensorflow:Assets written to: /content/drive/My Drive/ECE_209_AS_project_data/UCIHARmodels/LSTM_withscale_1/assets\n"
          ]
        },
        {
          "output_type": "stream",
          "name": "stderr",
          "text": [
            "INFO:tensorflow:Assets written to: /content/drive/My Drive/ECE_209_AS_project_data/UCIHARmodels/LSTM_withscale_1/assets\n"
          ]
        },
        {
          "output_type": "stream",
          "name": "stdout",
          "text": [
            "tf.Tensor(0.94163555, shape=(), dtype=float32)\n",
            "INFO:tensorflow:Assets written to: /content/drive/My Drive/ECE_209_AS_project_data/UCIHARmodels/LSTM_withscale_2/assets\n"
          ]
        },
        {
          "output_type": "stream",
          "name": "stderr",
          "text": [
            "INFO:tensorflow:Assets written to: /content/drive/My Drive/ECE_209_AS_project_data/UCIHARmodels/LSTM_withscale_2/assets\n"
          ]
        },
        {
          "output_type": "stream",
          "name": "stdout",
          "text": [
            "INFO:tensorflow:Assets written to: /content/drive/My Drive/ECE_209_AS_project_data/UCIHARmodels/LSTM_withscale_2/assets\n"
          ]
        },
        {
          "output_type": "stream",
          "name": "stderr",
          "text": [
            "INFO:tensorflow:Assets written to: /content/drive/My Drive/ECE_209_AS_project_data/UCIHARmodels/LSTM_withscale_2/assets\n"
          ]
        },
        {
          "output_type": "stream",
          "name": "stdout",
          "text": [
            "INFO:tensorflow:Assets written to: /content/drive/My Drive/ECE_209_AS_project_data/UCIHARmodels/LSTM_withscale_2/assets\n"
          ]
        },
        {
          "output_type": "stream",
          "name": "stderr",
          "text": [
            "INFO:tensorflow:Assets written to: /content/drive/My Drive/ECE_209_AS_project_data/UCIHARmodels/LSTM_withscale_2/assets\n"
          ]
        },
        {
          "output_type": "stream",
          "name": "stdout",
          "text": [
            "INFO:tensorflow:Assets written to: /content/drive/My Drive/ECE_209_AS_project_data/UCIHARmodels/LSTM_withscale_2/assets\n"
          ]
        },
        {
          "output_type": "stream",
          "name": "stderr",
          "text": [
            "INFO:tensorflow:Assets written to: /content/drive/My Drive/ECE_209_AS_project_data/UCIHARmodels/LSTM_withscale_2/assets\n"
          ]
        },
        {
          "output_type": "stream",
          "name": "stdout",
          "text": [
            "INFO:tensorflow:Assets written to: /content/drive/My Drive/ECE_209_AS_project_data/UCIHARmodels/LSTM_withscale_2/assets\n"
          ]
        },
        {
          "output_type": "stream",
          "name": "stderr",
          "text": [
            "INFO:tensorflow:Assets written to: /content/drive/My Drive/ECE_209_AS_project_data/UCIHARmodels/LSTM_withscale_2/assets\n"
          ]
        },
        {
          "output_type": "stream",
          "name": "stdout",
          "text": [
            "INFO:tensorflow:Assets written to: /content/drive/My Drive/ECE_209_AS_project_data/UCIHARmodels/LSTM_withscale_2/assets\n"
          ]
        },
        {
          "output_type": "stream",
          "name": "stderr",
          "text": [
            "INFO:tensorflow:Assets written to: /content/drive/My Drive/ECE_209_AS_project_data/UCIHARmodels/LSTM_withscale_2/assets\n"
          ]
        },
        {
          "output_type": "stream",
          "name": "stdout",
          "text": [
            "INFO:tensorflow:Assets written to: /content/drive/My Drive/ECE_209_AS_project_data/UCIHARmodels/LSTM_withscale_2/assets\n"
          ]
        },
        {
          "output_type": "stream",
          "name": "stderr",
          "text": [
            "INFO:tensorflow:Assets written to: /content/drive/My Drive/ECE_209_AS_project_data/UCIHARmodels/LSTM_withscale_2/assets\n"
          ]
        },
        {
          "output_type": "stream",
          "name": "stdout",
          "text": [
            "INFO:tensorflow:Assets written to: /content/drive/My Drive/ECE_209_AS_project_data/UCIHARmodels/LSTM_withscale_2/assets\n"
          ]
        },
        {
          "output_type": "stream",
          "name": "stderr",
          "text": [
            "INFO:tensorflow:Assets written to: /content/drive/My Drive/ECE_209_AS_project_data/UCIHARmodels/LSTM_withscale_2/assets\n"
          ]
        },
        {
          "output_type": "stream",
          "name": "stdout",
          "text": [
            "INFO:tensorflow:Assets written to: /content/drive/My Drive/ECE_209_AS_project_data/UCIHARmodels/LSTM_withscale_2/assets\n"
          ]
        },
        {
          "output_type": "stream",
          "name": "stderr",
          "text": [
            "INFO:tensorflow:Assets written to: /content/drive/My Drive/ECE_209_AS_project_data/UCIHARmodels/LSTM_withscale_2/assets\n"
          ]
        },
        {
          "output_type": "stream",
          "name": "stdout",
          "text": [
            "INFO:tensorflow:Assets written to: /content/drive/My Drive/ECE_209_AS_project_data/UCIHARmodels/LSTM_withscale_2/assets\n"
          ]
        },
        {
          "output_type": "stream",
          "name": "stderr",
          "text": [
            "INFO:tensorflow:Assets written to: /content/drive/My Drive/ECE_209_AS_project_data/UCIHARmodels/LSTM_withscale_2/assets\n"
          ]
        },
        {
          "output_type": "stream",
          "name": "stdout",
          "text": [
            "INFO:tensorflow:Assets written to: /content/drive/My Drive/ECE_209_AS_project_data/UCIHARmodels/LSTM_withscale_2/assets\n"
          ]
        },
        {
          "output_type": "stream",
          "name": "stderr",
          "text": [
            "INFO:tensorflow:Assets written to: /content/drive/My Drive/ECE_209_AS_project_data/UCIHARmodels/LSTM_withscale_2/assets\n"
          ]
        },
        {
          "output_type": "stream",
          "name": "stdout",
          "text": [
            "INFO:tensorflow:Assets written to: /content/drive/My Drive/ECE_209_AS_project_data/UCIHARmodels/LSTM_withscale_2/assets\n"
          ]
        },
        {
          "output_type": "stream",
          "name": "stderr",
          "text": [
            "INFO:tensorflow:Assets written to: /content/drive/My Drive/ECE_209_AS_project_data/UCIHARmodels/LSTM_withscale_2/assets\n"
          ]
        },
        {
          "output_type": "stream",
          "name": "stdout",
          "text": [
            "INFO:tensorflow:Assets written to: /content/drive/My Drive/ECE_209_AS_project_data/UCIHARmodels/LSTM_withscale_2/assets\n"
          ]
        },
        {
          "output_type": "stream",
          "name": "stderr",
          "text": [
            "INFO:tensorflow:Assets written to: /content/drive/My Drive/ECE_209_AS_project_data/UCIHARmodels/LSTM_withscale_2/assets\n"
          ]
        },
        {
          "output_type": "stream",
          "name": "stdout",
          "text": [
            "INFO:tensorflow:Assets written to: /content/drive/My Drive/ECE_209_AS_project_data/UCIHARmodels/LSTM_withscale_2/assets\n"
          ]
        },
        {
          "output_type": "stream",
          "name": "stderr",
          "text": [
            "INFO:tensorflow:Assets written to: /content/drive/My Drive/ECE_209_AS_project_data/UCIHARmodels/LSTM_withscale_2/assets\n"
          ]
        },
        {
          "output_type": "stream",
          "name": "stdout",
          "text": [
            "INFO:tensorflow:Assets written to: /content/drive/My Drive/ECE_209_AS_project_data/UCIHARmodels/LSTM_withscale_2/assets\n"
          ]
        },
        {
          "output_type": "stream",
          "name": "stderr",
          "text": [
            "INFO:tensorflow:Assets written to: /content/drive/My Drive/ECE_209_AS_project_data/UCIHARmodels/LSTM_withscale_2/assets\n"
          ]
        },
        {
          "output_type": "stream",
          "name": "stdout",
          "text": [
            "INFO:tensorflow:Assets written to: /content/drive/My Drive/ECE_209_AS_project_data/UCIHARmodels/LSTM_withscale_2/assets\n"
          ]
        },
        {
          "output_type": "stream",
          "name": "stderr",
          "text": [
            "INFO:tensorflow:Assets written to: /content/drive/My Drive/ECE_209_AS_project_data/UCIHARmodels/LSTM_withscale_2/assets\n"
          ]
        },
        {
          "output_type": "stream",
          "name": "stdout",
          "text": [
            "INFO:tensorflow:Assets written to: /content/drive/My Drive/ECE_209_AS_project_data/UCIHARmodels/LSTM_withscale_2/assets\n"
          ]
        },
        {
          "output_type": "stream",
          "name": "stderr",
          "text": [
            "INFO:tensorflow:Assets written to: /content/drive/My Drive/ECE_209_AS_project_data/UCIHARmodels/LSTM_withscale_2/assets\n"
          ]
        },
        {
          "output_type": "stream",
          "name": "stdout",
          "text": [
            "INFO:tensorflow:Assets written to: /content/drive/My Drive/ECE_209_AS_project_data/UCIHARmodels/LSTM_withscale_2/assets\n"
          ]
        },
        {
          "output_type": "stream",
          "name": "stderr",
          "text": [
            "INFO:tensorflow:Assets written to: /content/drive/My Drive/ECE_209_AS_project_data/UCIHARmodels/LSTM_withscale_2/assets\n"
          ]
        },
        {
          "output_type": "stream",
          "name": "stdout",
          "text": [
            "INFO:tensorflow:Assets written to: /content/drive/My Drive/ECE_209_AS_project_data/UCIHARmodels/LSTM_withscale_2/assets\n"
          ]
        },
        {
          "output_type": "stream",
          "name": "stderr",
          "text": [
            "INFO:tensorflow:Assets written to: /content/drive/My Drive/ECE_209_AS_project_data/UCIHARmodels/LSTM_withscale_2/assets\n"
          ]
        },
        {
          "output_type": "stream",
          "name": "stdout",
          "text": [
            "INFO:tensorflow:Assets written to: /content/drive/My Drive/ECE_209_AS_project_data/UCIHARmodels/LSTM_withscale_2/assets\n"
          ]
        },
        {
          "output_type": "stream",
          "name": "stderr",
          "text": [
            "INFO:tensorflow:Assets written to: /content/drive/My Drive/ECE_209_AS_project_data/UCIHARmodels/LSTM_withscale_2/assets\n"
          ]
        },
        {
          "output_type": "stream",
          "name": "stdout",
          "text": [
            "INFO:tensorflow:Assets written to: /content/drive/My Drive/ECE_209_AS_project_data/UCIHARmodels/LSTM_withscale_2/assets\n"
          ]
        },
        {
          "output_type": "stream",
          "name": "stderr",
          "text": [
            "INFO:tensorflow:Assets written to: /content/drive/My Drive/ECE_209_AS_project_data/UCIHARmodels/LSTM_withscale_2/assets\n"
          ]
        },
        {
          "output_type": "stream",
          "name": "stdout",
          "text": [
            "INFO:tensorflow:Assets written to: /content/drive/My Drive/ECE_209_AS_project_data/UCIHARmodels/LSTM_withscale_2/assets\n"
          ]
        },
        {
          "output_type": "stream",
          "name": "stderr",
          "text": [
            "INFO:tensorflow:Assets written to: /content/drive/My Drive/ECE_209_AS_project_data/UCIHARmodels/LSTM_withscale_2/assets\n"
          ]
        },
        {
          "output_type": "stream",
          "name": "stdout",
          "text": [
            "INFO:tensorflow:Assets written to: /content/drive/My Drive/ECE_209_AS_project_data/UCIHARmodels/LSTM_withscale_2/assets\n"
          ]
        },
        {
          "output_type": "stream",
          "name": "stderr",
          "text": [
            "INFO:tensorflow:Assets written to: /content/drive/My Drive/ECE_209_AS_project_data/UCIHARmodels/LSTM_withscale_2/assets\n"
          ]
        },
        {
          "output_type": "stream",
          "name": "stdout",
          "text": [
            "INFO:tensorflow:Assets written to: /content/drive/My Drive/ECE_209_AS_project_data/UCIHARmodels/LSTM_withscale_2/assets\n"
          ]
        },
        {
          "output_type": "stream",
          "name": "stderr",
          "text": [
            "INFO:tensorflow:Assets written to: /content/drive/My Drive/ECE_209_AS_project_data/UCIHARmodels/LSTM_withscale_2/assets\n"
          ]
        },
        {
          "output_type": "stream",
          "name": "stdout",
          "text": [
            "INFO:tensorflow:Assets written to: /content/drive/My Drive/ECE_209_AS_project_data/UCIHARmodels/LSTM_withscale_2/assets\n"
          ]
        },
        {
          "output_type": "stream",
          "name": "stderr",
          "text": [
            "INFO:tensorflow:Assets written to: /content/drive/My Drive/ECE_209_AS_project_data/UCIHARmodels/LSTM_withscale_2/assets\n"
          ]
        },
        {
          "output_type": "stream",
          "name": "stdout",
          "text": [
            "tf.Tensor(0.9480828, shape=(), dtype=float32)\n",
            "INFO:tensorflow:Assets written to: /content/drive/My Drive/ECE_209_AS_project_data/UCIHARmodels/LSTM_withscale_3/assets\n"
          ]
        },
        {
          "output_type": "stream",
          "name": "stderr",
          "text": [
            "INFO:tensorflow:Assets written to: /content/drive/My Drive/ECE_209_AS_project_data/UCIHARmodels/LSTM_withscale_3/assets\n"
          ]
        },
        {
          "output_type": "stream",
          "name": "stdout",
          "text": [
            "INFO:tensorflow:Assets written to: /content/drive/My Drive/ECE_209_AS_project_data/UCIHARmodels/LSTM_withscale_3/assets\n"
          ]
        },
        {
          "output_type": "stream",
          "name": "stderr",
          "text": [
            "INFO:tensorflow:Assets written to: /content/drive/My Drive/ECE_209_AS_project_data/UCIHARmodels/LSTM_withscale_3/assets\n"
          ]
        },
        {
          "output_type": "stream",
          "name": "stdout",
          "text": [
            "INFO:tensorflow:Assets written to: /content/drive/My Drive/ECE_209_AS_project_data/UCIHARmodels/LSTM_withscale_3/assets\n"
          ]
        },
        {
          "output_type": "stream",
          "name": "stderr",
          "text": [
            "INFO:tensorflow:Assets written to: /content/drive/My Drive/ECE_209_AS_project_data/UCIHARmodels/LSTM_withscale_3/assets\n"
          ]
        },
        {
          "output_type": "stream",
          "name": "stdout",
          "text": [
            "INFO:tensorflow:Assets written to: /content/drive/My Drive/ECE_209_AS_project_data/UCIHARmodels/LSTM_withscale_3/assets\n"
          ]
        },
        {
          "output_type": "stream",
          "name": "stderr",
          "text": [
            "INFO:tensorflow:Assets written to: /content/drive/My Drive/ECE_209_AS_project_data/UCIHARmodels/LSTM_withscale_3/assets\n"
          ]
        },
        {
          "output_type": "stream",
          "name": "stdout",
          "text": [
            "INFO:tensorflow:Assets written to: /content/drive/My Drive/ECE_209_AS_project_data/UCIHARmodels/LSTM_withscale_3/assets\n"
          ]
        },
        {
          "output_type": "stream",
          "name": "stderr",
          "text": [
            "INFO:tensorflow:Assets written to: /content/drive/My Drive/ECE_209_AS_project_data/UCIHARmodels/LSTM_withscale_3/assets\n"
          ]
        },
        {
          "output_type": "stream",
          "name": "stdout",
          "text": [
            "INFO:tensorflow:Assets written to: /content/drive/My Drive/ECE_209_AS_project_data/UCIHARmodels/LSTM_withscale_3/assets\n"
          ]
        },
        {
          "output_type": "stream",
          "name": "stderr",
          "text": [
            "INFO:tensorflow:Assets written to: /content/drive/My Drive/ECE_209_AS_project_data/UCIHARmodels/LSTM_withscale_3/assets\n"
          ]
        },
        {
          "output_type": "stream",
          "name": "stdout",
          "text": [
            "INFO:tensorflow:Assets written to: /content/drive/My Drive/ECE_209_AS_project_data/UCIHARmodels/LSTM_withscale_3/assets\n"
          ]
        },
        {
          "output_type": "stream",
          "name": "stderr",
          "text": [
            "INFO:tensorflow:Assets written to: /content/drive/My Drive/ECE_209_AS_project_data/UCIHARmodels/LSTM_withscale_3/assets\n"
          ]
        },
        {
          "output_type": "stream",
          "name": "stdout",
          "text": [
            "INFO:tensorflow:Assets written to: /content/drive/My Drive/ECE_209_AS_project_data/UCIHARmodels/LSTM_withscale_3/assets\n"
          ]
        },
        {
          "output_type": "stream",
          "name": "stderr",
          "text": [
            "INFO:tensorflow:Assets written to: /content/drive/My Drive/ECE_209_AS_project_data/UCIHARmodels/LSTM_withscale_3/assets\n"
          ]
        },
        {
          "output_type": "stream",
          "name": "stdout",
          "text": [
            "INFO:tensorflow:Assets written to: /content/drive/My Drive/ECE_209_AS_project_data/UCIHARmodels/LSTM_withscale_3/assets\n"
          ]
        },
        {
          "output_type": "stream",
          "name": "stderr",
          "text": [
            "INFO:tensorflow:Assets written to: /content/drive/My Drive/ECE_209_AS_project_data/UCIHARmodels/LSTM_withscale_3/assets\n"
          ]
        },
        {
          "output_type": "stream",
          "name": "stdout",
          "text": [
            "INFO:tensorflow:Assets written to: /content/drive/My Drive/ECE_209_AS_project_data/UCIHARmodels/LSTM_withscale_3/assets\n"
          ]
        },
        {
          "output_type": "stream",
          "name": "stderr",
          "text": [
            "INFO:tensorflow:Assets written to: /content/drive/My Drive/ECE_209_AS_project_data/UCIHARmodels/LSTM_withscale_3/assets\n"
          ]
        },
        {
          "output_type": "stream",
          "name": "stdout",
          "text": [
            "INFO:tensorflow:Assets written to: /content/drive/My Drive/ECE_209_AS_project_data/UCIHARmodels/LSTM_withscale_3/assets\n"
          ]
        },
        {
          "output_type": "stream",
          "name": "stderr",
          "text": [
            "INFO:tensorflow:Assets written to: /content/drive/My Drive/ECE_209_AS_project_data/UCIHARmodels/LSTM_withscale_3/assets\n"
          ]
        },
        {
          "output_type": "stream",
          "name": "stdout",
          "text": [
            "INFO:tensorflow:Assets written to: /content/drive/My Drive/ECE_209_AS_project_data/UCIHARmodels/LSTM_withscale_3/assets\n"
          ]
        },
        {
          "output_type": "stream",
          "name": "stderr",
          "text": [
            "INFO:tensorflow:Assets written to: /content/drive/My Drive/ECE_209_AS_project_data/UCIHARmodels/LSTM_withscale_3/assets\n"
          ]
        },
        {
          "output_type": "stream",
          "name": "stdout",
          "text": [
            "INFO:tensorflow:Assets written to: /content/drive/My Drive/ECE_209_AS_project_data/UCIHARmodels/LSTM_withscale_3/assets\n"
          ]
        },
        {
          "output_type": "stream",
          "name": "stderr",
          "text": [
            "INFO:tensorflow:Assets written to: /content/drive/My Drive/ECE_209_AS_project_data/UCIHARmodels/LSTM_withscale_3/assets\n"
          ]
        },
        {
          "output_type": "stream",
          "name": "stdout",
          "text": [
            "INFO:tensorflow:Assets written to: /content/drive/My Drive/ECE_209_AS_project_data/UCIHARmodels/LSTM_withscale_3/assets\n"
          ]
        },
        {
          "output_type": "stream",
          "name": "stderr",
          "text": [
            "INFO:tensorflow:Assets written to: /content/drive/My Drive/ECE_209_AS_project_data/UCIHARmodels/LSTM_withscale_3/assets\n"
          ]
        },
        {
          "output_type": "stream",
          "name": "stdout",
          "text": [
            "INFO:tensorflow:Assets written to: /content/drive/My Drive/ECE_209_AS_project_data/UCIHARmodels/LSTM_withscale_3/assets\n"
          ]
        },
        {
          "output_type": "stream",
          "name": "stderr",
          "text": [
            "INFO:tensorflow:Assets written to: /content/drive/My Drive/ECE_209_AS_project_data/UCIHARmodels/LSTM_withscale_3/assets\n"
          ]
        },
        {
          "output_type": "stream",
          "name": "stdout",
          "text": [
            "INFO:tensorflow:Assets written to: /content/drive/My Drive/ECE_209_AS_project_data/UCIHARmodels/LSTM_withscale_3/assets\n"
          ]
        },
        {
          "output_type": "stream",
          "name": "stderr",
          "text": [
            "INFO:tensorflow:Assets written to: /content/drive/My Drive/ECE_209_AS_project_data/UCIHARmodels/LSTM_withscale_3/assets\n"
          ]
        },
        {
          "output_type": "stream",
          "name": "stdout",
          "text": [
            "INFO:tensorflow:Assets written to: /content/drive/My Drive/ECE_209_AS_project_data/UCIHARmodels/LSTM_withscale_3/assets\n"
          ]
        },
        {
          "output_type": "stream",
          "name": "stderr",
          "text": [
            "INFO:tensorflow:Assets written to: /content/drive/My Drive/ECE_209_AS_project_data/UCIHARmodels/LSTM_withscale_3/assets\n"
          ]
        },
        {
          "output_type": "stream",
          "name": "stdout",
          "text": [
            "INFO:tensorflow:Assets written to: /content/drive/My Drive/ECE_209_AS_project_data/UCIHARmodels/LSTM_withscale_3/assets\n"
          ]
        },
        {
          "output_type": "stream",
          "name": "stderr",
          "text": [
            "INFO:tensorflow:Assets written to: /content/drive/My Drive/ECE_209_AS_project_data/UCIHARmodels/LSTM_withscale_3/assets\n"
          ]
        },
        {
          "output_type": "stream",
          "name": "stdout",
          "text": [
            "INFO:tensorflow:Assets written to: /content/drive/My Drive/ECE_209_AS_project_data/UCIHARmodels/LSTM_withscale_3/assets\n"
          ]
        },
        {
          "output_type": "stream",
          "name": "stderr",
          "text": [
            "INFO:tensorflow:Assets written to: /content/drive/My Drive/ECE_209_AS_project_data/UCIHARmodels/LSTM_withscale_3/assets\n"
          ]
        },
        {
          "output_type": "stream",
          "name": "stdout",
          "text": [
            "INFO:tensorflow:Assets written to: /content/drive/My Drive/ECE_209_AS_project_data/UCIHARmodels/LSTM_withscale_3/assets\n"
          ]
        },
        {
          "output_type": "stream",
          "name": "stderr",
          "text": [
            "INFO:tensorflow:Assets written to: /content/drive/My Drive/ECE_209_AS_project_data/UCIHARmodels/LSTM_withscale_3/assets\n"
          ]
        },
        {
          "output_type": "stream",
          "name": "stdout",
          "text": [
            "INFO:tensorflow:Assets written to: /content/drive/My Drive/ECE_209_AS_project_data/UCIHARmodels/LSTM_withscale_3/assets\n"
          ]
        },
        {
          "output_type": "stream",
          "name": "stderr",
          "text": [
            "INFO:tensorflow:Assets written to: /content/drive/My Drive/ECE_209_AS_project_data/UCIHARmodels/LSTM_withscale_3/assets\n"
          ]
        },
        {
          "output_type": "stream",
          "name": "stdout",
          "text": [
            "INFO:tensorflow:Assets written to: /content/drive/My Drive/ECE_209_AS_project_data/UCIHARmodels/LSTM_withscale_3/assets\n"
          ]
        },
        {
          "output_type": "stream",
          "name": "stderr",
          "text": [
            "INFO:tensorflow:Assets written to: /content/drive/My Drive/ECE_209_AS_project_data/UCIHARmodels/LSTM_withscale_3/assets\n"
          ]
        },
        {
          "output_type": "stream",
          "name": "stdout",
          "text": [
            "INFO:tensorflow:Assets written to: /content/drive/My Drive/ECE_209_AS_project_data/UCIHARmodels/LSTM_withscale_3/assets\n"
          ]
        },
        {
          "output_type": "stream",
          "name": "stderr",
          "text": [
            "INFO:tensorflow:Assets written to: /content/drive/My Drive/ECE_209_AS_project_data/UCIHARmodels/LSTM_withscale_3/assets\n"
          ]
        },
        {
          "output_type": "stream",
          "name": "stdout",
          "text": [
            "INFO:tensorflow:Assets written to: /content/drive/My Drive/ECE_209_AS_project_data/UCIHARmodels/LSTM_withscale_3/assets\n"
          ]
        },
        {
          "output_type": "stream",
          "name": "stderr",
          "text": [
            "INFO:tensorflow:Assets written to: /content/drive/My Drive/ECE_209_AS_project_data/UCIHARmodels/LSTM_withscale_3/assets\n"
          ]
        },
        {
          "output_type": "stream",
          "name": "stdout",
          "text": [
            "INFO:tensorflow:Assets written to: /content/drive/My Drive/ECE_209_AS_project_data/UCIHARmodels/LSTM_withscale_3/assets\n"
          ]
        },
        {
          "output_type": "stream",
          "name": "stderr",
          "text": [
            "INFO:tensorflow:Assets written to: /content/drive/My Drive/ECE_209_AS_project_data/UCIHARmodels/LSTM_withscale_3/assets\n"
          ]
        },
        {
          "output_type": "stream",
          "name": "stdout",
          "text": [
            "tf.Tensor(0.93722427, shape=(), dtype=float32)\n",
            "INFO:tensorflow:Assets written to: /content/drive/My Drive/ECE_209_AS_project_data/UCIHARmodels/LSTM_withscale_4/assets\n"
          ]
        },
        {
          "output_type": "stream",
          "name": "stderr",
          "text": [
            "INFO:tensorflow:Assets written to: /content/drive/My Drive/ECE_209_AS_project_data/UCIHARmodels/LSTM_withscale_4/assets\n"
          ]
        },
        {
          "output_type": "stream",
          "name": "stdout",
          "text": [
            "INFO:tensorflow:Assets written to: /content/drive/My Drive/ECE_209_AS_project_data/UCIHARmodels/LSTM_withscale_4/assets\n"
          ]
        },
        {
          "output_type": "stream",
          "name": "stderr",
          "text": [
            "INFO:tensorflow:Assets written to: /content/drive/My Drive/ECE_209_AS_project_data/UCIHARmodels/LSTM_withscale_4/assets\n"
          ]
        },
        {
          "output_type": "stream",
          "name": "stdout",
          "text": [
            "INFO:tensorflow:Assets written to: /content/drive/My Drive/ECE_209_AS_project_data/UCIHARmodels/LSTM_withscale_4/assets\n"
          ]
        },
        {
          "output_type": "stream",
          "name": "stderr",
          "text": [
            "INFO:tensorflow:Assets written to: /content/drive/My Drive/ECE_209_AS_project_data/UCIHARmodels/LSTM_withscale_4/assets\n"
          ]
        },
        {
          "output_type": "stream",
          "name": "stdout",
          "text": [
            "INFO:tensorflow:Assets written to: /content/drive/My Drive/ECE_209_AS_project_data/UCIHARmodels/LSTM_withscale_4/assets\n"
          ]
        },
        {
          "output_type": "stream",
          "name": "stderr",
          "text": [
            "INFO:tensorflow:Assets written to: /content/drive/My Drive/ECE_209_AS_project_data/UCIHARmodels/LSTM_withscale_4/assets\n"
          ]
        },
        {
          "output_type": "stream",
          "name": "stdout",
          "text": [
            "INFO:tensorflow:Assets written to: /content/drive/My Drive/ECE_209_AS_project_data/UCIHARmodels/LSTM_withscale_4/assets\n"
          ]
        },
        {
          "output_type": "stream",
          "name": "stderr",
          "text": [
            "INFO:tensorflow:Assets written to: /content/drive/My Drive/ECE_209_AS_project_data/UCIHARmodels/LSTM_withscale_4/assets\n"
          ]
        },
        {
          "output_type": "stream",
          "name": "stdout",
          "text": [
            "INFO:tensorflow:Assets written to: /content/drive/My Drive/ECE_209_AS_project_data/UCIHARmodels/LSTM_withscale_4/assets\n"
          ]
        },
        {
          "output_type": "stream",
          "name": "stderr",
          "text": [
            "INFO:tensorflow:Assets written to: /content/drive/My Drive/ECE_209_AS_project_data/UCIHARmodels/LSTM_withscale_4/assets\n"
          ]
        },
        {
          "output_type": "stream",
          "name": "stdout",
          "text": [
            "INFO:tensorflow:Assets written to: /content/drive/My Drive/ECE_209_AS_project_data/UCIHARmodels/LSTM_withscale_4/assets\n"
          ]
        },
        {
          "output_type": "stream",
          "name": "stderr",
          "text": [
            "INFO:tensorflow:Assets written to: /content/drive/My Drive/ECE_209_AS_project_data/UCIHARmodels/LSTM_withscale_4/assets\n"
          ]
        },
        {
          "output_type": "stream",
          "name": "stdout",
          "text": [
            "INFO:tensorflow:Assets written to: /content/drive/My Drive/ECE_209_AS_project_data/UCIHARmodels/LSTM_withscale_4/assets\n"
          ]
        },
        {
          "output_type": "stream",
          "name": "stderr",
          "text": [
            "INFO:tensorflow:Assets written to: /content/drive/My Drive/ECE_209_AS_project_data/UCIHARmodels/LSTM_withscale_4/assets\n"
          ]
        },
        {
          "output_type": "stream",
          "name": "stdout",
          "text": [
            "INFO:tensorflow:Assets written to: /content/drive/My Drive/ECE_209_AS_project_data/UCIHARmodels/LSTM_withscale_4/assets\n"
          ]
        },
        {
          "output_type": "stream",
          "name": "stderr",
          "text": [
            "INFO:tensorflow:Assets written to: /content/drive/My Drive/ECE_209_AS_project_data/UCIHARmodels/LSTM_withscale_4/assets\n"
          ]
        },
        {
          "output_type": "stream",
          "name": "stdout",
          "text": [
            "INFO:tensorflow:Assets written to: /content/drive/My Drive/ECE_209_AS_project_data/UCIHARmodels/LSTM_withscale_4/assets\n"
          ]
        },
        {
          "output_type": "stream",
          "name": "stderr",
          "text": [
            "INFO:tensorflow:Assets written to: /content/drive/My Drive/ECE_209_AS_project_data/UCIHARmodels/LSTM_withscale_4/assets\n"
          ]
        },
        {
          "output_type": "stream",
          "name": "stdout",
          "text": [
            "INFO:tensorflow:Assets written to: /content/drive/My Drive/ECE_209_AS_project_data/UCIHARmodels/LSTM_withscale_4/assets\n"
          ]
        },
        {
          "output_type": "stream",
          "name": "stderr",
          "text": [
            "INFO:tensorflow:Assets written to: /content/drive/My Drive/ECE_209_AS_project_data/UCIHARmodels/LSTM_withscale_4/assets\n"
          ]
        },
        {
          "output_type": "stream",
          "name": "stdout",
          "text": [
            "INFO:tensorflow:Assets written to: /content/drive/My Drive/ECE_209_AS_project_data/UCIHARmodels/LSTM_withscale_4/assets\n"
          ]
        },
        {
          "output_type": "stream",
          "name": "stderr",
          "text": [
            "INFO:tensorflow:Assets written to: /content/drive/My Drive/ECE_209_AS_project_data/UCIHARmodels/LSTM_withscale_4/assets\n"
          ]
        },
        {
          "output_type": "stream",
          "name": "stdout",
          "text": [
            "INFO:tensorflow:Assets written to: /content/drive/My Drive/ECE_209_AS_project_data/UCIHARmodels/LSTM_withscale_4/assets\n"
          ]
        },
        {
          "output_type": "stream",
          "name": "stderr",
          "text": [
            "INFO:tensorflow:Assets written to: /content/drive/My Drive/ECE_209_AS_project_data/UCIHARmodels/LSTM_withscale_4/assets\n"
          ]
        },
        {
          "output_type": "stream",
          "name": "stdout",
          "text": [
            "INFO:tensorflow:Assets written to: /content/drive/My Drive/ECE_209_AS_project_data/UCIHARmodels/LSTM_withscale_4/assets\n"
          ]
        },
        {
          "output_type": "stream",
          "name": "stderr",
          "text": [
            "INFO:tensorflow:Assets written to: /content/drive/My Drive/ECE_209_AS_project_data/UCIHARmodels/LSTM_withscale_4/assets\n"
          ]
        },
        {
          "output_type": "stream",
          "name": "stdout",
          "text": [
            "INFO:tensorflow:Assets written to: /content/drive/My Drive/ECE_209_AS_project_data/UCIHARmodels/LSTM_withscale_4/assets\n"
          ]
        },
        {
          "output_type": "stream",
          "name": "stderr",
          "text": [
            "INFO:tensorflow:Assets written to: /content/drive/My Drive/ECE_209_AS_project_data/UCIHARmodels/LSTM_withscale_4/assets\n"
          ]
        },
        {
          "output_type": "stream",
          "name": "stdout",
          "text": [
            "INFO:tensorflow:Assets written to: /content/drive/My Drive/ECE_209_AS_project_data/UCIHARmodels/LSTM_withscale_4/assets\n"
          ]
        },
        {
          "output_type": "stream",
          "name": "stderr",
          "text": [
            "INFO:tensorflow:Assets written to: /content/drive/My Drive/ECE_209_AS_project_data/UCIHARmodels/LSTM_withscale_4/assets\n"
          ]
        },
        {
          "output_type": "stream",
          "name": "stdout",
          "text": [
            "INFO:tensorflow:Assets written to: /content/drive/My Drive/ECE_209_AS_project_data/UCIHARmodels/LSTM_withscale_4/assets\n"
          ]
        },
        {
          "output_type": "stream",
          "name": "stderr",
          "text": [
            "INFO:tensorflow:Assets written to: /content/drive/My Drive/ECE_209_AS_project_data/UCIHARmodels/LSTM_withscale_4/assets\n"
          ]
        },
        {
          "output_type": "stream",
          "name": "stdout",
          "text": [
            "INFO:tensorflow:Assets written to: /content/drive/My Drive/ECE_209_AS_project_data/UCIHARmodels/LSTM_withscale_4/assets\n"
          ]
        },
        {
          "output_type": "stream",
          "name": "stderr",
          "text": [
            "INFO:tensorflow:Assets written to: /content/drive/My Drive/ECE_209_AS_project_data/UCIHARmodels/LSTM_withscale_4/assets\n"
          ]
        },
        {
          "output_type": "stream",
          "name": "stdout",
          "text": [
            "INFO:tensorflow:Assets written to: /content/drive/My Drive/ECE_209_AS_project_data/UCIHARmodels/LSTM_withscale_4/assets\n"
          ]
        },
        {
          "output_type": "stream",
          "name": "stderr",
          "text": [
            "INFO:tensorflow:Assets written to: /content/drive/My Drive/ECE_209_AS_project_data/UCIHARmodels/LSTM_withscale_4/assets\n"
          ]
        },
        {
          "output_type": "stream",
          "name": "stdout",
          "text": [
            "INFO:tensorflow:Assets written to: /content/drive/My Drive/ECE_209_AS_project_data/UCIHARmodels/LSTM_withscale_4/assets\n"
          ]
        },
        {
          "output_type": "stream",
          "name": "stderr",
          "text": [
            "INFO:tensorflow:Assets written to: /content/drive/My Drive/ECE_209_AS_project_data/UCIHARmodels/LSTM_withscale_4/assets\n"
          ]
        },
        {
          "output_type": "stream",
          "name": "stdout",
          "text": [
            "INFO:tensorflow:Assets written to: /content/drive/My Drive/ECE_209_AS_project_data/UCIHARmodels/LSTM_withscale_4/assets\n"
          ]
        },
        {
          "output_type": "stream",
          "name": "stderr",
          "text": [
            "INFO:tensorflow:Assets written to: /content/drive/My Drive/ECE_209_AS_project_data/UCIHARmodels/LSTM_withscale_4/assets\n"
          ]
        },
        {
          "output_type": "stream",
          "name": "stdout",
          "text": [
            "INFO:tensorflow:Assets written to: /content/drive/My Drive/ECE_209_AS_project_data/UCIHARmodels/LSTM_withscale_4/assets\n"
          ]
        },
        {
          "output_type": "stream",
          "name": "stderr",
          "text": [
            "INFO:tensorflow:Assets written to: /content/drive/My Drive/ECE_209_AS_project_data/UCIHARmodels/LSTM_withscale_4/assets\n"
          ]
        },
        {
          "output_type": "stream",
          "name": "stdout",
          "text": [
            "INFO:tensorflow:Assets written to: /content/drive/My Drive/ECE_209_AS_project_data/UCIHARmodels/LSTM_withscale_4/assets\n"
          ]
        },
        {
          "output_type": "stream",
          "name": "stderr",
          "text": [
            "INFO:tensorflow:Assets written to: /content/drive/My Drive/ECE_209_AS_project_data/UCIHARmodels/LSTM_withscale_4/assets\n"
          ]
        },
        {
          "output_type": "stream",
          "name": "stdout",
          "text": [
            "INFO:tensorflow:Assets written to: /content/drive/My Drive/ECE_209_AS_project_data/UCIHARmodels/LSTM_withscale_4/assets\n"
          ]
        },
        {
          "output_type": "stream",
          "name": "stderr",
          "text": [
            "INFO:tensorflow:Assets written to: /content/drive/My Drive/ECE_209_AS_project_data/UCIHARmodels/LSTM_withscale_4/assets\n"
          ]
        },
        {
          "output_type": "stream",
          "name": "stdout",
          "text": [
            "INFO:tensorflow:Assets written to: /content/drive/My Drive/ECE_209_AS_project_data/UCIHARmodels/LSTM_withscale_4/assets\n"
          ]
        },
        {
          "output_type": "stream",
          "name": "stderr",
          "text": [
            "INFO:tensorflow:Assets written to: /content/drive/My Drive/ECE_209_AS_project_data/UCIHARmodels/LSTM_withscale_4/assets\n"
          ]
        },
        {
          "output_type": "stream",
          "name": "stdout",
          "text": [
            "tf.Tensor(0.9412962, shape=(), dtype=float32)\n"
          ]
        }
      ]
    },
    {
      "cell_type": "code",
      "source": [
        "sum_ac = 0\n",
        "\n",
        "for ac in test_accuracies_scale:\n",
        "\n",
        "  sum_ac += ac.numpy()\n",
        "\n",
        "print(f\"Mean accuracy is {round(sum_ac/len(test_accuracies_scale), 2)}\")"
      ],
      "metadata": {
        "colab": {
          "base_uri": "https://localhost:8080/"
        },
        "id": "_ehiKcFbQ1Mo",
        "outputId": "2d793f69-cc6e-4418-c1f3-3a3caf1eaafb"
      },
      "id": "_ehiKcFbQ1Mo",
      "execution_count": null,
      "outputs": [
        {
          "output_type": "stream",
          "name": "stdout",
          "text": [
            "Mean accuracy is 0.94\n"
          ]
        }
      ]
    },
    {
      "cell_type": "code",
      "source": [
        "mean_recall_scores_with_scale  = sum(recall_scores_scale)/len(recall_scores_scale)\n",
        "\n",
        "for i in range(len(mean_recall_scores_with_scale)):\n",
        "\n",
        "  print(f\"Label {data_class_names[i]} has mean accuracy {round(mean_recall_scores_with_scale[i], 2)}\")"
      ],
      "metadata": {
        "colab": {
          "base_uri": "https://localhost:8080/"
        },
        "id": "-2iPrKIqQ19f",
        "outputId": "509f2015-9d49-40fc-91d5-74eb0b780097"
      },
      "id": "-2iPrKIqQ19f",
      "execution_count": null,
      "outputs": [
        {
          "output_type": "stream",
          "name": "stdout",
          "text": [
            "Label Walking has mean accuracy 0.96\n",
            "Label Stairs-Up has mean accuracy 0.98\n",
            "Label Stairs-Down has mean accuracy 0.99\n",
            "Label Sitting has mean accuracy 0.82\n",
            "Label Standing has mean accuracy 0.9\n",
            "Label Lying has mean accuracy 1.0\n"
          ]
        }
      ]
    },
    {
      "cell_type": "markdown",
      "source": [
        "### Magnify"
      ],
      "metadata": {
        "id": "S2PimZmNROfy"
      },
      "id": "S2PimZmNROfy"
    },
    {
      "cell_type": "code",
      "source": [
        "test_accuracies_magnify = []\n",
        "recall_scores_magnify = []\n",
        "\n",
        "for i in range(5):\n",
        "\n",
        "  rnd_seed = np.random.randint(1, 100)\n",
        "  seeds.append(rnd_seed)\n",
        "  tf.random.set_seed(rnd_seed)\n",
        "  indices = np.random.RandomState(seed=rnd_seed).permutation(len(X_train))\n",
        "  X_train = X_train[indices]\n",
        "  Y_train = Y_train[indices]\n",
        "\n",
        "  X_train_magnify = magnify((X_train))\n",
        "  Xtrain_tot=np.concatenate((X_train, X_train_magnify))\n",
        "  Y_train_tot = np.concatenate((Y_train, Y_train))\n",
        "\n",
        "  train_data = Xtrain_tot[len(Xtrain_tot)//10:]\n",
        "  train_labels = Y_train_tot[len(Xtrain_tot)//10:]\n",
        "  val_data = Xtrain_tot[:len(Xtrain_tot)//10]\n",
        "  val_labels = Y_train_tot[:len(Xtrain_tot)//10]\n",
        "\n",
        "  model = keras.Model(inputs = inputs, outputs = outputs)\n",
        "  model.compile(loss = \"sparse_categorical_crossentropy\", optimizer = \"adam\", metrics=[\"accuracy\"])\n",
        "  tensorboard = keras.callbacks.TensorBoard(log_dir = path_to_logs)\n",
        "  callbacks = [keras.callbacks.ModelCheckpoint(filepath=path_to_models + f\"LSTM_withmag_{i}\"), tensorboard]\n",
        "  history = model.fit(train_data, train_labels, epochs = 25, batch_size = 64, validation_data = (val_data, val_labels), callbacks = callbacks, class_weight = data_class_weights, verbose = False)\n",
        "\n",
        "  model_saved = keras.models.load_model(path_to_models + f\"LSTM_withmag_{i}\")\n",
        "  test_accuracy = tf.keras.metrics.Accuracy()\n",
        "  logits = model_saved(X_test, training=False)\n",
        "  prediction = tf.argmax(logits, axis=1, output_type=tf.int32)\n",
        "  test_accuracies_magnify.append(test_accuracy(prediction, Y_test))\n",
        "  print(test_accuracy(prediction, Y_test))\n",
        "  recall_scores_magnify.append(recall_score(Y_test, prediction, average=None))"
      ],
      "metadata": {
        "colab": {
          "base_uri": "https://localhost:8080/"
        },
        "id": "xZJiAvacRVQ-",
        "outputId": "c3e7045a-c152-4006-be95-1277a7caee3f"
      },
      "execution_count": null,
      "outputs": [
        {
          "output_type": "stream",
          "name": "stdout",
          "text": [
            "INFO:tensorflow:Assets written to: /content/drive/My Drive/ECE_209_AS_project_data/UCIHARmodels/LSTM_withmag_0/assets\n"
          ]
        },
        {
          "output_type": "stream",
          "name": "stderr",
          "text": [
            "INFO:tensorflow:Assets written to: /content/drive/My Drive/ECE_209_AS_project_data/UCIHARmodels/LSTM_withmag_0/assets\n"
          ]
        },
        {
          "output_type": "stream",
          "name": "stdout",
          "text": [
            "INFO:tensorflow:Assets written to: /content/drive/My Drive/ECE_209_AS_project_data/UCIHARmodels/LSTM_withmag_0/assets\n"
          ]
        },
        {
          "output_type": "stream",
          "name": "stderr",
          "text": [
            "INFO:tensorflow:Assets written to: /content/drive/My Drive/ECE_209_AS_project_data/UCIHARmodels/LSTM_withmag_0/assets\n"
          ]
        },
        {
          "output_type": "stream",
          "name": "stdout",
          "text": [
            "INFO:tensorflow:Assets written to: /content/drive/My Drive/ECE_209_AS_project_data/UCIHARmodels/LSTM_withmag_0/assets\n"
          ]
        },
        {
          "output_type": "stream",
          "name": "stderr",
          "text": [
            "INFO:tensorflow:Assets written to: /content/drive/My Drive/ECE_209_AS_project_data/UCIHARmodels/LSTM_withmag_0/assets\n"
          ]
        },
        {
          "output_type": "stream",
          "name": "stdout",
          "text": [
            "INFO:tensorflow:Assets written to: /content/drive/My Drive/ECE_209_AS_project_data/UCIHARmodels/LSTM_withmag_0/assets\n"
          ]
        },
        {
          "output_type": "stream",
          "name": "stderr",
          "text": [
            "INFO:tensorflow:Assets written to: /content/drive/My Drive/ECE_209_AS_project_data/UCIHARmodels/LSTM_withmag_0/assets\n"
          ]
        },
        {
          "output_type": "stream",
          "name": "stdout",
          "text": [
            "INFO:tensorflow:Assets written to: /content/drive/My Drive/ECE_209_AS_project_data/UCIHARmodels/LSTM_withmag_0/assets\n"
          ]
        },
        {
          "output_type": "stream",
          "name": "stderr",
          "text": [
            "INFO:tensorflow:Assets written to: /content/drive/My Drive/ECE_209_AS_project_data/UCIHARmodels/LSTM_withmag_0/assets\n"
          ]
        },
        {
          "output_type": "stream",
          "name": "stdout",
          "text": [
            "INFO:tensorflow:Assets written to: /content/drive/My Drive/ECE_209_AS_project_data/UCIHARmodels/LSTM_withmag_0/assets\n"
          ]
        },
        {
          "output_type": "stream",
          "name": "stderr",
          "text": [
            "INFO:tensorflow:Assets written to: /content/drive/My Drive/ECE_209_AS_project_data/UCIHARmodels/LSTM_withmag_0/assets\n"
          ]
        },
        {
          "output_type": "stream",
          "name": "stdout",
          "text": [
            "INFO:tensorflow:Assets written to: /content/drive/My Drive/ECE_209_AS_project_data/UCIHARmodels/LSTM_withmag_0/assets\n"
          ]
        },
        {
          "output_type": "stream",
          "name": "stderr",
          "text": [
            "INFO:tensorflow:Assets written to: /content/drive/My Drive/ECE_209_AS_project_data/UCIHARmodels/LSTM_withmag_0/assets\n"
          ]
        },
        {
          "output_type": "stream",
          "name": "stdout",
          "text": [
            "INFO:tensorflow:Assets written to: /content/drive/My Drive/ECE_209_AS_project_data/UCIHARmodels/LSTM_withmag_0/assets\n"
          ]
        },
        {
          "output_type": "stream",
          "name": "stderr",
          "text": [
            "INFO:tensorflow:Assets written to: /content/drive/My Drive/ECE_209_AS_project_data/UCIHARmodels/LSTM_withmag_0/assets\n"
          ]
        },
        {
          "output_type": "stream",
          "name": "stdout",
          "text": [
            "INFO:tensorflow:Assets written to: /content/drive/My Drive/ECE_209_AS_project_data/UCIHARmodels/LSTM_withmag_0/assets\n"
          ]
        },
        {
          "output_type": "stream",
          "name": "stderr",
          "text": [
            "INFO:tensorflow:Assets written to: /content/drive/My Drive/ECE_209_AS_project_data/UCIHARmodels/LSTM_withmag_0/assets\n"
          ]
        },
        {
          "output_type": "stream",
          "name": "stdout",
          "text": [
            "INFO:tensorflow:Assets written to: /content/drive/My Drive/ECE_209_AS_project_data/UCIHARmodels/LSTM_withmag_0/assets\n"
          ]
        },
        {
          "output_type": "stream",
          "name": "stderr",
          "text": [
            "INFO:tensorflow:Assets written to: /content/drive/My Drive/ECE_209_AS_project_data/UCIHARmodels/LSTM_withmag_0/assets\n"
          ]
        },
        {
          "output_type": "stream",
          "name": "stdout",
          "text": [
            "INFO:tensorflow:Assets written to: /content/drive/My Drive/ECE_209_AS_project_data/UCIHARmodels/LSTM_withmag_0/assets\n"
          ]
        },
        {
          "output_type": "stream",
          "name": "stderr",
          "text": [
            "INFO:tensorflow:Assets written to: /content/drive/My Drive/ECE_209_AS_project_data/UCIHARmodels/LSTM_withmag_0/assets\n"
          ]
        },
        {
          "output_type": "stream",
          "name": "stdout",
          "text": [
            "INFO:tensorflow:Assets written to: /content/drive/My Drive/ECE_209_AS_project_data/UCIHARmodels/LSTM_withmag_0/assets\n"
          ]
        },
        {
          "output_type": "stream",
          "name": "stderr",
          "text": [
            "INFO:tensorflow:Assets written to: /content/drive/My Drive/ECE_209_AS_project_data/UCIHARmodels/LSTM_withmag_0/assets\n"
          ]
        },
        {
          "output_type": "stream",
          "name": "stdout",
          "text": [
            "INFO:tensorflow:Assets written to: /content/drive/My Drive/ECE_209_AS_project_data/UCIHARmodels/LSTM_withmag_0/assets\n"
          ]
        },
        {
          "output_type": "stream",
          "name": "stderr",
          "text": [
            "INFO:tensorflow:Assets written to: /content/drive/My Drive/ECE_209_AS_project_data/UCIHARmodels/LSTM_withmag_0/assets\n"
          ]
        },
        {
          "output_type": "stream",
          "name": "stdout",
          "text": [
            "INFO:tensorflow:Assets written to: /content/drive/My Drive/ECE_209_AS_project_data/UCIHARmodels/LSTM_withmag_0/assets\n"
          ]
        },
        {
          "output_type": "stream",
          "name": "stderr",
          "text": [
            "INFO:tensorflow:Assets written to: /content/drive/My Drive/ECE_209_AS_project_data/UCIHARmodels/LSTM_withmag_0/assets\n"
          ]
        },
        {
          "output_type": "stream",
          "name": "stdout",
          "text": [
            "INFO:tensorflow:Assets written to: /content/drive/My Drive/ECE_209_AS_project_data/UCIHARmodels/LSTM_withmag_0/assets\n"
          ]
        },
        {
          "output_type": "stream",
          "name": "stderr",
          "text": [
            "INFO:tensorflow:Assets written to: /content/drive/My Drive/ECE_209_AS_project_data/UCIHARmodels/LSTM_withmag_0/assets\n"
          ]
        },
        {
          "output_type": "stream",
          "name": "stdout",
          "text": [
            "INFO:tensorflow:Assets written to: /content/drive/My Drive/ECE_209_AS_project_data/UCIHARmodels/LSTM_withmag_0/assets\n"
          ]
        },
        {
          "output_type": "stream",
          "name": "stderr",
          "text": [
            "INFO:tensorflow:Assets written to: /content/drive/My Drive/ECE_209_AS_project_data/UCIHARmodels/LSTM_withmag_0/assets\n"
          ]
        },
        {
          "output_type": "stream",
          "name": "stdout",
          "text": [
            "INFO:tensorflow:Assets written to: /content/drive/My Drive/ECE_209_AS_project_data/UCIHARmodels/LSTM_withmag_0/assets\n"
          ]
        },
        {
          "output_type": "stream",
          "name": "stderr",
          "text": [
            "INFO:tensorflow:Assets written to: /content/drive/My Drive/ECE_209_AS_project_data/UCIHARmodels/LSTM_withmag_0/assets\n"
          ]
        },
        {
          "output_type": "stream",
          "name": "stdout",
          "text": [
            "INFO:tensorflow:Assets written to: /content/drive/My Drive/ECE_209_AS_project_data/UCIHARmodels/LSTM_withmag_0/assets\n"
          ]
        },
        {
          "output_type": "stream",
          "name": "stderr",
          "text": [
            "INFO:tensorflow:Assets written to: /content/drive/My Drive/ECE_209_AS_project_data/UCIHARmodels/LSTM_withmag_0/assets\n"
          ]
        },
        {
          "output_type": "stream",
          "name": "stdout",
          "text": [
            "INFO:tensorflow:Assets written to: /content/drive/My Drive/ECE_209_AS_project_data/UCIHARmodels/LSTM_withmag_0/assets\n"
          ]
        },
        {
          "output_type": "stream",
          "name": "stderr",
          "text": [
            "INFO:tensorflow:Assets written to: /content/drive/My Drive/ECE_209_AS_project_data/UCIHARmodels/LSTM_withmag_0/assets\n"
          ]
        },
        {
          "output_type": "stream",
          "name": "stdout",
          "text": [
            "INFO:tensorflow:Assets written to: /content/drive/My Drive/ECE_209_AS_project_data/UCIHARmodels/LSTM_withmag_0/assets\n"
          ]
        },
        {
          "output_type": "stream",
          "name": "stderr",
          "text": [
            "INFO:tensorflow:Assets written to: /content/drive/My Drive/ECE_209_AS_project_data/UCIHARmodels/LSTM_withmag_0/assets\n"
          ]
        },
        {
          "output_type": "stream",
          "name": "stdout",
          "text": [
            "INFO:tensorflow:Assets written to: /content/drive/My Drive/ECE_209_AS_project_data/UCIHARmodels/LSTM_withmag_0/assets\n"
          ]
        },
        {
          "output_type": "stream",
          "name": "stderr",
          "text": [
            "INFO:tensorflow:Assets written to: /content/drive/My Drive/ECE_209_AS_project_data/UCIHARmodels/LSTM_withmag_0/assets\n"
          ]
        },
        {
          "output_type": "stream",
          "name": "stdout",
          "text": [
            "INFO:tensorflow:Assets written to: /content/drive/My Drive/ECE_209_AS_project_data/UCIHARmodels/LSTM_withmag_0/assets\n"
          ]
        },
        {
          "output_type": "stream",
          "name": "stderr",
          "text": [
            "INFO:tensorflow:Assets written to: /content/drive/My Drive/ECE_209_AS_project_data/UCIHARmodels/LSTM_withmag_0/assets\n"
          ]
        },
        {
          "output_type": "stream",
          "name": "stdout",
          "text": [
            "INFO:tensorflow:Assets written to: /content/drive/My Drive/ECE_209_AS_project_data/UCIHARmodels/LSTM_withmag_0/assets\n"
          ]
        },
        {
          "output_type": "stream",
          "name": "stderr",
          "text": [
            "INFO:tensorflow:Assets written to: /content/drive/My Drive/ECE_209_AS_project_data/UCIHARmodels/LSTM_withmag_0/assets\n"
          ]
        },
        {
          "output_type": "stream",
          "name": "stdout",
          "text": [
            "INFO:tensorflow:Assets written to: /content/drive/My Drive/ECE_209_AS_project_data/UCIHARmodels/LSTM_withmag_0/assets\n"
          ]
        },
        {
          "output_type": "stream",
          "name": "stderr",
          "text": [
            "INFO:tensorflow:Assets written to: /content/drive/My Drive/ECE_209_AS_project_data/UCIHARmodels/LSTM_withmag_0/assets\n"
          ]
        },
        {
          "output_type": "stream",
          "name": "stdout",
          "text": [
            "INFO:tensorflow:Assets written to: /content/drive/My Drive/ECE_209_AS_project_data/UCIHARmodels/LSTM_withmag_0/assets\n"
          ]
        },
        {
          "output_type": "stream",
          "name": "stderr",
          "text": [
            "INFO:tensorflow:Assets written to: /content/drive/My Drive/ECE_209_AS_project_data/UCIHARmodels/LSTM_withmag_0/assets\n"
          ]
        },
        {
          "output_type": "stream",
          "name": "stdout",
          "text": [
            "tf.Tensor(0.9477435, shape=(), dtype=float32)\n",
            "INFO:tensorflow:Assets written to: /content/drive/My Drive/ECE_209_AS_project_data/UCIHARmodels/LSTM_withmag_1/assets\n"
          ]
        },
        {
          "output_type": "stream",
          "name": "stderr",
          "text": [
            "INFO:tensorflow:Assets written to: /content/drive/My Drive/ECE_209_AS_project_data/UCIHARmodels/LSTM_withmag_1/assets\n"
          ]
        },
        {
          "output_type": "stream",
          "name": "stdout",
          "text": [
            "INFO:tensorflow:Assets written to: /content/drive/My Drive/ECE_209_AS_project_data/UCIHARmodels/LSTM_withmag_1/assets\n"
          ]
        },
        {
          "output_type": "stream",
          "name": "stderr",
          "text": [
            "INFO:tensorflow:Assets written to: /content/drive/My Drive/ECE_209_AS_project_data/UCIHARmodels/LSTM_withmag_1/assets\n"
          ]
        },
        {
          "output_type": "stream",
          "name": "stdout",
          "text": [
            "INFO:tensorflow:Assets written to: /content/drive/My Drive/ECE_209_AS_project_data/UCIHARmodels/LSTM_withmag_1/assets\n"
          ]
        },
        {
          "output_type": "stream",
          "name": "stderr",
          "text": [
            "INFO:tensorflow:Assets written to: /content/drive/My Drive/ECE_209_AS_project_data/UCIHARmodels/LSTM_withmag_1/assets\n"
          ]
        },
        {
          "output_type": "stream",
          "name": "stdout",
          "text": [
            "INFO:tensorflow:Assets written to: /content/drive/My Drive/ECE_209_AS_project_data/UCIHARmodels/LSTM_withmag_1/assets\n"
          ]
        },
        {
          "output_type": "stream",
          "name": "stderr",
          "text": [
            "INFO:tensorflow:Assets written to: /content/drive/My Drive/ECE_209_AS_project_data/UCIHARmodels/LSTM_withmag_1/assets\n"
          ]
        },
        {
          "output_type": "stream",
          "name": "stdout",
          "text": [
            "INFO:tensorflow:Assets written to: /content/drive/My Drive/ECE_209_AS_project_data/UCIHARmodels/LSTM_withmag_1/assets\n"
          ]
        },
        {
          "output_type": "stream",
          "name": "stderr",
          "text": [
            "INFO:tensorflow:Assets written to: /content/drive/My Drive/ECE_209_AS_project_data/UCIHARmodels/LSTM_withmag_1/assets\n"
          ]
        },
        {
          "output_type": "stream",
          "name": "stdout",
          "text": [
            "INFO:tensorflow:Assets written to: /content/drive/My Drive/ECE_209_AS_project_data/UCIHARmodels/LSTM_withmag_1/assets\n"
          ]
        },
        {
          "output_type": "stream",
          "name": "stderr",
          "text": [
            "INFO:tensorflow:Assets written to: /content/drive/My Drive/ECE_209_AS_project_data/UCIHARmodels/LSTM_withmag_1/assets\n"
          ]
        },
        {
          "output_type": "stream",
          "name": "stdout",
          "text": [
            "INFO:tensorflow:Assets written to: /content/drive/My Drive/ECE_209_AS_project_data/UCIHARmodels/LSTM_withmag_1/assets\n"
          ]
        },
        {
          "output_type": "stream",
          "name": "stderr",
          "text": [
            "INFO:tensorflow:Assets written to: /content/drive/My Drive/ECE_209_AS_project_data/UCIHARmodels/LSTM_withmag_1/assets\n"
          ]
        },
        {
          "output_type": "stream",
          "name": "stdout",
          "text": [
            "INFO:tensorflow:Assets written to: /content/drive/My Drive/ECE_209_AS_project_data/UCIHARmodels/LSTM_withmag_1/assets\n"
          ]
        },
        {
          "output_type": "stream",
          "name": "stderr",
          "text": [
            "INFO:tensorflow:Assets written to: /content/drive/My Drive/ECE_209_AS_project_data/UCIHARmodels/LSTM_withmag_1/assets\n"
          ]
        },
        {
          "output_type": "stream",
          "name": "stdout",
          "text": [
            "INFO:tensorflow:Assets written to: /content/drive/My Drive/ECE_209_AS_project_data/UCIHARmodels/LSTM_withmag_1/assets\n"
          ]
        },
        {
          "output_type": "stream",
          "name": "stderr",
          "text": [
            "INFO:tensorflow:Assets written to: /content/drive/My Drive/ECE_209_AS_project_data/UCIHARmodels/LSTM_withmag_1/assets\n"
          ]
        },
        {
          "output_type": "stream",
          "name": "stdout",
          "text": [
            "INFO:tensorflow:Assets written to: /content/drive/My Drive/ECE_209_AS_project_data/UCIHARmodels/LSTM_withmag_1/assets\n"
          ]
        },
        {
          "output_type": "stream",
          "name": "stderr",
          "text": [
            "INFO:tensorflow:Assets written to: /content/drive/My Drive/ECE_209_AS_project_data/UCIHARmodels/LSTM_withmag_1/assets\n"
          ]
        },
        {
          "output_type": "stream",
          "name": "stdout",
          "text": [
            "INFO:tensorflow:Assets written to: /content/drive/My Drive/ECE_209_AS_project_data/UCIHARmodels/LSTM_withmag_1/assets\n"
          ]
        },
        {
          "output_type": "stream",
          "name": "stderr",
          "text": [
            "INFO:tensorflow:Assets written to: /content/drive/My Drive/ECE_209_AS_project_data/UCIHARmodels/LSTM_withmag_1/assets\n"
          ]
        },
        {
          "output_type": "stream",
          "name": "stdout",
          "text": [
            "INFO:tensorflow:Assets written to: /content/drive/My Drive/ECE_209_AS_project_data/UCIHARmodels/LSTM_withmag_1/assets\n"
          ]
        },
        {
          "output_type": "stream",
          "name": "stderr",
          "text": [
            "INFO:tensorflow:Assets written to: /content/drive/My Drive/ECE_209_AS_project_data/UCIHARmodels/LSTM_withmag_1/assets\n"
          ]
        },
        {
          "output_type": "stream",
          "name": "stdout",
          "text": [
            "INFO:tensorflow:Assets written to: /content/drive/My Drive/ECE_209_AS_project_data/UCIHARmodels/LSTM_withmag_1/assets\n"
          ]
        },
        {
          "output_type": "stream",
          "name": "stderr",
          "text": [
            "INFO:tensorflow:Assets written to: /content/drive/My Drive/ECE_209_AS_project_data/UCIHARmodels/LSTM_withmag_1/assets\n"
          ]
        },
        {
          "output_type": "stream",
          "name": "stdout",
          "text": [
            "INFO:tensorflow:Assets written to: /content/drive/My Drive/ECE_209_AS_project_data/UCIHARmodels/LSTM_withmag_1/assets\n"
          ]
        },
        {
          "output_type": "stream",
          "name": "stderr",
          "text": [
            "INFO:tensorflow:Assets written to: /content/drive/My Drive/ECE_209_AS_project_data/UCIHARmodels/LSTM_withmag_1/assets\n"
          ]
        },
        {
          "output_type": "stream",
          "name": "stdout",
          "text": [
            "INFO:tensorflow:Assets written to: /content/drive/My Drive/ECE_209_AS_project_data/UCIHARmodels/LSTM_withmag_1/assets\n"
          ]
        },
        {
          "output_type": "stream",
          "name": "stderr",
          "text": [
            "INFO:tensorflow:Assets written to: /content/drive/My Drive/ECE_209_AS_project_data/UCIHARmodels/LSTM_withmag_1/assets\n"
          ]
        },
        {
          "output_type": "stream",
          "name": "stdout",
          "text": [
            "INFO:tensorflow:Assets written to: /content/drive/My Drive/ECE_209_AS_project_data/UCIHARmodels/LSTM_withmag_1/assets\n"
          ]
        },
        {
          "output_type": "stream",
          "name": "stderr",
          "text": [
            "INFO:tensorflow:Assets written to: /content/drive/My Drive/ECE_209_AS_project_data/UCIHARmodels/LSTM_withmag_1/assets\n"
          ]
        },
        {
          "output_type": "stream",
          "name": "stdout",
          "text": [
            "INFO:tensorflow:Assets written to: /content/drive/My Drive/ECE_209_AS_project_data/UCIHARmodels/LSTM_withmag_1/assets\n"
          ]
        },
        {
          "output_type": "stream",
          "name": "stderr",
          "text": [
            "INFO:tensorflow:Assets written to: /content/drive/My Drive/ECE_209_AS_project_data/UCIHARmodels/LSTM_withmag_1/assets\n"
          ]
        },
        {
          "output_type": "stream",
          "name": "stdout",
          "text": [
            "INFO:tensorflow:Assets written to: /content/drive/My Drive/ECE_209_AS_project_data/UCIHARmodels/LSTM_withmag_1/assets\n"
          ]
        },
        {
          "output_type": "stream",
          "name": "stderr",
          "text": [
            "INFO:tensorflow:Assets written to: /content/drive/My Drive/ECE_209_AS_project_data/UCIHARmodels/LSTM_withmag_1/assets\n"
          ]
        },
        {
          "output_type": "stream",
          "name": "stdout",
          "text": [
            "INFO:tensorflow:Assets written to: /content/drive/My Drive/ECE_209_AS_project_data/UCIHARmodels/LSTM_withmag_1/assets\n"
          ]
        },
        {
          "output_type": "stream",
          "name": "stderr",
          "text": [
            "INFO:tensorflow:Assets written to: /content/drive/My Drive/ECE_209_AS_project_data/UCIHARmodels/LSTM_withmag_1/assets\n"
          ]
        },
        {
          "output_type": "stream",
          "name": "stdout",
          "text": [
            "INFO:tensorflow:Assets written to: /content/drive/My Drive/ECE_209_AS_project_data/UCIHARmodels/LSTM_withmag_1/assets\n"
          ]
        },
        {
          "output_type": "stream",
          "name": "stderr",
          "text": [
            "INFO:tensorflow:Assets written to: /content/drive/My Drive/ECE_209_AS_project_data/UCIHARmodels/LSTM_withmag_1/assets\n"
          ]
        },
        {
          "output_type": "stream",
          "name": "stdout",
          "text": [
            "INFO:tensorflow:Assets written to: /content/drive/My Drive/ECE_209_AS_project_data/UCIHARmodels/LSTM_withmag_1/assets\n"
          ]
        },
        {
          "output_type": "stream",
          "name": "stderr",
          "text": [
            "INFO:tensorflow:Assets written to: /content/drive/My Drive/ECE_209_AS_project_data/UCIHARmodels/LSTM_withmag_1/assets\n"
          ]
        },
        {
          "output_type": "stream",
          "name": "stdout",
          "text": [
            "INFO:tensorflow:Assets written to: /content/drive/My Drive/ECE_209_AS_project_data/UCIHARmodels/LSTM_withmag_1/assets\n"
          ]
        },
        {
          "output_type": "stream",
          "name": "stderr",
          "text": [
            "INFO:tensorflow:Assets written to: /content/drive/My Drive/ECE_209_AS_project_data/UCIHARmodels/LSTM_withmag_1/assets\n"
          ]
        },
        {
          "output_type": "stream",
          "name": "stdout",
          "text": [
            "INFO:tensorflow:Assets written to: /content/drive/My Drive/ECE_209_AS_project_data/UCIHARmodels/LSTM_withmag_1/assets\n"
          ]
        },
        {
          "output_type": "stream",
          "name": "stderr",
          "text": [
            "INFO:tensorflow:Assets written to: /content/drive/My Drive/ECE_209_AS_project_data/UCIHARmodels/LSTM_withmag_1/assets\n"
          ]
        },
        {
          "output_type": "stream",
          "name": "stdout",
          "text": [
            "INFO:tensorflow:Assets written to: /content/drive/My Drive/ECE_209_AS_project_data/UCIHARmodels/LSTM_withmag_1/assets\n"
          ]
        },
        {
          "output_type": "stream",
          "name": "stderr",
          "text": [
            "INFO:tensorflow:Assets written to: /content/drive/My Drive/ECE_209_AS_project_data/UCIHARmodels/LSTM_withmag_1/assets\n"
          ]
        },
        {
          "output_type": "stream",
          "name": "stdout",
          "text": [
            "INFO:tensorflow:Assets written to: /content/drive/My Drive/ECE_209_AS_project_data/UCIHARmodels/LSTM_withmag_1/assets\n"
          ]
        },
        {
          "output_type": "stream",
          "name": "stderr",
          "text": [
            "INFO:tensorflow:Assets written to: /content/drive/My Drive/ECE_209_AS_project_data/UCIHARmodels/LSTM_withmag_1/assets\n"
          ]
        },
        {
          "output_type": "stream",
          "name": "stdout",
          "text": [
            "tf.Tensor(0.9453682, shape=(), dtype=float32)\n",
            "INFO:tensorflow:Assets written to: /content/drive/My Drive/ECE_209_AS_project_data/UCIHARmodels/LSTM_withmag_2/assets\n"
          ]
        },
        {
          "output_type": "stream",
          "name": "stderr",
          "text": [
            "INFO:tensorflow:Assets written to: /content/drive/My Drive/ECE_209_AS_project_data/UCIHARmodels/LSTM_withmag_2/assets\n"
          ]
        },
        {
          "output_type": "stream",
          "name": "stdout",
          "text": [
            "INFO:tensorflow:Assets written to: /content/drive/My Drive/ECE_209_AS_project_data/UCIHARmodels/LSTM_withmag_2/assets\n"
          ]
        },
        {
          "output_type": "stream",
          "name": "stderr",
          "text": [
            "INFO:tensorflow:Assets written to: /content/drive/My Drive/ECE_209_AS_project_data/UCIHARmodels/LSTM_withmag_2/assets\n"
          ]
        },
        {
          "output_type": "stream",
          "name": "stdout",
          "text": [
            "INFO:tensorflow:Assets written to: /content/drive/My Drive/ECE_209_AS_project_data/UCIHARmodels/LSTM_withmag_2/assets\n"
          ]
        },
        {
          "output_type": "stream",
          "name": "stderr",
          "text": [
            "INFO:tensorflow:Assets written to: /content/drive/My Drive/ECE_209_AS_project_data/UCIHARmodels/LSTM_withmag_2/assets\n"
          ]
        },
        {
          "output_type": "stream",
          "name": "stdout",
          "text": [
            "INFO:tensorflow:Assets written to: /content/drive/My Drive/ECE_209_AS_project_data/UCIHARmodels/LSTM_withmag_2/assets\n"
          ]
        },
        {
          "output_type": "stream",
          "name": "stderr",
          "text": [
            "INFO:tensorflow:Assets written to: /content/drive/My Drive/ECE_209_AS_project_data/UCIHARmodels/LSTM_withmag_2/assets\n"
          ]
        },
        {
          "output_type": "stream",
          "name": "stdout",
          "text": [
            "INFO:tensorflow:Assets written to: /content/drive/My Drive/ECE_209_AS_project_data/UCIHARmodels/LSTM_withmag_2/assets\n"
          ]
        },
        {
          "output_type": "stream",
          "name": "stderr",
          "text": [
            "INFO:tensorflow:Assets written to: /content/drive/My Drive/ECE_209_AS_project_data/UCIHARmodels/LSTM_withmag_2/assets\n"
          ]
        },
        {
          "output_type": "stream",
          "name": "stdout",
          "text": [
            "INFO:tensorflow:Assets written to: /content/drive/My Drive/ECE_209_AS_project_data/UCIHARmodels/LSTM_withmag_2/assets\n"
          ]
        },
        {
          "output_type": "stream",
          "name": "stderr",
          "text": [
            "INFO:tensorflow:Assets written to: /content/drive/My Drive/ECE_209_AS_project_data/UCIHARmodels/LSTM_withmag_2/assets\n"
          ]
        },
        {
          "output_type": "stream",
          "name": "stdout",
          "text": [
            "INFO:tensorflow:Assets written to: /content/drive/My Drive/ECE_209_AS_project_data/UCIHARmodels/LSTM_withmag_2/assets\n"
          ]
        },
        {
          "output_type": "stream",
          "name": "stderr",
          "text": [
            "INFO:tensorflow:Assets written to: /content/drive/My Drive/ECE_209_AS_project_data/UCIHARmodels/LSTM_withmag_2/assets\n"
          ]
        },
        {
          "output_type": "stream",
          "name": "stdout",
          "text": [
            "INFO:tensorflow:Assets written to: /content/drive/My Drive/ECE_209_AS_project_data/UCIHARmodels/LSTM_withmag_2/assets\n"
          ]
        },
        {
          "output_type": "stream",
          "name": "stderr",
          "text": [
            "INFO:tensorflow:Assets written to: /content/drive/My Drive/ECE_209_AS_project_data/UCIHARmodels/LSTM_withmag_2/assets\n"
          ]
        },
        {
          "output_type": "stream",
          "name": "stdout",
          "text": [
            "INFO:tensorflow:Assets written to: /content/drive/My Drive/ECE_209_AS_project_data/UCIHARmodels/LSTM_withmag_2/assets\n"
          ]
        },
        {
          "output_type": "stream",
          "name": "stderr",
          "text": [
            "INFO:tensorflow:Assets written to: /content/drive/My Drive/ECE_209_AS_project_data/UCIHARmodels/LSTM_withmag_2/assets\n"
          ]
        },
        {
          "output_type": "stream",
          "name": "stdout",
          "text": [
            "INFO:tensorflow:Assets written to: /content/drive/My Drive/ECE_209_AS_project_data/UCIHARmodels/LSTM_withmag_2/assets\n"
          ]
        },
        {
          "output_type": "stream",
          "name": "stderr",
          "text": [
            "INFO:tensorflow:Assets written to: /content/drive/My Drive/ECE_209_AS_project_data/UCIHARmodels/LSTM_withmag_2/assets\n"
          ]
        },
        {
          "output_type": "stream",
          "name": "stdout",
          "text": [
            "INFO:tensorflow:Assets written to: /content/drive/My Drive/ECE_209_AS_project_data/UCIHARmodels/LSTM_withmag_2/assets\n"
          ]
        },
        {
          "output_type": "stream",
          "name": "stderr",
          "text": [
            "INFO:tensorflow:Assets written to: /content/drive/My Drive/ECE_209_AS_project_data/UCIHARmodels/LSTM_withmag_2/assets\n"
          ]
        },
        {
          "output_type": "stream",
          "name": "stdout",
          "text": [
            "INFO:tensorflow:Assets written to: /content/drive/My Drive/ECE_209_AS_project_data/UCIHARmodels/LSTM_withmag_2/assets\n"
          ]
        },
        {
          "output_type": "stream",
          "name": "stderr",
          "text": [
            "INFO:tensorflow:Assets written to: /content/drive/My Drive/ECE_209_AS_project_data/UCIHARmodels/LSTM_withmag_2/assets\n"
          ]
        },
        {
          "output_type": "stream",
          "name": "stdout",
          "text": [
            "INFO:tensorflow:Assets written to: /content/drive/My Drive/ECE_209_AS_project_data/UCIHARmodels/LSTM_withmag_2/assets\n"
          ]
        },
        {
          "output_type": "stream",
          "name": "stderr",
          "text": [
            "INFO:tensorflow:Assets written to: /content/drive/My Drive/ECE_209_AS_project_data/UCIHARmodels/LSTM_withmag_2/assets\n"
          ]
        },
        {
          "output_type": "stream",
          "name": "stdout",
          "text": [
            "INFO:tensorflow:Assets written to: /content/drive/My Drive/ECE_209_AS_project_data/UCIHARmodels/LSTM_withmag_2/assets\n"
          ]
        },
        {
          "output_type": "stream",
          "name": "stderr",
          "text": [
            "INFO:tensorflow:Assets written to: /content/drive/My Drive/ECE_209_AS_project_data/UCIHARmodels/LSTM_withmag_2/assets\n"
          ]
        },
        {
          "output_type": "stream",
          "name": "stdout",
          "text": [
            "INFO:tensorflow:Assets written to: /content/drive/My Drive/ECE_209_AS_project_data/UCIHARmodels/LSTM_withmag_2/assets\n"
          ]
        },
        {
          "output_type": "stream",
          "name": "stderr",
          "text": [
            "INFO:tensorflow:Assets written to: /content/drive/My Drive/ECE_209_AS_project_data/UCIHARmodels/LSTM_withmag_2/assets\n"
          ]
        },
        {
          "output_type": "stream",
          "name": "stdout",
          "text": [
            "INFO:tensorflow:Assets written to: /content/drive/My Drive/ECE_209_AS_project_data/UCIHARmodels/LSTM_withmag_2/assets\n"
          ]
        },
        {
          "output_type": "stream",
          "name": "stderr",
          "text": [
            "INFO:tensorflow:Assets written to: /content/drive/My Drive/ECE_209_AS_project_data/UCIHARmodels/LSTM_withmag_2/assets\n"
          ]
        },
        {
          "output_type": "stream",
          "name": "stdout",
          "text": [
            "INFO:tensorflow:Assets written to: /content/drive/My Drive/ECE_209_AS_project_data/UCIHARmodels/LSTM_withmag_2/assets\n"
          ]
        },
        {
          "output_type": "stream",
          "name": "stderr",
          "text": [
            "INFO:tensorflow:Assets written to: /content/drive/My Drive/ECE_209_AS_project_data/UCIHARmodels/LSTM_withmag_2/assets\n"
          ]
        },
        {
          "output_type": "stream",
          "name": "stdout",
          "text": [
            "INFO:tensorflow:Assets written to: /content/drive/My Drive/ECE_209_AS_project_data/UCIHARmodels/LSTM_withmag_2/assets\n"
          ]
        },
        {
          "output_type": "stream",
          "name": "stderr",
          "text": [
            "INFO:tensorflow:Assets written to: /content/drive/My Drive/ECE_209_AS_project_data/UCIHARmodels/LSTM_withmag_2/assets\n"
          ]
        },
        {
          "output_type": "stream",
          "name": "stdout",
          "text": [
            "INFO:tensorflow:Assets written to: /content/drive/My Drive/ECE_209_AS_project_data/UCIHARmodels/LSTM_withmag_2/assets\n"
          ]
        },
        {
          "output_type": "stream",
          "name": "stderr",
          "text": [
            "INFO:tensorflow:Assets written to: /content/drive/My Drive/ECE_209_AS_project_data/UCIHARmodels/LSTM_withmag_2/assets\n"
          ]
        },
        {
          "output_type": "stream",
          "name": "stdout",
          "text": [
            "INFO:tensorflow:Assets written to: /content/drive/My Drive/ECE_209_AS_project_data/UCIHARmodels/LSTM_withmag_2/assets\n"
          ]
        },
        {
          "output_type": "stream",
          "name": "stderr",
          "text": [
            "INFO:tensorflow:Assets written to: /content/drive/My Drive/ECE_209_AS_project_data/UCIHARmodels/LSTM_withmag_2/assets\n"
          ]
        },
        {
          "output_type": "stream",
          "name": "stdout",
          "text": [
            "INFO:tensorflow:Assets written to: /content/drive/My Drive/ECE_209_AS_project_data/UCIHARmodels/LSTM_withmag_2/assets\n"
          ]
        },
        {
          "output_type": "stream",
          "name": "stderr",
          "text": [
            "INFO:tensorflow:Assets written to: /content/drive/My Drive/ECE_209_AS_project_data/UCIHARmodels/LSTM_withmag_2/assets\n"
          ]
        },
        {
          "output_type": "stream",
          "name": "stdout",
          "text": [
            "INFO:tensorflow:Assets written to: /content/drive/My Drive/ECE_209_AS_project_data/UCIHARmodels/LSTM_withmag_2/assets\n"
          ]
        },
        {
          "output_type": "stream",
          "name": "stderr",
          "text": [
            "INFO:tensorflow:Assets written to: /content/drive/My Drive/ECE_209_AS_project_data/UCIHARmodels/LSTM_withmag_2/assets\n"
          ]
        },
        {
          "output_type": "stream",
          "name": "stdout",
          "text": [
            "INFO:tensorflow:Assets written to: /content/drive/My Drive/ECE_209_AS_project_data/UCIHARmodels/LSTM_withmag_2/assets\n"
          ]
        },
        {
          "output_type": "stream",
          "name": "stderr",
          "text": [
            "INFO:tensorflow:Assets written to: /content/drive/My Drive/ECE_209_AS_project_data/UCIHARmodels/LSTM_withmag_2/assets\n"
          ]
        },
        {
          "output_type": "stream",
          "name": "stdout",
          "text": [
            "INFO:tensorflow:Assets written to: /content/drive/My Drive/ECE_209_AS_project_data/UCIHARmodels/LSTM_withmag_2/assets\n"
          ]
        },
        {
          "output_type": "stream",
          "name": "stderr",
          "text": [
            "INFO:tensorflow:Assets written to: /content/drive/My Drive/ECE_209_AS_project_data/UCIHARmodels/LSTM_withmag_2/assets\n"
          ]
        },
        {
          "output_type": "stream",
          "name": "stdout",
          "text": [
            "INFO:tensorflow:Assets written to: /content/drive/My Drive/ECE_209_AS_project_data/UCIHARmodels/LSTM_withmag_2/assets\n"
          ]
        },
        {
          "output_type": "stream",
          "name": "stderr",
          "text": [
            "INFO:tensorflow:Assets written to: /content/drive/My Drive/ECE_209_AS_project_data/UCIHARmodels/LSTM_withmag_2/assets\n"
          ]
        },
        {
          "output_type": "stream",
          "name": "stdout",
          "text": [
            "tf.Tensor(0.9433322, shape=(), dtype=float32)\n",
            "INFO:tensorflow:Assets written to: /content/drive/My Drive/ECE_209_AS_project_data/UCIHARmodels/LSTM_withmag_3/assets\n"
          ]
        },
        {
          "output_type": "stream",
          "name": "stderr",
          "text": [
            "INFO:tensorflow:Assets written to: /content/drive/My Drive/ECE_209_AS_project_data/UCIHARmodels/LSTM_withmag_3/assets\n"
          ]
        },
        {
          "output_type": "stream",
          "name": "stdout",
          "text": [
            "INFO:tensorflow:Assets written to: /content/drive/My Drive/ECE_209_AS_project_data/UCIHARmodels/LSTM_withmag_3/assets\n"
          ]
        },
        {
          "output_type": "stream",
          "name": "stderr",
          "text": [
            "INFO:tensorflow:Assets written to: /content/drive/My Drive/ECE_209_AS_project_data/UCIHARmodels/LSTM_withmag_3/assets\n"
          ]
        },
        {
          "output_type": "stream",
          "name": "stdout",
          "text": [
            "INFO:tensorflow:Assets written to: /content/drive/My Drive/ECE_209_AS_project_data/UCIHARmodels/LSTM_withmag_3/assets\n"
          ]
        },
        {
          "output_type": "stream",
          "name": "stderr",
          "text": [
            "INFO:tensorflow:Assets written to: /content/drive/My Drive/ECE_209_AS_project_data/UCIHARmodels/LSTM_withmag_3/assets\n"
          ]
        },
        {
          "output_type": "stream",
          "name": "stdout",
          "text": [
            "INFO:tensorflow:Assets written to: /content/drive/My Drive/ECE_209_AS_project_data/UCIHARmodels/LSTM_withmag_3/assets\n"
          ]
        },
        {
          "output_type": "stream",
          "name": "stderr",
          "text": [
            "INFO:tensorflow:Assets written to: /content/drive/My Drive/ECE_209_AS_project_data/UCIHARmodels/LSTM_withmag_3/assets\n"
          ]
        },
        {
          "output_type": "stream",
          "name": "stdout",
          "text": [
            "INFO:tensorflow:Assets written to: /content/drive/My Drive/ECE_209_AS_project_data/UCIHARmodels/LSTM_withmag_3/assets\n"
          ]
        },
        {
          "output_type": "stream",
          "name": "stderr",
          "text": [
            "INFO:tensorflow:Assets written to: /content/drive/My Drive/ECE_209_AS_project_data/UCIHARmodels/LSTM_withmag_3/assets\n"
          ]
        },
        {
          "output_type": "stream",
          "name": "stdout",
          "text": [
            "INFO:tensorflow:Assets written to: /content/drive/My Drive/ECE_209_AS_project_data/UCIHARmodels/LSTM_withmag_3/assets\n"
          ]
        },
        {
          "output_type": "stream",
          "name": "stderr",
          "text": [
            "INFO:tensorflow:Assets written to: /content/drive/My Drive/ECE_209_AS_project_data/UCIHARmodels/LSTM_withmag_3/assets\n"
          ]
        },
        {
          "output_type": "stream",
          "name": "stdout",
          "text": [
            "INFO:tensorflow:Assets written to: /content/drive/My Drive/ECE_209_AS_project_data/UCIHARmodels/LSTM_withmag_3/assets\n"
          ]
        },
        {
          "output_type": "stream",
          "name": "stderr",
          "text": [
            "INFO:tensorflow:Assets written to: /content/drive/My Drive/ECE_209_AS_project_data/UCIHARmodels/LSTM_withmag_3/assets\n"
          ]
        },
        {
          "output_type": "stream",
          "name": "stdout",
          "text": [
            "INFO:tensorflow:Assets written to: /content/drive/My Drive/ECE_209_AS_project_data/UCIHARmodels/LSTM_withmag_3/assets\n"
          ]
        },
        {
          "output_type": "stream",
          "name": "stderr",
          "text": [
            "INFO:tensorflow:Assets written to: /content/drive/My Drive/ECE_209_AS_project_data/UCIHARmodels/LSTM_withmag_3/assets\n"
          ]
        },
        {
          "output_type": "stream",
          "name": "stdout",
          "text": [
            "INFO:tensorflow:Assets written to: /content/drive/My Drive/ECE_209_AS_project_data/UCIHARmodels/LSTM_withmag_3/assets\n"
          ]
        },
        {
          "output_type": "stream",
          "name": "stderr",
          "text": [
            "INFO:tensorflow:Assets written to: /content/drive/My Drive/ECE_209_AS_project_data/UCIHARmodels/LSTM_withmag_3/assets\n"
          ]
        },
        {
          "output_type": "stream",
          "name": "stdout",
          "text": [
            "INFO:tensorflow:Assets written to: /content/drive/My Drive/ECE_209_AS_project_data/UCIHARmodels/LSTM_withmag_3/assets\n"
          ]
        },
        {
          "output_type": "stream",
          "name": "stderr",
          "text": [
            "INFO:tensorflow:Assets written to: /content/drive/My Drive/ECE_209_AS_project_data/UCIHARmodels/LSTM_withmag_3/assets\n"
          ]
        },
        {
          "output_type": "stream",
          "name": "stdout",
          "text": [
            "INFO:tensorflow:Assets written to: /content/drive/My Drive/ECE_209_AS_project_data/UCIHARmodels/LSTM_withmag_3/assets\n"
          ]
        },
        {
          "output_type": "stream",
          "name": "stderr",
          "text": [
            "INFO:tensorflow:Assets written to: /content/drive/My Drive/ECE_209_AS_project_data/UCIHARmodels/LSTM_withmag_3/assets\n"
          ]
        },
        {
          "output_type": "stream",
          "name": "stdout",
          "text": [
            "INFO:tensorflow:Assets written to: /content/drive/My Drive/ECE_209_AS_project_data/UCIHARmodels/LSTM_withmag_3/assets\n"
          ]
        },
        {
          "output_type": "stream",
          "name": "stderr",
          "text": [
            "INFO:tensorflow:Assets written to: /content/drive/My Drive/ECE_209_AS_project_data/UCIHARmodels/LSTM_withmag_3/assets\n"
          ]
        },
        {
          "output_type": "stream",
          "name": "stdout",
          "text": [
            "INFO:tensorflow:Assets written to: /content/drive/My Drive/ECE_209_AS_project_data/UCIHARmodels/LSTM_withmag_3/assets\n"
          ]
        },
        {
          "output_type": "stream",
          "name": "stderr",
          "text": [
            "INFO:tensorflow:Assets written to: /content/drive/My Drive/ECE_209_AS_project_data/UCIHARmodels/LSTM_withmag_3/assets\n"
          ]
        },
        {
          "output_type": "stream",
          "name": "stdout",
          "text": [
            "INFO:tensorflow:Assets written to: /content/drive/My Drive/ECE_209_AS_project_data/UCIHARmodels/LSTM_withmag_3/assets\n"
          ]
        },
        {
          "output_type": "stream",
          "name": "stderr",
          "text": [
            "INFO:tensorflow:Assets written to: /content/drive/My Drive/ECE_209_AS_project_data/UCIHARmodels/LSTM_withmag_3/assets\n"
          ]
        },
        {
          "output_type": "stream",
          "name": "stdout",
          "text": [
            "INFO:tensorflow:Assets written to: /content/drive/My Drive/ECE_209_AS_project_data/UCIHARmodels/LSTM_withmag_3/assets\n"
          ]
        },
        {
          "output_type": "stream",
          "name": "stderr",
          "text": [
            "INFO:tensorflow:Assets written to: /content/drive/My Drive/ECE_209_AS_project_data/UCIHARmodels/LSTM_withmag_3/assets\n"
          ]
        },
        {
          "output_type": "stream",
          "name": "stdout",
          "text": [
            "INFO:tensorflow:Assets written to: /content/drive/My Drive/ECE_209_AS_project_data/UCIHARmodels/LSTM_withmag_3/assets\n"
          ]
        },
        {
          "output_type": "stream",
          "name": "stderr",
          "text": [
            "INFO:tensorflow:Assets written to: /content/drive/My Drive/ECE_209_AS_project_data/UCIHARmodels/LSTM_withmag_3/assets\n"
          ]
        },
        {
          "output_type": "stream",
          "name": "stdout",
          "text": [
            "INFO:tensorflow:Assets written to: /content/drive/My Drive/ECE_209_AS_project_data/UCIHARmodels/LSTM_withmag_3/assets\n"
          ]
        },
        {
          "output_type": "stream",
          "name": "stderr",
          "text": [
            "INFO:tensorflow:Assets written to: /content/drive/My Drive/ECE_209_AS_project_data/UCIHARmodels/LSTM_withmag_3/assets\n"
          ]
        },
        {
          "output_type": "stream",
          "name": "stdout",
          "text": [
            "INFO:tensorflow:Assets written to: /content/drive/My Drive/ECE_209_AS_project_data/UCIHARmodels/LSTM_withmag_3/assets\n"
          ]
        },
        {
          "output_type": "stream",
          "name": "stderr",
          "text": [
            "INFO:tensorflow:Assets written to: /content/drive/My Drive/ECE_209_AS_project_data/UCIHARmodels/LSTM_withmag_3/assets\n"
          ]
        },
        {
          "output_type": "stream",
          "name": "stdout",
          "text": [
            "INFO:tensorflow:Assets written to: /content/drive/My Drive/ECE_209_AS_project_data/UCIHARmodels/LSTM_withmag_3/assets\n"
          ]
        },
        {
          "output_type": "stream",
          "name": "stderr",
          "text": [
            "INFO:tensorflow:Assets written to: /content/drive/My Drive/ECE_209_AS_project_data/UCIHARmodels/LSTM_withmag_3/assets\n"
          ]
        },
        {
          "output_type": "stream",
          "name": "stdout",
          "text": [
            "INFO:tensorflow:Assets written to: /content/drive/My Drive/ECE_209_AS_project_data/UCIHARmodels/LSTM_withmag_3/assets\n"
          ]
        },
        {
          "output_type": "stream",
          "name": "stderr",
          "text": [
            "INFO:tensorflow:Assets written to: /content/drive/My Drive/ECE_209_AS_project_data/UCIHARmodels/LSTM_withmag_3/assets\n"
          ]
        },
        {
          "output_type": "stream",
          "name": "stdout",
          "text": [
            "INFO:tensorflow:Assets written to: /content/drive/My Drive/ECE_209_AS_project_data/UCIHARmodels/LSTM_withmag_3/assets\n"
          ]
        },
        {
          "output_type": "stream",
          "name": "stderr",
          "text": [
            "INFO:tensorflow:Assets written to: /content/drive/My Drive/ECE_209_AS_project_data/UCIHARmodels/LSTM_withmag_3/assets\n"
          ]
        },
        {
          "output_type": "stream",
          "name": "stdout",
          "text": [
            "INFO:tensorflow:Assets written to: /content/drive/My Drive/ECE_209_AS_project_data/UCIHARmodels/LSTM_withmag_3/assets\n"
          ]
        },
        {
          "output_type": "stream",
          "name": "stderr",
          "text": [
            "INFO:tensorflow:Assets written to: /content/drive/My Drive/ECE_209_AS_project_data/UCIHARmodels/LSTM_withmag_3/assets\n"
          ]
        },
        {
          "output_type": "stream",
          "name": "stdout",
          "text": [
            "INFO:tensorflow:Assets written to: /content/drive/My Drive/ECE_209_AS_project_data/UCIHARmodels/LSTM_withmag_3/assets\n"
          ]
        },
        {
          "output_type": "stream",
          "name": "stderr",
          "text": [
            "INFO:tensorflow:Assets written to: /content/drive/My Drive/ECE_209_AS_project_data/UCIHARmodels/LSTM_withmag_3/assets\n"
          ]
        },
        {
          "output_type": "stream",
          "name": "stdout",
          "text": [
            "INFO:tensorflow:Assets written to: /content/drive/My Drive/ECE_209_AS_project_data/UCIHARmodels/LSTM_withmag_3/assets\n"
          ]
        },
        {
          "output_type": "stream",
          "name": "stderr",
          "text": [
            "INFO:tensorflow:Assets written to: /content/drive/My Drive/ECE_209_AS_project_data/UCIHARmodels/LSTM_withmag_3/assets\n"
          ]
        },
        {
          "output_type": "stream",
          "name": "stdout",
          "text": [
            "INFO:tensorflow:Assets written to: /content/drive/My Drive/ECE_209_AS_project_data/UCIHARmodels/LSTM_withmag_3/assets\n"
          ]
        },
        {
          "output_type": "stream",
          "name": "stderr",
          "text": [
            "INFO:tensorflow:Assets written to: /content/drive/My Drive/ECE_209_AS_project_data/UCIHARmodels/LSTM_withmag_3/assets\n"
          ]
        },
        {
          "output_type": "stream",
          "name": "stdout",
          "text": [
            "tf.Tensor(0.956566, shape=(), dtype=float32)\n",
            "INFO:tensorflow:Assets written to: /content/drive/My Drive/ECE_209_AS_project_data/UCIHARmodels/LSTM_withmag_4/assets\n"
          ]
        },
        {
          "output_type": "stream",
          "name": "stderr",
          "text": [
            "INFO:tensorflow:Assets written to: /content/drive/My Drive/ECE_209_AS_project_data/UCIHARmodels/LSTM_withmag_4/assets\n"
          ]
        },
        {
          "output_type": "stream",
          "name": "stdout",
          "text": [
            "INFO:tensorflow:Assets written to: /content/drive/My Drive/ECE_209_AS_project_data/UCIHARmodels/LSTM_withmag_4/assets\n"
          ]
        },
        {
          "output_type": "stream",
          "name": "stderr",
          "text": [
            "INFO:tensorflow:Assets written to: /content/drive/My Drive/ECE_209_AS_project_data/UCIHARmodels/LSTM_withmag_4/assets\n"
          ]
        },
        {
          "output_type": "stream",
          "name": "stdout",
          "text": [
            "INFO:tensorflow:Assets written to: /content/drive/My Drive/ECE_209_AS_project_data/UCIHARmodels/LSTM_withmag_4/assets\n"
          ]
        },
        {
          "output_type": "stream",
          "name": "stderr",
          "text": [
            "INFO:tensorflow:Assets written to: /content/drive/My Drive/ECE_209_AS_project_data/UCIHARmodels/LSTM_withmag_4/assets\n"
          ]
        },
        {
          "output_type": "stream",
          "name": "stdout",
          "text": [
            "INFO:tensorflow:Assets written to: /content/drive/My Drive/ECE_209_AS_project_data/UCIHARmodels/LSTM_withmag_4/assets\n"
          ]
        },
        {
          "output_type": "stream",
          "name": "stderr",
          "text": [
            "INFO:tensorflow:Assets written to: /content/drive/My Drive/ECE_209_AS_project_data/UCIHARmodels/LSTM_withmag_4/assets\n"
          ]
        },
        {
          "output_type": "stream",
          "name": "stdout",
          "text": [
            "INFO:tensorflow:Assets written to: /content/drive/My Drive/ECE_209_AS_project_data/UCIHARmodels/LSTM_withmag_4/assets\n"
          ]
        },
        {
          "output_type": "stream",
          "name": "stderr",
          "text": [
            "INFO:tensorflow:Assets written to: /content/drive/My Drive/ECE_209_AS_project_data/UCIHARmodels/LSTM_withmag_4/assets\n"
          ]
        },
        {
          "output_type": "stream",
          "name": "stdout",
          "text": [
            "INFO:tensorflow:Assets written to: /content/drive/My Drive/ECE_209_AS_project_data/UCIHARmodels/LSTM_withmag_4/assets\n"
          ]
        },
        {
          "output_type": "stream",
          "name": "stderr",
          "text": [
            "INFO:tensorflow:Assets written to: /content/drive/My Drive/ECE_209_AS_project_data/UCIHARmodels/LSTM_withmag_4/assets\n"
          ]
        },
        {
          "output_type": "stream",
          "name": "stdout",
          "text": [
            "INFO:tensorflow:Assets written to: /content/drive/My Drive/ECE_209_AS_project_data/UCIHARmodels/LSTM_withmag_4/assets\n"
          ]
        },
        {
          "output_type": "stream",
          "name": "stderr",
          "text": [
            "INFO:tensorflow:Assets written to: /content/drive/My Drive/ECE_209_AS_project_data/UCIHARmodels/LSTM_withmag_4/assets\n"
          ]
        },
        {
          "output_type": "stream",
          "name": "stdout",
          "text": [
            "INFO:tensorflow:Assets written to: /content/drive/My Drive/ECE_209_AS_project_data/UCIHARmodels/LSTM_withmag_4/assets\n"
          ]
        },
        {
          "output_type": "stream",
          "name": "stderr",
          "text": [
            "INFO:tensorflow:Assets written to: /content/drive/My Drive/ECE_209_AS_project_data/UCIHARmodels/LSTM_withmag_4/assets\n"
          ]
        },
        {
          "output_type": "stream",
          "name": "stdout",
          "text": [
            "INFO:tensorflow:Assets written to: /content/drive/My Drive/ECE_209_AS_project_data/UCIHARmodels/LSTM_withmag_4/assets\n"
          ]
        },
        {
          "output_type": "stream",
          "name": "stderr",
          "text": [
            "INFO:tensorflow:Assets written to: /content/drive/My Drive/ECE_209_AS_project_data/UCIHARmodels/LSTM_withmag_4/assets\n"
          ]
        },
        {
          "output_type": "stream",
          "name": "stdout",
          "text": [
            "INFO:tensorflow:Assets written to: /content/drive/My Drive/ECE_209_AS_project_data/UCIHARmodels/LSTM_withmag_4/assets\n"
          ]
        },
        {
          "output_type": "stream",
          "name": "stderr",
          "text": [
            "INFO:tensorflow:Assets written to: /content/drive/My Drive/ECE_209_AS_project_data/UCIHARmodels/LSTM_withmag_4/assets\n"
          ]
        },
        {
          "output_type": "stream",
          "name": "stdout",
          "text": [
            "INFO:tensorflow:Assets written to: /content/drive/My Drive/ECE_209_AS_project_data/UCIHARmodels/LSTM_withmag_4/assets\n"
          ]
        },
        {
          "output_type": "stream",
          "name": "stderr",
          "text": [
            "INFO:tensorflow:Assets written to: /content/drive/My Drive/ECE_209_AS_project_data/UCIHARmodels/LSTM_withmag_4/assets\n"
          ]
        },
        {
          "output_type": "stream",
          "name": "stdout",
          "text": [
            "INFO:tensorflow:Assets written to: /content/drive/My Drive/ECE_209_AS_project_data/UCIHARmodels/LSTM_withmag_4/assets\n"
          ]
        },
        {
          "output_type": "stream",
          "name": "stderr",
          "text": [
            "INFO:tensorflow:Assets written to: /content/drive/My Drive/ECE_209_AS_project_data/UCIHARmodels/LSTM_withmag_4/assets\n"
          ]
        },
        {
          "output_type": "stream",
          "name": "stdout",
          "text": [
            "INFO:tensorflow:Assets written to: /content/drive/My Drive/ECE_209_AS_project_data/UCIHARmodels/LSTM_withmag_4/assets\n"
          ]
        },
        {
          "output_type": "stream",
          "name": "stderr",
          "text": [
            "INFO:tensorflow:Assets written to: /content/drive/My Drive/ECE_209_AS_project_data/UCIHARmodels/LSTM_withmag_4/assets\n"
          ]
        },
        {
          "output_type": "stream",
          "name": "stdout",
          "text": [
            "INFO:tensorflow:Assets written to: /content/drive/My Drive/ECE_209_AS_project_data/UCIHARmodels/LSTM_withmag_4/assets\n"
          ]
        },
        {
          "output_type": "stream",
          "name": "stderr",
          "text": [
            "INFO:tensorflow:Assets written to: /content/drive/My Drive/ECE_209_AS_project_data/UCIHARmodels/LSTM_withmag_4/assets\n"
          ]
        },
        {
          "output_type": "stream",
          "name": "stdout",
          "text": [
            "INFO:tensorflow:Assets written to: /content/drive/My Drive/ECE_209_AS_project_data/UCIHARmodels/LSTM_withmag_4/assets\n"
          ]
        },
        {
          "output_type": "stream",
          "name": "stderr",
          "text": [
            "INFO:tensorflow:Assets written to: /content/drive/My Drive/ECE_209_AS_project_data/UCIHARmodels/LSTM_withmag_4/assets\n"
          ]
        },
        {
          "output_type": "stream",
          "name": "stdout",
          "text": [
            "INFO:tensorflow:Assets written to: /content/drive/My Drive/ECE_209_AS_project_data/UCIHARmodels/LSTM_withmag_4/assets\n"
          ]
        },
        {
          "output_type": "stream",
          "name": "stderr",
          "text": [
            "INFO:tensorflow:Assets written to: /content/drive/My Drive/ECE_209_AS_project_data/UCIHARmodels/LSTM_withmag_4/assets\n"
          ]
        },
        {
          "output_type": "stream",
          "name": "stdout",
          "text": [
            "INFO:tensorflow:Assets written to: /content/drive/My Drive/ECE_209_AS_project_data/UCIHARmodels/LSTM_withmag_4/assets\n"
          ]
        },
        {
          "output_type": "stream",
          "name": "stderr",
          "text": [
            "INFO:tensorflow:Assets written to: /content/drive/My Drive/ECE_209_AS_project_data/UCIHARmodels/LSTM_withmag_4/assets\n"
          ]
        },
        {
          "output_type": "stream",
          "name": "stdout",
          "text": [
            "INFO:tensorflow:Assets written to: /content/drive/My Drive/ECE_209_AS_project_data/UCIHARmodels/LSTM_withmag_4/assets\n"
          ]
        },
        {
          "output_type": "stream",
          "name": "stderr",
          "text": [
            "INFO:tensorflow:Assets written to: /content/drive/My Drive/ECE_209_AS_project_data/UCIHARmodels/LSTM_withmag_4/assets\n"
          ]
        },
        {
          "output_type": "stream",
          "name": "stdout",
          "text": [
            "INFO:tensorflow:Assets written to: /content/drive/My Drive/ECE_209_AS_project_data/UCIHARmodels/LSTM_withmag_4/assets\n"
          ]
        },
        {
          "output_type": "stream",
          "name": "stderr",
          "text": [
            "INFO:tensorflow:Assets written to: /content/drive/My Drive/ECE_209_AS_project_data/UCIHARmodels/LSTM_withmag_4/assets\n"
          ]
        },
        {
          "output_type": "stream",
          "name": "stdout",
          "text": [
            "INFO:tensorflow:Assets written to: /content/drive/My Drive/ECE_209_AS_project_data/UCIHARmodels/LSTM_withmag_4/assets\n"
          ]
        },
        {
          "output_type": "stream",
          "name": "stderr",
          "text": [
            "INFO:tensorflow:Assets written to: /content/drive/My Drive/ECE_209_AS_project_data/UCIHARmodels/LSTM_withmag_4/assets\n"
          ]
        },
        {
          "output_type": "stream",
          "name": "stdout",
          "text": [
            "INFO:tensorflow:Assets written to: /content/drive/My Drive/ECE_209_AS_project_data/UCIHARmodels/LSTM_withmag_4/assets\n"
          ]
        },
        {
          "output_type": "stream",
          "name": "stderr",
          "text": [
            "INFO:tensorflow:Assets written to: /content/drive/My Drive/ECE_209_AS_project_data/UCIHARmodels/LSTM_withmag_4/assets\n"
          ]
        },
        {
          "output_type": "stream",
          "name": "stdout",
          "text": [
            "INFO:tensorflow:Assets written to: /content/drive/My Drive/ECE_209_AS_project_data/UCIHARmodels/LSTM_withmag_4/assets\n"
          ]
        },
        {
          "output_type": "stream",
          "name": "stderr",
          "text": [
            "INFO:tensorflow:Assets written to: /content/drive/My Drive/ECE_209_AS_project_data/UCIHARmodels/LSTM_withmag_4/assets\n"
          ]
        },
        {
          "output_type": "stream",
          "name": "stdout",
          "text": [
            "INFO:tensorflow:Assets written to: /content/drive/My Drive/ECE_209_AS_project_data/UCIHARmodels/LSTM_withmag_4/assets\n"
          ]
        },
        {
          "output_type": "stream",
          "name": "stderr",
          "text": [
            "INFO:tensorflow:Assets written to: /content/drive/My Drive/ECE_209_AS_project_data/UCIHARmodels/LSTM_withmag_4/assets\n"
          ]
        },
        {
          "output_type": "stream",
          "name": "stdout",
          "text": [
            "INFO:tensorflow:Assets written to: /content/drive/My Drive/ECE_209_AS_project_data/UCIHARmodels/LSTM_withmag_4/assets\n"
          ]
        },
        {
          "output_type": "stream",
          "name": "stderr",
          "text": [
            "INFO:tensorflow:Assets written to: /content/drive/My Drive/ECE_209_AS_project_data/UCIHARmodels/LSTM_withmag_4/assets\n"
          ]
        },
        {
          "output_type": "stream",
          "name": "stdout",
          "text": [
            "INFO:tensorflow:Assets written to: /content/drive/My Drive/ECE_209_AS_project_data/UCIHARmodels/LSTM_withmag_4/assets\n"
          ]
        },
        {
          "output_type": "stream",
          "name": "stderr",
          "text": [
            "INFO:tensorflow:Assets written to: /content/drive/My Drive/ECE_209_AS_project_data/UCIHARmodels/LSTM_withmag_4/assets\n"
          ]
        },
        {
          "output_type": "stream",
          "name": "stdout",
          "text": [
            "tf.Tensor(0.94876146, shape=(), dtype=float32)\n"
          ]
        }
      ],
      "id": "xZJiAvacRVQ-"
    },
    {
      "cell_type": "code",
      "source": [
        "test_accuracies_magnify = []\n",
        "recall_scores_magnify = []"
      ],
      "metadata": {
        "id": "s_j65eS01nlc"
      },
      "id": "s_j65eS01nlc",
      "execution_count": null,
      "outputs": []
    },
    {
      "cell_type": "code",
      "source": [
        "for i in range(5):\n",
        "  \n",
        "  model_saved = keras.models.load_model(path_to_models + f\"LSTM_withmag_{i}\")\n",
        "  test_accuracy = tf.keras.metrics.Accuracy()\n",
        "  logits = model_saved(X_test, training=False)\n",
        "  prediction = tf.argmax(logits, axis=1, output_type=tf.int32)\n",
        "  test_accuracies_magnify.append(test_accuracy(prediction, Y_test))\n",
        "  print(test_accuracy(prediction, Y_test))\n",
        "  recall_scores_magnify.append(recall_score(Y_test, prediction, average=None))"
      ],
      "metadata": {
        "colab": {
          "base_uri": "https://localhost:8080/"
        },
        "id": "RsOPH_V11elA",
        "outputId": "a6a50e85-b289-4636-eca9-610faa5a5b1a"
      },
      "id": "RsOPH_V11elA",
      "execution_count": null,
      "outputs": [
        {
          "output_type": "stream",
          "name": "stdout",
          "text": [
            "tf.Tensor(0.9477435, shape=(), dtype=float32)\n",
            "tf.Tensor(0.9453682, shape=(), dtype=float32)\n",
            "tf.Tensor(0.9433322, shape=(), dtype=float32)\n",
            "tf.Tensor(0.956566, shape=(), dtype=float32)\n",
            "tf.Tensor(0.94876146, shape=(), dtype=float32)\n"
          ]
        }
      ]
    },
    {
      "cell_type": "code",
      "source": [
        "sum_ac = 0\n",
        "\n",
        "for ac in test_accuracies_magnify:\n",
        "\n",
        "  sum_ac += ac.numpy()\n",
        "\n",
        "print(f\"Mean accuracy is {round(sum_ac/len(test_accuracies_magnify), 2)}\")"
      ],
      "metadata": {
        "colab": {
          "base_uri": "https://localhost:8080/"
        },
        "id": "oXDDhocqRVQ_",
        "outputId": "812b2e98-21c7-47a5-efa3-0b3e19daf752"
      },
      "execution_count": null,
      "outputs": [
        {
          "output_type": "stream",
          "name": "stdout",
          "text": [
            "Mean accuracy is 0.95\n"
          ]
        }
      ],
      "id": "oXDDhocqRVQ_"
    },
    {
      "cell_type": "code",
      "source": [
        "mean_recall_scores_with_magnify  = sum(recall_scores_magnify)/len(recall_scores_magnify)\n",
        "\n",
        "for i in range(len(mean_recall_scores_with_magnify)):\n",
        "\n",
        "  print(f\"Label {data_class_names[i]} has mean accuracy {round(mean_recall_scores_with_magnify[i], 2)}\")"
      ],
      "metadata": {
        "colab": {
          "base_uri": "https://localhost:8080/"
        },
        "id": "YboKSuXaRVQ_",
        "outputId": "6d2a1ec0-242a-4329-f2a5-6415909580c8"
      },
      "execution_count": null,
      "outputs": [
        {
          "output_type": "stream",
          "name": "stdout",
          "text": [
            "Label Walking has mean accuracy 0.97\n",
            "Label Stairs-Up has mean accuracy 0.98\n",
            "Label Stairs-Down has mean accuracy 0.99\n",
            "Label Sitting has mean accuracy 0.81\n",
            "Label Standing has mean accuracy 0.94\n",
            "Label Lying has mean accuracy 1.0\n"
          ]
        }
      ],
      "id": "YboKSuXaRVQ_"
    },
    {
      "cell_type": "markdown",
      "source": [
        "### Resampling"
      ],
      "metadata": {
        "id": "xKBbjqYzXgDi"
      },
      "id": "xKBbjqYzXgDi"
    },
    {
      "cell_type": "code",
      "source": [
        "from sklearn.metrics import recall_score"
      ],
      "metadata": {
        "id": "pvALe8Emcwmb"
      },
      "id": "pvALe8Emcwmb",
      "execution_count": null,
      "outputs": []
    },
    {
      "cell_type": "code",
      "source": [
        "test_accuracies_resampling = []\n",
        "recall_scores_resampling = []\n",
        "\n",
        "for i in range(5):\n",
        "\n",
        "  rnd_seed = np.random.randint(1, 100)\n",
        "  seeds.append(rnd_seed)\n",
        "  tf.random.set_seed(rnd_seed)\n",
        "  indices = np.random.RandomState(seed=rnd_seed).permutation(len(X_train))\n",
        "  X_train = X_train[indices]\n",
        "  Y_train = Y_train[indices]\n",
        "\n",
        "  X_train_resample = resampling((X_train), 1, 0)\n",
        "  Xtrain_tot=np.concatenate((X_train, X_train_resample))\n",
        "  Y_train_tot = np.concatenate((Y_train, Y_train))\n",
        "\n",
        "  train_data = Xtrain_tot[len(Xtrain_tot)//10:]\n",
        "  train_labels = Y_train_tot[len(Xtrain_tot)//10:]\n",
        "  val_data = Xtrain_tot[:len(Xtrain_tot)//10]\n",
        "  val_labels = Y_train_tot[:len(Xtrain_tot)//10]\n",
        "\n",
        "  model = keras.Model(inputs = inputs, outputs = outputs)\n",
        "  model.compile(loss = \"sparse_categorical_crossentropy\", optimizer = \"adam\", metrics=[\"accuracy\"])\n",
        "  tensorboard = keras.callbacks.TensorBoard(log_dir = path_to_logs)\n",
        "  callbacks = [keras.callbacks.ModelCheckpoint(filepath=path_to_models + f\"LSTM_withresampling_{i}\"), tensorboard]\n",
        "  history = model.fit(train_data, train_labels, epochs = 25, batch_size = 64, validation_data = (val_data, val_labels), callbacks = callbacks, class_weight = data_class_weights, verbose = False)\n",
        "\n",
        "  model_saved = keras.models.load_model(path_to_models + f\"LSTM_withresampling_{i}\")\n",
        "  test_accuracy = tf.keras.metrics.Accuracy()\n",
        "  logits = model_saved(X_test, training=False)\n",
        "  prediction = tf.argmax(logits, axis=1, output_type=tf.int32)\n",
        "  test_accuracies_resampling.append(test_accuracy(prediction, Y_test))\n",
        "  print(test_accuracy(prediction, Y_test))\n",
        "  recall_scores_resampling.append(recall_score(Y_test, prediction, average=None))"
      ],
      "metadata": {
        "colab": {
          "base_uri": "https://localhost:8080/"
        },
        "outputId": "840e4f73-7b4b-40d1-c41d-3ca7f6ce82cb",
        "id": "UUtilrEyXgDj"
      },
      "execution_count": null,
      "outputs": [
        {
          "output_type": "stream",
          "name": "stdout",
          "text": [
            "INFO:tensorflow:Assets written to: /content/drive/My Drive/ECE_209_AS_project_data/UCIHARmodels/LSTM_withresampling_0/assets\n"
          ]
        },
        {
          "output_type": "stream",
          "name": "stderr",
          "text": [
            "INFO:tensorflow:Assets written to: /content/drive/My Drive/ECE_209_AS_project_data/UCIHARmodels/LSTM_withresampling_0/assets\n"
          ]
        },
        {
          "output_type": "stream",
          "name": "stdout",
          "text": [
            "INFO:tensorflow:Assets written to: /content/drive/My Drive/ECE_209_AS_project_data/UCIHARmodels/LSTM_withresampling_0/assets\n"
          ]
        },
        {
          "output_type": "stream",
          "name": "stderr",
          "text": [
            "INFO:tensorflow:Assets written to: /content/drive/My Drive/ECE_209_AS_project_data/UCIHARmodels/LSTM_withresampling_0/assets\n"
          ]
        },
        {
          "output_type": "stream",
          "name": "stdout",
          "text": [
            "INFO:tensorflow:Assets written to: /content/drive/My Drive/ECE_209_AS_project_data/UCIHARmodels/LSTM_withresampling_0/assets\n"
          ]
        },
        {
          "output_type": "stream",
          "name": "stderr",
          "text": [
            "INFO:tensorflow:Assets written to: /content/drive/My Drive/ECE_209_AS_project_data/UCIHARmodels/LSTM_withresampling_0/assets\n"
          ]
        },
        {
          "output_type": "stream",
          "name": "stdout",
          "text": [
            "INFO:tensorflow:Assets written to: /content/drive/My Drive/ECE_209_AS_project_data/UCIHARmodels/LSTM_withresampling_0/assets\n"
          ]
        },
        {
          "output_type": "stream",
          "name": "stderr",
          "text": [
            "INFO:tensorflow:Assets written to: /content/drive/My Drive/ECE_209_AS_project_data/UCIHARmodels/LSTM_withresampling_0/assets\n"
          ]
        },
        {
          "output_type": "stream",
          "name": "stdout",
          "text": [
            "INFO:tensorflow:Assets written to: /content/drive/My Drive/ECE_209_AS_project_data/UCIHARmodels/LSTM_withresampling_0/assets\n"
          ]
        },
        {
          "output_type": "stream",
          "name": "stderr",
          "text": [
            "INFO:tensorflow:Assets written to: /content/drive/My Drive/ECE_209_AS_project_data/UCIHARmodels/LSTM_withresampling_0/assets\n"
          ]
        },
        {
          "output_type": "stream",
          "name": "stdout",
          "text": [
            "INFO:tensorflow:Assets written to: /content/drive/My Drive/ECE_209_AS_project_data/UCIHARmodels/LSTM_withresampling_0/assets\n"
          ]
        },
        {
          "output_type": "stream",
          "name": "stderr",
          "text": [
            "INFO:tensorflow:Assets written to: /content/drive/My Drive/ECE_209_AS_project_data/UCIHARmodels/LSTM_withresampling_0/assets\n"
          ]
        },
        {
          "output_type": "stream",
          "name": "stdout",
          "text": [
            "INFO:tensorflow:Assets written to: /content/drive/My Drive/ECE_209_AS_project_data/UCIHARmodels/LSTM_withresampling_0/assets\n"
          ]
        },
        {
          "output_type": "stream",
          "name": "stderr",
          "text": [
            "INFO:tensorflow:Assets written to: /content/drive/My Drive/ECE_209_AS_project_data/UCIHARmodels/LSTM_withresampling_0/assets\n"
          ]
        },
        {
          "output_type": "stream",
          "name": "stdout",
          "text": [
            "INFO:tensorflow:Assets written to: /content/drive/My Drive/ECE_209_AS_project_data/UCIHARmodels/LSTM_withresampling_0/assets\n"
          ]
        },
        {
          "output_type": "stream",
          "name": "stderr",
          "text": [
            "INFO:tensorflow:Assets written to: /content/drive/My Drive/ECE_209_AS_project_data/UCIHARmodels/LSTM_withresampling_0/assets\n"
          ]
        },
        {
          "output_type": "stream",
          "name": "stdout",
          "text": [
            "INFO:tensorflow:Assets written to: /content/drive/My Drive/ECE_209_AS_project_data/UCIHARmodels/LSTM_withresampling_0/assets\n"
          ]
        },
        {
          "output_type": "stream",
          "name": "stderr",
          "text": [
            "INFO:tensorflow:Assets written to: /content/drive/My Drive/ECE_209_AS_project_data/UCIHARmodels/LSTM_withresampling_0/assets\n"
          ]
        },
        {
          "output_type": "stream",
          "name": "stdout",
          "text": [
            "INFO:tensorflow:Assets written to: /content/drive/My Drive/ECE_209_AS_project_data/UCIHARmodels/LSTM_withresampling_0/assets\n"
          ]
        },
        {
          "output_type": "stream",
          "name": "stderr",
          "text": [
            "INFO:tensorflow:Assets written to: /content/drive/My Drive/ECE_209_AS_project_data/UCIHARmodels/LSTM_withresampling_0/assets\n"
          ]
        },
        {
          "output_type": "stream",
          "name": "stdout",
          "text": [
            "INFO:tensorflow:Assets written to: /content/drive/My Drive/ECE_209_AS_project_data/UCIHARmodels/LSTM_withresampling_0/assets\n"
          ]
        },
        {
          "output_type": "stream",
          "name": "stderr",
          "text": [
            "INFO:tensorflow:Assets written to: /content/drive/My Drive/ECE_209_AS_project_data/UCIHARmodels/LSTM_withresampling_0/assets\n"
          ]
        },
        {
          "output_type": "stream",
          "name": "stdout",
          "text": [
            "INFO:tensorflow:Assets written to: /content/drive/My Drive/ECE_209_AS_project_data/UCIHARmodels/LSTM_withresampling_0/assets\n"
          ]
        },
        {
          "output_type": "stream",
          "name": "stderr",
          "text": [
            "INFO:tensorflow:Assets written to: /content/drive/My Drive/ECE_209_AS_project_data/UCIHARmodels/LSTM_withresampling_0/assets\n"
          ]
        },
        {
          "output_type": "stream",
          "name": "stdout",
          "text": [
            "INFO:tensorflow:Assets written to: /content/drive/My Drive/ECE_209_AS_project_data/UCIHARmodels/LSTM_withresampling_0/assets\n"
          ]
        },
        {
          "output_type": "stream",
          "name": "stderr",
          "text": [
            "INFO:tensorflow:Assets written to: /content/drive/My Drive/ECE_209_AS_project_data/UCIHARmodels/LSTM_withresampling_0/assets\n"
          ]
        },
        {
          "output_type": "stream",
          "name": "stdout",
          "text": [
            "INFO:tensorflow:Assets written to: /content/drive/My Drive/ECE_209_AS_project_data/UCIHARmodels/LSTM_withresampling_0/assets\n"
          ]
        },
        {
          "output_type": "stream",
          "name": "stderr",
          "text": [
            "INFO:tensorflow:Assets written to: /content/drive/My Drive/ECE_209_AS_project_data/UCIHARmodels/LSTM_withresampling_0/assets\n"
          ]
        },
        {
          "output_type": "stream",
          "name": "stdout",
          "text": [
            "INFO:tensorflow:Assets written to: /content/drive/My Drive/ECE_209_AS_project_data/UCIHARmodels/LSTM_withresampling_0/assets\n"
          ]
        },
        {
          "output_type": "stream",
          "name": "stderr",
          "text": [
            "INFO:tensorflow:Assets written to: /content/drive/My Drive/ECE_209_AS_project_data/UCIHARmodels/LSTM_withresampling_0/assets\n"
          ]
        },
        {
          "output_type": "stream",
          "name": "stdout",
          "text": [
            "INFO:tensorflow:Assets written to: /content/drive/My Drive/ECE_209_AS_project_data/UCIHARmodels/LSTM_withresampling_0/assets\n"
          ]
        },
        {
          "output_type": "stream",
          "name": "stderr",
          "text": [
            "INFO:tensorflow:Assets written to: /content/drive/My Drive/ECE_209_AS_project_data/UCIHARmodels/LSTM_withresampling_0/assets\n"
          ]
        },
        {
          "output_type": "stream",
          "name": "stdout",
          "text": [
            "INFO:tensorflow:Assets written to: /content/drive/My Drive/ECE_209_AS_project_data/UCIHARmodels/LSTM_withresampling_0/assets\n"
          ]
        },
        {
          "output_type": "stream",
          "name": "stderr",
          "text": [
            "INFO:tensorflow:Assets written to: /content/drive/My Drive/ECE_209_AS_project_data/UCIHARmodels/LSTM_withresampling_0/assets\n"
          ]
        },
        {
          "output_type": "stream",
          "name": "stdout",
          "text": [
            "INFO:tensorflow:Assets written to: /content/drive/My Drive/ECE_209_AS_project_data/UCIHARmodels/LSTM_withresampling_0/assets\n"
          ]
        },
        {
          "output_type": "stream",
          "name": "stderr",
          "text": [
            "INFO:tensorflow:Assets written to: /content/drive/My Drive/ECE_209_AS_project_data/UCIHARmodels/LSTM_withresampling_0/assets\n"
          ]
        },
        {
          "output_type": "stream",
          "name": "stdout",
          "text": [
            "INFO:tensorflow:Assets written to: /content/drive/My Drive/ECE_209_AS_project_data/UCIHARmodels/LSTM_withresampling_0/assets\n"
          ]
        },
        {
          "output_type": "stream",
          "name": "stderr",
          "text": [
            "INFO:tensorflow:Assets written to: /content/drive/My Drive/ECE_209_AS_project_data/UCIHARmodels/LSTM_withresampling_0/assets\n"
          ]
        },
        {
          "output_type": "stream",
          "name": "stdout",
          "text": [
            "INFO:tensorflow:Assets written to: /content/drive/My Drive/ECE_209_AS_project_data/UCIHARmodels/LSTM_withresampling_0/assets\n"
          ]
        },
        {
          "output_type": "stream",
          "name": "stderr",
          "text": [
            "INFO:tensorflow:Assets written to: /content/drive/My Drive/ECE_209_AS_project_data/UCIHARmodels/LSTM_withresampling_0/assets\n"
          ]
        },
        {
          "output_type": "stream",
          "name": "stdout",
          "text": [
            "INFO:tensorflow:Assets written to: /content/drive/My Drive/ECE_209_AS_project_data/UCIHARmodels/LSTM_withresampling_0/assets\n"
          ]
        },
        {
          "output_type": "stream",
          "name": "stderr",
          "text": [
            "INFO:tensorflow:Assets written to: /content/drive/My Drive/ECE_209_AS_project_data/UCIHARmodels/LSTM_withresampling_0/assets\n"
          ]
        },
        {
          "output_type": "stream",
          "name": "stdout",
          "text": [
            "INFO:tensorflow:Assets written to: /content/drive/My Drive/ECE_209_AS_project_data/UCIHARmodels/LSTM_withresampling_0/assets\n"
          ]
        },
        {
          "output_type": "stream",
          "name": "stderr",
          "text": [
            "INFO:tensorflow:Assets written to: /content/drive/My Drive/ECE_209_AS_project_data/UCIHARmodels/LSTM_withresampling_0/assets\n"
          ]
        },
        {
          "output_type": "stream",
          "name": "stdout",
          "text": [
            "INFO:tensorflow:Assets written to: /content/drive/My Drive/ECE_209_AS_project_data/UCIHARmodels/LSTM_withresampling_0/assets\n"
          ]
        },
        {
          "output_type": "stream",
          "name": "stderr",
          "text": [
            "INFO:tensorflow:Assets written to: /content/drive/My Drive/ECE_209_AS_project_data/UCIHARmodels/LSTM_withresampling_0/assets\n"
          ]
        },
        {
          "output_type": "stream",
          "name": "stdout",
          "text": [
            "INFO:tensorflow:Assets written to: /content/drive/My Drive/ECE_209_AS_project_data/UCIHARmodels/LSTM_withresampling_0/assets\n"
          ]
        },
        {
          "output_type": "stream",
          "name": "stderr",
          "text": [
            "INFO:tensorflow:Assets written to: /content/drive/My Drive/ECE_209_AS_project_data/UCIHARmodels/LSTM_withresampling_0/assets\n"
          ]
        },
        {
          "output_type": "stream",
          "name": "stdout",
          "text": [
            "INFO:tensorflow:Assets written to: /content/drive/My Drive/ECE_209_AS_project_data/UCIHARmodels/LSTM_withresampling_0/assets\n"
          ]
        },
        {
          "output_type": "stream",
          "name": "stderr",
          "text": [
            "INFO:tensorflow:Assets written to: /content/drive/My Drive/ECE_209_AS_project_data/UCIHARmodels/LSTM_withresampling_0/assets\n"
          ]
        },
        {
          "output_type": "stream",
          "name": "stdout",
          "text": [
            "tf.Tensor(0.9127927, shape=(), dtype=float32)\n",
            "INFO:tensorflow:Assets written to: /content/drive/My Drive/ECE_209_AS_project_data/UCIHARmodels/LSTM_withresampling_1/assets\n"
          ]
        },
        {
          "output_type": "stream",
          "name": "stderr",
          "text": [
            "INFO:tensorflow:Assets written to: /content/drive/My Drive/ECE_209_AS_project_data/UCIHARmodels/LSTM_withresampling_1/assets\n"
          ]
        },
        {
          "output_type": "stream",
          "name": "stdout",
          "text": [
            "INFO:tensorflow:Assets written to: /content/drive/My Drive/ECE_209_AS_project_data/UCIHARmodels/LSTM_withresampling_1/assets\n"
          ]
        },
        {
          "output_type": "stream",
          "name": "stderr",
          "text": [
            "INFO:tensorflow:Assets written to: /content/drive/My Drive/ECE_209_AS_project_data/UCIHARmodels/LSTM_withresampling_1/assets\n"
          ]
        },
        {
          "output_type": "stream",
          "name": "stdout",
          "text": [
            "INFO:tensorflow:Assets written to: /content/drive/My Drive/ECE_209_AS_project_data/UCIHARmodels/LSTM_withresampling_1/assets\n"
          ]
        },
        {
          "output_type": "stream",
          "name": "stderr",
          "text": [
            "INFO:tensorflow:Assets written to: /content/drive/My Drive/ECE_209_AS_project_data/UCIHARmodels/LSTM_withresampling_1/assets\n"
          ]
        },
        {
          "output_type": "stream",
          "name": "stdout",
          "text": [
            "INFO:tensorflow:Assets written to: /content/drive/My Drive/ECE_209_AS_project_data/UCIHARmodels/LSTM_withresampling_1/assets\n"
          ]
        },
        {
          "output_type": "stream",
          "name": "stderr",
          "text": [
            "INFO:tensorflow:Assets written to: /content/drive/My Drive/ECE_209_AS_project_data/UCIHARmodels/LSTM_withresampling_1/assets\n"
          ]
        },
        {
          "output_type": "stream",
          "name": "stdout",
          "text": [
            "INFO:tensorflow:Assets written to: /content/drive/My Drive/ECE_209_AS_project_data/UCIHARmodels/LSTM_withresampling_1/assets\n"
          ]
        },
        {
          "output_type": "stream",
          "name": "stderr",
          "text": [
            "INFO:tensorflow:Assets written to: /content/drive/My Drive/ECE_209_AS_project_data/UCIHARmodels/LSTM_withresampling_1/assets\n"
          ]
        },
        {
          "output_type": "stream",
          "name": "stdout",
          "text": [
            "INFO:tensorflow:Assets written to: /content/drive/My Drive/ECE_209_AS_project_data/UCIHARmodels/LSTM_withresampling_1/assets\n"
          ]
        },
        {
          "output_type": "stream",
          "name": "stderr",
          "text": [
            "INFO:tensorflow:Assets written to: /content/drive/My Drive/ECE_209_AS_project_data/UCIHARmodels/LSTM_withresampling_1/assets\n"
          ]
        },
        {
          "output_type": "stream",
          "name": "stdout",
          "text": [
            "INFO:tensorflow:Assets written to: /content/drive/My Drive/ECE_209_AS_project_data/UCIHARmodels/LSTM_withresampling_1/assets\n"
          ]
        },
        {
          "output_type": "stream",
          "name": "stderr",
          "text": [
            "INFO:tensorflow:Assets written to: /content/drive/My Drive/ECE_209_AS_project_data/UCIHARmodels/LSTM_withresampling_1/assets\n"
          ]
        },
        {
          "output_type": "stream",
          "name": "stdout",
          "text": [
            "INFO:tensorflow:Assets written to: /content/drive/My Drive/ECE_209_AS_project_data/UCIHARmodels/LSTM_withresampling_1/assets\n"
          ]
        },
        {
          "output_type": "stream",
          "name": "stderr",
          "text": [
            "INFO:tensorflow:Assets written to: /content/drive/My Drive/ECE_209_AS_project_data/UCIHARmodels/LSTM_withresampling_1/assets\n"
          ]
        },
        {
          "output_type": "stream",
          "name": "stdout",
          "text": [
            "INFO:tensorflow:Assets written to: /content/drive/My Drive/ECE_209_AS_project_data/UCIHARmodels/LSTM_withresampling_1/assets\n"
          ]
        },
        {
          "output_type": "stream",
          "name": "stderr",
          "text": [
            "INFO:tensorflow:Assets written to: /content/drive/My Drive/ECE_209_AS_project_data/UCIHARmodels/LSTM_withresampling_1/assets\n"
          ]
        },
        {
          "output_type": "stream",
          "name": "stdout",
          "text": [
            "INFO:tensorflow:Assets written to: /content/drive/My Drive/ECE_209_AS_project_data/UCIHARmodels/LSTM_withresampling_1/assets\n"
          ]
        },
        {
          "output_type": "stream",
          "name": "stderr",
          "text": [
            "INFO:tensorflow:Assets written to: /content/drive/My Drive/ECE_209_AS_project_data/UCIHARmodels/LSTM_withresampling_1/assets\n"
          ]
        },
        {
          "output_type": "stream",
          "name": "stdout",
          "text": [
            "INFO:tensorflow:Assets written to: /content/drive/My Drive/ECE_209_AS_project_data/UCIHARmodels/LSTM_withresampling_1/assets\n"
          ]
        },
        {
          "output_type": "stream",
          "name": "stderr",
          "text": [
            "INFO:tensorflow:Assets written to: /content/drive/My Drive/ECE_209_AS_project_data/UCIHARmodels/LSTM_withresampling_1/assets\n"
          ]
        },
        {
          "output_type": "stream",
          "name": "stdout",
          "text": [
            "INFO:tensorflow:Assets written to: /content/drive/My Drive/ECE_209_AS_project_data/UCIHARmodels/LSTM_withresampling_1/assets\n"
          ]
        },
        {
          "output_type": "stream",
          "name": "stderr",
          "text": [
            "INFO:tensorflow:Assets written to: /content/drive/My Drive/ECE_209_AS_project_data/UCIHARmodels/LSTM_withresampling_1/assets\n"
          ]
        },
        {
          "output_type": "stream",
          "name": "stdout",
          "text": [
            "INFO:tensorflow:Assets written to: /content/drive/My Drive/ECE_209_AS_project_data/UCIHARmodels/LSTM_withresampling_1/assets\n"
          ]
        },
        {
          "output_type": "stream",
          "name": "stderr",
          "text": [
            "INFO:tensorflow:Assets written to: /content/drive/My Drive/ECE_209_AS_project_data/UCIHARmodels/LSTM_withresampling_1/assets\n"
          ]
        },
        {
          "output_type": "stream",
          "name": "stdout",
          "text": [
            "INFO:tensorflow:Assets written to: /content/drive/My Drive/ECE_209_AS_project_data/UCIHARmodels/LSTM_withresampling_1/assets\n"
          ]
        },
        {
          "output_type": "stream",
          "name": "stderr",
          "text": [
            "INFO:tensorflow:Assets written to: /content/drive/My Drive/ECE_209_AS_project_data/UCIHARmodels/LSTM_withresampling_1/assets\n"
          ]
        },
        {
          "output_type": "stream",
          "name": "stdout",
          "text": [
            "INFO:tensorflow:Assets written to: /content/drive/My Drive/ECE_209_AS_project_data/UCIHARmodels/LSTM_withresampling_1/assets\n"
          ]
        },
        {
          "output_type": "stream",
          "name": "stderr",
          "text": [
            "INFO:tensorflow:Assets written to: /content/drive/My Drive/ECE_209_AS_project_data/UCIHARmodels/LSTM_withresampling_1/assets\n"
          ]
        },
        {
          "output_type": "stream",
          "name": "stdout",
          "text": [
            "INFO:tensorflow:Assets written to: /content/drive/My Drive/ECE_209_AS_project_data/UCIHARmodels/LSTM_withresampling_1/assets\n"
          ]
        },
        {
          "output_type": "stream",
          "name": "stderr",
          "text": [
            "INFO:tensorflow:Assets written to: /content/drive/My Drive/ECE_209_AS_project_data/UCIHARmodels/LSTM_withresampling_1/assets\n"
          ]
        },
        {
          "output_type": "stream",
          "name": "stdout",
          "text": [
            "INFO:tensorflow:Assets written to: /content/drive/My Drive/ECE_209_AS_project_data/UCIHARmodels/LSTM_withresampling_1/assets\n"
          ]
        },
        {
          "output_type": "stream",
          "name": "stderr",
          "text": [
            "INFO:tensorflow:Assets written to: /content/drive/My Drive/ECE_209_AS_project_data/UCIHARmodels/LSTM_withresampling_1/assets\n"
          ]
        },
        {
          "output_type": "stream",
          "name": "stdout",
          "text": [
            "INFO:tensorflow:Assets written to: /content/drive/My Drive/ECE_209_AS_project_data/UCIHARmodels/LSTM_withresampling_1/assets\n"
          ]
        },
        {
          "output_type": "stream",
          "name": "stderr",
          "text": [
            "INFO:tensorflow:Assets written to: /content/drive/My Drive/ECE_209_AS_project_data/UCIHARmodels/LSTM_withresampling_1/assets\n"
          ]
        },
        {
          "output_type": "stream",
          "name": "stdout",
          "text": [
            "INFO:tensorflow:Assets written to: /content/drive/My Drive/ECE_209_AS_project_data/UCIHARmodels/LSTM_withresampling_1/assets\n"
          ]
        },
        {
          "output_type": "stream",
          "name": "stderr",
          "text": [
            "INFO:tensorflow:Assets written to: /content/drive/My Drive/ECE_209_AS_project_data/UCIHARmodels/LSTM_withresampling_1/assets\n"
          ]
        },
        {
          "output_type": "stream",
          "name": "stdout",
          "text": [
            "INFO:tensorflow:Assets written to: /content/drive/My Drive/ECE_209_AS_project_data/UCIHARmodels/LSTM_withresampling_1/assets\n"
          ]
        },
        {
          "output_type": "stream",
          "name": "stderr",
          "text": [
            "INFO:tensorflow:Assets written to: /content/drive/My Drive/ECE_209_AS_project_data/UCIHARmodels/LSTM_withresampling_1/assets\n"
          ]
        },
        {
          "output_type": "stream",
          "name": "stdout",
          "text": [
            "INFO:tensorflow:Assets written to: /content/drive/My Drive/ECE_209_AS_project_data/UCIHARmodels/LSTM_withresampling_1/assets\n"
          ]
        },
        {
          "output_type": "stream",
          "name": "stderr",
          "text": [
            "INFO:tensorflow:Assets written to: /content/drive/My Drive/ECE_209_AS_project_data/UCIHARmodels/LSTM_withresampling_1/assets\n"
          ]
        },
        {
          "output_type": "stream",
          "name": "stdout",
          "text": [
            "INFO:tensorflow:Assets written to: /content/drive/My Drive/ECE_209_AS_project_data/UCIHARmodels/LSTM_withresampling_1/assets\n"
          ]
        },
        {
          "output_type": "stream",
          "name": "stderr",
          "text": [
            "INFO:tensorflow:Assets written to: /content/drive/My Drive/ECE_209_AS_project_data/UCIHARmodels/LSTM_withresampling_1/assets\n"
          ]
        },
        {
          "output_type": "stream",
          "name": "stdout",
          "text": [
            "INFO:tensorflow:Assets written to: /content/drive/My Drive/ECE_209_AS_project_data/UCIHARmodels/LSTM_withresampling_1/assets\n"
          ]
        },
        {
          "output_type": "stream",
          "name": "stderr",
          "text": [
            "INFO:tensorflow:Assets written to: /content/drive/My Drive/ECE_209_AS_project_data/UCIHARmodels/LSTM_withresampling_1/assets\n"
          ]
        },
        {
          "output_type": "stream",
          "name": "stdout",
          "text": [
            "INFO:tensorflow:Assets written to: /content/drive/My Drive/ECE_209_AS_project_data/UCIHARmodels/LSTM_withresampling_1/assets\n"
          ]
        },
        {
          "output_type": "stream",
          "name": "stderr",
          "text": [
            "INFO:tensorflow:Assets written to: /content/drive/My Drive/ECE_209_AS_project_data/UCIHARmodels/LSTM_withresampling_1/assets\n"
          ]
        },
        {
          "output_type": "stream",
          "name": "stdout",
          "text": [
            "INFO:tensorflow:Assets written to: /content/drive/My Drive/ECE_209_AS_project_data/UCIHARmodels/LSTM_withresampling_1/assets\n"
          ]
        },
        {
          "output_type": "stream",
          "name": "stderr",
          "text": [
            "INFO:tensorflow:Assets written to: /content/drive/My Drive/ECE_209_AS_project_data/UCIHARmodels/LSTM_withresampling_1/assets\n"
          ]
        },
        {
          "output_type": "stream",
          "name": "stdout",
          "text": [
            "tf.Tensor(0.9263658, shape=(), dtype=float32)\n",
            "INFO:tensorflow:Assets written to: /content/drive/My Drive/ECE_209_AS_project_data/UCIHARmodels/LSTM_withresampling_2/assets\n"
          ]
        },
        {
          "output_type": "stream",
          "name": "stderr",
          "text": [
            "INFO:tensorflow:Assets written to: /content/drive/My Drive/ECE_209_AS_project_data/UCIHARmodels/LSTM_withresampling_2/assets\n"
          ]
        },
        {
          "output_type": "stream",
          "name": "stdout",
          "text": [
            "INFO:tensorflow:Assets written to: /content/drive/My Drive/ECE_209_AS_project_data/UCIHARmodels/LSTM_withresampling_2/assets\n"
          ]
        },
        {
          "output_type": "stream",
          "name": "stderr",
          "text": [
            "INFO:tensorflow:Assets written to: /content/drive/My Drive/ECE_209_AS_project_data/UCIHARmodels/LSTM_withresampling_2/assets\n"
          ]
        },
        {
          "output_type": "stream",
          "name": "stdout",
          "text": [
            "INFO:tensorflow:Assets written to: /content/drive/My Drive/ECE_209_AS_project_data/UCIHARmodels/LSTM_withresampling_2/assets\n"
          ]
        },
        {
          "output_type": "stream",
          "name": "stderr",
          "text": [
            "INFO:tensorflow:Assets written to: /content/drive/My Drive/ECE_209_AS_project_data/UCIHARmodels/LSTM_withresampling_2/assets\n"
          ]
        },
        {
          "output_type": "stream",
          "name": "stdout",
          "text": [
            "INFO:tensorflow:Assets written to: /content/drive/My Drive/ECE_209_AS_project_data/UCIHARmodels/LSTM_withresampling_2/assets\n"
          ]
        },
        {
          "output_type": "stream",
          "name": "stderr",
          "text": [
            "INFO:tensorflow:Assets written to: /content/drive/My Drive/ECE_209_AS_project_data/UCIHARmodels/LSTM_withresampling_2/assets\n"
          ]
        },
        {
          "output_type": "stream",
          "name": "stdout",
          "text": [
            "INFO:tensorflow:Assets written to: /content/drive/My Drive/ECE_209_AS_project_data/UCIHARmodels/LSTM_withresampling_2/assets\n"
          ]
        },
        {
          "output_type": "stream",
          "name": "stderr",
          "text": [
            "INFO:tensorflow:Assets written to: /content/drive/My Drive/ECE_209_AS_project_data/UCIHARmodels/LSTM_withresampling_2/assets\n"
          ]
        },
        {
          "output_type": "stream",
          "name": "stdout",
          "text": [
            "INFO:tensorflow:Assets written to: /content/drive/My Drive/ECE_209_AS_project_data/UCIHARmodels/LSTM_withresampling_2/assets\n"
          ]
        },
        {
          "output_type": "stream",
          "name": "stderr",
          "text": [
            "INFO:tensorflow:Assets written to: /content/drive/My Drive/ECE_209_AS_project_data/UCIHARmodels/LSTM_withresampling_2/assets\n"
          ]
        },
        {
          "output_type": "stream",
          "name": "stdout",
          "text": [
            "INFO:tensorflow:Assets written to: /content/drive/My Drive/ECE_209_AS_project_data/UCIHARmodels/LSTM_withresampling_2/assets\n"
          ]
        },
        {
          "output_type": "stream",
          "name": "stderr",
          "text": [
            "INFO:tensorflow:Assets written to: /content/drive/My Drive/ECE_209_AS_project_data/UCIHARmodels/LSTM_withresampling_2/assets\n"
          ]
        },
        {
          "output_type": "stream",
          "name": "stdout",
          "text": [
            "INFO:tensorflow:Assets written to: /content/drive/My Drive/ECE_209_AS_project_data/UCIHARmodels/LSTM_withresampling_2/assets\n"
          ]
        },
        {
          "output_type": "stream",
          "name": "stderr",
          "text": [
            "INFO:tensorflow:Assets written to: /content/drive/My Drive/ECE_209_AS_project_data/UCIHARmodels/LSTM_withresampling_2/assets\n"
          ]
        },
        {
          "output_type": "stream",
          "name": "stdout",
          "text": [
            "INFO:tensorflow:Assets written to: /content/drive/My Drive/ECE_209_AS_project_data/UCIHARmodels/LSTM_withresampling_2/assets\n"
          ]
        },
        {
          "output_type": "stream",
          "name": "stderr",
          "text": [
            "INFO:tensorflow:Assets written to: /content/drive/My Drive/ECE_209_AS_project_data/UCIHARmodels/LSTM_withresampling_2/assets\n"
          ]
        },
        {
          "output_type": "stream",
          "name": "stdout",
          "text": [
            "INFO:tensorflow:Assets written to: /content/drive/My Drive/ECE_209_AS_project_data/UCIHARmodels/LSTM_withresampling_2/assets\n"
          ]
        },
        {
          "output_type": "stream",
          "name": "stderr",
          "text": [
            "INFO:tensorflow:Assets written to: /content/drive/My Drive/ECE_209_AS_project_data/UCIHARmodels/LSTM_withresampling_2/assets\n"
          ]
        },
        {
          "output_type": "stream",
          "name": "stdout",
          "text": [
            "INFO:tensorflow:Assets written to: /content/drive/My Drive/ECE_209_AS_project_data/UCIHARmodels/LSTM_withresampling_2/assets\n"
          ]
        },
        {
          "output_type": "stream",
          "name": "stderr",
          "text": [
            "INFO:tensorflow:Assets written to: /content/drive/My Drive/ECE_209_AS_project_data/UCIHARmodels/LSTM_withresampling_2/assets\n"
          ]
        },
        {
          "output_type": "stream",
          "name": "stdout",
          "text": [
            "INFO:tensorflow:Assets written to: /content/drive/My Drive/ECE_209_AS_project_data/UCIHARmodels/LSTM_withresampling_2/assets\n"
          ]
        },
        {
          "output_type": "stream",
          "name": "stderr",
          "text": [
            "INFO:tensorflow:Assets written to: /content/drive/My Drive/ECE_209_AS_project_data/UCIHARmodels/LSTM_withresampling_2/assets\n"
          ]
        },
        {
          "output_type": "stream",
          "name": "stdout",
          "text": [
            "INFO:tensorflow:Assets written to: /content/drive/My Drive/ECE_209_AS_project_data/UCIHARmodels/LSTM_withresampling_2/assets\n"
          ]
        },
        {
          "output_type": "stream",
          "name": "stderr",
          "text": [
            "INFO:tensorflow:Assets written to: /content/drive/My Drive/ECE_209_AS_project_data/UCIHARmodels/LSTM_withresampling_2/assets\n"
          ]
        },
        {
          "output_type": "stream",
          "name": "stdout",
          "text": [
            "INFO:tensorflow:Assets written to: /content/drive/My Drive/ECE_209_AS_project_data/UCIHARmodels/LSTM_withresampling_2/assets\n"
          ]
        },
        {
          "output_type": "stream",
          "name": "stderr",
          "text": [
            "INFO:tensorflow:Assets written to: /content/drive/My Drive/ECE_209_AS_project_data/UCIHARmodels/LSTM_withresampling_2/assets\n"
          ]
        },
        {
          "output_type": "stream",
          "name": "stdout",
          "text": [
            "INFO:tensorflow:Assets written to: /content/drive/My Drive/ECE_209_AS_project_data/UCIHARmodels/LSTM_withresampling_2/assets\n"
          ]
        },
        {
          "output_type": "stream",
          "name": "stderr",
          "text": [
            "INFO:tensorflow:Assets written to: /content/drive/My Drive/ECE_209_AS_project_data/UCIHARmodels/LSTM_withresampling_2/assets\n"
          ]
        },
        {
          "output_type": "stream",
          "name": "stdout",
          "text": [
            "INFO:tensorflow:Assets written to: /content/drive/My Drive/ECE_209_AS_project_data/UCIHARmodels/LSTM_withresampling_2/assets\n"
          ]
        },
        {
          "output_type": "stream",
          "name": "stderr",
          "text": [
            "INFO:tensorflow:Assets written to: /content/drive/My Drive/ECE_209_AS_project_data/UCIHARmodels/LSTM_withresampling_2/assets\n"
          ]
        },
        {
          "output_type": "stream",
          "name": "stdout",
          "text": [
            "INFO:tensorflow:Assets written to: /content/drive/My Drive/ECE_209_AS_project_data/UCIHARmodels/LSTM_withresampling_2/assets\n"
          ]
        },
        {
          "output_type": "stream",
          "name": "stderr",
          "text": [
            "INFO:tensorflow:Assets written to: /content/drive/My Drive/ECE_209_AS_project_data/UCIHARmodels/LSTM_withresampling_2/assets\n"
          ]
        },
        {
          "output_type": "stream",
          "name": "stdout",
          "text": [
            "INFO:tensorflow:Assets written to: /content/drive/My Drive/ECE_209_AS_project_data/UCIHARmodels/LSTM_withresampling_2/assets\n"
          ]
        },
        {
          "output_type": "stream",
          "name": "stderr",
          "text": [
            "INFO:tensorflow:Assets written to: /content/drive/My Drive/ECE_209_AS_project_data/UCIHARmodels/LSTM_withresampling_2/assets\n"
          ]
        },
        {
          "output_type": "stream",
          "name": "stdout",
          "text": [
            "INFO:tensorflow:Assets written to: /content/drive/My Drive/ECE_209_AS_project_data/UCIHARmodels/LSTM_withresampling_2/assets\n"
          ]
        },
        {
          "output_type": "stream",
          "name": "stderr",
          "text": [
            "INFO:tensorflow:Assets written to: /content/drive/My Drive/ECE_209_AS_project_data/UCIHARmodels/LSTM_withresampling_2/assets\n"
          ]
        },
        {
          "output_type": "stream",
          "name": "stdout",
          "text": [
            "INFO:tensorflow:Assets written to: /content/drive/My Drive/ECE_209_AS_project_data/UCIHARmodels/LSTM_withresampling_2/assets\n"
          ]
        },
        {
          "output_type": "stream",
          "name": "stderr",
          "text": [
            "INFO:tensorflow:Assets written to: /content/drive/My Drive/ECE_209_AS_project_data/UCIHARmodels/LSTM_withresampling_2/assets\n"
          ]
        },
        {
          "output_type": "stream",
          "name": "stdout",
          "text": [
            "INFO:tensorflow:Assets written to: /content/drive/My Drive/ECE_209_AS_project_data/UCIHARmodels/LSTM_withresampling_2/assets\n"
          ]
        },
        {
          "output_type": "stream",
          "name": "stderr",
          "text": [
            "INFO:tensorflow:Assets written to: /content/drive/My Drive/ECE_209_AS_project_data/UCIHARmodels/LSTM_withresampling_2/assets\n"
          ]
        },
        {
          "output_type": "stream",
          "name": "stdout",
          "text": [
            "INFO:tensorflow:Assets written to: /content/drive/My Drive/ECE_209_AS_project_data/UCIHARmodels/LSTM_withresampling_2/assets\n"
          ]
        },
        {
          "output_type": "stream",
          "name": "stderr",
          "text": [
            "INFO:tensorflow:Assets written to: /content/drive/My Drive/ECE_209_AS_project_data/UCIHARmodels/LSTM_withresampling_2/assets\n"
          ]
        },
        {
          "output_type": "stream",
          "name": "stdout",
          "text": [
            "INFO:tensorflow:Assets written to: /content/drive/My Drive/ECE_209_AS_project_data/UCIHARmodels/LSTM_withresampling_2/assets\n"
          ]
        },
        {
          "output_type": "stream",
          "name": "stderr",
          "text": [
            "INFO:tensorflow:Assets written to: /content/drive/My Drive/ECE_209_AS_project_data/UCIHARmodels/LSTM_withresampling_2/assets\n"
          ]
        },
        {
          "output_type": "stream",
          "name": "stdout",
          "text": [
            "INFO:tensorflow:Assets written to: /content/drive/My Drive/ECE_209_AS_project_data/UCIHARmodels/LSTM_withresampling_2/assets\n"
          ]
        },
        {
          "output_type": "stream",
          "name": "stderr",
          "text": [
            "INFO:tensorflow:Assets written to: /content/drive/My Drive/ECE_209_AS_project_data/UCIHARmodels/LSTM_withresampling_2/assets\n"
          ]
        },
        {
          "output_type": "stream",
          "name": "stdout",
          "text": [
            "INFO:tensorflow:Assets written to: /content/drive/My Drive/ECE_209_AS_project_data/UCIHARmodels/LSTM_withresampling_2/assets\n"
          ]
        },
        {
          "output_type": "stream",
          "name": "stderr",
          "text": [
            "INFO:tensorflow:Assets written to: /content/drive/My Drive/ECE_209_AS_project_data/UCIHARmodels/LSTM_withresampling_2/assets\n"
          ]
        },
        {
          "output_type": "stream",
          "name": "stdout",
          "text": [
            "tf.Tensor(0.91143537, shape=(), dtype=float32)\n",
            "INFO:tensorflow:Assets written to: /content/drive/My Drive/ECE_209_AS_project_data/UCIHARmodels/LSTM_withresampling_3/assets\n"
          ]
        },
        {
          "output_type": "stream",
          "name": "stderr",
          "text": [
            "INFO:tensorflow:Assets written to: /content/drive/My Drive/ECE_209_AS_project_data/UCIHARmodels/LSTM_withresampling_3/assets\n"
          ]
        },
        {
          "output_type": "stream",
          "name": "stdout",
          "text": [
            "INFO:tensorflow:Assets written to: /content/drive/My Drive/ECE_209_AS_project_data/UCIHARmodels/LSTM_withresampling_3/assets\n"
          ]
        },
        {
          "output_type": "stream",
          "name": "stderr",
          "text": [
            "INFO:tensorflow:Assets written to: /content/drive/My Drive/ECE_209_AS_project_data/UCIHARmodels/LSTM_withresampling_3/assets\n"
          ]
        },
        {
          "output_type": "stream",
          "name": "stdout",
          "text": [
            "INFO:tensorflow:Assets written to: /content/drive/My Drive/ECE_209_AS_project_data/UCIHARmodels/LSTM_withresampling_3/assets\n"
          ]
        },
        {
          "output_type": "stream",
          "name": "stderr",
          "text": [
            "INFO:tensorflow:Assets written to: /content/drive/My Drive/ECE_209_AS_project_data/UCIHARmodels/LSTM_withresampling_3/assets\n"
          ]
        },
        {
          "output_type": "stream",
          "name": "stdout",
          "text": [
            "INFO:tensorflow:Assets written to: /content/drive/My Drive/ECE_209_AS_project_data/UCIHARmodels/LSTM_withresampling_3/assets\n"
          ]
        },
        {
          "output_type": "stream",
          "name": "stderr",
          "text": [
            "INFO:tensorflow:Assets written to: /content/drive/My Drive/ECE_209_AS_project_data/UCIHARmodels/LSTM_withresampling_3/assets\n"
          ]
        },
        {
          "output_type": "stream",
          "name": "stdout",
          "text": [
            "INFO:tensorflow:Assets written to: /content/drive/My Drive/ECE_209_AS_project_data/UCIHARmodels/LSTM_withresampling_3/assets\n"
          ]
        },
        {
          "output_type": "stream",
          "name": "stderr",
          "text": [
            "INFO:tensorflow:Assets written to: /content/drive/My Drive/ECE_209_AS_project_data/UCIHARmodels/LSTM_withresampling_3/assets\n"
          ]
        },
        {
          "output_type": "stream",
          "name": "stdout",
          "text": [
            "INFO:tensorflow:Assets written to: /content/drive/My Drive/ECE_209_AS_project_data/UCIHARmodels/LSTM_withresampling_3/assets\n"
          ]
        },
        {
          "output_type": "stream",
          "name": "stderr",
          "text": [
            "INFO:tensorflow:Assets written to: /content/drive/My Drive/ECE_209_AS_project_data/UCIHARmodels/LSTM_withresampling_3/assets\n"
          ]
        },
        {
          "output_type": "stream",
          "name": "stdout",
          "text": [
            "INFO:tensorflow:Assets written to: /content/drive/My Drive/ECE_209_AS_project_data/UCIHARmodels/LSTM_withresampling_3/assets\n"
          ]
        },
        {
          "output_type": "stream",
          "name": "stderr",
          "text": [
            "INFO:tensorflow:Assets written to: /content/drive/My Drive/ECE_209_AS_project_data/UCIHARmodels/LSTM_withresampling_3/assets\n"
          ]
        },
        {
          "output_type": "stream",
          "name": "stdout",
          "text": [
            "INFO:tensorflow:Assets written to: /content/drive/My Drive/ECE_209_AS_project_data/UCIHARmodels/LSTM_withresampling_3/assets\n"
          ]
        },
        {
          "output_type": "stream",
          "name": "stderr",
          "text": [
            "INFO:tensorflow:Assets written to: /content/drive/My Drive/ECE_209_AS_project_data/UCIHARmodels/LSTM_withresampling_3/assets\n"
          ]
        },
        {
          "output_type": "stream",
          "name": "stdout",
          "text": [
            "INFO:tensorflow:Assets written to: /content/drive/My Drive/ECE_209_AS_project_data/UCIHARmodels/LSTM_withresampling_3/assets\n"
          ]
        },
        {
          "output_type": "stream",
          "name": "stderr",
          "text": [
            "INFO:tensorflow:Assets written to: /content/drive/My Drive/ECE_209_AS_project_data/UCIHARmodels/LSTM_withresampling_3/assets\n"
          ]
        },
        {
          "output_type": "stream",
          "name": "stdout",
          "text": [
            "INFO:tensorflow:Assets written to: /content/drive/My Drive/ECE_209_AS_project_data/UCIHARmodels/LSTM_withresampling_3/assets\n"
          ]
        },
        {
          "output_type": "stream",
          "name": "stderr",
          "text": [
            "INFO:tensorflow:Assets written to: /content/drive/My Drive/ECE_209_AS_project_data/UCIHARmodels/LSTM_withresampling_3/assets\n"
          ]
        },
        {
          "output_type": "stream",
          "name": "stdout",
          "text": [
            "INFO:tensorflow:Assets written to: /content/drive/My Drive/ECE_209_AS_project_data/UCIHARmodels/LSTM_withresampling_3/assets\n"
          ]
        },
        {
          "output_type": "stream",
          "name": "stderr",
          "text": [
            "INFO:tensorflow:Assets written to: /content/drive/My Drive/ECE_209_AS_project_data/UCIHARmodels/LSTM_withresampling_3/assets\n"
          ]
        },
        {
          "output_type": "stream",
          "name": "stdout",
          "text": [
            "INFO:tensorflow:Assets written to: /content/drive/My Drive/ECE_209_AS_project_data/UCIHARmodels/LSTM_withresampling_3/assets\n"
          ]
        },
        {
          "output_type": "stream",
          "name": "stderr",
          "text": [
            "INFO:tensorflow:Assets written to: /content/drive/My Drive/ECE_209_AS_project_data/UCIHARmodels/LSTM_withresampling_3/assets\n"
          ]
        },
        {
          "output_type": "stream",
          "name": "stdout",
          "text": [
            "INFO:tensorflow:Assets written to: /content/drive/My Drive/ECE_209_AS_project_data/UCIHARmodels/LSTM_withresampling_3/assets\n"
          ]
        },
        {
          "output_type": "stream",
          "name": "stderr",
          "text": [
            "INFO:tensorflow:Assets written to: /content/drive/My Drive/ECE_209_AS_project_data/UCIHARmodels/LSTM_withresampling_3/assets\n"
          ]
        },
        {
          "output_type": "stream",
          "name": "stdout",
          "text": [
            "INFO:tensorflow:Assets written to: /content/drive/My Drive/ECE_209_AS_project_data/UCIHARmodels/LSTM_withresampling_3/assets\n"
          ]
        },
        {
          "output_type": "stream",
          "name": "stderr",
          "text": [
            "INFO:tensorflow:Assets written to: /content/drive/My Drive/ECE_209_AS_project_data/UCIHARmodels/LSTM_withresampling_3/assets\n"
          ]
        },
        {
          "output_type": "stream",
          "name": "stdout",
          "text": [
            "INFO:tensorflow:Assets written to: /content/drive/My Drive/ECE_209_AS_project_data/UCIHARmodels/LSTM_withresampling_3/assets\n"
          ]
        },
        {
          "output_type": "stream",
          "name": "stderr",
          "text": [
            "INFO:tensorflow:Assets written to: /content/drive/My Drive/ECE_209_AS_project_data/UCIHARmodels/LSTM_withresampling_3/assets\n"
          ]
        },
        {
          "output_type": "stream",
          "name": "stdout",
          "text": [
            "INFO:tensorflow:Assets written to: /content/drive/My Drive/ECE_209_AS_project_data/UCIHARmodels/LSTM_withresampling_3/assets\n"
          ]
        },
        {
          "output_type": "stream",
          "name": "stderr",
          "text": [
            "INFO:tensorflow:Assets written to: /content/drive/My Drive/ECE_209_AS_project_data/UCIHARmodels/LSTM_withresampling_3/assets\n"
          ]
        },
        {
          "output_type": "stream",
          "name": "stdout",
          "text": [
            "INFO:tensorflow:Assets written to: /content/drive/My Drive/ECE_209_AS_project_data/UCIHARmodels/LSTM_withresampling_3/assets\n"
          ]
        },
        {
          "output_type": "stream",
          "name": "stderr",
          "text": [
            "INFO:tensorflow:Assets written to: /content/drive/My Drive/ECE_209_AS_project_data/UCIHARmodels/LSTM_withresampling_3/assets\n"
          ]
        },
        {
          "output_type": "stream",
          "name": "stdout",
          "text": [
            "INFO:tensorflow:Assets written to: /content/drive/My Drive/ECE_209_AS_project_data/UCIHARmodels/LSTM_withresampling_3/assets\n"
          ]
        },
        {
          "output_type": "stream",
          "name": "stderr",
          "text": [
            "INFO:tensorflow:Assets written to: /content/drive/My Drive/ECE_209_AS_project_data/UCIHARmodels/LSTM_withresampling_3/assets\n"
          ]
        },
        {
          "output_type": "stream",
          "name": "stdout",
          "text": [
            "INFO:tensorflow:Assets written to: /content/drive/My Drive/ECE_209_AS_project_data/UCIHARmodels/LSTM_withresampling_3/assets\n"
          ]
        },
        {
          "output_type": "stream",
          "name": "stderr",
          "text": [
            "INFO:tensorflow:Assets written to: /content/drive/My Drive/ECE_209_AS_project_data/UCIHARmodels/LSTM_withresampling_3/assets\n"
          ]
        },
        {
          "output_type": "stream",
          "name": "stdout",
          "text": [
            "INFO:tensorflow:Assets written to: /content/drive/My Drive/ECE_209_AS_project_data/UCIHARmodels/LSTM_withresampling_3/assets\n"
          ]
        },
        {
          "output_type": "stream",
          "name": "stderr",
          "text": [
            "INFO:tensorflow:Assets written to: /content/drive/My Drive/ECE_209_AS_project_data/UCIHARmodels/LSTM_withresampling_3/assets\n"
          ]
        },
        {
          "output_type": "stream",
          "name": "stdout",
          "text": [
            "INFO:tensorflow:Assets written to: /content/drive/My Drive/ECE_209_AS_project_data/UCIHARmodels/LSTM_withresampling_3/assets\n"
          ]
        },
        {
          "output_type": "stream",
          "name": "stderr",
          "text": [
            "INFO:tensorflow:Assets written to: /content/drive/My Drive/ECE_209_AS_project_data/UCIHARmodels/LSTM_withresampling_3/assets\n"
          ]
        },
        {
          "output_type": "stream",
          "name": "stdout",
          "text": [
            "INFO:tensorflow:Assets written to: /content/drive/My Drive/ECE_209_AS_project_data/UCIHARmodels/LSTM_withresampling_3/assets\n"
          ]
        },
        {
          "output_type": "stream",
          "name": "stderr",
          "text": [
            "INFO:tensorflow:Assets written to: /content/drive/My Drive/ECE_209_AS_project_data/UCIHARmodels/LSTM_withresampling_3/assets\n"
          ]
        },
        {
          "output_type": "stream",
          "name": "stdout",
          "text": [
            "INFO:tensorflow:Assets written to: /content/drive/My Drive/ECE_209_AS_project_data/UCIHARmodels/LSTM_withresampling_3/assets\n"
          ]
        },
        {
          "output_type": "stream",
          "name": "stderr",
          "text": [
            "INFO:tensorflow:Assets written to: /content/drive/My Drive/ECE_209_AS_project_data/UCIHARmodels/LSTM_withresampling_3/assets\n"
          ]
        },
        {
          "output_type": "stream",
          "name": "stdout",
          "text": [
            "INFO:tensorflow:Assets written to: /content/drive/My Drive/ECE_209_AS_project_data/UCIHARmodels/LSTM_withresampling_3/assets\n"
          ]
        },
        {
          "output_type": "stream",
          "name": "stderr",
          "text": [
            "INFO:tensorflow:Assets written to: /content/drive/My Drive/ECE_209_AS_project_data/UCIHARmodels/LSTM_withresampling_3/assets\n"
          ]
        },
        {
          "output_type": "stream",
          "name": "stdout",
          "text": [
            "INFO:tensorflow:Assets written to: /content/drive/My Drive/ECE_209_AS_project_data/UCIHARmodels/LSTM_withresampling_3/assets\n"
          ]
        },
        {
          "output_type": "stream",
          "name": "stderr",
          "text": [
            "INFO:tensorflow:Assets written to: /content/drive/My Drive/ECE_209_AS_project_data/UCIHARmodels/LSTM_withresampling_3/assets\n"
          ]
        },
        {
          "output_type": "stream",
          "name": "stdout",
          "text": [
            "tf.Tensor(0.9195792, shape=(), dtype=float32)\n",
            "INFO:tensorflow:Assets written to: /content/drive/My Drive/ECE_209_AS_project_data/UCIHARmodels/LSTM_withresampling_4/assets\n"
          ]
        },
        {
          "output_type": "stream",
          "name": "stderr",
          "text": [
            "INFO:tensorflow:Assets written to: /content/drive/My Drive/ECE_209_AS_project_data/UCIHARmodels/LSTM_withresampling_4/assets\n"
          ]
        },
        {
          "output_type": "stream",
          "name": "stdout",
          "text": [
            "INFO:tensorflow:Assets written to: /content/drive/My Drive/ECE_209_AS_project_data/UCIHARmodels/LSTM_withresampling_4/assets\n"
          ]
        },
        {
          "output_type": "stream",
          "name": "stderr",
          "text": [
            "INFO:tensorflow:Assets written to: /content/drive/My Drive/ECE_209_AS_project_data/UCIHARmodels/LSTM_withresampling_4/assets\n"
          ]
        },
        {
          "output_type": "stream",
          "name": "stdout",
          "text": [
            "INFO:tensorflow:Assets written to: /content/drive/My Drive/ECE_209_AS_project_data/UCIHARmodels/LSTM_withresampling_4/assets\n"
          ]
        },
        {
          "output_type": "stream",
          "name": "stderr",
          "text": [
            "INFO:tensorflow:Assets written to: /content/drive/My Drive/ECE_209_AS_project_data/UCIHARmodels/LSTM_withresampling_4/assets\n"
          ]
        },
        {
          "output_type": "stream",
          "name": "stdout",
          "text": [
            "INFO:tensorflow:Assets written to: /content/drive/My Drive/ECE_209_AS_project_data/UCIHARmodels/LSTM_withresampling_4/assets\n"
          ]
        },
        {
          "output_type": "stream",
          "name": "stderr",
          "text": [
            "INFO:tensorflow:Assets written to: /content/drive/My Drive/ECE_209_AS_project_data/UCIHARmodels/LSTM_withresampling_4/assets\n"
          ]
        },
        {
          "output_type": "stream",
          "name": "stdout",
          "text": [
            "INFO:tensorflow:Assets written to: /content/drive/My Drive/ECE_209_AS_project_data/UCIHARmodels/LSTM_withresampling_4/assets\n"
          ]
        },
        {
          "output_type": "stream",
          "name": "stderr",
          "text": [
            "INFO:tensorflow:Assets written to: /content/drive/My Drive/ECE_209_AS_project_data/UCIHARmodels/LSTM_withresampling_4/assets\n"
          ]
        },
        {
          "output_type": "stream",
          "name": "stdout",
          "text": [
            "INFO:tensorflow:Assets written to: /content/drive/My Drive/ECE_209_AS_project_data/UCIHARmodels/LSTM_withresampling_4/assets\n"
          ]
        },
        {
          "output_type": "stream",
          "name": "stderr",
          "text": [
            "INFO:tensorflow:Assets written to: /content/drive/My Drive/ECE_209_AS_project_data/UCIHARmodels/LSTM_withresampling_4/assets\n"
          ]
        },
        {
          "output_type": "stream",
          "name": "stdout",
          "text": [
            "INFO:tensorflow:Assets written to: /content/drive/My Drive/ECE_209_AS_project_data/UCIHARmodels/LSTM_withresampling_4/assets\n"
          ]
        },
        {
          "output_type": "stream",
          "name": "stderr",
          "text": [
            "INFO:tensorflow:Assets written to: /content/drive/My Drive/ECE_209_AS_project_data/UCIHARmodels/LSTM_withresampling_4/assets\n"
          ]
        },
        {
          "output_type": "stream",
          "name": "stdout",
          "text": [
            "INFO:tensorflow:Assets written to: /content/drive/My Drive/ECE_209_AS_project_data/UCIHARmodels/LSTM_withresampling_4/assets\n"
          ]
        },
        {
          "output_type": "stream",
          "name": "stderr",
          "text": [
            "INFO:tensorflow:Assets written to: /content/drive/My Drive/ECE_209_AS_project_data/UCIHARmodels/LSTM_withresampling_4/assets\n"
          ]
        },
        {
          "output_type": "stream",
          "name": "stdout",
          "text": [
            "INFO:tensorflow:Assets written to: /content/drive/My Drive/ECE_209_AS_project_data/UCIHARmodels/LSTM_withresampling_4/assets\n"
          ]
        },
        {
          "output_type": "stream",
          "name": "stderr",
          "text": [
            "INFO:tensorflow:Assets written to: /content/drive/My Drive/ECE_209_AS_project_data/UCIHARmodels/LSTM_withresampling_4/assets\n"
          ]
        },
        {
          "output_type": "stream",
          "name": "stdout",
          "text": [
            "INFO:tensorflow:Assets written to: /content/drive/My Drive/ECE_209_AS_project_data/UCIHARmodels/LSTM_withresampling_4/assets\n"
          ]
        },
        {
          "output_type": "stream",
          "name": "stderr",
          "text": [
            "INFO:tensorflow:Assets written to: /content/drive/My Drive/ECE_209_AS_project_data/UCIHARmodels/LSTM_withresampling_4/assets\n"
          ]
        },
        {
          "output_type": "stream",
          "name": "stdout",
          "text": [
            "INFO:tensorflow:Assets written to: /content/drive/My Drive/ECE_209_AS_project_data/UCIHARmodels/LSTM_withresampling_4/assets\n"
          ]
        },
        {
          "output_type": "stream",
          "name": "stderr",
          "text": [
            "INFO:tensorflow:Assets written to: /content/drive/My Drive/ECE_209_AS_project_data/UCIHARmodels/LSTM_withresampling_4/assets\n"
          ]
        },
        {
          "output_type": "stream",
          "name": "stdout",
          "text": [
            "INFO:tensorflow:Assets written to: /content/drive/My Drive/ECE_209_AS_project_data/UCIHARmodels/LSTM_withresampling_4/assets\n"
          ]
        },
        {
          "output_type": "stream",
          "name": "stderr",
          "text": [
            "INFO:tensorflow:Assets written to: /content/drive/My Drive/ECE_209_AS_project_data/UCIHARmodels/LSTM_withresampling_4/assets\n"
          ]
        },
        {
          "output_type": "stream",
          "name": "stdout",
          "text": [
            "INFO:tensorflow:Assets written to: /content/drive/My Drive/ECE_209_AS_project_data/UCIHARmodels/LSTM_withresampling_4/assets\n"
          ]
        },
        {
          "output_type": "stream",
          "name": "stderr",
          "text": [
            "INFO:tensorflow:Assets written to: /content/drive/My Drive/ECE_209_AS_project_data/UCIHARmodels/LSTM_withresampling_4/assets\n"
          ]
        },
        {
          "output_type": "stream",
          "name": "stdout",
          "text": [
            "INFO:tensorflow:Assets written to: /content/drive/My Drive/ECE_209_AS_project_data/UCIHARmodels/LSTM_withresampling_4/assets\n"
          ]
        },
        {
          "output_type": "stream",
          "name": "stderr",
          "text": [
            "INFO:tensorflow:Assets written to: /content/drive/My Drive/ECE_209_AS_project_data/UCIHARmodels/LSTM_withresampling_4/assets\n"
          ]
        },
        {
          "output_type": "stream",
          "name": "stdout",
          "text": [
            "INFO:tensorflow:Assets written to: /content/drive/My Drive/ECE_209_AS_project_data/UCIHARmodels/LSTM_withresampling_4/assets\n"
          ]
        },
        {
          "output_type": "stream",
          "name": "stderr",
          "text": [
            "INFO:tensorflow:Assets written to: /content/drive/My Drive/ECE_209_AS_project_data/UCIHARmodels/LSTM_withresampling_4/assets\n"
          ]
        },
        {
          "output_type": "stream",
          "name": "stdout",
          "text": [
            "INFO:tensorflow:Assets written to: /content/drive/My Drive/ECE_209_AS_project_data/UCIHARmodels/LSTM_withresampling_4/assets\n"
          ]
        },
        {
          "output_type": "stream",
          "name": "stderr",
          "text": [
            "INFO:tensorflow:Assets written to: /content/drive/My Drive/ECE_209_AS_project_data/UCIHARmodels/LSTM_withresampling_4/assets\n"
          ]
        },
        {
          "output_type": "stream",
          "name": "stdout",
          "text": [
            "INFO:tensorflow:Assets written to: /content/drive/My Drive/ECE_209_AS_project_data/UCIHARmodels/LSTM_withresampling_4/assets\n"
          ]
        },
        {
          "output_type": "stream",
          "name": "stderr",
          "text": [
            "INFO:tensorflow:Assets written to: /content/drive/My Drive/ECE_209_AS_project_data/UCIHARmodels/LSTM_withresampling_4/assets\n"
          ]
        },
        {
          "output_type": "stream",
          "name": "stdout",
          "text": [
            "INFO:tensorflow:Assets written to: /content/drive/My Drive/ECE_209_AS_project_data/UCIHARmodels/LSTM_withresampling_4/assets\n"
          ]
        },
        {
          "output_type": "stream",
          "name": "stderr",
          "text": [
            "INFO:tensorflow:Assets written to: /content/drive/My Drive/ECE_209_AS_project_data/UCIHARmodels/LSTM_withresampling_4/assets\n"
          ]
        },
        {
          "output_type": "stream",
          "name": "stdout",
          "text": [
            "INFO:tensorflow:Assets written to: /content/drive/My Drive/ECE_209_AS_project_data/UCIHARmodels/LSTM_withresampling_4/assets\n"
          ]
        },
        {
          "output_type": "stream",
          "name": "stderr",
          "text": [
            "INFO:tensorflow:Assets written to: /content/drive/My Drive/ECE_209_AS_project_data/UCIHARmodels/LSTM_withresampling_4/assets\n"
          ]
        },
        {
          "output_type": "stream",
          "name": "stdout",
          "text": [
            "INFO:tensorflow:Assets written to: /content/drive/My Drive/ECE_209_AS_project_data/UCIHARmodels/LSTM_withresampling_4/assets\n"
          ]
        },
        {
          "output_type": "stream",
          "name": "stderr",
          "text": [
            "INFO:tensorflow:Assets written to: /content/drive/My Drive/ECE_209_AS_project_data/UCIHARmodels/LSTM_withresampling_4/assets\n"
          ]
        },
        {
          "output_type": "stream",
          "name": "stdout",
          "text": [
            "INFO:tensorflow:Assets written to: /content/drive/My Drive/ECE_209_AS_project_data/UCIHARmodels/LSTM_withresampling_4/assets\n"
          ]
        },
        {
          "output_type": "stream",
          "name": "stderr",
          "text": [
            "INFO:tensorflow:Assets written to: /content/drive/My Drive/ECE_209_AS_project_data/UCIHARmodels/LSTM_withresampling_4/assets\n"
          ]
        },
        {
          "output_type": "stream",
          "name": "stdout",
          "text": [
            "INFO:tensorflow:Assets written to: /content/drive/My Drive/ECE_209_AS_project_data/UCIHARmodels/LSTM_withresampling_4/assets\n"
          ]
        },
        {
          "output_type": "stream",
          "name": "stderr",
          "text": [
            "INFO:tensorflow:Assets written to: /content/drive/My Drive/ECE_209_AS_project_data/UCIHARmodels/LSTM_withresampling_4/assets\n"
          ]
        },
        {
          "output_type": "stream",
          "name": "stdout",
          "text": [
            "INFO:tensorflow:Assets written to: /content/drive/My Drive/ECE_209_AS_project_data/UCIHARmodels/LSTM_withresampling_4/assets\n"
          ]
        },
        {
          "output_type": "stream",
          "name": "stderr",
          "text": [
            "INFO:tensorflow:Assets written to: /content/drive/My Drive/ECE_209_AS_project_data/UCIHARmodels/LSTM_withresampling_4/assets\n"
          ]
        },
        {
          "output_type": "stream",
          "name": "stdout",
          "text": [
            "INFO:tensorflow:Assets written to: /content/drive/My Drive/ECE_209_AS_project_data/UCIHARmodels/LSTM_withresampling_4/assets\n"
          ]
        },
        {
          "output_type": "stream",
          "name": "stderr",
          "text": [
            "INFO:tensorflow:Assets written to: /content/drive/My Drive/ECE_209_AS_project_data/UCIHARmodels/LSTM_withresampling_4/assets\n"
          ]
        },
        {
          "output_type": "stream",
          "name": "stdout",
          "text": [
            "INFO:tensorflow:Assets written to: /content/drive/My Drive/ECE_209_AS_project_data/UCIHARmodels/LSTM_withresampling_4/assets\n"
          ]
        },
        {
          "output_type": "stream",
          "name": "stderr",
          "text": [
            "INFO:tensorflow:Assets written to: /content/drive/My Drive/ECE_209_AS_project_data/UCIHARmodels/LSTM_withresampling_4/assets\n"
          ]
        },
        {
          "output_type": "stream",
          "name": "stdout",
          "text": [
            "tf.Tensor(0.9127927, shape=(), dtype=float32)\n"
          ]
        }
      ],
      "id": "UUtilrEyXgDj"
    },
    {
      "cell_type": "code",
      "source": [
        "sum_ac = 0\n",
        "\n",
        "for ac in test_accuracies_resampling:\n",
        "\n",
        "  sum_ac += ac.numpy()\n",
        "\n",
        "print(f\"Mean accuracy is {round(sum_ac/len(test_accuracies_resampling), 2)}\")"
      ],
      "metadata": {
        "colab": {
          "base_uri": "https://localhost:8080/"
        },
        "outputId": "daee4798-6acd-4291-b3eb-fa68fca9611c",
        "id": "Od6AICaYXgDj"
      },
      "execution_count": null,
      "outputs": [
        {
          "output_type": "stream",
          "name": "stdout",
          "text": [
            "Mean accuracy is 0.92\n"
          ]
        }
      ],
      "id": "Od6AICaYXgDj"
    },
    {
      "cell_type": "code",
      "source": [
        "mean_recall_scores_with_resampling  = sum(recall_scores_resampling)/len(recall_scores_resampling)\n",
        "\n",
        "for i in range(len(mean_recall_scores_with_resampling)):\n",
        "\n",
        "  print(f\"Label {data_class_names[i]} has mean accuracy {round(mean_recall_scores_with_resampling[i], 2)}\")"
      ],
      "metadata": {
        "colab": {
          "base_uri": "https://localhost:8080/"
        },
        "outputId": "65187d1f-457a-4f06-eedd-d34af1b3e09c",
        "id": "gWdlo5-0XgDj"
      },
      "execution_count": null,
      "outputs": [
        {
          "output_type": "stream",
          "name": "stdout",
          "text": [
            "Label Walking has mean accuracy 0.94\n",
            "Label Stairs-Up has mean accuracy 0.96\n",
            "Label Stairs-Down has mean accuracy 1.0\n",
            "Label Sitting has mean accuracy 0.79\n",
            "Label Standing has mean accuracy 0.83\n",
            "Label Lying has mean accuracy 1.0\n"
          ]
        }
      ],
      "id": "gWdlo5-0XgDj"
    },
    {
      "cell_type": "markdown",
      "source": [
        "### Noise "
      ],
      "metadata": {
        "id": "UUv5V3qmdHiK"
      },
      "id": "UUv5V3qmdHiK"
    },
    {
      "cell_type": "code",
      "source": [
        "test_accuracies_noise = []\n",
        "recall_scores_noise = []\n",
        "\n",
        "for i in range(5):\n",
        "\n",
        "  rnd_seed = np.random.randint(1, 100)\n",
        "  seeds.append(rnd_seed)\n",
        "  tf.random.set_seed(rnd_seed)\n",
        "  indices = np.random.RandomState(seed=rnd_seed).permutation(len(X_train))\n",
        "  X_train = X_train[indices]\n",
        "  Y_train = Y_train[indices]\n",
        "\n",
        "  X_train_noise = noise((X_train))\n",
        "  Xtrain_tot=np.concatenate((X_train, X_train_noise))\n",
        "  Y_train_tot = np.concatenate((Y_train, Y_train))\n",
        "\n",
        "  train_data = Xtrain_tot[len(Xtrain_tot)//10:]\n",
        "  train_labels = Y_train_tot[len(Xtrain_tot)//10:]\n",
        "  val_data = Xtrain_tot[:len(Xtrain_tot)//10]\n",
        "  val_labels = Y_train_tot[:len(Xtrain_tot)//10]\n",
        "\n",
        "  model = keras.Model(inputs = inputs, outputs = outputs)\n",
        "  model.compile(loss = \"sparse_categorical_crossentropy\", optimizer = \"adam\", metrics=[\"accuracy\"])\n",
        "  tensorboard = keras.callbacks.TensorBoard(log_dir = path_to_logs)\n",
        "  callbacks = [keras.callbacks.ModelCheckpoint(filepath=path_to_models + f\"LSTM_withnoise_{i}\"), tensorboard]\n",
        "  history = model.fit(train_data, train_labels, epochs = 25, batch_size = 64, validation_data = (val_data, val_labels), callbacks = callbacks, class_weight = data_class_weights, verbose = False)\n",
        "\n",
        "  model_saved = keras.models.load_model(path_to_models + f\"LSTM_withnoise_{i}\")\n",
        "  test_accuracy = tf.keras.metrics.Accuracy()\n",
        "  logits = model_saved(X_test, training=False)\n",
        "  prediction = tf.argmax(logits, axis=1, output_type=tf.int32)\n",
        "  test_accuracies_noise.append(test_accuracy(prediction, Y_test))\n",
        "  print(test_accuracy(prediction, Y_test))\n",
        "  recall_scores_noise.append(recall_score(Y_test, prediction, average=None))"
      ],
      "metadata": {
        "colab": {
          "base_uri": "https://localhost:8080/"
        },
        "outputId": "d667d497-5f7f-4a2d-d486-72723dcdf305",
        "id": "njf8OupEdHiL"
      },
      "execution_count": null,
      "outputs": [
        {
          "output_type": "stream",
          "name": "stdout",
          "text": [
            "INFO:tensorflow:Assets written to: /content/drive/My Drive/ECE_209_AS_project_data/UCIHARmodels/LSTM_withnoise_0/assets\n"
          ]
        },
        {
          "output_type": "stream",
          "name": "stderr",
          "text": [
            "INFO:tensorflow:Assets written to: /content/drive/My Drive/ECE_209_AS_project_data/UCIHARmodels/LSTM_withnoise_0/assets\n"
          ]
        },
        {
          "output_type": "stream",
          "name": "stdout",
          "text": [
            "INFO:tensorflow:Assets written to: /content/drive/My Drive/ECE_209_AS_project_data/UCIHARmodels/LSTM_withnoise_0/assets\n"
          ]
        },
        {
          "output_type": "stream",
          "name": "stderr",
          "text": [
            "INFO:tensorflow:Assets written to: /content/drive/My Drive/ECE_209_AS_project_data/UCIHARmodels/LSTM_withnoise_0/assets\n"
          ]
        },
        {
          "output_type": "stream",
          "name": "stdout",
          "text": [
            "INFO:tensorflow:Assets written to: /content/drive/My Drive/ECE_209_AS_project_data/UCIHARmodels/LSTM_withnoise_0/assets\n"
          ]
        },
        {
          "output_type": "stream",
          "name": "stderr",
          "text": [
            "INFO:tensorflow:Assets written to: /content/drive/My Drive/ECE_209_AS_project_data/UCIHARmodels/LSTM_withnoise_0/assets\n"
          ]
        },
        {
          "output_type": "stream",
          "name": "stdout",
          "text": [
            "INFO:tensorflow:Assets written to: /content/drive/My Drive/ECE_209_AS_project_data/UCIHARmodels/LSTM_withnoise_0/assets\n"
          ]
        },
        {
          "output_type": "stream",
          "name": "stderr",
          "text": [
            "INFO:tensorflow:Assets written to: /content/drive/My Drive/ECE_209_AS_project_data/UCIHARmodels/LSTM_withnoise_0/assets\n"
          ]
        },
        {
          "output_type": "stream",
          "name": "stdout",
          "text": [
            "INFO:tensorflow:Assets written to: /content/drive/My Drive/ECE_209_AS_project_data/UCIHARmodels/LSTM_withnoise_0/assets\n"
          ]
        },
        {
          "output_type": "stream",
          "name": "stderr",
          "text": [
            "INFO:tensorflow:Assets written to: /content/drive/My Drive/ECE_209_AS_project_data/UCIHARmodels/LSTM_withnoise_0/assets\n"
          ]
        },
        {
          "output_type": "stream",
          "name": "stdout",
          "text": [
            "INFO:tensorflow:Assets written to: /content/drive/My Drive/ECE_209_AS_project_data/UCIHARmodels/LSTM_withnoise_0/assets\n"
          ]
        },
        {
          "output_type": "stream",
          "name": "stderr",
          "text": [
            "INFO:tensorflow:Assets written to: /content/drive/My Drive/ECE_209_AS_project_data/UCIHARmodels/LSTM_withnoise_0/assets\n"
          ]
        },
        {
          "output_type": "stream",
          "name": "stdout",
          "text": [
            "INFO:tensorflow:Assets written to: /content/drive/My Drive/ECE_209_AS_project_data/UCIHARmodels/LSTM_withnoise_0/assets\n"
          ]
        },
        {
          "output_type": "stream",
          "name": "stderr",
          "text": [
            "INFO:tensorflow:Assets written to: /content/drive/My Drive/ECE_209_AS_project_data/UCIHARmodels/LSTM_withnoise_0/assets\n"
          ]
        },
        {
          "output_type": "stream",
          "name": "stdout",
          "text": [
            "INFO:tensorflow:Assets written to: /content/drive/My Drive/ECE_209_AS_project_data/UCIHARmodels/LSTM_withnoise_0/assets\n"
          ]
        },
        {
          "output_type": "stream",
          "name": "stderr",
          "text": [
            "INFO:tensorflow:Assets written to: /content/drive/My Drive/ECE_209_AS_project_data/UCIHARmodels/LSTM_withnoise_0/assets\n"
          ]
        },
        {
          "output_type": "stream",
          "name": "stdout",
          "text": [
            "INFO:tensorflow:Assets written to: /content/drive/My Drive/ECE_209_AS_project_data/UCIHARmodels/LSTM_withnoise_0/assets\n"
          ]
        },
        {
          "output_type": "stream",
          "name": "stderr",
          "text": [
            "INFO:tensorflow:Assets written to: /content/drive/My Drive/ECE_209_AS_project_data/UCIHARmodels/LSTM_withnoise_0/assets\n"
          ]
        },
        {
          "output_type": "stream",
          "name": "stdout",
          "text": [
            "INFO:tensorflow:Assets written to: /content/drive/My Drive/ECE_209_AS_project_data/UCIHARmodels/LSTM_withnoise_0/assets\n"
          ]
        },
        {
          "output_type": "stream",
          "name": "stderr",
          "text": [
            "INFO:tensorflow:Assets written to: /content/drive/My Drive/ECE_209_AS_project_data/UCIHARmodels/LSTM_withnoise_0/assets\n"
          ]
        },
        {
          "output_type": "stream",
          "name": "stdout",
          "text": [
            "INFO:tensorflow:Assets written to: /content/drive/My Drive/ECE_209_AS_project_data/UCIHARmodels/LSTM_withnoise_0/assets\n"
          ]
        },
        {
          "output_type": "stream",
          "name": "stderr",
          "text": [
            "INFO:tensorflow:Assets written to: /content/drive/My Drive/ECE_209_AS_project_data/UCIHARmodels/LSTM_withnoise_0/assets\n"
          ]
        },
        {
          "output_type": "stream",
          "name": "stdout",
          "text": [
            "INFO:tensorflow:Assets written to: /content/drive/My Drive/ECE_209_AS_project_data/UCIHARmodels/LSTM_withnoise_0/assets\n"
          ]
        },
        {
          "output_type": "stream",
          "name": "stderr",
          "text": [
            "INFO:tensorflow:Assets written to: /content/drive/My Drive/ECE_209_AS_project_data/UCIHARmodels/LSTM_withnoise_0/assets\n"
          ]
        },
        {
          "output_type": "stream",
          "name": "stdout",
          "text": [
            "INFO:tensorflow:Assets written to: /content/drive/My Drive/ECE_209_AS_project_data/UCIHARmodels/LSTM_withnoise_0/assets\n"
          ]
        },
        {
          "output_type": "stream",
          "name": "stderr",
          "text": [
            "INFO:tensorflow:Assets written to: /content/drive/My Drive/ECE_209_AS_project_data/UCIHARmodels/LSTM_withnoise_0/assets\n"
          ]
        },
        {
          "output_type": "stream",
          "name": "stdout",
          "text": [
            "INFO:tensorflow:Assets written to: /content/drive/My Drive/ECE_209_AS_project_data/UCIHARmodels/LSTM_withnoise_0/assets\n"
          ]
        },
        {
          "output_type": "stream",
          "name": "stderr",
          "text": [
            "INFO:tensorflow:Assets written to: /content/drive/My Drive/ECE_209_AS_project_data/UCIHARmodels/LSTM_withnoise_0/assets\n"
          ]
        },
        {
          "output_type": "stream",
          "name": "stdout",
          "text": [
            "INFO:tensorflow:Assets written to: /content/drive/My Drive/ECE_209_AS_project_data/UCIHARmodels/LSTM_withnoise_0/assets\n"
          ]
        },
        {
          "output_type": "stream",
          "name": "stderr",
          "text": [
            "INFO:tensorflow:Assets written to: /content/drive/My Drive/ECE_209_AS_project_data/UCIHARmodels/LSTM_withnoise_0/assets\n"
          ]
        },
        {
          "output_type": "stream",
          "name": "stdout",
          "text": [
            "INFO:tensorflow:Assets written to: /content/drive/My Drive/ECE_209_AS_project_data/UCIHARmodels/LSTM_withnoise_0/assets\n"
          ]
        },
        {
          "output_type": "stream",
          "name": "stderr",
          "text": [
            "INFO:tensorflow:Assets written to: /content/drive/My Drive/ECE_209_AS_project_data/UCIHARmodels/LSTM_withnoise_0/assets\n"
          ]
        },
        {
          "output_type": "stream",
          "name": "stdout",
          "text": [
            "INFO:tensorflow:Assets written to: /content/drive/My Drive/ECE_209_AS_project_data/UCIHARmodels/LSTM_withnoise_0/assets\n"
          ]
        },
        {
          "output_type": "stream",
          "name": "stderr",
          "text": [
            "INFO:tensorflow:Assets written to: /content/drive/My Drive/ECE_209_AS_project_data/UCIHARmodels/LSTM_withnoise_0/assets\n"
          ]
        },
        {
          "output_type": "stream",
          "name": "stdout",
          "text": [
            "INFO:tensorflow:Assets written to: /content/drive/My Drive/ECE_209_AS_project_data/UCIHARmodels/LSTM_withnoise_0/assets\n"
          ]
        },
        {
          "output_type": "stream",
          "name": "stderr",
          "text": [
            "INFO:tensorflow:Assets written to: /content/drive/My Drive/ECE_209_AS_project_data/UCIHARmodels/LSTM_withnoise_0/assets\n"
          ]
        },
        {
          "output_type": "stream",
          "name": "stdout",
          "text": [
            "INFO:tensorflow:Assets written to: /content/drive/My Drive/ECE_209_AS_project_data/UCIHARmodels/LSTM_withnoise_0/assets\n"
          ]
        },
        {
          "output_type": "stream",
          "name": "stderr",
          "text": [
            "INFO:tensorflow:Assets written to: /content/drive/My Drive/ECE_209_AS_project_data/UCIHARmodels/LSTM_withnoise_0/assets\n"
          ]
        },
        {
          "output_type": "stream",
          "name": "stdout",
          "text": [
            "INFO:tensorflow:Assets written to: /content/drive/My Drive/ECE_209_AS_project_data/UCIHARmodels/LSTM_withnoise_0/assets\n"
          ]
        },
        {
          "output_type": "stream",
          "name": "stderr",
          "text": [
            "INFO:tensorflow:Assets written to: /content/drive/My Drive/ECE_209_AS_project_data/UCIHARmodels/LSTM_withnoise_0/assets\n"
          ]
        },
        {
          "output_type": "stream",
          "name": "stdout",
          "text": [
            "INFO:tensorflow:Assets written to: /content/drive/My Drive/ECE_209_AS_project_data/UCIHARmodels/LSTM_withnoise_0/assets\n"
          ]
        },
        {
          "output_type": "stream",
          "name": "stderr",
          "text": [
            "INFO:tensorflow:Assets written to: /content/drive/My Drive/ECE_209_AS_project_data/UCIHARmodels/LSTM_withnoise_0/assets\n"
          ]
        },
        {
          "output_type": "stream",
          "name": "stdout",
          "text": [
            "INFO:tensorflow:Assets written to: /content/drive/My Drive/ECE_209_AS_project_data/UCIHARmodels/LSTM_withnoise_0/assets\n"
          ]
        },
        {
          "output_type": "stream",
          "name": "stderr",
          "text": [
            "INFO:tensorflow:Assets written to: /content/drive/My Drive/ECE_209_AS_project_data/UCIHARmodels/LSTM_withnoise_0/assets\n"
          ]
        },
        {
          "output_type": "stream",
          "name": "stdout",
          "text": [
            "INFO:tensorflow:Assets written to: /content/drive/My Drive/ECE_209_AS_project_data/UCIHARmodels/LSTM_withnoise_0/assets\n"
          ]
        },
        {
          "output_type": "stream",
          "name": "stderr",
          "text": [
            "INFO:tensorflow:Assets written to: /content/drive/My Drive/ECE_209_AS_project_data/UCIHARmodels/LSTM_withnoise_0/assets\n"
          ]
        },
        {
          "output_type": "stream",
          "name": "stdout",
          "text": [
            "INFO:tensorflow:Assets written to: /content/drive/My Drive/ECE_209_AS_project_data/UCIHARmodels/LSTM_withnoise_0/assets\n"
          ]
        },
        {
          "output_type": "stream",
          "name": "stderr",
          "text": [
            "INFO:tensorflow:Assets written to: /content/drive/My Drive/ECE_209_AS_project_data/UCIHARmodels/LSTM_withnoise_0/assets\n"
          ]
        },
        {
          "output_type": "stream",
          "name": "stdout",
          "text": [
            "INFO:tensorflow:Assets written to: /content/drive/My Drive/ECE_209_AS_project_data/UCIHARmodels/LSTM_withnoise_0/assets\n"
          ]
        },
        {
          "output_type": "stream",
          "name": "stderr",
          "text": [
            "INFO:tensorflow:Assets written to: /content/drive/My Drive/ECE_209_AS_project_data/UCIHARmodels/LSTM_withnoise_0/assets\n"
          ]
        },
        {
          "output_type": "stream",
          "name": "stdout",
          "text": [
            "tf.Tensor(0.90770274, shape=(), dtype=float32)\n",
            "INFO:tensorflow:Assets written to: /content/drive/My Drive/ECE_209_AS_project_data/UCIHARmodels/LSTM_withnoise_1/assets\n"
          ]
        },
        {
          "output_type": "stream",
          "name": "stderr",
          "text": [
            "INFO:tensorflow:Assets written to: /content/drive/My Drive/ECE_209_AS_project_data/UCIHARmodels/LSTM_withnoise_1/assets\n"
          ]
        },
        {
          "output_type": "stream",
          "name": "stdout",
          "text": [
            "INFO:tensorflow:Assets written to: /content/drive/My Drive/ECE_209_AS_project_data/UCIHARmodels/LSTM_withnoise_1/assets\n"
          ]
        },
        {
          "output_type": "stream",
          "name": "stderr",
          "text": [
            "INFO:tensorflow:Assets written to: /content/drive/My Drive/ECE_209_AS_project_data/UCIHARmodels/LSTM_withnoise_1/assets\n"
          ]
        },
        {
          "output_type": "stream",
          "name": "stdout",
          "text": [
            "INFO:tensorflow:Assets written to: /content/drive/My Drive/ECE_209_AS_project_data/UCIHARmodels/LSTM_withnoise_1/assets\n"
          ]
        },
        {
          "output_type": "stream",
          "name": "stderr",
          "text": [
            "INFO:tensorflow:Assets written to: /content/drive/My Drive/ECE_209_AS_project_data/UCIHARmodels/LSTM_withnoise_1/assets\n"
          ]
        },
        {
          "output_type": "stream",
          "name": "stdout",
          "text": [
            "INFO:tensorflow:Assets written to: /content/drive/My Drive/ECE_209_AS_project_data/UCIHARmodels/LSTM_withnoise_1/assets\n"
          ]
        },
        {
          "output_type": "stream",
          "name": "stderr",
          "text": [
            "INFO:tensorflow:Assets written to: /content/drive/My Drive/ECE_209_AS_project_data/UCIHARmodels/LSTM_withnoise_1/assets\n"
          ]
        },
        {
          "output_type": "stream",
          "name": "stdout",
          "text": [
            "INFO:tensorflow:Assets written to: /content/drive/My Drive/ECE_209_AS_project_data/UCIHARmodels/LSTM_withnoise_1/assets\n"
          ]
        },
        {
          "output_type": "stream",
          "name": "stderr",
          "text": [
            "INFO:tensorflow:Assets written to: /content/drive/My Drive/ECE_209_AS_project_data/UCIHARmodels/LSTM_withnoise_1/assets\n"
          ]
        },
        {
          "output_type": "stream",
          "name": "stdout",
          "text": [
            "INFO:tensorflow:Assets written to: /content/drive/My Drive/ECE_209_AS_project_data/UCIHARmodels/LSTM_withnoise_1/assets\n"
          ]
        },
        {
          "output_type": "stream",
          "name": "stderr",
          "text": [
            "INFO:tensorflow:Assets written to: /content/drive/My Drive/ECE_209_AS_project_data/UCIHARmodels/LSTM_withnoise_1/assets\n"
          ]
        },
        {
          "output_type": "stream",
          "name": "stdout",
          "text": [
            "INFO:tensorflow:Assets written to: /content/drive/My Drive/ECE_209_AS_project_data/UCIHARmodels/LSTM_withnoise_1/assets\n"
          ]
        },
        {
          "output_type": "stream",
          "name": "stderr",
          "text": [
            "INFO:tensorflow:Assets written to: /content/drive/My Drive/ECE_209_AS_project_data/UCIHARmodels/LSTM_withnoise_1/assets\n"
          ]
        },
        {
          "output_type": "stream",
          "name": "stdout",
          "text": [
            "INFO:tensorflow:Assets written to: /content/drive/My Drive/ECE_209_AS_project_data/UCIHARmodels/LSTM_withnoise_1/assets\n"
          ]
        },
        {
          "output_type": "stream",
          "name": "stderr",
          "text": [
            "INFO:tensorflow:Assets written to: /content/drive/My Drive/ECE_209_AS_project_data/UCIHARmodels/LSTM_withnoise_1/assets\n"
          ]
        },
        {
          "output_type": "stream",
          "name": "stdout",
          "text": [
            "INFO:tensorflow:Assets written to: /content/drive/My Drive/ECE_209_AS_project_data/UCIHARmodels/LSTM_withnoise_1/assets\n"
          ]
        },
        {
          "output_type": "stream",
          "name": "stderr",
          "text": [
            "INFO:tensorflow:Assets written to: /content/drive/My Drive/ECE_209_AS_project_data/UCIHARmodels/LSTM_withnoise_1/assets\n"
          ]
        },
        {
          "output_type": "stream",
          "name": "stdout",
          "text": [
            "INFO:tensorflow:Assets written to: /content/drive/My Drive/ECE_209_AS_project_data/UCIHARmodels/LSTM_withnoise_1/assets\n"
          ]
        },
        {
          "output_type": "stream",
          "name": "stderr",
          "text": [
            "INFO:tensorflow:Assets written to: /content/drive/My Drive/ECE_209_AS_project_data/UCIHARmodels/LSTM_withnoise_1/assets\n"
          ]
        },
        {
          "output_type": "stream",
          "name": "stdout",
          "text": [
            "INFO:tensorflow:Assets written to: /content/drive/My Drive/ECE_209_AS_project_data/UCIHARmodels/LSTM_withnoise_1/assets\n"
          ]
        },
        {
          "output_type": "stream",
          "name": "stderr",
          "text": [
            "INFO:tensorflow:Assets written to: /content/drive/My Drive/ECE_209_AS_project_data/UCIHARmodels/LSTM_withnoise_1/assets\n"
          ]
        },
        {
          "output_type": "stream",
          "name": "stdout",
          "text": [
            "INFO:tensorflow:Assets written to: /content/drive/My Drive/ECE_209_AS_project_data/UCIHARmodels/LSTM_withnoise_1/assets\n"
          ]
        },
        {
          "output_type": "stream",
          "name": "stderr",
          "text": [
            "INFO:tensorflow:Assets written to: /content/drive/My Drive/ECE_209_AS_project_data/UCIHARmodels/LSTM_withnoise_1/assets\n"
          ]
        },
        {
          "output_type": "stream",
          "name": "stdout",
          "text": [
            "INFO:tensorflow:Assets written to: /content/drive/My Drive/ECE_209_AS_project_data/UCIHARmodels/LSTM_withnoise_1/assets\n"
          ]
        },
        {
          "output_type": "stream",
          "name": "stderr",
          "text": [
            "INFO:tensorflow:Assets written to: /content/drive/My Drive/ECE_209_AS_project_data/UCIHARmodels/LSTM_withnoise_1/assets\n"
          ]
        },
        {
          "output_type": "stream",
          "name": "stdout",
          "text": [
            "INFO:tensorflow:Assets written to: /content/drive/My Drive/ECE_209_AS_project_data/UCIHARmodels/LSTM_withnoise_1/assets\n"
          ]
        },
        {
          "output_type": "stream",
          "name": "stderr",
          "text": [
            "INFO:tensorflow:Assets written to: /content/drive/My Drive/ECE_209_AS_project_data/UCIHARmodels/LSTM_withnoise_1/assets\n"
          ]
        },
        {
          "output_type": "stream",
          "name": "stdout",
          "text": [
            "INFO:tensorflow:Assets written to: /content/drive/My Drive/ECE_209_AS_project_data/UCIHARmodels/LSTM_withnoise_1/assets\n"
          ]
        },
        {
          "output_type": "stream",
          "name": "stderr",
          "text": [
            "INFO:tensorflow:Assets written to: /content/drive/My Drive/ECE_209_AS_project_data/UCIHARmodels/LSTM_withnoise_1/assets\n"
          ]
        },
        {
          "output_type": "stream",
          "name": "stdout",
          "text": [
            "INFO:tensorflow:Assets written to: /content/drive/My Drive/ECE_209_AS_project_data/UCIHARmodels/LSTM_withnoise_1/assets\n"
          ]
        },
        {
          "output_type": "stream",
          "name": "stderr",
          "text": [
            "INFO:tensorflow:Assets written to: /content/drive/My Drive/ECE_209_AS_project_data/UCIHARmodels/LSTM_withnoise_1/assets\n"
          ]
        },
        {
          "output_type": "stream",
          "name": "stdout",
          "text": [
            "INFO:tensorflow:Assets written to: /content/drive/My Drive/ECE_209_AS_project_data/UCIHARmodels/LSTM_withnoise_1/assets\n"
          ]
        },
        {
          "output_type": "stream",
          "name": "stderr",
          "text": [
            "INFO:tensorflow:Assets written to: /content/drive/My Drive/ECE_209_AS_project_data/UCIHARmodels/LSTM_withnoise_1/assets\n"
          ]
        },
        {
          "output_type": "stream",
          "name": "stdout",
          "text": [
            "INFO:tensorflow:Assets written to: /content/drive/My Drive/ECE_209_AS_project_data/UCIHARmodels/LSTM_withnoise_1/assets\n"
          ]
        },
        {
          "output_type": "stream",
          "name": "stderr",
          "text": [
            "INFO:tensorflow:Assets written to: /content/drive/My Drive/ECE_209_AS_project_data/UCIHARmodels/LSTM_withnoise_1/assets\n"
          ]
        },
        {
          "output_type": "stream",
          "name": "stdout",
          "text": [
            "INFO:tensorflow:Assets written to: /content/drive/My Drive/ECE_209_AS_project_data/UCIHARmodels/LSTM_withnoise_1/assets\n"
          ]
        },
        {
          "output_type": "stream",
          "name": "stderr",
          "text": [
            "INFO:tensorflow:Assets written to: /content/drive/My Drive/ECE_209_AS_project_data/UCIHARmodels/LSTM_withnoise_1/assets\n"
          ]
        },
        {
          "output_type": "stream",
          "name": "stdout",
          "text": [
            "INFO:tensorflow:Assets written to: /content/drive/My Drive/ECE_209_AS_project_data/UCIHARmodels/LSTM_withnoise_1/assets\n"
          ]
        },
        {
          "output_type": "stream",
          "name": "stderr",
          "text": [
            "INFO:tensorflow:Assets written to: /content/drive/My Drive/ECE_209_AS_project_data/UCIHARmodels/LSTM_withnoise_1/assets\n"
          ]
        },
        {
          "output_type": "stream",
          "name": "stdout",
          "text": [
            "INFO:tensorflow:Assets written to: /content/drive/My Drive/ECE_209_AS_project_data/UCIHARmodels/LSTM_withnoise_1/assets\n"
          ]
        },
        {
          "output_type": "stream",
          "name": "stderr",
          "text": [
            "INFO:tensorflow:Assets written to: /content/drive/My Drive/ECE_209_AS_project_data/UCIHARmodels/LSTM_withnoise_1/assets\n"
          ]
        },
        {
          "output_type": "stream",
          "name": "stdout",
          "text": [
            "INFO:tensorflow:Assets written to: /content/drive/My Drive/ECE_209_AS_project_data/UCIHARmodels/LSTM_withnoise_1/assets\n"
          ]
        },
        {
          "output_type": "stream",
          "name": "stderr",
          "text": [
            "INFO:tensorflow:Assets written to: /content/drive/My Drive/ECE_209_AS_project_data/UCIHARmodels/LSTM_withnoise_1/assets\n"
          ]
        },
        {
          "output_type": "stream",
          "name": "stdout",
          "text": [
            "INFO:tensorflow:Assets written to: /content/drive/My Drive/ECE_209_AS_project_data/UCIHARmodels/LSTM_withnoise_1/assets\n"
          ]
        },
        {
          "output_type": "stream",
          "name": "stderr",
          "text": [
            "INFO:tensorflow:Assets written to: /content/drive/My Drive/ECE_209_AS_project_data/UCIHARmodels/LSTM_withnoise_1/assets\n"
          ]
        },
        {
          "output_type": "stream",
          "name": "stdout",
          "text": [
            "INFO:tensorflow:Assets written to: /content/drive/My Drive/ECE_209_AS_project_data/UCIHARmodels/LSTM_withnoise_1/assets\n"
          ]
        },
        {
          "output_type": "stream",
          "name": "stderr",
          "text": [
            "INFO:tensorflow:Assets written to: /content/drive/My Drive/ECE_209_AS_project_data/UCIHARmodels/LSTM_withnoise_1/assets\n"
          ]
        },
        {
          "output_type": "stream",
          "name": "stdout",
          "text": [
            "INFO:tensorflow:Assets written to: /content/drive/My Drive/ECE_209_AS_project_data/UCIHARmodels/LSTM_withnoise_1/assets\n"
          ]
        },
        {
          "output_type": "stream",
          "name": "stderr",
          "text": [
            "INFO:tensorflow:Assets written to: /content/drive/My Drive/ECE_209_AS_project_data/UCIHARmodels/LSTM_withnoise_1/assets\n"
          ]
        },
        {
          "output_type": "stream",
          "name": "stdout",
          "text": [
            "tf.Tensor(0.9036308, shape=(), dtype=float32)\n",
            "INFO:tensorflow:Assets written to: /content/drive/My Drive/ECE_209_AS_project_data/UCIHARmodels/LSTM_withnoise_2/assets\n"
          ]
        },
        {
          "output_type": "stream",
          "name": "stderr",
          "text": [
            "INFO:tensorflow:Assets written to: /content/drive/My Drive/ECE_209_AS_project_data/UCIHARmodels/LSTM_withnoise_2/assets\n"
          ]
        },
        {
          "output_type": "stream",
          "name": "stdout",
          "text": [
            "INFO:tensorflow:Assets written to: /content/drive/My Drive/ECE_209_AS_project_data/UCIHARmodels/LSTM_withnoise_2/assets\n"
          ]
        },
        {
          "output_type": "stream",
          "name": "stderr",
          "text": [
            "INFO:tensorflow:Assets written to: /content/drive/My Drive/ECE_209_AS_project_data/UCIHARmodels/LSTM_withnoise_2/assets\n"
          ]
        },
        {
          "output_type": "stream",
          "name": "stdout",
          "text": [
            "INFO:tensorflow:Assets written to: /content/drive/My Drive/ECE_209_AS_project_data/UCIHARmodels/LSTM_withnoise_2/assets\n"
          ]
        },
        {
          "output_type": "stream",
          "name": "stderr",
          "text": [
            "INFO:tensorflow:Assets written to: /content/drive/My Drive/ECE_209_AS_project_data/UCIHARmodels/LSTM_withnoise_2/assets\n"
          ]
        },
        {
          "output_type": "stream",
          "name": "stdout",
          "text": [
            "INFO:tensorflow:Assets written to: /content/drive/My Drive/ECE_209_AS_project_data/UCIHARmodels/LSTM_withnoise_2/assets\n"
          ]
        },
        {
          "output_type": "stream",
          "name": "stderr",
          "text": [
            "INFO:tensorflow:Assets written to: /content/drive/My Drive/ECE_209_AS_project_data/UCIHARmodels/LSTM_withnoise_2/assets\n"
          ]
        },
        {
          "output_type": "stream",
          "name": "stdout",
          "text": [
            "INFO:tensorflow:Assets written to: /content/drive/My Drive/ECE_209_AS_project_data/UCIHARmodels/LSTM_withnoise_2/assets\n"
          ]
        },
        {
          "output_type": "stream",
          "name": "stderr",
          "text": [
            "INFO:tensorflow:Assets written to: /content/drive/My Drive/ECE_209_AS_project_data/UCIHARmodels/LSTM_withnoise_2/assets\n"
          ]
        },
        {
          "output_type": "stream",
          "name": "stdout",
          "text": [
            "INFO:tensorflow:Assets written to: /content/drive/My Drive/ECE_209_AS_project_data/UCIHARmodels/LSTM_withnoise_2/assets\n"
          ]
        },
        {
          "output_type": "stream",
          "name": "stderr",
          "text": [
            "INFO:tensorflow:Assets written to: /content/drive/My Drive/ECE_209_AS_project_data/UCIHARmodels/LSTM_withnoise_2/assets\n"
          ]
        },
        {
          "output_type": "stream",
          "name": "stdout",
          "text": [
            "INFO:tensorflow:Assets written to: /content/drive/My Drive/ECE_209_AS_project_data/UCIHARmodels/LSTM_withnoise_2/assets\n"
          ]
        },
        {
          "output_type": "stream",
          "name": "stderr",
          "text": [
            "INFO:tensorflow:Assets written to: /content/drive/My Drive/ECE_209_AS_project_data/UCIHARmodels/LSTM_withnoise_2/assets\n"
          ]
        },
        {
          "output_type": "stream",
          "name": "stdout",
          "text": [
            "INFO:tensorflow:Assets written to: /content/drive/My Drive/ECE_209_AS_project_data/UCIHARmodels/LSTM_withnoise_2/assets\n"
          ]
        },
        {
          "output_type": "stream",
          "name": "stderr",
          "text": [
            "INFO:tensorflow:Assets written to: /content/drive/My Drive/ECE_209_AS_project_data/UCIHARmodels/LSTM_withnoise_2/assets\n"
          ]
        },
        {
          "output_type": "stream",
          "name": "stdout",
          "text": [
            "INFO:tensorflow:Assets written to: /content/drive/My Drive/ECE_209_AS_project_data/UCIHARmodels/LSTM_withnoise_2/assets\n"
          ]
        },
        {
          "output_type": "stream",
          "name": "stderr",
          "text": [
            "INFO:tensorflow:Assets written to: /content/drive/My Drive/ECE_209_AS_project_data/UCIHARmodels/LSTM_withnoise_2/assets\n"
          ]
        },
        {
          "output_type": "stream",
          "name": "stdout",
          "text": [
            "INFO:tensorflow:Assets written to: /content/drive/My Drive/ECE_209_AS_project_data/UCIHARmodels/LSTM_withnoise_2/assets\n"
          ]
        },
        {
          "output_type": "stream",
          "name": "stderr",
          "text": [
            "INFO:tensorflow:Assets written to: /content/drive/My Drive/ECE_209_AS_project_data/UCIHARmodels/LSTM_withnoise_2/assets\n"
          ]
        },
        {
          "output_type": "stream",
          "name": "stdout",
          "text": [
            "INFO:tensorflow:Assets written to: /content/drive/My Drive/ECE_209_AS_project_data/UCIHARmodels/LSTM_withnoise_2/assets\n"
          ]
        },
        {
          "output_type": "stream",
          "name": "stderr",
          "text": [
            "INFO:tensorflow:Assets written to: /content/drive/My Drive/ECE_209_AS_project_data/UCIHARmodels/LSTM_withnoise_2/assets\n"
          ]
        },
        {
          "output_type": "stream",
          "name": "stdout",
          "text": [
            "INFO:tensorflow:Assets written to: /content/drive/My Drive/ECE_209_AS_project_data/UCIHARmodels/LSTM_withnoise_2/assets\n"
          ]
        },
        {
          "output_type": "stream",
          "name": "stderr",
          "text": [
            "INFO:tensorflow:Assets written to: /content/drive/My Drive/ECE_209_AS_project_data/UCIHARmodels/LSTM_withnoise_2/assets\n"
          ]
        },
        {
          "output_type": "stream",
          "name": "stdout",
          "text": [
            "INFO:tensorflow:Assets written to: /content/drive/My Drive/ECE_209_AS_project_data/UCIHARmodels/LSTM_withnoise_2/assets\n"
          ]
        },
        {
          "output_type": "stream",
          "name": "stderr",
          "text": [
            "INFO:tensorflow:Assets written to: /content/drive/My Drive/ECE_209_AS_project_data/UCIHARmodels/LSTM_withnoise_2/assets\n"
          ]
        },
        {
          "output_type": "stream",
          "name": "stdout",
          "text": [
            "INFO:tensorflow:Assets written to: /content/drive/My Drive/ECE_209_AS_project_data/UCIHARmodels/LSTM_withnoise_2/assets\n"
          ]
        },
        {
          "output_type": "stream",
          "name": "stderr",
          "text": [
            "INFO:tensorflow:Assets written to: /content/drive/My Drive/ECE_209_AS_project_data/UCIHARmodels/LSTM_withnoise_2/assets\n"
          ]
        },
        {
          "output_type": "stream",
          "name": "stdout",
          "text": [
            "INFO:tensorflow:Assets written to: /content/drive/My Drive/ECE_209_AS_project_data/UCIHARmodels/LSTM_withnoise_2/assets\n"
          ]
        },
        {
          "output_type": "stream",
          "name": "stderr",
          "text": [
            "INFO:tensorflow:Assets written to: /content/drive/My Drive/ECE_209_AS_project_data/UCIHARmodels/LSTM_withnoise_2/assets\n"
          ]
        },
        {
          "output_type": "stream",
          "name": "stdout",
          "text": [
            "INFO:tensorflow:Assets written to: /content/drive/My Drive/ECE_209_AS_project_data/UCIHARmodels/LSTM_withnoise_2/assets\n"
          ]
        },
        {
          "output_type": "stream",
          "name": "stderr",
          "text": [
            "INFO:tensorflow:Assets written to: /content/drive/My Drive/ECE_209_AS_project_data/UCIHARmodels/LSTM_withnoise_2/assets\n"
          ]
        },
        {
          "output_type": "stream",
          "name": "stdout",
          "text": [
            "INFO:tensorflow:Assets written to: /content/drive/My Drive/ECE_209_AS_project_data/UCIHARmodels/LSTM_withnoise_2/assets\n"
          ]
        },
        {
          "output_type": "stream",
          "name": "stderr",
          "text": [
            "INFO:tensorflow:Assets written to: /content/drive/My Drive/ECE_209_AS_project_data/UCIHARmodels/LSTM_withnoise_2/assets\n"
          ]
        },
        {
          "output_type": "stream",
          "name": "stdout",
          "text": [
            "INFO:tensorflow:Assets written to: /content/drive/My Drive/ECE_209_AS_project_data/UCIHARmodels/LSTM_withnoise_2/assets\n"
          ]
        },
        {
          "output_type": "stream",
          "name": "stderr",
          "text": [
            "INFO:tensorflow:Assets written to: /content/drive/My Drive/ECE_209_AS_project_data/UCIHARmodels/LSTM_withnoise_2/assets\n"
          ]
        },
        {
          "output_type": "stream",
          "name": "stdout",
          "text": [
            "INFO:tensorflow:Assets written to: /content/drive/My Drive/ECE_209_AS_project_data/UCIHARmodels/LSTM_withnoise_2/assets\n"
          ]
        },
        {
          "output_type": "stream",
          "name": "stderr",
          "text": [
            "INFO:tensorflow:Assets written to: /content/drive/My Drive/ECE_209_AS_project_data/UCIHARmodels/LSTM_withnoise_2/assets\n"
          ]
        },
        {
          "output_type": "stream",
          "name": "stdout",
          "text": [
            "INFO:tensorflow:Assets written to: /content/drive/My Drive/ECE_209_AS_project_data/UCIHARmodels/LSTM_withnoise_2/assets\n"
          ]
        },
        {
          "output_type": "stream",
          "name": "stderr",
          "text": [
            "INFO:tensorflow:Assets written to: /content/drive/My Drive/ECE_209_AS_project_data/UCIHARmodels/LSTM_withnoise_2/assets\n"
          ]
        },
        {
          "output_type": "stream",
          "name": "stdout",
          "text": [
            "INFO:tensorflow:Assets written to: /content/drive/My Drive/ECE_209_AS_project_data/UCIHARmodels/LSTM_withnoise_2/assets\n"
          ]
        },
        {
          "output_type": "stream",
          "name": "stderr",
          "text": [
            "INFO:tensorflow:Assets written to: /content/drive/My Drive/ECE_209_AS_project_data/UCIHARmodels/LSTM_withnoise_2/assets\n"
          ]
        },
        {
          "output_type": "stream",
          "name": "stdout",
          "text": [
            "INFO:tensorflow:Assets written to: /content/drive/My Drive/ECE_209_AS_project_data/UCIHARmodels/LSTM_withnoise_2/assets\n"
          ]
        },
        {
          "output_type": "stream",
          "name": "stderr",
          "text": [
            "INFO:tensorflow:Assets written to: /content/drive/My Drive/ECE_209_AS_project_data/UCIHARmodels/LSTM_withnoise_2/assets\n"
          ]
        },
        {
          "output_type": "stream",
          "name": "stdout",
          "text": [
            "INFO:tensorflow:Assets written to: /content/drive/My Drive/ECE_209_AS_project_data/UCIHARmodels/LSTM_withnoise_2/assets\n"
          ]
        },
        {
          "output_type": "stream",
          "name": "stderr",
          "text": [
            "INFO:tensorflow:Assets written to: /content/drive/My Drive/ECE_209_AS_project_data/UCIHARmodels/LSTM_withnoise_2/assets\n"
          ]
        },
        {
          "output_type": "stream",
          "name": "stdout",
          "text": [
            "INFO:tensorflow:Assets written to: /content/drive/My Drive/ECE_209_AS_project_data/UCIHARmodels/LSTM_withnoise_2/assets\n"
          ]
        },
        {
          "output_type": "stream",
          "name": "stderr",
          "text": [
            "INFO:tensorflow:Assets written to: /content/drive/My Drive/ECE_209_AS_project_data/UCIHARmodels/LSTM_withnoise_2/assets\n"
          ]
        },
        {
          "output_type": "stream",
          "name": "stdout",
          "text": [
            "INFO:tensorflow:Assets written to: /content/drive/My Drive/ECE_209_AS_project_data/UCIHARmodels/LSTM_withnoise_2/assets\n"
          ]
        },
        {
          "output_type": "stream",
          "name": "stderr",
          "text": [
            "INFO:tensorflow:Assets written to: /content/drive/My Drive/ECE_209_AS_project_data/UCIHARmodels/LSTM_withnoise_2/assets\n"
          ]
        },
        {
          "output_type": "stream",
          "name": "stdout",
          "text": [
            "tf.Tensor(0.9097387, shape=(), dtype=float32)\n",
            "INFO:tensorflow:Assets written to: /content/drive/My Drive/ECE_209_AS_project_data/UCIHARmodels/LSTM_withnoise_3/assets\n"
          ]
        },
        {
          "output_type": "stream",
          "name": "stderr",
          "text": [
            "INFO:tensorflow:Assets written to: /content/drive/My Drive/ECE_209_AS_project_data/UCIHARmodels/LSTM_withnoise_3/assets\n"
          ]
        },
        {
          "output_type": "stream",
          "name": "stdout",
          "text": [
            "INFO:tensorflow:Assets written to: /content/drive/My Drive/ECE_209_AS_project_data/UCIHARmodels/LSTM_withnoise_3/assets\n"
          ]
        },
        {
          "output_type": "stream",
          "name": "stderr",
          "text": [
            "INFO:tensorflow:Assets written to: /content/drive/My Drive/ECE_209_AS_project_data/UCIHARmodels/LSTM_withnoise_3/assets\n"
          ]
        },
        {
          "output_type": "stream",
          "name": "stdout",
          "text": [
            "INFO:tensorflow:Assets written to: /content/drive/My Drive/ECE_209_AS_project_data/UCIHARmodels/LSTM_withnoise_3/assets\n"
          ]
        },
        {
          "output_type": "stream",
          "name": "stderr",
          "text": [
            "INFO:tensorflow:Assets written to: /content/drive/My Drive/ECE_209_AS_project_data/UCIHARmodels/LSTM_withnoise_3/assets\n"
          ]
        },
        {
          "output_type": "stream",
          "name": "stdout",
          "text": [
            "INFO:tensorflow:Assets written to: /content/drive/My Drive/ECE_209_AS_project_data/UCIHARmodels/LSTM_withnoise_3/assets\n"
          ]
        },
        {
          "output_type": "stream",
          "name": "stderr",
          "text": [
            "INFO:tensorflow:Assets written to: /content/drive/My Drive/ECE_209_AS_project_data/UCIHARmodels/LSTM_withnoise_3/assets\n"
          ]
        },
        {
          "output_type": "stream",
          "name": "stdout",
          "text": [
            "INFO:tensorflow:Assets written to: /content/drive/My Drive/ECE_209_AS_project_data/UCIHARmodels/LSTM_withnoise_3/assets\n"
          ]
        },
        {
          "output_type": "stream",
          "name": "stderr",
          "text": [
            "INFO:tensorflow:Assets written to: /content/drive/My Drive/ECE_209_AS_project_data/UCIHARmodels/LSTM_withnoise_3/assets\n"
          ]
        },
        {
          "output_type": "stream",
          "name": "stdout",
          "text": [
            "INFO:tensorflow:Assets written to: /content/drive/My Drive/ECE_209_AS_project_data/UCIHARmodels/LSTM_withnoise_3/assets\n"
          ]
        },
        {
          "output_type": "stream",
          "name": "stderr",
          "text": [
            "INFO:tensorflow:Assets written to: /content/drive/My Drive/ECE_209_AS_project_data/UCIHARmodels/LSTM_withnoise_3/assets\n"
          ]
        },
        {
          "output_type": "stream",
          "name": "stdout",
          "text": [
            "INFO:tensorflow:Assets written to: /content/drive/My Drive/ECE_209_AS_project_data/UCIHARmodels/LSTM_withnoise_3/assets\n"
          ]
        },
        {
          "output_type": "stream",
          "name": "stderr",
          "text": [
            "INFO:tensorflow:Assets written to: /content/drive/My Drive/ECE_209_AS_project_data/UCIHARmodels/LSTM_withnoise_3/assets\n"
          ]
        },
        {
          "output_type": "stream",
          "name": "stdout",
          "text": [
            "INFO:tensorflow:Assets written to: /content/drive/My Drive/ECE_209_AS_project_data/UCIHARmodels/LSTM_withnoise_3/assets\n"
          ]
        },
        {
          "output_type": "stream",
          "name": "stderr",
          "text": [
            "INFO:tensorflow:Assets written to: /content/drive/My Drive/ECE_209_AS_project_data/UCIHARmodels/LSTM_withnoise_3/assets\n"
          ]
        },
        {
          "output_type": "stream",
          "name": "stdout",
          "text": [
            "INFO:tensorflow:Assets written to: /content/drive/My Drive/ECE_209_AS_project_data/UCIHARmodels/LSTM_withnoise_3/assets\n"
          ]
        },
        {
          "output_type": "stream",
          "name": "stderr",
          "text": [
            "INFO:tensorflow:Assets written to: /content/drive/My Drive/ECE_209_AS_project_data/UCIHARmodels/LSTM_withnoise_3/assets\n"
          ]
        },
        {
          "output_type": "stream",
          "name": "stdout",
          "text": [
            "INFO:tensorflow:Assets written to: /content/drive/My Drive/ECE_209_AS_project_data/UCIHARmodels/LSTM_withnoise_3/assets\n"
          ]
        },
        {
          "output_type": "stream",
          "name": "stderr",
          "text": [
            "INFO:tensorflow:Assets written to: /content/drive/My Drive/ECE_209_AS_project_data/UCIHARmodels/LSTM_withnoise_3/assets\n"
          ]
        },
        {
          "output_type": "stream",
          "name": "stdout",
          "text": [
            "INFO:tensorflow:Assets written to: /content/drive/My Drive/ECE_209_AS_project_data/UCIHARmodels/LSTM_withnoise_3/assets\n"
          ]
        },
        {
          "output_type": "stream",
          "name": "stderr",
          "text": [
            "INFO:tensorflow:Assets written to: /content/drive/My Drive/ECE_209_AS_project_data/UCIHARmodels/LSTM_withnoise_3/assets\n"
          ]
        },
        {
          "output_type": "stream",
          "name": "stdout",
          "text": [
            "INFO:tensorflow:Assets written to: /content/drive/My Drive/ECE_209_AS_project_data/UCIHARmodels/LSTM_withnoise_3/assets\n"
          ]
        },
        {
          "output_type": "stream",
          "name": "stderr",
          "text": [
            "INFO:tensorflow:Assets written to: /content/drive/My Drive/ECE_209_AS_project_data/UCIHARmodels/LSTM_withnoise_3/assets\n"
          ]
        },
        {
          "output_type": "stream",
          "name": "stdout",
          "text": [
            "INFO:tensorflow:Assets written to: /content/drive/My Drive/ECE_209_AS_project_data/UCIHARmodels/LSTM_withnoise_3/assets\n"
          ]
        },
        {
          "output_type": "stream",
          "name": "stderr",
          "text": [
            "INFO:tensorflow:Assets written to: /content/drive/My Drive/ECE_209_AS_project_data/UCIHARmodels/LSTM_withnoise_3/assets\n"
          ]
        },
        {
          "output_type": "stream",
          "name": "stdout",
          "text": [
            "INFO:tensorflow:Assets written to: /content/drive/My Drive/ECE_209_AS_project_data/UCIHARmodels/LSTM_withnoise_3/assets\n"
          ]
        },
        {
          "output_type": "stream",
          "name": "stderr",
          "text": [
            "INFO:tensorflow:Assets written to: /content/drive/My Drive/ECE_209_AS_project_data/UCIHARmodels/LSTM_withnoise_3/assets\n"
          ]
        },
        {
          "output_type": "stream",
          "name": "stdout",
          "text": [
            "INFO:tensorflow:Assets written to: /content/drive/My Drive/ECE_209_AS_project_data/UCIHARmodels/LSTM_withnoise_3/assets\n"
          ]
        },
        {
          "output_type": "stream",
          "name": "stderr",
          "text": [
            "INFO:tensorflow:Assets written to: /content/drive/My Drive/ECE_209_AS_project_data/UCIHARmodels/LSTM_withnoise_3/assets\n"
          ]
        },
        {
          "output_type": "stream",
          "name": "stdout",
          "text": [
            "INFO:tensorflow:Assets written to: /content/drive/My Drive/ECE_209_AS_project_data/UCIHARmodels/LSTM_withnoise_3/assets\n"
          ]
        },
        {
          "output_type": "stream",
          "name": "stderr",
          "text": [
            "INFO:tensorflow:Assets written to: /content/drive/My Drive/ECE_209_AS_project_data/UCIHARmodels/LSTM_withnoise_3/assets\n"
          ]
        },
        {
          "output_type": "stream",
          "name": "stdout",
          "text": [
            "INFO:tensorflow:Assets written to: /content/drive/My Drive/ECE_209_AS_project_data/UCIHARmodels/LSTM_withnoise_3/assets\n"
          ]
        },
        {
          "output_type": "stream",
          "name": "stderr",
          "text": [
            "INFO:tensorflow:Assets written to: /content/drive/My Drive/ECE_209_AS_project_data/UCIHARmodels/LSTM_withnoise_3/assets\n"
          ]
        },
        {
          "output_type": "stream",
          "name": "stdout",
          "text": [
            "INFO:tensorflow:Assets written to: /content/drive/My Drive/ECE_209_AS_project_data/UCIHARmodels/LSTM_withnoise_3/assets\n"
          ]
        },
        {
          "output_type": "stream",
          "name": "stderr",
          "text": [
            "INFO:tensorflow:Assets written to: /content/drive/My Drive/ECE_209_AS_project_data/UCIHARmodels/LSTM_withnoise_3/assets\n"
          ]
        },
        {
          "output_type": "stream",
          "name": "stdout",
          "text": [
            "INFO:tensorflow:Assets written to: /content/drive/My Drive/ECE_209_AS_project_data/UCIHARmodels/LSTM_withnoise_3/assets\n"
          ]
        },
        {
          "output_type": "stream",
          "name": "stderr",
          "text": [
            "INFO:tensorflow:Assets written to: /content/drive/My Drive/ECE_209_AS_project_data/UCIHARmodels/LSTM_withnoise_3/assets\n"
          ]
        },
        {
          "output_type": "stream",
          "name": "stdout",
          "text": [
            "INFO:tensorflow:Assets written to: /content/drive/My Drive/ECE_209_AS_project_data/UCIHARmodels/LSTM_withnoise_3/assets\n"
          ]
        },
        {
          "output_type": "stream",
          "name": "stderr",
          "text": [
            "INFO:tensorflow:Assets written to: /content/drive/My Drive/ECE_209_AS_project_data/UCIHARmodels/LSTM_withnoise_3/assets\n"
          ]
        },
        {
          "output_type": "stream",
          "name": "stdout",
          "text": [
            "INFO:tensorflow:Assets written to: /content/drive/My Drive/ECE_209_AS_project_data/UCIHARmodels/LSTM_withnoise_3/assets\n"
          ]
        },
        {
          "output_type": "stream",
          "name": "stderr",
          "text": [
            "INFO:tensorflow:Assets written to: /content/drive/My Drive/ECE_209_AS_project_data/UCIHARmodels/LSTM_withnoise_3/assets\n"
          ]
        },
        {
          "output_type": "stream",
          "name": "stdout",
          "text": [
            "INFO:tensorflow:Assets written to: /content/drive/My Drive/ECE_209_AS_project_data/UCIHARmodels/LSTM_withnoise_3/assets\n"
          ]
        },
        {
          "output_type": "stream",
          "name": "stderr",
          "text": [
            "INFO:tensorflow:Assets written to: /content/drive/My Drive/ECE_209_AS_project_data/UCIHARmodels/LSTM_withnoise_3/assets\n"
          ]
        },
        {
          "output_type": "stream",
          "name": "stdout",
          "text": [
            "INFO:tensorflow:Assets written to: /content/drive/My Drive/ECE_209_AS_project_data/UCIHARmodels/LSTM_withnoise_3/assets\n"
          ]
        },
        {
          "output_type": "stream",
          "name": "stderr",
          "text": [
            "INFO:tensorflow:Assets written to: /content/drive/My Drive/ECE_209_AS_project_data/UCIHARmodels/LSTM_withnoise_3/assets\n"
          ]
        },
        {
          "output_type": "stream",
          "name": "stdout",
          "text": [
            "INFO:tensorflow:Assets written to: /content/drive/My Drive/ECE_209_AS_project_data/UCIHARmodels/LSTM_withnoise_3/assets\n"
          ]
        },
        {
          "output_type": "stream",
          "name": "stderr",
          "text": [
            "INFO:tensorflow:Assets written to: /content/drive/My Drive/ECE_209_AS_project_data/UCIHARmodels/LSTM_withnoise_3/assets\n"
          ]
        },
        {
          "output_type": "stream",
          "name": "stdout",
          "text": [
            "INFO:tensorflow:Assets written to: /content/drive/My Drive/ECE_209_AS_project_data/UCIHARmodels/LSTM_withnoise_3/assets\n"
          ]
        },
        {
          "output_type": "stream",
          "name": "stderr",
          "text": [
            "INFO:tensorflow:Assets written to: /content/drive/My Drive/ECE_209_AS_project_data/UCIHARmodels/LSTM_withnoise_3/assets\n"
          ]
        },
        {
          "output_type": "stream",
          "name": "stdout",
          "text": [
            "tf.Tensor(0.9216152, shape=(), dtype=float32)\n",
            "INFO:tensorflow:Assets written to: /content/drive/My Drive/ECE_209_AS_project_data/UCIHARmodels/LSTM_withnoise_4/assets\n"
          ]
        },
        {
          "output_type": "stream",
          "name": "stderr",
          "text": [
            "INFO:tensorflow:Assets written to: /content/drive/My Drive/ECE_209_AS_project_data/UCIHARmodels/LSTM_withnoise_4/assets\n"
          ]
        },
        {
          "output_type": "stream",
          "name": "stdout",
          "text": [
            "INFO:tensorflow:Assets written to: /content/drive/My Drive/ECE_209_AS_project_data/UCIHARmodels/LSTM_withnoise_4/assets\n"
          ]
        },
        {
          "output_type": "stream",
          "name": "stderr",
          "text": [
            "INFO:tensorflow:Assets written to: /content/drive/My Drive/ECE_209_AS_project_data/UCIHARmodels/LSTM_withnoise_4/assets\n"
          ]
        },
        {
          "output_type": "stream",
          "name": "stdout",
          "text": [
            "INFO:tensorflow:Assets written to: /content/drive/My Drive/ECE_209_AS_project_data/UCIHARmodels/LSTM_withnoise_4/assets\n"
          ]
        },
        {
          "output_type": "stream",
          "name": "stderr",
          "text": [
            "INFO:tensorflow:Assets written to: /content/drive/My Drive/ECE_209_AS_project_data/UCIHARmodels/LSTM_withnoise_4/assets\n"
          ]
        },
        {
          "output_type": "stream",
          "name": "stdout",
          "text": [
            "INFO:tensorflow:Assets written to: /content/drive/My Drive/ECE_209_AS_project_data/UCIHARmodels/LSTM_withnoise_4/assets\n"
          ]
        },
        {
          "output_type": "stream",
          "name": "stderr",
          "text": [
            "INFO:tensorflow:Assets written to: /content/drive/My Drive/ECE_209_AS_project_data/UCIHARmodels/LSTM_withnoise_4/assets\n"
          ]
        },
        {
          "output_type": "stream",
          "name": "stdout",
          "text": [
            "INFO:tensorflow:Assets written to: /content/drive/My Drive/ECE_209_AS_project_data/UCIHARmodels/LSTM_withnoise_4/assets\n"
          ]
        },
        {
          "output_type": "stream",
          "name": "stderr",
          "text": [
            "INFO:tensorflow:Assets written to: /content/drive/My Drive/ECE_209_AS_project_data/UCIHARmodels/LSTM_withnoise_4/assets\n"
          ]
        },
        {
          "output_type": "stream",
          "name": "stdout",
          "text": [
            "INFO:tensorflow:Assets written to: /content/drive/My Drive/ECE_209_AS_project_data/UCIHARmodels/LSTM_withnoise_4/assets\n"
          ]
        },
        {
          "output_type": "stream",
          "name": "stderr",
          "text": [
            "INFO:tensorflow:Assets written to: /content/drive/My Drive/ECE_209_AS_project_data/UCIHARmodels/LSTM_withnoise_4/assets\n"
          ]
        },
        {
          "output_type": "stream",
          "name": "stdout",
          "text": [
            "INFO:tensorflow:Assets written to: /content/drive/My Drive/ECE_209_AS_project_data/UCIHARmodels/LSTM_withnoise_4/assets\n"
          ]
        },
        {
          "output_type": "stream",
          "name": "stderr",
          "text": [
            "INFO:tensorflow:Assets written to: /content/drive/My Drive/ECE_209_AS_project_data/UCIHARmodels/LSTM_withnoise_4/assets\n"
          ]
        },
        {
          "output_type": "stream",
          "name": "stdout",
          "text": [
            "INFO:tensorflow:Assets written to: /content/drive/My Drive/ECE_209_AS_project_data/UCIHARmodels/LSTM_withnoise_4/assets\n"
          ]
        },
        {
          "output_type": "stream",
          "name": "stderr",
          "text": [
            "INFO:tensorflow:Assets written to: /content/drive/My Drive/ECE_209_AS_project_data/UCIHARmodels/LSTM_withnoise_4/assets\n"
          ]
        },
        {
          "output_type": "stream",
          "name": "stdout",
          "text": [
            "INFO:tensorflow:Assets written to: /content/drive/My Drive/ECE_209_AS_project_data/UCIHARmodels/LSTM_withnoise_4/assets\n"
          ]
        },
        {
          "output_type": "stream",
          "name": "stderr",
          "text": [
            "INFO:tensorflow:Assets written to: /content/drive/My Drive/ECE_209_AS_project_data/UCIHARmodels/LSTM_withnoise_4/assets\n"
          ]
        },
        {
          "output_type": "stream",
          "name": "stdout",
          "text": [
            "INFO:tensorflow:Assets written to: /content/drive/My Drive/ECE_209_AS_project_data/UCIHARmodels/LSTM_withnoise_4/assets\n"
          ]
        },
        {
          "output_type": "stream",
          "name": "stderr",
          "text": [
            "INFO:tensorflow:Assets written to: /content/drive/My Drive/ECE_209_AS_project_data/UCIHARmodels/LSTM_withnoise_4/assets\n"
          ]
        },
        {
          "output_type": "stream",
          "name": "stdout",
          "text": [
            "INFO:tensorflow:Assets written to: /content/drive/My Drive/ECE_209_AS_project_data/UCIHARmodels/LSTM_withnoise_4/assets\n"
          ]
        },
        {
          "output_type": "stream",
          "name": "stderr",
          "text": [
            "INFO:tensorflow:Assets written to: /content/drive/My Drive/ECE_209_AS_project_data/UCIHARmodels/LSTM_withnoise_4/assets\n"
          ]
        },
        {
          "output_type": "stream",
          "name": "stdout",
          "text": [
            "INFO:tensorflow:Assets written to: /content/drive/My Drive/ECE_209_AS_project_data/UCIHARmodels/LSTM_withnoise_4/assets\n"
          ]
        },
        {
          "output_type": "stream",
          "name": "stderr",
          "text": [
            "INFO:tensorflow:Assets written to: /content/drive/My Drive/ECE_209_AS_project_data/UCIHARmodels/LSTM_withnoise_4/assets\n"
          ]
        },
        {
          "output_type": "stream",
          "name": "stdout",
          "text": [
            "INFO:tensorflow:Assets written to: /content/drive/My Drive/ECE_209_AS_project_data/UCIHARmodels/LSTM_withnoise_4/assets\n"
          ]
        },
        {
          "output_type": "stream",
          "name": "stderr",
          "text": [
            "INFO:tensorflow:Assets written to: /content/drive/My Drive/ECE_209_AS_project_data/UCIHARmodels/LSTM_withnoise_4/assets\n"
          ]
        },
        {
          "output_type": "stream",
          "name": "stdout",
          "text": [
            "INFO:tensorflow:Assets written to: /content/drive/My Drive/ECE_209_AS_project_data/UCIHARmodels/LSTM_withnoise_4/assets\n"
          ]
        },
        {
          "output_type": "stream",
          "name": "stderr",
          "text": [
            "INFO:tensorflow:Assets written to: /content/drive/My Drive/ECE_209_AS_project_data/UCIHARmodels/LSTM_withnoise_4/assets\n"
          ]
        },
        {
          "output_type": "stream",
          "name": "stdout",
          "text": [
            "INFO:tensorflow:Assets written to: /content/drive/My Drive/ECE_209_AS_project_data/UCIHARmodels/LSTM_withnoise_4/assets\n"
          ]
        },
        {
          "output_type": "stream",
          "name": "stderr",
          "text": [
            "INFO:tensorflow:Assets written to: /content/drive/My Drive/ECE_209_AS_project_data/UCIHARmodels/LSTM_withnoise_4/assets\n"
          ]
        },
        {
          "output_type": "stream",
          "name": "stdout",
          "text": [
            "INFO:tensorflow:Assets written to: /content/drive/My Drive/ECE_209_AS_project_data/UCIHARmodels/LSTM_withnoise_4/assets\n"
          ]
        },
        {
          "output_type": "stream",
          "name": "stderr",
          "text": [
            "INFO:tensorflow:Assets written to: /content/drive/My Drive/ECE_209_AS_project_data/UCIHARmodels/LSTM_withnoise_4/assets\n"
          ]
        },
        {
          "output_type": "stream",
          "name": "stdout",
          "text": [
            "INFO:tensorflow:Assets written to: /content/drive/My Drive/ECE_209_AS_project_data/UCIHARmodels/LSTM_withnoise_4/assets\n"
          ]
        },
        {
          "output_type": "stream",
          "name": "stderr",
          "text": [
            "INFO:tensorflow:Assets written to: /content/drive/My Drive/ECE_209_AS_project_data/UCIHARmodels/LSTM_withnoise_4/assets\n"
          ]
        },
        {
          "output_type": "stream",
          "name": "stdout",
          "text": [
            "INFO:tensorflow:Assets written to: /content/drive/My Drive/ECE_209_AS_project_data/UCIHARmodels/LSTM_withnoise_4/assets\n"
          ]
        },
        {
          "output_type": "stream",
          "name": "stderr",
          "text": [
            "INFO:tensorflow:Assets written to: /content/drive/My Drive/ECE_209_AS_project_data/UCIHARmodels/LSTM_withnoise_4/assets\n"
          ]
        },
        {
          "output_type": "stream",
          "name": "stdout",
          "text": [
            "INFO:tensorflow:Assets written to: /content/drive/My Drive/ECE_209_AS_project_data/UCIHARmodels/LSTM_withnoise_4/assets\n"
          ]
        },
        {
          "output_type": "stream",
          "name": "stderr",
          "text": [
            "INFO:tensorflow:Assets written to: /content/drive/My Drive/ECE_209_AS_project_data/UCIHARmodels/LSTM_withnoise_4/assets\n"
          ]
        },
        {
          "output_type": "stream",
          "name": "stdout",
          "text": [
            "INFO:tensorflow:Assets written to: /content/drive/My Drive/ECE_209_AS_project_data/UCIHARmodels/LSTM_withnoise_4/assets\n"
          ]
        },
        {
          "output_type": "stream",
          "name": "stderr",
          "text": [
            "INFO:tensorflow:Assets written to: /content/drive/My Drive/ECE_209_AS_project_data/UCIHARmodels/LSTM_withnoise_4/assets\n"
          ]
        },
        {
          "output_type": "stream",
          "name": "stdout",
          "text": [
            "INFO:tensorflow:Assets written to: /content/drive/My Drive/ECE_209_AS_project_data/UCIHARmodels/LSTM_withnoise_4/assets\n"
          ]
        },
        {
          "output_type": "stream",
          "name": "stderr",
          "text": [
            "INFO:tensorflow:Assets written to: /content/drive/My Drive/ECE_209_AS_project_data/UCIHARmodels/LSTM_withnoise_4/assets\n"
          ]
        },
        {
          "output_type": "stream",
          "name": "stdout",
          "text": [
            "INFO:tensorflow:Assets written to: /content/drive/My Drive/ECE_209_AS_project_data/UCIHARmodels/LSTM_withnoise_4/assets\n"
          ]
        },
        {
          "output_type": "stream",
          "name": "stderr",
          "text": [
            "INFO:tensorflow:Assets written to: /content/drive/My Drive/ECE_209_AS_project_data/UCIHARmodels/LSTM_withnoise_4/assets\n"
          ]
        },
        {
          "output_type": "stream",
          "name": "stdout",
          "text": [
            "INFO:tensorflow:Assets written to: /content/drive/My Drive/ECE_209_AS_project_data/UCIHARmodels/LSTM_withnoise_4/assets\n"
          ]
        },
        {
          "output_type": "stream",
          "name": "stderr",
          "text": [
            "INFO:tensorflow:Assets written to: /content/drive/My Drive/ECE_209_AS_project_data/UCIHARmodels/LSTM_withnoise_4/assets\n"
          ]
        },
        {
          "output_type": "stream",
          "name": "stdout",
          "text": [
            "INFO:tensorflow:Assets written to: /content/drive/My Drive/ECE_209_AS_project_data/UCIHARmodels/LSTM_withnoise_4/assets\n"
          ]
        },
        {
          "output_type": "stream",
          "name": "stderr",
          "text": [
            "INFO:tensorflow:Assets written to: /content/drive/My Drive/ECE_209_AS_project_data/UCIHARmodels/LSTM_withnoise_4/assets\n"
          ]
        },
        {
          "output_type": "stream",
          "name": "stdout",
          "text": [
            "INFO:tensorflow:Assets written to: /content/drive/My Drive/ECE_209_AS_project_data/UCIHARmodels/LSTM_withnoise_4/assets\n"
          ]
        },
        {
          "output_type": "stream",
          "name": "stderr",
          "text": [
            "INFO:tensorflow:Assets written to: /content/drive/My Drive/ECE_209_AS_project_data/UCIHARmodels/LSTM_withnoise_4/assets\n"
          ]
        },
        {
          "output_type": "stream",
          "name": "stdout",
          "text": [
            "tf.Tensor(0.9117747, shape=(), dtype=float32)\n"
          ]
        }
      ],
      "id": "njf8OupEdHiL"
    },
    {
      "cell_type": "code",
      "source": [
        "sum_ac = 0\n",
        "\n",
        "for ac in test_accuracies_noise:\n",
        "\n",
        "  sum_ac += ac.numpy()\n",
        "\n",
        "print(f\"Mean accuracy is {round(sum_ac/len(test_accuracies_noise), 2)}\")"
      ],
      "metadata": {
        "colab": {
          "base_uri": "https://localhost:8080/"
        },
        "id": "fuVQ3uSAdHiM",
        "outputId": "cca85647-e152-4b95-8c12-e8ba8f96de5f"
      },
      "execution_count": null,
      "outputs": [
        {
          "output_type": "stream",
          "name": "stdout",
          "text": [
            "Mean accuracy is 0.91\n"
          ]
        }
      ],
      "id": "fuVQ3uSAdHiM"
    },
    {
      "cell_type": "code",
      "source": [
        "mean_recall_scores_with_noise  = sum(recall_scores_noise)/len(recall_scores_noise)\n",
        "\n",
        "for i in range(len(mean_recall_scores_with_noise)):\n",
        "\n",
        "  print(f\"Label {data_class_names[i]} has mean accuracy {round(mean_recall_scores_with_noise[i], 2)}\")"
      ],
      "metadata": {
        "colab": {
          "base_uri": "https://localhost:8080/"
        },
        "id": "XpvWzc3udHiM",
        "outputId": "a90d4ec0-baac-4cd0-9505-3a94da856d1b"
      },
      "execution_count": null,
      "outputs": [
        {
          "output_type": "stream",
          "name": "stdout",
          "text": [
            "Label Walking has mean accuracy 0.95\n",
            "Label Stairs-Up has mean accuracy 0.95\n",
            "Label Stairs-Down has mean accuracy 0.99\n",
            "Label Sitting has mean accuracy 0.79\n",
            "Label Standing has mean accuracy 0.81\n",
            "Label Lying has mean accuracy 1.0\n"
          ]
        }
      ],
      "id": "XpvWzc3udHiM"
    },
    {
      "cell_type": "markdown",
      "source": [
        "## Results"
      ],
      "metadata": {
        "id": "QJNC4C5cu3uQ"
      },
      "id": "QJNC4C5cu3uQ"
    },
    {
      "cell_type": "markdown",
      "source": [
        "|  Activity |  Baseline |  Weight Decay |  Rotation | Scaling  |  Noise |  Resampling | Magnify | \n",
        "|---|---|---|---|---|---|---|---|\n",
        "| Walking  | 0.94  |  0.95 |  0.96 |  0.96 |  0.95 |  0.94 | 0.97 | \n",
        "| Stairs-Up  |  0.96 |  0.97 | 0.97 | 0.98  |  0.95 | 0.96  | 0.98 |\n",
        "| Stairs-Down  | .99  | 0.99  |  0.99 |  0.99 |  0.99 | 1.0  | 0.99 |\n",
        "| Sitting  | 0.80  | 0.77  |  0.8 | 0.82  | 0.79  |  0.79 | 0.81 |\n",
        "| Standing | 0.83  |  0.86 |  0.79 |  0.9 | 0.81  |  0.83 | 0.94 |\n",
        "| Lying  |  1 |  0.99 |  0.94 | 1  | 1  |  1 | 1 |\n",
        "|  Overall Accuracy |  0.92 |  0.92 | 0.9  | 0.94  |  0.91 | 0.92  | 0.95|"
      ],
      "metadata": {
        "id": "CstBhMEOHtDO"
      },
      "id": "CstBhMEOHtDO"
    }
  ],
  "metadata": {
    "kernelspec": {
      "display_name": "Python [conda env:ECE209AS] *",
      "language": "python",
      "name": "conda-env-ECE209AS-py"
    },
    "language_info": {
      "codemirror_mode": {
        "name": "ipython",
        "version": 3
      },
      "file_extension": ".py",
      "mimetype": "text/x-python",
      "name": "python",
      "nbconvert_exporter": "python",
      "pygments_lexer": "ipython3",
      "version": "3.8.13"
    },
    "colab": {
      "name": "LSTM_UCIHAR.ipynb",
      "provenance": [],
      "collapsed_sections": [],
      "include_colab_link": true
    },
    "accelerator": "GPU"
  },
  "nbformat": 4,
  "nbformat_minor": 5
}