{
  "nbformat": 4,
  "nbformat_minor": 0,
  "metadata": {
    "kernelspec": {
      "language": "python",
      "display_name": "Python 3",
      "name": "python3"
    },
    "language_info": {
      "name": "python",
      "version": "3.7.6",
      "mimetype": "text/x-python",
      "codemirror_mode": {
        "name": "ipython",
        "version": 3
      },
      "pygments_lexer": "ipython3",
      "nbconvert_exporter": "python",
      "file_extension": ".py"
    },
    "colab": {
      "name": "DeepConvLSTMMediumModel_UCI_HAR_Weight_Decay.ipynb",
      "provenance": [],
      "collapsed_sections": []
    },
    "accelerator": "GPU"
  },
  "cells": [
    {
      "cell_type": "markdown",
      "metadata": {
        "id": "GZMbLzCyFcx5"
      },
      "source": [
        "# **Import Libraries**\n",
        "\n",
        "---\n",
        "\n"
      ]
    },
    {
      "cell_type": "code",
      "metadata": {
        "id": "mCliN3wnFYPa",
        "trusted": true
      },
      "source": [
        "import numpy as np\n",
        "import matplotlib.pyplot as plt\n",
        "from sklearn.utils import class_weight\n",
        "from sklearn.metrics import accuracy_score,classification_report,confusion_matrix\n",
        "from scipy.interpolate import CubicSpline \n",
        "import random\n",
        "from scipy.interpolate import interp1d"
      ],
      "execution_count": null,
      "outputs": []
    },
    {
      "cell_type": "code",
      "source": [
        "import tensorflow as tf\n",
        "import tensorflow.keras as keras\n",
        "from tensorflow.keras import regularizers\n",
        "from tensorflow.keras.layers import *\n",
        "from tensorflow.keras.models import Model"
      ],
      "metadata": {
        "id": "PUVhVaWLK7Mu"
      },
      "execution_count": null,
      "outputs": []
    },
    {
      "cell_type": "code",
      "metadata": {
        "colab": {
          "base_uri": "https://localhost:8080/"
        },
        "id": "4G2PVhlAHcZK",
        "outputId": "939c80f8-88be-473a-d913-ef4e69c39bb9"
      },
      "source": [
        "!gdown --id '1OOft6zOd2t2A1NWTYkpq-6MyC5ySswl2'"
      ],
      "execution_count": null,
      "outputs": [
        {
          "output_type": "stream",
          "name": "stdout",
          "text": [
            "/usr/local/lib/python3.7/dist-packages/gdown/cli.py:131: FutureWarning: Option `--id` was deprecated in version 4.3.1 and will be removed in 5.0. You don't need to pass it anymore to use a file ID.\n",
            "  category=FutureWarning,\n",
            "Downloading...\n",
            "From: https://drive.google.com/uc?id=1OOft6zOd2t2A1NWTYkpq-6MyC5ySswl2\n",
            "To: /content/UCIHAR.zip\n",
            "100% 24.3M/24.3M [00:00<00:00, 39.4MB/s]\n"
          ]
        }
      ]
    },
    {
      "cell_type": "code",
      "metadata": {
        "id": "UQHBj2ty9GEn",
        "trusted": true,
        "colab": {
          "base_uri": "https://localhost:8080/"
        },
        "outputId": "19c8eecd-d843-4b44-9200-afbaa69d7907"
      },
      "source": [
        "!unzip '/content/UCIHAR.zip'\n",
        "!rm '/content/UCIHAR.zip'\n",
        "dataset_name = \"UCIHAR\" \n",
        "data_class_names = [\"Walking\", \"Stairs-Up\", \"Stairs-Down\", \"Sitting\", \"Standing\", \"Lying\"]\n",
        "dataset_address = \"/content/UCIHAR/\"\n",
        "X_train = np.load(dataset_address + \"X_train.npy\")[:,:,:9]\n",
        "Y_train = np.load(dataset_address + \"y_train.npy\").argmax(1)\n",
        "X_test = np.load(dataset_address + \"X_test.npy\")[:,:,:9]\n",
        "Y_test = np.load(dataset_address + \"y_test.npy\").argmax(1)\n",
        "\n",
        "rnd_seed = 0\n",
        "tf.random.set_seed(rnd_seed)\n",
        "indices = np.random.RandomState(seed=rnd_seed).permutation(len(X_train))\n",
        "X_train = X_train[indices]\n",
        "Y_train = Y_train[indices]\n",
        "data_class_weights = class_weight.compute_class_weight(class_weight='balanced',classes=range(len(data_class_names)),y=Y_train)\n",
        "data_class_weights = dict(zip(range(len(data_class_weights)),data_class_weights.round(2)))"
      ],
      "execution_count": null,
      "outputs": [
        {
          "output_type": "stream",
          "name": "stdout",
          "text": [
            "Archive:  /content/UCIHAR.zip\n",
            "   creating: UCIHAR/\n",
            "  inflating: UCIHAR/X_test.npy       \n",
            "  inflating: UCIHAR/X_train.npy      \n",
            "  inflating: UCIHAR/y_test.npy       \n",
            "  inflating: UCIHAR/y_train.npy      \n"
          ]
        }
      ]
    },
    {
      "cell_type": "code",
      "metadata": {
        "id": "c5qEeZJmLfz9"
      },
      "source": [
        "import matplotlib.pyplot as plt\n",
        "import numpy as np\n",
        "\n",
        "def show_values(pc, fmt=\"%.2f\", **kw):\n",
        "    '''\n",
        "    Heatmap with text in each cell with matplotlib's pyplot\n",
        "    Source: https://stackoverflow.com/a/25074150/395857 \n",
        "    By HYRY\n",
        "    '''\n",
        "    pc.update_scalarmappable()\n",
        "    ax = pc.axes\n",
        "    #ax = pc.axes# FOR LATEST MATPLOTLIB\n",
        "    #Use zip BELOW IN PYTHON 3\n",
        "    for p, color, value in zip(pc.get_paths(), pc.get_facecolors(), pc.get_array()):\n",
        "        x, y = p.vertices[:-2, :].mean(0)\n",
        "        if np.all(color[:3] > 0.5):\n",
        "            color = (0.0, 0.0, 0.0)\n",
        "        else:\n",
        "            color = (1.0, 1.0, 1.0)\n",
        "        ax.text(x, y, fmt % value, ha=\"center\", va=\"center\", color=color, **kw)\n",
        "\n",
        "\n",
        "def cm2inch(*tupl):\n",
        "    '''\n",
        "    Specify figure size in centimeter in matplotlib\n",
        "    Source: https://stackoverflow.com/a/22787457/395857\n",
        "    By gns-ank\n",
        "    '''\n",
        "    inch = 2.54\n",
        "    if type(tupl[0]) == tuple:\n",
        "        return tuple(i/inch for i in tupl[0])\n",
        "    else:\n",
        "        return tuple(i/inch for i in tupl)\n",
        "\n",
        "\n",
        "def heatmap(AUC, title, xlabel, ylabel, xticklabels, yticklabels, figure_width=40, figure_height=20, correct_orientation=False, cmap='RdBu'):\n",
        "    '''\n",
        "    Inspired by:\n",
        "    - https://stackoverflow.com/a/16124677/395857 \n",
        "    - https://stackoverflow.com/a/25074150/395857\n",
        "    '''\n",
        "\n",
        "    # Plot it out\n",
        "    fig, ax = plt.subplots()    \n",
        "    #c = ax.pcolor(AUC, edgecolors='k', linestyle= 'dashed', linewidths=0.2, cmap='RdBu', vmin=0.0, vmax=1.0)\n",
        "    c = ax.pcolor(AUC, edgecolors='k', linestyle= 'dashed', linewidths=0.2, cmap=cmap)\n",
        "\n",
        "    # put the major ticks at the middle of each cell\n",
        "    ax.set_yticks(np.arange(AUC.shape[0]) + 0.5, minor=False)\n",
        "    ax.set_xticks(np.arange(AUC.shape[1]) + 0.5, minor=False)\n",
        "\n",
        "    # set tick labels\n",
        "    #ax.set_xticklabels(np.arange(1,AUC.shape[1]+1), minor=False)\n",
        "    ax.set_xticklabels(xticklabels, minor=False)\n",
        "    ax.set_yticklabels(yticklabels, minor=False)\n",
        "\n",
        "    # set title and x/y labels\n",
        "    plt.title(title)\n",
        "    plt.xlabel(xlabel)\n",
        "    plt.ylabel(ylabel)      \n",
        "\n",
        "    # Remove last blank column\n",
        "    plt.xlim( (0, AUC.shape[1]) )\n",
        "\n",
        "    # Turn off all the ticks\n",
        "    ax = plt.gca()    \n",
        "    for t in ax.xaxis.get_major_ticks():\n",
        "        t.tick1On = False\n",
        "        t.tick2On = False\n",
        "    for t in ax.yaxis.get_major_ticks():\n",
        "        t.tick1On = False\n",
        "        t.tick2On = False\n",
        "\n",
        "    # Add color bar\n",
        "    plt.colorbar(c)\n",
        "\n",
        "    # Add text in each cell \n",
        "    show_values(c)\n",
        "\n",
        "    # Proper orientation (origin at the top left instead of bottom left)\n",
        "    if correct_orientation:\n",
        "        ax.invert_yaxis()\n",
        "        ax.xaxis.tick_top()       \n",
        "\n",
        "    # resize \n",
        "    fig = plt.gcf()\n",
        "    #fig.set_size_inches(cm2inch(40, 20))\n",
        "    #fig.set_size_inches(cm2inch(40*4, 20*4))\n",
        "    fig.set_size_inches(cm2inch(figure_width, figure_height))\n",
        "\n",
        "\n",
        "\n",
        "def plot_classification_report(classification_report, title='Classification report ', cmap='RdBu'):\n",
        "    '''\n",
        "    Plot scikit-learn classification report.\n",
        "    Extension based on https://stackoverflow.com/a/31689645/395857 \n",
        "    '''\n",
        "    lines = classification_report.split('\\n')\n",
        "\n",
        "    classes = []\n",
        "    plotMat = []\n",
        "    support = []\n",
        "    class_names = []\n",
        "\n",
        "    for line in lines[2 : (len(lines) - 4)]:\n",
        "        t = line.strip().split()\n",
        "        if len(t) < 2: continue\n",
        "        classes.append(t[0])\n",
        "        v = [float(x) for x in t[1: len(t) - 1]]\n",
        "        support.append(int(t[-1]))\n",
        "        class_names.append(t[0])\n",
        "        print(v)\n",
        "        plotMat.append(v)\n",
        "\n",
        "    print('plotMat: {0}'.format(plotMat))\n",
        "    print('support: {0}'.format(support))\n",
        "\n",
        "    xlabel = 'Metrics'\n",
        "    ylabel = 'Classes'\n",
        "    xticklabels = ['Precision', 'Recall', 'F1-score']\n",
        "    yticklabels = ['{0} ({1})'.format(class_names[idx], sup) for idx, sup  in enumerate(support)]\n",
        "    figure_width = 25\n",
        "    figure_height = len(class_names) + 7\n",
        "    correct_orientation = False\n",
        "    heatmap(np.array(plotMat), title, xlabel, ylabel, xticklabels, yticklabels, figure_width, figure_height, correct_orientation, cmap=cmap)"
      ],
      "execution_count": null,
      "outputs": []
    },
    {
      "cell_type": "code",
      "metadata": {
        "id": "Hwl4L20RIENM",
        "trusted": true
      },
      "source": [
        "def ConvLSTMCombined(inp_shape, out_shape): \n",
        "    nb_filters = 64 \n",
        "    drp_out_dns = .5 \n",
        "    nb_dense = 128 \n",
        "    \n",
        "    inp = Input(inp_shape)\n",
        "\n",
        "    x = Conv2D(nb_filters, kernel_size = (5,1),\n",
        "              strides=(1,1), padding='valid', activation='relu')(inp)    \n",
        "    x = Conv2D(nb_filters, kernel_size = (5,1),\n",
        "              strides=(1,1), padding='valid', activation='relu')(x)\n",
        "    #x = Conv2D(nb_filters, kernel_size = (5,1), \n",
        "    #          strides=(1,1), padding='valid', activation='relu')(x)\n",
        "    #x = Conv2D(nb_filters, kernel_size = (5,1), \n",
        "    #         strides=(1,1), padding='valid', activation='relu')(x)    \n",
        "    x = Reshape((x.shape[1],x.shape[2]*x.shape[3]))(x)\n",
        "    act = LSTM(nb_dense, return_sequences=True, activation='tanh', name=\"lstm_1\")(x)        \n",
        "    act = Dropout(drp_out_dns, name= \"dot_1\")(act)\n",
        "    #act = LSTM(nb_dense, return_sequences=True, activation='tanh', name=\"lstm_2\")(act)        \n",
        "    #act = Dropout(drp_out_dns, name= \"dot_2\")(act)\n",
        "    act = LSTM(nb_dense, activation='tanh', name=\"lstm_3\")(act)        \n",
        "    act = Dropout(drp_out_dns, name= \"dot_3\")(act)\n",
        "    out_act = Dense(out_shape, activation='softmax',  name=\"act_smx\")(act)\n",
        "    \n",
        "    model = keras.models.Model(inputs=inp, outputs=out_act)\n",
        "    model.compile(loss=\"sparse_categorical_crossentropy\",optimizer=\"adam\",metrics=[\"accuracy\"])\n",
        "    return model"
      ],
      "execution_count": null,
      "outputs": []
    },
    {
      "cell_type": "code",
      "source": [
        "def ConvLSTMCombinedReg(inp_shape, out_shape): \n",
        "    nb_filters = 64 \n",
        "    drp_out_dns = .5 \n",
        "    nb_dense = 128 \n",
        "    \n",
        "    inp = Input(inp_shape)\n",
        "\n",
        "    x = Conv2D(nb_filters, kernel_size = (5,1),\n",
        "              strides=(1,1), padding='valid', activation='relu', kernel_regularizer=regularizers.L1L2(l1=1e-5, l2=1e-4))(inp)    \n",
        "    x = Conv2D(nb_filters, kernel_size = (5,1),\n",
        "              strides=(1,1), padding='valid', activation='relu', kernel_regularizer=regularizers.L1L2(l1=1e-5, l2=1e-4))(x) \n",
        "    x = Reshape((x.shape[1],x.shape[2]*x.shape[3]))(x)\n",
        "    act = LSTM(nb_dense, return_sequences=True, activation='tanh', name=\"lstm_1\", kernel_regularizer=regularizers.L1L2(l1=1e-5, l2=1e-4))(x)        \n",
        "    act = Dropout(drp_out_dns, name= \"dot_1\")(act)\n",
        "    act = LSTM(nb_dense, activation='tanh', name=\"lstm_3\", kernel_regularizer=regularizers.L1L2(l1=1e-5, l2=1e-4))(act)        \n",
        "    act = Dropout(drp_out_dns, name= \"dot_3\")(act)\n",
        "    out_act = Dense(out_shape, activation='softmax',  name=\"act_smx\", kernel_regularizer=regularizers.L1L2(l1=1e-5, l2=1e-4))(act)\n",
        "    \n",
        "    model = keras.models.Model(inputs=inp, outputs=out_act)\n",
        "    model.compile(loss=\"sparse_categorical_crossentropy\",optimizer=\"adam\",metrics=[\"accuracy\"])\n",
        "    return model"
      ],
      "metadata": {
        "id": "DtzTSkccMoaf"
      },
      "execution_count": null,
      "outputs": []
    },
    {
      "cell_type": "code",
      "source": [
        "def resampling_fast_random(x):\n",
        "    M, N = random.choice([[1, 0], [2, 1], [3, 2]])\n",
        "    time_steps = x.shape[1]\n",
        "    raw_set = np.arange(x.shape[1])\n",
        "    interp_steps = np.arange(0, raw_set[-1] + 1e-1, 1 / (M + 1))\n",
        "    x_interp = interp1d(raw_set, x, axis=1)\n",
        "    x_up = x_interp(interp_steps)\n",
        "\n",
        "    length_inserted = x_up.shape[1]\n",
        "    start = random.randint(0, length_inserted - time_steps * (N + 1))\n",
        "    index_selected = np.arange(start, start + time_steps * (N + 1), N + 1)\n",
        "    return x_up[:, index_selected, :]\n",
        "\n",
        "def resampling(x,M,N):\n",
        "    '''\n",
        "    :param x: the data of a batch,shape=(batch_size,timesteps,features)\n",
        "    :param M: the number of  new value under tow values\n",
        "    :param N: the interval of resampling\n",
        "    :return: x after resampling，shape=(batch_size,timesteps,features)\n",
        "    '''\n",
        "    assert M>N,'the value of M have to greater than N'\n",
        "\n",
        "    timesetps = x.shape[1]\n",
        "\n",
        "    for i in range(timesetps-1):\n",
        "        x1 = x[:,i*(M+1),:]\n",
        "        x2 = x[:,i*(M+1)+1,:]\n",
        "        for j in range(M):\n",
        "            v = np.add(x1,np.subtract(x2,x1)*(j+1)/(M+1))\n",
        "            x = np.insert(x,i*(M+1)+j+1,v,axis=1)\n",
        "\n",
        "    length_inserted = x.shape[1]\n",
        "    start = random.randint(0,length_inserted-timesetps*(N+1))\n",
        "    index_selected = np.arange(start,start+timesetps*(N+1),N+1)\n",
        "    return x[:,index_selected,:]\n",
        "    return x\n",
        "\n",
        "def noise(x):\n",
        "    x = tf.add(x,tf.multiply(x,tf.cast(tf.random.uniform(shape = (x.shape[0],x.shape[1],x.shape[2]),minval=-0.1,maxval=0.1),tf.float64)))\n",
        "    return x\n",
        "\n",
        "\n",
        "def scaling(x):\n",
        "    alpha = np.random.randint(7,10)/10\n",
        "    # alpha = 0.9\n",
        "    return tf.multiply(x,alpha)\n",
        "#\n",
        "def magnify(x):\n",
        "    lam = np.random.randint(11,14)/10\n",
        "    return tf.multiply(x,lam)\n",
        "\n",
        "\n",
        "def inverting(x):\n",
        "    return np.multiply(x,-1)\n",
        "def reversing(x):\n",
        "    return x[:,-1::-1,:]\n",
        "\n",
        "\n",
        "def rotation(x):\n",
        "    c = x.shape[2]//3\n",
        "    x_new = rotation_transform_vectorized(x[:,:,0:3])\n",
        "    for i in range(1,c):\n",
        "        temp = rotation_transform_vectorized(x[:,:,i*3:(i+1)*3])\n",
        "        x_new = np.concatenate((x_new,temp),axis=-1)\n",
        "    return x_new\n",
        "def rotation_transform_vectorized(X):\n",
        "    \"\"\"\n",
        "    Applying a random 3D rotation\n",
        "    \"\"\"\n",
        "    axes = np.random.uniform(low=-1, high=1, size=(X.shape[0], X.shape[2]))\n",
        "    angles = np.random.uniform(low=-np.pi, high=np.pi, size=(X.shape[0]))\n",
        "    matrices = axis_angle_to_rotation_matrix_3d_vectorized(axes, angles)\n",
        "\n",
        "    return np.matmul(X, matrices)\n",
        "def axis_angle_to_rotation_matrix_3d_vectorized(axes, angles):\n",
        "    \"\"\"\n",
        "    Get the rotational matrix corresponding to a rotation of (angle) radian around the axes\n",
        "    Reference: the Transforms3d package - transforms3d.axangles.axangle2mat\n",
        "    Formula: http://en.wikipedia.org/wiki/Rotation_matrix#Axis_and_angle\n",
        "    \"\"\"\n",
        "    axes = axes / np.linalg.norm(axes, ord=2, axis=1, keepdims=True)\n",
        "    x = axes[:, 0]; y = axes[:, 1]; z = axes[:, 2]\n",
        "    c = np.cos(angles)\n",
        "    s = np.sin(angles)\n",
        "    C = 1 - c\n",
        "\n",
        "    xs = x*s;   ys = y*s;   zs = z*s\n",
        "    xC = x*C;   yC = y*C;   zC = z*C\n",
        "    xyC = x*yC; yzC = y*zC; zxC = z*xC\n",
        "\n",
        "    m = np.array([\n",
        "        [ x*xC+c,   xyC-zs,   zxC+ys ],\n",
        "        [ xyC+zs,   y*yC+c,   yzC-xs ],\n",
        "        [ zxC-ys,   yzC+xs,   z*zC+c ]])\n",
        "    matrix_transposed = np.transpose(m, axes=(2,0,1))\n",
        "    return matrix_transposed\n",
        "## This example using cubic splice is not the best approach to generate random curves. \n",
        "## You can use other aprroaches, e.g., Gaussian process regression, Bezier curve, etc.\n",
        "def GenerateRandomCurves(X, sigma=0.2, knot=4):\n",
        "    xx = (np.ones((X.shape[1],1))*(np.arange(0,X.shape[0], (X.shape[0]-1)/(knot+1)))).transpose()\n",
        "    yy = np.random.normal(loc=1.0, scale=sigma, size=(knot+2, X.shape[1]))\n",
        "    x_range = np.arange(X.shape[0])\n",
        "    cs_x = CubicSpline(xx[:,0], yy[:,0])\n",
        "    cs_y = CubicSpline(xx[:,1], yy[:,1])\n",
        "    cs_z = CubicSpline(xx[:,2], yy[:,2])\n",
        "    return np.array([cs_x(x_range),cs_y(x_range),cs_z(x_range)]).transpose()\n",
        "\n",
        "  \n",
        "def DistortTimesteps(X, sigma=0.2):\n",
        "    tt = GenerateRandomCurves(X, sigma) # Regard these samples aroun 1 as time intervals\n",
        "    tt_cum = np.cumsum(tt, axis=0)        # Add intervals to make a cumulative graph\n",
        "    # Make the last value to have X.shape[0]\n",
        "    t_scale = [(X.shape[0]-1)/tt_cum[-1,0],(X.shape[0]-1)/tt_cum[-1,1],(X.shape[0]-1)/tt_cum[-1,2]]\n",
        "    tt_cum[:,0] = tt_cum[:,0]*t_scale[0]\n",
        "    tt_cum[:,1] = tt_cum[:,1]*t_scale[1]\n",
        "    tt_cum[:,2] = tt_cum[:,2]*t_scale[2]\n",
        "    return tt_cum\n",
        "\n",
        "def DA_TimeWarp(X, sigma=0.2):\n",
        "    tt_new = DistortTimesteps(X, sigma)\n",
        "    X_new = np.zeros(X.shape)\n",
        "    x_range = np.arange(X.shape[0])\n",
        "    X_new[:,0] = np.interp(x_range, tt_new[:,0], X[:,0])\n",
        "    X_new[:,1] = np.interp(x_range, tt_new[:,1], X[:,1])\n",
        "    X_new[:,2] = np.interp(x_range, tt_new[:,2], X[:,2])\n",
        "    return X_new"
      ],
      "metadata": {
        "id": "ZASLPuhp9owB"
      },
      "execution_count": null,
      "outputs": []
    },
    {
      "cell_type": "markdown",
      "source": [
        "# Augmentation\n",
        "## Call Augmentation(X_train)"
      ],
      "metadata": {
        "id": "yCvTf-D0DV3H"
      }
    },
    {
      "cell_type": "code",
      "source": [
        "print(np.shape(X_train))\n",
        "#Define the Augmentation Here- List of Augmentations - scaling(), resampling(),magnify(),rotation, etc..\n",
        "Xtrain=((X_train[:2000]))  # Skipped here to study Individual Impact of Weight Decay\n",
        "X_train=np.concatenate((X_train[:5352],Xtrain))\n",
        "#X_train=np.concatenate((X_train[:1352],Xtrain,Xtrain2,Xtrain3))\n",
        "Y_train=np.concatenate((Y_train[:5352], Y_train[:2000]))\n",
        "print(X_train[0,0:128,0][0])\n",
        "print(Xtrain[0,0:128,0][0])\n"
      ],
      "metadata": {
        "colab": {
          "base_uri": "https://localhost:8080/"
        },
        "id": "V3CqAiVvGcGm",
        "outputId": "ad9d8630-a67f-4e21-b6e5-6887b5a233ea"
      },
      "execution_count": null,
      "outputs": [
        {
          "output_type": "stream",
          "name": "stdout",
          "text": [
            "(7352, 128, 6)\n",
            "-0.01241386029869318\n",
            "0.006090089050003282\n"
          ]
        }
      ]
    },
    {
      "cell_type": "code",
      "source": [
        "print(np.shape(X_train))"
      ],
      "metadata": {
        "colab": {
          "base_uri": "https://localhost:8080/"
        },
        "id": "BPL1t_VPJ611",
        "outputId": "0a97bdb8-50fb-4a9c-d7b3-68f7461941fa"
      },
      "execution_count": null,
      "outputs": [
        {
          "output_type": "stream",
          "name": "stdout",
          "text": [
            "(7352, 128, 6)\n"
          ]
        }
      ]
    },
    {
      "cell_type": "code",
      "metadata": {
        "trusted": true,
        "colab": {
          "base_uri": "https://localhost:8080/"
        },
        "id": "8N6uYRHQZpgr",
        "outputId": "9bd59b52-1bd9-4229-dc4e-4429980779aa"
      },
      "source": [
        "num_epochs = 65\n",
        "flag_b=0\n",
        "X_train = np.expand_dims(X_train,3)\n",
        "X_test = np.expand_dims(X_test,3)\n",
        "w = X_train.shape[1]\n",
        "h = X_train.shape[2]\n",
        "#model = ConvLSTMCombined((w, h, 1), len(np.unique(Y_train)))\n",
        "model = ConvLSTMCombinedReg((w, h, 1), len(np.unique(Y_train)))\n",
        "model.summary()"
      ],
      "execution_count": null,
      "outputs": [
        {
          "output_type": "stream",
          "name": "stdout",
          "text": [
            "Model: \"model\"\n",
            "_________________________________________________________________\n",
            " Layer (type)                Output Shape              Param #   \n",
            "=================================================================\n",
            " input_1 (InputLayer)        [(None, 128, 6, 1)]       0         \n",
            "                                                                 \n",
            " conv2d (Conv2D)             (None, 124, 6, 64)        384       \n",
            "                                                                 \n",
            " conv2d_1 (Conv2D)           (None, 120, 6, 64)        20544     \n",
            "                                                                 \n",
            " reshape (Reshape)           (None, 120, 384)          0         \n",
            "                                                                 \n",
            " lstm_1 (LSTM)               (None, 120, 128)          262656    \n",
            "                                                                 \n",
            " dot_1 (Dropout)             (None, 120, 128)          0         \n",
            "                                                                 \n",
            " lstm_3 (LSTM)               (None, 128)               131584    \n",
            "                                                                 \n",
            " dot_3 (Dropout)             (None, 128)               0         \n",
            "                                                                 \n",
            " act_smx (Dense)             (None, 6)                 774       \n",
            "                                                                 \n",
            "=================================================================\n",
            "Total params: 415,942\n",
            "Trainable params: 415,942\n",
            "Non-trainable params: 0\n",
            "_________________________________________________________________\n"
          ]
        }
      ]
    },
    {
      "cell_type": "code",
      "metadata": {
        "id": "lNj35tQeKzRY",
        "trusted": true
      },
      "source": [
        "def Model_Train(model, X_train, Y_train, X_val, Y_val, data_class_weights,\n",
        "                      batch_size=128, num_epochs=128, save_dir=None):\n",
        "  \n",
        "    val_acc = []\n",
        "    loss = []\n",
        "    loss_fn = tf.keras.losses.SparseCategoricalCrossentropy()\n",
        "    optimizer = tf.keras.optimizers.Adam()\n",
        "    best_val_accuracy = 0.\n",
        "    for epoch in range(num_epochs):  \n",
        "\n",
        "        ## Training\n",
        "        train_dataset = tf.data.Dataset.from_tensor_slices((X_train, Y_train))\n",
        "        train_dataset = iter(train_dataset.shuffle(len(X_train)).batch(batch_size))\n",
        "        n_iterations_per_epoch = len(X_train)//(batch_size)\n",
        "        epoch_loss_avg = tf.keras.metrics.Mean()           \n",
        "        for i in range(n_iterations_per_epoch):                \n",
        "            with tf.GradientTape() as tape:\n",
        "                X, Y = next(train_dataset)\n",
        "                sample_weight = [data_class_weights[y] for y in Y.numpy()]                        \n",
        "                logits = model(X)               \n",
        "                loss_value = loss_fn(Y, logits, sample_weight)\n",
        "            gradients = tape.gradient(loss_value, model.trainable_weights)\n",
        "            optimizer.apply_gradients(zip(gradients, model.trainable_weights))                        \n",
        "            epoch_loss_avg.update_state(loss_value)\n",
        "\n",
        "        ## Validation\n",
        "        val_accuracy = tf.keras.metrics.Accuracy()\n",
        "        logits = model(X_val, training=False)\n",
        "        prediction = tf.argmax(logits, axis=1, output_type=tf.int32)\n",
        "        val_accuracy(prediction, Y_val)\n",
        "        current_val_acc = val_accuracy.result()\n",
        "        \n",
        "        if current_val_acc > best_val_accuracy:\n",
        "            best_val_accuracy = current_val_acc\n",
        "            if save_dir:\n",
        "                model.save_weights(save_dir)\n",
        "                \n",
        "        print (\"Epoch {} -- Training Loss = {:.4f} -- Validation Accuracy {:.4f}\".format(\n",
        "            epoch,\n",
        "            epoch_loss_avg.result(),\n",
        "            current_val_acc))\n",
        "        val_acc.append(current_val_acc)\n",
        "        loss.append(epoch_loss_avg.result())\n",
        "    \n",
        "    \n",
        "    if save_dir:\n",
        "        model.load_weights(save_dir)\n",
        "    print(\"Best Validation Accuracy {:.4f}\".format(best_val_accuracy))\n",
        "    print(\"Training Finished! \\n------------------\\n\")\n",
        "    return model,val_acc,loss"
      ],
      "execution_count": null,
      "outputs": []
    },
    {
      "cell_type": "code",
      "metadata": {
        "id": "47JY6Che2z04"
      },
      "source": [
        "def plot_graphs(x, y):\n",
        "    plt.plot(x)\n",
        "    plt.plot(y)\n",
        "    plt.xlabel(\"Epochs\")\n",
        "    plt.ylabel(\"accuracy, loss\")\n",
        "    plt.legend(['validation_accuracy', 'training_loss'])\n",
        "    plt.show()"
      ],
      "execution_count": null,
      "outputs": []
    },
    {
      "cell_type": "code",
      "source": [
        "lbls = [\"Walking\", \"Stairs-Up\", \"Stairs-Down\", \"Sitting\", \"Standing\", \"Lying\"]\n",
        "def plot_confusion_matrix(cm):\n",
        "    fig, ax = plt.subplots(figsize = (12,8))\n",
        "    ax.grid(False)\n",
        "    im = ax.imshow(cm, interpolation = 'nearest', cmap = plt.cm.Oranges)\n",
        "    ax.figure.colorbar(im, ax = ax)\n",
        "    ax.set_xlabel('Predicted label', fontsize=12)\n",
        "    ax.set_ylabel('True label', fontsize=12)\n",
        "    ax.set_xticklabels([''] + lbls)\n",
        "    ax.set_yticklabels([''] + lbls)\n",
        "    plt.xticks(rotation=90)\n",
        "    thresh = cm.max() / 2\n",
        "    for i in range(cm.shape[0]):\n",
        "        for j in range(cm.shape[1]):\n",
        "            ax.text(j, i, int(cm[i,j]), ha = \"center\", va = \"center\", color = \"white\" if cm[i,j]> thresh else \"black\", fontsize=16)\n",
        "            fig.tight_layout()"
      ],
      "metadata": {
        "id": "RgrqvGCTOKMt"
      },
      "execution_count": null,
      "outputs": []
    },
    {
      "cell_type": "code",
      "source": [
        "if flag_b:\n",
        "  #X_test= resampling(X_test,1,0)\n",
        "  print(\"Test Data- Unaugmented\")\n",
        "def Test_Model(model):\n",
        "  test_accuracy = tf.keras.metrics.Accuracy()\n",
        "  logits = model(X_test, training=False)\n",
        "  prediction = tf.argmax(logits, axis=1, output_type=tf.int32)\n",
        "  test_accuracy(prediction, Y_test)\n",
        "  print(\"Test Accuracy {:.4f}\".format(test_accuracy.result()))\n",
        "  cr = classification_report(Y_test, prediction)\n",
        "  print(classification_report(Y_test, prediction))\n",
        "  cm = confusion_matrix(Y_test, prediction)\n",
        "  plot_confusion_matrix(cm)\n",
        "  print(\"Class-wise Accuracy\")\n",
        "  print(cm.diagonal()/cm.sum(axis=1))"
      ],
      "metadata": {
        "id": "J5GoKEGk4hMR"
      },
      "execution_count": null,
      "outputs": []
    },
    {
      "cell_type": "code",
      "metadata": {
        "id": "3asrqlIRUGX8",
        "trusted": true,
        "colab": {
          "base_uri": "https://localhost:8080/",
          "height": 1000
        },
        "outputId": "a1c6504e-3a54-45ca-94fb-70ee9a61c1a5"
      },
      "source": [
        "seed_list=[1234,42,500,2000]\n",
        "tf.random.set_seed(100)\n",
        "flag_b=0\n",
        "model = ConvLSTMCombined((w, h, 1), len(np.unique(Y_train)))\n",
        "  #model.summary()\n",
        "#X_train_Aug= resampling_fast_random(X_train) \n",
        "model,val_acc,loss = Model_Train(model, X_train[len(X_train)//10:], Y_train[len(X_train)//10:],\n",
        "                              X_train[:len(X_train)//10], Y_train[:len(X_train)//10],\n",
        "                              data_class_weights,\n",
        "                              batch_size=64, num_epochs=num_epochs,\n",
        "                              save_dir = \"saved_models/ConvLSTMCombined/model_\" + str(num_epochs))\n",
        "model.save_weights('/content/final_weights_'+str(100))\n",
        "model.save('/content/model_seed_'+str(100))\n",
        "Test_Model(model)\n",
        "flag_b=1\n",
        "for se in seed_list:\n",
        "  tf.random.set_seed(se)\n",
        "  model = ConvLSTMCombined((w, h, 1), len(np.unique(Y_train)))\n",
        "  #model.summary()\n",
        "  #X_train_Aug= resampling(X_train,1,0) \n",
        "  X_train_Aug=X_train\n",
        "  model,val_acc,loss = Model_Train(model, X_train_Aug[len(X_train_Aug)//10:], Y_train[len(X_train_Aug)//10:],\n",
        "                              X_train_Aug[:len(X_train_Aug)//10], Y_train[:len(X_train_Aug)//10],\n",
        "                              data_class_weights,\n",
        "                              batch_size=64, num_epochs=num_epochs,\n",
        "                              save_dir = \"saved_models/ConvLSTMCombined/model_\" + str(num_epochs))\n",
        "  model.save_weights('/content/final_weights_'+str(se))\n",
        "  model.save(\"'/content/model_seed_'+str(se)\")\n",
        "  Test_Model(model)\n"
      ],
      "execution_count": null,
      "outputs": [
        {
          "output_type": "stream",
          "name": "stdout",
          "text": [
            "Epoch 0 -- Training Loss = 1.1209 -- Validation Accuracy 0.4844\n",
            "Epoch 1 -- Training Loss = 0.8716 -- Validation Accuracy 0.5810\n",
            "Epoch 2 -- Training Loss = 0.6929 -- Validation Accuracy 0.6218\n",
            "Epoch 3 -- Training Loss = 0.6242 -- Validation Accuracy 0.6381\n",
            "Epoch 4 -- Training Loss = 0.5845 -- Validation Accuracy 0.6435\n",
            "Epoch 5 -- Training Loss = 0.5599 -- Validation Accuracy 0.6150\n",
            "Epoch 6 -- Training Loss = 0.5736 -- Validation Accuracy 0.6476\n",
            "Epoch 7 -- Training Loss = 0.5678 -- Validation Accuracy 0.6476\n",
            "Epoch 8 -- Training Loss = 0.5380 -- Validation Accuracy 0.6857\n",
            "Epoch 9 -- Training Loss = 0.5457 -- Validation Accuracy 0.6340\n",
            "Epoch 10 -- Training Loss = 0.5383 -- Validation Accuracy 0.6517\n",
            "Epoch 11 -- Training Loss = 0.5360 -- Validation Accuracy 0.6585\n",
            "Epoch 12 -- Training Loss = 0.5426 -- Validation Accuracy 0.6313\n",
            "Epoch 13 -- Training Loss = 0.5485 -- Validation Accuracy 0.6653\n",
            "Epoch 14 -- Training Loss = 0.5362 -- Validation Accuracy 0.6653\n",
            "Epoch 15 -- Training Loss = 0.5286 -- Validation Accuracy 0.6639\n",
            "Epoch 16 -- Training Loss = 0.5266 -- Validation Accuracy 0.6585\n",
            "Epoch 17 -- Training Loss = 0.5383 -- Validation Accuracy 0.6327\n",
            "Epoch 18 -- Training Loss = 0.5271 -- Validation Accuracy 0.6626\n",
            "Epoch 19 -- Training Loss = 0.5221 -- Validation Accuracy 0.6762\n",
            "Epoch 20 -- Training Loss = 0.5393 -- Validation Accuracy 0.6544\n",
            "Epoch 21 -- Training Loss = 0.5201 -- Validation Accuracy 0.6449\n",
            "Epoch 22 -- Training Loss = 0.5053 -- Validation Accuracy 0.7238\n",
            "Epoch 23 -- Training Loss = 0.5071 -- Validation Accuracy 0.6803\n",
            "Epoch 24 -- Training Loss = 0.4896 -- Validation Accuracy 0.7279\n",
            "Epoch 25 -- Training Loss = 0.4614 -- Validation Accuracy 0.7510\n",
            "Epoch 26 -- Training Loss = 0.4165 -- Validation Accuracy 0.8000\n",
            "Epoch 27 -- Training Loss = 0.4366 -- Validation Accuracy 0.8095\n",
            "Epoch 28 -- Training Loss = 0.3417 -- Validation Accuracy 0.8476\n",
            "Epoch 29 -- Training Loss = 0.2877 -- Validation Accuracy 0.8884\n",
            "Epoch 30 -- Training Loss = 0.2301 -- Validation Accuracy 0.9034\n",
            "Epoch 31 -- Training Loss = 0.2946 -- Validation Accuracy 0.8980\n",
            "Epoch 32 -- Training Loss = 0.1946 -- Validation Accuracy 0.9184\n",
            "Epoch 33 -- Training Loss = 0.1570 -- Validation Accuracy 0.9197\n",
            "Epoch 34 -- Training Loss = 0.1546 -- Validation Accuracy 0.9361\n",
            "Epoch 35 -- Training Loss = 0.1209 -- Validation Accuracy 0.9524\n",
            "Epoch 36 -- Training Loss = 0.1109 -- Validation Accuracy 0.9415\n",
            "Epoch 37 -- Training Loss = 0.1015 -- Validation Accuracy 0.9510\n",
            "Epoch 38 -- Training Loss = 0.0796 -- Validation Accuracy 0.9524\n",
            "Epoch 39 -- Training Loss = 0.0724 -- Validation Accuracy 0.9510\n",
            "Epoch 40 -- Training Loss = 0.0750 -- Validation Accuracy 0.9605\n",
            "Epoch 41 -- Training Loss = 0.0725 -- Validation Accuracy 0.9497\n",
            "Epoch 42 -- Training Loss = 0.0630 -- Validation Accuracy 0.9673\n",
            "Epoch 43 -- Training Loss = 0.0611 -- Validation Accuracy 0.9510\n",
            "Epoch 44 -- Training Loss = 0.0513 -- Validation Accuracy 0.9483\n",
            "Epoch 45 -- Training Loss = 0.0560 -- Validation Accuracy 0.9619\n",
            "Epoch 46 -- Training Loss = 0.0411 -- Validation Accuracy 0.9537\n",
            "Epoch 47 -- Training Loss = 0.0439 -- Validation Accuracy 0.9524\n",
            "Epoch 48 -- Training Loss = 0.0275 -- Validation Accuracy 0.9646\n",
            "Epoch 49 -- Training Loss = 0.0247 -- Validation Accuracy 0.9510\n",
            "Epoch 50 -- Training Loss = 0.0351 -- Validation Accuracy 0.9483\n",
            "Epoch 51 -- Training Loss = 0.0374 -- Validation Accuracy 0.9578\n",
            "Epoch 52 -- Training Loss = 0.0322 -- Validation Accuracy 0.9578\n",
            "Epoch 53 -- Training Loss = 0.0302 -- Validation Accuracy 0.9619\n",
            "Epoch 54 -- Training Loss = 0.0199 -- Validation Accuracy 0.9537\n",
            "Epoch 55 -- Training Loss = 0.0193 -- Validation Accuracy 0.9578\n",
            "Epoch 56 -- Training Loss = 0.0356 -- Validation Accuracy 0.9524\n",
            "Epoch 57 -- Training Loss = 0.0240 -- Validation Accuracy 0.9306\n",
            "Epoch 58 -- Training Loss = 0.0330 -- Validation Accuracy 0.9673\n",
            "Epoch 59 -- Training Loss = 0.0189 -- Validation Accuracy 0.9673\n",
            "Epoch 60 -- Training Loss = 0.0208 -- Validation Accuracy 0.9646\n",
            "Epoch 61 -- Training Loss = 0.0173 -- Validation Accuracy 0.9687\n",
            "Epoch 62 -- Training Loss = 0.0347 -- Validation Accuracy 0.9592\n",
            "Epoch 63 -- Training Loss = 0.0425 -- Validation Accuracy 0.9660\n",
            "Epoch 64 -- Training Loss = 0.0174 -- Validation Accuracy 0.9714\n",
            "Best Validation Accuracy 0.9714\n",
            "Training Finished! \n",
            "------------------\n",
            "\n"
          ]
        },
        {
          "output_type": "stream",
          "name": "stderr",
          "text": [
            "WARNING:absl:Found untraced functions such as lstm_cell_2_layer_call_fn, lstm_cell_2_layer_call_and_return_conditional_losses, lstm_cell_3_layer_call_fn, lstm_cell_3_layer_call_and_return_conditional_losses while saving (showing 4 of 4). These functions will not be directly callable after loading.\n"
          ]
        },
        {
          "output_type": "stream",
          "name": "stdout",
          "text": [
            "INFO:tensorflow:Assets written to: /content/model_seed_100/assets\n"
          ]
        },
        {
          "output_type": "stream",
          "name": "stderr",
          "text": [
            "INFO:tensorflow:Assets written to: /content/model_seed_100/assets\n",
            "WARNING:absl:<keras.layers.recurrent.LSTMCell object at 0x7f7d543d1350> has the same name 'LSTMCell' as a built-in Keras object. Consider renaming <class 'keras.layers.recurrent.LSTMCell'> to avoid naming conflicts when loading with `tf.keras.models.load_model`. If renaming is not possible, pass the object in the `custom_objects` parameter of the load function.\n",
            "WARNING:absl:<keras.layers.recurrent.LSTMCell object at 0x7f7d5432eb90> has the same name 'LSTMCell' as a built-in Keras object. Consider renaming <class 'keras.layers.recurrent.LSTMCell'> to avoid naming conflicts when loading with `tf.keras.models.load_model`. If renaming is not possible, pass the object in the `custom_objects` parameter of the load function.\n"
          ]
        },
        {
          "output_type": "stream",
          "name": "stdout",
          "text": [
            "Test Accuracy 0.9335\n",
            "              precision    recall  f1-score   support\n",
            "\n",
            "           0       1.00      0.95      0.97       496\n",
            "           1       0.94      0.96      0.95       471\n",
            "           2       0.96      0.98      0.97       420\n",
            "           3       0.88      0.90      0.89       491\n",
            "           4       0.89      0.93      0.91       532\n",
            "           5       0.94      0.89      0.92       537\n",
            "\n",
            "    accuracy                           0.93      2947\n",
            "   macro avg       0.94      0.94      0.94      2947\n",
            "weighted avg       0.93      0.93      0.93      2947\n",
            "\n",
            "Class-wise Accuracy\n",
            "[0.94959677 0.95541401 0.98333333 0.90224033 0.92857143 0.89385475]\n",
            "Epoch 0 -- Training Loss = 1.1623 -- Validation Accuracy 0.4109\n",
            "Epoch 1 -- Training Loss = 1.2244 -- Validation Accuracy 0.4531\n",
            "Epoch 2 -- Training Loss = 0.8933 -- Validation Accuracy 0.5456\n",
            "Epoch 3 -- Training Loss = 0.7753 -- Validation Accuracy 0.5864\n",
            "Epoch 4 -- Training Loss = 0.6638 -- Validation Accuracy 0.5918\n",
            "Epoch 5 -- Training Loss = 0.6306 -- Validation Accuracy 0.6190\n",
            "Epoch 6 -- Training Loss = 0.5756 -- Validation Accuracy 0.6299\n",
            "Epoch 7 -- Training Loss = 0.5596 -- Validation Accuracy 0.6136\n",
            "Epoch 8 -- Training Loss = 0.5579 -- Validation Accuracy 0.6422\n",
            "Epoch 9 -- Training Loss = 0.5617 -- Validation Accuracy 0.6435\n",
            "Epoch 10 -- Training Loss = 0.5429 -- Validation Accuracy 0.6259\n",
            "Epoch 11 -- Training Loss = 0.5550 -- Validation Accuracy 0.6381\n",
            "Epoch 12 -- Training Loss = 0.5581 -- Validation Accuracy 0.6286\n",
            "Epoch 13 -- Training Loss = 0.5454 -- Validation Accuracy 0.6367\n",
            "Epoch 14 -- Training Loss = 0.5440 -- Validation Accuracy 0.6381\n",
            "Epoch 15 -- Training Loss = 0.5570 -- Validation Accuracy 0.6313\n",
            "Epoch 16 -- Training Loss = 0.5453 -- Validation Accuracy 0.6286\n",
            "Epoch 17 -- Training Loss = 0.5388 -- Validation Accuracy 0.6599\n",
            "Epoch 18 -- Training Loss = 0.5198 -- Validation Accuracy 0.6490\n",
            "Epoch 19 -- Training Loss = 0.5169 -- Validation Accuracy 0.7102\n",
            "Epoch 20 -- Training Loss = 0.4825 -- Validation Accuracy 0.7401\n",
            "Epoch 21 -- Training Loss = 0.4667 -- Validation Accuracy 0.7510\n",
            "Epoch 22 -- Training Loss = 0.4621 -- Validation Accuracy 0.7537\n",
            "Epoch 23 -- Training Loss = 0.4371 -- Validation Accuracy 0.7959\n",
            "Epoch 24 -- Training Loss = 0.4476 -- Validation Accuracy 0.7442\n",
            "Epoch 25 -- Training Loss = 0.4177 -- Validation Accuracy 0.8041\n",
            "Epoch 26 -- Training Loss = 0.3617 -- Validation Accuracy 0.8830\n",
            "Epoch 27 -- Training Loss = 0.3451 -- Validation Accuracy 0.8626\n",
            "Epoch 28 -- Training Loss = 0.2971 -- Validation Accuracy 0.8816\n",
            "Epoch 29 -- Training Loss = 0.3735 -- Validation Accuracy 0.8218\n",
            "Epoch 30 -- Training Loss = 0.3098 -- Validation Accuracy 0.9048\n",
            "Epoch 31 -- Training Loss = 0.2427 -- Validation Accuracy 0.9020\n",
            "Epoch 32 -- Training Loss = 0.2026 -- Validation Accuracy 0.9156\n",
            "Epoch 33 -- Training Loss = 0.1870 -- Validation Accuracy 0.9088\n",
            "Epoch 34 -- Training Loss = 0.1662 -- Validation Accuracy 0.9102\n",
            "Epoch 35 -- Training Loss = 0.1448 -- Validation Accuracy 0.9333\n",
            "Epoch 36 -- Training Loss = 0.1402 -- Validation Accuracy 0.9333\n",
            "Epoch 37 -- Training Loss = 0.1297 -- Validation Accuracy 0.9401\n",
            "Epoch 38 -- Training Loss = 0.1181 -- Validation Accuracy 0.9415\n",
            "Epoch 39 -- Training Loss = 0.1091 -- Validation Accuracy 0.9483\n",
            "Epoch 40 -- Training Loss = 0.0963 -- Validation Accuracy 0.9442\n",
            "Epoch 41 -- Training Loss = 0.0901 -- Validation Accuracy 0.9510\n",
            "Epoch 42 -- Training Loss = 0.0865 -- Validation Accuracy 0.9578\n",
            "Epoch 43 -- Training Loss = 0.0695 -- Validation Accuracy 0.9565\n",
            "Epoch 44 -- Training Loss = 0.0653 -- Validation Accuracy 0.9605\n",
            "Epoch 45 -- Training Loss = 0.0691 -- Validation Accuracy 0.9497\n",
            "Epoch 46 -- Training Loss = 0.0778 -- Validation Accuracy 0.9592\n",
            "Epoch 47 -- Training Loss = 0.0755 -- Validation Accuracy 0.9497\n",
            "Epoch 48 -- Training Loss = 0.0645 -- Validation Accuracy 0.9619\n",
            "Epoch 49 -- Training Loss = 0.0508 -- Validation Accuracy 0.9633\n",
            "Epoch 50 -- Training Loss = 0.0435 -- Validation Accuracy 0.9687\n",
            "Epoch 51 -- Training Loss = 0.0380 -- Validation Accuracy 0.9646\n",
            "Epoch 52 -- Training Loss = 0.0494 -- Validation Accuracy 0.9605\n",
            "Epoch 53 -- Training Loss = 0.0535 -- Validation Accuracy 0.9551\n",
            "Epoch 54 -- Training Loss = 0.0395 -- Validation Accuracy 0.9673\n",
            "Epoch 55 -- Training Loss = 0.0290 -- Validation Accuracy 0.9701\n",
            "Epoch 56 -- Training Loss = 0.0344 -- Validation Accuracy 0.9646\n",
            "Epoch 57 -- Training Loss = 0.0287 -- Validation Accuracy 0.9701\n",
            "Epoch 58 -- Training Loss = 0.0320 -- Validation Accuracy 0.9565\n",
            "Epoch 59 -- Training Loss = 0.0481 -- Validation Accuracy 0.9633\n",
            "Epoch 60 -- Training Loss = 0.0332 -- Validation Accuracy 0.9646\n",
            "Epoch 61 -- Training Loss = 0.0218 -- Validation Accuracy 0.9619\n",
            "Epoch 62 -- Training Loss = 0.0506 -- Validation Accuracy 0.9633\n",
            "Epoch 63 -- Training Loss = 0.0272 -- Validation Accuracy 0.9619\n",
            "Epoch 64 -- Training Loss = 0.0176 -- Validation Accuracy 0.9673\n",
            "Best Validation Accuracy 0.9701\n",
            "Training Finished! \n",
            "------------------\n",
            "\n"
          ]
        },
        {
          "output_type": "stream",
          "name": "stderr",
          "text": [
            "WARNING:absl:Found untraced functions such as lstm_cell_4_layer_call_fn, lstm_cell_4_layer_call_and_return_conditional_losses, lstm_cell_5_layer_call_fn, lstm_cell_5_layer_call_and_return_conditional_losses while saving (showing 4 of 4). These functions will not be directly callable after loading.\n"
          ]
        },
        {
          "output_type": "stream",
          "name": "stdout",
          "text": [
            "INFO:tensorflow:Assets written to: '/content/model_seed_'+str(se)/assets\n"
          ]
        },
        {
          "output_type": "stream",
          "name": "stderr",
          "text": [
            "INFO:tensorflow:Assets written to: '/content/model_seed_'+str(se)/assets\n",
            "WARNING:absl:<keras.layers.recurrent.LSTMCell object at 0x7f7d4da09d10> has the same name 'LSTMCell' as a built-in Keras object. Consider renaming <class 'keras.layers.recurrent.LSTMCell'> to avoid naming conflicts when loading with `tf.keras.models.load_model`. If renaming is not possible, pass the object in the `custom_objects` parameter of the load function.\n",
            "WARNING:absl:<keras.layers.recurrent.LSTMCell object at 0x7f7d4cea21d0> has the same name 'LSTMCell' as a built-in Keras object. Consider renaming <class 'keras.layers.recurrent.LSTMCell'> to avoid naming conflicts when loading with `tf.keras.models.load_model`. If renaming is not possible, pass the object in the `custom_objects` parameter of the load function.\n"
          ]
        },
        {
          "output_type": "stream",
          "name": "stdout",
          "text": [
            "Test Accuracy 0.9128\n",
            "              precision    recall  f1-score   support\n",
            "\n",
            "           0       1.00      0.96      0.98       496\n",
            "           1       0.91      0.99      0.95       471\n",
            "           2       0.98      0.93      0.95       420\n",
            "           3       0.84      0.86      0.85       491\n",
            "           4       0.85      0.92      0.88       532\n",
            "           5       0.93      0.84      0.88       537\n",
            "\n",
            "    accuracy                           0.91      2947\n",
            "   macro avg       0.92      0.91      0.91      2947\n",
            "weighted avg       0.92      0.91      0.91      2947\n",
            "\n",
            "Class-wise Accuracy\n",
            "[0.96370968 0.985138   0.93095238 0.85743381 0.91541353 0.83612663]\n",
            "Epoch 0 -- Training Loss = 1.0772 -- Validation Accuracy 0.5361\n",
            "Epoch 1 -- Training Loss = 0.8421 -- Validation Accuracy 0.5592\n",
            "Epoch 2 -- Training Loss = 0.6987 -- Validation Accuracy 0.5959\n",
            "Epoch 3 -- Training Loss = 0.6068 -- Validation Accuracy 0.6027\n",
            "Epoch 4 -- Training Loss = 0.5830 -- Validation Accuracy 0.6245\n",
            "Epoch 5 -- Training Loss = 0.5863 -- Validation Accuracy 0.6313\n",
            "Epoch 6 -- Training Loss = 0.5516 -- Validation Accuracy 0.6136\n",
            "Epoch 7 -- Training Loss = 0.5544 -- Validation Accuracy 0.6912\n",
            "Epoch 8 -- Training Loss = 0.5438 -- Validation Accuracy 0.6381\n",
            "Epoch 9 -- Training Loss = 0.5264 -- Validation Accuracy 0.7238\n",
            "Epoch 10 -- Training Loss = 0.5022 -- Validation Accuracy 0.7075\n",
            "Epoch 11 -- Training Loss = 0.4750 -- Validation Accuracy 0.7293\n",
            "Epoch 12 -- Training Loss = 0.4748 -- Validation Accuracy 0.7891\n",
            "Epoch 13 -- Training Loss = 0.4504 -- Validation Accuracy 0.7973\n",
            "Epoch 14 -- Training Loss = 0.4282 -- Validation Accuracy 0.6571\n",
            "Epoch 15 -- Training Loss = 0.5649 -- Validation Accuracy 0.6327\n",
            "Epoch 16 -- Training Loss = 0.5431 -- Validation Accuracy 0.6680\n",
            "Epoch 17 -- Training Loss = 0.5255 -- Validation Accuracy 0.6898\n",
            "Epoch 18 -- Training Loss = 0.5262 -- Validation Accuracy 0.6993\n",
            "Epoch 19 -- Training Loss = 0.4979 -- Validation Accuracy 0.7497\n",
            "Epoch 20 -- Training Loss = 0.4552 -- Validation Accuracy 0.7456\n",
            "Epoch 21 -- Training Loss = 0.3792 -- Validation Accuracy 0.8422\n",
            "Epoch 22 -- Training Loss = 0.3227 -- Validation Accuracy 0.8667\n",
            "Epoch 23 -- Training Loss = 0.3343 -- Validation Accuracy 0.8272\n",
            "Epoch 24 -- Training Loss = 0.2959 -- Validation Accuracy 0.8857\n",
            "Epoch 25 -- Training Loss = 0.2495 -- Validation Accuracy 0.9061\n",
            "Epoch 26 -- Training Loss = 0.2034 -- Validation Accuracy 0.9197\n",
            "Epoch 27 -- Training Loss = 0.1861 -- Validation Accuracy 0.9293\n",
            "Epoch 28 -- Training Loss = 0.1646 -- Validation Accuracy 0.9143\n",
            "Epoch 29 -- Training Loss = 0.1765 -- Validation Accuracy 0.9306\n",
            "Epoch 30 -- Training Loss = 0.1309 -- Validation Accuracy 0.9361\n",
            "Epoch 31 -- Training Loss = 0.1336 -- Validation Accuracy 0.9265\n",
            "Epoch 32 -- Training Loss = 0.1231 -- Validation Accuracy 0.9429\n",
            "Epoch 33 -- Training Loss = 0.1007 -- Validation Accuracy 0.9401\n",
            "Epoch 34 -- Training Loss = 0.0923 -- Validation Accuracy 0.9510\n",
            "Epoch 35 -- Training Loss = 0.1051 -- Validation Accuracy 0.9374\n",
            "Epoch 36 -- Training Loss = 0.0946 -- Validation Accuracy 0.9510\n",
            "Epoch 37 -- Training Loss = 0.0835 -- Validation Accuracy 0.9469\n",
            "Epoch 38 -- Training Loss = 0.0738 -- Validation Accuracy 0.9619\n",
            "Epoch 39 -- Training Loss = 0.0879 -- Validation Accuracy 0.9619\n",
            "Epoch 40 -- Training Loss = 0.0608 -- Validation Accuracy 0.9619\n",
            "Epoch 41 -- Training Loss = 0.0598 -- Validation Accuracy 0.9605\n",
            "Epoch 42 -- Training Loss = 0.0572 -- Validation Accuracy 0.9660\n",
            "Epoch 43 -- Training Loss = 0.0527 -- Validation Accuracy 0.9633\n",
            "Epoch 44 -- Training Loss = 0.0528 -- Validation Accuracy 0.9633\n",
            "Epoch 45 -- Training Loss = 0.0412 -- Validation Accuracy 0.9687\n",
            "Epoch 46 -- Training Loss = 0.0287 -- Validation Accuracy 0.9619\n",
            "Epoch 47 -- Training Loss = 0.0323 -- Validation Accuracy 0.9701\n",
            "Epoch 48 -- Training Loss = 0.0300 -- Validation Accuracy 0.9578\n",
            "Epoch 49 -- Training Loss = 0.0307 -- Validation Accuracy 0.9701\n",
            "Epoch 50 -- Training Loss = 0.0309 -- Validation Accuracy 0.9619\n",
            "Epoch 51 -- Training Loss = 0.0308 -- Validation Accuracy 0.9633\n",
            "Epoch 52 -- Training Loss = 0.0347 -- Validation Accuracy 0.9714\n",
            "Epoch 53 -- Training Loss = 0.0214 -- Validation Accuracy 0.9701\n",
            "Epoch 54 -- Training Loss = 0.0310 -- Validation Accuracy 0.9633\n",
            "Epoch 55 -- Training Loss = 0.0307 -- Validation Accuracy 0.9619\n",
            "Epoch 56 -- Training Loss = 0.0290 -- Validation Accuracy 0.9660\n",
            "Epoch 57 -- Training Loss = 0.0304 -- Validation Accuracy 0.9701\n",
            "Epoch 58 -- Training Loss = 0.0163 -- Validation Accuracy 0.9782\n",
            "Epoch 59 -- Training Loss = 0.0072 -- Validation Accuracy 0.9782\n",
            "Epoch 60 -- Training Loss = 0.0213 -- Validation Accuracy 0.9687\n",
            "Epoch 61 -- Training Loss = 0.0219 -- Validation Accuracy 0.9769\n",
            "Epoch 62 -- Training Loss = 0.0148 -- Validation Accuracy 0.9673\n",
            "Epoch 63 -- Training Loss = 0.0260 -- Validation Accuracy 0.9728\n",
            "Epoch 64 -- Training Loss = 0.0364 -- Validation Accuracy 0.9646\n",
            "Best Validation Accuracy 0.9782\n",
            "Training Finished! \n",
            "------------------\n",
            "\n"
          ]
        },
        {
          "output_type": "stream",
          "name": "stderr",
          "text": [
            "WARNING:absl:Found untraced functions such as lstm_cell_6_layer_call_fn, lstm_cell_6_layer_call_and_return_conditional_losses, lstm_cell_7_layer_call_fn, lstm_cell_7_layer_call_and_return_conditional_losses while saving (showing 4 of 4). These functions will not be directly callable after loading.\n"
          ]
        },
        {
          "output_type": "stream",
          "name": "stdout",
          "text": [
            "INFO:tensorflow:Assets written to: '/content/model_seed_'+str(se)/assets\n"
          ]
        },
        {
          "output_type": "stream",
          "name": "stderr",
          "text": [
            "INFO:tensorflow:Assets written to: '/content/model_seed_'+str(se)/assets\n",
            "WARNING:absl:<keras.layers.recurrent.LSTMCell object at 0x7f7d3e151990> has the same name 'LSTMCell' as a built-in Keras object. Consider renaming <class 'keras.layers.recurrent.LSTMCell'> to avoid naming conflicts when loading with `tf.keras.models.load_model`. If renaming is not possible, pass the object in the `custom_objects` parameter of the load function.\n",
            "WARNING:absl:<keras.layers.recurrent.LSTMCell object at 0x7f7d4c1b3550> has the same name 'LSTMCell' as a built-in Keras object. Consider renaming <class 'keras.layers.recurrent.LSTMCell'> to avoid naming conflicts when loading with `tf.keras.models.load_model`. If renaming is not possible, pass the object in the `custom_objects` parameter of the load function.\n"
          ]
        },
        {
          "output_type": "stream",
          "name": "stdout",
          "text": [
            "Test Accuracy 0.9355\n",
            "              precision    recall  f1-score   support\n",
            "\n",
            "           0       0.99      0.99      0.99       496\n",
            "           1       0.95      0.97      0.96       471\n",
            "           2       0.98      0.95      0.96       420\n",
            "           3       0.90      0.90      0.90       491\n",
            "           4       0.89      0.92      0.91       532\n",
            "           5       0.92      0.89      0.90       537\n",
            "\n",
            "    accuracy                           0.94      2947\n",
            "   macro avg       0.94      0.94      0.94      2947\n",
            "weighted avg       0.94      0.94      0.94      2947\n",
            "\n",
            "Class-wise Accuracy\n",
            "[0.99395161 0.97239915 0.94761905 0.89816701 0.92105263 0.88826816]\n",
            "Epoch 0 -- Training Loss = 1.0763 -- Validation Accuracy 0.5320\n",
            "Epoch 1 -- Training Loss = 0.8705 -- Validation Accuracy 0.5905\n",
            "Epoch 2 -- Training Loss = 0.7294 -- Validation Accuracy 0.6000\n",
            "Epoch 3 -- Training Loss = 0.6328 -- Validation Accuracy 0.6136\n",
            "Epoch 4 -- Training Loss = 0.6816 -- Validation Accuracy 0.6367\n",
            "Epoch 5 -- Training Loss = 0.5674 -- Validation Accuracy 0.6435\n",
            "Epoch 6 -- Training Loss = 0.5677 -- Validation Accuracy 0.6327\n",
            "Epoch 7 -- Training Loss = 0.5560 -- Validation Accuracy 0.6327\n",
            "Epoch 8 -- Training Loss = 0.5374 -- Validation Accuracy 0.6762\n",
            "Epoch 9 -- Training Loss = 0.5468 -- Validation Accuracy 0.6476\n",
            "Epoch 10 -- Training Loss = 0.5427 -- Validation Accuracy 0.6639\n",
            "Epoch 11 -- Training Loss = 0.5253 -- Validation Accuracy 0.6816\n",
            "Epoch 12 -- Training Loss = 0.4939 -- Validation Accuracy 0.7415\n",
            "Epoch 13 -- Training Loss = 0.5109 -- Validation Accuracy 0.6939\n",
            "Epoch 14 -- Training Loss = 0.5043 -- Validation Accuracy 0.7673\n",
            "Epoch 15 -- Training Loss = 0.4572 -- Validation Accuracy 0.7633\n",
            "Epoch 16 -- Training Loss = 0.5001 -- Validation Accuracy 0.6585\n",
            "Epoch 17 -- Training Loss = 0.5278 -- Validation Accuracy 0.7170\n",
            "Epoch 18 -- Training Loss = 0.5504 -- Validation Accuracy 0.6776\n",
            "Epoch 19 -- Training Loss = 0.5371 -- Validation Accuracy 0.6490\n",
            "Epoch 20 -- Training Loss = 0.5288 -- Validation Accuracy 0.6599\n",
            "Epoch 21 -- Training Loss = 0.5139 -- Validation Accuracy 0.6966\n",
            "Epoch 22 -- Training Loss = 0.5177 -- Validation Accuracy 0.6912\n",
            "Epoch 23 -- Training Loss = 0.4990 -- Validation Accuracy 0.6912\n",
            "Epoch 24 -- Training Loss = 0.4770 -- Validation Accuracy 0.7347\n",
            "Epoch 25 -- Training Loss = 0.4447 -- Validation Accuracy 0.7741\n",
            "Epoch 26 -- Training Loss = 0.3914 -- Validation Accuracy 0.8571\n",
            "Epoch 27 -- Training Loss = 0.3418 -- Validation Accuracy 0.8871\n",
            "Epoch 28 -- Training Loss = 0.3321 -- Validation Accuracy 0.8286\n",
            "Epoch 29 -- Training Loss = 0.2925 -- Validation Accuracy 0.8245\n",
            "Epoch 30 -- Training Loss = 0.2537 -- Validation Accuracy 0.8762\n",
            "Epoch 31 -- Training Loss = 0.2038 -- Validation Accuracy 0.9224\n",
            "Epoch 32 -- Training Loss = 0.1801 -- Validation Accuracy 0.9238\n",
            "Epoch 33 -- Training Loss = 0.1452 -- Validation Accuracy 0.9211\n",
            "Epoch 34 -- Training Loss = 0.1310 -- Validation Accuracy 0.9306\n",
            "Epoch 35 -- Training Loss = 0.1164 -- Validation Accuracy 0.9347\n",
            "Epoch 36 -- Training Loss = 0.0957 -- Validation Accuracy 0.9497\n",
            "Epoch 37 -- Training Loss = 0.0876 -- Validation Accuracy 0.9497\n",
            "Epoch 38 -- Training Loss = 0.0781 -- Validation Accuracy 0.9442\n",
            "Epoch 39 -- Training Loss = 0.0728 -- Validation Accuracy 0.9333\n",
            "Epoch 40 -- Training Loss = 0.0852 -- Validation Accuracy 0.9497\n",
            "Epoch 41 -- Training Loss = 0.0712 -- Validation Accuracy 0.9524\n",
            "Epoch 42 -- Training Loss = 0.0520 -- Validation Accuracy 0.9537\n",
            "Epoch 43 -- Training Loss = 0.0498 -- Validation Accuracy 0.9497\n",
            "Epoch 44 -- Training Loss = 0.0488 -- Validation Accuracy 0.9578\n",
            "Epoch 45 -- Training Loss = 0.0677 -- Validation Accuracy 0.9578\n",
            "Epoch 46 -- Training Loss = 0.0502 -- Validation Accuracy 0.9646\n",
            "Epoch 47 -- Training Loss = 0.0448 -- Validation Accuracy 0.9673\n",
            "Epoch 48 -- Training Loss = 0.0251 -- Validation Accuracy 0.9619\n",
            "Epoch 49 -- Training Loss = 0.0291 -- Validation Accuracy 0.9633\n",
            "Epoch 50 -- Training Loss = 0.0185 -- Validation Accuracy 0.9619\n",
            "Epoch 51 -- Training Loss = 0.0727 -- Validation Accuracy 0.9605\n",
            "Epoch 52 -- Training Loss = 0.0526 -- Validation Accuracy 0.9578\n",
            "Epoch 53 -- Training Loss = 0.0304 -- Validation Accuracy 0.9578\n",
            "Epoch 54 -- Training Loss = 0.0336 -- Validation Accuracy 0.9673\n",
            "Epoch 55 -- Training Loss = 0.0246 -- Validation Accuracy 0.9633\n",
            "Epoch 56 -- Training Loss = 0.0120 -- Validation Accuracy 0.9673\n",
            "Epoch 57 -- Training Loss = 0.0282 -- Validation Accuracy 0.9605\n",
            "Epoch 58 -- Training Loss = 0.0279 -- Validation Accuracy 0.9660\n",
            "Epoch 59 -- Training Loss = 0.0136 -- Validation Accuracy 0.9619\n",
            "Epoch 60 -- Training Loss = 0.0233 -- Validation Accuracy 0.9633\n",
            "Epoch 61 -- Training Loss = 0.0191 -- Validation Accuracy 0.9741\n",
            "Epoch 62 -- Training Loss = 0.0194 -- Validation Accuracy 0.9497\n",
            "Epoch 63 -- Training Loss = 0.0210 -- Validation Accuracy 0.9592\n",
            "Epoch 64 -- Training Loss = 0.0365 -- Validation Accuracy 0.9469\n",
            "Best Validation Accuracy 0.9741\n",
            "Training Finished! \n",
            "------------------\n",
            "\n"
          ]
        },
        {
          "output_type": "stream",
          "name": "stderr",
          "text": [
            "WARNING:absl:Found untraced functions such as lstm_cell_8_layer_call_fn, lstm_cell_8_layer_call_and_return_conditional_losses, lstm_cell_9_layer_call_fn, lstm_cell_9_layer_call_and_return_conditional_losses while saving (showing 4 of 4). These functions will not be directly callable after loading.\n"
          ]
        },
        {
          "output_type": "stream",
          "name": "stdout",
          "text": [
            "INFO:tensorflow:Assets written to: '/content/model_seed_'+str(se)/assets\n"
          ]
        },
        {
          "output_type": "stream",
          "name": "stderr",
          "text": [
            "INFO:tensorflow:Assets written to: '/content/model_seed_'+str(se)/assets\n",
            "WARNING:absl:<keras.layers.recurrent.LSTMCell object at 0x7f7d5426d450> has the same name 'LSTMCell' as a built-in Keras object. Consider renaming <class 'keras.layers.recurrent.LSTMCell'> to avoid naming conflicts when loading with `tf.keras.models.load_model`. If renaming is not possible, pass the object in the `custom_objects` parameter of the load function.\n",
            "WARNING:absl:<keras.layers.recurrent.LSTMCell object at 0x7f7d4d217550> has the same name 'LSTMCell' as a built-in Keras object. Consider renaming <class 'keras.layers.recurrent.LSTMCell'> to avoid naming conflicts when loading with `tf.keras.models.load_model`. If renaming is not possible, pass the object in the `custom_objects` parameter of the load function.\n"
          ]
        },
        {
          "output_type": "stream",
          "name": "stdout",
          "text": [
            "Test Accuracy 0.9301\n",
            "              precision    recall  f1-score   support\n",
            "\n",
            "           0       0.96      0.99      0.98       496\n",
            "           1       0.96      0.96      0.96       471\n",
            "           2       0.99      0.97      0.98       420\n",
            "           3       0.89      0.88      0.88       491\n",
            "           4       0.86      0.94      0.90       532\n",
            "           5       0.95      0.85      0.90       537\n",
            "\n",
            "    accuracy                           0.93      2947\n",
            "   macro avg       0.93      0.93      0.93      2947\n",
            "weighted avg       0.93      0.93      0.93      2947\n",
            "\n",
            "Class-wise Accuracy\n",
            "[0.99395161 0.95541401 0.97142857 0.87983707 0.93796992 0.8547486 ]\n",
            "Epoch 0 -- Training Loss = 1.1601 -- Validation Accuracy 0.4095\n",
            "Epoch 1 -- Training Loss = 0.8809 -- Validation Accuracy 0.5374\n",
            "Epoch 2 -- Training Loss = 0.6985 -- Validation Accuracy 0.5973\n",
            "Epoch 3 -- Training Loss = 0.6474 -- Validation Accuracy 0.6136\n",
            "Epoch 4 -- Training Loss = 0.5779 -- Validation Accuracy 0.6150\n",
            "Epoch 5 -- Training Loss = 0.5825 -- Validation Accuracy 0.6109\n",
            "Epoch 6 -- Training Loss = 0.5754 -- Validation Accuracy 0.6109\n",
            "Epoch 7 -- Training Loss = 0.5811 -- Validation Accuracy 0.6435\n",
            "Epoch 8 -- Training Loss = 0.5595 -- Validation Accuracy 0.6177\n",
            "Epoch 9 -- Training Loss = 0.5562 -- Validation Accuracy 0.6190\n",
            "Epoch 10 -- Training Loss = 0.5755 -- Validation Accuracy 0.6313\n",
            "Epoch 11 -- Training Loss = 0.5548 -- Validation Accuracy 0.6381\n",
            "Epoch 12 -- Training Loss = 0.5452 -- Validation Accuracy 0.6585\n",
            "Epoch 13 -- Training Loss = 0.5464 -- Validation Accuracy 0.6408\n",
            "Epoch 14 -- Training Loss = 0.5595 -- Validation Accuracy 0.6395\n",
            "Epoch 15 -- Training Loss = 0.5376 -- Validation Accuracy 0.6476\n",
            "Epoch 16 -- Training Loss = 0.5379 -- Validation Accuracy 0.6571\n",
            "Epoch 17 -- Training Loss = 0.5326 -- Validation Accuracy 0.6639\n",
            "Epoch 18 -- Training Loss = 0.5291 -- Validation Accuracy 0.6599\n",
            "Epoch 19 -- Training Loss = 0.5245 -- Validation Accuracy 0.6585\n",
            "Epoch 20 -- Training Loss = 0.5258 -- Validation Accuracy 0.6721\n",
            "Epoch 21 -- Training Loss = 0.5147 -- Validation Accuracy 0.6653\n",
            "Epoch 22 -- Training Loss = 0.5073 -- Validation Accuracy 0.7252\n",
            "Epoch 23 -- Training Loss = 0.5162 -- Validation Accuracy 0.6735\n",
            "Epoch 24 -- Training Loss = 0.5024 -- Validation Accuracy 0.8041\n",
            "Epoch 25 -- Training Loss = 0.5490 -- Validation Accuracy 0.6667\n",
            "Epoch 26 -- Training Loss = 0.5272 -- Validation Accuracy 0.6993\n",
            "Epoch 27 -- Training Loss = 0.5171 -- Validation Accuracy 0.6966\n",
            "Epoch 28 -- Training Loss = 0.4392 -- Validation Accuracy 0.7932\n",
            "Epoch 29 -- Training Loss = 0.4431 -- Validation Accuracy 0.7810\n",
            "Epoch 30 -- Training Loss = 0.3764 -- Validation Accuracy 0.8626\n",
            "Epoch 31 -- Training Loss = 0.2895 -- Validation Accuracy 0.9075\n",
            "Epoch 32 -- Training Loss = 0.2653 -- Validation Accuracy 0.8912\n",
            "Epoch 33 -- Training Loss = 0.2111 -- Validation Accuracy 0.9401\n",
            "Epoch 34 -- Training Loss = 0.1677 -- Validation Accuracy 0.9320\n",
            "Epoch 35 -- Training Loss = 0.1629 -- Validation Accuracy 0.9265\n",
            "Epoch 36 -- Training Loss = 0.1275 -- Validation Accuracy 0.9497\n",
            "Epoch 37 -- Training Loss = 0.1058 -- Validation Accuracy 0.9429\n",
            "Epoch 38 -- Training Loss = 0.1062 -- Validation Accuracy 0.9483\n",
            "Epoch 39 -- Training Loss = 0.0883 -- Validation Accuracy 0.9456\n",
            "Epoch 40 -- Training Loss = 0.0834 -- Validation Accuracy 0.9483\n",
            "Epoch 41 -- Training Loss = 0.0661 -- Validation Accuracy 0.9592\n",
            "Epoch 42 -- Training Loss = 0.0683 -- Validation Accuracy 0.9551\n",
            "Epoch 43 -- Training Loss = 0.0852 -- Validation Accuracy 0.9646\n",
            "Epoch 44 -- Training Loss = 0.1303 -- Validation Accuracy 0.9510\n",
            "Epoch 45 -- Training Loss = 0.0859 -- Validation Accuracy 0.9483\n",
            "Epoch 46 -- Training Loss = 0.0746 -- Validation Accuracy 0.9619\n",
            "Epoch 47 -- Training Loss = 0.0623 -- Validation Accuracy 0.9565\n",
            "Epoch 48 -- Training Loss = 0.0495 -- Validation Accuracy 0.9687\n",
            "Epoch 49 -- Training Loss = 0.0423 -- Validation Accuracy 0.9673\n",
            "Epoch 50 -- Training Loss = 0.0356 -- Validation Accuracy 0.9660\n",
            "Epoch 51 -- Training Loss = 0.0364 -- Validation Accuracy 0.9769\n",
            "Epoch 52 -- Training Loss = 0.0338 -- Validation Accuracy 0.9646\n",
            "Epoch 53 -- Training Loss = 0.0249 -- Validation Accuracy 0.9714\n",
            "Epoch 54 -- Training Loss = 0.0267 -- Validation Accuracy 0.9796\n",
            "Epoch 55 -- Training Loss = 0.0208 -- Validation Accuracy 0.9673\n",
            "Epoch 56 -- Training Loss = 0.0202 -- Validation Accuracy 0.9823\n",
            "Epoch 57 -- Training Loss = 0.0209 -- Validation Accuracy 0.9728\n",
            "Epoch 58 -- Training Loss = 0.0160 -- Validation Accuracy 0.9741\n",
            "Epoch 59 -- Training Loss = 0.0210 -- Validation Accuracy 0.9660\n",
            "Epoch 60 -- Training Loss = 0.0147 -- Validation Accuracy 0.9714\n",
            "Epoch 61 -- Training Loss = 0.0257 -- Validation Accuracy 0.9633\n",
            "Epoch 62 -- Training Loss = 0.0243 -- Validation Accuracy 0.9551\n",
            "Epoch 63 -- Training Loss = 0.0511 -- Validation Accuracy 0.9673\n",
            "Epoch 64 -- Training Loss = 0.0136 -- Validation Accuracy 0.9741\n",
            "Best Validation Accuracy 0.9823\n",
            "Training Finished! \n",
            "------------------\n",
            "\n"
          ]
        },
        {
          "output_type": "stream",
          "name": "stderr",
          "text": [
            "WARNING:absl:Found untraced functions such as lstm_cell_10_layer_call_fn, lstm_cell_10_layer_call_and_return_conditional_losses, lstm_cell_11_layer_call_fn, lstm_cell_11_layer_call_and_return_conditional_losses while saving (showing 4 of 4). These functions will not be directly callable after loading.\n"
          ]
        },
        {
          "output_type": "stream",
          "name": "stdout",
          "text": [
            "INFO:tensorflow:Assets written to: '/content/model_seed_'+str(se)/assets\n"
          ]
        },
        {
          "output_type": "stream",
          "name": "stderr",
          "text": [
            "INFO:tensorflow:Assets written to: '/content/model_seed_'+str(se)/assets\n",
            "WARNING:absl:<keras.layers.recurrent.LSTMCell object at 0x7f7d20f19b50> has the same name 'LSTMCell' as a built-in Keras object. Consider renaming <class 'keras.layers.recurrent.LSTMCell'> to avoid naming conflicts when loading with `tf.keras.models.load_model`. If renaming is not possible, pass the object in the `custom_objects` parameter of the load function.\n",
            "WARNING:absl:<keras.layers.recurrent.LSTMCell object at 0x7f7d4da7c490> has the same name 'LSTMCell' as a built-in Keras object. Consider renaming <class 'keras.layers.recurrent.LSTMCell'> to avoid naming conflicts when loading with `tf.keras.models.load_model`. If renaming is not possible, pass the object in the `custom_objects` parameter of the load function.\n"
          ]
        },
        {
          "output_type": "stream",
          "name": "stdout",
          "text": [
            "Test Accuracy 0.9260\n",
            "              precision    recall  f1-score   support\n",
            "\n",
            "           0       1.00      0.93      0.96       496\n",
            "           1       0.95      0.98      0.96       471\n",
            "           2       0.95      0.99      0.97       420\n",
            "           3       0.84      0.90      0.87       491\n",
            "           4       0.88      0.92      0.90       532\n",
            "           5       0.96      0.86      0.90       537\n",
            "\n",
            "    accuracy                           0.93      2947\n",
            "   macro avg       0.93      0.93      0.93      2947\n",
            "weighted avg       0.93      0.93      0.93      2947\n",
            "\n",
            "Class-wise Accuracy\n",
            "[0.93145161 0.98089172 0.98809524 0.89613035 0.92105263 0.8566108 ]\n"
          ]
        },
        {
          "output_type": "display_data",
          "data": {
            "text/plain": [
              "<Figure size 864x576 with 2 Axes>"
            ],
            "image/png": "[encoded data removed]"
          },
          "metadata": {
            "needs_background": "light"
          }
        },
        {
          "output_type": "display_data",
          "data": {
            "text/plain": [
              "<Figure size 864x576 with 2 Axes>"
            ],
            "image/png": "[encoded data removed]"
          },
          "metadata": {
            "needs_background": "light"
          }
        },
        {
          "output_type": "display_data",
          "data": {
            "text/plain": [
              "<Figure size 864x576 with 2 Axes>"
            ],
            "image/png": "[encoded data removed]"
          },
          "metadata": {
            "needs_background": "light"
          }
        },
        {
          "output_type": "display_data",
          "data": {
            "text/plain": [
              "<Figure size 864x576 with 2 Axes>"
            ],
            "image/png": "[encoded data removed]"
          },
          "metadata": {
            "needs_background": "light"
          }
        },
        {
          "output_type": "display_data",
          "data": {
            "text/plain": [
              "<Figure size 864x576 with 2 Axes>"
            ],
            "image/png": "[encoded data removed]"
          },
          "metadata": {
            "needs_background": "light"
          }
        }
      ]
    },
    {
      "cell_type": "code",
      "source": [
        "model.save_weights('/content/final_weights')"
      ],
      "metadata": {
        "id": "gZKSBkuvT_5Q"
      },
      "execution_count": null,
      "outputs": []
    },
    {
      "cell_type": "code",
      "source": [
        "model.load_weights('/content/final_weights.index')"
      ],
      "metadata": {
        "colab": {
          "base_uri": "https://localhost:8080/",
          "height": 484
        },
        "id": "VAhhVH1xU1ru",
        "outputId": "641d7adb-3a8c-49b7-a150-daefb77ef305"
      },
      "execution_count": null,
      "outputs": [
        {
          "output_type": "error",
          "ename": "AssertionError",
          "evalue": "ignored",
          "traceback": [
            "\u001b[0;31m---------------------------------------------------------------------------\u001b[0m",
            "\u001b[0;31mAssertionError\u001b[0m                            Traceback (most recent call last)",
            "\u001b[0;32m<ipython-input-43-17ba5d189c31>\u001b[0m in \u001b[0;36m<module>\u001b[0;34m()\u001b[0m\n\u001b[0;32m----> 1\u001b[0;31m \u001b[0mmodel\u001b[0m\u001b[0;34m.\u001b[0m\u001b[0mload_weights\u001b[0m\u001b[0;34m(\u001b[0m\u001b[0;34m'/content/final_weights.index'\u001b[0m\u001b[0;34m)\u001b[0m\u001b[0;34m\u001b[0m\u001b[0;34m\u001b[0m\u001b[0m\n\u001b[0m",
            "\u001b[0;32m/usr/local/lib/python3.7/dist-packages/keras/utils/traceback_utils.py\u001b[0m in \u001b[0;36merror_handler\u001b[0;34m(*args, **kwargs)\u001b[0m\n\u001b[1;32m     65\u001b[0m     \u001b[0;32mexcept\u001b[0m \u001b[0mException\u001b[0m \u001b[0;32mas\u001b[0m \u001b[0me\u001b[0m\u001b[0;34m:\u001b[0m  \u001b[0;31m# pylint: disable=broad-except\u001b[0m\u001b[0;34m\u001b[0m\u001b[0;34m\u001b[0m\u001b[0m\n\u001b[1;32m     66\u001b[0m       \u001b[0mfiltered_tb\u001b[0m \u001b[0;34m=\u001b[0m \u001b[0m_process_traceback_frames\u001b[0m\u001b[0;34m(\u001b[0m\u001b[0me\u001b[0m\u001b[0;34m.\u001b[0m\u001b[0m__traceback__\u001b[0m\u001b[0;34m)\u001b[0m\u001b[0;34m\u001b[0m\u001b[0;34m\u001b[0m\u001b[0m\n\u001b[0;32m---> 67\u001b[0;31m       \u001b[0;32mraise\u001b[0m \u001b[0me\u001b[0m\u001b[0;34m.\u001b[0m\u001b[0mwith_traceback\u001b[0m\u001b[0;34m(\u001b[0m\u001b[0mfiltered_tb\u001b[0m\u001b[0;34m)\u001b[0m \u001b[0;32mfrom\u001b[0m \u001b[0;32mNone\u001b[0m\u001b[0;34m\u001b[0m\u001b[0;34m\u001b[0m\u001b[0m\n\u001b[0m\u001b[1;32m     68\u001b[0m     \u001b[0;32mfinally\u001b[0m\u001b[0;34m:\u001b[0m\u001b[0;34m\u001b[0m\u001b[0;34m\u001b[0m\u001b[0m\n\u001b[1;32m     69\u001b[0m       \u001b[0;32mdel\u001b[0m \u001b[0mfiltered_tb\u001b[0m\u001b[0;34m\u001b[0m\u001b[0;34m\u001b[0m\u001b[0m\n",
            "\u001b[0;32m/usr/local/lib/python3.7/dist-packages/tensorflow/python/training/tracking/util.py\u001b[0m in \u001b[0;36massert_consumed\u001b[0;34m(self)\u001b[0m\n\u001b[1;32m   1038\u001b[0m           f\"\\n    {obj}: {attributes}\" for obj, attributes in unused_attributes]\n\u001b[1;32m   1039\u001b[0m       raise AssertionError(\n\u001b[0;32m-> 1040\u001b[0;31m           \u001b[0;34m\"Some objects had attributes which were not restored: \"\u001b[0m\u001b[0;34m\u001b[0m\u001b[0;34m\u001b[0m\u001b[0m\n\u001b[0m\u001b[1;32m   1041\u001b[0m           f\"{unused_attribute_strings}\")\n\u001b[1;32m   1042\u001b[0m     \u001b[0;32mfor\u001b[0m \u001b[0mtrackable\u001b[0m \u001b[0;32min\u001b[0m \u001b[0mself\u001b[0m\u001b[0;34m.\u001b[0m\u001b[0m_graph_view\u001b[0m\u001b[0;34m.\u001b[0m\u001b[0mlist_objects\u001b[0m\u001b[0;34m(\u001b[0m\u001b[0;34m)\u001b[0m\u001b[0;34m:\u001b[0m\u001b[0;34m\u001b[0m\u001b[0;34m\u001b[0m\u001b[0m\n",
            "\u001b[0;31mAssertionError\u001b[0m: Some objects had attributes which were not restored: [\"\\n    <tf.Variable 'conv2d/kernel:0' shape=(5, 1, 1, 64) dtype=float32, numpy=\\narray([[[[-0.01161899,  0.028489  ,  0.15671359,  0.13366093,\\n          -0.15279438,  0.19092451, -0.11339469,  0.11141432,\\n           0.10123517, -0.1856314 ,  0.21452035, -0.02243423,\\n          -0.27481082, -0.12095141,  0.08765836, -0.0680488 ,\\n           0.21380968,  0.13869351,  0.18861671, -0.21466991,\\n           0.12744707, -0.2342676 ,  0.19190452,  0.04308067,\\n           0.091518  , -0.02776614,  0.08935549, -0.24670011,\\n          -0.2416392 ,  0.1113262 , -0.06101735,  0.02250298,\\n          -0.15699889, -0.3039365 , -0.18668574,  0.17392865,\\n           0.13777803,  0.25528297,  0.24428968, -0.04423186,\\n          -0.20226993,  0.21854545, -0.19645846,  0.01913944,\\n           0.22220778, -0.19363128, -0.20673661,  0.07101735,\\n          -0.03333418,  0.26901594,  0.14894839, -0.23060606,\\n           0.2333422 , -0.15046088, -0.17535739, -0.18354397,\\n          -0.18812153, -0.11902574, -0.22840473, -0.25544667,\\n          -0.00206352,  0.22810051,  0.15367004, -0.13384521]]],\\n\\n\\n       [[[ 0.08604712,  0.20413554,  0.29045895,  0.09824014,\\n          -0.1801621 ,  0.12962773, -0.18385476, -0.06257542,\\n           0.1091385 ,  0.02558319, -0.0565047 , -0.14250913,\\n          -0.4330898 , -0.19277216,  0.19056799, -0.16271524,\\n           0.12510878,  0.14743344,  0.09633061, -0.0476714 ,\\n     ..."
          ]
        }
      ]
    },
    {
      "cell_type": "code",
      "metadata": {
        "colab": {
          "base_uri": "https://localhost:8080/",
          "height": 279
        },
        "id": "n8YT1m3b20sv",
        "outputId": "24472791-e7b2-40b7-f926-a4cb2f3039bc"
      },
      "source": [
        "plot_graphs(val_acc,loss)"
      ],
      "execution_count": null,
      "outputs": [
        {
          "output_type": "display_data",
          "data": {
            "text/plain": [
              "<Figure size 432x288 with 1 Axes>"
            ],
            "image/png": "[encoded data removed]"
          },
          "metadata": {
            "needs_background": "light"
          }
        }
      ]
    },
    {
      "cell_type": "markdown",
      "metadata": {
        "id": "gRoocD4lZpgt"
      },
      "source": [
        "### Test Accuracy for standard Model"
      ]
    },
    {
      "cell_type": "code",
      "metadata": {
        "trusted": true,
        "colab": {
          "base_uri": "https://localhost:8080/"
        },
        "id": "HhhD-BRlZpgt",
        "outputId": "b9a25b43-5c83-44ea-d36c-3c3fff408d3b"
      },
      "source": [
        "## Testing\n",
        "test_accuracy = tf.keras.metrics.Accuracy()\n",
        "logits = model(X_test, training=False)\n",
        "prediction = tf.argmax(logits, axis=1, output_type=tf.int32)\n",
        "test_accuracy(prediction, Y_test)\n",
        "print(\"Test Accuracy {:.4f}\".format(test_accuracy.result()))"
      ],
      "execution_count": null,
      "outputs": [
        {
          "output_type": "stream",
          "name": "stdout",
          "text": [
            "Test Accuracy 0.9111\n"
          ]
        }
      ]
    },
    {
      "cell_type": "code",
      "metadata": {
        "colab": {
          "base_uri": "https://localhost:8080/"
        },
        "id": "ZuMPXmwnSCpH",
        "outputId": "655a694f-89ac-4755-c0f5-c99fca26c7b5"
      },
      "source": [
        "cr = classification_report(Y_test, prediction)\n",
        "print(classification_report(Y_test, prediction))"
      ],
      "execution_count": null,
      "outputs": [
        {
          "output_type": "stream",
          "name": "stdout",
          "text": [
            "              precision    recall  f1-score   support\n",
            "\n",
            "           0       0.99      0.94      0.96       496\n",
            "           1       0.92      0.99      0.95       471\n",
            "           2       0.99      0.94      0.97       420\n",
            "           3       0.85      0.85      0.85       491\n",
            "           4       0.84      0.90      0.87       532\n",
            "           5       0.91      0.85      0.88       537\n",
            "\n",
            "    accuracy                           0.91      2947\n",
            "   macro avg       0.92      0.91      0.91      2947\n",
            "weighted avg       0.91      0.91      0.91      2947\n",
            "\n"
          ]
        }
      ]
    },
    {
      "cell_type": "code",
      "metadata": {
        "colab": {
          "base_uri": "https://localhost:8080/"
        },
        "id": "OQ4Llj_ILpO3",
        "outputId": "750acb0d-8678-498a-94bd-5fb87544688c"
      },
      "source": [
        "plot_classification_report(cr)\n",
        "plt.savefig('test_plot_classif_report.png', dpi=200, format='png', bbox_inches='tight')\n",
        "plt.close()"
      ],
      "execution_count": null,
      "outputs": [
        {
          "output_type": "stream",
          "name": "stdout",
          "text": [
            "[0.99, 0.94, 0.96]\n",
            "[0.92, 0.99, 0.95]\n",
            "[0.99, 0.94, 0.97]\n",
            "[0.85, 0.85, 0.85]\n",
            "[0.84, 0.9, 0.87]\n",
            "[0.91, 0.85, 0.88]\n",
            "plotMat: [[0.99, 0.94, 0.96], [0.92, 0.99, 0.95], [0.99, 0.94, 0.97], [0.85, 0.85, 0.85], [0.84, 0.9, 0.87], [0.91, 0.85, 0.88]]\n",
            "support: [496, 471, 420, 491, 532, 537]\n"
          ]
        },
        {
          "output_type": "stream",
          "name": "stderr",
          "text": [
            "/usr/local/lib/python3.7/dist-packages/ipykernel_launcher.py:68: MatplotlibDeprecationWarning: \n",
            "The tick1On function was deprecated in Matplotlib 3.1 and will be removed in 3.3. Use Tick.tick1line.set_visible instead.\n",
            "/usr/local/lib/python3.7/dist-packages/ipykernel_launcher.py:69: MatplotlibDeprecationWarning: \n",
            "The tick2On function was deprecated in Matplotlib 3.1 and will be removed in 3.3. Use Tick.tick2line.set_visible instead.\n",
            "/usr/local/lib/python3.7/dist-packages/ipykernel_launcher.py:71: MatplotlibDeprecationWarning: \n",
            "The tick1On function was deprecated in Matplotlib 3.1 and will be removed in 3.3. Use Tick.tick1line.set_visible instead.\n",
            "/usr/local/lib/python3.7/dist-packages/ipykernel_launcher.py:72: MatplotlibDeprecationWarning: \n",
            "The tick2On function was deprecated in Matplotlib 3.1 and will be removed in 3.3. Use Tick.tick2line.set_visible instead.\n"
          ]
        }
      ]
    },
    {
      "cell_type": "code",
      "metadata": {
        "id": "rDy9hEG4RapZ"
      },
      "source": [
        "lbls = [\"Walking\", \"Stairs-Up\", \"Stairs-Down\", \"Sitting\", \"Standing\", \"Lying\"]\n",
        "def plot_confusion_matrix(cm):\n",
        "    fig, ax = plt.subplots(figsize = (12,8))\n",
        "    ax.grid(False)\n",
        "    im = ax.imshow(cm, interpolation = 'nearest', cmap = plt.cm.Oranges)\n",
        "    ax.figure.colorbar(im, ax = ax)\n",
        "    ax.set_xlabel('Predicted label', fontsize=12)\n",
        "    ax.set_ylabel('True label', fontsize=12)\n",
        "    ax.set_xticklabels([''] + lbls)\n",
        "    ax.set_yticklabels([''] + lbls)\n",
        "    plt.xticks(rotation=90)\n",
        "    thresh = cm.max() / 2\n",
        "    for i in range(cm.shape[0]):\n",
        "        for j in range(cm.shape[1]):\n",
        "            ax.text(j, i, int(cm[i,j]), ha = \"center\", va = \"center\", color = \"white\" if cm[i,j]> thresh else \"black\", fontsize=16)\n",
        "            fig.tight_layout()"
      ],
      "execution_count": null,
      "outputs": []
    },
    {
      "cell_type": "code",
      "metadata": {
        "colab": {
          "base_uri": "https://localhost:8080/",
          "height": 585
        },
        "id": "AT1_J_6mReLb",
        "outputId": "b1bf8604-2651-4e50-c537-3536d8550bda"
      },
      "source": [
        "# Plot confusion Matrix\n",
        "cm = confusion_matrix(Y_test, prediction)\n",
        "plot_confusion_matrix(cm)"
      ],
      "execution_count": null,
      "outputs": [
        {
          "output_type": "display_data",
          "data": {
            "text/plain": [
              "<Figure size 864x576 with 2 Axes>"
            ],
            "image/png": "[encoded data removed]"
          },
          "metadata": {
            "needs_background": "light"
          }
        }
      ]
    },
    {
      "cell_type": "code",
      "source": [
        "#class wise accuracy\n",
        "cm.diagonal()/cm.sum(axis=1)"
      ],
      "metadata": {
        "colab": {
          "base_uri": "https://localhost:8080/"
        },
        "id": "bpKS2EI2E76H",
        "outputId": "6cf41e1b-a8e0-4c14-ca06-ce07b76a3965"
      },
      "execution_count": null,
      "outputs": [
        {
          "output_type": "execute_result",
          "data": {
            "text/plain": [
              "array([0.94153226, 0.99150743, 0.94285714, 0.85336049, 0.90225564,\n",
              "       0.84916201])"
            ]
          },
          "metadata": {},
          "execution_count": 53
        }
      ]
    }
  ]
}