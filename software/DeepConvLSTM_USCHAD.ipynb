{
  "cells": [
    {
      "cell_type": "markdown",
      "metadata": {
        "id": "view-in-github",
        "colab_type": "text"
      },
      "source": [
        "<a href=\"https://colab.research.google.com/github/shreyasrajesh0308/ece209as_project/blob/main/software/DeepConvLSTM_USCHAD.ipynb\" target=\"_parent\"><img src=\"https://colab.research.google.com/assets/colab-badge.svg\" alt=\"Open In Colab\"/></a>"
      ]
    },
    {
      "cell_type": "markdown",
      "id": "3ced1304",
      "metadata": {
        "id": "3ced1304"
      },
      "source": [
        "# LSTM \n",
        "\n",
        "Building the LSTM architecture and experimenting with the USC HAD dataset\n",
        "\n",
        "Results are compared for the following cases:\n",
        "\n",
        "1. Baseline LSTM model.\n",
        "2. Model with weight decay\n",
        "3. Model with Rotation. \n",
        "4. Model with Scale. \n",
        "5. Model with Magnify \n",
        "6. Model with Resample\n",
        "7. Model with Noise\n",
        "\n",
        "|  Activity |  Baseline |  Weight Decay |  Rotation | Scaling  |  Noise |  Resampling | Magnify | \n",
        "|---|---|---|---|---|---|---|---|\n",
        "| Walking Forward | 0.96  |  0.97 |  0.94 |  0.95 |  0.95 |  0.91 | 0.94 | \n",
        "| Walking Left |  0.96 |  0.98 | 0.95 | 0.95  |  0.94 | 0.91  | 0.92 |\n",
        "| Walking Right  | 0.94  | 0.97  |  0.94 |  0.95 |  0.95 | 0.92  | 0.94 |\n",
        "| Walking Upstairs  | 0.97  | 0.98  |  0.95 | 0.98  | 0.95  |  0.89 | 0.95 |\n",
        "| Walking Downstairs | 0.97  |  0.97 |  0.95 |  0.96 | 0.89  |  0.85 | 0.91 |\n",
        "| Running Forward  |  0.98 |  0.99 |  0.99 | 0.99  | 0.97  |  0.96 | 0.98 |\n",
        "|  Jumping |  0.99 |  0.99 | 0.98  | 0.97  |  0.88 | 0.85  | 0.93|\n",
        "|  Sitting |  0.98 |  0.98 | 0.96  | 0.97  |  0.95 | 0.87  | 0.96|\n",
        "|  Standing |  0.91 |  0.92 | 0.92  | 0.89  |  0.83 | 0.8  | 0.85|\n",
        "|  Sleeping |  0.99 |  1.0 | 0.97  | 1.0  |  0.99 | 1.0  | 1.0|\n",
        "|  Elevator Up |  0.47 |  0.64 | 0.37  | 0.37 |  0.34 | 0.41  | 0.49|\n",
        "|  Elevator Down |  0.49 |  0.4 | 0.56  | 0.64  |  0.69 | 0.51  | 0.51|\n",
        "|  Overall Accuracy |  0.88|  0.92 | 0.9  | 0.91  |  0.89 | 0.85  | 0.89|"
      ]
    },
    {
      "cell_type": "code",
      "source": [
        "Label walking forward has mean accuracy 0.95\n",
        "Label walking left has mean accuracy 0.94\n",
        "Label walking right has mean accuracy 0.95\n",
        "Label walking upstairs has mean accuracy 0.95\n",
        "Label walking downstairs has mean accuracy 0.89\n",
        "Label running forward has mean accuracy 0.97\n",
        "Label jumping has mean accuracy 0.88\n",
        "Label sitting has mean accuracy 0.95\n",
        "Label standing  has mean accuracy 0.83\n",
        "Label sleeping  has mean accuracy 0.99\n",
        "Label elevator up has mean accuracy 0.34\n",
        "Label elevator down has mean accuracy 0.69\n"
      ],
      "metadata": {
        "id": "rehlqG65KG9M"
      },
      "id": "rehlqG65KG9M",
      "execution_count": null,
      "outputs": []
    },
    {
      "cell_type": "code",
      "source": [
        "%tensorboard --path_to_logs logs"
      ],
      "metadata": {
        "id": "x6o2jWv4dTHk"
      },
      "id": "x6o2jWv4dTHk",
      "execution_count": null,
      "outputs": []
    },
    {
      "cell_type": "markdown",
      "id": "471e5497",
      "metadata": {
        "id": "471e5497"
      },
      "source": [
        "## Module Import"
      ]
    },
    {
      "cell_type": "code",
      "execution_count": 1,
      "id": "f0127712",
      "metadata": {
        "id": "f0127712"
      },
      "outputs": [],
      "source": [
        "import tensorflow as tf\n",
        "from tensorflow import keras \n",
        "from keras import layers\n",
        "\n",
        "import numpy as np\n",
        "\n",
        "from sklearn.utils import class_weight"
      ]
    },
    {
      "cell_type": "code",
      "source": [
        "from google.colab import drive\n",
        "drive.mount('/content/drive')"
      ],
      "metadata": {
        "colab": {
          "base_uri": "https://localhost:8080/"
        },
        "id": "Wk0ejQrtKRfP",
        "outputId": "c2bce579-6265-4f68-f0a7-3af79a0eb94d"
      },
      "id": "Wk0ejQrtKRfP",
      "execution_count": 2,
      "outputs": [
        {
          "output_type": "stream",
          "name": "stdout",
          "text": [
            "Mounted at /content/drive\n"
          ]
        }
      ]
    },
    {
      "cell_type": "markdown",
      "id": "3780af41",
      "metadata": {
        "id": "3780af41"
      },
      "source": [
        "## Load the Dataset"
      ]
    },
    {
      "cell_type": "code",
      "source": [
        "import os"
      ],
      "metadata": {
        "id": "z-L2RaYGW9v3"
      },
      "id": "z-L2RaYGW9v3",
      "execution_count": 3,
      "outputs": []
    },
    {
      "cell_type": "code",
      "source": [
        "dataset = '/content/drive/My Drive/ECE_209_AS_project_data/USC-HAD/'"
      ],
      "metadata": {
        "id": "GYNuuWS_W40q"
      },
      "id": "GYNuuWS_W40q",
      "execution_count": 4,
      "outputs": []
    },
    {
      "cell_type": "code",
      "source": [
        "import scipy.io\n",
        "mat = scipy.io.loadmat('/content/drive/My Drive/ECE_209_AS_project_data/USC-HAD/Subject13/a11t4.mat')"
      ],
      "metadata": {
        "id": "4UvkMrz_WpbI"
      },
      "id": "4UvkMrz_WpbI",
      "execution_count": 5,
      "outputs": []
    },
    {
      "cell_type": "code",
      "source": [
        "flag =0\n",
        "window =128\n",
        "l = list(range(1,15))\n",
        "for num in l:\n",
        "  dataset_address = dataset + \"Subject\"+str(num) +'/'\n",
        "  for fil in os.listdir(dataset_address):\n",
        "    print(str(dataset_address +fil) )\n",
        "    if str(dataset_address +fil) != '/content/drive/My Drive/ECE_209_AS_project_data/USC-HAD/Subject13/a11t4.mat':\n",
        "      mat = scipy.io.loadmat(str(dataset_address +fil) )\n",
        "      dat = mat['sensor_readings']\n",
        "      N = mat['sensor_readings'].shape[0]\n",
        "      print(N)\n",
        "      re= N % window\n",
        "      q = int(N /window)\n",
        "      dat =dat[ :N-re , :]\n",
        "      dat = dat.reshape(q,window,6)\n",
        "      act  = int(mat['activity_number'][0]) -1\n",
        "      act = q *[act]\n",
        "      if flag==0:\n",
        "        X = dat.copy()\n",
        "        Y = np.array(act)\n",
        "        flag =1\n",
        "\n",
        "      else:\n",
        "        X = np.concatenate((X, dat), axis=0)\n",
        "        Y = np.concatenate((Y, act), axis=0)"
      ],
      "metadata": {
        "colab": {
          "base_uri": "https://localhost:8080/"
        },
        "id": "w-oxHT-mWzVF",
        "outputId": "5f73e4e1-76e4-416e-e05c-69485dc34ce5"
      },
      "id": "w-oxHT-mWzVF",
      "execution_count": 6,
      "outputs": [
        {
          "output_type": "stream",
          "name": "stdout",
          "text": [
            "/content/drive/My Drive/ECE_209_AS_project_data/USC-HAD/Subject1/a7t1.mat\n",
            "1100\n",
            "/content/drive/My Drive/ECE_209_AS_project_data/USC-HAD/Subject1/a6t1.mat\n",
            "1500\n",
            "/content/drive/My Drive/ECE_209_AS_project_data/USC-HAD/Subject1/a1t1.mat\n",
            "2400\n",
            "/content/drive/My Drive/ECE_209_AS_project_data/USC-HAD/Subject1/a2t1.mat\n",
            "2600\n",
            "/content/drive/My Drive/ECE_209_AS_project_data/USC-HAD/Subject1/a3t1.mat\n",
            "3100\n",
            "/content/drive/My Drive/ECE_209_AS_project_data/USC-HAD/Subject1/a2t2.mat\n",
            "3000\n",
            "/content/drive/My Drive/ECE_209_AS_project_data/USC-HAD/Subject1/a2t3.mat\n",
            "3600\n",
            "/content/drive/My Drive/ECE_209_AS_project_data/USC-HAD/Subject1/a2t4.mat\n",
            "3500\n",
            "/content/drive/My Drive/ECE_209_AS_project_data/USC-HAD/Subject1/a2t5.mat\n",
            "3700\n",
            "/content/drive/My Drive/ECE_209_AS_project_data/USC-HAD/Subject1/a3t2.mat\n",
            "3900\n",
            "/content/drive/My Drive/ECE_209_AS_project_data/USC-HAD/Subject1/a3t3.mat\n",
            "3800\n",
            "/content/drive/My Drive/ECE_209_AS_project_data/USC-HAD/Subject1/a3t4.mat\n",
            "4000\n",
            "/content/drive/My Drive/ECE_209_AS_project_data/USC-HAD/Subject1/a3t5.mat\n",
            "3900\n",
            "/content/drive/My Drive/ECE_209_AS_project_data/USC-HAD/Subject1/a6t2.mat\n",
            "1700\n",
            "/content/drive/My Drive/ECE_209_AS_project_data/USC-HAD/Subject1/a6t3.mat\n",
            "1700\n",
            "/content/drive/My Drive/ECE_209_AS_project_data/USC-HAD/Subject1/a6t4.mat\n",
            "1700\n",
            "/content/drive/My Drive/ECE_209_AS_project_data/USC-HAD/Subject1/a6t5.mat\n",
            "1600\n",
            "/content/drive/My Drive/ECE_209_AS_project_data/USC-HAD/Subject1/a7t2.mat\n",
            "1400\n",
            "/content/drive/My Drive/ECE_209_AS_project_data/USC-HAD/Subject1/a7t3.mat\n",
            "1500\n",
            "/content/drive/My Drive/ECE_209_AS_project_data/USC-HAD/Subject1/a7t4.mat\n",
            "1500\n",
            "/content/drive/My Drive/ECE_209_AS_project_data/USC-HAD/Subject1/a7t5.mat\n",
            "1500\n",
            "/content/drive/My Drive/ECE_209_AS_project_data/USC-HAD/Subject1/a8t1.mat\n",
            "4000\n",
            "/content/drive/My Drive/ECE_209_AS_project_data/USC-HAD/Subject1/a8t2.mat\n",
            "4000\n",
            "/content/drive/My Drive/ECE_209_AS_project_data/USC-HAD/Subject1/a8t3.mat\n",
            "4000\n",
            "/content/drive/My Drive/ECE_209_AS_project_data/USC-HAD/Subject1/a8t4.mat\n",
            "4000\n",
            "/content/drive/My Drive/ECE_209_AS_project_data/USC-HAD/Subject1/a8t5.mat\n",
            "4000\n",
            "/content/drive/My Drive/ECE_209_AS_project_data/USC-HAD/Subject1/a9t1.mat\n",
            "2000\n",
            "/content/drive/My Drive/ECE_209_AS_project_data/USC-HAD/Subject1/a9t2.mat\n",
            "2000\n",
            "/content/drive/My Drive/ECE_209_AS_project_data/USC-HAD/Subject1/a9t3.mat\n",
            "2000\n",
            "/content/drive/My Drive/ECE_209_AS_project_data/USC-HAD/Subject1/a9t4.mat\n",
            "2000\n",
            "/content/drive/My Drive/ECE_209_AS_project_data/USC-HAD/Subject1/a9t5.mat\n",
            "1500\n",
            "/content/drive/My Drive/ECE_209_AS_project_data/USC-HAD/Subject1/a1t2.mat\n",
            "2500\n",
            "/content/drive/My Drive/ECE_209_AS_project_data/USC-HAD/Subject1/a1t3.mat\n",
            "2500\n",
            "/content/drive/My Drive/ECE_209_AS_project_data/USC-HAD/Subject1/a1t4.mat\n",
            "2600\n",
            "/content/drive/My Drive/ECE_209_AS_project_data/USC-HAD/Subject1/a1t5.mat\n",
            "2300\n",
            "/content/drive/My Drive/ECE_209_AS_project_data/USC-HAD/Subject1/a4t1.mat\n",
            "7500\n",
            "/content/drive/My Drive/ECE_209_AS_project_data/USC-HAD/Subject1/a5t1.mat\n",
            "7600\n",
            "/content/drive/My Drive/ECE_209_AS_project_data/USC-HAD/Subject1/a4t2.mat\n",
            "7600\n",
            "/content/drive/My Drive/ECE_209_AS_project_data/USC-HAD/Subject1/a5t2.mat\n",
            "6600\n",
            "/content/drive/My Drive/ECE_209_AS_project_data/USC-HAD/Subject1/a4t3.mat\n",
            "6800\n",
            "/content/drive/My Drive/ECE_209_AS_project_data/USC-HAD/Subject1/a5t3.mat\n",
            "6500\n",
            "/content/drive/My Drive/ECE_209_AS_project_data/USC-HAD/Subject1/a4t4.mat\n",
            "3200\n",
            "/content/drive/My Drive/ECE_209_AS_project_data/USC-HAD/Subject1/a5t4.mat\n",
            "3300\n",
            "/content/drive/My Drive/ECE_209_AS_project_data/USC-HAD/Subject1/a4t5.mat\n",
            "5600\n",
            "/content/drive/My Drive/ECE_209_AS_project_data/USC-HAD/Subject1/a5t5.mat\n",
            "4700\n",
            "/content/drive/My Drive/ECE_209_AS_project_data/USC-HAD/Subject1/a10t1.mat\n",
            "4500\n",
            "/content/drive/My Drive/ECE_209_AS_project_data/USC-HAD/Subject1/a10t2.mat\n",
            "5500\n",
            "/content/drive/My Drive/ECE_209_AS_project_data/USC-HAD/Subject1/a10t3.mat\n",
            "5000\n",
            "/content/drive/My Drive/ECE_209_AS_project_data/USC-HAD/Subject1/a10t4.mat\n",
            "5000\n",
            "/content/drive/My Drive/ECE_209_AS_project_data/USC-HAD/Subject1/a10t5.mat\n",
            "5000\n",
            "/content/drive/My Drive/ECE_209_AS_project_data/USC-HAD/Subject1/a12t1.mat\n",
            "1751\n",
            "/content/drive/My Drive/ECE_209_AS_project_data/USC-HAD/Subject1/a12t2.mat\n",
            "1737\n",
            "/content/drive/My Drive/ECE_209_AS_project_data/USC-HAD/Subject1/a12t3.mat\n",
            "1981\n",
            "/content/drive/My Drive/ECE_209_AS_project_data/USC-HAD/Subject1/a12t4.mat\n",
            "1765\n",
            "/content/drive/My Drive/ECE_209_AS_project_data/USC-HAD/Subject1/a12t5.mat\n",
            "1953\n",
            "/content/drive/My Drive/ECE_209_AS_project_data/USC-HAD/Subject1/a11t1.mat\n",
            "1870\n",
            "/content/drive/My Drive/ECE_209_AS_project_data/USC-HAD/Subject1/a11t2.mat\n",
            "1985\n",
            "/content/drive/My Drive/ECE_209_AS_project_data/USC-HAD/Subject1/a11t3.mat\n",
            "1936\n",
            "/content/drive/My Drive/ECE_209_AS_project_data/USC-HAD/Subject1/a11t4.mat\n",
            "1917\n",
            "/content/drive/My Drive/ECE_209_AS_project_data/USC-HAD/Subject1/a11t5.mat\n",
            "1979\n",
            "/content/drive/My Drive/ECE_209_AS_project_data/USC-HAD/Subject2/a1t1.mat\n",
            "2600\n",
            "/content/drive/My Drive/ECE_209_AS_project_data/USC-HAD/Subject2/a2t1.mat\n",
            "2700\n",
            "/content/drive/My Drive/ECE_209_AS_project_data/USC-HAD/Subject2/a3t1.mat\n",
            "3100\n",
            "/content/drive/My Drive/ECE_209_AS_project_data/USC-HAD/Subject2/a6t1.mat\n",
            "1900\n",
            "/content/drive/My Drive/ECE_209_AS_project_data/USC-HAD/Subject2/a7t1.mat\n",
            "1600\n",
            "/content/drive/My Drive/ECE_209_AS_project_data/USC-HAD/Subject2/a1t2.mat\n",
            "2500\n",
            "/content/drive/My Drive/ECE_209_AS_project_data/USC-HAD/Subject2/a1t3.mat\n",
            "2400\n",
            "/content/drive/My Drive/ECE_209_AS_project_data/USC-HAD/Subject2/a1t4.mat\n",
            "2600\n",
            "/content/drive/My Drive/ECE_209_AS_project_data/USC-HAD/Subject2/a1t5.mat\n",
            "2500\n",
            "/content/drive/My Drive/ECE_209_AS_project_data/USC-HAD/Subject2/a2t2.mat\n",
            "2700\n",
            "/content/drive/My Drive/ECE_209_AS_project_data/USC-HAD/Subject2/a2t3.mat\n",
            "3100\n",
            "/content/drive/My Drive/ECE_209_AS_project_data/USC-HAD/Subject2/a2t4.mat\n",
            "3000\n",
            "/content/drive/My Drive/ECE_209_AS_project_data/USC-HAD/Subject2/a2t5.mat\n",
            "4000\n",
            "/content/drive/My Drive/ECE_209_AS_project_data/USC-HAD/Subject2/a3t2.mat\n",
            "3000\n",
            "/content/drive/My Drive/ECE_209_AS_project_data/USC-HAD/Subject2/a3t3.mat\n",
            "3100\n",
            "/content/drive/My Drive/ECE_209_AS_project_data/USC-HAD/Subject2/a3t4.mat\n",
            "3900\n",
            "/content/drive/My Drive/ECE_209_AS_project_data/USC-HAD/Subject2/a3t5.mat\n",
            "4100\n",
            "/content/drive/My Drive/ECE_209_AS_project_data/USC-HAD/Subject2/a6t2.mat\n",
            "1900\n",
            "/content/drive/My Drive/ECE_209_AS_project_data/USC-HAD/Subject2/a6t3.mat\n",
            "1600\n",
            "/content/drive/My Drive/ECE_209_AS_project_data/USC-HAD/Subject2/a6t4.mat\n",
            "1800\n",
            "/content/drive/My Drive/ECE_209_AS_project_data/USC-HAD/Subject2/a6t5.mat\n",
            "1700\n",
            "/content/drive/My Drive/ECE_209_AS_project_data/USC-HAD/Subject2/a7t2.mat\n",
            "1300\n",
            "/content/drive/My Drive/ECE_209_AS_project_data/USC-HAD/Subject2/a7t3.mat\n",
            "1300\n",
            "/content/drive/My Drive/ECE_209_AS_project_data/USC-HAD/Subject2/a7t4.mat\n",
            "1400\n",
            "/content/drive/My Drive/ECE_209_AS_project_data/USC-HAD/Subject2/a7t5.mat\n",
            "1400\n",
            "/content/drive/My Drive/ECE_209_AS_project_data/USC-HAD/Subject2/a8t1.mat\n",
            "2000\n",
            "/content/drive/My Drive/ECE_209_AS_project_data/USC-HAD/Subject2/a8t2.mat\n",
            "2000\n",
            "/content/drive/My Drive/ECE_209_AS_project_data/USC-HAD/Subject2/a8t3.mat\n",
            "2000\n",
            "/content/drive/My Drive/ECE_209_AS_project_data/USC-HAD/Subject2/a8t4.mat\n",
            "2000\n",
            "/content/drive/My Drive/ECE_209_AS_project_data/USC-HAD/Subject2/a8t5.mat\n",
            "2000\n",
            "/content/drive/My Drive/ECE_209_AS_project_data/USC-HAD/Subject2/a9t1.mat\n",
            "2000\n",
            "/content/drive/My Drive/ECE_209_AS_project_data/USC-HAD/Subject2/a9t2.mat\n",
            "2000\n",
            "/content/drive/My Drive/ECE_209_AS_project_data/USC-HAD/Subject2/a9t3.mat\n",
            "2000\n",
            "/content/drive/My Drive/ECE_209_AS_project_data/USC-HAD/Subject2/a9t4.mat\n",
            "2000\n",
            "/content/drive/My Drive/ECE_209_AS_project_data/USC-HAD/Subject2/a9t5.mat\n",
            "1500\n",
            "/content/drive/My Drive/ECE_209_AS_project_data/USC-HAD/Subject2/a4t1.mat\n",
            "4800\n",
            "/content/drive/My Drive/ECE_209_AS_project_data/USC-HAD/Subject2/a5t1.mat\n",
            "4400\n",
            "/content/drive/My Drive/ECE_209_AS_project_data/USC-HAD/Subject2/a4t2.mat\n",
            "4200\n",
            "/content/drive/My Drive/ECE_209_AS_project_data/USC-HAD/Subject2/a5t2.mat\n",
            "3900\n",
            "/content/drive/My Drive/ECE_209_AS_project_data/USC-HAD/Subject2/a4t3.mat\n",
            "5100\n",
            "/content/drive/My Drive/ECE_209_AS_project_data/USC-HAD/Subject2/a5t3.mat\n",
            "4500\n",
            "/content/drive/My Drive/ECE_209_AS_project_data/USC-HAD/Subject2/a4t4.mat\n",
            "4800\n",
            "/content/drive/My Drive/ECE_209_AS_project_data/USC-HAD/Subject2/a5t4.mat\n",
            "4800\n",
            "/content/drive/My Drive/ECE_209_AS_project_data/USC-HAD/Subject2/a4t5.mat\n",
            "2800\n",
            "/content/drive/My Drive/ECE_209_AS_project_data/USC-HAD/Subject2/a5t5.mat\n",
            "4600\n",
            "/content/drive/My Drive/ECE_209_AS_project_data/USC-HAD/Subject2/a12t1.mat\n",
            "3311\n",
            "/content/drive/My Drive/ECE_209_AS_project_data/USC-HAD/Subject2/a12t2.mat\n",
            "1548\n",
            "/content/drive/My Drive/ECE_209_AS_project_data/USC-HAD/Subject2/a12t3.mat\n",
            "2385\n",
            "/content/drive/My Drive/ECE_209_AS_project_data/USC-HAD/Subject2/a12t4.mat\n",
            "2527\n",
            "/content/drive/My Drive/ECE_209_AS_project_data/USC-HAD/Subject2/a12t5.mat\n",
            "2444\n",
            "/content/drive/My Drive/ECE_209_AS_project_data/USC-HAD/Subject2/a11t1.mat\n",
            "1840\n",
            "/content/drive/My Drive/ECE_209_AS_project_data/USC-HAD/Subject2/a11t2.mat\n",
            "1717\n",
            "/content/drive/My Drive/ECE_209_AS_project_data/USC-HAD/Subject2/a11t3.mat\n",
            "2400\n",
            "/content/drive/My Drive/ECE_209_AS_project_data/USC-HAD/Subject2/a11t4.mat\n",
            "2201\n",
            "/content/drive/My Drive/ECE_209_AS_project_data/USC-HAD/Subject2/a11t5.mat\n",
            "2155\n",
            "/content/drive/My Drive/ECE_209_AS_project_data/USC-HAD/Subject2/a10t1.mat\n",
            "5000\n",
            "/content/drive/My Drive/ECE_209_AS_project_data/USC-HAD/Subject2/a10t2.mat\n",
            "5000\n",
            "/content/drive/My Drive/ECE_209_AS_project_data/USC-HAD/Subject2/a10t3.mat\n",
            "5000\n",
            "/content/drive/My Drive/ECE_209_AS_project_data/USC-HAD/Subject2/a10t4.mat\n",
            "5000\n",
            "/content/drive/My Drive/ECE_209_AS_project_data/USC-HAD/Subject2/a10t5.mat\n",
            "5000\n",
            "/content/drive/My Drive/ECE_209_AS_project_data/USC-HAD/Subject3/a1t1.mat\n",
            "3400\n",
            "/content/drive/My Drive/ECE_209_AS_project_data/USC-HAD/Subject3/a1t2.mat\n",
            "2700\n",
            "/content/drive/My Drive/ECE_209_AS_project_data/USC-HAD/Subject3/a6t1.mat\n",
            "2000\n",
            "/content/drive/My Drive/ECE_209_AS_project_data/USC-HAD/Subject3/a7t1.mat\n",
            "1400\n",
            "/content/drive/My Drive/ECE_209_AS_project_data/USC-HAD/Subject3/a1t3.mat\n",
            "2500\n",
            "/content/drive/My Drive/ECE_209_AS_project_data/USC-HAD/Subject3/a1t4.mat\n",
            "2500\n",
            "/content/drive/My Drive/ECE_209_AS_project_data/USC-HAD/Subject3/a1t5.mat\n",
            "2300\n",
            "/content/drive/My Drive/ECE_209_AS_project_data/USC-HAD/Subject3/a6t2.mat\n",
            "1900\n",
            "/content/drive/My Drive/ECE_209_AS_project_data/USC-HAD/Subject3/a6t3.mat\n",
            "1900\n",
            "/content/drive/My Drive/ECE_209_AS_project_data/USC-HAD/Subject3/a6t5.mat\n",
            "1900\n",
            "/content/drive/My Drive/ECE_209_AS_project_data/USC-HAD/Subject3/a6t4.mat\n",
            "1800\n",
            "/content/drive/My Drive/ECE_209_AS_project_data/USC-HAD/Subject3/a7t2.mat\n",
            "1300\n",
            "/content/drive/My Drive/ECE_209_AS_project_data/USC-HAD/Subject3/a7t3.mat\n",
            "1600\n",
            "/content/drive/My Drive/ECE_209_AS_project_data/USC-HAD/Subject3/a7t4.mat\n",
            "1700\n",
            "/content/drive/My Drive/ECE_209_AS_project_data/USC-HAD/Subject3/a7t5.mat\n",
            "1900\n",
            "/content/drive/My Drive/ECE_209_AS_project_data/USC-HAD/Subject3/a8t1.mat\n",
            "3000\n",
            "/content/drive/My Drive/ECE_209_AS_project_data/USC-HAD/Subject3/a8t2.mat\n",
            "3000\n",
            "/content/drive/My Drive/ECE_209_AS_project_data/USC-HAD/Subject3/a8t3.mat\n",
            "3000\n",
            "/content/drive/My Drive/ECE_209_AS_project_data/USC-HAD/Subject3/a8t4.mat\n",
            "3000\n",
            "/content/drive/My Drive/ECE_209_AS_project_data/USC-HAD/Subject3/a8t5.mat\n",
            "2500\n",
            "/content/drive/My Drive/ECE_209_AS_project_data/USC-HAD/Subject3/a9t1.mat\n",
            "3000\n",
            "/content/drive/My Drive/ECE_209_AS_project_data/USC-HAD/Subject3/a9t2.mat\n",
            "3000\n",
            "/content/drive/My Drive/ECE_209_AS_project_data/USC-HAD/Subject3/a9t3.mat\n",
            "3000\n",
            "/content/drive/My Drive/ECE_209_AS_project_data/USC-HAD/Subject3/a9t4.mat\n",
            "3000\n",
            "/content/drive/My Drive/ECE_209_AS_project_data/USC-HAD/Subject3/a9t5.mat\n",
            "3000\n",
            "/content/drive/My Drive/ECE_209_AS_project_data/USC-HAD/Subject3/a4t1.mat\n",
            "900\n",
            "/content/drive/My Drive/ECE_209_AS_project_data/USC-HAD/Subject3/a5t1.mat\n",
            "700\n",
            "/content/drive/My Drive/ECE_209_AS_project_data/USC-HAD/Subject3/a4t2.mat\n",
            "800\n",
            "/content/drive/My Drive/ECE_209_AS_project_data/USC-HAD/Subject3/a5t2.mat\n",
            "700\n",
            "/content/drive/My Drive/ECE_209_AS_project_data/USC-HAD/Subject3/a4t3.mat\n",
            "700\n",
            "/content/drive/My Drive/ECE_209_AS_project_data/USC-HAD/Subject3/a5t3.mat\n",
            "700\n",
            "/content/drive/My Drive/ECE_209_AS_project_data/USC-HAD/Subject3/a4t4.mat\n",
            "700\n",
            "/content/drive/My Drive/ECE_209_AS_project_data/USC-HAD/Subject3/a5t4.mat\n",
            "700\n",
            "/content/drive/My Drive/ECE_209_AS_project_data/USC-HAD/Subject3/a4t5.mat\n",
            "700\n",
            "/content/drive/My Drive/ECE_209_AS_project_data/USC-HAD/Subject3/a5t5.mat\n",
            "700\n",
            "/content/drive/My Drive/ECE_209_AS_project_data/USC-HAD/Subject3/a3t1.mat\n",
            "2100\n",
            "/content/drive/My Drive/ECE_209_AS_project_data/USC-HAD/Subject3/a3t2.mat\n",
            "1800\n",
            "/content/drive/My Drive/ECE_209_AS_project_data/USC-HAD/Subject3/a3t3.mat\n",
            "1800\n",
            "/content/drive/My Drive/ECE_209_AS_project_data/USC-HAD/Subject3/a3t4.mat\n",
            "2700\n",
            "/content/drive/My Drive/ECE_209_AS_project_data/USC-HAD/Subject3/a3t5.mat\n",
            "1700\n",
            "/content/drive/My Drive/ECE_209_AS_project_data/USC-HAD/Subject3/a2t1.mat\n",
            "2000\n",
            "/content/drive/My Drive/ECE_209_AS_project_data/USC-HAD/Subject3/a2t2.mat\n",
            "2200\n",
            "/content/drive/My Drive/ECE_209_AS_project_data/USC-HAD/Subject3/a2t3.mat\n",
            "2300\n",
            "/content/drive/My Drive/ECE_209_AS_project_data/USC-HAD/Subject3/a2t4.mat\n",
            "2200\n",
            "/content/drive/My Drive/ECE_209_AS_project_data/USC-HAD/Subject3/a2t5.mat\n",
            "2200\n",
            "/content/drive/My Drive/ECE_209_AS_project_data/USC-HAD/Subject3/a10t1.mat\n",
            "5000\n",
            "/content/drive/My Drive/ECE_209_AS_project_data/USC-HAD/Subject3/a10t2.mat\n",
            "5000\n",
            "/content/drive/My Drive/ECE_209_AS_project_data/USC-HAD/Subject3/a10t3.mat\n",
            "5000\n",
            "/content/drive/My Drive/ECE_209_AS_project_data/USC-HAD/Subject3/a10t4.mat\n",
            "5000\n",
            "/content/drive/My Drive/ECE_209_AS_project_data/USC-HAD/Subject3/a10t5.mat\n",
            "5000\n",
            "/content/drive/My Drive/ECE_209_AS_project_data/USC-HAD/Subject3/a12t1.mat\n",
            "2852\n",
            "/content/drive/My Drive/ECE_209_AS_project_data/USC-HAD/Subject3/a12t2.mat\n",
            "1805\n",
            "/content/drive/My Drive/ECE_209_AS_project_data/USC-HAD/Subject3/a12t4.mat\n",
            "2304\n",
            "/content/drive/My Drive/ECE_209_AS_project_data/USC-HAD/Subject3/a12t3.mat\n",
            "2076\n",
            "/content/drive/My Drive/ECE_209_AS_project_data/USC-HAD/Subject3/a12t5.mat\n",
            "2265\n",
            "/content/drive/My Drive/ECE_209_AS_project_data/USC-HAD/Subject3/a11t1.mat\n",
            "1997\n",
            "/content/drive/My Drive/ECE_209_AS_project_data/USC-HAD/Subject3/a11t2.mat\n",
            "1952\n",
            "/content/drive/My Drive/ECE_209_AS_project_data/USC-HAD/Subject3/a11t3.mat\n",
            "2277\n",
            "/content/drive/My Drive/ECE_209_AS_project_data/USC-HAD/Subject3/a11t4.mat\n",
            "2392\n",
            "/content/drive/My Drive/ECE_209_AS_project_data/USC-HAD/Subject3/a11t5.mat\n",
            "2580\n",
            "/content/drive/My Drive/ECE_209_AS_project_data/USC-HAD/Subject4/a1t1.mat\n",
            "2900\n",
            "/content/drive/My Drive/ECE_209_AS_project_data/USC-HAD/Subject4/a1t2.mat\n",
            "2900\n",
            "/content/drive/My Drive/ECE_209_AS_project_data/USC-HAD/Subject4/a2t1.mat\n",
            "2300\n",
            "/content/drive/My Drive/ECE_209_AS_project_data/USC-HAD/Subject4/a3t1.mat\n",
            "2300\n",
            "/content/drive/My Drive/ECE_209_AS_project_data/USC-HAD/Subject4/a4t1.mat\n",
            "700\n",
            "/content/drive/My Drive/ECE_209_AS_project_data/USC-HAD/Subject4/a4t2.mat\n",
            "700\n",
            "/content/drive/My Drive/ECE_209_AS_project_data/USC-HAD/Subject4/a5t1.mat\n",
            "600\n",
            "/content/drive/My Drive/ECE_209_AS_project_data/USC-HAD/Subject4/a5t2.mat\n",
            "600\n",
            "/content/drive/My Drive/ECE_209_AS_project_data/USC-HAD/Subject4/a6t1.mat\n",
            "2100\n",
            "/content/drive/My Drive/ECE_209_AS_project_data/USC-HAD/Subject4/a7t1.mat\n",
            "1200\n",
            "/content/drive/My Drive/ECE_209_AS_project_data/USC-HAD/Subject4/a1t3.mat\n",
            "2800\n",
            "/content/drive/My Drive/ECE_209_AS_project_data/USC-HAD/Subject4/a1t4.mat\n",
            "2800\n",
            "/content/drive/My Drive/ECE_209_AS_project_data/USC-HAD/Subject4/a1t5.mat\n",
            "2600\n",
            "/content/drive/My Drive/ECE_209_AS_project_data/USC-HAD/Subject4/a2t2.mat\n",
            "2000\n",
            "/content/drive/My Drive/ECE_209_AS_project_data/USC-HAD/Subject4/a2t3.mat\n",
            "3400\n",
            "/content/drive/My Drive/ECE_209_AS_project_data/USC-HAD/Subject4/a2t4.mat\n",
            "3400\n",
            "/content/drive/My Drive/ECE_209_AS_project_data/USC-HAD/Subject4/a2t5.mat\n",
            "3100\n",
            "/content/drive/My Drive/ECE_209_AS_project_data/USC-HAD/Subject4/a3t2.mat\n",
            "4900\n",
            "/content/drive/My Drive/ECE_209_AS_project_data/USC-HAD/Subject4/a3t3.mat\n",
            "3100\n",
            "/content/drive/My Drive/ECE_209_AS_project_data/USC-HAD/Subject4/a3t4.mat\n",
            "3400\n",
            "/content/drive/My Drive/ECE_209_AS_project_data/USC-HAD/Subject4/a3t5.mat\n",
            "3400\n",
            "/content/drive/My Drive/ECE_209_AS_project_data/USC-HAD/Subject4/a6t2.mat\n",
            "1800\n",
            "/content/drive/My Drive/ECE_209_AS_project_data/USC-HAD/Subject4/a6t3.mat\n",
            "1900\n",
            "/content/drive/My Drive/ECE_209_AS_project_data/USC-HAD/Subject4/a6t4.mat\n",
            "1900\n",
            "/content/drive/My Drive/ECE_209_AS_project_data/USC-HAD/Subject4/a6t5.mat\n",
            "1900\n",
            "/content/drive/My Drive/ECE_209_AS_project_data/USC-HAD/Subject4/a7t2.mat\n",
            "1200\n",
            "/content/drive/My Drive/ECE_209_AS_project_data/USC-HAD/Subject4/a7t3.mat\n",
            "1400\n",
            "/content/drive/My Drive/ECE_209_AS_project_data/USC-HAD/Subject4/a7t4.mat\n",
            "1300\n",
            "/content/drive/My Drive/ECE_209_AS_project_data/USC-HAD/Subject4/a7t5.mat\n",
            "1300\n",
            "/content/drive/My Drive/ECE_209_AS_project_data/USC-HAD/Subject4/a8t1.mat\n",
            "4000\n",
            "/content/drive/My Drive/ECE_209_AS_project_data/USC-HAD/Subject4/a8t2.mat\n",
            "4000\n",
            "/content/drive/My Drive/ECE_209_AS_project_data/USC-HAD/Subject4/a8t3.mat\n",
            "4000\n",
            "/content/drive/My Drive/ECE_209_AS_project_data/USC-HAD/Subject4/a8t4.mat\n",
            "4000\n",
            "/content/drive/My Drive/ECE_209_AS_project_data/USC-HAD/Subject4/a8t5.mat\n",
            "4000\n",
            "/content/drive/My Drive/ECE_209_AS_project_data/USC-HAD/Subject4/a9t1.mat\n",
            "4000\n",
            "/content/drive/My Drive/ECE_209_AS_project_data/USC-HAD/Subject4/a9t2.mat\n",
            "4000\n",
            "/content/drive/My Drive/ECE_209_AS_project_data/USC-HAD/Subject4/a9t3.mat\n",
            "4000\n",
            "/content/drive/My Drive/ECE_209_AS_project_data/USC-HAD/Subject4/a9t4.mat\n",
            "4000\n",
            "/content/drive/My Drive/ECE_209_AS_project_data/USC-HAD/Subject4/a9t5.mat\n",
            "4000\n",
            "/content/drive/My Drive/ECE_209_AS_project_data/USC-HAD/Subject4/a4t3.mat\n",
            "1000\n",
            "/content/drive/My Drive/ECE_209_AS_project_data/USC-HAD/Subject4/a5t3.mat\n",
            "1000\n",
            "/content/drive/My Drive/ECE_209_AS_project_data/USC-HAD/Subject4/a4t4.mat\n",
            "1000\n",
            "/content/drive/My Drive/ECE_209_AS_project_data/USC-HAD/Subject4/a5t4.mat\n",
            "1000\n",
            "/content/drive/My Drive/ECE_209_AS_project_data/USC-HAD/Subject4/a4t5.mat\n",
            "1000\n",
            "/content/drive/My Drive/ECE_209_AS_project_data/USC-HAD/Subject4/a5t5.mat\n",
            "1000\n",
            "/content/drive/My Drive/ECE_209_AS_project_data/USC-HAD/Subject4/a10t1.mat\n",
            "5000\n",
            "/content/drive/My Drive/ECE_209_AS_project_data/USC-HAD/Subject4/a10t2.mat\n",
            "5000\n",
            "/content/drive/My Drive/ECE_209_AS_project_data/USC-HAD/Subject4/a10t3.mat\n",
            "5000\n",
            "/content/drive/My Drive/ECE_209_AS_project_data/USC-HAD/Subject4/a10t4.mat\n",
            "5000\n",
            "/content/drive/My Drive/ECE_209_AS_project_data/USC-HAD/Subject4/a10t5.mat\n",
            "5000\n",
            "/content/drive/My Drive/ECE_209_AS_project_data/USC-HAD/Subject4/a12t1.mat\n",
            "2542\n",
            "/content/drive/My Drive/ECE_209_AS_project_data/USC-HAD/Subject4/a12t2.mat\n",
            "2618\n",
            "/content/drive/My Drive/ECE_209_AS_project_data/USC-HAD/Subject4/a12t3.mat\n",
            "2526\n",
            "/content/drive/My Drive/ECE_209_AS_project_data/USC-HAD/Subject4/a12t4.mat\n",
            "2193\n",
            "/content/drive/My Drive/ECE_209_AS_project_data/USC-HAD/Subject4/a12t5.mat\n",
            "2084\n",
            "/content/drive/My Drive/ECE_209_AS_project_data/USC-HAD/Subject4/a11t1.mat\n",
            "2567\n",
            "/content/drive/My Drive/ECE_209_AS_project_data/USC-HAD/Subject4/a11t2.mat\n",
            "2423\n",
            "/content/drive/My Drive/ECE_209_AS_project_data/USC-HAD/Subject4/a11t3.mat\n",
            "2417\n",
            "/content/drive/My Drive/ECE_209_AS_project_data/USC-HAD/Subject4/a11t4.mat\n",
            "2208\n",
            "/content/drive/My Drive/ECE_209_AS_project_data/USC-HAD/Subject4/a11t5.mat\n",
            "2489\n",
            "/content/drive/My Drive/ECE_209_AS_project_data/USC-HAD/Subject5/a1t1.mat\n",
            "2900\n",
            "/content/drive/My Drive/ECE_209_AS_project_data/USC-HAD/Subject5/a2t1.mat\n",
            "3400\n",
            "/content/drive/My Drive/ECE_209_AS_project_data/USC-HAD/Subject5/a3t1.mat\n",
            "3600\n",
            "/content/drive/My Drive/ECE_209_AS_project_data/USC-HAD/Subject5/a6t1.mat\n",
            "1800\n",
            "/content/drive/My Drive/ECE_209_AS_project_data/USC-HAD/Subject5/a7t1.mat\n",
            "1400\n",
            "/content/drive/My Drive/ECE_209_AS_project_data/USC-HAD/Subject5/a4t1.mat\n",
            "1300\n",
            "/content/drive/My Drive/ECE_209_AS_project_data/USC-HAD/Subject5/a4t2.mat\n",
            "700\n",
            "/content/drive/My Drive/ECE_209_AS_project_data/USC-HAD/Subject5/a5t1.mat\n",
            "800\n",
            "/content/drive/My Drive/ECE_209_AS_project_data/USC-HAD/Subject5/a5t2.mat\n",
            "800\n",
            "/content/drive/My Drive/ECE_209_AS_project_data/USC-HAD/Subject5/a1t2.mat\n",
            "2600\n",
            "/content/drive/My Drive/ECE_209_AS_project_data/USC-HAD/Subject5/a1t3.mat\n",
            "2600\n",
            "/content/drive/My Drive/ECE_209_AS_project_data/USC-HAD/Subject5/a1t4.mat\n",
            "2600\n",
            "/content/drive/My Drive/ECE_209_AS_project_data/USC-HAD/Subject5/a1t5.mat\n",
            "2600\n",
            "/content/drive/My Drive/ECE_209_AS_project_data/USC-HAD/Subject5/a2t2.mat\n",
            "3300\n",
            "/content/drive/My Drive/ECE_209_AS_project_data/USC-HAD/Subject5/a2t3.mat\n",
            "3700\n",
            "/content/drive/My Drive/ECE_209_AS_project_data/USC-HAD/Subject5/a2t4.mat\n",
            "3600\n",
            "/content/drive/My Drive/ECE_209_AS_project_data/USC-HAD/Subject5/a2t5.mat\n",
            "3800\n",
            "/content/drive/My Drive/ECE_209_AS_project_data/USC-HAD/Subject5/a3t2.mat\n",
            "3100\n",
            "/content/drive/My Drive/ECE_209_AS_project_data/USC-HAD/Subject5/a3t3.mat\n",
            "3400\n",
            "/content/drive/My Drive/ECE_209_AS_project_data/USC-HAD/Subject5/a3t4.mat\n",
            "4000\n",
            "/content/drive/My Drive/ECE_209_AS_project_data/USC-HAD/Subject5/a3t5.mat\n",
            "3600\n",
            "/content/drive/My Drive/ECE_209_AS_project_data/USC-HAD/Subject5/a6t2.mat\n",
            "1800\n",
            "/content/drive/My Drive/ECE_209_AS_project_data/USC-HAD/Subject5/a6t3.mat\n",
            "1800\n",
            "/content/drive/My Drive/ECE_209_AS_project_data/USC-HAD/Subject5/a6t4.mat\n",
            "1700\n",
            "/content/drive/My Drive/ECE_209_AS_project_data/USC-HAD/Subject5/a6t5.mat\n",
            "1800\n",
            "/content/drive/My Drive/ECE_209_AS_project_data/USC-HAD/Subject5/a7t2.mat\n",
            "600\n",
            "/content/drive/My Drive/ECE_209_AS_project_data/USC-HAD/Subject5/a7t3.mat\n",
            "600\n",
            "/content/drive/My Drive/ECE_209_AS_project_data/USC-HAD/Subject5/a7t4.mat\n",
            "700\n",
            "/content/drive/My Drive/ECE_209_AS_project_data/USC-HAD/Subject5/a7t5.mat\n",
            "800\n",
            "/content/drive/My Drive/ECE_209_AS_project_data/USC-HAD/Subject5/a8t1.mat\n",
            "2000\n",
            "/content/drive/My Drive/ECE_209_AS_project_data/USC-HAD/Subject5/a8t2.mat\n",
            "2000\n",
            "/content/drive/My Drive/ECE_209_AS_project_data/USC-HAD/Subject5/a8t3.mat\n",
            "2000\n",
            "/content/drive/My Drive/ECE_209_AS_project_data/USC-HAD/Subject5/a8t4.mat\n",
            "2000\n",
            "/content/drive/My Drive/ECE_209_AS_project_data/USC-HAD/Subject5/a8t5.mat\n",
            "2000\n",
            "/content/drive/My Drive/ECE_209_AS_project_data/USC-HAD/Subject5/a9t1.mat\n",
            "2000\n",
            "/content/drive/My Drive/ECE_209_AS_project_data/USC-HAD/Subject5/a9t2.mat\n",
            "2000\n",
            "/content/drive/My Drive/ECE_209_AS_project_data/USC-HAD/Subject5/a9t3.mat\n",
            "2000\n",
            "/content/drive/My Drive/ECE_209_AS_project_data/USC-HAD/Subject5/a9t4.mat\n",
            "2000\n",
            "/content/drive/My Drive/ECE_209_AS_project_data/USC-HAD/Subject5/a9t5.mat\n",
            "2000\n",
            "/content/drive/My Drive/ECE_209_AS_project_data/USC-HAD/Subject5/a5t3.mat\n",
            "900\n",
            "/content/drive/My Drive/ECE_209_AS_project_data/USC-HAD/Subject5/a4t3.mat\n",
            "1500\n",
            "/content/drive/My Drive/ECE_209_AS_project_data/USC-HAD/Subject5/a5t4.mat\n",
            "800\n",
            "/content/drive/My Drive/ECE_209_AS_project_data/USC-HAD/Subject5/a4t4.mat\n",
            "800\n",
            "/content/drive/My Drive/ECE_209_AS_project_data/USC-HAD/Subject5/a5t5.mat\n",
            "800\n",
            "/content/drive/My Drive/ECE_209_AS_project_data/USC-HAD/Subject5/a4t5.mat\n",
            "900\n",
            "/content/drive/My Drive/ECE_209_AS_project_data/USC-HAD/Subject5/a10t1.mat\n",
            "5000\n",
            "/content/drive/My Drive/ECE_209_AS_project_data/USC-HAD/Subject5/a10t2.mat\n",
            "5000\n",
            "/content/drive/My Drive/ECE_209_AS_project_data/USC-HAD/Subject5/a10t3.mat\n",
            "5000\n",
            "/content/drive/My Drive/ECE_209_AS_project_data/USC-HAD/Subject5/a10t4.mat\n",
            "5000\n",
            "/content/drive/My Drive/ECE_209_AS_project_data/USC-HAD/Subject5/a10t5.mat\n",
            "5000\n",
            "/content/drive/My Drive/ECE_209_AS_project_data/USC-HAD/Subject5/a12t1.mat\n",
            "2294\n",
            "/content/drive/My Drive/ECE_209_AS_project_data/USC-HAD/Subject5/a12t2.mat\n",
            "2434\n",
            "/content/drive/My Drive/ECE_209_AS_project_data/USC-HAD/Subject5/a12t3.mat\n",
            "2513\n",
            "/content/drive/My Drive/ECE_209_AS_project_data/USC-HAD/Subject5/a12t4.mat\n",
            "2329\n",
            "/content/drive/My Drive/ECE_209_AS_project_data/USC-HAD/Subject5/a12t5.mat\n",
            "2493\n",
            "/content/drive/My Drive/ECE_209_AS_project_data/USC-HAD/Subject5/a11t1.mat\n",
            "2775\n",
            "/content/drive/My Drive/ECE_209_AS_project_data/USC-HAD/Subject5/a11t2.mat\n",
            "2462\n",
            "/content/drive/My Drive/ECE_209_AS_project_data/USC-HAD/Subject5/a11t3.mat\n",
            "1891\n",
            "/content/drive/My Drive/ECE_209_AS_project_data/USC-HAD/Subject5/a11t4.mat\n",
            "2304\n",
            "/content/drive/My Drive/ECE_209_AS_project_data/USC-HAD/Subject5/a11t5.mat\n",
            "2285\n",
            "/content/drive/My Drive/ECE_209_AS_project_data/USC-HAD/Subject6/a7t1.mat\n",
            "1500\n",
            "/content/drive/My Drive/ECE_209_AS_project_data/USC-HAD/Subject6/a6t1.mat\n",
            "2200\n",
            "/content/drive/My Drive/ECE_209_AS_project_data/USC-HAD/Subject6/a5t1.mat\n",
            "600\n",
            "/content/drive/My Drive/ECE_209_AS_project_data/USC-HAD/Subject6/a1t1.mat\n",
            "2400\n",
            "/content/drive/My Drive/ECE_209_AS_project_data/USC-HAD/Subject6/a2t1.mat\n",
            "2300\n",
            "/content/drive/My Drive/ECE_209_AS_project_data/USC-HAD/Subject6/a3t1.mat\n",
            "2300\n",
            "/content/drive/My Drive/ECE_209_AS_project_data/USC-HAD/Subject6/a4t1.mat\n",
            "600\n",
            "/content/drive/My Drive/ECE_209_AS_project_data/USC-HAD/Subject6/a1t2.mat\n",
            "2500\n",
            "/content/drive/My Drive/ECE_209_AS_project_data/USC-HAD/Subject6/a1t3.mat\n",
            "2700\n",
            "/content/drive/My Drive/ECE_209_AS_project_data/USC-HAD/Subject6/a1t4.mat\n",
            "2600\n",
            "/content/drive/My Drive/ECE_209_AS_project_data/USC-HAD/Subject6/a1t5.mat\n",
            "2700\n",
            "/content/drive/My Drive/ECE_209_AS_project_data/USC-HAD/Subject6/a2t2.mat\n",
            "3600\n",
            "/content/drive/My Drive/ECE_209_AS_project_data/USC-HAD/Subject6/a2t3.mat\n",
            "3300\n",
            "/content/drive/My Drive/ECE_209_AS_project_data/USC-HAD/Subject6/a2t4.mat\n",
            "3500\n",
            "/content/drive/My Drive/ECE_209_AS_project_data/USC-HAD/Subject6/a2t5.mat\n",
            "3900\n",
            "/content/drive/My Drive/ECE_209_AS_project_data/USC-HAD/Subject6/a3t2.mat\n",
            "4200\n",
            "/content/drive/My Drive/ECE_209_AS_project_data/USC-HAD/Subject6/a3t3.mat\n",
            "5000\n",
            "/content/drive/My Drive/ECE_209_AS_project_data/USC-HAD/Subject6/a3t4.mat\n",
            "4500\n",
            "/content/drive/My Drive/ECE_209_AS_project_data/USC-HAD/Subject6/a3t5.mat\n",
            "6000\n",
            "/content/drive/My Drive/ECE_209_AS_project_data/USC-HAD/Subject6/a6t2.mat\n",
            "1800\n",
            "/content/drive/My Drive/ECE_209_AS_project_data/USC-HAD/Subject6/a6t3.mat\n",
            "1900\n",
            "/content/drive/My Drive/ECE_209_AS_project_data/USC-HAD/Subject6/a6t4.mat\n",
            "1900\n",
            "/content/drive/My Drive/ECE_209_AS_project_data/USC-HAD/Subject6/a6t5.mat\n",
            "1900\n",
            "/content/drive/My Drive/ECE_209_AS_project_data/USC-HAD/Subject6/a7t2.mat\n",
            "1000\n",
            "/content/drive/My Drive/ECE_209_AS_project_data/USC-HAD/Subject6/a7t3.mat\n",
            "600\n",
            "/content/drive/My Drive/ECE_209_AS_project_data/USC-HAD/Subject6/a7t4.mat\n",
            "600\n",
            "/content/drive/My Drive/ECE_209_AS_project_data/USC-HAD/Subject6/a7t5.mat\n",
            "600\n",
            "/content/drive/My Drive/ECE_209_AS_project_data/USC-HAD/Subject6/a5t2.mat\n",
            "900\n",
            "/content/drive/My Drive/ECE_209_AS_project_data/USC-HAD/Subject6/a4t2.mat\n",
            "900\n",
            "/content/drive/My Drive/ECE_209_AS_project_data/USC-HAD/Subject6/a5t3.mat\n",
            "800\n",
            "/content/drive/My Drive/ECE_209_AS_project_data/USC-HAD/Subject6/a4t3.mat\n",
            "900\n",
            "/content/drive/My Drive/ECE_209_AS_project_data/USC-HAD/Subject6/a5t4.mat\n",
            "800\n",
            "/content/drive/My Drive/ECE_209_AS_project_data/USC-HAD/Subject6/a4t4.mat\n",
            "800\n",
            "/content/drive/My Drive/ECE_209_AS_project_data/USC-HAD/Subject6/a5t5.mat\n",
            "800\n",
            "/content/drive/My Drive/ECE_209_AS_project_data/USC-HAD/Subject6/a4t5.mat\n",
            "900\n",
            "/content/drive/My Drive/ECE_209_AS_project_data/USC-HAD/Subject6/a8t1.mat\n",
            "4000\n",
            "/content/drive/My Drive/ECE_209_AS_project_data/USC-HAD/Subject6/a8t2.mat\n",
            "4000\n",
            "/content/drive/My Drive/ECE_209_AS_project_data/USC-HAD/Subject6/a8t3.mat\n",
            "4000\n",
            "/content/drive/My Drive/ECE_209_AS_project_data/USC-HAD/Subject6/a8t4.mat\n",
            "4000\n",
            "/content/drive/My Drive/ECE_209_AS_project_data/USC-HAD/Subject6/a8t5.mat\n",
            "4000\n",
            "/content/drive/My Drive/ECE_209_AS_project_data/USC-HAD/Subject6/a9t1.mat\n",
            "4000\n",
            "/content/drive/My Drive/ECE_209_AS_project_data/USC-HAD/Subject6/a9t2.mat\n",
            "4000\n",
            "/content/drive/My Drive/ECE_209_AS_project_data/USC-HAD/Subject6/a9t3.mat\n",
            "4000\n",
            "/content/drive/My Drive/ECE_209_AS_project_data/USC-HAD/Subject6/a9t4.mat\n",
            "4000\n",
            "/content/drive/My Drive/ECE_209_AS_project_data/USC-HAD/Subject6/a9t5.mat\n",
            "4000\n",
            "/content/drive/My Drive/ECE_209_AS_project_data/USC-HAD/Subject6/a10t1.mat\n",
            "5000\n",
            "/content/drive/My Drive/ECE_209_AS_project_data/USC-HAD/Subject6/a10t2.mat\n",
            "5000\n",
            "/content/drive/My Drive/ECE_209_AS_project_data/USC-HAD/Subject6/a10t3.mat\n",
            "5000\n",
            "/content/drive/My Drive/ECE_209_AS_project_data/USC-HAD/Subject6/a10t4.mat\n",
            "5000\n",
            "/content/drive/My Drive/ECE_209_AS_project_data/USC-HAD/Subject6/a10t5.mat\n",
            "5000\n",
            "/content/drive/My Drive/ECE_209_AS_project_data/USC-HAD/Subject6/a12t1.mat\n",
            "2156\n",
            "/content/drive/My Drive/ECE_209_AS_project_data/USC-HAD/Subject6/a12t2.mat\n",
            "1831\n",
            "/content/drive/My Drive/ECE_209_AS_project_data/USC-HAD/Subject6/a12t3.mat\n",
            "1777\n",
            "/content/drive/My Drive/ECE_209_AS_project_data/USC-HAD/Subject6/a12t4.mat\n",
            "2237\n",
            "/content/drive/My Drive/ECE_209_AS_project_data/USC-HAD/Subject6/a12t5.mat\n",
            "2087\n",
            "/content/drive/My Drive/ECE_209_AS_project_data/USC-HAD/Subject6/a11t1.mat\n",
            "1816\n",
            "/content/drive/My Drive/ECE_209_AS_project_data/USC-HAD/Subject6/a11t2.mat\n",
            "2153\n",
            "/content/drive/My Drive/ECE_209_AS_project_data/USC-HAD/Subject6/a11t3.mat\n",
            "2162\n",
            "/content/drive/My Drive/ECE_209_AS_project_data/USC-HAD/Subject6/a11t4.mat\n",
            "1892\n",
            "/content/drive/My Drive/ECE_209_AS_project_data/USC-HAD/Subject6/a11t5.mat\n",
            "2166\n",
            "/content/drive/My Drive/ECE_209_AS_project_data/USC-HAD/Subject7/a1t1.mat\n",
            "2200\n",
            "/content/drive/My Drive/ECE_209_AS_project_data/USC-HAD/Subject7/a1t2.mat\n",
            "1900\n",
            "/content/drive/My Drive/ECE_209_AS_project_data/USC-HAD/Subject7/a1t3.mat\n",
            "1900\n",
            "/content/drive/My Drive/ECE_209_AS_project_data/USC-HAD/Subject7/a1t4.mat\n",
            "2200\n",
            "/content/drive/My Drive/ECE_209_AS_project_data/USC-HAD/Subject7/a1t5.mat\n",
            "2400\n",
            "/content/drive/My Drive/ECE_209_AS_project_data/USC-HAD/Subject7/a7t1.mat\n",
            "1100\n",
            "/content/drive/My Drive/ECE_209_AS_project_data/USC-HAD/Subject7/a7t2.mat\n",
            "2500\n",
            "/content/drive/My Drive/ECE_209_AS_project_data/USC-HAD/Subject7/a7t3.mat\n",
            "1800\n",
            "/content/drive/My Drive/ECE_209_AS_project_data/USC-HAD/Subject7/a7t4.mat\n",
            "1100\n",
            "/content/drive/My Drive/ECE_209_AS_project_data/USC-HAD/Subject7/a7t5.mat\n",
            "1200\n",
            "/content/drive/My Drive/ECE_209_AS_project_data/USC-HAD/Subject7/a6t1.mat\n",
            "1000\n",
            "/content/drive/My Drive/ECE_209_AS_project_data/USC-HAD/Subject7/a6t2.mat\n",
            "1000\n",
            "/content/drive/My Drive/ECE_209_AS_project_data/USC-HAD/Subject7/a6t3.mat\n",
            "1200\n",
            "/content/drive/My Drive/ECE_209_AS_project_data/USC-HAD/Subject7/a6t4.mat\n",
            "1200\n",
            "/content/drive/My Drive/ECE_209_AS_project_data/USC-HAD/Subject7/a6t5.mat\n",
            "1100\n",
            "/content/drive/My Drive/ECE_209_AS_project_data/USC-HAD/Subject7/a2t1.mat\n",
            "1500\n",
            "/content/drive/My Drive/ECE_209_AS_project_data/USC-HAD/Subject7/a2t2.mat\n",
            "2300\n",
            "/content/drive/My Drive/ECE_209_AS_project_data/USC-HAD/Subject7/a2t3.mat\n",
            "2500\n",
            "/content/drive/My Drive/ECE_209_AS_project_data/USC-HAD/Subject7/a2t4.mat\n",
            "2700\n",
            "/content/drive/My Drive/ECE_209_AS_project_data/USC-HAD/Subject7/a2t5.mat\n",
            "2600\n",
            "/content/drive/My Drive/ECE_209_AS_project_data/USC-HAD/Subject7/a3t1.mat\n",
            "2900\n",
            "/content/drive/My Drive/ECE_209_AS_project_data/USC-HAD/Subject7/a3t2.mat\n",
            "2800\n",
            "/content/drive/My Drive/ECE_209_AS_project_data/USC-HAD/Subject7/a3t3.mat\n",
            "3000\n",
            "/content/drive/My Drive/ECE_209_AS_project_data/USC-HAD/Subject7/a3t4.mat\n",
            "3300\n",
            "/content/drive/My Drive/ECE_209_AS_project_data/USC-HAD/Subject7/a3t5.mat\n",
            "4400\n",
            "/content/drive/My Drive/ECE_209_AS_project_data/USC-HAD/Subject7/a8t1.mat\n",
            "3000\n",
            "/content/drive/My Drive/ECE_209_AS_project_data/USC-HAD/Subject7/a8t2.mat\n",
            "3000\n",
            "/content/drive/My Drive/ECE_209_AS_project_data/USC-HAD/Subject7/a8t3.mat\n",
            "3000\n",
            "/content/drive/My Drive/ECE_209_AS_project_data/USC-HAD/Subject7/a8t4.mat\n",
            "2000\n",
            "/content/drive/My Drive/ECE_209_AS_project_data/USC-HAD/Subject7/a8t5.mat\n",
            "3000\n",
            "/content/drive/My Drive/ECE_209_AS_project_data/USC-HAD/Subject7/a9t1.mat\n",
            "3000\n",
            "/content/drive/My Drive/ECE_209_AS_project_data/USC-HAD/Subject7/a9t2.mat\n",
            "3000\n",
            "/content/drive/My Drive/ECE_209_AS_project_data/USC-HAD/Subject7/a9t4.mat\n",
            "3000\n",
            "/content/drive/My Drive/ECE_209_AS_project_data/USC-HAD/Subject7/a4t1.mat\n",
            "800\n",
            "/content/drive/My Drive/ECE_209_AS_project_data/USC-HAD/Subject7/a5t1.mat\n",
            "700\n",
            "/content/drive/My Drive/ECE_209_AS_project_data/USC-HAD/Subject7/a4t2.mat\n",
            "800\n",
            "/content/drive/My Drive/ECE_209_AS_project_data/USC-HAD/Subject7/a5t2.mat\n",
            "900\n",
            "/content/drive/My Drive/ECE_209_AS_project_data/USC-HAD/Subject7/a4t3.mat\n",
            "800\n",
            "/content/drive/My Drive/ECE_209_AS_project_data/USC-HAD/Subject7/a5t3.mat\n",
            "900\n",
            "/content/drive/My Drive/ECE_209_AS_project_data/USC-HAD/Subject7/a4t4.mat\n",
            "900\n",
            "/content/drive/My Drive/ECE_209_AS_project_data/USC-HAD/Subject7/a5t4.mat\n",
            "700\n",
            "/content/drive/My Drive/ECE_209_AS_project_data/USC-HAD/Subject7/a4t5.mat\n",
            "900\n",
            "/content/drive/My Drive/ECE_209_AS_project_data/USC-HAD/Subject7/a5t5.mat\n",
            "800\n",
            "/content/drive/My Drive/ECE_209_AS_project_data/USC-HAD/Subject7/a9t3.mat\n",
            "3000\n",
            "/content/drive/My Drive/ECE_209_AS_project_data/USC-HAD/Subject7/a9t5.mat\n",
            "3000\n",
            "/content/drive/My Drive/ECE_209_AS_project_data/USC-HAD/Subject7/a10t1.mat\n",
            "5000\n",
            "/content/drive/My Drive/ECE_209_AS_project_data/USC-HAD/Subject7/a10t2.mat\n",
            "5000\n",
            "/content/drive/My Drive/ECE_209_AS_project_data/USC-HAD/Subject7/a10t3.mat\n",
            "5000\n",
            "/content/drive/My Drive/ECE_209_AS_project_data/USC-HAD/Subject7/a10t4.mat\n",
            "5000\n",
            "/content/drive/My Drive/ECE_209_AS_project_data/USC-HAD/Subject7/a10t5.mat\n",
            "5000\n",
            "/content/drive/My Drive/ECE_209_AS_project_data/USC-HAD/Subject7/a12t1.mat\n",
            "1957\n",
            "/content/drive/My Drive/ECE_209_AS_project_data/USC-HAD/Subject7/a12t2.mat\n",
            "2103\n",
            "/content/drive/My Drive/ECE_209_AS_project_data/USC-HAD/Subject7/a12t3.mat\n",
            "2940\n",
            "/content/drive/My Drive/ECE_209_AS_project_data/USC-HAD/Subject7/a12t4.mat\n",
            "1930\n",
            "/content/drive/My Drive/ECE_209_AS_project_data/USC-HAD/Subject7/a12t5.mat\n",
            "2185\n",
            "/content/drive/My Drive/ECE_209_AS_project_data/USC-HAD/Subject7/a11t1.mat\n",
            "2199\n",
            "/content/drive/My Drive/ECE_209_AS_project_data/USC-HAD/Subject7/a11t2.mat\n",
            "1935\n",
            "/content/drive/My Drive/ECE_209_AS_project_data/USC-HAD/Subject7/a11t3.mat\n",
            "1898\n",
            "/content/drive/My Drive/ECE_209_AS_project_data/USC-HAD/Subject7/a11t4.mat\n",
            "1652\n",
            "/content/drive/My Drive/ECE_209_AS_project_data/USC-HAD/Subject7/a11t5.mat\n",
            "1846\n",
            "/content/drive/My Drive/ECE_209_AS_project_data/USC-HAD/Subject8/a7t1.mat\n",
            "1400\n",
            "/content/drive/My Drive/ECE_209_AS_project_data/USC-HAD/Subject8/a7t2.mat\n",
            "1400\n",
            "/content/drive/My Drive/ECE_209_AS_project_data/USC-HAD/Subject8/a7t3.mat\n",
            "1400\n",
            "/content/drive/My Drive/ECE_209_AS_project_data/USC-HAD/Subject8/a7t4.mat\n",
            "1500\n",
            "/content/drive/My Drive/ECE_209_AS_project_data/USC-HAD/Subject8/a7t5.mat\n",
            "1450\n",
            "/content/drive/My Drive/ECE_209_AS_project_data/USC-HAD/Subject8/a4t1.mat\n",
            "4500\n",
            "/content/drive/My Drive/ECE_209_AS_project_data/USC-HAD/Subject8/a4t2.mat\n",
            "3400\n",
            "/content/drive/My Drive/ECE_209_AS_project_data/USC-HAD/Subject8/a4t3.mat\n",
            "3500\n",
            "/content/drive/My Drive/ECE_209_AS_project_data/USC-HAD/Subject8/a4t4.mat\n",
            "5100\n",
            "/content/drive/My Drive/ECE_209_AS_project_data/USC-HAD/Subject8/a4t5.mat\n",
            "4800\n",
            "/content/drive/My Drive/ECE_209_AS_project_data/USC-HAD/Subject8/a5t1.mat\n",
            "3600\n",
            "/content/drive/My Drive/ECE_209_AS_project_data/USC-HAD/Subject8/a5t2.mat\n",
            "4100\n",
            "/content/drive/My Drive/ECE_209_AS_project_data/USC-HAD/Subject8/a5t3.mat\n",
            "4100\n",
            "/content/drive/My Drive/ECE_209_AS_project_data/USC-HAD/Subject8/a5t4.mat\n",
            "4300\n",
            "/content/drive/My Drive/ECE_209_AS_project_data/USC-HAD/Subject8/a5t5.mat\n",
            "5100\n",
            "/content/drive/My Drive/ECE_209_AS_project_data/USC-HAD/Subject8/a1t1.mat\n",
            "3000\n",
            "/content/drive/My Drive/ECE_209_AS_project_data/USC-HAD/Subject8/a1t2.mat\n",
            "3000\n",
            "/content/drive/My Drive/ECE_209_AS_project_data/USC-HAD/Subject8/a1t3.mat\n",
            "3000\n",
            "/content/drive/My Drive/ECE_209_AS_project_data/USC-HAD/Subject8/a1t4.mat\n",
            "3000\n",
            "/content/drive/My Drive/ECE_209_AS_project_data/USC-HAD/Subject8/a1t5.mat\n",
            "3000\n",
            "/content/drive/My Drive/ECE_209_AS_project_data/USC-HAD/Subject8/a6t1.mat\n",
            "3000\n",
            "/content/drive/My Drive/ECE_209_AS_project_data/USC-HAD/Subject8/a6t2.mat\n",
            "3000\n",
            "/content/drive/My Drive/ECE_209_AS_project_data/USC-HAD/Subject8/a6t3.mat\n",
            "3000\n",
            "/content/drive/My Drive/ECE_209_AS_project_data/USC-HAD/Subject8/a6t4.mat\n",
            "3000\n",
            "/content/drive/My Drive/ECE_209_AS_project_data/USC-HAD/Subject8/a6t5.mat\n",
            "3000\n",
            "/content/drive/My Drive/ECE_209_AS_project_data/USC-HAD/Subject8/a8t1.mat\n",
            "3000\n",
            "/content/drive/My Drive/ECE_209_AS_project_data/USC-HAD/Subject8/a8t2.mat\n",
            "3000\n",
            "/content/drive/My Drive/ECE_209_AS_project_data/USC-HAD/Subject8/a8t3.mat\n",
            "3000\n",
            "/content/drive/My Drive/ECE_209_AS_project_data/USC-HAD/Subject8/a8t4.mat\n",
            "3000\n",
            "/content/drive/My Drive/ECE_209_AS_project_data/USC-HAD/Subject8/a8t5.mat\n",
            "3000\n",
            "/content/drive/My Drive/ECE_209_AS_project_data/USC-HAD/Subject8/a9t1.mat\n",
            "3000\n",
            "/content/drive/My Drive/ECE_209_AS_project_data/USC-HAD/Subject8/a9t2.mat\n",
            "3000\n",
            "/content/drive/My Drive/ECE_209_AS_project_data/USC-HAD/Subject8/a9t3.mat\n",
            "3000\n",
            "/content/drive/My Drive/ECE_209_AS_project_data/USC-HAD/Subject8/a9t4.mat\n",
            "3000\n",
            "/content/drive/My Drive/ECE_209_AS_project_data/USC-HAD/Subject8/a9t5.mat\n",
            "3000\n",
            "/content/drive/My Drive/ECE_209_AS_project_data/USC-HAD/Subject8/a2t1.mat\n",
            "3800\n",
            "/content/drive/My Drive/ECE_209_AS_project_data/USC-HAD/Subject8/a2t2.mat\n",
            "4100\n",
            "/content/drive/My Drive/ECE_209_AS_project_data/USC-HAD/Subject8/a2t3.mat\n",
            "5800\n",
            "/content/drive/My Drive/ECE_209_AS_project_data/USC-HAD/Subject8/a2t4.mat\n",
            "5400\n",
            "/content/drive/My Drive/ECE_209_AS_project_data/USC-HAD/Subject8/a2t5.mat\n",
            "6600\n",
            "/content/drive/My Drive/ECE_209_AS_project_data/USC-HAD/Subject8/a3t1.mat\n",
            "4400\n",
            "/content/drive/My Drive/ECE_209_AS_project_data/USC-HAD/Subject8/a3t2.mat\n",
            "4600\n",
            "/content/drive/My Drive/ECE_209_AS_project_data/USC-HAD/Subject8/a3t3.mat\n",
            "6400\n",
            "/content/drive/My Drive/ECE_209_AS_project_data/USC-HAD/Subject8/a3t4.mat\n",
            "6100\n",
            "/content/drive/My Drive/ECE_209_AS_project_data/USC-HAD/Subject8/a3t5.mat\n",
            "6400\n",
            "/content/drive/My Drive/ECE_209_AS_project_data/USC-HAD/Subject8/a12t1.mat\n",
            "1629\n",
            "/content/drive/My Drive/ECE_209_AS_project_data/USC-HAD/Subject8/a12t2.mat\n",
            "2088\n",
            "/content/drive/My Drive/ECE_209_AS_project_data/USC-HAD/Subject8/a12t3.mat\n",
            "1605\n",
            "/content/drive/My Drive/ECE_209_AS_project_data/USC-HAD/Subject8/a12t4.mat\n",
            "2196\n",
            "/content/drive/My Drive/ECE_209_AS_project_data/USC-HAD/Subject8/a12t5.mat\n",
            "1990\n",
            "/content/drive/My Drive/ECE_209_AS_project_data/USC-HAD/Subject8/a11t1.mat\n",
            "1617\n",
            "/content/drive/My Drive/ECE_209_AS_project_data/USC-HAD/Subject8/a11t2.mat\n",
            "1700\n",
            "/content/drive/My Drive/ECE_209_AS_project_data/USC-HAD/Subject8/a11t3.mat\n",
            "1658\n",
            "/content/drive/My Drive/ECE_209_AS_project_data/USC-HAD/Subject8/a11t4.mat\n",
            "2194\n",
            "/content/drive/My Drive/ECE_209_AS_project_data/USC-HAD/Subject8/a11t5.mat\n",
            "1924\n",
            "/content/drive/My Drive/ECE_209_AS_project_data/USC-HAD/Subject8/a10t1.mat\n",
            "5000\n",
            "/content/drive/My Drive/ECE_209_AS_project_data/USC-HAD/Subject8/a10t2.mat\n",
            "5000\n",
            "/content/drive/My Drive/ECE_209_AS_project_data/USC-HAD/Subject8/a10t3.mat\n",
            "5000\n",
            "/content/drive/My Drive/ECE_209_AS_project_data/USC-HAD/Subject8/a10t4.mat\n",
            "5000\n",
            "/content/drive/My Drive/ECE_209_AS_project_data/USC-HAD/Subject8/a10t5.mat\n",
            "5000\n",
            "/content/drive/My Drive/ECE_209_AS_project_data/USC-HAD/Subject9/a1t1.mat\n",
            "7800\n",
            "/content/drive/My Drive/ECE_209_AS_project_data/USC-HAD/Subject9/a1t2.mat\n",
            "8600\n",
            "/content/drive/My Drive/ECE_209_AS_project_data/USC-HAD/Subject9/a1t3.mat\n",
            "8900\n",
            "/content/drive/My Drive/ECE_209_AS_project_data/USC-HAD/Subject9/a1t4.mat\n",
            "8700\n",
            "/content/drive/My Drive/ECE_209_AS_project_data/USC-HAD/Subject9/a1t5.mat\n",
            "8500\n",
            "/content/drive/My Drive/ECE_209_AS_project_data/USC-HAD/Subject9/a2t1.mat\n",
            "5900\n",
            "/content/drive/My Drive/ECE_209_AS_project_data/USC-HAD/Subject9/a2t2.mat\n",
            "4000\n",
            "/content/drive/My Drive/ECE_209_AS_project_data/USC-HAD/Subject9/a2t3.mat\n",
            "4100\n",
            "/content/drive/My Drive/ECE_209_AS_project_data/USC-HAD/Subject9/a2t4.mat\n",
            "4100\n",
            "/content/drive/My Drive/ECE_209_AS_project_data/USC-HAD/Subject9/a2t5.mat\n",
            "4400\n",
            "/content/drive/My Drive/ECE_209_AS_project_data/USC-HAD/Subject9/a3t1.mat\n",
            "4500\n",
            "/content/drive/My Drive/ECE_209_AS_project_data/USC-HAD/Subject9/a3t2.mat\n",
            "4000\n",
            "/content/drive/My Drive/ECE_209_AS_project_data/USC-HAD/Subject9/a3t3.mat\n",
            "3900\n",
            "/content/drive/My Drive/ECE_209_AS_project_data/USC-HAD/Subject9/a3t4.mat\n",
            "4200\n",
            "/content/drive/My Drive/ECE_209_AS_project_data/USC-HAD/Subject9/a3t5.mat\n",
            "4200\n",
            "/content/drive/My Drive/ECE_209_AS_project_data/USC-HAD/Subject9/a6t1.mat\n",
            "3100\n",
            "/content/drive/My Drive/ECE_209_AS_project_data/USC-HAD/Subject9/a6t2.mat\n",
            "3100\n",
            "/content/drive/My Drive/ECE_209_AS_project_data/USC-HAD/Subject9/a6t3.mat\n",
            "2900\n",
            "/content/drive/My Drive/ECE_209_AS_project_data/USC-HAD/Subject9/a6t4.mat\n",
            "2900\n",
            "/content/drive/My Drive/ECE_209_AS_project_data/USC-HAD/Subject9/a6t5.mat\n",
            "2900\n",
            "/content/drive/My Drive/ECE_209_AS_project_data/USC-HAD/Subject9/a7t1.mat\n",
            "1800\n",
            "/content/drive/My Drive/ECE_209_AS_project_data/USC-HAD/Subject9/a7t2.mat\n",
            "1700\n",
            "/content/drive/My Drive/ECE_209_AS_project_data/USC-HAD/Subject9/a7t3.mat\n",
            "1600\n",
            "/content/drive/My Drive/ECE_209_AS_project_data/USC-HAD/Subject9/a7t4.mat\n",
            "1600\n",
            "/content/drive/My Drive/ECE_209_AS_project_data/USC-HAD/Subject9/a7t5.mat\n",
            "1500\n",
            "/content/drive/My Drive/ECE_209_AS_project_data/USC-HAD/Subject9/a8t1.mat\n",
            "5000\n",
            "/content/drive/My Drive/ECE_209_AS_project_data/USC-HAD/Subject9/a8t2.mat\n",
            "3000\n",
            "/content/drive/My Drive/ECE_209_AS_project_data/USC-HAD/Subject9/a8t3.mat\n",
            "3000\n",
            "/content/drive/My Drive/ECE_209_AS_project_data/USC-HAD/Subject9/a8t4.mat\n",
            "3000\n",
            "/content/drive/My Drive/ECE_209_AS_project_data/USC-HAD/Subject9/a8t5.mat\n",
            "2000\n",
            "/content/drive/My Drive/ECE_209_AS_project_data/USC-HAD/Subject9/a9t1.mat\n",
            "2000\n",
            "/content/drive/My Drive/ECE_209_AS_project_data/USC-HAD/Subject9/a9t2.mat\n",
            "3000\n",
            "/content/drive/My Drive/ECE_209_AS_project_data/USC-HAD/Subject9/a9t3.mat\n",
            "3000\n",
            "/content/drive/My Drive/ECE_209_AS_project_data/USC-HAD/Subject9/a9t4.mat\n",
            "3000\n",
            "/content/drive/My Drive/ECE_209_AS_project_data/USC-HAD/Subject9/a9t5.mat\n",
            "3000\n",
            "/content/drive/My Drive/ECE_209_AS_project_data/USC-HAD/Subject9/a4t1.mat\n",
            "6500\n",
            "/content/drive/My Drive/ECE_209_AS_project_data/USC-HAD/Subject9/a4t2.mat\n",
            "7000\n",
            "/content/drive/My Drive/ECE_209_AS_project_data/USC-HAD/Subject9/a4t5.mat\n",
            "6800\n",
            "/content/drive/My Drive/ECE_209_AS_project_data/USC-HAD/Subject9/a4t3.mat\n",
            "7100\n",
            "/content/drive/My Drive/ECE_209_AS_project_data/USC-HAD/Subject9/a4t4.mat\n",
            "7100\n",
            "/content/drive/My Drive/ECE_209_AS_project_data/USC-HAD/Subject9/a5t2.mat\n",
            "6200\n",
            "/content/drive/My Drive/ECE_209_AS_project_data/USC-HAD/Subject9/a5t1.mat\n",
            "6000\n",
            "/content/drive/My Drive/ECE_209_AS_project_data/USC-HAD/Subject9/a5t3.mat\n",
            "6300\n",
            "/content/drive/My Drive/ECE_209_AS_project_data/USC-HAD/Subject9/a5t4.mat\n",
            "6300\n",
            "/content/drive/My Drive/ECE_209_AS_project_data/USC-HAD/Subject9/a5t5.mat\n",
            "6600\n",
            "/content/drive/My Drive/ECE_209_AS_project_data/USC-HAD/Subject9/a10t1.mat\n",
            "5000\n",
            "/content/drive/My Drive/ECE_209_AS_project_data/USC-HAD/Subject9/a10t2.mat\n",
            "5000\n",
            "/content/drive/My Drive/ECE_209_AS_project_data/USC-HAD/Subject9/a10t3.mat\n",
            "5000\n",
            "/content/drive/My Drive/ECE_209_AS_project_data/USC-HAD/Subject9/a10t4.mat\n",
            "5000\n",
            "/content/drive/My Drive/ECE_209_AS_project_data/USC-HAD/Subject9/a10t5.mat\n",
            "5000\n",
            "/content/drive/My Drive/ECE_209_AS_project_data/USC-HAD/Subject9/a12t1.mat\n",
            "2955\n",
            "/content/drive/My Drive/ECE_209_AS_project_data/USC-HAD/Subject9/a12t2.mat\n",
            "2899\n",
            "/content/drive/My Drive/ECE_209_AS_project_data/USC-HAD/Subject9/a12t3.mat\n",
            "3385\n",
            "/content/drive/My Drive/ECE_209_AS_project_data/USC-HAD/Subject9/a12t4.mat\n",
            "3432\n",
            "/content/drive/My Drive/ECE_209_AS_project_data/USC-HAD/Subject9/a12t5.mat\n",
            "2852\n",
            "/content/drive/My Drive/ECE_209_AS_project_data/USC-HAD/Subject9/a11t1.mat\n",
            "2415\n",
            "/content/drive/My Drive/ECE_209_AS_project_data/USC-HAD/Subject9/a11t2.mat\n",
            "3025\n",
            "/content/drive/My Drive/ECE_209_AS_project_data/USC-HAD/Subject9/a11t3.mat\n",
            "3021\n",
            "/content/drive/My Drive/ECE_209_AS_project_data/USC-HAD/Subject9/a11t4.mat\n",
            "3537\n",
            "/content/drive/My Drive/ECE_209_AS_project_data/USC-HAD/Subject9/a11t5.mat\n",
            "3446\n",
            "/content/drive/My Drive/ECE_209_AS_project_data/USC-HAD/Subject10/a7t1.mat\n",
            "1000\n",
            "/content/drive/My Drive/ECE_209_AS_project_data/USC-HAD/Subject10/a7t2.mat\n",
            "1000\n",
            "/content/drive/My Drive/ECE_209_AS_project_data/USC-HAD/Subject10/a7t3.mat\n",
            "950\n",
            "/content/drive/My Drive/ECE_209_AS_project_data/USC-HAD/Subject10/a7t4.mat\n",
            "1000\n",
            "/content/drive/My Drive/ECE_209_AS_project_data/USC-HAD/Subject10/a7t5.mat\n",
            "1000\n",
            "/content/drive/My Drive/ECE_209_AS_project_data/USC-HAD/Subject10/a6t1.mat\n",
            "3000\n",
            "/content/drive/My Drive/ECE_209_AS_project_data/USC-HAD/Subject10/a6t2.mat\n",
            "2700\n",
            "/content/drive/My Drive/ECE_209_AS_project_data/USC-HAD/Subject10/a6t3.mat\n",
            "3300\n",
            "/content/drive/My Drive/ECE_209_AS_project_data/USC-HAD/Subject10/a6t4.mat\n",
            "3100\n",
            "/content/drive/My Drive/ECE_209_AS_project_data/USC-HAD/Subject10/a6t5.mat\n",
            "3000\n",
            "/content/drive/My Drive/ECE_209_AS_project_data/USC-HAD/Subject10/a1t1.mat\n",
            "8300\n",
            "/content/drive/My Drive/ECE_209_AS_project_data/USC-HAD/Subject10/a1t2.mat\n",
            "8200\n",
            "/content/drive/My Drive/ECE_209_AS_project_data/USC-HAD/Subject10/a1t3.mat\n",
            "8900\n",
            "/content/drive/My Drive/ECE_209_AS_project_data/USC-HAD/Subject10/a1t4.mat\n",
            "8700\n",
            "/content/drive/My Drive/ECE_209_AS_project_data/USC-HAD/Subject10/a1t5.mat\n",
            "8600\n",
            "/content/drive/My Drive/ECE_209_AS_project_data/USC-HAD/Subject10/a2t1.mat\n",
            "4000\n",
            "/content/drive/My Drive/ECE_209_AS_project_data/USC-HAD/Subject10/a2t2.mat\n",
            "3300\n",
            "/content/drive/My Drive/ECE_209_AS_project_data/USC-HAD/Subject10/a2t3.mat\n",
            "3300\n",
            "/content/drive/My Drive/ECE_209_AS_project_data/USC-HAD/Subject10/a2t4.mat\n",
            "3100\n",
            "/content/drive/My Drive/ECE_209_AS_project_data/USC-HAD/Subject10/a2t5.mat\n",
            "3100\n",
            "/content/drive/My Drive/ECE_209_AS_project_data/USC-HAD/Subject10/a3t1.mat\n",
            "4400\n",
            "/content/drive/My Drive/ECE_209_AS_project_data/USC-HAD/Subject10/a3t2.mat\n",
            "3300\n",
            "/content/drive/My Drive/ECE_209_AS_project_data/USC-HAD/Subject10/a3t3.mat\n",
            "3200\n",
            "/content/drive/My Drive/ECE_209_AS_project_data/USC-HAD/Subject10/a3t4.mat\n",
            "3400\n",
            "/content/drive/My Drive/ECE_209_AS_project_data/USC-HAD/Subject10/a3t5.mat\n",
            "3400\n",
            "/content/drive/My Drive/ECE_209_AS_project_data/USC-HAD/Subject10/a8t1.mat\n",
            "3000\n",
            "/content/drive/My Drive/ECE_209_AS_project_data/USC-HAD/Subject10/a8t2.mat\n",
            "5000\n",
            "/content/drive/My Drive/ECE_209_AS_project_data/USC-HAD/Subject10/a8t3.mat\n",
            "4000\n",
            "/content/drive/My Drive/ECE_209_AS_project_data/USC-HAD/Subject10/a8t4.mat\n",
            "4000\n",
            "/content/drive/My Drive/ECE_209_AS_project_data/USC-HAD/Subject10/a8t5.mat\n",
            "4000\n",
            "/content/drive/My Drive/ECE_209_AS_project_data/USC-HAD/Subject10/a9t1.mat\n",
            "4000\n",
            "/content/drive/My Drive/ECE_209_AS_project_data/USC-HAD/Subject10/a9t2.mat\n",
            "4000\n",
            "/content/drive/My Drive/ECE_209_AS_project_data/USC-HAD/Subject10/a9t3.mat\n",
            "4000\n",
            "/content/drive/My Drive/ECE_209_AS_project_data/USC-HAD/Subject10/a9t4.mat\n",
            "4000\n",
            "/content/drive/My Drive/ECE_209_AS_project_data/USC-HAD/Subject10/a9t5.mat\n",
            "4000\n",
            "/content/drive/My Drive/ECE_209_AS_project_data/USC-HAD/Subject10/a5t1.mat\n",
            "4900\n",
            "/content/drive/My Drive/ECE_209_AS_project_data/USC-HAD/Subject10/a5t2.mat\n",
            "5300\n",
            "/content/drive/My Drive/ECE_209_AS_project_data/USC-HAD/Subject10/a5t3.mat\n",
            "6200\n",
            "/content/drive/My Drive/ECE_209_AS_project_data/USC-HAD/Subject10/a5t4.mat\n",
            "5700\n",
            "/content/drive/My Drive/ECE_209_AS_project_data/USC-HAD/Subject10/a5t5.mat\n",
            "5900\n",
            "/content/drive/My Drive/ECE_209_AS_project_data/USC-HAD/Subject10/a4t1.mat\n",
            "5700\n",
            "/content/drive/My Drive/ECE_209_AS_project_data/USC-HAD/Subject10/a4t2.mat\n",
            "6000\n",
            "/content/drive/My Drive/ECE_209_AS_project_data/USC-HAD/Subject10/a4t3.mat\n",
            "5800\n",
            "/content/drive/My Drive/ECE_209_AS_project_data/USC-HAD/Subject10/a4t4.mat\n",
            "6500\n",
            "/content/drive/My Drive/ECE_209_AS_project_data/USC-HAD/Subject10/a4t5.mat\n",
            "6900\n",
            "/content/drive/My Drive/ECE_209_AS_project_data/USC-HAD/Subject10/a10t1.mat\n",
            "5000\n",
            "/content/drive/My Drive/ECE_209_AS_project_data/USC-HAD/Subject10/a10t2.mat\n",
            "5000\n",
            "/content/drive/My Drive/ECE_209_AS_project_data/USC-HAD/Subject10/a10t3.mat\n",
            "5000\n",
            "/content/drive/My Drive/ECE_209_AS_project_data/USC-HAD/Subject10/a10t4.mat\n",
            "5000\n",
            "/content/drive/My Drive/ECE_209_AS_project_data/USC-HAD/Subject10/a10t5.mat\n",
            "5000\n",
            "/content/drive/My Drive/ECE_209_AS_project_data/USC-HAD/Subject10/a12t1.mat\n",
            "2476\n",
            "/content/drive/My Drive/ECE_209_AS_project_data/USC-HAD/Subject10/a12t2.mat\n",
            "2657\n",
            "/content/drive/My Drive/ECE_209_AS_project_data/USC-HAD/Subject10/a12t3.mat\n",
            "2630\n",
            "/content/drive/My Drive/ECE_209_AS_project_data/USC-HAD/Subject10/a12t4.mat\n",
            "2926\n",
            "/content/drive/My Drive/ECE_209_AS_project_data/USC-HAD/Subject10/a12t5.mat\n",
            "2592\n",
            "/content/drive/My Drive/ECE_209_AS_project_data/USC-HAD/Subject10/a11t1.mat\n",
            "3237\n",
            "/content/drive/My Drive/ECE_209_AS_project_data/USC-HAD/Subject10/a11t2.mat\n",
            "2743\n",
            "/content/drive/My Drive/ECE_209_AS_project_data/USC-HAD/Subject10/a11t3.mat\n",
            "3136\n",
            "/content/drive/My Drive/ECE_209_AS_project_data/USC-HAD/Subject10/a11t4.mat\n",
            "2964\n",
            "/content/drive/My Drive/ECE_209_AS_project_data/USC-HAD/Subject10/a11t5.mat\n",
            "2825\n",
            "/content/drive/My Drive/ECE_209_AS_project_data/USC-HAD/Subject11/a7t1.mat\n",
            "1800\n",
            "/content/drive/My Drive/ECE_209_AS_project_data/USC-HAD/Subject11/a7t2.mat\n",
            "1800\n",
            "/content/drive/My Drive/ECE_209_AS_project_data/USC-HAD/Subject11/a7t3.mat\n",
            "1900\n",
            "/content/drive/My Drive/ECE_209_AS_project_data/USC-HAD/Subject11/a7t4.mat\n",
            "2000\n",
            "/content/drive/My Drive/ECE_209_AS_project_data/USC-HAD/Subject11/a7t5.mat\n",
            "2600\n",
            "/content/drive/My Drive/ECE_209_AS_project_data/USC-HAD/Subject11/a1t1.mat\n",
            "8400\n",
            "/content/drive/My Drive/ECE_209_AS_project_data/USC-HAD/Subject11/a1t2.mat\n",
            "6900\n",
            "/content/drive/My Drive/ECE_209_AS_project_data/USC-HAD/Subject11/a1t3.mat\n",
            "10500\n",
            "/content/drive/My Drive/ECE_209_AS_project_data/USC-HAD/Subject11/a1t4.mat\n",
            "12000\n",
            "/content/drive/My Drive/ECE_209_AS_project_data/USC-HAD/Subject11/a1t5.mat\n",
            "10700\n",
            "/content/drive/My Drive/ECE_209_AS_project_data/USC-HAD/Subject11/a2t1.mat\n",
            "4800\n",
            "/content/drive/My Drive/ECE_209_AS_project_data/USC-HAD/Subject11/a2t2.mat\n",
            "3900\n",
            "/content/drive/My Drive/ECE_209_AS_project_data/USC-HAD/Subject11/a2t3.mat\n",
            "4100\n",
            "/content/drive/My Drive/ECE_209_AS_project_data/USC-HAD/Subject11/a2t4.mat\n",
            "3900\n",
            "/content/drive/My Drive/ECE_209_AS_project_data/USC-HAD/Subject11/a2t5.mat\n",
            "4000\n",
            "/content/drive/My Drive/ECE_209_AS_project_data/USC-HAD/Subject11/a3t1.mat\n",
            "4000\n",
            "/content/drive/My Drive/ECE_209_AS_project_data/USC-HAD/Subject11/a3t2.mat\n",
            "3700\n",
            "/content/drive/My Drive/ECE_209_AS_project_data/USC-HAD/Subject11/a3t3.mat\n",
            "4200\n",
            "/content/drive/My Drive/ECE_209_AS_project_data/USC-HAD/Subject11/a3t4.mat\n",
            "4000\n",
            "/content/drive/My Drive/ECE_209_AS_project_data/USC-HAD/Subject11/a3t5.mat\n",
            "4200\n",
            "/content/drive/My Drive/ECE_209_AS_project_data/USC-HAD/Subject11/a6t1.mat\n",
            "4300\n",
            "/content/drive/My Drive/ECE_209_AS_project_data/USC-HAD/Subject11/a6t2.mat\n",
            "4000\n",
            "/content/drive/My Drive/ECE_209_AS_project_data/USC-HAD/Subject11/a6t3.mat\n",
            "4200\n",
            "/content/drive/My Drive/ECE_209_AS_project_data/USC-HAD/Subject11/a6t4.mat\n",
            "4600\n",
            "/content/drive/My Drive/ECE_209_AS_project_data/USC-HAD/Subject11/a6t5.mat\n",
            "4200\n",
            "/content/drive/My Drive/ECE_209_AS_project_data/USC-HAD/Subject11/a4t1.mat\n",
            "4000\n",
            "/content/drive/My Drive/ECE_209_AS_project_data/USC-HAD/Subject11/a5t1.mat\n",
            "3200\n",
            "/content/drive/My Drive/ECE_209_AS_project_data/USC-HAD/Subject11/a4t2.mat\n",
            "3500\n",
            "/content/drive/My Drive/ECE_209_AS_project_data/USC-HAD/Subject11/a5t2.mat\n",
            "3300\n",
            "/content/drive/My Drive/ECE_209_AS_project_data/USC-HAD/Subject11/a4t3.mat\n",
            "3700\n",
            "/content/drive/My Drive/ECE_209_AS_project_data/USC-HAD/Subject11/a5t3.mat\n",
            "3100\n",
            "/content/drive/My Drive/ECE_209_AS_project_data/USC-HAD/Subject11/a4t4.mat\n",
            "3700\n",
            "/content/drive/My Drive/ECE_209_AS_project_data/USC-HAD/Subject11/a5t4.mat\n",
            "3300\n",
            "/content/drive/My Drive/ECE_209_AS_project_data/USC-HAD/Subject11/a4t5.mat\n",
            "3700\n",
            "/content/drive/My Drive/ECE_209_AS_project_data/USC-HAD/Subject11/a5t5.mat\n",
            "3200\n",
            "/content/drive/My Drive/ECE_209_AS_project_data/USC-HAD/Subject11/a8t1.mat\n",
            "5000\n",
            "/content/drive/My Drive/ECE_209_AS_project_data/USC-HAD/Subject11/a8t2.mat\n",
            "5000\n",
            "/content/drive/My Drive/ECE_209_AS_project_data/USC-HAD/Subject11/a8t3.mat\n",
            "5000\n",
            "/content/drive/My Drive/ECE_209_AS_project_data/USC-HAD/Subject11/a8t4.mat\n",
            "5000\n",
            "/content/drive/My Drive/ECE_209_AS_project_data/USC-HAD/Subject11/a8t5.mat\n",
            "7000\n",
            "/content/drive/My Drive/ECE_209_AS_project_data/USC-HAD/Subject11/a9t1.mat\n",
            "5000\n",
            "/content/drive/My Drive/ECE_209_AS_project_data/USC-HAD/Subject11/a9t2.mat\n",
            "5000\n",
            "/content/drive/My Drive/ECE_209_AS_project_data/USC-HAD/Subject11/a9t3.mat\n",
            "5000\n",
            "/content/drive/My Drive/ECE_209_AS_project_data/USC-HAD/Subject11/a9t4.mat\n",
            "6000\n",
            "/content/drive/My Drive/ECE_209_AS_project_data/USC-HAD/Subject11/a9t5.mat\n",
            "6000\n",
            "/content/drive/My Drive/ECE_209_AS_project_data/USC-HAD/Subject11/a10t1.mat\n",
            "5000\n",
            "/content/drive/My Drive/ECE_209_AS_project_data/USC-HAD/Subject11/a10t2.mat\n",
            "5000\n",
            "/content/drive/My Drive/ECE_209_AS_project_data/USC-HAD/Subject11/a10t3.mat\n",
            "5000\n",
            "/content/drive/My Drive/ECE_209_AS_project_data/USC-HAD/Subject11/a10t4.mat\n",
            "5000\n",
            "/content/drive/My Drive/ECE_209_AS_project_data/USC-HAD/Subject11/a10t5.mat\n",
            "5000\n",
            "/content/drive/My Drive/ECE_209_AS_project_data/USC-HAD/Subject11/a12t1.mat\n",
            "2901\n",
            "/content/drive/My Drive/ECE_209_AS_project_data/USC-HAD/Subject11/a11t1.mat\n",
            "2867\n",
            "/content/drive/My Drive/ECE_209_AS_project_data/USC-HAD/Subject11/a12t2.mat\n",
            "2886\n",
            "/content/drive/My Drive/ECE_209_AS_project_data/USC-HAD/Subject11/a12t3.mat\n",
            "2540\n",
            "/content/drive/My Drive/ECE_209_AS_project_data/USC-HAD/Subject11/a12t4.mat\n",
            "2820\n",
            "/content/drive/My Drive/ECE_209_AS_project_data/USC-HAD/Subject11/a12t5.mat\n",
            "2807\n",
            "/content/drive/My Drive/ECE_209_AS_project_data/USC-HAD/Subject11/a11t2.mat\n",
            "2862\n",
            "/content/drive/My Drive/ECE_209_AS_project_data/USC-HAD/Subject11/a11t3.mat\n",
            "3121\n",
            "/content/drive/My Drive/ECE_209_AS_project_data/USC-HAD/Subject11/a11t4.mat\n",
            "2989\n",
            "/content/drive/My Drive/ECE_209_AS_project_data/USC-HAD/Subject11/a11t5.mat\n",
            "2844\n",
            "/content/drive/My Drive/ECE_209_AS_project_data/USC-HAD/Subject12/a7t1.mat\n",
            "2800\n",
            "/content/drive/My Drive/ECE_209_AS_project_data/USC-HAD/Subject12/a7t2.mat\n",
            "2100\n",
            "/content/drive/My Drive/ECE_209_AS_project_data/USC-HAD/Subject12/a7t3.mat\n",
            "3100\n",
            "/content/drive/My Drive/ECE_209_AS_project_data/USC-HAD/Subject12/a7t4.mat\n",
            "2500\n",
            "/content/drive/My Drive/ECE_209_AS_project_data/USC-HAD/Subject12/a7t5.mat\n",
            "2900\n",
            "/content/drive/My Drive/ECE_209_AS_project_data/USC-HAD/Subject12/a1t1.mat\n",
            "13400\n",
            "/content/drive/My Drive/ECE_209_AS_project_data/USC-HAD/Subject12/a1t2.mat\n",
            "13000\n",
            "/content/drive/My Drive/ECE_209_AS_project_data/USC-HAD/Subject12/a1t3.mat\n",
            "13000\n",
            "/content/drive/My Drive/ECE_209_AS_project_data/USC-HAD/Subject12/a1t4.mat\n",
            "13500\n",
            "/content/drive/My Drive/ECE_209_AS_project_data/USC-HAD/Subject12/a1t5.mat\n",
            "13500\n",
            "/content/drive/My Drive/ECE_209_AS_project_data/USC-HAD/Subject12/a6t1.mat\n",
            "1700\n",
            "/content/drive/My Drive/ECE_209_AS_project_data/USC-HAD/Subject12/a6t2.mat\n",
            "1800\n",
            "/content/drive/My Drive/ECE_209_AS_project_data/USC-HAD/Subject12/a6t3.mat\n",
            "1900\n",
            "/content/drive/My Drive/ECE_209_AS_project_data/USC-HAD/Subject12/a6t4.mat\n",
            "1900\n",
            "/content/drive/My Drive/ECE_209_AS_project_data/USC-HAD/Subject12/a6t5.mat\n",
            "1700\n",
            "/content/drive/My Drive/ECE_209_AS_project_data/USC-HAD/Subject12/a8t1.mat\n",
            "5000\n",
            "/content/drive/My Drive/ECE_209_AS_project_data/USC-HAD/Subject12/a8t2.mat\n",
            "5000\n",
            "/content/drive/My Drive/ECE_209_AS_project_data/USC-HAD/Subject12/a8t3.mat\n",
            "5000\n",
            "/content/drive/My Drive/ECE_209_AS_project_data/USC-HAD/Subject12/a8t4.mat\n",
            "5000\n",
            "/content/drive/My Drive/ECE_209_AS_project_data/USC-HAD/Subject12/a8t5.mat\n",
            "5000\n",
            "/content/drive/My Drive/ECE_209_AS_project_data/USC-HAD/Subject12/a9t3.mat\n",
            "5000\n",
            "/content/drive/My Drive/ECE_209_AS_project_data/USC-HAD/Subject12/a9t2.mat\n",
            "6000\n",
            "/content/drive/My Drive/ECE_209_AS_project_data/USC-HAD/Subject12/a9t1.mat\n",
            "6000\n",
            "/content/drive/My Drive/ECE_209_AS_project_data/USC-HAD/Subject12/a9t4.mat\n",
            "4000\n",
            "/content/drive/My Drive/ECE_209_AS_project_data/USC-HAD/Subject12/a9t5.mat\n",
            "5000\n",
            "/content/drive/My Drive/ECE_209_AS_project_data/USC-HAD/Subject12/a2t1.mat\n",
            "5000\n",
            "/content/drive/My Drive/ECE_209_AS_project_data/USC-HAD/Subject12/a2t2.mat\n",
            "5300\n",
            "/content/drive/My Drive/ECE_209_AS_project_data/USC-HAD/Subject12/a2t3.mat\n",
            "5400\n",
            "/content/drive/My Drive/ECE_209_AS_project_data/USC-HAD/Subject12/a2t4.mat\n",
            "5600\n",
            "/content/drive/My Drive/ECE_209_AS_project_data/USC-HAD/Subject12/a2t5.mat\n",
            "5600\n",
            "/content/drive/My Drive/ECE_209_AS_project_data/USC-HAD/Subject12/a3t1.mat\n",
            "3800\n",
            "/content/drive/My Drive/ECE_209_AS_project_data/USC-HAD/Subject12/a3t2.mat\n",
            "4600\n",
            "/content/drive/My Drive/ECE_209_AS_project_data/USC-HAD/Subject12/a3t3.mat\n",
            "4500\n",
            "/content/drive/My Drive/ECE_209_AS_project_data/USC-HAD/Subject12/a3t4.mat\n",
            "5000\n",
            "/content/drive/My Drive/ECE_209_AS_project_data/USC-HAD/Subject12/a3t5.mat\n",
            "4900\n",
            "/content/drive/My Drive/ECE_209_AS_project_data/USC-HAD/Subject12/a4t1.mat\n",
            "2600\n",
            "/content/drive/My Drive/ECE_209_AS_project_data/USC-HAD/Subject12/a5t1.mat\n",
            "2500\n",
            "/content/drive/My Drive/ECE_209_AS_project_data/USC-HAD/Subject12/a4t2.mat\n",
            "2700\n",
            "/content/drive/My Drive/ECE_209_AS_project_data/USC-HAD/Subject12/a5t2.mat\n",
            "2400\n",
            "/content/drive/My Drive/ECE_209_AS_project_data/USC-HAD/Subject12/a4t3.mat\n",
            "2700\n",
            "/content/drive/My Drive/ECE_209_AS_project_data/USC-HAD/Subject12/a5t3.mat\n",
            "2200\n",
            "/content/drive/My Drive/ECE_209_AS_project_data/USC-HAD/Subject12/a4t4.mat\n",
            "2400\n",
            "/content/drive/My Drive/ECE_209_AS_project_data/USC-HAD/Subject12/a5t4.mat\n",
            "2100\n",
            "/content/drive/My Drive/ECE_209_AS_project_data/USC-HAD/Subject12/a4t5.mat\n",
            "2500\n",
            "/content/drive/My Drive/ECE_209_AS_project_data/USC-HAD/Subject12/a5t5.mat\n",
            "2100\n",
            "/content/drive/My Drive/ECE_209_AS_project_data/USC-HAD/Subject12/a10t1.mat\n",
            "5000\n",
            "/content/drive/My Drive/ECE_209_AS_project_data/USC-HAD/Subject12/a10t2.mat\n",
            "5000\n",
            "/content/drive/My Drive/ECE_209_AS_project_data/USC-HAD/Subject12/a10t3.mat\n",
            "5000\n",
            "/content/drive/My Drive/ECE_209_AS_project_data/USC-HAD/Subject12/a10t4.mat\n",
            "5000\n",
            "/content/drive/My Drive/ECE_209_AS_project_data/USC-HAD/Subject12/a10t5.mat\n",
            "5000\n",
            "/content/drive/My Drive/ECE_209_AS_project_data/USC-HAD/Subject12/a12t1.mat\n",
            "2841\n",
            "/content/drive/My Drive/ECE_209_AS_project_data/USC-HAD/Subject12/a11t1.mat\n",
            "2813\n",
            "/content/drive/My Drive/ECE_209_AS_project_data/USC-HAD/Subject12/a12t2.mat\n",
            "3364\n",
            "/content/drive/My Drive/ECE_209_AS_project_data/USC-HAD/Subject12/a12t3.mat\n",
            "3339\n",
            "/content/drive/My Drive/ECE_209_AS_project_data/USC-HAD/Subject12/a12t4.mat\n",
            "3571\n",
            "/content/drive/My Drive/ECE_209_AS_project_data/USC-HAD/Subject12/a12t5.mat\n",
            "2737\n",
            "/content/drive/My Drive/ECE_209_AS_project_data/USC-HAD/Subject12/a11t2.mat\n",
            "2840\n",
            "/content/drive/My Drive/ECE_209_AS_project_data/USC-HAD/Subject12/a11t3.mat\n",
            "2838\n",
            "/content/drive/My Drive/ECE_209_AS_project_data/USC-HAD/Subject12/a11t4.mat\n",
            "3003\n",
            "/content/drive/My Drive/ECE_209_AS_project_data/USC-HAD/Subject12/a11t5.mat\n",
            "3141\n",
            "/content/drive/My Drive/ECE_209_AS_project_data/USC-HAD/Subject13/a7t1.mat\n",
            "1500\n",
            "/content/drive/My Drive/ECE_209_AS_project_data/USC-HAD/Subject13/a7t2.mat\n",
            "1400\n",
            "/content/drive/My Drive/ECE_209_AS_project_data/USC-HAD/Subject13/a7t3.mat\n",
            "2000\n",
            "/content/drive/My Drive/ECE_209_AS_project_data/USC-HAD/Subject13/a7t4.mat\n",
            "1700\n",
            "/content/drive/My Drive/ECE_209_AS_project_data/USC-HAD/Subject13/a7t5.mat\n",
            "1700\n",
            "/content/drive/My Drive/ECE_209_AS_project_data/USC-HAD/Subject13/a6t3.mat\n",
            "4900\n",
            "/content/drive/My Drive/ECE_209_AS_project_data/USC-HAD/Subject13/a1t3.mat\n",
            "10000\n",
            "/content/drive/My Drive/ECE_209_AS_project_data/USC-HAD/Subject13/a6t1.mat\n",
            "4600\n",
            "/content/drive/My Drive/ECE_209_AS_project_data/USC-HAD/Subject13/a1t1.mat\n",
            "9400\n",
            "/content/drive/My Drive/ECE_209_AS_project_data/USC-HAD/Subject13/a6t2.mat\n",
            "4100\n",
            "/content/drive/My Drive/ECE_209_AS_project_data/USC-HAD/Subject13/a1t2.mat\n",
            "9800\n",
            "/content/drive/My Drive/ECE_209_AS_project_data/USC-HAD/Subject13/a6t4.mat\n",
            "4600\n",
            "/content/drive/My Drive/ECE_209_AS_project_data/USC-HAD/Subject13/a1t4.mat\n",
            "10800\n",
            "/content/drive/My Drive/ECE_209_AS_project_data/USC-HAD/Subject13/a6t5.mat\n",
            "4500\n",
            "/content/drive/My Drive/ECE_209_AS_project_data/USC-HAD/Subject13/a1t5.mat\n",
            "9600\n",
            "/content/drive/My Drive/ECE_209_AS_project_data/USC-HAD/Subject13/a4t1.mat\n",
            "2200\n",
            "/content/drive/My Drive/ECE_209_AS_project_data/USC-HAD/Subject13/a5t1.mat\n",
            "2100\n",
            "/content/drive/My Drive/ECE_209_AS_project_data/USC-HAD/Subject13/a4t2.mat\n",
            "2300\n",
            "/content/drive/My Drive/ECE_209_AS_project_data/USC-HAD/Subject13/a5t2.mat\n",
            "2400\n",
            "/content/drive/My Drive/ECE_209_AS_project_data/USC-HAD/Subject13/a4t3.mat\n",
            "2500\n",
            "/content/drive/My Drive/ECE_209_AS_project_data/USC-HAD/Subject13/a5t3.mat\n",
            "2300\n",
            "/content/drive/My Drive/ECE_209_AS_project_data/USC-HAD/Subject13/a4t4.mat\n",
            "2400\n",
            "/content/drive/My Drive/ECE_209_AS_project_data/USC-HAD/Subject13/a5t4.mat\n",
            "2300\n",
            "/content/drive/My Drive/ECE_209_AS_project_data/USC-HAD/Subject13/a4t5.mat\n",
            "2400\n",
            "/content/drive/My Drive/ECE_209_AS_project_data/USC-HAD/Subject13/a5t5.mat\n",
            "2300\n",
            "/content/drive/My Drive/ECE_209_AS_project_data/USC-HAD/Subject13/a3t1.mat\n",
            "3100\n",
            "/content/drive/My Drive/ECE_209_AS_project_data/USC-HAD/Subject13/a2t1.mat\n",
            "3200\n",
            "/content/drive/My Drive/ECE_209_AS_project_data/USC-HAD/Subject13/a3t2.mat\n",
            "3200\n",
            "/content/drive/My Drive/ECE_209_AS_project_data/USC-HAD/Subject13/a2t2.mat\n",
            "3500\n",
            "/content/drive/My Drive/ECE_209_AS_project_data/USC-HAD/Subject13/a3t3.mat\n",
            "3300\n",
            "/content/drive/My Drive/ECE_209_AS_project_data/USC-HAD/Subject13/a2t3.mat\n",
            "3500\n",
            "/content/drive/My Drive/ECE_209_AS_project_data/USC-HAD/Subject13/a3t4.mat\n",
            "3100\n",
            "/content/drive/My Drive/ECE_209_AS_project_data/USC-HAD/Subject13/a2t4.mat\n",
            "3200\n",
            "/content/drive/My Drive/ECE_209_AS_project_data/USC-HAD/Subject13/a3t5.mat\n",
            "3200\n",
            "/content/drive/My Drive/ECE_209_AS_project_data/USC-HAD/Subject13/a2t5.mat\n",
            "3300\n",
            "/content/drive/My Drive/ECE_209_AS_project_data/USC-HAD/Subject13/a8t1.mat\n",
            "5000\n",
            "/content/drive/My Drive/ECE_209_AS_project_data/USC-HAD/Subject13/a8t2.mat\n",
            "5000\n",
            "/content/drive/My Drive/ECE_209_AS_project_data/USC-HAD/Subject13/a8t3.mat\n",
            "5000\n",
            "/content/drive/My Drive/ECE_209_AS_project_data/USC-HAD/Subject13/a8t4.mat\n",
            "5000\n",
            "/content/drive/My Drive/ECE_209_AS_project_data/USC-HAD/Subject13/a8t5.mat\n",
            "5000\n",
            "/content/drive/My Drive/ECE_209_AS_project_data/USC-HAD/Subject13/a9t1.mat\n",
            "5000\n",
            "/content/drive/My Drive/ECE_209_AS_project_data/USC-HAD/Subject13/a9t2.mat\n",
            "5000\n",
            "/content/drive/My Drive/ECE_209_AS_project_data/USC-HAD/Subject13/a9t3.mat\n",
            "5000\n",
            "/content/drive/My Drive/ECE_209_AS_project_data/USC-HAD/Subject13/a9t4.mat\n",
            "5000\n",
            "/content/drive/My Drive/ECE_209_AS_project_data/USC-HAD/Subject13/a9t5.mat\n",
            "5000\n",
            "/content/drive/My Drive/ECE_209_AS_project_data/USC-HAD/Subject13/a12t1.mat\n",
            "1725\n",
            "/content/drive/My Drive/ECE_209_AS_project_data/USC-HAD/Subject13/a12t2.mat\n",
            "1954\n",
            "/content/drive/My Drive/ECE_209_AS_project_data/USC-HAD/Subject13/a12t3.mat\n",
            "1663\n",
            "/content/drive/My Drive/ECE_209_AS_project_data/USC-HAD/Subject13/a12t4.mat\n",
            "1975\n",
            "/content/drive/My Drive/ECE_209_AS_project_data/USC-HAD/Subject13/a12t5.mat\n",
            "1716\n",
            "/content/drive/My Drive/ECE_209_AS_project_data/USC-HAD/Subject13/a11t1.mat\n",
            "2059\n",
            "/content/drive/My Drive/ECE_209_AS_project_data/USC-HAD/Subject13/a11t2.mat\n",
            "2124\n",
            "/content/drive/My Drive/ECE_209_AS_project_data/USC-HAD/Subject13/a11t3.mat\n",
            "2181\n",
            "/content/drive/My Drive/ECE_209_AS_project_data/USC-HAD/Subject13/a11t4.mat\n",
            "/content/drive/My Drive/ECE_209_AS_project_data/USC-HAD/Subject13/a11t5.mat\n",
            "2405\n",
            "/content/drive/My Drive/ECE_209_AS_project_data/USC-HAD/Subject13/a10t1.mat\n",
            "10000\n",
            "/content/drive/My Drive/ECE_209_AS_project_data/USC-HAD/Subject13/a10t2.mat\n",
            "10000\n",
            "/content/drive/My Drive/ECE_209_AS_project_data/USC-HAD/Subject13/a10t3.mat\n",
            "10000\n",
            "/content/drive/My Drive/ECE_209_AS_project_data/USC-HAD/Subject13/a10t4.mat\n",
            "10000\n",
            "/content/drive/My Drive/ECE_209_AS_project_data/USC-HAD/Subject13/a10t5.mat\n",
            "10000\n",
            "/content/drive/My Drive/ECE_209_AS_project_data/USC-HAD/Subject14/a7t1.mat\n",
            "1700\n",
            "/content/drive/My Drive/ECE_209_AS_project_data/USC-HAD/Subject14/a7t2.mat\n",
            "2200\n",
            "/content/drive/My Drive/ECE_209_AS_project_data/USC-HAD/Subject14/a7t3.mat\n",
            "2200\n",
            "/content/drive/My Drive/ECE_209_AS_project_data/USC-HAD/Subject14/a7t4.mat\n",
            "2900\n",
            "/content/drive/My Drive/ECE_209_AS_project_data/USC-HAD/Subject14/a7t5.mat\n",
            "1600\n",
            "/content/drive/My Drive/ECE_209_AS_project_data/USC-HAD/Subject14/a8t1.mat\n",
            "5000\n",
            "/content/drive/My Drive/ECE_209_AS_project_data/USC-HAD/Subject14/a8t2.mat\n",
            "5000\n",
            "/content/drive/My Drive/ECE_209_AS_project_data/USC-HAD/Subject14/a8t3.mat\n",
            "5000\n",
            "/content/drive/My Drive/ECE_209_AS_project_data/USC-HAD/Subject14/a8t4.mat\n",
            "5000\n",
            "/content/drive/My Drive/ECE_209_AS_project_data/USC-HAD/Subject14/a8t5.mat\n",
            "5000\n",
            "/content/drive/My Drive/ECE_209_AS_project_data/USC-HAD/Subject14/a9t1.mat\n",
            "2000\n",
            "/content/drive/My Drive/ECE_209_AS_project_data/USC-HAD/Subject14/a9t2.mat\n",
            "2000\n",
            "/content/drive/My Drive/ECE_209_AS_project_data/USC-HAD/Subject14/a9t3.mat\n",
            "2000\n",
            "/content/drive/My Drive/ECE_209_AS_project_data/USC-HAD/Subject14/a9t4.mat\n",
            "2000\n",
            "/content/drive/My Drive/ECE_209_AS_project_data/USC-HAD/Subject14/a9t5.mat\n",
            "2000\n",
            "/content/drive/My Drive/ECE_209_AS_project_data/USC-HAD/Subject14/a10t1.mat\n",
            "5000\n",
            "/content/drive/My Drive/ECE_209_AS_project_data/USC-HAD/Subject14/a10t2.mat\n",
            "5000\n",
            "/content/drive/My Drive/ECE_209_AS_project_data/USC-HAD/Subject14/a10t3.mat\n",
            "5000\n",
            "/content/drive/My Drive/ECE_209_AS_project_data/USC-HAD/Subject14/a10t4.mat\n",
            "5000\n",
            "/content/drive/My Drive/ECE_209_AS_project_data/USC-HAD/Subject14/a10t5.mat\n",
            "5000\n",
            "/content/drive/My Drive/ECE_209_AS_project_data/USC-HAD/Subject14/a12t1.mat\n",
            "2103\n",
            "/content/drive/My Drive/ECE_209_AS_project_data/USC-HAD/Subject14/a12t2.mat\n",
            "1959\n",
            "/content/drive/My Drive/ECE_209_AS_project_data/USC-HAD/Subject14/a12t3.mat\n",
            "2067\n",
            "/content/drive/My Drive/ECE_209_AS_project_data/USC-HAD/Subject14/a12t4.mat\n",
            "1938\n",
            "/content/drive/My Drive/ECE_209_AS_project_data/USC-HAD/Subject14/a12t5.mat\n",
            "1848\n",
            "/content/drive/My Drive/ECE_209_AS_project_data/USC-HAD/Subject14/a11t1.mat\n",
            "2302\n",
            "/content/drive/My Drive/ECE_209_AS_project_data/USC-HAD/Subject14/a11t2.mat\n",
            "2184\n",
            "/content/drive/My Drive/ECE_209_AS_project_data/USC-HAD/Subject14/a11t3.mat\n",
            "2153\n",
            "/content/drive/My Drive/ECE_209_AS_project_data/USC-HAD/Subject14/a11t4.mat\n",
            "2185\n",
            "/content/drive/My Drive/ECE_209_AS_project_data/USC-HAD/Subject14/a11t5.mat\n",
            "2191\n",
            "/content/drive/My Drive/ECE_209_AS_project_data/USC-HAD/Subject14/a1t1.mat\n",
            "5600\n",
            "/content/drive/My Drive/ECE_209_AS_project_data/USC-HAD/Subject14/a6t1.mat\n",
            "3200\n",
            "/content/drive/My Drive/ECE_209_AS_project_data/USC-HAD/Subject14/a1t2.mat\n",
            "5300\n",
            "/content/drive/My Drive/ECE_209_AS_project_data/USC-HAD/Subject14/a6t2.mat\n",
            "3700\n",
            "/content/drive/My Drive/ECE_209_AS_project_data/USC-HAD/Subject14/a1t3.mat\n",
            "5200\n",
            "/content/drive/My Drive/ECE_209_AS_project_data/USC-HAD/Subject14/a6t3.mat\n",
            "4000\n",
            "/content/drive/My Drive/ECE_209_AS_project_data/USC-HAD/Subject14/a1t4.mat\n",
            "5800\n",
            "/content/drive/My Drive/ECE_209_AS_project_data/USC-HAD/Subject14/a6t4.mat\n",
            "3600\n",
            "/content/drive/My Drive/ECE_209_AS_project_data/USC-HAD/Subject14/a1t5.mat\n",
            "5700\n",
            "/content/drive/My Drive/ECE_209_AS_project_data/USC-HAD/Subject14/a6t5.mat\n",
            "3700\n",
            "/content/drive/My Drive/ECE_209_AS_project_data/USC-HAD/Subject14/a5t1.mat\n",
            "1400\n",
            "/content/drive/My Drive/ECE_209_AS_project_data/USC-HAD/Subject14/a4t1.mat\n",
            "1500\n",
            "/content/drive/My Drive/ECE_209_AS_project_data/USC-HAD/Subject14/a5t2.mat\n",
            "1600\n",
            "/content/drive/My Drive/ECE_209_AS_project_data/USC-HAD/Subject14/a4t2.mat\n",
            "1600\n",
            "/content/drive/My Drive/ECE_209_AS_project_data/USC-HAD/Subject14/a5t3.mat\n",
            "1600\n",
            "/content/drive/My Drive/ECE_209_AS_project_data/USC-HAD/Subject14/a4t3.mat\n",
            "1800\n",
            "/content/drive/My Drive/ECE_209_AS_project_data/USC-HAD/Subject14/a5t4.mat\n",
            "1500\n",
            "/content/drive/My Drive/ECE_209_AS_project_data/USC-HAD/Subject14/a4t4.mat\n",
            "1500\n",
            "/content/drive/My Drive/ECE_209_AS_project_data/USC-HAD/Subject14/a5t5.mat\n",
            "1300\n",
            "/content/drive/My Drive/ECE_209_AS_project_data/USC-HAD/Subject14/a4t5.mat\n",
            "1300\n",
            "/content/drive/My Drive/ECE_209_AS_project_data/USC-HAD/Subject14/a2t1.mat\n",
            "4600\n",
            "/content/drive/My Drive/ECE_209_AS_project_data/USC-HAD/Subject14/a3t1.mat\n",
            "5600\n",
            "/content/drive/My Drive/ECE_209_AS_project_data/USC-HAD/Subject14/a2t2.mat\n",
            "3900\n",
            "/content/drive/My Drive/ECE_209_AS_project_data/USC-HAD/Subject14/a3t2.mat\n",
            "5800\n",
            "/content/drive/My Drive/ECE_209_AS_project_data/USC-HAD/Subject14/a2t3.mat\n",
            "5600\n",
            "/content/drive/My Drive/ECE_209_AS_project_data/USC-HAD/Subject14/a3t3.mat\n",
            "6600\n",
            "/content/drive/My Drive/ECE_209_AS_project_data/USC-HAD/Subject14/a2t4.mat\n",
            "6000\n",
            "/content/drive/My Drive/ECE_209_AS_project_data/USC-HAD/Subject14/a3t4.mat\n",
            "6500\n",
            "/content/drive/My Drive/ECE_209_AS_project_data/USC-HAD/Subject14/a2t5.mat\n",
            "6400\n",
            "/content/drive/My Drive/ECE_209_AS_project_data/USC-HAD/Subject14/a3t5.mat\n",
            "6600\n"
          ]
        }
      ]
    },
    {
      "cell_type": "code",
      "source": [
        "data_class_names =['walking forward', 'walking left', 'walking right', 'walking upstairs' , 'walking downstairs',  'running forward' ,  'jumping', 'sitting', 'standing ', 'sleeping ',  'elevator up',  'elevator down']\n",
        "data_class_weights ={}\n",
        "for i in range(len(data_class_names)+1):\n",
        "     data_class_weights[i]= 1\n",
        "print(data_class_weights)"
      ],
      "metadata": {
        "colab": {
          "base_uri": "https://localhost:8080/"
        },
        "id": "eMj5fMOyYwYQ",
        "outputId": "93da3708-33fa-4ef8-c869-73289cdcd010"
      },
      "id": "eMj5fMOyYwYQ",
      "execution_count": 7,
      "outputs": [
        {
          "output_type": "stream",
          "name": "stdout",
          "text": [
            "{0: 1, 1: 1, 2: 1, 3: 1, 4: 1, 5: 1, 6: 1, 7: 1, 8: 1, 9: 1, 10: 1, 11: 1, 12: 1}\n"
          ]
        }
      ]
    },
    {
      "cell_type": "code",
      "source": [
        "n = int( 0.7 *Y.shape[0])\n",
        "t = np.random.choice(list(range(Y.shape[0])),n, replace=False)\n",
        "te = list(set(list(range(Y.shape[0])))-set(t))\n",
        "X_train = X[t]\n",
        "Y_train =Y[t]\n",
        "X_test = X[te]\n",
        "Y_test =Y[te]"
      ],
      "metadata": {
        "id": "PBSAVKbIZ0ZM"
      },
      "id": "PBSAVKbIZ0ZM",
      "execution_count": 8,
      "outputs": []
    },
    {
      "cell_type": "code",
      "execution_count": 9,
      "id": "63d707ab",
      "metadata": {
        "colab": {
          "base_uri": "https://localhost:8080/"
        },
        "id": "63d707ab",
        "outputId": "1a023d25-66c5-4e72-dfc9-43eec81ca63d"
      },
      "outputs": [
        {
          "output_type": "stream",
          "name": "stdout",
          "text": [
            "(15113, 128, 6)\n",
            "(15113,)\n",
            "(6478, 128, 6)\n",
            "(6478,)\n"
          ]
        }
      ],
      "source": [
        "print(X_train.shape)\n",
        "print(Y_train.shape)\n",
        "print(X_test.shape)\n",
        "print(Y_test.shape)"
      ]
    },
    {
      "cell_type": "code",
      "source": [
        "len(data_class_names)"
      ],
      "metadata": {
        "colab": {
          "base_uri": "https://localhost:8080/"
        },
        "id": "ClIp8DXqaF4y",
        "outputId": "9e575031-161f-4b00-c7b2-72e0a684f297"
      },
      "id": "ClIp8DXqaF4y",
      "execution_count": 10,
      "outputs": [
        {
          "output_type": "execute_result",
          "data": {
            "text/plain": [
              "12"
            ]
          },
          "metadata": {},
          "execution_count": 10
        }
      ]
    },
    {
      "cell_type": "markdown",
      "id": "1e373bd9",
      "metadata": {
        "id": "1e373bd9"
      },
      "source": [
        "### Define the model "
      ]
    },
    {
      "cell_type": "code",
      "execution_count": 11,
      "id": "9b7c6e21",
      "metadata": {
        "id": "9b7c6e21"
      },
      "outputs": [],
      "source": [
        "inputs = keras.Input(shape = (128, 6, 1 ))\n",
        "features = layers.Conv2D(64, kernel_size = (5, 1), strides = (1, 1), padding = \"valid\", activation = \"relu\")(inputs)\n",
        "features = layers.Conv2D(64, kernel_size = (5, 1), strides = (1, 1), padding = \"valid\", activation = \"relu\")(features)\n",
        "features = layers.Conv2D(64, kernel_size = (5, 1), strides = (1, 1), padding = \"valid\", activation = \"relu\")(features)\n",
        "features = layers.Conv2D(64, kernel_size = (5, 1), strides = (1, 1), padding = \"valid\", activation = \"relu\")(features)\n",
        "features = layers.Reshape((features.shape[1], features.shape[2]*features.shape[3]))(features)\n",
        "features = layers.LSTM(128, return_sequences = True, activation = \"tanh\")(features)\n",
        "features = layers.Dropout(0.5)(features)\n",
        "features = layers.LSTM(128, return_sequences = True, activation = \"tanh\")(features)\n",
        "features = layers.Dropout(0.5)(features)\n",
        "features = layers.LSTM(128, activation = \"tanh\")(features)\n",
        "features = layers.Dropout(0.5)(features)\n",
        "outputs = layers.Dense(12, activation = \"softmax\")(features)\n",
        "\n",
        "model = keras.Model(inputs = inputs, outputs = outputs)\n"
      ]
    },
    {
      "cell_type": "code",
      "execution_count": 12,
      "id": "adb167c6",
      "metadata": {
        "colab": {
          "base_uri": "https://localhost:8080/"
        },
        "id": "adb167c6",
        "outputId": "04ca70e0-8571-4af8-f51d-4449bb170a03"
      },
      "outputs": [
        {
          "output_type": "stream",
          "name": "stdout",
          "text": [
            "Model: \"model\"\n",
            "_________________________________________________________________\n",
            " Layer (type)                Output Shape              Param #   \n",
            "=================================================================\n",
            " input_1 (InputLayer)        [(None, 128, 6, 1)]       0         \n",
            "                                                                 \n",
            " conv2d (Conv2D)             (None, 124, 6, 64)        384       \n",
            "                                                                 \n",
            " conv2d_1 (Conv2D)           (None, 120, 6, 64)        20544     \n",
            "                                                                 \n",
            " conv2d_2 (Conv2D)           (None, 116, 6, 64)        20544     \n",
            "                                                                 \n",
            " conv2d_3 (Conv2D)           (None, 112, 6, 64)        20544     \n",
            "                                                                 \n",
            " reshape (Reshape)           (None, 112, 384)          0         \n",
            "                                                                 \n",
            " lstm (LSTM)                 (None, 112, 128)          262656    \n",
            "                                                                 \n",
            " dropout (Dropout)           (None, 112, 128)          0         \n",
            "                                                                 \n",
            " lstm_1 (LSTM)               (None, 112, 128)          131584    \n",
            "                                                                 \n",
            " dropout_1 (Dropout)         (None, 112, 128)          0         \n",
            "                                                                 \n",
            " lstm_2 (LSTM)               (None, 128)               131584    \n",
            "                                                                 \n",
            " dropout_2 (Dropout)         (None, 128)               0         \n",
            "                                                                 \n",
            " dense (Dense)               (None, 12)                1548      \n",
            "                                                                 \n",
            "=================================================================\n",
            "Total params: 589,388\n",
            "Trainable params: 589,388\n",
            "Non-trainable params: 0\n",
            "_________________________________________________________________\n"
          ]
        }
      ],
      "source": [
        "model.summary()"
      ]
    },
    {
      "cell_type": "code",
      "source": [
        "path_to_logs = \"/content/drive/My Drive/ECE_209_AS_project_data/USCHADlogs/\"\n",
        "path_to_models = \"/content/drive/My Drive/ECE_209_AS_project_data/USCHADmodels/\""
      ],
      "metadata": {
        "id": "VCQtMlG_aqzN"
      },
      "id": "VCQtMlG_aqzN",
      "execution_count": 13,
      "outputs": []
    },
    {
      "cell_type": "markdown",
      "id": "89104158",
      "metadata": {
        "id": "89104158"
      },
      "source": [
        "### Split the Data and Train the model "
      ]
    },
    {
      "cell_type": "code",
      "source": [
        "import absl.logging\n",
        "absl.logging.set_verbosity(absl.logging.ERROR)"
      ],
      "metadata": {
        "id": "0gqiJVQoJjRg"
      },
      "id": "0gqiJVQoJjRg",
      "execution_count": 21,
      "outputs": []
    },
    {
      "cell_type": "code",
      "source": [
        "seeds = []"
      ],
      "metadata": {
        "id": "AajsTRlzIQ0f"
      },
      "id": "AajsTRlzIQ0f",
      "execution_count": 14,
      "outputs": []
    },
    {
      "cell_type": "code",
      "source": [
        "from sklearn.metrics import confusion_matrix, recall_score"
      ],
      "metadata": {
        "id": "XeMW9tcf4IqW"
      },
      "id": "XeMW9tcf4IqW",
      "execution_count": 15,
      "outputs": []
    },
    {
      "cell_type": "code",
      "source": [
        "test_accuracies = []\n",
        "recall_scores = []\n",
        "\n",
        "for i in range(5):\n",
        "\n",
        "  rnd_seed = np.random.randint(1, 100)\n",
        "  seeds.append(rnd_seed)\n",
        "  tf.random.set_seed(rnd_seed)\n",
        "  indices = np.random.RandomState(seed=rnd_seed).permutation(len(X_train))\n",
        "  X_train = X_train[indices]\n",
        "  Y_train = Y_train[indices]\n",
        "\n",
        "  train_data = X_train[len(X_train)//10:]\n",
        "  train_labels = Y_train[len(X_train)//10:]\n",
        "  val_data = X_train[:len(X_train)//10]\n",
        "  val_labels = Y_train[:len(X_train)//10]\n",
        "\n",
        "  model = keras.Model(inputs = inputs, outputs = outputs)\n",
        "  model.compile(loss = \"sparse_categorical_crossentropy\", optimizer = \"adam\", metrics=[\"accuracy\"])\n",
        "  tensorboard = keras.callbacks.TensorBoard(log_dir = path_to_logs)\n",
        "  callbacks = [keras.callbacks.ModelCheckpoint(filepath=path_to_models + f\"DeepConvLSTMUSCHAD_baseline_{i}\"), tensorboard, keras.callbacks.EarlyStopping(monitor='val_loss', patience=10)]\n",
        "  history = model.fit(train_data, train_labels, epochs = 100, batch_size = 64, validation_data = (val_data, val_labels), callbacks = callbacks, class_weight = data_class_weights, verbose = False)\n",
        "\n",
        "  model_saved = keras.models.load_model(path_to_models + f\"DeepConvLSTMUSCHAD_baseline_{i}\")\n",
        "  test_accuracy = tf.keras.metrics.Accuracy()\n",
        "  logits = model_saved(X_test, training=False)\n",
        "  prediction = tf.argmax(logits, axis=1, output_type=tf.int32)\n",
        "  test_accuracies.append(test_accuracy(prediction, Y_test))\n",
        "  print(test_accuracy(prediction, Y_test))\n",
        "  recall_scores.append(recall_score(Y_test, prediction, average=None))"
      ],
      "metadata": {
        "colab": {
          "base_uri": "https://localhost:8080/"
        },
        "id": "QsBspytF91ve",
        "outputId": "df10a2f1-5d9b-447e-8256-1fca6d86d81c"
      },
      "id": "QsBspytF91ve",
      "execution_count": 24,
      "outputs": [
        {
          "output_type": "stream",
          "name": "stdout",
          "text": [
            "INFO:tensorflow:Assets written to: /content/drive/My Drive/ECE_209_AS_project_data/USCHADmodels/DeepConvLSTMUSCHAD_baseline_0/assets\n"
          ]
        },
        {
          "output_type": "stream",
          "name": "stderr",
          "text": [
            "INFO:tensorflow:Assets written to: /content/drive/My Drive/ECE_209_AS_project_data/USCHADmodels/DeepConvLSTMUSCHAD_baseline_0/assets\n"
          ]
        },
        {
          "output_type": "stream",
          "name": "stdout",
          "text": [
            "INFO:tensorflow:Assets written to: /content/drive/My Drive/ECE_209_AS_project_data/USCHADmodels/DeepConvLSTMUSCHAD_baseline_0/assets\n"
          ]
        },
        {
          "output_type": "stream",
          "name": "stderr",
          "text": [
            "INFO:tensorflow:Assets written to: /content/drive/My Drive/ECE_209_AS_project_data/USCHADmodels/DeepConvLSTMUSCHAD_baseline_0/assets\n"
          ]
        },
        {
          "output_type": "stream",
          "name": "stdout",
          "text": [
            "INFO:tensorflow:Assets written to: /content/drive/My Drive/ECE_209_AS_project_data/USCHADmodels/DeepConvLSTMUSCHAD_baseline_0/assets\n"
          ]
        },
        {
          "output_type": "stream",
          "name": "stderr",
          "text": [
            "INFO:tensorflow:Assets written to: /content/drive/My Drive/ECE_209_AS_project_data/USCHADmodels/DeepConvLSTMUSCHAD_baseline_0/assets\n"
          ]
        },
        {
          "output_type": "stream",
          "name": "stdout",
          "text": [
            "INFO:tensorflow:Assets written to: /content/drive/My Drive/ECE_209_AS_project_data/USCHADmodels/DeepConvLSTMUSCHAD_baseline_0/assets\n"
          ]
        },
        {
          "output_type": "stream",
          "name": "stderr",
          "text": [
            "INFO:tensorflow:Assets written to: /content/drive/My Drive/ECE_209_AS_project_data/USCHADmodels/DeepConvLSTMUSCHAD_baseline_0/assets\n"
          ]
        },
        {
          "output_type": "stream",
          "name": "stdout",
          "text": [
            "INFO:tensorflow:Assets written to: /content/drive/My Drive/ECE_209_AS_project_data/USCHADmodels/DeepConvLSTMUSCHAD_baseline_0/assets\n"
          ]
        },
        {
          "output_type": "stream",
          "name": "stderr",
          "text": [
            "INFO:tensorflow:Assets written to: /content/drive/My Drive/ECE_209_AS_project_data/USCHADmodels/DeepConvLSTMUSCHAD_baseline_0/assets\n"
          ]
        },
        {
          "output_type": "stream",
          "name": "stdout",
          "text": [
            "INFO:tensorflow:Assets written to: /content/drive/My Drive/ECE_209_AS_project_data/USCHADmodels/DeepConvLSTMUSCHAD_baseline_0/assets\n"
          ]
        },
        {
          "output_type": "stream",
          "name": "stderr",
          "text": [
            "INFO:tensorflow:Assets written to: /content/drive/My Drive/ECE_209_AS_project_data/USCHADmodels/DeepConvLSTMUSCHAD_baseline_0/assets\n"
          ]
        },
        {
          "output_type": "stream",
          "name": "stdout",
          "text": [
            "INFO:tensorflow:Assets written to: /content/drive/My Drive/ECE_209_AS_project_data/USCHADmodels/DeepConvLSTMUSCHAD_baseline_0/assets\n"
          ]
        },
        {
          "output_type": "stream",
          "name": "stderr",
          "text": [
            "INFO:tensorflow:Assets written to: /content/drive/My Drive/ECE_209_AS_project_data/USCHADmodels/DeepConvLSTMUSCHAD_baseline_0/assets\n"
          ]
        },
        {
          "output_type": "stream",
          "name": "stdout",
          "text": [
            "INFO:tensorflow:Assets written to: /content/drive/My Drive/ECE_209_AS_project_data/USCHADmodels/DeepConvLSTMUSCHAD_baseline_0/assets\n"
          ]
        },
        {
          "output_type": "stream",
          "name": "stderr",
          "text": [
            "INFO:tensorflow:Assets written to: /content/drive/My Drive/ECE_209_AS_project_data/USCHADmodels/DeepConvLSTMUSCHAD_baseline_0/assets\n"
          ]
        },
        {
          "output_type": "stream",
          "name": "stdout",
          "text": [
            "INFO:tensorflow:Assets written to: /content/drive/My Drive/ECE_209_AS_project_data/USCHADmodels/DeepConvLSTMUSCHAD_baseline_0/assets\n"
          ]
        },
        {
          "output_type": "stream",
          "name": "stderr",
          "text": [
            "INFO:tensorflow:Assets written to: /content/drive/My Drive/ECE_209_AS_project_data/USCHADmodels/DeepConvLSTMUSCHAD_baseline_0/assets\n"
          ]
        },
        {
          "output_type": "stream",
          "name": "stdout",
          "text": [
            "INFO:tensorflow:Assets written to: /content/drive/My Drive/ECE_209_AS_project_data/USCHADmodels/DeepConvLSTMUSCHAD_baseline_0/assets\n"
          ]
        },
        {
          "output_type": "stream",
          "name": "stderr",
          "text": [
            "INFO:tensorflow:Assets written to: /content/drive/My Drive/ECE_209_AS_project_data/USCHADmodels/DeepConvLSTMUSCHAD_baseline_0/assets\n"
          ]
        },
        {
          "output_type": "stream",
          "name": "stdout",
          "text": [
            "INFO:tensorflow:Assets written to: /content/drive/My Drive/ECE_209_AS_project_data/USCHADmodels/DeepConvLSTMUSCHAD_baseline_0/assets\n"
          ]
        },
        {
          "output_type": "stream",
          "name": "stderr",
          "text": [
            "INFO:tensorflow:Assets written to: /content/drive/My Drive/ECE_209_AS_project_data/USCHADmodels/DeepConvLSTMUSCHAD_baseline_0/assets\n"
          ]
        },
        {
          "output_type": "stream",
          "name": "stdout",
          "text": [
            "INFO:tensorflow:Assets written to: /content/drive/My Drive/ECE_209_AS_project_data/USCHADmodels/DeepConvLSTMUSCHAD_baseline_0/assets\n"
          ]
        },
        {
          "output_type": "stream",
          "name": "stderr",
          "text": [
            "INFO:tensorflow:Assets written to: /content/drive/My Drive/ECE_209_AS_project_data/USCHADmodels/DeepConvLSTMUSCHAD_baseline_0/assets\n"
          ]
        },
        {
          "output_type": "stream",
          "name": "stdout",
          "text": [
            "INFO:tensorflow:Assets written to: /content/drive/My Drive/ECE_209_AS_project_data/USCHADmodels/DeepConvLSTMUSCHAD_baseline_0/assets\n"
          ]
        },
        {
          "output_type": "stream",
          "name": "stderr",
          "text": [
            "INFO:tensorflow:Assets written to: /content/drive/My Drive/ECE_209_AS_project_data/USCHADmodels/DeepConvLSTMUSCHAD_baseline_0/assets\n"
          ]
        },
        {
          "output_type": "stream",
          "name": "stdout",
          "text": [
            "INFO:tensorflow:Assets written to: /content/drive/My Drive/ECE_209_AS_project_data/USCHADmodels/DeepConvLSTMUSCHAD_baseline_0/assets\n"
          ]
        },
        {
          "output_type": "stream",
          "name": "stderr",
          "text": [
            "INFO:tensorflow:Assets written to: /content/drive/My Drive/ECE_209_AS_project_data/USCHADmodels/DeepConvLSTMUSCHAD_baseline_0/assets\n"
          ]
        },
        {
          "output_type": "stream",
          "name": "stdout",
          "text": [
            "INFO:tensorflow:Assets written to: /content/drive/My Drive/ECE_209_AS_project_data/USCHADmodels/DeepConvLSTMUSCHAD_baseline_0/assets\n"
          ]
        },
        {
          "output_type": "stream",
          "name": "stderr",
          "text": [
            "INFO:tensorflow:Assets written to: /content/drive/My Drive/ECE_209_AS_project_data/USCHADmodels/DeepConvLSTMUSCHAD_baseline_0/assets\n"
          ]
        },
        {
          "output_type": "stream",
          "name": "stdout",
          "text": [
            "INFO:tensorflow:Assets written to: /content/drive/My Drive/ECE_209_AS_project_data/USCHADmodels/DeepConvLSTMUSCHAD_baseline_0/assets\n"
          ]
        },
        {
          "output_type": "stream",
          "name": "stderr",
          "text": [
            "INFO:tensorflow:Assets written to: /content/drive/My Drive/ECE_209_AS_project_data/USCHADmodels/DeepConvLSTMUSCHAD_baseline_0/assets\n"
          ]
        },
        {
          "output_type": "stream",
          "name": "stdout",
          "text": [
            "INFO:tensorflow:Assets written to: /content/drive/My Drive/ECE_209_AS_project_data/USCHADmodels/DeepConvLSTMUSCHAD_baseline_0/assets\n"
          ]
        },
        {
          "output_type": "stream",
          "name": "stderr",
          "text": [
            "INFO:tensorflow:Assets written to: /content/drive/My Drive/ECE_209_AS_project_data/USCHADmodels/DeepConvLSTMUSCHAD_baseline_0/assets\n"
          ]
        },
        {
          "output_type": "stream",
          "name": "stdout",
          "text": [
            "INFO:tensorflow:Assets written to: /content/drive/My Drive/ECE_209_AS_project_data/USCHADmodels/DeepConvLSTMUSCHAD_baseline_0/assets\n"
          ]
        },
        {
          "output_type": "stream",
          "name": "stderr",
          "text": [
            "INFO:tensorflow:Assets written to: /content/drive/My Drive/ECE_209_AS_project_data/USCHADmodels/DeepConvLSTMUSCHAD_baseline_0/assets\n"
          ]
        },
        {
          "output_type": "stream",
          "name": "stdout",
          "text": [
            "INFO:tensorflow:Assets written to: /content/drive/My Drive/ECE_209_AS_project_data/USCHADmodels/DeepConvLSTMUSCHAD_baseline_0/assets\n"
          ]
        },
        {
          "output_type": "stream",
          "name": "stderr",
          "text": [
            "INFO:tensorflow:Assets written to: /content/drive/My Drive/ECE_209_AS_project_data/USCHADmodels/DeepConvLSTMUSCHAD_baseline_0/assets\n"
          ]
        },
        {
          "output_type": "stream",
          "name": "stdout",
          "text": [
            "INFO:tensorflow:Assets written to: /content/drive/My Drive/ECE_209_AS_project_data/USCHADmodels/DeepConvLSTMUSCHAD_baseline_0/assets\n"
          ]
        },
        {
          "output_type": "stream",
          "name": "stderr",
          "text": [
            "INFO:tensorflow:Assets written to: /content/drive/My Drive/ECE_209_AS_project_data/USCHADmodels/DeepConvLSTMUSCHAD_baseline_0/assets\n"
          ]
        },
        {
          "output_type": "stream",
          "name": "stdout",
          "text": [
            "INFO:tensorflow:Assets written to: /content/drive/My Drive/ECE_209_AS_project_data/USCHADmodels/DeepConvLSTMUSCHAD_baseline_0/assets\n"
          ]
        },
        {
          "output_type": "stream",
          "name": "stderr",
          "text": [
            "INFO:tensorflow:Assets written to: /content/drive/My Drive/ECE_209_AS_project_data/USCHADmodels/DeepConvLSTMUSCHAD_baseline_0/assets\n"
          ]
        },
        {
          "output_type": "stream",
          "name": "stdout",
          "text": [
            "INFO:tensorflow:Assets written to: /content/drive/My Drive/ECE_209_AS_project_data/USCHADmodels/DeepConvLSTMUSCHAD_baseline_0/assets\n"
          ]
        },
        {
          "output_type": "stream",
          "name": "stderr",
          "text": [
            "INFO:tensorflow:Assets written to: /content/drive/My Drive/ECE_209_AS_project_data/USCHADmodels/DeepConvLSTMUSCHAD_baseline_0/assets\n"
          ]
        },
        {
          "output_type": "stream",
          "name": "stdout",
          "text": [
            "INFO:tensorflow:Assets written to: /content/drive/My Drive/ECE_209_AS_project_data/USCHADmodels/DeepConvLSTMUSCHAD_baseline_0/assets\n"
          ]
        },
        {
          "output_type": "stream",
          "name": "stderr",
          "text": [
            "INFO:tensorflow:Assets written to: /content/drive/My Drive/ECE_209_AS_project_data/USCHADmodels/DeepConvLSTMUSCHAD_baseline_0/assets\n"
          ]
        },
        {
          "output_type": "stream",
          "name": "stdout",
          "text": [
            "INFO:tensorflow:Assets written to: /content/drive/My Drive/ECE_209_AS_project_data/USCHADmodels/DeepConvLSTMUSCHAD_baseline_0/assets\n"
          ]
        },
        {
          "output_type": "stream",
          "name": "stderr",
          "text": [
            "INFO:tensorflow:Assets written to: /content/drive/My Drive/ECE_209_AS_project_data/USCHADmodels/DeepConvLSTMUSCHAD_baseline_0/assets\n"
          ]
        },
        {
          "output_type": "stream",
          "name": "stdout",
          "text": [
            "INFO:tensorflow:Assets written to: /content/drive/My Drive/ECE_209_AS_project_data/USCHADmodels/DeepConvLSTMUSCHAD_baseline_0/assets\n"
          ]
        },
        {
          "output_type": "stream",
          "name": "stderr",
          "text": [
            "INFO:tensorflow:Assets written to: /content/drive/My Drive/ECE_209_AS_project_data/USCHADmodels/DeepConvLSTMUSCHAD_baseline_0/assets\n"
          ]
        },
        {
          "output_type": "stream",
          "name": "stdout",
          "text": [
            "INFO:tensorflow:Assets written to: /content/drive/My Drive/ECE_209_AS_project_data/USCHADmodels/DeepConvLSTMUSCHAD_baseline_0/assets\n"
          ]
        },
        {
          "output_type": "stream",
          "name": "stderr",
          "text": [
            "INFO:tensorflow:Assets written to: /content/drive/My Drive/ECE_209_AS_project_data/USCHADmodels/DeepConvLSTMUSCHAD_baseline_0/assets\n"
          ]
        },
        {
          "output_type": "stream",
          "name": "stdout",
          "text": [
            "INFO:tensorflow:Assets written to: /content/drive/My Drive/ECE_209_AS_project_data/USCHADmodels/DeepConvLSTMUSCHAD_baseline_0/assets\n"
          ]
        },
        {
          "output_type": "stream",
          "name": "stderr",
          "text": [
            "INFO:tensorflow:Assets written to: /content/drive/My Drive/ECE_209_AS_project_data/USCHADmodels/DeepConvLSTMUSCHAD_baseline_0/assets\n"
          ]
        },
        {
          "output_type": "stream",
          "name": "stdout",
          "text": [
            "INFO:tensorflow:Assets written to: /content/drive/My Drive/ECE_209_AS_project_data/USCHADmodels/DeepConvLSTMUSCHAD_baseline_0/assets\n"
          ]
        },
        {
          "output_type": "stream",
          "name": "stderr",
          "text": [
            "INFO:tensorflow:Assets written to: /content/drive/My Drive/ECE_209_AS_project_data/USCHADmodels/DeepConvLSTMUSCHAD_baseline_0/assets\n"
          ]
        },
        {
          "output_type": "stream",
          "name": "stdout",
          "text": [
            "INFO:tensorflow:Assets written to: /content/drive/My Drive/ECE_209_AS_project_data/USCHADmodels/DeepConvLSTMUSCHAD_baseline_0/assets\n"
          ]
        },
        {
          "output_type": "stream",
          "name": "stderr",
          "text": [
            "INFO:tensorflow:Assets written to: /content/drive/My Drive/ECE_209_AS_project_data/USCHADmodels/DeepConvLSTMUSCHAD_baseline_0/assets\n"
          ]
        },
        {
          "output_type": "stream",
          "name": "stdout",
          "text": [
            "INFO:tensorflow:Assets written to: /content/drive/My Drive/ECE_209_AS_project_data/USCHADmodels/DeepConvLSTMUSCHAD_baseline_0/assets\n"
          ]
        },
        {
          "output_type": "stream",
          "name": "stderr",
          "text": [
            "INFO:tensorflow:Assets written to: /content/drive/My Drive/ECE_209_AS_project_data/USCHADmodels/DeepConvLSTMUSCHAD_baseline_0/assets\n"
          ]
        },
        {
          "output_type": "stream",
          "name": "stdout",
          "text": [
            "INFO:tensorflow:Assets written to: /content/drive/My Drive/ECE_209_AS_project_data/USCHADmodels/DeepConvLSTMUSCHAD_baseline_0/assets\n"
          ]
        },
        {
          "output_type": "stream",
          "name": "stderr",
          "text": [
            "INFO:tensorflow:Assets written to: /content/drive/My Drive/ECE_209_AS_project_data/USCHADmodels/DeepConvLSTMUSCHAD_baseline_0/assets\n"
          ]
        },
        {
          "output_type": "stream",
          "name": "stdout",
          "text": [
            "INFO:tensorflow:Assets written to: /content/drive/My Drive/ECE_209_AS_project_data/USCHADmodels/DeepConvLSTMUSCHAD_baseline_0/assets\n"
          ]
        },
        {
          "output_type": "stream",
          "name": "stderr",
          "text": [
            "INFO:tensorflow:Assets written to: /content/drive/My Drive/ECE_209_AS_project_data/USCHADmodels/DeepConvLSTMUSCHAD_baseline_0/assets\n"
          ]
        },
        {
          "output_type": "stream",
          "name": "stdout",
          "text": [
            "INFO:tensorflow:Assets written to: /content/drive/My Drive/ECE_209_AS_project_data/USCHADmodels/DeepConvLSTMUSCHAD_baseline_0/assets\n"
          ]
        },
        {
          "output_type": "stream",
          "name": "stderr",
          "text": [
            "INFO:tensorflow:Assets written to: /content/drive/My Drive/ECE_209_AS_project_data/USCHADmodels/DeepConvLSTMUSCHAD_baseline_0/assets\n"
          ]
        },
        {
          "output_type": "stream",
          "name": "stdout",
          "text": [
            "INFO:tensorflow:Assets written to: /content/drive/My Drive/ECE_209_AS_project_data/USCHADmodels/DeepConvLSTMUSCHAD_baseline_0/assets\n"
          ]
        },
        {
          "output_type": "stream",
          "name": "stderr",
          "text": [
            "INFO:tensorflow:Assets written to: /content/drive/My Drive/ECE_209_AS_project_data/USCHADmodels/DeepConvLSTMUSCHAD_baseline_0/assets\n"
          ]
        },
        {
          "output_type": "stream",
          "name": "stdout",
          "text": [
            "INFO:tensorflow:Assets written to: /content/drive/My Drive/ECE_209_AS_project_data/USCHADmodels/DeepConvLSTMUSCHAD_baseline_0/assets\n"
          ]
        },
        {
          "output_type": "stream",
          "name": "stderr",
          "text": [
            "INFO:tensorflow:Assets written to: /content/drive/My Drive/ECE_209_AS_project_data/USCHADmodels/DeepConvLSTMUSCHAD_baseline_0/assets\n"
          ]
        },
        {
          "output_type": "stream",
          "name": "stdout",
          "text": [
            "INFO:tensorflow:Assets written to: /content/drive/My Drive/ECE_209_AS_project_data/USCHADmodels/DeepConvLSTMUSCHAD_baseline_0/assets\n"
          ]
        },
        {
          "output_type": "stream",
          "name": "stderr",
          "text": [
            "INFO:tensorflow:Assets written to: /content/drive/My Drive/ECE_209_AS_project_data/USCHADmodels/DeepConvLSTMUSCHAD_baseline_0/assets\n"
          ]
        },
        {
          "output_type": "stream",
          "name": "stdout",
          "text": [
            "INFO:tensorflow:Assets written to: /content/drive/My Drive/ECE_209_AS_project_data/USCHADmodels/DeepConvLSTMUSCHAD_baseline_0/assets\n"
          ]
        },
        {
          "output_type": "stream",
          "name": "stderr",
          "text": [
            "INFO:tensorflow:Assets written to: /content/drive/My Drive/ECE_209_AS_project_data/USCHADmodels/DeepConvLSTMUSCHAD_baseline_0/assets\n"
          ]
        },
        {
          "output_type": "stream",
          "name": "stdout",
          "text": [
            "INFO:tensorflow:Assets written to: /content/drive/My Drive/ECE_209_AS_project_data/USCHADmodels/DeepConvLSTMUSCHAD_baseline_0/assets\n"
          ]
        },
        {
          "output_type": "stream",
          "name": "stderr",
          "text": [
            "INFO:tensorflow:Assets written to: /content/drive/My Drive/ECE_209_AS_project_data/USCHADmodels/DeepConvLSTMUSCHAD_baseline_0/assets\n"
          ]
        },
        {
          "output_type": "stream",
          "name": "stdout",
          "text": [
            "INFO:tensorflow:Assets written to: /content/drive/My Drive/ECE_209_AS_project_data/USCHADmodels/DeepConvLSTMUSCHAD_baseline_0/assets\n"
          ]
        },
        {
          "output_type": "stream",
          "name": "stderr",
          "text": [
            "INFO:tensorflow:Assets written to: /content/drive/My Drive/ECE_209_AS_project_data/USCHADmodels/DeepConvLSTMUSCHAD_baseline_0/assets\n"
          ]
        },
        {
          "output_type": "stream",
          "name": "stdout",
          "text": [
            "INFO:tensorflow:Assets written to: /content/drive/My Drive/ECE_209_AS_project_data/USCHADmodels/DeepConvLSTMUSCHAD_baseline_0/assets\n"
          ]
        },
        {
          "output_type": "stream",
          "name": "stderr",
          "text": [
            "INFO:tensorflow:Assets written to: /content/drive/My Drive/ECE_209_AS_project_data/USCHADmodels/DeepConvLSTMUSCHAD_baseline_0/assets\n"
          ]
        },
        {
          "output_type": "stream",
          "name": "stdout",
          "text": [
            "INFO:tensorflow:Assets written to: /content/drive/My Drive/ECE_209_AS_project_data/USCHADmodels/DeepConvLSTMUSCHAD_baseline_0/assets\n"
          ]
        },
        {
          "output_type": "stream",
          "name": "stderr",
          "text": [
            "INFO:tensorflow:Assets written to: /content/drive/My Drive/ECE_209_AS_project_data/USCHADmodels/DeepConvLSTMUSCHAD_baseline_0/assets\n"
          ]
        },
        {
          "output_type": "stream",
          "name": "stdout",
          "text": [
            "INFO:tensorflow:Assets written to: /content/drive/My Drive/ECE_209_AS_project_data/USCHADmodels/DeepConvLSTMUSCHAD_baseline_0/assets\n"
          ]
        },
        {
          "output_type": "stream",
          "name": "stderr",
          "text": [
            "INFO:tensorflow:Assets written to: /content/drive/My Drive/ECE_209_AS_project_data/USCHADmodels/DeepConvLSTMUSCHAD_baseline_0/assets\n"
          ]
        },
        {
          "output_type": "stream",
          "name": "stdout",
          "text": [
            "INFO:tensorflow:Assets written to: /content/drive/My Drive/ECE_209_AS_project_data/USCHADmodels/DeepConvLSTMUSCHAD_baseline_0/assets\n"
          ]
        },
        {
          "output_type": "stream",
          "name": "stderr",
          "text": [
            "INFO:tensorflow:Assets written to: /content/drive/My Drive/ECE_209_AS_project_data/USCHADmodels/DeepConvLSTMUSCHAD_baseline_0/assets\n"
          ]
        },
        {
          "output_type": "stream",
          "name": "stdout",
          "text": [
            "INFO:tensorflow:Assets written to: /content/drive/My Drive/ECE_209_AS_project_data/USCHADmodels/DeepConvLSTMUSCHAD_baseline_0/assets\n"
          ]
        },
        {
          "output_type": "stream",
          "name": "stderr",
          "text": [
            "INFO:tensorflow:Assets written to: /content/drive/My Drive/ECE_209_AS_project_data/USCHADmodels/DeepConvLSTMUSCHAD_baseline_0/assets\n"
          ]
        },
        {
          "output_type": "stream",
          "name": "stdout",
          "text": [
            "INFO:tensorflow:Assets written to: /content/drive/My Drive/ECE_209_AS_project_data/USCHADmodels/DeepConvLSTMUSCHAD_baseline_0/assets\n"
          ]
        },
        {
          "output_type": "stream",
          "name": "stderr",
          "text": [
            "INFO:tensorflow:Assets written to: /content/drive/My Drive/ECE_209_AS_project_data/USCHADmodels/DeepConvLSTMUSCHAD_baseline_0/assets\n"
          ]
        },
        {
          "output_type": "stream",
          "name": "stdout",
          "text": [
            "INFO:tensorflow:Assets written to: /content/drive/My Drive/ECE_209_AS_project_data/USCHADmodels/DeepConvLSTMUSCHAD_baseline_0/assets\n"
          ]
        },
        {
          "output_type": "stream",
          "name": "stderr",
          "text": [
            "INFO:tensorflow:Assets written to: /content/drive/My Drive/ECE_209_AS_project_data/USCHADmodels/DeepConvLSTMUSCHAD_baseline_0/assets\n"
          ]
        },
        {
          "output_type": "stream",
          "name": "stdout",
          "text": [
            "INFO:tensorflow:Assets written to: /content/drive/My Drive/ECE_209_AS_project_data/USCHADmodels/DeepConvLSTMUSCHAD_baseline_0/assets\n"
          ]
        },
        {
          "output_type": "stream",
          "name": "stderr",
          "text": [
            "INFO:tensorflow:Assets written to: /content/drive/My Drive/ECE_209_AS_project_data/USCHADmodels/DeepConvLSTMUSCHAD_baseline_0/assets\n"
          ]
        },
        {
          "output_type": "stream",
          "name": "stdout",
          "text": [
            "INFO:tensorflow:Assets written to: /content/drive/My Drive/ECE_209_AS_project_data/USCHADmodels/DeepConvLSTMUSCHAD_baseline_0/assets\n"
          ]
        },
        {
          "output_type": "stream",
          "name": "stderr",
          "text": [
            "INFO:tensorflow:Assets written to: /content/drive/My Drive/ECE_209_AS_project_data/USCHADmodels/DeepConvLSTMUSCHAD_baseline_0/assets\n"
          ]
        },
        {
          "output_type": "stream",
          "name": "stdout",
          "text": [
            "INFO:tensorflow:Assets written to: /content/drive/My Drive/ECE_209_AS_project_data/USCHADmodels/DeepConvLSTMUSCHAD_baseline_0/assets\n"
          ]
        },
        {
          "output_type": "stream",
          "name": "stderr",
          "text": [
            "INFO:tensorflow:Assets written to: /content/drive/My Drive/ECE_209_AS_project_data/USCHADmodels/DeepConvLSTMUSCHAD_baseline_0/assets\n"
          ]
        },
        {
          "output_type": "stream",
          "name": "stdout",
          "text": [
            "tf.Tensor(0.8814449, shape=(), dtype=float32)\n",
            "INFO:tensorflow:Assets written to: /content/drive/My Drive/ECE_209_AS_project_data/USCHADmodels/DeepConvLSTMUSCHAD_baseline_1/assets\n"
          ]
        },
        {
          "output_type": "stream",
          "name": "stderr",
          "text": [
            "INFO:tensorflow:Assets written to: /content/drive/My Drive/ECE_209_AS_project_data/USCHADmodels/DeepConvLSTMUSCHAD_baseline_1/assets\n"
          ]
        },
        {
          "output_type": "stream",
          "name": "stdout",
          "text": [
            "INFO:tensorflow:Assets written to: /content/drive/My Drive/ECE_209_AS_project_data/USCHADmodels/DeepConvLSTMUSCHAD_baseline_1/assets\n"
          ]
        },
        {
          "output_type": "stream",
          "name": "stderr",
          "text": [
            "INFO:tensorflow:Assets written to: /content/drive/My Drive/ECE_209_AS_project_data/USCHADmodels/DeepConvLSTMUSCHAD_baseline_1/assets\n"
          ]
        },
        {
          "output_type": "stream",
          "name": "stdout",
          "text": [
            "INFO:tensorflow:Assets written to: /content/drive/My Drive/ECE_209_AS_project_data/USCHADmodels/DeepConvLSTMUSCHAD_baseline_1/assets\n"
          ]
        },
        {
          "output_type": "stream",
          "name": "stderr",
          "text": [
            "INFO:tensorflow:Assets written to: /content/drive/My Drive/ECE_209_AS_project_data/USCHADmodels/DeepConvLSTMUSCHAD_baseline_1/assets\n"
          ]
        },
        {
          "output_type": "stream",
          "name": "stdout",
          "text": [
            "INFO:tensorflow:Assets written to: /content/drive/My Drive/ECE_209_AS_project_data/USCHADmodels/DeepConvLSTMUSCHAD_baseline_1/assets\n"
          ]
        },
        {
          "output_type": "stream",
          "name": "stderr",
          "text": [
            "INFO:tensorflow:Assets written to: /content/drive/My Drive/ECE_209_AS_project_data/USCHADmodels/DeepConvLSTMUSCHAD_baseline_1/assets\n"
          ]
        },
        {
          "output_type": "stream",
          "name": "stdout",
          "text": [
            "INFO:tensorflow:Assets written to: /content/drive/My Drive/ECE_209_AS_project_data/USCHADmodels/DeepConvLSTMUSCHAD_baseline_1/assets\n"
          ]
        },
        {
          "output_type": "stream",
          "name": "stderr",
          "text": [
            "INFO:tensorflow:Assets written to: /content/drive/My Drive/ECE_209_AS_project_data/USCHADmodels/DeepConvLSTMUSCHAD_baseline_1/assets\n"
          ]
        },
        {
          "output_type": "stream",
          "name": "stdout",
          "text": [
            "INFO:tensorflow:Assets written to: /content/drive/My Drive/ECE_209_AS_project_data/USCHADmodels/DeepConvLSTMUSCHAD_baseline_1/assets\n"
          ]
        },
        {
          "output_type": "stream",
          "name": "stderr",
          "text": [
            "INFO:tensorflow:Assets written to: /content/drive/My Drive/ECE_209_AS_project_data/USCHADmodels/DeepConvLSTMUSCHAD_baseline_1/assets\n"
          ]
        },
        {
          "output_type": "stream",
          "name": "stdout",
          "text": [
            "INFO:tensorflow:Assets written to: /content/drive/My Drive/ECE_209_AS_project_data/USCHADmodels/DeepConvLSTMUSCHAD_baseline_1/assets\n"
          ]
        },
        {
          "output_type": "stream",
          "name": "stderr",
          "text": [
            "INFO:tensorflow:Assets written to: /content/drive/My Drive/ECE_209_AS_project_data/USCHADmodels/DeepConvLSTMUSCHAD_baseline_1/assets\n"
          ]
        },
        {
          "output_type": "stream",
          "name": "stdout",
          "text": [
            "INFO:tensorflow:Assets written to: /content/drive/My Drive/ECE_209_AS_project_data/USCHADmodels/DeepConvLSTMUSCHAD_baseline_1/assets\n"
          ]
        },
        {
          "output_type": "stream",
          "name": "stderr",
          "text": [
            "INFO:tensorflow:Assets written to: /content/drive/My Drive/ECE_209_AS_project_data/USCHADmodels/DeepConvLSTMUSCHAD_baseline_1/assets\n"
          ]
        },
        {
          "output_type": "stream",
          "name": "stdout",
          "text": [
            "INFO:tensorflow:Assets written to: /content/drive/My Drive/ECE_209_AS_project_data/USCHADmodels/DeepConvLSTMUSCHAD_baseline_1/assets\n"
          ]
        },
        {
          "output_type": "stream",
          "name": "stderr",
          "text": [
            "INFO:tensorflow:Assets written to: /content/drive/My Drive/ECE_209_AS_project_data/USCHADmodels/DeepConvLSTMUSCHAD_baseline_1/assets\n"
          ]
        },
        {
          "output_type": "stream",
          "name": "stdout",
          "text": [
            "INFO:tensorflow:Assets written to: /content/drive/My Drive/ECE_209_AS_project_data/USCHADmodels/DeepConvLSTMUSCHAD_baseline_1/assets\n"
          ]
        },
        {
          "output_type": "stream",
          "name": "stderr",
          "text": [
            "INFO:tensorflow:Assets written to: /content/drive/My Drive/ECE_209_AS_project_data/USCHADmodels/DeepConvLSTMUSCHAD_baseline_1/assets\n"
          ]
        },
        {
          "output_type": "stream",
          "name": "stdout",
          "text": [
            "INFO:tensorflow:Assets written to: /content/drive/My Drive/ECE_209_AS_project_data/USCHADmodels/DeepConvLSTMUSCHAD_baseline_1/assets\n"
          ]
        },
        {
          "output_type": "stream",
          "name": "stderr",
          "text": [
            "INFO:tensorflow:Assets written to: /content/drive/My Drive/ECE_209_AS_project_data/USCHADmodels/DeepConvLSTMUSCHAD_baseline_1/assets\n"
          ]
        },
        {
          "output_type": "stream",
          "name": "stdout",
          "text": [
            "INFO:tensorflow:Assets written to: /content/drive/My Drive/ECE_209_AS_project_data/USCHADmodels/DeepConvLSTMUSCHAD_baseline_1/assets\n"
          ]
        },
        {
          "output_type": "stream",
          "name": "stderr",
          "text": [
            "INFO:tensorflow:Assets written to: /content/drive/My Drive/ECE_209_AS_project_data/USCHADmodels/DeepConvLSTMUSCHAD_baseline_1/assets\n"
          ]
        },
        {
          "output_type": "stream",
          "name": "stdout",
          "text": [
            "tf.Tensor(0.8941031, shape=(), dtype=float32)\n",
            "INFO:tensorflow:Assets written to: /content/drive/My Drive/ECE_209_AS_project_data/USCHADmodels/DeepConvLSTMUSCHAD_baseline_2/assets\n"
          ]
        },
        {
          "output_type": "stream",
          "name": "stderr",
          "text": [
            "INFO:tensorflow:Assets written to: /content/drive/My Drive/ECE_209_AS_project_data/USCHADmodels/DeepConvLSTMUSCHAD_baseline_2/assets\n"
          ]
        },
        {
          "output_type": "stream",
          "name": "stdout",
          "text": [
            "INFO:tensorflow:Assets written to: /content/drive/My Drive/ECE_209_AS_project_data/USCHADmodels/DeepConvLSTMUSCHAD_baseline_2/assets\n"
          ]
        },
        {
          "output_type": "stream",
          "name": "stderr",
          "text": [
            "INFO:tensorflow:Assets written to: /content/drive/My Drive/ECE_209_AS_project_data/USCHADmodels/DeepConvLSTMUSCHAD_baseline_2/assets\n"
          ]
        },
        {
          "output_type": "stream",
          "name": "stdout",
          "text": [
            "INFO:tensorflow:Assets written to: /content/drive/My Drive/ECE_209_AS_project_data/USCHADmodels/DeepConvLSTMUSCHAD_baseline_2/assets\n"
          ]
        },
        {
          "output_type": "stream",
          "name": "stderr",
          "text": [
            "INFO:tensorflow:Assets written to: /content/drive/My Drive/ECE_209_AS_project_data/USCHADmodels/DeepConvLSTMUSCHAD_baseline_2/assets\n"
          ]
        },
        {
          "output_type": "stream",
          "name": "stdout",
          "text": [
            "INFO:tensorflow:Assets written to: /content/drive/My Drive/ECE_209_AS_project_data/USCHADmodels/DeepConvLSTMUSCHAD_baseline_2/assets\n"
          ]
        },
        {
          "output_type": "stream",
          "name": "stderr",
          "text": [
            "INFO:tensorflow:Assets written to: /content/drive/My Drive/ECE_209_AS_project_data/USCHADmodels/DeepConvLSTMUSCHAD_baseline_2/assets\n"
          ]
        },
        {
          "output_type": "stream",
          "name": "stdout",
          "text": [
            "INFO:tensorflow:Assets written to: /content/drive/My Drive/ECE_209_AS_project_data/USCHADmodels/DeepConvLSTMUSCHAD_baseline_2/assets\n"
          ]
        },
        {
          "output_type": "stream",
          "name": "stderr",
          "text": [
            "INFO:tensorflow:Assets written to: /content/drive/My Drive/ECE_209_AS_project_data/USCHADmodels/DeepConvLSTMUSCHAD_baseline_2/assets\n"
          ]
        },
        {
          "output_type": "stream",
          "name": "stdout",
          "text": [
            "INFO:tensorflow:Assets written to: /content/drive/My Drive/ECE_209_AS_project_data/USCHADmodels/DeepConvLSTMUSCHAD_baseline_2/assets\n"
          ]
        },
        {
          "output_type": "stream",
          "name": "stderr",
          "text": [
            "INFO:tensorflow:Assets written to: /content/drive/My Drive/ECE_209_AS_project_data/USCHADmodels/DeepConvLSTMUSCHAD_baseline_2/assets\n"
          ]
        },
        {
          "output_type": "stream",
          "name": "stdout",
          "text": [
            "INFO:tensorflow:Assets written to: /content/drive/My Drive/ECE_209_AS_project_data/USCHADmodels/DeepConvLSTMUSCHAD_baseline_2/assets\n"
          ]
        },
        {
          "output_type": "stream",
          "name": "stderr",
          "text": [
            "INFO:tensorflow:Assets written to: /content/drive/My Drive/ECE_209_AS_project_data/USCHADmodels/DeepConvLSTMUSCHAD_baseline_2/assets\n"
          ]
        },
        {
          "output_type": "stream",
          "name": "stdout",
          "text": [
            "INFO:tensorflow:Assets written to: /content/drive/My Drive/ECE_209_AS_project_data/USCHADmodels/DeepConvLSTMUSCHAD_baseline_2/assets\n"
          ]
        },
        {
          "output_type": "stream",
          "name": "stderr",
          "text": [
            "INFO:tensorflow:Assets written to: /content/drive/My Drive/ECE_209_AS_project_data/USCHADmodels/DeepConvLSTMUSCHAD_baseline_2/assets\n"
          ]
        },
        {
          "output_type": "stream",
          "name": "stdout",
          "text": [
            "INFO:tensorflow:Assets written to: /content/drive/My Drive/ECE_209_AS_project_data/USCHADmodels/DeepConvLSTMUSCHAD_baseline_2/assets\n"
          ]
        },
        {
          "output_type": "stream",
          "name": "stderr",
          "text": [
            "INFO:tensorflow:Assets written to: /content/drive/My Drive/ECE_209_AS_project_data/USCHADmodels/DeepConvLSTMUSCHAD_baseline_2/assets\n"
          ]
        },
        {
          "output_type": "stream",
          "name": "stdout",
          "text": [
            "INFO:tensorflow:Assets written to: /content/drive/My Drive/ECE_209_AS_project_data/USCHADmodels/DeepConvLSTMUSCHAD_baseline_2/assets\n"
          ]
        },
        {
          "output_type": "stream",
          "name": "stderr",
          "text": [
            "INFO:tensorflow:Assets written to: /content/drive/My Drive/ECE_209_AS_project_data/USCHADmodels/DeepConvLSTMUSCHAD_baseline_2/assets\n"
          ]
        },
        {
          "output_type": "stream",
          "name": "stdout",
          "text": [
            "INFO:tensorflow:Assets written to: /content/drive/My Drive/ECE_209_AS_project_data/USCHADmodels/DeepConvLSTMUSCHAD_baseline_2/assets\n"
          ]
        },
        {
          "output_type": "stream",
          "name": "stderr",
          "text": [
            "INFO:tensorflow:Assets written to: /content/drive/My Drive/ECE_209_AS_project_data/USCHADmodels/DeepConvLSTMUSCHAD_baseline_2/assets\n"
          ]
        },
        {
          "output_type": "stream",
          "name": "stdout",
          "text": [
            "tf.Tensor(0.88700217, shape=(), dtype=float32)\n",
            "INFO:tensorflow:Assets written to: /content/drive/My Drive/ECE_209_AS_project_data/USCHADmodels/DeepConvLSTMUSCHAD_baseline_3/assets\n"
          ]
        },
        {
          "output_type": "stream",
          "name": "stderr",
          "text": [
            "INFO:tensorflow:Assets written to: /content/drive/My Drive/ECE_209_AS_project_data/USCHADmodels/DeepConvLSTMUSCHAD_baseline_3/assets\n"
          ]
        },
        {
          "output_type": "stream",
          "name": "stdout",
          "text": [
            "INFO:tensorflow:Assets written to: /content/drive/My Drive/ECE_209_AS_project_data/USCHADmodels/DeepConvLSTMUSCHAD_baseline_3/assets\n"
          ]
        },
        {
          "output_type": "stream",
          "name": "stderr",
          "text": [
            "INFO:tensorflow:Assets written to: /content/drive/My Drive/ECE_209_AS_project_data/USCHADmodels/DeepConvLSTMUSCHAD_baseline_3/assets\n"
          ]
        },
        {
          "output_type": "stream",
          "name": "stdout",
          "text": [
            "INFO:tensorflow:Assets written to: /content/drive/My Drive/ECE_209_AS_project_data/USCHADmodels/DeepConvLSTMUSCHAD_baseline_3/assets\n"
          ]
        },
        {
          "output_type": "stream",
          "name": "stderr",
          "text": [
            "INFO:tensorflow:Assets written to: /content/drive/My Drive/ECE_209_AS_project_data/USCHADmodels/DeepConvLSTMUSCHAD_baseline_3/assets\n"
          ]
        },
        {
          "output_type": "stream",
          "name": "stdout",
          "text": [
            "INFO:tensorflow:Assets written to: /content/drive/My Drive/ECE_209_AS_project_data/USCHADmodels/DeepConvLSTMUSCHAD_baseline_3/assets\n"
          ]
        },
        {
          "output_type": "stream",
          "name": "stderr",
          "text": [
            "INFO:tensorflow:Assets written to: /content/drive/My Drive/ECE_209_AS_project_data/USCHADmodels/DeepConvLSTMUSCHAD_baseline_3/assets\n"
          ]
        },
        {
          "output_type": "stream",
          "name": "stdout",
          "text": [
            "INFO:tensorflow:Assets written to: /content/drive/My Drive/ECE_209_AS_project_data/USCHADmodels/DeepConvLSTMUSCHAD_baseline_3/assets\n"
          ]
        },
        {
          "output_type": "stream",
          "name": "stderr",
          "text": [
            "INFO:tensorflow:Assets written to: /content/drive/My Drive/ECE_209_AS_project_data/USCHADmodels/DeepConvLSTMUSCHAD_baseline_3/assets\n"
          ]
        },
        {
          "output_type": "stream",
          "name": "stdout",
          "text": [
            "INFO:tensorflow:Assets written to: /content/drive/My Drive/ECE_209_AS_project_data/USCHADmodels/DeepConvLSTMUSCHAD_baseline_3/assets\n"
          ]
        },
        {
          "output_type": "stream",
          "name": "stderr",
          "text": [
            "INFO:tensorflow:Assets written to: /content/drive/My Drive/ECE_209_AS_project_data/USCHADmodels/DeepConvLSTMUSCHAD_baseline_3/assets\n"
          ]
        },
        {
          "output_type": "stream",
          "name": "stdout",
          "text": [
            "INFO:tensorflow:Assets written to: /content/drive/My Drive/ECE_209_AS_project_data/USCHADmodels/DeepConvLSTMUSCHAD_baseline_3/assets\n"
          ]
        },
        {
          "output_type": "stream",
          "name": "stderr",
          "text": [
            "INFO:tensorflow:Assets written to: /content/drive/My Drive/ECE_209_AS_project_data/USCHADmodels/DeepConvLSTMUSCHAD_baseline_3/assets\n"
          ]
        },
        {
          "output_type": "stream",
          "name": "stdout",
          "text": [
            "INFO:tensorflow:Assets written to: /content/drive/My Drive/ECE_209_AS_project_data/USCHADmodels/DeepConvLSTMUSCHAD_baseline_3/assets\n"
          ]
        },
        {
          "output_type": "stream",
          "name": "stderr",
          "text": [
            "INFO:tensorflow:Assets written to: /content/drive/My Drive/ECE_209_AS_project_data/USCHADmodels/DeepConvLSTMUSCHAD_baseline_3/assets\n"
          ]
        },
        {
          "output_type": "stream",
          "name": "stdout",
          "text": [
            "INFO:tensorflow:Assets written to: /content/drive/My Drive/ECE_209_AS_project_data/USCHADmodels/DeepConvLSTMUSCHAD_baseline_3/assets\n"
          ]
        },
        {
          "output_type": "stream",
          "name": "stderr",
          "text": [
            "INFO:tensorflow:Assets written to: /content/drive/My Drive/ECE_209_AS_project_data/USCHADmodels/DeepConvLSTMUSCHAD_baseline_3/assets\n"
          ]
        },
        {
          "output_type": "stream",
          "name": "stdout",
          "text": [
            "INFO:tensorflow:Assets written to: /content/drive/My Drive/ECE_209_AS_project_data/USCHADmodels/DeepConvLSTMUSCHAD_baseline_3/assets\n"
          ]
        },
        {
          "output_type": "stream",
          "name": "stderr",
          "text": [
            "INFO:tensorflow:Assets written to: /content/drive/My Drive/ECE_209_AS_project_data/USCHADmodels/DeepConvLSTMUSCHAD_baseline_3/assets\n"
          ]
        },
        {
          "output_type": "stream",
          "name": "stdout",
          "text": [
            "INFO:tensorflow:Assets written to: /content/drive/My Drive/ECE_209_AS_project_data/USCHADmodels/DeepConvLSTMUSCHAD_baseline_3/assets\n"
          ]
        },
        {
          "output_type": "stream",
          "name": "stderr",
          "text": [
            "INFO:tensorflow:Assets written to: /content/drive/My Drive/ECE_209_AS_project_data/USCHADmodels/DeepConvLSTMUSCHAD_baseline_3/assets\n"
          ]
        },
        {
          "output_type": "stream",
          "name": "stdout",
          "text": [
            "INFO:tensorflow:Assets written to: /content/drive/My Drive/ECE_209_AS_project_data/USCHADmodels/DeepConvLSTMUSCHAD_baseline_3/assets\n"
          ]
        },
        {
          "output_type": "stream",
          "name": "stderr",
          "text": [
            "INFO:tensorflow:Assets written to: /content/drive/My Drive/ECE_209_AS_project_data/USCHADmodels/DeepConvLSTMUSCHAD_baseline_3/assets\n"
          ]
        },
        {
          "output_type": "stream",
          "name": "stdout",
          "text": [
            "tf.Tensor(0.8817536, shape=(), dtype=float32)\n",
            "INFO:tensorflow:Assets written to: /content/drive/My Drive/ECE_209_AS_project_data/USCHADmodels/DeepConvLSTMUSCHAD_baseline_4/assets\n"
          ]
        },
        {
          "output_type": "stream",
          "name": "stderr",
          "text": [
            "INFO:tensorflow:Assets written to: /content/drive/My Drive/ECE_209_AS_project_data/USCHADmodels/DeepConvLSTMUSCHAD_baseline_4/assets\n"
          ]
        },
        {
          "output_type": "stream",
          "name": "stdout",
          "text": [
            "INFO:tensorflow:Assets written to: /content/drive/My Drive/ECE_209_AS_project_data/USCHADmodels/DeepConvLSTMUSCHAD_baseline_4/assets\n"
          ]
        },
        {
          "output_type": "stream",
          "name": "stderr",
          "text": [
            "INFO:tensorflow:Assets written to: /content/drive/My Drive/ECE_209_AS_project_data/USCHADmodels/DeepConvLSTMUSCHAD_baseline_4/assets\n"
          ]
        },
        {
          "output_type": "stream",
          "name": "stdout",
          "text": [
            "INFO:tensorflow:Assets written to: /content/drive/My Drive/ECE_209_AS_project_data/USCHADmodels/DeepConvLSTMUSCHAD_baseline_4/assets\n"
          ]
        },
        {
          "output_type": "stream",
          "name": "stderr",
          "text": [
            "INFO:tensorflow:Assets written to: /content/drive/My Drive/ECE_209_AS_project_data/USCHADmodels/DeepConvLSTMUSCHAD_baseline_4/assets\n"
          ]
        },
        {
          "output_type": "stream",
          "name": "stdout",
          "text": [
            "INFO:tensorflow:Assets written to: /content/drive/My Drive/ECE_209_AS_project_data/USCHADmodels/DeepConvLSTMUSCHAD_baseline_4/assets\n"
          ]
        },
        {
          "output_type": "stream",
          "name": "stderr",
          "text": [
            "INFO:tensorflow:Assets written to: /content/drive/My Drive/ECE_209_AS_project_data/USCHADmodels/DeepConvLSTMUSCHAD_baseline_4/assets\n"
          ]
        },
        {
          "output_type": "stream",
          "name": "stdout",
          "text": [
            "INFO:tensorflow:Assets written to: /content/drive/My Drive/ECE_209_AS_project_data/USCHADmodels/DeepConvLSTMUSCHAD_baseline_4/assets\n"
          ]
        },
        {
          "output_type": "stream",
          "name": "stderr",
          "text": [
            "INFO:tensorflow:Assets written to: /content/drive/My Drive/ECE_209_AS_project_data/USCHADmodels/DeepConvLSTMUSCHAD_baseline_4/assets\n"
          ]
        },
        {
          "output_type": "stream",
          "name": "stdout",
          "text": [
            "INFO:tensorflow:Assets written to: /content/drive/My Drive/ECE_209_AS_project_data/USCHADmodels/DeepConvLSTMUSCHAD_baseline_4/assets\n"
          ]
        },
        {
          "output_type": "stream",
          "name": "stderr",
          "text": [
            "INFO:tensorflow:Assets written to: /content/drive/My Drive/ECE_209_AS_project_data/USCHADmodels/DeepConvLSTMUSCHAD_baseline_4/assets\n"
          ]
        },
        {
          "output_type": "stream",
          "name": "stdout",
          "text": [
            "INFO:tensorflow:Assets written to: /content/drive/My Drive/ECE_209_AS_project_data/USCHADmodels/DeepConvLSTMUSCHAD_baseline_4/assets\n"
          ]
        },
        {
          "output_type": "stream",
          "name": "stderr",
          "text": [
            "INFO:tensorflow:Assets written to: /content/drive/My Drive/ECE_209_AS_project_data/USCHADmodels/DeepConvLSTMUSCHAD_baseline_4/assets\n"
          ]
        },
        {
          "output_type": "stream",
          "name": "stdout",
          "text": [
            "INFO:tensorflow:Assets written to: /content/drive/My Drive/ECE_209_AS_project_data/USCHADmodels/DeepConvLSTMUSCHAD_baseline_4/assets\n"
          ]
        },
        {
          "output_type": "stream",
          "name": "stderr",
          "text": [
            "INFO:tensorflow:Assets written to: /content/drive/My Drive/ECE_209_AS_project_data/USCHADmodels/DeepConvLSTMUSCHAD_baseline_4/assets\n"
          ]
        },
        {
          "output_type": "stream",
          "name": "stdout",
          "text": [
            "INFO:tensorflow:Assets written to: /content/drive/My Drive/ECE_209_AS_project_data/USCHADmodels/DeepConvLSTMUSCHAD_baseline_4/assets\n"
          ]
        },
        {
          "output_type": "stream",
          "name": "stderr",
          "text": [
            "INFO:tensorflow:Assets written to: /content/drive/My Drive/ECE_209_AS_project_data/USCHADmodels/DeepConvLSTMUSCHAD_baseline_4/assets\n"
          ]
        },
        {
          "output_type": "stream",
          "name": "stdout",
          "text": [
            "INFO:tensorflow:Assets written to: /content/drive/My Drive/ECE_209_AS_project_data/USCHADmodels/DeepConvLSTMUSCHAD_baseline_4/assets\n"
          ]
        },
        {
          "output_type": "stream",
          "name": "stderr",
          "text": [
            "INFO:tensorflow:Assets written to: /content/drive/My Drive/ECE_209_AS_project_data/USCHADmodels/DeepConvLSTMUSCHAD_baseline_4/assets\n"
          ]
        },
        {
          "output_type": "stream",
          "name": "stdout",
          "text": [
            "INFO:tensorflow:Assets written to: /content/drive/My Drive/ECE_209_AS_project_data/USCHADmodels/DeepConvLSTMUSCHAD_baseline_4/assets\n"
          ]
        },
        {
          "output_type": "stream",
          "name": "stderr",
          "text": [
            "INFO:tensorflow:Assets written to: /content/drive/My Drive/ECE_209_AS_project_data/USCHADmodels/DeepConvLSTMUSCHAD_baseline_4/assets\n"
          ]
        },
        {
          "output_type": "stream",
          "name": "stdout",
          "text": [
            "INFO:tensorflow:Assets written to: /content/drive/My Drive/ECE_209_AS_project_data/USCHADmodels/DeepConvLSTMUSCHAD_baseline_4/assets\n"
          ]
        },
        {
          "output_type": "stream",
          "name": "stderr",
          "text": [
            "INFO:tensorflow:Assets written to: /content/drive/My Drive/ECE_209_AS_project_data/USCHADmodels/DeepConvLSTMUSCHAD_baseline_4/assets\n"
          ]
        },
        {
          "output_type": "stream",
          "name": "stdout",
          "text": [
            "tf.Tensor(0.89549243, shape=(), dtype=float32)\n"
          ]
        }
      ]
    },
    {
      "cell_type": "code",
      "source": [
        "test_accuracies = []\n",
        "recall_scores = []\n",
        "\n",
        "for i in range(5):\n",
        "\n",
        "  model_saved = keras.models.load_model(path_to_models + f\"DeepConvLSTMUSCHAD_baseline_{i}\")\n",
        "  test_accuracy = tf.keras.metrics.Accuracy()\n",
        "  logits = model_saved(X_test, training=False)\n",
        "  prediction = tf.argmax(logits, axis=1, output_type=tf.int32)\n",
        "  test_accuracies.append(test_accuracy(prediction, Y_test))\n",
        "  recall_scores.append(recall_score(Y_test, prediction, average=None))\n"
      ],
      "metadata": {
        "id": "UzgM-E8Lk5U7"
      },
      "id": "UzgM-E8Lk5U7",
      "execution_count": 16,
      "outputs": []
    },
    {
      "cell_type": "code",
      "source": [
        "# Print Average Total Accuracy \n",
        "sum_ac = 0\n",
        "\n",
        "for ac in test_accuracies:\n",
        "\n",
        "  sum_ac += ac.numpy()\n",
        "\n",
        "print(f\"Mean accuracy is {sum_ac/len(test_accuracies)}\")"
      ],
      "metadata": {
        "colab": {
          "base_uri": "https://localhost:8080/"
        },
        "id": "X1xeEESK9enG",
        "outputId": "e6e11f22-d2dc-4cd2-d0f2-a25dd86bf33e"
      },
      "id": "X1xeEESK9enG",
      "execution_count": 25,
      "outputs": [
        {
          "output_type": "stream",
          "name": "stdout",
          "text": [
            "Mean accuracy is 0.8879592418670654\n"
          ]
        }
      ]
    },
    {
      "cell_type": "code",
      "source": [
        "mean_recall_scores  = sum(recall_scores)/len(recall_scores)\n",
        "\n",
        "for i in range(len(mean_recall_scores)):\n",
        "\n",
        "  print(f\"Label {data_class_names[i]} has mean accuracy {mean_recall_scores[i]}\")"
      ],
      "metadata": {
        "colab": {
          "base_uri": "https://localhost:8080/"
        },
        "id": "O2V1B9eS-7yj",
        "outputId": "de9da023-c983-4f72-9e26-1939a6a4ca37"
      },
      "id": "O2V1B9eS-7yj",
      "execution_count": 17,
      "outputs": [
        {
          "output_type": "stream",
          "name": "stdout",
          "text": [
            "Label walking forward has mean accuracy 0.9631696428571427\n",
            "Label walking left has mean accuracy 0.961744966442953\n",
            "Label walking right has mean accuracy 0.9426751592356688\n",
            "Label walking upstairs has mean accuracy 0.9686746987951806\n",
            "Label walking downstairs has mean accuracy 0.972972972972973\n",
            "Label running forward has mean accuracy 0.9842105263157895\n",
            "Label jumping has mean accuracy 0.9871212121212121\n",
            "Label sitting has mean accuracy 0.9815699658703071\n",
            "Label standing  has mean accuracy 0.9141221374045803\n",
            "Label sleeping  has mean accuracy 0.9997750281214849\n",
            "Label elevator up has mean accuracy 0.46896551724137925\n",
            "Label elevator down has mean accuracy 0.49972144846796657\n"
          ]
        }
      ]
    },
    {
      "cell_type": "code",
      "source": [
        "import matplotlib.pyplot as plt"
      ],
      "metadata": {
        "id": "-i12fkN9foJQ"
      },
      "id": "-i12fkN9foJQ",
      "execution_count": 27,
      "outputs": []
    },
    {
      "cell_type": "markdown",
      "source": [
        "## Same model with regularization"
      ],
      "metadata": {
        "id": "ThJOJJ5Qph0v"
      },
      "id": "ThJOJJ5Qph0v"
    },
    {
      "cell_type": "code",
      "source": [
        "from tensorflow.keras import regularizers"
      ],
      "metadata": {
        "id": "CDPA3cnVsBpL"
      },
      "id": "CDPA3cnVsBpL",
      "execution_count": 28,
      "outputs": []
    },
    {
      "cell_type": "code",
      "source": [
        "test_accuracies_with_reg = []\n",
        "recall_scores_with_reg = []\n",
        "\n",
        "for i in range(5):\n",
        "\n",
        "  rnd_seed = seeds[i]\n",
        "  tf.random.set_seed(rnd_seed)\n",
        "  indices = np.random.RandomState(seed=rnd_seed).permutation(len(X_train))\n",
        "  X_train = X_train[indices]\n",
        "  Y_train = Y_train[indices]\n",
        "\n",
        "  train_data = X_train[len(X_train)//10:]\n",
        "  train_labels = Y_train[len(X_train)//10:]\n",
        "  val_data = X_train[:len(X_train)//10]\n",
        "  val_labels = Y_train[:len(X_train)//10]\n",
        "\n",
        "  model_with_reg = keras.Model(inputs = inputs, outputs = outputs)\n",
        "  model_with_reg.compile(loss = \"sparse_categorical_crossentropy\", optimizer = \"adam\", metrics=[\"accuracy\"])\n",
        "  tensorboard = keras.callbacks.TensorBoard(log_dir = path_to_logs)\n",
        "  callbacks = [keras.callbacks.ModelCheckpoint(filepath=path_to_models + f\"DeepConvLSTMUSCHAD_with_reg_{i}\"), tensorboard, keras.callbacks.EarlyStopping(monitor='val_loss', patience=10)]\n",
        "  history = model_with_reg.fit(train_data, train_labels, epochs = 25, batch_size = 64, validation_data = (val_data, val_labels), callbacks = callbacks, class_weight = data_class_weights, verbose = False)\n",
        "\n",
        "  model_saved = keras.models.load_model(path_to_models + f\"DeepConvLSTMUSCHAD_with_reg_{i}\")\n",
        "  test_accuracy = tf.keras.metrics.Accuracy()\n",
        "  logits = model_saved(X_test, training=False)\n",
        "  prediction = tf.argmax(logits, axis=1, output_type=tf.int32)\n",
        "  test_accuracies_with_reg.append(test_accuracy(prediction, Y_test))\n",
        "  print(test_accuracy(prediction, Y_test))\n",
        "  recall_scores_with_reg.append(recall_score(Y_test, prediction, average=None))"
      ],
      "metadata": {
        "colab": {
          "base_uri": "https://localhost:8080/"
        },
        "id": "Yaas6g94Ha79",
        "outputId": "c242af02-d3e5-4e93-9345-49cb55faa85c"
      },
      "id": "Yaas6g94Ha79",
      "execution_count": 29,
      "outputs": [
        {
          "metadata": {
            "tags": null
          },
          "name": "stdout",
          "output_type": "stream",
          "text": [
            "INFO:tensorflow:Assets written to: /content/drive/My Drive/ECE_209_AS_project_data/USCHADmodels/DeepConvLSTMUSCHAD_with_reg_0/assets\n"
          ]
        },
        {
          "metadata": {
            "tags": null
          },
          "name": "stderr",
          "output_type": "stream",
          "text": [
            "INFO:tensorflow:Assets written to: /content/drive/My Drive/ECE_209_AS_project_data/USCHADmodels/DeepConvLSTMUSCHAD_with_reg_0/assets\n"
          ]
        },
        {
          "metadata": {
            "tags": null
          },
          "name": "stdout",
          "output_type": "stream",
          "text": [
            "INFO:tensorflow:Assets written to: /content/drive/My Drive/ECE_209_AS_project_data/USCHADmodels/DeepConvLSTMUSCHAD_with_reg_0/assets\n"
          ]
        },
        {
          "metadata": {
            "tags": null
          },
          "name": "stderr",
          "output_type": "stream",
          "text": [
            "INFO:tensorflow:Assets written to: /content/drive/My Drive/ECE_209_AS_project_data/USCHADmodels/DeepConvLSTMUSCHAD_with_reg_0/assets\n"
          ]
        },
        {
          "metadata": {
            "tags": null
          },
          "name": "stdout",
          "output_type": "stream",
          "text": [
            "INFO:tensorflow:Assets written to: /content/drive/My Drive/ECE_209_AS_project_data/USCHADmodels/DeepConvLSTMUSCHAD_with_reg_0/assets\n"
          ]
        },
        {
          "metadata": {
            "tags": null
          },
          "name": "stderr",
          "output_type": "stream",
          "text": [
            "INFO:tensorflow:Assets written to: /content/drive/My Drive/ECE_209_AS_project_data/USCHADmodels/DeepConvLSTMUSCHAD_with_reg_0/assets\n"
          ]
        },
        {
          "metadata": {
            "tags": null
          },
          "name": "stdout",
          "output_type": "stream",
          "text": [
            "INFO:tensorflow:Assets written to: /content/drive/My Drive/ECE_209_AS_project_data/USCHADmodels/DeepConvLSTMUSCHAD_with_reg_0/assets\n"
          ]
        },
        {
          "metadata": {
            "tags": null
          },
          "name": "stderr",
          "output_type": "stream",
          "text": [
            "INFO:tensorflow:Assets written to: /content/drive/My Drive/ECE_209_AS_project_data/USCHADmodels/DeepConvLSTMUSCHAD_with_reg_0/assets\n"
          ]
        },
        {
          "metadata": {
            "tags": null
          },
          "name": "stdout",
          "output_type": "stream",
          "text": [
            "INFO:tensorflow:Assets written to: /content/drive/My Drive/ECE_209_AS_project_data/USCHADmodels/DeepConvLSTMUSCHAD_with_reg_0/assets\n"
          ]
        },
        {
          "metadata": {
            "tags": null
          },
          "name": "stderr",
          "output_type": "stream",
          "text": [
            "INFO:tensorflow:Assets written to: /content/drive/My Drive/ECE_209_AS_project_data/USCHADmodels/DeepConvLSTMUSCHAD_with_reg_0/assets\n"
          ]
        },
        {
          "metadata": {
            "tags": null
          },
          "name": "stdout",
          "output_type": "stream",
          "text": [
            "INFO:tensorflow:Assets written to: /content/drive/My Drive/ECE_209_AS_project_data/USCHADmodels/DeepConvLSTMUSCHAD_with_reg_0/assets\n"
          ]
        },
        {
          "metadata": {
            "tags": null
          },
          "name": "stderr",
          "output_type": "stream",
          "text": [
            "INFO:tensorflow:Assets written to: /content/drive/My Drive/ECE_209_AS_project_data/USCHADmodels/DeepConvLSTMUSCHAD_with_reg_0/assets\n"
          ]
        },
        {
          "metadata": {
            "tags": null
          },
          "name": "stdout",
          "output_type": "stream",
          "text": [
            "INFO:tensorflow:Assets written to: /content/drive/My Drive/ECE_209_AS_project_data/USCHADmodels/DeepConvLSTMUSCHAD_with_reg_0/assets\n"
          ]
        },
        {
          "metadata": {
            "tags": null
          },
          "name": "stderr",
          "output_type": "stream",
          "text": [
            "INFO:tensorflow:Assets written to: /content/drive/My Drive/ECE_209_AS_project_data/USCHADmodels/DeepConvLSTMUSCHAD_with_reg_0/assets\n"
          ]
        },
        {
          "metadata": {
            "tags": null
          },
          "name": "stdout",
          "output_type": "stream",
          "text": [
            "INFO:tensorflow:Assets written to: /content/drive/My Drive/ECE_209_AS_project_data/USCHADmodels/DeepConvLSTMUSCHAD_with_reg_0/assets\n"
          ]
        },
        {
          "metadata": {
            "tags": null
          },
          "name": "stderr",
          "output_type": "stream",
          "text": [
            "INFO:tensorflow:Assets written to: /content/drive/My Drive/ECE_209_AS_project_data/USCHADmodels/DeepConvLSTMUSCHAD_with_reg_0/assets\n"
          ]
        },
        {
          "metadata": {
            "tags": null
          },
          "name": "stdout",
          "output_type": "stream",
          "text": [
            "INFO:tensorflow:Assets written to: /content/drive/My Drive/ECE_209_AS_project_data/USCHADmodels/DeepConvLSTMUSCHAD_with_reg_0/assets\n"
          ]
        },
        {
          "metadata": {
            "tags": null
          },
          "name": "stderr",
          "output_type": "stream",
          "text": [
            "INFO:tensorflow:Assets written to: /content/drive/My Drive/ECE_209_AS_project_data/USCHADmodels/DeepConvLSTMUSCHAD_with_reg_0/assets\n"
          ]
        },
        {
          "metadata": {
            "tags": null
          },
          "name": "stdout",
          "output_type": "stream",
          "text": [
            "INFO:tensorflow:Assets written to: /content/drive/My Drive/ECE_209_AS_project_data/USCHADmodels/DeepConvLSTMUSCHAD_with_reg_0/assets\n"
          ]
        },
        {
          "metadata": {
            "tags": null
          },
          "name": "stderr",
          "output_type": "stream",
          "text": [
            "INFO:tensorflow:Assets written to: /content/drive/My Drive/ECE_209_AS_project_data/USCHADmodels/DeepConvLSTMUSCHAD_with_reg_0/assets\n"
          ]
        },
        {
          "metadata": {
            "tags": null
          },
          "name": "stdout",
          "output_type": "stream",
          "text": [
            "INFO:tensorflow:Assets written to: /content/drive/My Drive/ECE_209_AS_project_data/USCHADmodels/DeepConvLSTMUSCHAD_with_reg_0/assets\n"
          ]
        },
        {
          "metadata": {
            "tags": null
          },
          "name": "stderr",
          "output_type": "stream",
          "text": [
            "INFO:tensorflow:Assets written to: /content/drive/My Drive/ECE_209_AS_project_data/USCHADmodels/DeepConvLSTMUSCHAD_with_reg_0/assets\n"
          ]
        },
        {
          "metadata": {
            "tags": null
          },
          "name": "stdout",
          "output_type": "stream",
          "text": [
            "tf.Tensor(0.8958012, shape=(), dtype=float32)\n",
            "INFO:tensorflow:Assets written to: /content/drive/My Drive/ECE_209_AS_project_data/USCHADmodels/DeepConvLSTMUSCHAD_with_reg_1/assets\n"
          ]
        },
        {
          "metadata": {
            "tags": null
          },
          "name": "stderr",
          "output_type": "stream",
          "text": [
            "INFO:tensorflow:Assets written to: /content/drive/My Drive/ECE_209_AS_project_data/USCHADmodels/DeepConvLSTMUSCHAD_with_reg_1/assets\n"
          ]
        },
        {
          "metadata": {
            "tags": null
          },
          "name": "stdout",
          "output_type": "stream",
          "text": [
            "INFO:tensorflow:Assets written to: /content/drive/My Drive/ECE_209_AS_project_data/USCHADmodels/DeepConvLSTMUSCHAD_with_reg_1/assets\n"
          ]
        },
        {
          "metadata": {
            "tags": null
          },
          "name": "stderr",
          "output_type": "stream",
          "text": [
            "INFO:tensorflow:Assets written to: /content/drive/My Drive/ECE_209_AS_project_data/USCHADmodels/DeepConvLSTMUSCHAD_with_reg_1/assets\n"
          ]
        },
        {
          "output_type": "stream",
          "name": "stdout",
          "text": [
            "INFO:tensorflow:Assets written to: /content/drive/My Drive/ECE_209_AS_project_data/USCHADmodels/DeepConvLSTMUSCHAD_with_reg_1/assets\n"
          ]
        },
        {
          "output_type": "stream",
          "name": "stderr",
          "text": [
            "INFO:tensorflow:Assets written to: /content/drive/My Drive/ECE_209_AS_project_data/USCHADmodels/DeepConvLSTMUSCHAD_with_reg_1/assets\n"
          ]
        },
        {
          "output_type": "stream",
          "name": "stdout",
          "text": [
            "INFO:tensorflow:Assets written to: /content/drive/My Drive/ECE_209_AS_project_data/USCHADmodels/DeepConvLSTMUSCHAD_with_reg_1/assets\n"
          ]
        },
        {
          "output_type": "stream",
          "name": "stderr",
          "text": [
            "INFO:tensorflow:Assets written to: /content/drive/My Drive/ECE_209_AS_project_data/USCHADmodels/DeepConvLSTMUSCHAD_with_reg_1/assets\n"
          ]
        },
        {
          "output_type": "stream",
          "name": "stdout",
          "text": [
            "INFO:tensorflow:Assets written to: /content/drive/My Drive/ECE_209_AS_project_data/USCHADmodels/DeepConvLSTMUSCHAD_with_reg_1/assets\n"
          ]
        },
        {
          "output_type": "stream",
          "name": "stderr",
          "text": [
            "INFO:tensorflow:Assets written to: /content/drive/My Drive/ECE_209_AS_project_data/USCHADmodels/DeepConvLSTMUSCHAD_with_reg_1/assets\n"
          ]
        },
        {
          "output_type": "stream",
          "name": "stdout",
          "text": [
            "INFO:tensorflow:Assets written to: /content/drive/My Drive/ECE_209_AS_project_data/USCHADmodels/DeepConvLSTMUSCHAD_with_reg_1/assets\n"
          ]
        },
        {
          "output_type": "stream",
          "name": "stderr",
          "text": [
            "INFO:tensorflow:Assets written to: /content/drive/My Drive/ECE_209_AS_project_data/USCHADmodels/DeepConvLSTMUSCHAD_with_reg_1/assets\n"
          ]
        },
        {
          "output_type": "stream",
          "name": "stdout",
          "text": [
            "INFO:tensorflow:Assets written to: /content/drive/My Drive/ECE_209_AS_project_data/USCHADmodels/DeepConvLSTMUSCHAD_with_reg_1/assets\n"
          ]
        },
        {
          "output_type": "stream",
          "name": "stderr",
          "text": [
            "INFO:tensorflow:Assets written to: /content/drive/My Drive/ECE_209_AS_project_data/USCHADmodels/DeepConvLSTMUSCHAD_with_reg_1/assets\n"
          ]
        },
        {
          "output_type": "stream",
          "name": "stdout",
          "text": [
            "INFO:tensorflow:Assets written to: /content/drive/My Drive/ECE_209_AS_project_data/USCHADmodels/DeepConvLSTMUSCHAD_with_reg_1/assets\n"
          ]
        },
        {
          "output_type": "stream",
          "name": "stderr",
          "text": [
            "INFO:tensorflow:Assets written to: /content/drive/My Drive/ECE_209_AS_project_data/USCHADmodels/DeepConvLSTMUSCHAD_with_reg_1/assets\n"
          ]
        },
        {
          "output_type": "stream",
          "name": "stdout",
          "text": [
            "INFO:tensorflow:Assets written to: /content/drive/My Drive/ECE_209_AS_project_data/USCHADmodels/DeepConvLSTMUSCHAD_with_reg_1/assets\n"
          ]
        },
        {
          "output_type": "stream",
          "name": "stderr",
          "text": [
            "INFO:tensorflow:Assets written to: /content/drive/My Drive/ECE_209_AS_project_data/USCHADmodels/DeepConvLSTMUSCHAD_with_reg_1/assets\n"
          ]
        },
        {
          "output_type": "stream",
          "name": "stdout",
          "text": [
            "INFO:tensorflow:Assets written to: /content/drive/My Drive/ECE_209_AS_project_data/USCHADmodels/DeepConvLSTMUSCHAD_with_reg_1/assets\n"
          ]
        },
        {
          "output_type": "stream",
          "name": "stderr",
          "text": [
            "INFO:tensorflow:Assets written to: /content/drive/My Drive/ECE_209_AS_project_data/USCHADmodels/DeepConvLSTMUSCHAD_with_reg_1/assets\n"
          ]
        },
        {
          "output_type": "stream",
          "name": "stdout",
          "text": [
            "INFO:tensorflow:Assets written to: /content/drive/My Drive/ECE_209_AS_project_data/USCHADmodels/DeepConvLSTMUSCHAD_with_reg_1/assets\n"
          ]
        },
        {
          "output_type": "stream",
          "name": "stderr",
          "text": [
            "INFO:tensorflow:Assets written to: /content/drive/My Drive/ECE_209_AS_project_data/USCHADmodels/DeepConvLSTMUSCHAD_with_reg_1/assets\n"
          ]
        },
        {
          "output_type": "stream",
          "name": "stdout",
          "text": [
            "tf.Tensor(0.89456624, shape=(), dtype=float32)\n",
            "INFO:tensorflow:Assets written to: /content/drive/My Drive/ECE_209_AS_project_data/USCHADmodels/DeepConvLSTMUSCHAD_with_reg_2/assets\n"
          ]
        },
        {
          "output_type": "stream",
          "name": "stderr",
          "text": [
            "INFO:tensorflow:Assets written to: /content/drive/My Drive/ECE_209_AS_project_data/USCHADmodels/DeepConvLSTMUSCHAD_with_reg_2/assets\n"
          ]
        },
        {
          "output_type": "stream",
          "name": "stdout",
          "text": [
            "INFO:tensorflow:Assets written to: /content/drive/My Drive/ECE_209_AS_project_data/USCHADmodels/DeepConvLSTMUSCHAD_with_reg_2/assets\n"
          ]
        },
        {
          "output_type": "stream",
          "name": "stderr",
          "text": [
            "INFO:tensorflow:Assets written to: /content/drive/My Drive/ECE_209_AS_project_data/USCHADmodels/DeepConvLSTMUSCHAD_with_reg_2/assets\n"
          ]
        },
        {
          "output_type": "stream",
          "name": "stdout",
          "text": [
            "INFO:tensorflow:Assets written to: /content/drive/My Drive/ECE_209_AS_project_data/USCHADmodels/DeepConvLSTMUSCHAD_with_reg_2/assets\n"
          ]
        },
        {
          "output_type": "stream",
          "name": "stderr",
          "text": [
            "INFO:tensorflow:Assets written to: /content/drive/My Drive/ECE_209_AS_project_data/USCHADmodels/DeepConvLSTMUSCHAD_with_reg_2/assets\n"
          ]
        },
        {
          "output_type": "stream",
          "name": "stdout",
          "text": [
            "INFO:tensorflow:Assets written to: /content/drive/My Drive/ECE_209_AS_project_data/USCHADmodels/DeepConvLSTMUSCHAD_with_reg_2/assets\n"
          ]
        },
        {
          "output_type": "stream",
          "name": "stderr",
          "text": [
            "INFO:tensorflow:Assets written to: /content/drive/My Drive/ECE_209_AS_project_data/USCHADmodels/DeepConvLSTMUSCHAD_with_reg_2/assets\n"
          ]
        },
        {
          "output_type": "stream",
          "name": "stdout",
          "text": [
            "INFO:tensorflow:Assets written to: /content/drive/My Drive/ECE_209_AS_project_data/USCHADmodels/DeepConvLSTMUSCHAD_with_reg_2/assets\n"
          ]
        },
        {
          "output_type": "stream",
          "name": "stderr",
          "text": [
            "INFO:tensorflow:Assets written to: /content/drive/My Drive/ECE_209_AS_project_data/USCHADmodels/DeepConvLSTMUSCHAD_with_reg_2/assets\n"
          ]
        },
        {
          "output_type": "stream",
          "name": "stdout",
          "text": [
            "INFO:tensorflow:Assets written to: /content/drive/My Drive/ECE_209_AS_project_data/USCHADmodels/DeepConvLSTMUSCHAD_with_reg_2/assets\n"
          ]
        },
        {
          "output_type": "stream",
          "name": "stderr",
          "text": [
            "INFO:tensorflow:Assets written to: /content/drive/My Drive/ECE_209_AS_project_data/USCHADmodels/DeepConvLSTMUSCHAD_with_reg_2/assets\n"
          ]
        },
        {
          "output_type": "stream",
          "name": "stdout",
          "text": [
            "INFO:tensorflow:Assets written to: /content/drive/My Drive/ECE_209_AS_project_data/USCHADmodels/DeepConvLSTMUSCHAD_with_reg_2/assets\n"
          ]
        },
        {
          "output_type": "stream",
          "name": "stderr",
          "text": [
            "INFO:tensorflow:Assets written to: /content/drive/My Drive/ECE_209_AS_project_data/USCHADmodels/DeepConvLSTMUSCHAD_with_reg_2/assets\n"
          ]
        },
        {
          "output_type": "stream",
          "name": "stdout",
          "text": [
            "INFO:tensorflow:Assets written to: /content/drive/My Drive/ECE_209_AS_project_data/USCHADmodels/DeepConvLSTMUSCHAD_with_reg_2/assets\n"
          ]
        },
        {
          "output_type": "stream",
          "name": "stderr",
          "text": [
            "INFO:tensorflow:Assets written to: /content/drive/My Drive/ECE_209_AS_project_data/USCHADmodels/DeepConvLSTMUSCHAD_with_reg_2/assets\n"
          ]
        },
        {
          "output_type": "stream",
          "name": "stdout",
          "text": [
            "INFO:tensorflow:Assets written to: /content/drive/My Drive/ECE_209_AS_project_data/USCHADmodels/DeepConvLSTMUSCHAD_with_reg_2/assets\n"
          ]
        },
        {
          "output_type": "stream",
          "name": "stderr",
          "text": [
            "INFO:tensorflow:Assets written to: /content/drive/My Drive/ECE_209_AS_project_data/USCHADmodels/DeepConvLSTMUSCHAD_with_reg_2/assets\n"
          ]
        },
        {
          "output_type": "stream",
          "name": "stdout",
          "text": [
            "INFO:tensorflow:Assets written to: /content/drive/My Drive/ECE_209_AS_project_data/USCHADmodels/DeepConvLSTMUSCHAD_with_reg_2/assets\n"
          ]
        },
        {
          "output_type": "stream",
          "name": "stderr",
          "text": [
            "INFO:tensorflow:Assets written to: /content/drive/My Drive/ECE_209_AS_project_data/USCHADmodels/DeepConvLSTMUSCHAD_with_reg_2/assets\n"
          ]
        },
        {
          "output_type": "stream",
          "name": "stdout",
          "text": [
            "INFO:tensorflow:Assets written to: /content/drive/My Drive/ECE_209_AS_project_data/USCHADmodels/DeepConvLSTMUSCHAD_with_reg_2/assets\n"
          ]
        },
        {
          "output_type": "stream",
          "name": "stderr",
          "text": [
            "INFO:tensorflow:Assets written to: /content/drive/My Drive/ECE_209_AS_project_data/USCHADmodels/DeepConvLSTMUSCHAD_with_reg_2/assets\n"
          ]
        },
        {
          "output_type": "stream",
          "name": "stdout",
          "text": [
            "INFO:tensorflow:Assets written to: /content/drive/My Drive/ECE_209_AS_project_data/USCHADmodels/DeepConvLSTMUSCHAD_with_reg_2/assets\n"
          ]
        },
        {
          "output_type": "stream",
          "name": "stderr",
          "text": [
            "INFO:tensorflow:Assets written to: /content/drive/My Drive/ECE_209_AS_project_data/USCHADmodels/DeepConvLSTMUSCHAD_with_reg_2/assets\n"
          ]
        },
        {
          "output_type": "stream",
          "name": "stdout",
          "text": [
            "tf.Tensor(0.89194196, shape=(), dtype=float32)\n",
            "INFO:tensorflow:Assets written to: /content/drive/My Drive/ECE_209_AS_project_data/USCHADmodels/DeepConvLSTMUSCHAD_with_reg_3/assets\n"
          ]
        },
        {
          "output_type": "stream",
          "name": "stderr",
          "text": [
            "INFO:tensorflow:Assets written to: /content/drive/My Drive/ECE_209_AS_project_data/USCHADmodels/DeepConvLSTMUSCHAD_with_reg_3/assets\n"
          ]
        },
        {
          "output_type": "stream",
          "name": "stdout",
          "text": [
            "INFO:tensorflow:Assets written to: /content/drive/My Drive/ECE_209_AS_project_data/USCHADmodels/DeepConvLSTMUSCHAD_with_reg_3/assets\n"
          ]
        },
        {
          "output_type": "stream",
          "name": "stderr",
          "text": [
            "INFO:tensorflow:Assets written to: /content/drive/My Drive/ECE_209_AS_project_data/USCHADmodels/DeepConvLSTMUSCHAD_with_reg_3/assets\n"
          ]
        },
        {
          "output_type": "stream",
          "name": "stdout",
          "text": [
            "INFO:tensorflow:Assets written to: /content/drive/My Drive/ECE_209_AS_project_data/USCHADmodels/DeepConvLSTMUSCHAD_with_reg_3/assets\n"
          ]
        },
        {
          "output_type": "stream",
          "name": "stderr",
          "text": [
            "INFO:tensorflow:Assets written to: /content/drive/My Drive/ECE_209_AS_project_data/USCHADmodels/DeepConvLSTMUSCHAD_with_reg_3/assets\n"
          ]
        },
        {
          "output_type": "stream",
          "name": "stdout",
          "text": [
            "INFO:tensorflow:Assets written to: /content/drive/My Drive/ECE_209_AS_project_data/USCHADmodels/DeepConvLSTMUSCHAD_with_reg_3/assets\n"
          ]
        },
        {
          "output_type": "stream",
          "name": "stderr",
          "text": [
            "INFO:tensorflow:Assets written to: /content/drive/My Drive/ECE_209_AS_project_data/USCHADmodels/DeepConvLSTMUSCHAD_with_reg_3/assets\n"
          ]
        },
        {
          "output_type": "stream",
          "name": "stdout",
          "text": [
            "INFO:tensorflow:Assets written to: /content/drive/My Drive/ECE_209_AS_project_data/USCHADmodels/DeepConvLSTMUSCHAD_with_reg_3/assets\n"
          ]
        },
        {
          "output_type": "stream",
          "name": "stderr",
          "text": [
            "INFO:tensorflow:Assets written to: /content/drive/My Drive/ECE_209_AS_project_data/USCHADmodels/DeepConvLSTMUSCHAD_with_reg_3/assets\n"
          ]
        },
        {
          "output_type": "stream",
          "name": "stdout",
          "text": [
            "INFO:tensorflow:Assets written to: /content/drive/My Drive/ECE_209_AS_project_data/USCHADmodels/DeepConvLSTMUSCHAD_with_reg_3/assets\n"
          ]
        },
        {
          "output_type": "stream",
          "name": "stderr",
          "text": [
            "INFO:tensorflow:Assets written to: /content/drive/My Drive/ECE_209_AS_project_data/USCHADmodels/DeepConvLSTMUSCHAD_with_reg_3/assets\n"
          ]
        },
        {
          "output_type": "stream",
          "name": "stdout",
          "text": [
            "INFO:tensorflow:Assets written to: /content/drive/My Drive/ECE_209_AS_project_data/USCHADmodels/DeepConvLSTMUSCHAD_with_reg_3/assets\n"
          ]
        },
        {
          "output_type": "stream",
          "name": "stderr",
          "text": [
            "INFO:tensorflow:Assets written to: /content/drive/My Drive/ECE_209_AS_project_data/USCHADmodels/DeepConvLSTMUSCHAD_with_reg_3/assets\n"
          ]
        },
        {
          "output_type": "stream",
          "name": "stdout",
          "text": [
            "INFO:tensorflow:Assets written to: /content/drive/My Drive/ECE_209_AS_project_data/USCHADmodels/DeepConvLSTMUSCHAD_with_reg_3/assets\n"
          ]
        },
        {
          "output_type": "stream",
          "name": "stderr",
          "text": [
            "INFO:tensorflow:Assets written to: /content/drive/My Drive/ECE_209_AS_project_data/USCHADmodels/DeepConvLSTMUSCHAD_with_reg_3/assets\n"
          ]
        },
        {
          "output_type": "stream",
          "name": "stdout",
          "text": [
            "INFO:tensorflow:Assets written to: /content/drive/My Drive/ECE_209_AS_project_data/USCHADmodels/DeepConvLSTMUSCHAD_with_reg_3/assets\n"
          ]
        },
        {
          "output_type": "stream",
          "name": "stderr",
          "text": [
            "INFO:tensorflow:Assets written to: /content/drive/My Drive/ECE_209_AS_project_data/USCHADmodels/DeepConvLSTMUSCHAD_with_reg_3/assets\n"
          ]
        },
        {
          "output_type": "stream",
          "name": "stdout",
          "text": [
            "INFO:tensorflow:Assets written to: /content/drive/My Drive/ECE_209_AS_project_data/USCHADmodels/DeepConvLSTMUSCHAD_with_reg_3/assets\n"
          ]
        },
        {
          "output_type": "stream",
          "name": "stderr",
          "text": [
            "INFO:tensorflow:Assets written to: /content/drive/My Drive/ECE_209_AS_project_data/USCHADmodels/DeepConvLSTMUSCHAD_with_reg_3/assets\n"
          ]
        },
        {
          "output_type": "stream",
          "name": "stdout",
          "text": [
            "INFO:tensorflow:Assets written to: /content/drive/My Drive/ECE_209_AS_project_data/USCHADmodels/DeepConvLSTMUSCHAD_with_reg_3/assets\n"
          ]
        },
        {
          "output_type": "stream",
          "name": "stderr",
          "text": [
            "INFO:tensorflow:Assets written to: /content/drive/My Drive/ECE_209_AS_project_data/USCHADmodels/DeepConvLSTMUSCHAD_with_reg_3/assets\n"
          ]
        },
        {
          "output_type": "stream",
          "name": "stdout",
          "text": [
            "INFO:tensorflow:Assets written to: /content/drive/My Drive/ECE_209_AS_project_data/USCHADmodels/DeepConvLSTMUSCHAD_with_reg_3/assets\n"
          ]
        },
        {
          "output_type": "stream",
          "name": "stderr",
          "text": [
            "INFO:tensorflow:Assets written to: /content/drive/My Drive/ECE_209_AS_project_data/USCHADmodels/DeepConvLSTMUSCHAD_with_reg_3/assets\n"
          ]
        },
        {
          "output_type": "stream",
          "name": "stdout",
          "text": [
            "INFO:tensorflow:Assets written to: /content/drive/My Drive/ECE_209_AS_project_data/USCHADmodels/DeepConvLSTMUSCHAD_with_reg_3/assets\n"
          ]
        },
        {
          "output_type": "stream",
          "name": "stderr",
          "text": [
            "INFO:tensorflow:Assets written to: /content/drive/My Drive/ECE_209_AS_project_data/USCHADmodels/DeepConvLSTMUSCHAD_with_reg_3/assets\n"
          ]
        },
        {
          "output_type": "stream",
          "name": "stdout",
          "text": [
            "tf.Tensor(0.8999691, shape=(), dtype=float32)\n",
            "INFO:tensorflow:Assets written to: /content/drive/My Drive/ECE_209_AS_project_data/USCHADmodels/DeepConvLSTMUSCHAD_with_reg_4/assets\n"
          ]
        },
        {
          "output_type": "stream",
          "name": "stderr",
          "text": [
            "INFO:tensorflow:Assets written to: /content/drive/My Drive/ECE_209_AS_project_data/USCHADmodels/DeepConvLSTMUSCHAD_with_reg_4/assets\n"
          ]
        },
        {
          "output_type": "stream",
          "name": "stdout",
          "text": [
            "INFO:tensorflow:Assets written to: /content/drive/My Drive/ECE_209_AS_project_data/USCHADmodels/DeepConvLSTMUSCHAD_with_reg_4/assets\n"
          ]
        },
        {
          "output_type": "stream",
          "name": "stderr",
          "text": [
            "INFO:tensorflow:Assets written to: /content/drive/My Drive/ECE_209_AS_project_data/USCHADmodels/DeepConvLSTMUSCHAD_with_reg_4/assets\n"
          ]
        },
        {
          "output_type": "stream",
          "name": "stdout",
          "text": [
            "INFO:tensorflow:Assets written to: /content/drive/My Drive/ECE_209_AS_project_data/USCHADmodels/DeepConvLSTMUSCHAD_with_reg_4/assets\n"
          ]
        },
        {
          "output_type": "stream",
          "name": "stderr",
          "text": [
            "INFO:tensorflow:Assets written to: /content/drive/My Drive/ECE_209_AS_project_data/USCHADmodels/DeepConvLSTMUSCHAD_with_reg_4/assets\n"
          ]
        },
        {
          "output_type": "stream",
          "name": "stdout",
          "text": [
            "INFO:tensorflow:Assets written to: /content/drive/My Drive/ECE_209_AS_project_data/USCHADmodels/DeepConvLSTMUSCHAD_with_reg_4/assets\n"
          ]
        },
        {
          "output_type": "stream",
          "name": "stderr",
          "text": [
            "INFO:tensorflow:Assets written to: /content/drive/My Drive/ECE_209_AS_project_data/USCHADmodels/DeepConvLSTMUSCHAD_with_reg_4/assets\n"
          ]
        },
        {
          "output_type": "stream",
          "name": "stdout",
          "text": [
            "INFO:tensorflow:Assets written to: /content/drive/My Drive/ECE_209_AS_project_data/USCHADmodels/DeepConvLSTMUSCHAD_with_reg_4/assets\n"
          ]
        },
        {
          "output_type": "stream",
          "name": "stderr",
          "text": [
            "INFO:tensorflow:Assets written to: /content/drive/My Drive/ECE_209_AS_project_data/USCHADmodels/DeepConvLSTMUSCHAD_with_reg_4/assets\n"
          ]
        },
        {
          "output_type": "stream",
          "name": "stdout",
          "text": [
            "INFO:tensorflow:Assets written to: /content/drive/My Drive/ECE_209_AS_project_data/USCHADmodels/DeepConvLSTMUSCHAD_with_reg_4/assets\n"
          ]
        },
        {
          "output_type": "stream",
          "name": "stderr",
          "text": [
            "INFO:tensorflow:Assets written to: /content/drive/My Drive/ECE_209_AS_project_data/USCHADmodels/DeepConvLSTMUSCHAD_with_reg_4/assets\n"
          ]
        },
        {
          "output_type": "stream",
          "name": "stdout",
          "text": [
            "INFO:tensorflow:Assets written to: /content/drive/My Drive/ECE_209_AS_project_data/USCHADmodels/DeepConvLSTMUSCHAD_with_reg_4/assets\n"
          ]
        },
        {
          "output_type": "stream",
          "name": "stderr",
          "text": [
            "INFO:tensorflow:Assets written to: /content/drive/My Drive/ECE_209_AS_project_data/USCHADmodels/DeepConvLSTMUSCHAD_with_reg_4/assets\n"
          ]
        },
        {
          "output_type": "stream",
          "name": "stdout",
          "text": [
            "INFO:tensorflow:Assets written to: /content/drive/My Drive/ECE_209_AS_project_data/USCHADmodels/DeepConvLSTMUSCHAD_with_reg_4/assets\n"
          ]
        },
        {
          "output_type": "stream",
          "name": "stderr",
          "text": [
            "INFO:tensorflow:Assets written to: /content/drive/My Drive/ECE_209_AS_project_data/USCHADmodels/DeepConvLSTMUSCHAD_with_reg_4/assets\n"
          ]
        },
        {
          "output_type": "stream",
          "name": "stdout",
          "text": [
            "INFO:tensorflow:Assets written to: /content/drive/My Drive/ECE_209_AS_project_data/USCHADmodels/DeepConvLSTMUSCHAD_with_reg_4/assets\n"
          ]
        },
        {
          "output_type": "stream",
          "name": "stderr",
          "text": [
            "INFO:tensorflow:Assets written to: /content/drive/My Drive/ECE_209_AS_project_data/USCHADmodels/DeepConvLSTMUSCHAD_with_reg_4/assets\n"
          ]
        },
        {
          "output_type": "stream",
          "name": "stdout",
          "text": [
            "INFO:tensorflow:Assets written to: /content/drive/My Drive/ECE_209_AS_project_data/USCHADmodels/DeepConvLSTMUSCHAD_with_reg_4/assets\n"
          ]
        },
        {
          "output_type": "stream",
          "name": "stderr",
          "text": [
            "INFO:tensorflow:Assets written to: /content/drive/My Drive/ECE_209_AS_project_data/USCHADmodels/DeepConvLSTMUSCHAD_with_reg_4/assets\n"
          ]
        },
        {
          "output_type": "stream",
          "name": "stdout",
          "text": [
            "INFO:tensorflow:Assets written to: /content/drive/My Drive/ECE_209_AS_project_data/USCHADmodels/DeepConvLSTMUSCHAD_with_reg_4/assets\n"
          ]
        },
        {
          "output_type": "stream",
          "name": "stderr",
          "text": [
            "INFO:tensorflow:Assets written to: /content/drive/My Drive/ECE_209_AS_project_data/USCHADmodels/DeepConvLSTMUSCHAD_with_reg_4/assets\n"
          ]
        },
        {
          "output_type": "stream",
          "name": "stdout",
          "text": [
            "INFO:tensorflow:Assets written to: /content/drive/My Drive/ECE_209_AS_project_data/USCHADmodels/DeepConvLSTMUSCHAD_with_reg_4/assets\n"
          ]
        },
        {
          "output_type": "stream",
          "name": "stderr",
          "text": [
            "INFO:tensorflow:Assets written to: /content/drive/My Drive/ECE_209_AS_project_data/USCHADmodels/DeepConvLSTMUSCHAD_with_reg_4/assets\n"
          ]
        },
        {
          "output_type": "stream",
          "name": "stdout",
          "text": [
            "tf.Tensor(0.88792837, shape=(), dtype=float32)\n"
          ]
        }
      ]
    },
    {
      "cell_type": "code",
      "source": [
        "test_accuracies_with_reg = []\n",
        "recall_scores_with_reg = []\n",
        "\n",
        "for i in range(5):\n",
        "\n",
        "  model_saved = keras.models.load_model(path_to_models + f\"DeepConvLSTMUSCHAD_with_reg_{i}\")\n",
        "  test_accuracy = tf.keras.metrics.Accuracy()\n",
        "  logits = model_saved(X_test, training=False)\n",
        "  prediction = tf.argmax(logits, axis=1, output_type=tf.int32)\n",
        "  test_accuracies_with_reg.append(test_accuracy(prediction, Y_test))\n",
        "  recall_scores_with_reg.append(recall_score(Y_test, prediction, average=None))"
      ],
      "metadata": {
        "id": "qCqykTvvlkZK"
      },
      "id": "qCqykTvvlkZK",
      "execution_count": 25,
      "outputs": []
    },
    {
      "cell_type": "code",
      "source": [
        "sum_ac = 0\n",
        "\n",
        "for ac in test_accuracies_with_reg:\n",
        "\n",
        "  sum_ac += ac.numpy()\n",
        "\n",
        "print(f\"Mean accuracy is {round(sum_ac/len(test_accuracies_with_reg), 2)}\")"
      ],
      "metadata": {
        "colab": {
          "base_uri": "https://localhost:8080/"
        },
        "id": "VO3WodH__1BV",
        "outputId": "53434fd6-ff7d-4435-9347-4bf5304439cc"
      },
      "id": "VO3WodH__1BV",
      "execution_count": 47,
      "outputs": [
        {
          "output_type": "stream",
          "name": "stdout",
          "text": [
            "Mean accuracy is 0.92\n"
          ]
        }
      ]
    },
    {
      "cell_type": "code",
      "source": [
        "mean_recall_scores_with_reg  = sum(recall_scores_with_reg)/len(recall_scores_with_reg)\n",
        "\n",
        "for i in range(len(mean_recall_scores_with_reg)):\n",
        "\n",
        "  print(f\"Label {data_class_names[i]} has mean accuracy {round(mean_recall_scores_with_reg[i], 2)}\")"
      ],
      "metadata": {
        "colab": {
          "base_uri": "https://localhost:8080/"
        },
        "id": "TgrX8i4u_32k",
        "outputId": "3f680154-36d3-4262-ea08-b4814a511234"
      },
      "id": "TgrX8i4u_32k",
      "execution_count": 48,
      "outputs": [
        {
          "output_type": "stream",
          "name": "stdout",
          "text": [
            "Label walking forward has mean accuracy 0.97\n",
            "Label walking left has mean accuracy 0.98\n",
            "Label walking right has mean accuracy 0.97\n",
            "Label walking upstairs has mean accuracy 0.98\n",
            "Label walking downstairs has mean accuracy 0.97\n",
            "Label running forward has mean accuracy 0.99\n",
            "Label jumping has mean accuracy 0.99\n",
            "Label sitting has mean accuracy 0.98\n",
            "Label standing  has mean accuracy 0.92\n",
            "Label sleeping  has mean accuracy 1.0\n",
            "Label elevator up has mean accuracy 0.64\n",
            "Label elevator down has mean accuracy 0.4\n"
          ]
        }
      ]
    },
    {
      "cell_type": "markdown",
      "source": [
        "## With Augmentations\n",
        "\n",
        "1. Rotation\n",
        "2. Scale\n",
        "3. Magnify\n",
        "4. Resample\n",
        "5. Noise"
      ],
      "metadata": {
        "id": "inzqqX_x59It"
      },
      "id": "inzqqX_x59It"
    },
    {
      "cell_type": "markdown",
      "source": [
        "### Augmentations"
      ],
      "metadata": {
        "id": "_yfPDEClURqA"
      },
      "id": "_yfPDEClURqA"
    },
    {
      "cell_type": "code",
      "source": [
        "import numpy as np\n",
        "import tensorflow as tf\n",
        "import random\n",
        "\n",
        "def resampling_fast_random(x):\n",
        "    M, N = random.choice([[1, 0], [2, 1], [3, 2]])\n",
        "    time_steps = x.shape[1]\n",
        "    raw_set = np.arange(x.shape[1])\n",
        "    interp_steps = np.arange(0, raw_set[-1] + 1e-1, 1 / (M + 1))\n",
        "    x_interp = interp1d(raw_set, x, axis=1)\n",
        "    x_up = x_interp(interp_steps)\n",
        "\n",
        "    length_inserted = x_up.shape[1]\n",
        "    start = random.randint(0, length_inserted - time_steps * (N + 1))\n",
        "    index_selected = np.arange(start, start + time_steps * (N + 1), N + 1)\n",
        "    return x_up[:, index_selected, :]\n",
        "\n",
        "def resampling(x,M,N):\n",
        "    '''\n",
        "    :param x: the data of a batch,shape=(batch_size,timesteps,features)\n",
        "    :param M: the number of  new value under tow values\n",
        "    :param N: the interval of resampling\n",
        "    :return: x after resampling，shape=(batch_size,timesteps,features)\n",
        "    '''\n",
        "    assert M>N,'the value of M have to greater than N'\n",
        "\n",
        "    timesetps = x.shape[1]\n",
        "\n",
        "    for i in range(timesetps-1):\n",
        "        x1 = x[:,i*(M+1),:]\n",
        "        x2 = x[:,i*(M+1)+1,:]\n",
        "        for j in range(M):\n",
        "            v = np.add(1,np.subtract(x2,x1)*(j+1)/(M+1))\n",
        "            x = np.insert(x,i*(M+1)+j+1,v,axis=1)\n",
        "\n",
        "    length_inserted = x.shape[1]\n",
        "    start = random.randint(0,length_inserted-timesetps*(N+1))\n",
        "    index_selected = np.arange(start,start+timesetps*(N+1),N+1)\n",
        "    return x[:,index_selected,:]\n",
        "    return x\n",
        "\n",
        "def noise(x):\n",
        "    x = tf.add(x,tf.multiply(x,tf.cast(tf.random.uniform(shape = (x.shape[0],x.shape[1],x.shape[2]),minval=-0.1,maxval=0.1),tf.float64)))\n",
        "    return x\n",
        "\n",
        "\n",
        "def scaling(x):\n",
        "    alpha = np.random.randint(7,10)/10\n",
        "    # alpha = 0.9\n",
        "    return tf.multiply(x,alpha)\n",
        "#\n",
        "def magnify(x):\n",
        "    lam = np.random.randint(11,14)/10\n",
        "    return tf.multiply(x,lam)\n",
        "\n",
        "\n",
        "def inverting(x):\n",
        "    return np.multiply(x,-1)\n",
        "def reversing(x):\n",
        "    return x[:,-1::-1,:]\n",
        "\n",
        "\n",
        "def rotation(x):\n",
        "    c = x.shape[2]//3\n",
        "    x_new = rotation_transform_vectorized(x[:,:,0:3])\n",
        "    for i in range(1,c):\n",
        "        temp = rotation_transform_vectorized(x[:,:,i*3:(i+1)*3])\n",
        "        x_new = np.concatenate((x_new,temp),axis=-1)\n",
        "    return x_new\n",
        "def rotation_transform_vectorized(X):\n",
        "    \"\"\"\n",
        "    Applying a random 3D rotation\n",
        "    \"\"\"\n",
        "    axes = np.random.uniform(low=-1, high=1, size=(X.shape[0], X.shape[2]))\n",
        "    angles = np.random.uniform(low=-np.pi, high=np.pi, size=(X.shape[0]))\n",
        "    matrices = axis_angle_to_rotation_matrix_3d_vectorized(axes, angles)\n",
        "\n",
        "    return np.matmul(X, matrices)\n",
        "def axis_angle_to_rotation_matrix_3d_vectorized(axes, angles):\n",
        "    \"\"\"\n",
        "    Get the rotational matrix corresponding to a rotation of (angle) radian around the axes\n",
        "    Reference: the Transforms3d package - transforms3d.axangles.axangle2mat\n",
        "    Formula: http://en.wikipedia.org/wiki/Rotation_matrix#Axis_and_angle\n",
        "    \"\"\"\n",
        "    axes = axes / np.linalg.norm(axes, ord=2, axis=1, keepdims=True)\n",
        "    x = axes[:, 0]; y = axes[:, 1]; z = axes[:, 2]\n",
        "    c = np.cos(angles)\n",
        "    s = np.sin(angles)\n",
        "    C = 1 - c\n",
        "\n",
        "    xs = x*s;   ys = y*s;   zs = z*s\n",
        "    xC = x*C;   yC = y*C;   zC = z*C\n",
        "    xyC = x*yC; yzC = y*zC; zxC = z*xC\n",
        "\n",
        "    m = np.array([\n",
        "        [ x*xC+c,   xyC-zs,   zxC+ys ],\n",
        "        [ xyC+zs,   y*yC+c,   yzC-xs ],\n",
        "        [ zxC-ys,   yzC+xs,   z*zC+c ]])\n",
        "    matrix_transposed = np.transpose(m, axes=(2,0,1))\n",
        "    return matrix_transposed\n",
        "## This example using cubic splice is not the best approach to generate random curves. \n",
        "## You can use other aprroaches, e.g., Gaussian process regression, Bezier curve, etc.\n",
        "def GenerateRandomCurves(X, sigma=0.2, knot=4):\n",
        "    xx = (np.ones((X.shape[1],1))*(np.arange(0,X.shape[0], (X.shape[0]-1)/(knot+1)))).transpose()\n",
        "    yy = np.random.normal(loc=1.0, scale=sigma, size=(knot+2, X.shape[1]))\n",
        "    x_range = np.arange(X.shape[0])\n",
        "    cs_x = CubicSpline(xx[:,0], yy[:,0])\n",
        "    cs_y = CubicSpline(xx[:,1], yy[:,1])\n",
        "    cs_z = CubicSpline(xx[:,2], yy[:,2])\n",
        "    return np.array([cs_x(x_range),cs_y(x_range),cs_z(x_range)]).transpose()\n",
        "\n",
        "  \n",
        "def DistortTimesteps(X, sigma=0.2):\n",
        "    tt = GenerateRandomCurves(X, sigma) # Regard these samples aroun 1 as time intervals\n",
        "    tt_cum = np.cumsum(tt, axis=0)        # Add intervals to make a cumulative graph\n",
        "    # Make the last value to have X.shape[0]\n",
        "    t_scale = [(X.shape[0]-1)/tt_cum[-1,0],(X.shape[0]-1)/tt_cum[-1,1],(X.shape[0]-1)/tt_cum[-1,2]]\n",
        "    tt_cum[:,0] = tt_cum[:,0]*t_scale[0]\n",
        "    tt_cum[:,1] = tt_cum[:,1]*t_scale[1]\n",
        "    tt_cum[:,2] = tt_cum[:,2]*t_scale[2]\n",
        "    return tt_cum\n",
        "\n",
        "def DA_TimeWarp(X, sigma=0.2):\n",
        "    tt_new = DistortTimesteps(X, sigma)\n",
        "    X_new = np.zeros(X.shape)\n",
        "    x_range = np.arange(X.shape[0])\n",
        "    X_new[:,0] = np.interp(x_range, tt_new[:,0], X[:,0])\n",
        "    X_new[:,1] = np.interp(x_range, tt_new[:,1], X[:,1])\n",
        "    X_new[:,2] = np.interp(x_range, tt_new[:,2], X[:,2])\n",
        "    return X_new\n"
      ],
      "metadata": {
        "id": "2NqzomTtUUNJ"
      },
      "id": "2NqzomTtUUNJ",
      "execution_count": 32,
      "outputs": []
    },
    {
      "cell_type": "markdown",
      "source": [
        "### Rotation"
      ],
      "metadata": {
        "id": "m6gJcAY4Ou6z"
      },
      "id": "m6gJcAY4Ou6z"
    },
    {
      "cell_type": "code",
      "source": [
        "test_accuracies_rot = []\n",
        "recall_scores_rot = []\n",
        "\n",
        "for i in range(5):\n",
        "\n",
        "  rnd_seed = seeds[i]\n",
        "  tf.random.set_seed(rnd_seed)\n",
        "  indices = np.random.RandomState(seed=rnd_seed).permutation(len(X_train))\n",
        "  X_train = X_train[indices]\n",
        "  Y_train = Y_train[indices]\n",
        "\n",
        "  X_train_rot = rotation((X_train))\n",
        "  Xtrain_tot=np.concatenate((X_train, X_train_rot))\n",
        "  Y_train_tot = np.concatenate((Y_train, Y_train))\n",
        "\n",
        "  train_data = Xtrain_tot[len(Xtrain_tot)//10:]\n",
        "  train_labels = Y_train_tot[len(Xtrain_tot)//10:]\n",
        "  val_data = Xtrain_tot[:len(Xtrain_tot)//10]\n",
        "  val_labels = Y_train_tot[:len(Xtrain_tot)//10]\n",
        "\n",
        "  model = keras.Model(inputs = inputs, outputs = outputs)\n",
        "  model.compile(loss = \"sparse_categorical_crossentropy\", optimizer = \"adam\", metrics=[\"accuracy\"])\n",
        "  tensorboard = keras.callbacks.TensorBoard(log_dir = path_to_logs)\n",
        "  callbacks = [keras.callbacks.ModelCheckpoint(filepath=path_to_models + f\"DeepConvLSTMUSCHAD_withrot_{i}\"), tensorboard, keras.callbacks.EarlyStopping(monitor='val_loss', patience=10)]\n",
        "  history = model.fit(train_data, train_labels, epochs = 25, batch_size = 64, validation_data = (val_data, val_labels), callbacks = callbacks, class_weight = data_class_weights, verbose = False)\n",
        "\n",
        "  model_saved = keras.models.load_model(path_to_models + f\"DeepConvLSTMUSCHAD_withrot_{i}\")\n",
        "  test_accuracy = tf.keras.metrics.Accuracy()\n",
        "  logits = model_saved(X_test, training=False)\n",
        "  prediction = tf.argmax(logits, axis=1, output_type=tf.int32)\n",
        "  test_accuracies_rot.append(test_accuracy(prediction, Y_test))\n",
        "  print(test_accuracy(prediction, Y_test))\n",
        "  recall_scores_rot.append(recall_score(Y_test, prediction, average=None))"
      ],
      "metadata": {
        "colab": {
          "base_uri": "https://localhost:8080/"
        },
        "id": "ftcQfCEgNbfo",
        "outputId": "77533b20-5f31-442a-d0aa-1fa7e9b8216e"
      },
      "id": "ftcQfCEgNbfo",
      "execution_count": null,
      "outputs": [
        {
          "metadata": {
            "tags": null
          },
          "name": "stdout",
          "output_type": "stream",
          "text": [
            "INFO:tensorflow:Assets written to: /content/drive/My Drive/ECE_209_AS_project_data/USCHADmodels/DeepConvLSTMUSCHAD_withrot_0/assets\n"
          ]
        },
        {
          "metadata": {
            "tags": null
          },
          "name": "stderr",
          "output_type": "stream",
          "text": [
            "INFO:tensorflow:Assets written to: /content/drive/My Drive/ECE_209_AS_project_data/USCHADmodels/DeepConvLSTMUSCHAD_withrot_0/assets\n"
          ]
        },
        {
          "metadata": {
            "tags": null
          },
          "name": "stdout",
          "output_type": "stream",
          "text": [
            "INFO:tensorflow:Assets written to: /content/drive/My Drive/ECE_209_AS_project_data/USCHADmodels/DeepConvLSTMUSCHAD_withrot_0/assets\n"
          ]
        },
        {
          "metadata": {
            "tags": null
          },
          "name": "stderr",
          "output_type": "stream",
          "text": [
            "INFO:tensorflow:Assets written to: /content/drive/My Drive/ECE_209_AS_project_data/USCHADmodels/DeepConvLSTMUSCHAD_withrot_0/assets\n"
          ]
        },
        {
          "metadata": {
            "tags": null
          },
          "name": "stdout",
          "output_type": "stream",
          "text": [
            "INFO:tensorflow:Assets written to: /content/drive/My Drive/ECE_209_AS_project_data/USCHADmodels/DeepConvLSTMUSCHAD_withrot_0/assets\n"
          ]
        },
        {
          "metadata": {
            "tags": null
          },
          "name": "stderr",
          "output_type": "stream",
          "text": [
            "INFO:tensorflow:Assets written to: /content/drive/My Drive/ECE_209_AS_project_data/USCHADmodels/DeepConvLSTMUSCHAD_withrot_0/assets\n"
          ]
        },
        {
          "metadata": {
            "tags": null
          },
          "name": "stdout",
          "output_type": "stream",
          "text": [
            "INFO:tensorflow:Assets written to: /content/drive/My Drive/ECE_209_AS_project_data/USCHADmodels/DeepConvLSTMUSCHAD_withrot_0/assets\n"
          ]
        },
        {
          "metadata": {
            "tags": null
          },
          "name": "stderr",
          "output_type": "stream",
          "text": [
            "INFO:tensorflow:Assets written to: /content/drive/My Drive/ECE_209_AS_project_data/USCHADmodels/DeepConvLSTMUSCHAD_withrot_0/assets\n"
          ]
        },
        {
          "metadata": {
            "tags": null
          },
          "name": "stdout",
          "output_type": "stream",
          "text": [
            "INFO:tensorflow:Assets written to: /content/drive/My Drive/ECE_209_AS_project_data/USCHADmodels/DeepConvLSTMUSCHAD_withrot_0/assets\n"
          ]
        },
        {
          "metadata": {
            "tags": null
          },
          "name": "stderr",
          "output_type": "stream",
          "text": [
            "INFO:tensorflow:Assets written to: /content/drive/My Drive/ECE_209_AS_project_data/USCHADmodels/DeepConvLSTMUSCHAD_withrot_0/assets\n"
          ]
        },
        {
          "metadata": {
            "tags": null
          },
          "name": "stdout",
          "output_type": "stream",
          "text": [
            "INFO:tensorflow:Assets written to: /content/drive/My Drive/ECE_209_AS_project_data/USCHADmodels/DeepConvLSTMUSCHAD_withrot_0/assets\n"
          ]
        },
        {
          "metadata": {
            "tags": null
          },
          "name": "stderr",
          "output_type": "stream",
          "text": [
            "INFO:tensorflow:Assets written to: /content/drive/My Drive/ECE_209_AS_project_data/USCHADmodels/DeepConvLSTMUSCHAD_withrot_0/assets\n"
          ]
        },
        {
          "metadata": {
            "tags": null
          },
          "name": "stdout",
          "output_type": "stream",
          "text": [
            "INFO:tensorflow:Assets written to: /content/drive/My Drive/ECE_209_AS_project_data/USCHADmodels/DeepConvLSTMUSCHAD_withrot_0/assets\n"
          ]
        },
        {
          "metadata": {
            "tags": null
          },
          "name": "stderr",
          "output_type": "stream",
          "text": [
            "INFO:tensorflow:Assets written to: /content/drive/My Drive/ECE_209_AS_project_data/USCHADmodels/DeepConvLSTMUSCHAD_withrot_0/assets\n"
          ]
        },
        {
          "metadata": {
            "tags": null
          },
          "name": "stdout",
          "output_type": "stream",
          "text": [
            "INFO:tensorflow:Assets written to: /content/drive/My Drive/ECE_209_AS_project_data/USCHADmodels/DeepConvLSTMUSCHAD_withrot_0/assets\n"
          ]
        },
        {
          "metadata": {
            "tags": null
          },
          "name": "stderr",
          "output_type": "stream",
          "text": [
            "INFO:tensorflow:Assets written to: /content/drive/My Drive/ECE_209_AS_project_data/USCHADmodels/DeepConvLSTMUSCHAD_withrot_0/assets\n"
          ]
        },
        {
          "metadata": {
            "tags": null
          },
          "name": "stdout",
          "output_type": "stream",
          "text": [
            "INFO:tensorflow:Assets written to: /content/drive/My Drive/ECE_209_AS_project_data/USCHADmodels/DeepConvLSTMUSCHAD_withrot_0/assets\n"
          ]
        },
        {
          "metadata": {
            "tags": null
          },
          "name": "stderr",
          "output_type": "stream",
          "text": [
            "INFO:tensorflow:Assets written to: /content/drive/My Drive/ECE_209_AS_project_data/USCHADmodels/DeepConvLSTMUSCHAD_withrot_0/assets\n"
          ]
        },
        {
          "metadata": {
            "tags": null
          },
          "name": "stdout",
          "output_type": "stream",
          "text": [
            "INFO:tensorflow:Assets written to: /content/drive/My Drive/ECE_209_AS_project_data/USCHADmodels/DeepConvLSTMUSCHAD_withrot_0/assets\n"
          ]
        },
        {
          "metadata": {
            "tags": null
          },
          "name": "stderr",
          "output_type": "stream",
          "text": [
            "INFO:tensorflow:Assets written to: /content/drive/My Drive/ECE_209_AS_project_data/USCHADmodels/DeepConvLSTMUSCHAD_withrot_0/assets\n"
          ]
        },
        {
          "metadata": {
            "tags": null
          },
          "name": "stdout",
          "output_type": "stream",
          "text": [
            "INFO:tensorflow:Assets written to: /content/drive/My Drive/ECE_209_AS_project_data/USCHADmodels/DeepConvLSTMUSCHAD_withrot_0/assets\n"
          ]
        },
        {
          "metadata": {
            "tags": null
          },
          "name": "stderr",
          "output_type": "stream",
          "text": [
            "INFO:tensorflow:Assets written to: /content/drive/My Drive/ECE_209_AS_project_data/USCHADmodels/DeepConvLSTMUSCHAD_withrot_0/assets\n"
          ]
        },
        {
          "metadata": {
            "tags": null
          },
          "name": "stdout",
          "output_type": "stream",
          "text": [
            "INFO:tensorflow:Assets written to: /content/drive/My Drive/ECE_209_AS_project_data/USCHADmodels/DeepConvLSTMUSCHAD_withrot_0/assets\n"
          ]
        },
        {
          "metadata": {
            "tags": null
          },
          "name": "stderr",
          "output_type": "stream",
          "text": [
            "INFO:tensorflow:Assets written to: /content/drive/My Drive/ECE_209_AS_project_data/USCHADmodels/DeepConvLSTMUSCHAD_withrot_0/assets\n"
          ]
        },
        {
          "metadata": {
            "tags": null
          },
          "name": "stdout",
          "output_type": "stream",
          "text": [
            "INFO:tensorflow:Assets written to: /content/drive/My Drive/ECE_209_AS_project_data/USCHADmodels/DeepConvLSTMUSCHAD_withrot_0/assets\n"
          ]
        },
        {
          "metadata": {
            "tags": null
          },
          "name": "stderr",
          "output_type": "stream",
          "text": [
            "INFO:tensorflow:Assets written to: /content/drive/My Drive/ECE_209_AS_project_data/USCHADmodels/DeepConvLSTMUSCHAD_withrot_0/assets\n"
          ]
        },
        {
          "metadata": {
            "tags": null
          },
          "name": "stdout",
          "output_type": "stream",
          "text": [
            "INFO:tensorflow:Assets written to: /content/drive/My Drive/ECE_209_AS_project_data/USCHADmodels/DeepConvLSTMUSCHAD_withrot_0/assets\n"
          ]
        },
        {
          "metadata": {
            "tags": null
          },
          "name": "stderr",
          "output_type": "stream",
          "text": [
            "INFO:tensorflow:Assets written to: /content/drive/My Drive/ECE_209_AS_project_data/USCHADmodels/DeepConvLSTMUSCHAD_withrot_0/assets\n"
          ]
        },
        {
          "metadata": {
            "tags": null
          },
          "name": "stdout",
          "output_type": "stream",
          "text": [
            "INFO:tensorflow:Assets written to: /content/drive/My Drive/ECE_209_AS_project_data/USCHADmodels/DeepConvLSTMUSCHAD_withrot_0/assets\n"
          ]
        },
        {
          "metadata": {
            "tags": null
          },
          "name": "stderr",
          "output_type": "stream",
          "text": [
            "INFO:tensorflow:Assets written to: /content/drive/My Drive/ECE_209_AS_project_data/USCHADmodels/DeepConvLSTMUSCHAD_withrot_0/assets\n"
          ]
        },
        {
          "metadata": {
            "tags": null
          },
          "name": "stdout",
          "output_type": "stream",
          "text": [
            "INFO:tensorflow:Assets written to: /content/drive/My Drive/ECE_209_AS_project_data/USCHADmodels/DeepConvLSTMUSCHAD_withrot_0/assets\n"
          ]
        },
        {
          "metadata": {
            "tags": null
          },
          "name": "stderr",
          "output_type": "stream",
          "text": [
            "INFO:tensorflow:Assets written to: /content/drive/My Drive/ECE_209_AS_project_data/USCHADmodels/DeepConvLSTMUSCHAD_withrot_0/assets\n"
          ]
        },
        {
          "metadata": {
            "tags": null
          },
          "name": "stdout",
          "output_type": "stream",
          "text": [
            "INFO:tensorflow:Assets written to: /content/drive/My Drive/ECE_209_AS_project_data/USCHADmodels/DeepConvLSTMUSCHAD_withrot_0/assets\n"
          ]
        },
        {
          "metadata": {
            "tags": null
          },
          "name": "stderr",
          "output_type": "stream",
          "text": [
            "INFO:tensorflow:Assets written to: /content/drive/My Drive/ECE_209_AS_project_data/USCHADmodels/DeepConvLSTMUSCHAD_withrot_0/assets\n"
          ]
        },
        {
          "metadata": {
            "tags": null
          },
          "name": "stdout",
          "output_type": "stream",
          "text": [
            "INFO:tensorflow:Assets written to: /content/drive/My Drive/ECE_209_AS_project_data/USCHADmodels/DeepConvLSTMUSCHAD_withrot_0/assets\n"
          ]
        },
        {
          "metadata": {
            "tags": null
          },
          "name": "stderr",
          "output_type": "stream",
          "text": [
            "INFO:tensorflow:Assets written to: /content/drive/My Drive/ECE_209_AS_project_data/USCHADmodels/DeepConvLSTMUSCHAD_withrot_0/assets\n"
          ]
        },
        {
          "metadata": {
            "tags": null
          },
          "name": "stdout",
          "output_type": "stream",
          "text": [
            "tf.Tensor(0.8820624, shape=(), dtype=float32)\n",
            "INFO:tensorflow:Assets written to: /content/drive/My Drive/ECE_209_AS_project_data/USCHADmodels/DeepConvLSTMUSCHAD_withrot_1/assets\n"
          ]
        },
        {
          "metadata": {
            "tags": null
          },
          "name": "stderr",
          "output_type": "stream",
          "text": [
            "INFO:tensorflow:Assets written to: /content/drive/My Drive/ECE_209_AS_project_data/USCHADmodels/DeepConvLSTMUSCHAD_withrot_1/assets\n"
          ]
        },
        {
          "metadata": {
            "tags": null
          },
          "name": "stdout",
          "output_type": "stream",
          "text": [
            "INFO:tensorflow:Assets written to: /content/drive/My Drive/ECE_209_AS_project_data/USCHADmodels/DeepConvLSTMUSCHAD_withrot_1/assets\n"
          ]
        },
        {
          "metadata": {
            "tags": null
          },
          "name": "stderr",
          "output_type": "stream",
          "text": [
            "INFO:tensorflow:Assets written to: /content/drive/My Drive/ECE_209_AS_project_data/USCHADmodels/DeepConvLSTMUSCHAD_withrot_1/assets\n"
          ]
        },
        {
          "metadata": {
            "tags": null
          },
          "name": "stdout",
          "output_type": "stream",
          "text": [
            "INFO:tensorflow:Assets written to: /content/drive/My Drive/ECE_209_AS_project_data/USCHADmodels/DeepConvLSTMUSCHAD_withrot_1/assets\n"
          ]
        },
        {
          "metadata": {
            "tags": null
          },
          "name": "stderr",
          "output_type": "stream",
          "text": [
            "INFO:tensorflow:Assets written to: /content/drive/My Drive/ECE_209_AS_project_data/USCHADmodels/DeepConvLSTMUSCHAD_withrot_1/assets\n"
          ]
        },
        {
          "metadata": {
            "tags": null
          },
          "name": "stdout",
          "output_type": "stream",
          "text": [
            "INFO:tensorflow:Assets written to: /content/drive/My Drive/ECE_209_AS_project_data/USCHADmodels/DeepConvLSTMUSCHAD_withrot_1/assets\n"
          ]
        },
        {
          "metadata": {
            "tags": null
          },
          "name": "stderr",
          "output_type": "stream",
          "text": [
            "INFO:tensorflow:Assets written to: /content/drive/My Drive/ECE_209_AS_project_data/USCHADmodels/DeepConvLSTMUSCHAD_withrot_1/assets\n"
          ]
        },
        {
          "metadata": {
            "tags": null
          },
          "name": "stdout",
          "output_type": "stream",
          "text": [
            "INFO:tensorflow:Assets written to: /content/drive/My Drive/ECE_209_AS_project_data/USCHADmodels/DeepConvLSTMUSCHAD_withrot_1/assets\n"
          ]
        },
        {
          "metadata": {
            "tags": null
          },
          "name": "stderr",
          "output_type": "stream",
          "text": [
            "INFO:tensorflow:Assets written to: /content/drive/My Drive/ECE_209_AS_project_data/USCHADmodels/DeepConvLSTMUSCHAD_withrot_1/assets\n"
          ]
        },
        {
          "metadata": {
            "tags": null
          },
          "name": "stdout",
          "output_type": "stream",
          "text": [
            "INFO:tensorflow:Assets written to: /content/drive/My Drive/ECE_209_AS_project_data/USCHADmodels/DeepConvLSTMUSCHAD_withrot_1/assets\n"
          ]
        },
        {
          "metadata": {
            "tags": null
          },
          "name": "stderr",
          "output_type": "stream",
          "text": [
            "INFO:tensorflow:Assets written to: /content/drive/My Drive/ECE_209_AS_project_data/USCHADmodels/DeepConvLSTMUSCHAD_withrot_1/assets\n"
          ]
        },
        {
          "metadata": {
            "tags": null
          },
          "name": "stdout",
          "output_type": "stream",
          "text": [
            "INFO:tensorflow:Assets written to: /content/drive/My Drive/ECE_209_AS_project_data/USCHADmodels/DeepConvLSTMUSCHAD_withrot_1/assets\n"
          ]
        },
        {
          "metadata": {
            "tags": null
          },
          "name": "stderr",
          "output_type": "stream",
          "text": [
            "INFO:tensorflow:Assets written to: /content/drive/My Drive/ECE_209_AS_project_data/USCHADmodels/DeepConvLSTMUSCHAD_withrot_1/assets\n"
          ]
        },
        {
          "metadata": {
            "tags": null
          },
          "name": "stdout",
          "output_type": "stream",
          "text": [
            "INFO:tensorflow:Assets written to: /content/drive/My Drive/ECE_209_AS_project_data/USCHADmodels/DeepConvLSTMUSCHAD_withrot_1/assets\n"
          ]
        },
        {
          "metadata": {
            "tags": null
          },
          "name": "stderr",
          "output_type": "stream",
          "text": [
            "INFO:tensorflow:Assets written to: /content/drive/My Drive/ECE_209_AS_project_data/USCHADmodels/DeepConvLSTMUSCHAD_withrot_1/assets\n"
          ]
        },
        {
          "metadata": {
            "tags": null
          },
          "name": "stdout",
          "output_type": "stream",
          "text": [
            "INFO:tensorflow:Assets written to: /content/drive/My Drive/ECE_209_AS_project_data/USCHADmodels/DeepConvLSTMUSCHAD_withrot_1/assets\n"
          ]
        },
        {
          "metadata": {
            "tags": null
          },
          "name": "stderr",
          "output_type": "stream",
          "text": [
            "INFO:tensorflow:Assets written to: /content/drive/My Drive/ECE_209_AS_project_data/USCHADmodels/DeepConvLSTMUSCHAD_withrot_1/assets\n"
          ]
        },
        {
          "metadata": {
            "tags": null
          },
          "name": "stdout",
          "output_type": "stream",
          "text": [
            "INFO:tensorflow:Assets written to: /content/drive/My Drive/ECE_209_AS_project_data/USCHADmodels/DeepConvLSTMUSCHAD_withrot_1/assets\n"
          ]
        },
        {
          "metadata": {
            "tags": null
          },
          "name": "stderr",
          "output_type": "stream",
          "text": [
            "INFO:tensorflow:Assets written to: /content/drive/My Drive/ECE_209_AS_project_data/USCHADmodels/DeepConvLSTMUSCHAD_withrot_1/assets\n"
          ]
        },
        {
          "metadata": {
            "tags": null
          },
          "name": "stdout",
          "output_type": "stream",
          "text": [
            "INFO:tensorflow:Assets written to: /content/drive/My Drive/ECE_209_AS_project_data/USCHADmodels/DeepConvLSTMUSCHAD_withrot_1/assets\n"
          ]
        },
        {
          "metadata": {
            "tags": null
          },
          "name": "stderr",
          "output_type": "stream",
          "text": [
            "INFO:tensorflow:Assets written to: /content/drive/My Drive/ECE_209_AS_project_data/USCHADmodels/DeepConvLSTMUSCHAD_withrot_1/assets\n"
          ]
        },
        {
          "metadata": {
            "tags": null
          },
          "name": "stdout",
          "output_type": "stream",
          "text": [
            "INFO:tensorflow:Assets written to: /content/drive/My Drive/ECE_209_AS_project_data/USCHADmodels/DeepConvLSTMUSCHAD_withrot_1/assets\n"
          ]
        },
        {
          "metadata": {
            "tags": null
          },
          "name": "stderr",
          "output_type": "stream",
          "text": [
            "INFO:tensorflow:Assets written to: /content/drive/My Drive/ECE_209_AS_project_data/USCHADmodels/DeepConvLSTMUSCHAD_withrot_1/assets\n"
          ]
        },
        {
          "metadata": {
            "tags": null
          },
          "name": "stdout",
          "output_type": "stream",
          "text": [
            "tf.Tensor(0.88391477, shape=(), dtype=float32)\n",
            "INFO:tensorflow:Assets written to: /content/drive/My Drive/ECE_209_AS_project_data/USCHADmodels/DeepConvLSTMUSCHAD_withrot_2/assets\n"
          ]
        },
        {
          "metadata": {
            "tags": null
          },
          "name": "stderr",
          "output_type": "stream",
          "text": [
            "INFO:tensorflow:Assets written to: /content/drive/My Drive/ECE_209_AS_project_data/USCHADmodels/DeepConvLSTMUSCHAD_withrot_2/assets\n"
          ]
        },
        {
          "metadata": {
            "tags": null
          },
          "name": "stdout",
          "output_type": "stream",
          "text": [
            "INFO:tensorflow:Assets written to: /content/drive/My Drive/ECE_209_AS_project_data/USCHADmodels/DeepConvLSTMUSCHAD_withrot_2/assets\n"
          ]
        },
        {
          "metadata": {
            "tags": null
          },
          "name": "stderr",
          "output_type": "stream",
          "text": [
            "INFO:tensorflow:Assets written to: /content/drive/My Drive/ECE_209_AS_project_data/USCHADmodels/DeepConvLSTMUSCHAD_withrot_2/assets\n"
          ]
        },
        {
          "metadata": {
            "tags": null
          },
          "name": "stdout",
          "output_type": "stream",
          "text": [
            "INFO:tensorflow:Assets written to: /content/drive/My Drive/ECE_209_AS_project_data/USCHADmodels/DeepConvLSTMUSCHAD_withrot_2/assets\n"
          ]
        },
        {
          "metadata": {
            "tags": null
          },
          "name": "stderr",
          "output_type": "stream",
          "text": [
            "INFO:tensorflow:Assets written to: /content/drive/My Drive/ECE_209_AS_project_data/USCHADmodels/DeepConvLSTMUSCHAD_withrot_2/assets\n"
          ]
        },
        {
          "metadata": {
            "tags": null
          },
          "name": "stdout",
          "output_type": "stream",
          "text": [
            "INFO:tensorflow:Assets written to: /content/drive/My Drive/ECE_209_AS_project_data/USCHADmodels/DeepConvLSTMUSCHAD_withrot_2/assets\n"
          ]
        },
        {
          "metadata": {
            "tags": null
          },
          "name": "stderr",
          "output_type": "stream",
          "text": [
            "INFO:tensorflow:Assets written to: /content/drive/My Drive/ECE_209_AS_project_data/USCHADmodels/DeepConvLSTMUSCHAD_withrot_2/assets\n"
          ]
        },
        {
          "metadata": {
            "tags": null
          },
          "name": "stdout",
          "output_type": "stream",
          "text": [
            "INFO:tensorflow:Assets written to: /content/drive/My Drive/ECE_209_AS_project_data/USCHADmodels/DeepConvLSTMUSCHAD_withrot_2/assets\n"
          ]
        },
        {
          "metadata": {
            "tags": null
          },
          "name": "stderr",
          "output_type": "stream",
          "text": [
            "INFO:tensorflow:Assets written to: /content/drive/My Drive/ECE_209_AS_project_data/USCHADmodels/DeepConvLSTMUSCHAD_withrot_2/assets\n"
          ]
        },
        {
          "metadata": {
            "tags": null
          },
          "name": "stdout",
          "output_type": "stream",
          "text": [
            "INFO:tensorflow:Assets written to: /content/drive/My Drive/ECE_209_AS_project_data/USCHADmodels/DeepConvLSTMUSCHAD_withrot_2/assets\n"
          ]
        },
        {
          "metadata": {
            "tags": null
          },
          "name": "stderr",
          "output_type": "stream",
          "text": [
            "INFO:tensorflow:Assets written to: /content/drive/My Drive/ECE_209_AS_project_data/USCHADmodels/DeepConvLSTMUSCHAD_withrot_2/assets\n"
          ]
        },
        {
          "metadata": {
            "tags": null
          },
          "name": "stdout",
          "output_type": "stream",
          "text": [
            "INFO:tensorflow:Assets written to: /content/drive/My Drive/ECE_209_AS_project_data/USCHADmodels/DeepConvLSTMUSCHAD_withrot_2/assets\n"
          ]
        },
        {
          "metadata": {
            "tags": null
          },
          "name": "stderr",
          "output_type": "stream",
          "text": [
            "INFO:tensorflow:Assets written to: /content/drive/My Drive/ECE_209_AS_project_data/USCHADmodels/DeepConvLSTMUSCHAD_withrot_2/assets\n"
          ]
        },
        {
          "metadata": {
            "tags": null
          },
          "name": "stdout",
          "output_type": "stream",
          "text": [
            "INFO:tensorflow:Assets written to: /content/drive/My Drive/ECE_209_AS_project_data/USCHADmodels/DeepConvLSTMUSCHAD_withrot_2/assets\n"
          ]
        },
        {
          "metadata": {
            "tags": null
          },
          "name": "stderr",
          "output_type": "stream",
          "text": [
            "INFO:tensorflow:Assets written to: /content/drive/My Drive/ECE_209_AS_project_data/USCHADmodels/DeepConvLSTMUSCHAD_withrot_2/assets\n"
          ]
        },
        {
          "metadata": {
            "tags": null
          },
          "name": "stdout",
          "output_type": "stream",
          "text": [
            "INFO:tensorflow:Assets written to: /content/drive/My Drive/ECE_209_AS_project_data/USCHADmodels/DeepConvLSTMUSCHAD_withrot_2/assets\n"
          ]
        },
        {
          "metadata": {
            "tags": null
          },
          "name": "stderr",
          "output_type": "stream",
          "text": [
            "INFO:tensorflow:Assets written to: /content/drive/My Drive/ECE_209_AS_project_data/USCHADmodels/DeepConvLSTMUSCHAD_withrot_2/assets\n"
          ]
        },
        {
          "metadata": {
            "tags": null
          },
          "name": "stdout",
          "output_type": "stream",
          "text": [
            "INFO:tensorflow:Assets written to: /content/drive/My Drive/ECE_209_AS_project_data/USCHADmodels/DeepConvLSTMUSCHAD_withrot_2/assets\n"
          ]
        },
        {
          "metadata": {
            "tags": null
          },
          "name": "stderr",
          "output_type": "stream",
          "text": [
            "INFO:tensorflow:Assets written to: /content/drive/My Drive/ECE_209_AS_project_data/USCHADmodels/DeepConvLSTMUSCHAD_withrot_2/assets\n"
          ]
        },
        {
          "metadata": {
            "tags": null
          },
          "name": "stdout",
          "output_type": "stream",
          "text": [
            "INFO:tensorflow:Assets written to: /content/drive/My Drive/ECE_209_AS_project_data/USCHADmodels/DeepConvLSTMUSCHAD_withrot_2/assets\n"
          ]
        },
        {
          "metadata": {
            "tags": null
          },
          "name": "stderr",
          "output_type": "stream",
          "text": [
            "INFO:tensorflow:Assets written to: /content/drive/My Drive/ECE_209_AS_project_data/USCHADmodels/DeepConvLSTMUSCHAD_withrot_2/assets\n"
          ]
        },
        {
          "metadata": {
            "tags": null
          },
          "name": "stdout",
          "output_type": "stream",
          "text": [
            "INFO:tensorflow:Assets written to: /content/drive/My Drive/ECE_209_AS_project_data/USCHADmodels/DeepConvLSTMUSCHAD_withrot_2/assets\n"
          ]
        },
        {
          "metadata": {
            "tags": null
          },
          "name": "stderr",
          "output_type": "stream",
          "text": [
            "INFO:tensorflow:Assets written to: /content/drive/My Drive/ECE_209_AS_project_data/USCHADmodels/DeepConvLSTMUSCHAD_withrot_2/assets\n"
          ]
        },
        {
          "metadata": {
            "tags": null
          },
          "name": "stdout",
          "output_type": "stream",
          "text": [
            "INFO:tensorflow:Assets written to: /content/drive/My Drive/ECE_209_AS_project_data/USCHADmodels/DeepConvLSTMUSCHAD_withrot_2/assets\n"
          ]
        },
        {
          "metadata": {
            "tags": null
          },
          "name": "stderr",
          "output_type": "stream",
          "text": [
            "INFO:tensorflow:Assets written to: /content/drive/My Drive/ECE_209_AS_project_data/USCHADmodels/DeepConvLSTMUSCHAD_withrot_2/assets\n"
          ]
        },
        {
          "metadata": {
            "tags": null
          },
          "name": "stdout",
          "output_type": "stream",
          "text": [
            "tf.Tensor(0.8744983, shape=(), dtype=float32)\n",
            "INFO:tensorflow:Assets written to: /content/drive/My Drive/ECE_209_AS_project_data/USCHADmodels/DeepConvLSTMUSCHAD_withrot_3/assets\n"
          ]
        },
        {
          "metadata": {
            "tags": null
          },
          "name": "stderr",
          "output_type": "stream",
          "text": [
            "INFO:tensorflow:Assets written to: /content/drive/My Drive/ECE_209_AS_project_data/USCHADmodels/DeepConvLSTMUSCHAD_withrot_3/assets\n"
          ]
        },
        {
          "metadata": {
            "tags": null
          },
          "name": "stdout",
          "output_type": "stream",
          "text": [
            "INFO:tensorflow:Assets written to: /content/drive/My Drive/ECE_209_AS_project_data/USCHADmodels/DeepConvLSTMUSCHAD_withrot_3/assets\n"
          ]
        },
        {
          "metadata": {
            "tags": null
          },
          "name": "stderr",
          "output_type": "stream",
          "text": [
            "INFO:tensorflow:Assets written to: /content/drive/My Drive/ECE_209_AS_project_data/USCHADmodels/DeepConvLSTMUSCHAD_withrot_3/assets\n"
          ]
        },
        {
          "metadata": {
            "tags": null
          },
          "name": "stdout",
          "output_type": "stream",
          "text": [
            "INFO:tensorflow:Assets written to: /content/drive/My Drive/ECE_209_AS_project_data/USCHADmodels/DeepConvLSTMUSCHAD_withrot_3/assets\n"
          ]
        },
        {
          "metadata": {
            "tags": null
          },
          "name": "stderr",
          "output_type": "stream",
          "text": [
            "INFO:tensorflow:Assets written to: /content/drive/My Drive/ECE_209_AS_project_data/USCHADmodels/DeepConvLSTMUSCHAD_withrot_3/assets\n"
          ]
        },
        {
          "metadata": {
            "tags": null
          },
          "name": "stdout",
          "output_type": "stream",
          "text": [
            "INFO:tensorflow:Assets written to: /content/drive/My Drive/ECE_209_AS_project_data/USCHADmodels/DeepConvLSTMUSCHAD_withrot_3/assets\n"
          ]
        },
        {
          "metadata": {
            "tags": null
          },
          "name": "stderr",
          "output_type": "stream",
          "text": [
            "INFO:tensorflow:Assets written to: /content/drive/My Drive/ECE_209_AS_project_data/USCHADmodels/DeepConvLSTMUSCHAD_withrot_3/assets\n"
          ]
        },
        {
          "metadata": {
            "tags": null
          },
          "name": "stdout",
          "output_type": "stream",
          "text": [
            "INFO:tensorflow:Assets written to: /content/drive/My Drive/ECE_209_AS_project_data/USCHADmodels/DeepConvLSTMUSCHAD_withrot_3/assets\n"
          ]
        },
        {
          "metadata": {
            "tags": null
          },
          "name": "stderr",
          "output_type": "stream",
          "text": [
            "INFO:tensorflow:Assets written to: /content/drive/My Drive/ECE_209_AS_project_data/USCHADmodels/DeepConvLSTMUSCHAD_withrot_3/assets\n"
          ]
        },
        {
          "metadata": {
            "tags": null
          },
          "name": "stdout",
          "output_type": "stream",
          "text": [
            "INFO:tensorflow:Assets written to: /content/drive/My Drive/ECE_209_AS_project_data/USCHADmodels/DeepConvLSTMUSCHAD_withrot_3/assets\n"
          ]
        },
        {
          "metadata": {
            "tags": null
          },
          "name": "stderr",
          "output_type": "stream",
          "text": [
            "INFO:tensorflow:Assets written to: /content/drive/My Drive/ECE_209_AS_project_data/USCHADmodels/DeepConvLSTMUSCHAD_withrot_3/assets\n"
          ]
        },
        {
          "metadata": {
            "tags": null
          },
          "name": "stdout",
          "output_type": "stream",
          "text": [
            "INFO:tensorflow:Assets written to: /content/drive/My Drive/ECE_209_AS_project_data/USCHADmodels/DeepConvLSTMUSCHAD_withrot_3/assets\n"
          ]
        },
        {
          "metadata": {
            "tags": null
          },
          "name": "stderr",
          "output_type": "stream",
          "text": [
            "INFO:tensorflow:Assets written to: /content/drive/My Drive/ECE_209_AS_project_data/USCHADmodels/DeepConvLSTMUSCHAD_withrot_3/assets\n"
          ]
        },
        {
          "metadata": {
            "tags": null
          },
          "name": "stdout",
          "output_type": "stream",
          "text": [
            "INFO:tensorflow:Assets written to: /content/drive/My Drive/ECE_209_AS_project_data/USCHADmodels/DeepConvLSTMUSCHAD_withrot_3/assets\n"
          ]
        },
        {
          "metadata": {
            "tags": null
          },
          "name": "stderr",
          "output_type": "stream",
          "text": [
            "INFO:tensorflow:Assets written to: /content/drive/My Drive/ECE_209_AS_project_data/USCHADmodels/DeepConvLSTMUSCHAD_withrot_3/assets\n"
          ]
        },
        {
          "metadata": {
            "tags": null
          },
          "name": "stdout",
          "output_type": "stream",
          "text": [
            "INFO:tensorflow:Assets written to: /content/drive/My Drive/ECE_209_AS_project_data/USCHADmodels/DeepConvLSTMUSCHAD_withrot_3/assets\n"
          ]
        },
        {
          "metadata": {
            "tags": null
          },
          "name": "stderr",
          "output_type": "stream",
          "text": [
            "INFO:tensorflow:Assets written to: /content/drive/My Drive/ECE_209_AS_project_data/USCHADmodels/DeepConvLSTMUSCHAD_withrot_3/assets\n"
          ]
        },
        {
          "metadata": {
            "tags": null
          },
          "name": "stdout",
          "output_type": "stream",
          "text": [
            "INFO:tensorflow:Assets written to: /content/drive/My Drive/ECE_209_AS_project_data/USCHADmodels/DeepConvLSTMUSCHAD_withrot_3/assets\n"
          ]
        },
        {
          "metadata": {
            "tags": null
          },
          "name": "stderr",
          "output_type": "stream",
          "text": [
            "INFO:tensorflow:Assets written to: /content/drive/My Drive/ECE_209_AS_project_data/USCHADmodels/DeepConvLSTMUSCHAD_withrot_3/assets\n"
          ]
        },
        {
          "metadata": {
            "tags": null
          },
          "name": "stdout",
          "output_type": "stream",
          "text": [
            "INFO:tensorflow:Assets written to: /content/drive/My Drive/ECE_209_AS_project_data/USCHADmodels/DeepConvLSTMUSCHAD_withrot_3/assets\n"
          ]
        },
        {
          "metadata": {
            "tags": null
          },
          "name": "stderr",
          "output_type": "stream",
          "text": [
            "INFO:tensorflow:Assets written to: /content/drive/My Drive/ECE_209_AS_project_data/USCHADmodels/DeepConvLSTMUSCHAD_withrot_3/assets\n"
          ]
        },
        {
          "metadata": {
            "tags": null
          },
          "name": "stdout",
          "output_type": "stream",
          "text": [
            "INFO:tensorflow:Assets written to: /content/drive/My Drive/ECE_209_AS_project_data/USCHADmodels/DeepConvLSTMUSCHAD_withrot_3/assets\n"
          ]
        },
        {
          "metadata": {
            "tags": null
          },
          "name": "stderr",
          "output_type": "stream",
          "text": [
            "INFO:tensorflow:Assets written to: /content/drive/My Drive/ECE_209_AS_project_data/USCHADmodels/DeepConvLSTMUSCHAD_withrot_3/assets\n"
          ]
        },
        {
          "metadata": {
            "tags": null
          },
          "name": "stdout",
          "output_type": "stream",
          "text": [
            "INFO:tensorflow:Assets written to: /content/drive/My Drive/ECE_209_AS_project_data/USCHADmodels/DeepConvLSTMUSCHAD_withrot_3/assets\n"
          ]
        },
        {
          "metadata": {
            "tags": null
          },
          "name": "stderr",
          "output_type": "stream",
          "text": [
            "INFO:tensorflow:Assets written to: /content/drive/My Drive/ECE_209_AS_project_data/USCHADmodels/DeepConvLSTMUSCHAD_withrot_3/assets\n"
          ]
        },
        {
          "metadata": {
            "tags": null
          },
          "name": "stdout",
          "output_type": "stream",
          "text": [
            "INFO:tensorflow:Assets written to: /content/drive/My Drive/ECE_209_AS_project_data/USCHADmodels/DeepConvLSTMUSCHAD_withrot_3/assets\n"
          ]
        },
        {
          "metadata": {
            "tags": null
          },
          "name": "stderr",
          "output_type": "stream",
          "text": [
            "INFO:tensorflow:Assets written to: /content/drive/My Drive/ECE_209_AS_project_data/USCHADmodels/DeepConvLSTMUSCHAD_withrot_3/assets\n"
          ]
        },
        {
          "metadata": {
            "tags": null
          },
          "name": "stdout",
          "output_type": "stream",
          "text": [
            "INFO:tensorflow:Assets written to: /content/drive/My Drive/ECE_209_AS_project_data/USCHADmodels/DeepConvLSTMUSCHAD_withrot_3/assets\n"
          ]
        },
        {
          "metadata": {
            "tags": null
          },
          "name": "stderr",
          "output_type": "stream",
          "text": [
            "INFO:tensorflow:Assets written to: /content/drive/My Drive/ECE_209_AS_project_data/USCHADmodels/DeepConvLSTMUSCHAD_withrot_3/assets\n"
          ]
        },
        {
          "metadata": {
            "tags": null
          },
          "name": "stdout",
          "output_type": "stream",
          "text": [
            "INFO:tensorflow:Assets written to: /content/drive/My Drive/ECE_209_AS_project_data/USCHADmodels/DeepConvLSTMUSCHAD_withrot_3/assets\n"
          ]
        },
        {
          "metadata": {
            "tags": null
          },
          "name": "stderr",
          "output_type": "stream",
          "text": [
            "INFO:tensorflow:Assets written to: /content/drive/My Drive/ECE_209_AS_project_data/USCHADmodels/DeepConvLSTMUSCHAD_withrot_3/assets\n"
          ]
        },
        {
          "metadata": {
            "tags": null
          },
          "name": "stdout",
          "output_type": "stream",
          "text": [
            "INFO:tensorflow:Assets written to: /content/drive/My Drive/ECE_209_AS_project_data/USCHADmodels/DeepConvLSTMUSCHAD_withrot_3/assets\n"
          ]
        },
        {
          "metadata": {
            "tags": null
          },
          "name": "stderr",
          "output_type": "stream",
          "text": [
            "INFO:tensorflow:Assets written to: /content/drive/My Drive/ECE_209_AS_project_data/USCHADmodels/DeepConvLSTMUSCHAD_withrot_3/assets\n"
          ]
        },
        {
          "output_type": "stream",
          "name": "stdout",
          "text": [
            "tf.Tensor(0.8559741, shape=(), dtype=float32)\n"
          ]
        }
      ]
    },
    {
      "cell_type": "code",
      "source": [
        "test_accuracies_rot = []\n",
        "recall_scores_rot = []\n",
        "\n",
        "for i in range(5):\n",
        "\n",
        "  model_saved = keras.models.load_model(path_to_models + f\"DeepConvLSTMUSCHAD_withrot_{i}\")\n",
        "  test_accuracy = tf.keras.metrics.Accuracy()\n",
        "  logits = model_saved(X_test, training=False)\n",
        "  prediction = tf.argmax(logits, axis=1, output_type=tf.int32)\n",
        "  test_accuracies_rot.append(test_accuracy(prediction, Y_test))\n",
        "  print(test_accuracy(prediction, Y_test))\n",
        "  recall_scores_rot.append(recall_score(Y_test, prediction, average=None))"
      ],
      "metadata": {
        "colab": {
          "base_uri": "https://localhost:8080/"
        },
        "id": "saifD3sbnDXk",
        "outputId": "c69e1c76-eee6-4c2e-da2e-a781c646454e"
      },
      "id": "saifD3sbnDXk",
      "execution_count": 28,
      "outputs": [
        {
          "output_type": "stream",
          "name": "stdout",
          "text": [
            "tf.Tensor(0.9093856, shape=(), dtype=float32)\n",
            "tf.Tensor(0.9047546, shape=(), dtype=float32)\n",
            "tf.Tensor(0.89703614, shape=(), dtype=float32)\n",
            "tf.Tensor(0.8834517, shape=(), dtype=float32)\n",
            "tf.Tensor(0.8885459, shape=(), dtype=float32)\n"
          ]
        }
      ]
    },
    {
      "cell_type": "code",
      "source": [
        "sum_ac = 0\n",
        "\n",
        "for ac in test_accuracies_rot:\n",
        "\n",
        "  sum_ac += ac.numpy()\n",
        "\n",
        "print(f\"Mean accuracy is {round(sum_ac/len(test_accuracies_rot), 2)}\")"
      ],
      "metadata": {
        "colab": {
          "base_uri": "https://localhost:8080/"
        },
        "outputId": "2cc443fa-b874-4c8d-f7f8-2b5e3f7ee654",
        "id": "vLKVw88eOFvj"
      },
      "execution_count": 31,
      "outputs": [
        {
          "output_type": "stream",
          "name": "stdout",
          "text": [
            "Mean accuracy is 0.9\n"
          ]
        }
      ],
      "id": "vLKVw88eOFvj"
    },
    {
      "cell_type": "code",
      "source": [
        "mean_recall_scores_with_rot  = sum(recall_scores_rot)/len(recall_scores_rot)\n",
        "\n",
        "for i in range(len(mean_recall_scores_with_rot)):\n",
        "\n",
        "  print(f\"Label {data_class_names[i]} has mean accuracy {round(mean_recall_scores_with_rot[i], 2)}\")"
      ],
      "metadata": {
        "colab": {
          "base_uri": "https://localhost:8080/"
        },
        "outputId": "6e337785-66aa-4b93-a1a7-cc5d024769bb",
        "id": "Lu8EFJdFOFvk"
      },
      "execution_count": 32,
      "outputs": [
        {
          "output_type": "stream",
          "name": "stdout",
          "text": [
            "Label walking forward has mean accuracy 0.94\n",
            "Label walking left has mean accuracy 0.95\n",
            "Label walking right has mean accuracy 0.94\n",
            "Label walking upstairs has mean accuracy 0.95\n",
            "Label walking downstairs has mean accuracy 0.95\n",
            "Label running forward has mean accuracy 0.99\n",
            "Label jumping has mean accuracy 0.98\n",
            "Label sitting has mean accuracy 0.96\n",
            "Label standing  has mean accuracy 0.92\n",
            "Label sleeping  has mean accuracy 0.97\n",
            "Label elevator up has mean accuracy 0.37\n",
            "Label elevator down has mean accuracy 0.56\n"
          ]
        }
      ],
      "id": "Lu8EFJdFOFvk"
    },
    {
      "cell_type": "markdown",
      "source": [
        "### Scaling"
      ],
      "metadata": {
        "id": "aT2-9javOsIf"
      },
      "id": "aT2-9javOsIf"
    },
    {
      "cell_type": "code",
      "source": [
        "test_accuracies_scale = []\n",
        "recall_scores_scale = []\n",
        "\n",
        "for i in range(5):\n",
        "\n",
        "  rnd_seed = seeds[i]\n",
        "  tf.random.set_seed(rnd_seed)\n",
        "  indices = np.random.RandomState(seed=rnd_seed).permutation(len(X_train))\n",
        "  X_train = X_train[indices]\n",
        "  Y_train = Y_train[indices]\n",
        "\n",
        "  X_train_scale = scaling((X_train))\n",
        "  Xtrain_tot=np.concatenate((X_train, X_train_scale))\n",
        "  Y_train_tot = np.concatenate((Y_train, Y_train))\n",
        "\n",
        "  train_data = Xtrain_tot[len(Xtrain_tot)//10:]\n",
        "  train_labels = Y_train_tot[len(Xtrain_tot)//10:]\n",
        "  val_data = Xtrain_tot[:len(Xtrain_tot)//10]\n",
        "  val_labels = Y_train_tot[:len(Xtrain_tot)//10]\n",
        "\n",
        "  model = keras.Model(inputs = inputs, outputs = outputs)\n",
        "  model.compile(loss = \"sparse_categorical_crossentropy\", optimizer = \"adam\", metrics=[\"accuracy\"])\n",
        "  tensorboard = keras.callbacks.TensorBoard(log_dir = path_to_logs)\n",
        "  callbacks = [keras.callbacks.ModelCheckpoint(filepath=path_to_models + f\"DeepConvLSTMUSCHAD_withscale_{i}\"), tensorboard, keras.callbacks.EarlyStopping(monitor='val_loss', patience=10)]\n",
        "  history = model.fit(train_data, train_labels, epochs = 25, batch_size = 64, validation_data = (val_data, val_labels), callbacks = callbacks, class_weight = data_class_weights, verbose = False)\n",
        "\n",
        "  model_saved = keras.models.load_model(path_to_models + f\"DeepConvLSTMUSCHAD_withscale_{i}\")\n",
        "  test_accuracy = tf.keras.metrics.Accuracy()\n",
        "  logits = model_saved(X_test, training=False)\n",
        "  prediction = tf.argmax(logits, axis=1, output_type=tf.int32)\n",
        "  test_accuracies_scale.append(test_accuracy(prediction, Y_test))\n",
        "  print(test_accuracy(prediction, Y_test))\n",
        "  recall_scores_scale.append(recall_score(Y_test, prediction, average=None))"
      ],
      "metadata": {
        "colab": {
          "base_uri": "https://localhost:8080/"
        },
        "id": "dNVN1AoBOi-U",
        "outputId": "d32f7aeb-2412-46eb-a739-7e6f27a30201"
      },
      "id": "dNVN1AoBOi-U",
      "execution_count": 36,
      "outputs": [
        {
          "metadata": {
            "tags": null
          },
          "name": "stdout",
          "output_type": "stream",
          "text": [
            "INFO:tensorflow:Assets written to: /content/drive/My Drive/ECE_209_AS_project_data/USCHADmodels/DeepConvLSTMUSCHAD_withscale_0/assets\n"
          ]
        },
        {
          "metadata": {
            "tags": null
          },
          "name": "stderr",
          "output_type": "stream",
          "text": [
            "INFO:tensorflow:Assets written to: /content/drive/My Drive/ECE_209_AS_project_data/USCHADmodels/DeepConvLSTMUSCHAD_withscale_0/assets\n"
          ]
        },
        {
          "metadata": {
            "tags": null
          },
          "name": "stdout",
          "output_type": "stream",
          "text": [
            "INFO:tensorflow:Assets written to: /content/drive/My Drive/ECE_209_AS_project_data/USCHADmodels/DeepConvLSTMUSCHAD_withscale_0/assets\n"
          ]
        },
        {
          "metadata": {
            "tags": null
          },
          "name": "stderr",
          "output_type": "stream",
          "text": [
            "INFO:tensorflow:Assets written to: /content/drive/My Drive/ECE_209_AS_project_data/USCHADmodels/DeepConvLSTMUSCHAD_withscale_0/assets\n"
          ]
        },
        {
          "metadata": {
            "tags": null
          },
          "name": "stdout",
          "output_type": "stream",
          "text": [
            "INFO:tensorflow:Assets written to: /content/drive/My Drive/ECE_209_AS_project_data/USCHADmodels/DeepConvLSTMUSCHAD_withscale_0/assets\n"
          ]
        },
        {
          "metadata": {
            "tags": null
          },
          "name": "stderr",
          "output_type": "stream",
          "text": [
            "INFO:tensorflow:Assets written to: /content/drive/My Drive/ECE_209_AS_project_data/USCHADmodels/DeepConvLSTMUSCHAD_withscale_0/assets\n"
          ]
        },
        {
          "metadata": {
            "tags": null
          },
          "name": "stdout",
          "output_type": "stream",
          "text": [
            "INFO:tensorflow:Assets written to: /content/drive/My Drive/ECE_209_AS_project_data/USCHADmodels/DeepConvLSTMUSCHAD_withscale_0/assets\n"
          ]
        },
        {
          "metadata": {
            "tags": null
          },
          "name": "stderr",
          "output_type": "stream",
          "text": [
            "INFO:tensorflow:Assets written to: /content/drive/My Drive/ECE_209_AS_project_data/USCHADmodels/DeepConvLSTMUSCHAD_withscale_0/assets\n"
          ]
        },
        {
          "metadata": {
            "tags": null
          },
          "name": "stdout",
          "output_type": "stream",
          "text": [
            "INFO:tensorflow:Assets written to: /content/drive/My Drive/ECE_209_AS_project_data/USCHADmodels/DeepConvLSTMUSCHAD_withscale_0/assets\n"
          ]
        },
        {
          "metadata": {
            "tags": null
          },
          "name": "stderr",
          "output_type": "stream",
          "text": [
            "INFO:tensorflow:Assets written to: /content/drive/My Drive/ECE_209_AS_project_data/USCHADmodels/DeepConvLSTMUSCHAD_withscale_0/assets\n"
          ]
        },
        {
          "metadata": {
            "tags": null
          },
          "name": "stdout",
          "output_type": "stream",
          "text": [
            "INFO:tensorflow:Assets written to: /content/drive/My Drive/ECE_209_AS_project_data/USCHADmodels/DeepConvLSTMUSCHAD_withscale_0/assets\n"
          ]
        },
        {
          "metadata": {
            "tags": null
          },
          "name": "stderr",
          "output_type": "stream",
          "text": [
            "INFO:tensorflow:Assets written to: /content/drive/My Drive/ECE_209_AS_project_data/USCHADmodels/DeepConvLSTMUSCHAD_withscale_0/assets\n"
          ]
        },
        {
          "metadata": {
            "tags": null
          },
          "name": "stdout",
          "output_type": "stream",
          "text": [
            "INFO:tensorflow:Assets written to: /content/drive/My Drive/ECE_209_AS_project_data/USCHADmodels/DeepConvLSTMUSCHAD_withscale_0/assets\n"
          ]
        },
        {
          "metadata": {
            "tags": null
          },
          "name": "stderr",
          "output_type": "stream",
          "text": [
            "INFO:tensorflow:Assets written to: /content/drive/My Drive/ECE_209_AS_project_data/USCHADmodels/DeepConvLSTMUSCHAD_withscale_0/assets\n"
          ]
        },
        {
          "metadata": {
            "tags": null
          },
          "name": "stdout",
          "output_type": "stream",
          "text": [
            "INFO:tensorflow:Assets written to: /content/drive/My Drive/ECE_209_AS_project_data/USCHADmodels/DeepConvLSTMUSCHAD_withscale_0/assets\n"
          ]
        },
        {
          "metadata": {
            "tags": null
          },
          "name": "stderr",
          "output_type": "stream",
          "text": [
            "INFO:tensorflow:Assets written to: /content/drive/My Drive/ECE_209_AS_project_data/USCHADmodels/DeepConvLSTMUSCHAD_withscale_0/assets\n"
          ]
        },
        {
          "output_type": "stream",
          "name": "stdout",
          "text": [
            "INFO:tensorflow:Assets written to: /content/drive/My Drive/ECE_209_AS_project_data/USCHADmodels/DeepConvLSTMUSCHAD_withscale_0/assets\n"
          ]
        },
        {
          "output_type": "stream",
          "name": "stderr",
          "text": [
            "INFO:tensorflow:Assets written to: /content/drive/My Drive/ECE_209_AS_project_data/USCHADmodels/DeepConvLSTMUSCHAD_withscale_0/assets\n"
          ]
        },
        {
          "output_type": "stream",
          "name": "stdout",
          "text": [
            "INFO:tensorflow:Assets written to: /content/drive/My Drive/ECE_209_AS_project_data/USCHADmodels/DeepConvLSTMUSCHAD_withscale_0/assets\n"
          ]
        },
        {
          "output_type": "stream",
          "name": "stderr",
          "text": [
            "INFO:tensorflow:Assets written to: /content/drive/My Drive/ECE_209_AS_project_data/USCHADmodels/DeepConvLSTMUSCHAD_withscale_0/assets\n"
          ]
        },
        {
          "output_type": "stream",
          "name": "stdout",
          "text": [
            "INFO:tensorflow:Assets written to: /content/drive/My Drive/ECE_209_AS_project_data/USCHADmodels/DeepConvLSTMUSCHAD_withscale_0/assets\n"
          ]
        },
        {
          "output_type": "stream",
          "name": "stderr",
          "text": [
            "INFO:tensorflow:Assets written to: /content/drive/My Drive/ECE_209_AS_project_data/USCHADmodels/DeepConvLSTMUSCHAD_withscale_0/assets\n"
          ]
        },
        {
          "output_type": "stream",
          "name": "stdout",
          "text": [
            "INFO:tensorflow:Assets written to: /content/drive/My Drive/ECE_209_AS_project_data/USCHADmodels/DeepConvLSTMUSCHAD_withscale_0/assets\n"
          ]
        },
        {
          "output_type": "stream",
          "name": "stderr",
          "text": [
            "INFO:tensorflow:Assets written to: /content/drive/My Drive/ECE_209_AS_project_data/USCHADmodels/DeepConvLSTMUSCHAD_withscale_0/assets\n"
          ]
        },
        {
          "output_type": "stream",
          "name": "stdout",
          "text": [
            "INFO:tensorflow:Assets written to: /content/drive/My Drive/ECE_209_AS_project_data/USCHADmodels/DeepConvLSTMUSCHAD_withscale_0/assets\n"
          ]
        },
        {
          "output_type": "stream",
          "name": "stderr",
          "text": [
            "INFO:tensorflow:Assets written to: /content/drive/My Drive/ECE_209_AS_project_data/USCHADmodels/DeepConvLSTMUSCHAD_withscale_0/assets\n"
          ]
        },
        {
          "output_type": "stream",
          "name": "stdout",
          "text": [
            "INFO:tensorflow:Assets written to: /content/drive/My Drive/ECE_209_AS_project_data/USCHADmodels/DeepConvLSTMUSCHAD_withscale_0/assets\n"
          ]
        },
        {
          "output_type": "stream",
          "name": "stderr",
          "text": [
            "INFO:tensorflow:Assets written to: /content/drive/My Drive/ECE_209_AS_project_data/USCHADmodels/DeepConvLSTMUSCHAD_withscale_0/assets\n"
          ]
        },
        {
          "output_type": "stream",
          "name": "stdout",
          "text": [
            "INFO:tensorflow:Assets written to: /content/drive/My Drive/ECE_209_AS_project_data/USCHADmodels/DeepConvLSTMUSCHAD_withscale_0/assets\n"
          ]
        },
        {
          "output_type": "stream",
          "name": "stderr",
          "text": [
            "INFO:tensorflow:Assets written to: /content/drive/My Drive/ECE_209_AS_project_data/USCHADmodels/DeepConvLSTMUSCHAD_withscale_0/assets\n"
          ]
        },
        {
          "output_type": "stream",
          "name": "stdout",
          "text": [
            "INFO:tensorflow:Assets written to: /content/drive/My Drive/ECE_209_AS_project_data/USCHADmodels/DeepConvLSTMUSCHAD_withscale_0/assets\n"
          ]
        },
        {
          "output_type": "stream",
          "name": "stderr",
          "text": [
            "INFO:tensorflow:Assets written to: /content/drive/My Drive/ECE_209_AS_project_data/USCHADmodels/DeepConvLSTMUSCHAD_withscale_0/assets\n"
          ]
        },
        {
          "output_type": "stream",
          "name": "stdout",
          "text": [
            "INFO:tensorflow:Assets written to: /content/drive/My Drive/ECE_209_AS_project_data/USCHADmodels/DeepConvLSTMUSCHAD_withscale_0/assets\n"
          ]
        },
        {
          "output_type": "stream",
          "name": "stderr",
          "text": [
            "INFO:tensorflow:Assets written to: /content/drive/My Drive/ECE_209_AS_project_data/USCHADmodels/DeepConvLSTMUSCHAD_withscale_0/assets\n"
          ]
        },
        {
          "output_type": "stream",
          "name": "stdout",
          "text": [
            "INFO:tensorflow:Assets written to: /content/drive/My Drive/ECE_209_AS_project_data/USCHADmodels/DeepConvLSTMUSCHAD_withscale_0/assets\n"
          ]
        },
        {
          "output_type": "stream",
          "name": "stderr",
          "text": [
            "INFO:tensorflow:Assets written to: /content/drive/My Drive/ECE_209_AS_project_data/USCHADmodels/DeepConvLSTMUSCHAD_withscale_0/assets\n"
          ]
        },
        {
          "output_type": "stream",
          "name": "stdout",
          "text": [
            "INFO:tensorflow:Assets written to: /content/drive/My Drive/ECE_209_AS_project_data/USCHADmodels/DeepConvLSTMUSCHAD_withscale_0/assets\n"
          ]
        },
        {
          "output_type": "stream",
          "name": "stderr",
          "text": [
            "INFO:tensorflow:Assets written to: /content/drive/My Drive/ECE_209_AS_project_data/USCHADmodels/DeepConvLSTMUSCHAD_withscale_0/assets\n"
          ]
        },
        {
          "output_type": "stream",
          "name": "stdout",
          "text": [
            "INFO:tensorflow:Assets written to: /content/drive/My Drive/ECE_209_AS_project_data/USCHADmodels/DeepConvLSTMUSCHAD_withscale_0/assets\n"
          ]
        },
        {
          "output_type": "stream",
          "name": "stderr",
          "text": [
            "INFO:tensorflow:Assets written to: /content/drive/My Drive/ECE_209_AS_project_data/USCHADmodels/DeepConvLSTMUSCHAD_withscale_0/assets\n"
          ]
        },
        {
          "output_type": "stream",
          "name": "stdout",
          "text": [
            "INFO:tensorflow:Assets written to: /content/drive/My Drive/ECE_209_AS_project_data/USCHADmodels/DeepConvLSTMUSCHAD_withscale_0/assets\n"
          ]
        },
        {
          "output_type": "stream",
          "name": "stderr",
          "text": [
            "INFO:tensorflow:Assets written to: /content/drive/My Drive/ECE_209_AS_project_data/USCHADmodels/DeepConvLSTMUSCHAD_withscale_0/assets\n"
          ]
        },
        {
          "output_type": "stream",
          "name": "stdout",
          "text": [
            "INFO:tensorflow:Assets written to: /content/drive/My Drive/ECE_209_AS_project_data/USCHADmodels/DeepConvLSTMUSCHAD_withscale_0/assets\n"
          ]
        },
        {
          "output_type": "stream",
          "name": "stderr",
          "text": [
            "INFO:tensorflow:Assets written to: /content/drive/My Drive/ECE_209_AS_project_data/USCHADmodels/DeepConvLSTMUSCHAD_withscale_0/assets\n"
          ]
        },
        {
          "output_type": "stream",
          "name": "stdout",
          "text": [
            "INFO:tensorflow:Assets written to: /content/drive/My Drive/ECE_209_AS_project_data/USCHADmodels/DeepConvLSTMUSCHAD_withscale_0/assets\n"
          ]
        },
        {
          "output_type": "stream",
          "name": "stderr",
          "text": [
            "INFO:tensorflow:Assets written to: /content/drive/My Drive/ECE_209_AS_project_data/USCHADmodels/DeepConvLSTMUSCHAD_withscale_0/assets\n"
          ]
        },
        {
          "output_type": "stream",
          "name": "stdout",
          "text": [
            "INFO:tensorflow:Assets written to: /content/drive/My Drive/ECE_209_AS_project_data/USCHADmodels/DeepConvLSTMUSCHAD_withscale_0/assets\n"
          ]
        },
        {
          "output_type": "stream",
          "name": "stderr",
          "text": [
            "INFO:tensorflow:Assets written to: /content/drive/My Drive/ECE_209_AS_project_data/USCHADmodels/DeepConvLSTMUSCHAD_withscale_0/assets\n"
          ]
        },
        {
          "output_type": "stream",
          "name": "stdout",
          "text": [
            "INFO:tensorflow:Assets written to: /content/drive/My Drive/ECE_209_AS_project_data/USCHADmodels/DeepConvLSTMUSCHAD_withscale_0/assets\n"
          ]
        },
        {
          "output_type": "stream",
          "name": "stderr",
          "text": [
            "INFO:tensorflow:Assets written to: /content/drive/My Drive/ECE_209_AS_project_data/USCHADmodels/DeepConvLSTMUSCHAD_withscale_0/assets\n"
          ]
        },
        {
          "output_type": "stream",
          "name": "stdout",
          "text": [
            "tf.Tensor(0.8866934, shape=(), dtype=float32)\n",
            "INFO:tensorflow:Assets written to: /content/drive/My Drive/ECE_209_AS_project_data/USCHADmodels/DeepConvLSTMUSCHAD_withscale_1/assets\n"
          ]
        },
        {
          "output_type": "stream",
          "name": "stderr",
          "text": [
            "INFO:tensorflow:Assets written to: /content/drive/My Drive/ECE_209_AS_project_data/USCHADmodels/DeepConvLSTMUSCHAD_withscale_1/assets\n"
          ]
        },
        {
          "output_type": "stream",
          "name": "stdout",
          "text": [
            "INFO:tensorflow:Assets written to: /content/drive/My Drive/ECE_209_AS_project_data/USCHADmodels/DeepConvLSTMUSCHAD_withscale_1/assets\n"
          ]
        },
        {
          "output_type": "stream",
          "name": "stderr",
          "text": [
            "INFO:tensorflow:Assets written to: /content/drive/My Drive/ECE_209_AS_project_data/USCHADmodels/DeepConvLSTMUSCHAD_withscale_1/assets\n"
          ]
        },
        {
          "output_type": "stream",
          "name": "stdout",
          "text": [
            "INFO:tensorflow:Assets written to: /content/drive/My Drive/ECE_209_AS_project_data/USCHADmodels/DeepConvLSTMUSCHAD_withscale_1/assets\n"
          ]
        },
        {
          "output_type": "stream",
          "name": "stderr",
          "text": [
            "INFO:tensorflow:Assets written to: /content/drive/My Drive/ECE_209_AS_project_data/USCHADmodels/DeepConvLSTMUSCHAD_withscale_1/assets\n"
          ]
        },
        {
          "output_type": "stream",
          "name": "stdout",
          "text": [
            "INFO:tensorflow:Assets written to: /content/drive/My Drive/ECE_209_AS_project_data/USCHADmodels/DeepConvLSTMUSCHAD_withscale_1/assets\n"
          ]
        },
        {
          "output_type": "stream",
          "name": "stderr",
          "text": [
            "INFO:tensorflow:Assets written to: /content/drive/My Drive/ECE_209_AS_project_data/USCHADmodels/DeepConvLSTMUSCHAD_withscale_1/assets\n"
          ]
        },
        {
          "output_type": "stream",
          "name": "stdout",
          "text": [
            "INFO:tensorflow:Assets written to: /content/drive/My Drive/ECE_209_AS_project_data/USCHADmodels/DeepConvLSTMUSCHAD_withscale_1/assets\n"
          ]
        },
        {
          "output_type": "stream",
          "name": "stderr",
          "text": [
            "INFO:tensorflow:Assets written to: /content/drive/My Drive/ECE_209_AS_project_data/USCHADmodels/DeepConvLSTMUSCHAD_withscale_1/assets\n"
          ]
        },
        {
          "output_type": "stream",
          "name": "stdout",
          "text": [
            "INFO:tensorflow:Assets written to: /content/drive/My Drive/ECE_209_AS_project_data/USCHADmodels/DeepConvLSTMUSCHAD_withscale_1/assets\n"
          ]
        },
        {
          "output_type": "stream",
          "name": "stderr",
          "text": [
            "INFO:tensorflow:Assets written to: /content/drive/My Drive/ECE_209_AS_project_data/USCHADmodels/DeepConvLSTMUSCHAD_withscale_1/assets\n"
          ]
        },
        {
          "output_type": "stream",
          "name": "stdout",
          "text": [
            "INFO:tensorflow:Assets written to: /content/drive/My Drive/ECE_209_AS_project_data/USCHADmodels/DeepConvLSTMUSCHAD_withscale_1/assets\n"
          ]
        },
        {
          "output_type": "stream",
          "name": "stderr",
          "text": [
            "INFO:tensorflow:Assets written to: /content/drive/My Drive/ECE_209_AS_project_data/USCHADmodels/DeepConvLSTMUSCHAD_withscale_1/assets\n"
          ]
        },
        {
          "output_type": "stream",
          "name": "stdout",
          "text": [
            "INFO:tensorflow:Assets written to: /content/drive/My Drive/ECE_209_AS_project_data/USCHADmodels/DeepConvLSTMUSCHAD_withscale_1/assets\n"
          ]
        },
        {
          "output_type": "stream",
          "name": "stderr",
          "text": [
            "INFO:tensorflow:Assets written to: /content/drive/My Drive/ECE_209_AS_project_data/USCHADmodels/DeepConvLSTMUSCHAD_withscale_1/assets\n"
          ]
        },
        {
          "output_type": "stream",
          "name": "stdout",
          "text": [
            "INFO:tensorflow:Assets written to: /content/drive/My Drive/ECE_209_AS_project_data/USCHADmodels/DeepConvLSTMUSCHAD_withscale_1/assets\n"
          ]
        },
        {
          "output_type": "stream",
          "name": "stderr",
          "text": [
            "INFO:tensorflow:Assets written to: /content/drive/My Drive/ECE_209_AS_project_data/USCHADmodels/DeepConvLSTMUSCHAD_withscale_1/assets\n"
          ]
        },
        {
          "output_type": "stream",
          "name": "stdout",
          "text": [
            "INFO:tensorflow:Assets written to: /content/drive/My Drive/ECE_209_AS_project_data/USCHADmodels/DeepConvLSTMUSCHAD_withscale_1/assets\n"
          ]
        },
        {
          "output_type": "stream",
          "name": "stderr",
          "text": [
            "INFO:tensorflow:Assets written to: /content/drive/My Drive/ECE_209_AS_project_data/USCHADmodels/DeepConvLSTMUSCHAD_withscale_1/assets\n"
          ]
        },
        {
          "output_type": "stream",
          "name": "stdout",
          "text": [
            "INFO:tensorflow:Assets written to: /content/drive/My Drive/ECE_209_AS_project_data/USCHADmodels/DeepConvLSTMUSCHAD_withscale_1/assets\n"
          ]
        },
        {
          "output_type": "stream",
          "name": "stderr",
          "text": [
            "INFO:tensorflow:Assets written to: /content/drive/My Drive/ECE_209_AS_project_data/USCHADmodels/DeepConvLSTMUSCHAD_withscale_1/assets\n"
          ]
        },
        {
          "output_type": "stream",
          "name": "stdout",
          "text": [
            "INFO:tensorflow:Assets written to: /content/drive/My Drive/ECE_209_AS_project_data/USCHADmodels/DeepConvLSTMUSCHAD_withscale_1/assets\n"
          ]
        },
        {
          "output_type": "stream",
          "name": "stderr",
          "text": [
            "INFO:tensorflow:Assets written to: /content/drive/My Drive/ECE_209_AS_project_data/USCHADmodels/DeepConvLSTMUSCHAD_withscale_1/assets\n"
          ]
        },
        {
          "output_type": "stream",
          "name": "stdout",
          "text": [
            "INFO:tensorflow:Assets written to: /content/drive/My Drive/ECE_209_AS_project_data/USCHADmodels/DeepConvLSTMUSCHAD_withscale_1/assets\n"
          ]
        },
        {
          "output_type": "stream",
          "name": "stderr",
          "text": [
            "INFO:tensorflow:Assets written to: /content/drive/My Drive/ECE_209_AS_project_data/USCHADmodels/DeepConvLSTMUSCHAD_withscale_1/assets\n"
          ]
        },
        {
          "output_type": "stream",
          "name": "stdout",
          "text": [
            "INFO:tensorflow:Assets written to: /content/drive/My Drive/ECE_209_AS_project_data/USCHADmodels/DeepConvLSTMUSCHAD_withscale_1/assets\n"
          ]
        },
        {
          "output_type": "stream",
          "name": "stderr",
          "text": [
            "INFO:tensorflow:Assets written to: /content/drive/My Drive/ECE_209_AS_project_data/USCHADmodels/DeepConvLSTMUSCHAD_withscale_1/assets\n"
          ]
        },
        {
          "output_type": "stream",
          "name": "stdout",
          "text": [
            "INFO:tensorflow:Assets written to: /content/drive/My Drive/ECE_209_AS_project_data/USCHADmodels/DeepConvLSTMUSCHAD_withscale_1/assets\n"
          ]
        },
        {
          "output_type": "stream",
          "name": "stderr",
          "text": [
            "INFO:tensorflow:Assets written to: /content/drive/My Drive/ECE_209_AS_project_data/USCHADmodels/DeepConvLSTMUSCHAD_withscale_1/assets\n"
          ]
        },
        {
          "output_type": "stream",
          "name": "stdout",
          "text": [
            "INFO:tensorflow:Assets written to: /content/drive/My Drive/ECE_209_AS_project_data/USCHADmodels/DeepConvLSTMUSCHAD_withscale_1/assets\n"
          ]
        },
        {
          "output_type": "stream",
          "name": "stderr",
          "text": [
            "INFO:tensorflow:Assets written to: /content/drive/My Drive/ECE_209_AS_project_data/USCHADmodels/DeepConvLSTMUSCHAD_withscale_1/assets\n"
          ]
        },
        {
          "output_type": "stream",
          "name": "stdout",
          "text": [
            "INFO:tensorflow:Assets written to: /content/drive/My Drive/ECE_209_AS_project_data/USCHADmodels/DeepConvLSTMUSCHAD_withscale_1/assets\n"
          ]
        },
        {
          "output_type": "stream",
          "name": "stderr",
          "text": [
            "INFO:tensorflow:Assets written to: /content/drive/My Drive/ECE_209_AS_project_data/USCHADmodels/DeepConvLSTMUSCHAD_withscale_1/assets\n"
          ]
        },
        {
          "output_type": "stream",
          "name": "stdout",
          "text": [
            "INFO:tensorflow:Assets written to: /content/drive/My Drive/ECE_209_AS_project_data/USCHADmodels/DeepConvLSTMUSCHAD_withscale_1/assets\n"
          ]
        },
        {
          "output_type": "stream",
          "name": "stderr",
          "text": [
            "INFO:tensorflow:Assets written to: /content/drive/My Drive/ECE_209_AS_project_data/USCHADmodels/DeepConvLSTMUSCHAD_withscale_1/assets\n"
          ]
        },
        {
          "output_type": "stream",
          "name": "stdout",
          "text": [
            "tf.Tensor(0.87912935, shape=(), dtype=float32)\n",
            "INFO:tensorflow:Assets written to: /content/drive/My Drive/ECE_209_AS_project_data/USCHADmodels/DeepConvLSTMUSCHAD_withscale_2/assets\n"
          ]
        },
        {
          "output_type": "stream",
          "name": "stderr",
          "text": [
            "INFO:tensorflow:Assets written to: /content/drive/My Drive/ECE_209_AS_project_data/USCHADmodels/DeepConvLSTMUSCHAD_withscale_2/assets\n"
          ]
        },
        {
          "output_type": "stream",
          "name": "stdout",
          "text": [
            "INFO:tensorflow:Assets written to: /content/drive/My Drive/ECE_209_AS_project_data/USCHADmodels/DeepConvLSTMUSCHAD_withscale_2/assets\n"
          ]
        },
        {
          "output_type": "stream",
          "name": "stderr",
          "text": [
            "INFO:tensorflow:Assets written to: /content/drive/My Drive/ECE_209_AS_project_data/USCHADmodels/DeepConvLSTMUSCHAD_withscale_2/assets\n"
          ]
        },
        {
          "output_type": "stream",
          "name": "stdout",
          "text": [
            "INFO:tensorflow:Assets written to: /content/drive/My Drive/ECE_209_AS_project_data/USCHADmodels/DeepConvLSTMUSCHAD_withscale_2/assets\n"
          ]
        },
        {
          "output_type": "stream",
          "name": "stderr",
          "text": [
            "INFO:tensorflow:Assets written to: /content/drive/My Drive/ECE_209_AS_project_data/USCHADmodels/DeepConvLSTMUSCHAD_withscale_2/assets\n"
          ]
        },
        {
          "output_type": "stream",
          "name": "stdout",
          "text": [
            "INFO:tensorflow:Assets written to: /content/drive/My Drive/ECE_209_AS_project_data/USCHADmodels/DeepConvLSTMUSCHAD_withscale_2/assets\n"
          ]
        },
        {
          "output_type": "stream",
          "name": "stderr",
          "text": [
            "INFO:tensorflow:Assets written to: /content/drive/My Drive/ECE_209_AS_project_data/USCHADmodels/DeepConvLSTMUSCHAD_withscale_2/assets\n"
          ]
        },
        {
          "output_type": "stream",
          "name": "stdout",
          "text": [
            "INFO:tensorflow:Assets written to: /content/drive/My Drive/ECE_209_AS_project_data/USCHADmodels/DeepConvLSTMUSCHAD_withscale_2/assets\n"
          ]
        },
        {
          "output_type": "stream",
          "name": "stderr",
          "text": [
            "INFO:tensorflow:Assets written to: /content/drive/My Drive/ECE_209_AS_project_data/USCHADmodels/DeepConvLSTMUSCHAD_withscale_2/assets\n"
          ]
        },
        {
          "output_type": "stream",
          "name": "stdout",
          "text": [
            "INFO:tensorflow:Assets written to: /content/drive/My Drive/ECE_209_AS_project_data/USCHADmodels/DeepConvLSTMUSCHAD_withscale_2/assets\n"
          ]
        },
        {
          "output_type": "stream",
          "name": "stderr",
          "text": [
            "INFO:tensorflow:Assets written to: /content/drive/My Drive/ECE_209_AS_project_data/USCHADmodels/DeepConvLSTMUSCHAD_withscale_2/assets\n"
          ]
        },
        {
          "output_type": "stream",
          "name": "stdout",
          "text": [
            "INFO:tensorflow:Assets written to: /content/drive/My Drive/ECE_209_AS_project_data/USCHADmodels/DeepConvLSTMUSCHAD_withscale_2/assets\n"
          ]
        },
        {
          "output_type": "stream",
          "name": "stderr",
          "text": [
            "INFO:tensorflow:Assets written to: /content/drive/My Drive/ECE_209_AS_project_data/USCHADmodels/DeepConvLSTMUSCHAD_withscale_2/assets\n"
          ]
        },
        {
          "output_type": "stream",
          "name": "stdout",
          "text": [
            "INFO:tensorflow:Assets written to: /content/drive/My Drive/ECE_209_AS_project_data/USCHADmodels/DeepConvLSTMUSCHAD_withscale_2/assets\n"
          ]
        },
        {
          "output_type": "stream",
          "name": "stderr",
          "text": [
            "INFO:tensorflow:Assets written to: /content/drive/My Drive/ECE_209_AS_project_data/USCHADmodels/DeepConvLSTMUSCHAD_withscale_2/assets\n"
          ]
        },
        {
          "output_type": "stream",
          "name": "stdout",
          "text": [
            "INFO:tensorflow:Assets written to: /content/drive/My Drive/ECE_209_AS_project_data/USCHADmodels/DeepConvLSTMUSCHAD_withscale_2/assets\n"
          ]
        },
        {
          "output_type": "stream",
          "name": "stderr",
          "text": [
            "INFO:tensorflow:Assets written to: /content/drive/My Drive/ECE_209_AS_project_data/USCHADmodels/DeepConvLSTMUSCHAD_withscale_2/assets\n"
          ]
        },
        {
          "output_type": "stream",
          "name": "stdout",
          "text": [
            "INFO:tensorflow:Assets written to: /content/drive/My Drive/ECE_209_AS_project_data/USCHADmodels/DeepConvLSTMUSCHAD_withscale_2/assets\n"
          ]
        },
        {
          "output_type": "stream",
          "name": "stderr",
          "text": [
            "INFO:tensorflow:Assets written to: /content/drive/My Drive/ECE_209_AS_project_data/USCHADmodels/DeepConvLSTMUSCHAD_withscale_2/assets\n"
          ]
        },
        {
          "output_type": "stream",
          "name": "stdout",
          "text": [
            "INFO:tensorflow:Assets written to: /content/drive/My Drive/ECE_209_AS_project_data/USCHADmodels/DeepConvLSTMUSCHAD_withscale_2/assets\n"
          ]
        },
        {
          "output_type": "stream",
          "name": "stderr",
          "text": [
            "INFO:tensorflow:Assets written to: /content/drive/My Drive/ECE_209_AS_project_data/USCHADmodels/DeepConvLSTMUSCHAD_withscale_2/assets\n"
          ]
        },
        {
          "output_type": "stream",
          "name": "stdout",
          "text": [
            "INFO:tensorflow:Assets written to: /content/drive/My Drive/ECE_209_AS_project_data/USCHADmodels/DeepConvLSTMUSCHAD_withscale_2/assets\n"
          ]
        },
        {
          "output_type": "stream",
          "name": "stderr",
          "text": [
            "INFO:tensorflow:Assets written to: /content/drive/My Drive/ECE_209_AS_project_data/USCHADmodels/DeepConvLSTMUSCHAD_withscale_2/assets\n"
          ]
        },
        {
          "output_type": "stream",
          "name": "stdout",
          "text": [
            "INFO:tensorflow:Assets written to: /content/drive/My Drive/ECE_209_AS_project_data/USCHADmodels/DeepConvLSTMUSCHAD_withscale_2/assets\n"
          ]
        },
        {
          "output_type": "stream",
          "name": "stderr",
          "text": [
            "INFO:tensorflow:Assets written to: /content/drive/My Drive/ECE_209_AS_project_data/USCHADmodels/DeepConvLSTMUSCHAD_withscale_2/assets\n"
          ]
        },
        {
          "output_type": "stream",
          "name": "stdout",
          "text": [
            "INFO:tensorflow:Assets written to: /content/drive/My Drive/ECE_209_AS_project_data/USCHADmodels/DeepConvLSTMUSCHAD_withscale_2/assets\n"
          ]
        },
        {
          "output_type": "stream",
          "name": "stderr",
          "text": [
            "INFO:tensorflow:Assets written to: /content/drive/My Drive/ECE_209_AS_project_data/USCHADmodels/DeepConvLSTMUSCHAD_withscale_2/assets\n"
          ]
        },
        {
          "output_type": "stream",
          "name": "stdout",
          "text": [
            "INFO:tensorflow:Assets written to: /content/drive/My Drive/ECE_209_AS_project_data/USCHADmodels/DeepConvLSTMUSCHAD_withscale_2/assets\n"
          ]
        },
        {
          "output_type": "stream",
          "name": "stderr",
          "text": [
            "INFO:tensorflow:Assets written to: /content/drive/My Drive/ECE_209_AS_project_data/USCHADmodels/DeepConvLSTMUSCHAD_withscale_2/assets\n"
          ]
        },
        {
          "output_type": "stream",
          "name": "stdout",
          "text": [
            "INFO:tensorflow:Assets written to: /content/drive/My Drive/ECE_209_AS_project_data/USCHADmodels/DeepConvLSTMUSCHAD_withscale_2/assets\n"
          ]
        },
        {
          "output_type": "stream",
          "name": "stderr",
          "text": [
            "INFO:tensorflow:Assets written to: /content/drive/My Drive/ECE_209_AS_project_data/USCHADmodels/DeepConvLSTMUSCHAD_withscale_2/assets\n"
          ]
        },
        {
          "output_type": "stream",
          "name": "stdout",
          "text": [
            "INFO:tensorflow:Assets written to: /content/drive/My Drive/ECE_209_AS_project_data/USCHADmodels/DeepConvLSTMUSCHAD_withscale_2/assets\n"
          ]
        },
        {
          "output_type": "stream",
          "name": "stderr",
          "text": [
            "INFO:tensorflow:Assets written to: /content/drive/My Drive/ECE_209_AS_project_data/USCHADmodels/DeepConvLSTMUSCHAD_withscale_2/assets\n"
          ]
        },
        {
          "output_type": "stream",
          "name": "stdout",
          "text": [
            "INFO:tensorflow:Assets written to: /content/drive/My Drive/ECE_209_AS_project_data/USCHADmodels/DeepConvLSTMUSCHAD_withscale_2/assets\n"
          ]
        },
        {
          "output_type": "stream",
          "name": "stderr",
          "text": [
            "INFO:tensorflow:Assets written to: /content/drive/My Drive/ECE_209_AS_project_data/USCHADmodels/DeepConvLSTMUSCHAD_withscale_2/assets\n"
          ]
        },
        {
          "output_type": "stream",
          "name": "stdout",
          "text": [
            "INFO:tensorflow:Assets written to: /content/drive/My Drive/ECE_209_AS_project_data/USCHADmodels/DeepConvLSTMUSCHAD_withscale_2/assets\n"
          ]
        },
        {
          "output_type": "stream",
          "name": "stderr",
          "text": [
            "INFO:tensorflow:Assets written to: /content/drive/My Drive/ECE_209_AS_project_data/USCHADmodels/DeepConvLSTMUSCHAD_withscale_2/assets\n"
          ]
        },
        {
          "output_type": "stream",
          "name": "stdout",
          "text": [
            "INFO:tensorflow:Assets written to: /content/drive/My Drive/ECE_209_AS_project_data/USCHADmodels/DeepConvLSTMUSCHAD_withscale_2/assets\n"
          ]
        },
        {
          "output_type": "stream",
          "name": "stderr",
          "text": [
            "INFO:tensorflow:Assets written to: /content/drive/My Drive/ECE_209_AS_project_data/USCHADmodels/DeepConvLSTMUSCHAD_withscale_2/assets\n"
          ]
        },
        {
          "output_type": "stream",
          "name": "stdout",
          "text": [
            "tf.Tensor(0.87912935, shape=(), dtype=float32)\n",
            "INFO:tensorflow:Assets written to: /content/drive/My Drive/ECE_209_AS_project_data/USCHADmodels/DeepConvLSTMUSCHAD_withscale_3/assets\n"
          ]
        },
        {
          "output_type": "stream",
          "name": "stderr",
          "text": [
            "INFO:tensorflow:Assets written to: /content/drive/My Drive/ECE_209_AS_project_data/USCHADmodels/DeepConvLSTMUSCHAD_withscale_3/assets\n"
          ]
        },
        {
          "output_type": "stream",
          "name": "stdout",
          "text": [
            "INFO:tensorflow:Assets written to: /content/drive/My Drive/ECE_209_AS_project_data/USCHADmodels/DeepConvLSTMUSCHAD_withscale_3/assets\n"
          ]
        },
        {
          "output_type": "stream",
          "name": "stderr",
          "text": [
            "INFO:tensorflow:Assets written to: /content/drive/My Drive/ECE_209_AS_project_data/USCHADmodels/DeepConvLSTMUSCHAD_withscale_3/assets\n"
          ]
        },
        {
          "output_type": "stream",
          "name": "stdout",
          "text": [
            "INFO:tensorflow:Assets written to: /content/drive/My Drive/ECE_209_AS_project_data/USCHADmodels/DeepConvLSTMUSCHAD_withscale_3/assets\n"
          ]
        },
        {
          "output_type": "stream",
          "name": "stderr",
          "text": [
            "INFO:tensorflow:Assets written to: /content/drive/My Drive/ECE_209_AS_project_data/USCHADmodels/DeepConvLSTMUSCHAD_withscale_3/assets\n"
          ]
        },
        {
          "output_type": "stream",
          "name": "stdout",
          "text": [
            "INFO:tensorflow:Assets written to: /content/drive/My Drive/ECE_209_AS_project_data/USCHADmodels/DeepConvLSTMUSCHAD_withscale_3/assets\n"
          ]
        },
        {
          "output_type": "stream",
          "name": "stderr",
          "text": [
            "INFO:tensorflow:Assets written to: /content/drive/My Drive/ECE_209_AS_project_data/USCHADmodels/DeepConvLSTMUSCHAD_withscale_3/assets\n"
          ]
        },
        {
          "output_type": "stream",
          "name": "stdout",
          "text": [
            "INFO:tensorflow:Assets written to: /content/drive/My Drive/ECE_209_AS_project_data/USCHADmodels/DeepConvLSTMUSCHAD_withscale_3/assets\n"
          ]
        },
        {
          "output_type": "stream",
          "name": "stderr",
          "text": [
            "INFO:tensorflow:Assets written to: /content/drive/My Drive/ECE_209_AS_project_data/USCHADmodels/DeepConvLSTMUSCHAD_withscale_3/assets\n"
          ]
        },
        {
          "output_type": "stream",
          "name": "stdout",
          "text": [
            "INFO:tensorflow:Assets written to: /content/drive/My Drive/ECE_209_AS_project_data/USCHADmodels/DeepConvLSTMUSCHAD_withscale_3/assets\n"
          ]
        },
        {
          "output_type": "stream",
          "name": "stderr",
          "text": [
            "INFO:tensorflow:Assets written to: /content/drive/My Drive/ECE_209_AS_project_data/USCHADmodels/DeepConvLSTMUSCHAD_withscale_3/assets\n"
          ]
        },
        {
          "output_type": "stream",
          "name": "stdout",
          "text": [
            "INFO:tensorflow:Assets written to: /content/drive/My Drive/ECE_209_AS_project_data/USCHADmodels/DeepConvLSTMUSCHAD_withscale_3/assets\n"
          ]
        },
        {
          "output_type": "stream",
          "name": "stderr",
          "text": [
            "INFO:tensorflow:Assets written to: /content/drive/My Drive/ECE_209_AS_project_data/USCHADmodels/DeepConvLSTMUSCHAD_withscale_3/assets\n"
          ]
        },
        {
          "output_type": "stream",
          "name": "stdout",
          "text": [
            "INFO:tensorflow:Assets written to: /content/drive/My Drive/ECE_209_AS_project_data/USCHADmodels/DeepConvLSTMUSCHAD_withscale_3/assets\n"
          ]
        },
        {
          "output_type": "stream",
          "name": "stderr",
          "text": [
            "INFO:tensorflow:Assets written to: /content/drive/My Drive/ECE_209_AS_project_data/USCHADmodels/DeepConvLSTMUSCHAD_withscale_3/assets\n"
          ]
        },
        {
          "output_type": "stream",
          "name": "stdout",
          "text": [
            "INFO:tensorflow:Assets written to: /content/drive/My Drive/ECE_209_AS_project_data/USCHADmodels/DeepConvLSTMUSCHAD_withscale_3/assets\n"
          ]
        },
        {
          "output_type": "stream",
          "name": "stderr",
          "text": [
            "INFO:tensorflow:Assets written to: /content/drive/My Drive/ECE_209_AS_project_data/USCHADmodels/DeepConvLSTMUSCHAD_withscale_3/assets\n"
          ]
        },
        {
          "output_type": "stream",
          "name": "stdout",
          "text": [
            "INFO:tensorflow:Assets written to: /content/drive/My Drive/ECE_209_AS_project_data/USCHADmodels/DeepConvLSTMUSCHAD_withscale_3/assets\n"
          ]
        },
        {
          "output_type": "stream",
          "name": "stderr",
          "text": [
            "INFO:tensorflow:Assets written to: /content/drive/My Drive/ECE_209_AS_project_data/USCHADmodels/DeepConvLSTMUSCHAD_withscale_3/assets\n"
          ]
        },
        {
          "output_type": "stream",
          "name": "stdout",
          "text": [
            "INFO:tensorflow:Assets written to: /content/drive/My Drive/ECE_209_AS_project_data/USCHADmodels/DeepConvLSTMUSCHAD_withscale_3/assets\n"
          ]
        },
        {
          "output_type": "stream",
          "name": "stderr",
          "text": [
            "INFO:tensorflow:Assets written to: /content/drive/My Drive/ECE_209_AS_project_data/USCHADmodels/DeepConvLSTMUSCHAD_withscale_3/assets\n"
          ]
        },
        {
          "output_type": "stream",
          "name": "stdout",
          "text": [
            "INFO:tensorflow:Assets written to: /content/drive/My Drive/ECE_209_AS_project_data/USCHADmodels/DeepConvLSTMUSCHAD_withscale_3/assets\n"
          ]
        },
        {
          "output_type": "stream",
          "name": "stderr",
          "text": [
            "INFO:tensorflow:Assets written to: /content/drive/My Drive/ECE_209_AS_project_data/USCHADmodels/DeepConvLSTMUSCHAD_withscale_3/assets\n"
          ]
        },
        {
          "output_type": "stream",
          "name": "stdout",
          "text": [
            "INFO:tensorflow:Assets written to: /content/drive/My Drive/ECE_209_AS_project_data/USCHADmodels/DeepConvLSTMUSCHAD_withscale_3/assets\n"
          ]
        },
        {
          "output_type": "stream",
          "name": "stderr",
          "text": [
            "INFO:tensorflow:Assets written to: /content/drive/My Drive/ECE_209_AS_project_data/USCHADmodels/DeepConvLSTMUSCHAD_withscale_3/assets\n"
          ]
        },
        {
          "output_type": "stream",
          "name": "stdout",
          "text": [
            "tf.Tensor(0.87573326, shape=(), dtype=float32)\n",
            "INFO:tensorflow:Assets written to: /content/drive/My Drive/ECE_209_AS_project_data/USCHADmodels/DeepConvLSTMUSCHAD_withscale_4/assets\n"
          ]
        },
        {
          "output_type": "stream",
          "name": "stderr",
          "text": [
            "INFO:tensorflow:Assets written to: /content/drive/My Drive/ECE_209_AS_project_data/USCHADmodels/DeepConvLSTMUSCHAD_withscale_4/assets\n"
          ]
        },
        {
          "output_type": "stream",
          "name": "stdout",
          "text": [
            "INFO:tensorflow:Assets written to: /content/drive/My Drive/ECE_209_AS_project_data/USCHADmodels/DeepConvLSTMUSCHAD_withscale_4/assets\n"
          ]
        },
        {
          "output_type": "stream",
          "name": "stderr",
          "text": [
            "INFO:tensorflow:Assets written to: /content/drive/My Drive/ECE_209_AS_project_data/USCHADmodels/DeepConvLSTMUSCHAD_withscale_4/assets\n"
          ]
        },
        {
          "output_type": "stream",
          "name": "stdout",
          "text": [
            "INFO:tensorflow:Assets written to: /content/drive/My Drive/ECE_209_AS_project_data/USCHADmodels/DeepConvLSTMUSCHAD_withscale_4/assets\n"
          ]
        },
        {
          "output_type": "stream",
          "name": "stderr",
          "text": [
            "INFO:tensorflow:Assets written to: /content/drive/My Drive/ECE_209_AS_project_data/USCHADmodels/DeepConvLSTMUSCHAD_withscale_4/assets\n"
          ]
        },
        {
          "output_type": "stream",
          "name": "stdout",
          "text": [
            "INFO:tensorflow:Assets written to: /content/drive/My Drive/ECE_209_AS_project_data/USCHADmodels/DeepConvLSTMUSCHAD_withscale_4/assets\n"
          ]
        },
        {
          "output_type": "stream",
          "name": "stderr",
          "text": [
            "INFO:tensorflow:Assets written to: /content/drive/My Drive/ECE_209_AS_project_data/USCHADmodels/DeepConvLSTMUSCHAD_withscale_4/assets\n"
          ]
        },
        {
          "output_type": "stream",
          "name": "stdout",
          "text": [
            "INFO:tensorflow:Assets written to: /content/drive/My Drive/ECE_209_AS_project_data/USCHADmodels/DeepConvLSTMUSCHAD_withscale_4/assets\n"
          ]
        },
        {
          "output_type": "stream",
          "name": "stderr",
          "text": [
            "INFO:tensorflow:Assets written to: /content/drive/My Drive/ECE_209_AS_project_data/USCHADmodels/DeepConvLSTMUSCHAD_withscale_4/assets\n"
          ]
        },
        {
          "output_type": "stream",
          "name": "stdout",
          "text": [
            "INFO:tensorflow:Assets written to: /content/drive/My Drive/ECE_209_AS_project_data/USCHADmodels/DeepConvLSTMUSCHAD_withscale_4/assets\n"
          ]
        },
        {
          "output_type": "stream",
          "name": "stderr",
          "text": [
            "INFO:tensorflow:Assets written to: /content/drive/My Drive/ECE_209_AS_project_data/USCHADmodels/DeepConvLSTMUSCHAD_withscale_4/assets\n"
          ]
        },
        {
          "output_type": "stream",
          "name": "stdout",
          "text": [
            "INFO:tensorflow:Assets written to: /content/drive/My Drive/ECE_209_AS_project_data/USCHADmodels/DeepConvLSTMUSCHAD_withscale_4/assets\n"
          ]
        },
        {
          "output_type": "stream",
          "name": "stderr",
          "text": [
            "INFO:tensorflow:Assets written to: /content/drive/My Drive/ECE_209_AS_project_data/USCHADmodels/DeepConvLSTMUSCHAD_withscale_4/assets\n"
          ]
        },
        {
          "output_type": "stream",
          "name": "stdout",
          "text": [
            "INFO:tensorflow:Assets written to: /content/drive/My Drive/ECE_209_AS_project_data/USCHADmodels/DeepConvLSTMUSCHAD_withscale_4/assets\n"
          ]
        },
        {
          "output_type": "stream",
          "name": "stderr",
          "text": [
            "INFO:tensorflow:Assets written to: /content/drive/My Drive/ECE_209_AS_project_data/USCHADmodels/DeepConvLSTMUSCHAD_withscale_4/assets\n"
          ]
        },
        {
          "output_type": "stream",
          "name": "stdout",
          "text": [
            "INFO:tensorflow:Assets written to: /content/drive/My Drive/ECE_209_AS_project_data/USCHADmodels/DeepConvLSTMUSCHAD_withscale_4/assets\n"
          ]
        },
        {
          "output_type": "stream",
          "name": "stderr",
          "text": [
            "INFO:tensorflow:Assets written to: /content/drive/My Drive/ECE_209_AS_project_data/USCHADmodels/DeepConvLSTMUSCHAD_withscale_4/assets\n"
          ]
        },
        {
          "output_type": "stream",
          "name": "stdout",
          "text": [
            "INFO:tensorflow:Assets written to: /content/drive/My Drive/ECE_209_AS_project_data/USCHADmodels/DeepConvLSTMUSCHAD_withscale_4/assets\n"
          ]
        },
        {
          "output_type": "stream",
          "name": "stderr",
          "text": [
            "INFO:tensorflow:Assets written to: /content/drive/My Drive/ECE_209_AS_project_data/USCHADmodels/DeepConvLSTMUSCHAD_withscale_4/assets\n"
          ]
        },
        {
          "output_type": "stream",
          "name": "stdout",
          "text": [
            "INFO:tensorflow:Assets written to: /content/drive/My Drive/ECE_209_AS_project_data/USCHADmodels/DeepConvLSTMUSCHAD_withscale_4/assets\n"
          ]
        },
        {
          "output_type": "stream",
          "name": "stderr",
          "text": [
            "INFO:tensorflow:Assets written to: /content/drive/My Drive/ECE_209_AS_project_data/USCHADmodels/DeepConvLSTMUSCHAD_withscale_4/assets\n"
          ]
        },
        {
          "output_type": "stream",
          "name": "stdout",
          "text": [
            "INFO:tensorflow:Assets written to: /content/drive/My Drive/ECE_209_AS_project_data/USCHADmodels/DeepConvLSTMUSCHAD_withscale_4/assets\n"
          ]
        },
        {
          "output_type": "stream",
          "name": "stderr",
          "text": [
            "INFO:tensorflow:Assets written to: /content/drive/My Drive/ECE_209_AS_project_data/USCHADmodels/DeepConvLSTMUSCHAD_withscale_4/assets\n"
          ]
        },
        {
          "output_type": "stream",
          "name": "stdout",
          "text": [
            "INFO:tensorflow:Assets written to: /content/drive/My Drive/ECE_209_AS_project_data/USCHADmodels/DeepConvLSTMUSCHAD_withscale_4/assets\n"
          ]
        },
        {
          "output_type": "stream",
          "name": "stderr",
          "text": [
            "INFO:tensorflow:Assets written to: /content/drive/My Drive/ECE_209_AS_project_data/USCHADmodels/DeepConvLSTMUSCHAD_withscale_4/assets\n"
          ]
        },
        {
          "output_type": "stream",
          "name": "stdout",
          "text": [
            "INFO:tensorflow:Assets written to: /content/drive/My Drive/ECE_209_AS_project_data/USCHADmodels/DeepConvLSTMUSCHAD_withscale_4/assets\n"
          ]
        },
        {
          "output_type": "stream",
          "name": "stderr",
          "text": [
            "INFO:tensorflow:Assets written to: /content/drive/My Drive/ECE_209_AS_project_data/USCHADmodels/DeepConvLSTMUSCHAD_withscale_4/assets\n"
          ]
        },
        {
          "output_type": "stream",
          "name": "stdout",
          "text": [
            "INFO:tensorflow:Assets written to: /content/drive/My Drive/ECE_209_AS_project_data/USCHADmodels/DeepConvLSTMUSCHAD_withscale_4/assets\n"
          ]
        },
        {
          "output_type": "stream",
          "name": "stderr",
          "text": [
            "INFO:tensorflow:Assets written to: /content/drive/My Drive/ECE_209_AS_project_data/USCHADmodels/DeepConvLSTMUSCHAD_withscale_4/assets\n"
          ]
        },
        {
          "output_type": "stream",
          "name": "stdout",
          "text": [
            "tf.Tensor(0.8823711, shape=(), dtype=float32)\n"
          ]
        }
      ]
    },
    {
      "cell_type": "code",
      "source": [
        "test_accuracies_scale = []\n",
        "recall_scores_scale = []\n",
        "\n",
        "for i in range(5):\n",
        "\n",
        "  model_saved = keras.models.load_model(path_to_models + f\"DeepConvLSTMUSCHAD_withscale_{i}\")\n",
        "  test_accuracy = tf.keras.metrics.Accuracy()\n",
        "  logits = model_saved(X_test, training=False)\n",
        "  prediction = tf.argmax(logits, axis=1, output_type=tf.int32)\n",
        "  test_accuracies_scale.append(test_accuracy(prediction, Y_test))\n",
        "  recall_scores_scale.append(recall_score(Y_test, prediction, average=None))  "
      ],
      "metadata": {
        "id": "DSNhoZFenfKI"
      },
      "id": "DSNhoZFenfKI",
      "execution_count": 33,
      "outputs": []
    },
    {
      "cell_type": "code",
      "source": [
        "sum_ac = 0\n",
        "\n",
        "for ac in test_accuracies_scale:\n",
        "\n",
        "  sum_ac += ac.numpy()\n",
        "\n",
        "print(f\"Mean accuracy is {round(sum_ac/len(test_accuracies_scale), 2)}\")"
      ],
      "metadata": {
        "colab": {
          "base_uri": "https://localhost:8080/"
        },
        "id": "_ehiKcFbQ1Mo",
        "outputId": "d6107dce-9f60-4d60-d97e-c4b6b2c042e9"
      },
      "id": "_ehiKcFbQ1Mo",
      "execution_count": 34,
      "outputs": [
        {
          "output_type": "stream",
          "name": "stdout",
          "text": [
            "Mean accuracy is 0.91\n"
          ]
        }
      ]
    },
    {
      "cell_type": "code",
      "source": [
        "mean_recall_scores_with_scale  = sum(recall_scores_scale)/len(recall_scores_scale)\n",
        "\n",
        "for i in range(len(mean_recall_scores_with_scale)):\n",
        "\n",
        "  print(f\"Label {data_class_names[i]} has mean accuracy {round(mean_recall_scores_with_scale[i], 2)}\")"
      ],
      "metadata": {
        "colab": {
          "base_uri": "https://localhost:8080/"
        },
        "id": "-2iPrKIqQ19f",
        "outputId": "13c5ba2e-da86-44d4-dfcd-315f2e3b4884"
      },
      "id": "-2iPrKIqQ19f",
      "execution_count": 35,
      "outputs": [
        {
          "output_type": "stream",
          "name": "stdout",
          "text": [
            "Label walking forward has mean accuracy 0.95\n",
            "Label walking left has mean accuracy 0.95\n",
            "Label walking right has mean accuracy 0.95\n",
            "Label walking upstairs has mean accuracy 0.98\n",
            "Label walking downstairs has mean accuracy 0.96\n",
            "Label running forward has mean accuracy 0.99\n",
            "Label jumping has mean accuracy 0.97\n",
            "Label sitting has mean accuracy 0.97\n",
            "Label standing  has mean accuracy 0.89\n",
            "Label sleeping  has mean accuracy 1.0\n",
            "Label elevator up has mean accuracy 0.37\n",
            "Label elevator down has mean accuracy 0.64\n"
          ]
        }
      ]
    },
    {
      "cell_type": "markdown",
      "source": [
        "### Magnify"
      ],
      "metadata": {
        "id": "S2PimZmNROfy"
      },
      "id": "S2PimZmNROfy"
    },
    {
      "cell_type": "code",
      "source": [
        "test_accuracies_magnify = []\n",
        "recall_scores_magnify = []\n",
        "\n",
        "for i in range(5):\n",
        "\n",
        "  rnd_seed = seeds[i]\n",
        "  tf.random.set_seed(rnd_seed)\n",
        "  indices = np.random.RandomState(seed=rnd_seed).permutation(len(X_train))\n",
        "  X_train = X_train[indices]\n",
        "  Y_train = Y_train[indices]\n",
        "\n",
        "  X_train_magnify = magnify((X_train))\n",
        "  Xtrain_tot=np.concatenate((X_train, X_train_magnify))\n",
        "  Y_train_tot = np.concatenate((Y_train, Y_train))\n",
        "\n",
        "  train_data = Xtrain_tot[len(Xtrain_tot)//10:]\n",
        "  train_labels = Y_train_tot[len(Xtrain_tot)//10:]\n",
        "  val_data = Xtrain_tot[:len(Xtrain_tot)//10]\n",
        "  val_labels = Y_train_tot[:len(Xtrain_tot)//10]\n",
        "\n",
        "  model = keras.Model(inputs = inputs, outputs = outputs)\n",
        "  model.compile(loss = \"sparse_categorical_crossentropy\", optimizer = \"adam\", metrics=[\"accuracy\"])\n",
        "  tensorboard = keras.callbacks.TensorBoard(log_dir = path_to_logs)\n",
        "  callbacks = [keras.callbacks.ModelCheckpoint(filepath=path_to_models + f\"DeepConvLSTMUSCHAD_withmag_{i}\"), tensorboard, keras.callbacks.EarlyStopping(monitor='val_loss', patience=10)]\n",
        "  history = model.fit(train_data, train_labels, epochs = 25, batch_size = 64, validation_data = (val_data, val_labels), callbacks = callbacks, class_weight = data_class_weights, verbose = False)\n",
        "\n",
        "  model_saved = keras.models.load_model(path_to_models + f\"DeepConvLSTMUSCHAD_withmag_{i}\")\n",
        "  test_accuracy = tf.keras.metrics.Accuracy()\n",
        "  logits = model_saved(X_test, training=False)\n",
        "  prediction = tf.argmax(logits, axis=1, output_type=tf.int32)\n",
        "  test_accuracies_magnify.append(test_accuracy(prediction, Y_test))\n",
        "  print(test_accuracy(prediction, Y_test))\n",
        "  recall_scores_magnify.append(recall_score(Y_test, prediction, average=None))"
      ],
      "metadata": {
        "colab": {
          "base_uri": "https://localhost:8080/"
        },
        "id": "xZJiAvacRVQ-",
        "outputId": "f103ba9b-302f-41b2-811e-a23770aed3de"
      },
      "execution_count": 39,
      "outputs": [
        {
          "output_type": "stream",
          "name": "stdout",
          "text": [
            "INFO:tensorflow:Assets written to: /content/drive/My Drive/ECE_209_AS_project_data/USCHADmodels/DeepConvLSTMUSCHAD_withmag_0/assets\n"
          ]
        },
        {
          "output_type": "stream",
          "name": "stderr",
          "text": [
            "INFO:tensorflow:Assets written to: /content/drive/My Drive/ECE_209_AS_project_data/USCHADmodels/DeepConvLSTMUSCHAD_withmag_0/assets\n"
          ]
        },
        {
          "output_type": "stream",
          "name": "stdout",
          "text": [
            "INFO:tensorflow:Assets written to: /content/drive/My Drive/ECE_209_AS_project_data/USCHADmodels/DeepConvLSTMUSCHAD_withmag_0/assets\n"
          ]
        },
        {
          "output_type": "stream",
          "name": "stderr",
          "text": [
            "INFO:tensorflow:Assets written to: /content/drive/My Drive/ECE_209_AS_project_data/USCHADmodels/DeepConvLSTMUSCHAD_withmag_0/assets\n"
          ]
        },
        {
          "output_type": "stream",
          "name": "stdout",
          "text": [
            "INFO:tensorflow:Assets written to: /content/drive/My Drive/ECE_209_AS_project_data/USCHADmodels/DeepConvLSTMUSCHAD_withmag_0/assets\n"
          ]
        },
        {
          "output_type": "stream",
          "name": "stderr",
          "text": [
            "INFO:tensorflow:Assets written to: /content/drive/My Drive/ECE_209_AS_project_data/USCHADmodels/DeepConvLSTMUSCHAD_withmag_0/assets\n"
          ]
        },
        {
          "output_type": "stream",
          "name": "stdout",
          "text": [
            "INFO:tensorflow:Assets written to: /content/drive/My Drive/ECE_209_AS_project_data/USCHADmodels/DeepConvLSTMUSCHAD_withmag_0/assets\n"
          ]
        },
        {
          "output_type": "stream",
          "name": "stderr",
          "text": [
            "INFO:tensorflow:Assets written to: /content/drive/My Drive/ECE_209_AS_project_data/USCHADmodels/DeepConvLSTMUSCHAD_withmag_0/assets\n"
          ]
        },
        {
          "output_type": "stream",
          "name": "stdout",
          "text": [
            "INFO:tensorflow:Assets written to: /content/drive/My Drive/ECE_209_AS_project_data/USCHADmodels/DeepConvLSTMUSCHAD_withmag_0/assets\n"
          ]
        },
        {
          "output_type": "stream",
          "name": "stderr",
          "text": [
            "INFO:tensorflow:Assets written to: /content/drive/My Drive/ECE_209_AS_project_data/USCHADmodels/DeepConvLSTMUSCHAD_withmag_0/assets\n"
          ]
        },
        {
          "output_type": "stream",
          "name": "stdout",
          "text": [
            "INFO:tensorflow:Assets written to: /content/drive/My Drive/ECE_209_AS_project_data/USCHADmodels/DeepConvLSTMUSCHAD_withmag_0/assets\n"
          ]
        },
        {
          "output_type": "stream",
          "name": "stderr",
          "text": [
            "INFO:tensorflow:Assets written to: /content/drive/My Drive/ECE_209_AS_project_data/USCHADmodels/DeepConvLSTMUSCHAD_withmag_0/assets\n"
          ]
        },
        {
          "output_type": "stream",
          "name": "stdout",
          "text": [
            "INFO:tensorflow:Assets written to: /content/drive/My Drive/ECE_209_AS_project_data/USCHADmodels/DeepConvLSTMUSCHAD_withmag_0/assets\n"
          ]
        },
        {
          "output_type": "stream",
          "name": "stderr",
          "text": [
            "INFO:tensorflow:Assets written to: /content/drive/My Drive/ECE_209_AS_project_data/USCHADmodels/DeepConvLSTMUSCHAD_withmag_0/assets\n"
          ]
        },
        {
          "output_type": "stream",
          "name": "stdout",
          "text": [
            "INFO:tensorflow:Assets written to: /content/drive/My Drive/ECE_209_AS_project_data/USCHADmodels/DeepConvLSTMUSCHAD_withmag_0/assets\n"
          ]
        },
        {
          "output_type": "stream",
          "name": "stderr",
          "text": [
            "INFO:tensorflow:Assets written to: /content/drive/My Drive/ECE_209_AS_project_data/USCHADmodels/DeepConvLSTMUSCHAD_withmag_0/assets\n"
          ]
        },
        {
          "output_type": "stream",
          "name": "stdout",
          "text": [
            "INFO:tensorflow:Assets written to: /content/drive/My Drive/ECE_209_AS_project_data/USCHADmodels/DeepConvLSTMUSCHAD_withmag_0/assets\n"
          ]
        },
        {
          "output_type": "stream",
          "name": "stderr",
          "text": [
            "INFO:tensorflow:Assets written to: /content/drive/My Drive/ECE_209_AS_project_data/USCHADmodels/DeepConvLSTMUSCHAD_withmag_0/assets\n"
          ]
        },
        {
          "output_type": "stream",
          "name": "stdout",
          "text": [
            "INFO:tensorflow:Assets written to: /content/drive/My Drive/ECE_209_AS_project_data/USCHADmodels/DeepConvLSTMUSCHAD_withmag_0/assets\n"
          ]
        },
        {
          "output_type": "stream",
          "name": "stderr",
          "text": [
            "INFO:tensorflow:Assets written to: /content/drive/My Drive/ECE_209_AS_project_data/USCHADmodels/DeepConvLSTMUSCHAD_withmag_0/assets\n"
          ]
        },
        {
          "output_type": "stream",
          "name": "stdout",
          "text": [
            "INFO:tensorflow:Assets written to: /content/drive/My Drive/ECE_209_AS_project_data/USCHADmodels/DeepConvLSTMUSCHAD_withmag_0/assets\n"
          ]
        },
        {
          "output_type": "stream",
          "name": "stderr",
          "text": [
            "INFO:tensorflow:Assets written to: /content/drive/My Drive/ECE_209_AS_project_data/USCHADmodels/DeepConvLSTMUSCHAD_withmag_0/assets\n"
          ]
        },
        {
          "output_type": "stream",
          "name": "stdout",
          "text": [
            "INFO:tensorflow:Assets written to: /content/drive/My Drive/ECE_209_AS_project_data/USCHADmodels/DeepConvLSTMUSCHAD_withmag_0/assets\n"
          ]
        },
        {
          "output_type": "stream",
          "name": "stderr",
          "text": [
            "INFO:tensorflow:Assets written to: /content/drive/My Drive/ECE_209_AS_project_data/USCHADmodels/DeepConvLSTMUSCHAD_withmag_0/assets\n"
          ]
        },
        {
          "output_type": "stream",
          "name": "stdout",
          "text": [
            "INFO:tensorflow:Assets written to: /content/drive/My Drive/ECE_209_AS_project_data/USCHADmodels/DeepConvLSTMUSCHAD_withmag_0/assets\n"
          ]
        },
        {
          "output_type": "stream",
          "name": "stderr",
          "text": [
            "INFO:tensorflow:Assets written to: /content/drive/My Drive/ECE_209_AS_project_data/USCHADmodels/DeepConvLSTMUSCHAD_withmag_0/assets\n"
          ]
        },
        {
          "output_type": "stream",
          "name": "stdout",
          "text": [
            "INFO:tensorflow:Assets written to: /content/drive/My Drive/ECE_209_AS_project_data/USCHADmodels/DeepConvLSTMUSCHAD_withmag_0/assets\n"
          ]
        },
        {
          "output_type": "stream",
          "name": "stderr",
          "text": [
            "INFO:tensorflow:Assets written to: /content/drive/My Drive/ECE_209_AS_project_data/USCHADmodels/DeepConvLSTMUSCHAD_withmag_0/assets\n"
          ]
        },
        {
          "output_type": "stream",
          "name": "stdout",
          "text": [
            "INFO:tensorflow:Assets written to: /content/drive/My Drive/ECE_209_AS_project_data/USCHADmodels/DeepConvLSTMUSCHAD_withmag_0/assets\n"
          ]
        },
        {
          "output_type": "stream",
          "name": "stderr",
          "text": [
            "INFO:tensorflow:Assets written to: /content/drive/My Drive/ECE_209_AS_project_data/USCHADmodels/DeepConvLSTMUSCHAD_withmag_0/assets\n"
          ]
        },
        {
          "output_type": "stream",
          "name": "stdout",
          "text": [
            "INFO:tensorflow:Assets written to: /content/drive/My Drive/ECE_209_AS_project_data/USCHADmodels/DeepConvLSTMUSCHAD_withmag_0/assets\n"
          ]
        },
        {
          "output_type": "stream",
          "name": "stderr",
          "text": [
            "INFO:tensorflow:Assets written to: /content/drive/My Drive/ECE_209_AS_project_data/USCHADmodels/DeepConvLSTMUSCHAD_withmag_0/assets\n"
          ]
        },
        {
          "output_type": "stream",
          "name": "stdout",
          "text": [
            "tf.Tensor(0.8714109, shape=(), dtype=float32)\n",
            "INFO:tensorflow:Assets written to: /content/drive/My Drive/ECE_209_AS_project_data/USCHADmodels/DeepConvLSTMUSCHAD_withmag_1/assets\n"
          ]
        },
        {
          "output_type": "stream",
          "name": "stderr",
          "text": [
            "INFO:tensorflow:Assets written to: /content/drive/My Drive/ECE_209_AS_project_data/USCHADmodels/DeepConvLSTMUSCHAD_withmag_1/assets\n"
          ]
        },
        {
          "output_type": "stream",
          "name": "stdout",
          "text": [
            "INFO:tensorflow:Assets written to: /content/drive/My Drive/ECE_209_AS_project_data/USCHADmodels/DeepConvLSTMUSCHAD_withmag_1/assets\n"
          ]
        },
        {
          "output_type": "stream",
          "name": "stderr",
          "text": [
            "INFO:tensorflow:Assets written to: /content/drive/My Drive/ECE_209_AS_project_data/USCHADmodels/DeepConvLSTMUSCHAD_withmag_1/assets\n"
          ]
        },
        {
          "output_type": "stream",
          "name": "stdout",
          "text": [
            "INFO:tensorflow:Assets written to: /content/drive/My Drive/ECE_209_AS_project_data/USCHADmodels/DeepConvLSTMUSCHAD_withmag_1/assets\n"
          ]
        },
        {
          "output_type": "stream",
          "name": "stderr",
          "text": [
            "INFO:tensorflow:Assets written to: /content/drive/My Drive/ECE_209_AS_project_data/USCHADmodels/DeepConvLSTMUSCHAD_withmag_1/assets\n"
          ]
        },
        {
          "output_type": "stream",
          "name": "stdout",
          "text": [
            "INFO:tensorflow:Assets written to: /content/drive/My Drive/ECE_209_AS_project_data/USCHADmodels/DeepConvLSTMUSCHAD_withmag_1/assets\n"
          ]
        },
        {
          "output_type": "stream",
          "name": "stderr",
          "text": [
            "INFO:tensorflow:Assets written to: /content/drive/My Drive/ECE_209_AS_project_data/USCHADmodels/DeepConvLSTMUSCHAD_withmag_1/assets\n"
          ]
        },
        {
          "output_type": "stream",
          "name": "stdout",
          "text": [
            "INFO:tensorflow:Assets written to: /content/drive/My Drive/ECE_209_AS_project_data/USCHADmodels/DeepConvLSTMUSCHAD_withmag_1/assets\n"
          ]
        },
        {
          "output_type": "stream",
          "name": "stderr",
          "text": [
            "INFO:tensorflow:Assets written to: /content/drive/My Drive/ECE_209_AS_project_data/USCHADmodels/DeepConvLSTMUSCHAD_withmag_1/assets\n"
          ]
        },
        {
          "output_type": "stream",
          "name": "stdout",
          "text": [
            "INFO:tensorflow:Assets written to: /content/drive/My Drive/ECE_209_AS_project_data/USCHADmodels/DeepConvLSTMUSCHAD_withmag_1/assets\n"
          ]
        },
        {
          "output_type": "stream",
          "name": "stderr",
          "text": [
            "INFO:tensorflow:Assets written to: /content/drive/My Drive/ECE_209_AS_project_data/USCHADmodels/DeepConvLSTMUSCHAD_withmag_1/assets\n"
          ]
        },
        {
          "output_type": "stream",
          "name": "stdout",
          "text": [
            "INFO:tensorflow:Assets written to: /content/drive/My Drive/ECE_209_AS_project_data/USCHADmodels/DeepConvLSTMUSCHAD_withmag_1/assets\n"
          ]
        },
        {
          "output_type": "stream",
          "name": "stderr",
          "text": [
            "INFO:tensorflow:Assets written to: /content/drive/My Drive/ECE_209_AS_project_data/USCHADmodels/DeepConvLSTMUSCHAD_withmag_1/assets\n"
          ]
        },
        {
          "output_type": "stream",
          "name": "stdout",
          "text": [
            "INFO:tensorflow:Assets written to: /content/drive/My Drive/ECE_209_AS_project_data/USCHADmodels/DeepConvLSTMUSCHAD_withmag_1/assets\n"
          ]
        },
        {
          "output_type": "stream",
          "name": "stderr",
          "text": [
            "INFO:tensorflow:Assets written to: /content/drive/My Drive/ECE_209_AS_project_data/USCHADmodels/DeepConvLSTMUSCHAD_withmag_1/assets\n"
          ]
        },
        {
          "output_type": "stream",
          "name": "stdout",
          "text": [
            "INFO:tensorflow:Assets written to: /content/drive/My Drive/ECE_209_AS_project_data/USCHADmodels/DeepConvLSTMUSCHAD_withmag_1/assets\n"
          ]
        },
        {
          "output_type": "stream",
          "name": "stderr",
          "text": [
            "INFO:tensorflow:Assets written to: /content/drive/My Drive/ECE_209_AS_project_data/USCHADmodels/DeepConvLSTMUSCHAD_withmag_1/assets\n"
          ]
        },
        {
          "output_type": "stream",
          "name": "stdout",
          "text": [
            "INFO:tensorflow:Assets written to: /content/drive/My Drive/ECE_209_AS_project_data/USCHADmodels/DeepConvLSTMUSCHAD_withmag_1/assets\n"
          ]
        },
        {
          "output_type": "stream",
          "name": "stderr",
          "text": [
            "INFO:tensorflow:Assets written to: /content/drive/My Drive/ECE_209_AS_project_data/USCHADmodels/DeepConvLSTMUSCHAD_withmag_1/assets\n"
          ]
        },
        {
          "output_type": "stream",
          "name": "stdout",
          "text": [
            "INFO:tensorflow:Assets written to: /content/drive/My Drive/ECE_209_AS_project_data/USCHADmodels/DeepConvLSTMUSCHAD_withmag_1/assets\n"
          ]
        },
        {
          "output_type": "stream",
          "name": "stderr",
          "text": [
            "INFO:tensorflow:Assets written to: /content/drive/My Drive/ECE_209_AS_project_data/USCHADmodels/DeepConvLSTMUSCHAD_withmag_1/assets\n"
          ]
        },
        {
          "output_type": "stream",
          "name": "stdout",
          "text": [
            "INFO:tensorflow:Assets written to: /content/drive/My Drive/ECE_209_AS_project_data/USCHADmodels/DeepConvLSTMUSCHAD_withmag_1/assets\n"
          ]
        },
        {
          "output_type": "stream",
          "name": "stderr",
          "text": [
            "INFO:tensorflow:Assets written to: /content/drive/My Drive/ECE_209_AS_project_data/USCHADmodels/DeepConvLSTMUSCHAD_withmag_1/assets\n"
          ]
        },
        {
          "output_type": "stream",
          "name": "stdout",
          "text": [
            "INFO:tensorflow:Assets written to: /content/drive/My Drive/ECE_209_AS_project_data/USCHADmodels/DeepConvLSTMUSCHAD_withmag_1/assets\n"
          ]
        },
        {
          "output_type": "stream",
          "name": "stderr",
          "text": [
            "INFO:tensorflow:Assets written to: /content/drive/My Drive/ECE_209_AS_project_data/USCHADmodels/DeepConvLSTMUSCHAD_withmag_1/assets\n"
          ]
        },
        {
          "output_type": "stream",
          "name": "stdout",
          "text": [
            "INFO:tensorflow:Assets written to: /content/drive/My Drive/ECE_209_AS_project_data/USCHADmodels/DeepConvLSTMUSCHAD_withmag_1/assets\n"
          ]
        },
        {
          "output_type": "stream",
          "name": "stderr",
          "text": [
            "INFO:tensorflow:Assets written to: /content/drive/My Drive/ECE_209_AS_project_data/USCHADmodels/DeepConvLSTMUSCHAD_withmag_1/assets\n"
          ]
        },
        {
          "output_type": "stream",
          "name": "stdout",
          "text": [
            "INFO:tensorflow:Assets written to: /content/drive/My Drive/ECE_209_AS_project_data/USCHADmodels/DeepConvLSTMUSCHAD_withmag_1/assets\n"
          ]
        },
        {
          "output_type": "stream",
          "name": "stderr",
          "text": [
            "INFO:tensorflow:Assets written to: /content/drive/My Drive/ECE_209_AS_project_data/USCHADmodels/DeepConvLSTMUSCHAD_withmag_1/assets\n"
          ]
        },
        {
          "output_type": "stream",
          "name": "stdout",
          "text": [
            "INFO:tensorflow:Assets written to: /content/drive/My Drive/ECE_209_AS_project_data/USCHADmodels/DeepConvLSTMUSCHAD_withmag_1/assets\n"
          ]
        },
        {
          "output_type": "stream",
          "name": "stderr",
          "text": [
            "INFO:tensorflow:Assets written to: /content/drive/My Drive/ECE_209_AS_project_data/USCHADmodels/DeepConvLSTMUSCHAD_withmag_1/assets\n"
          ]
        },
        {
          "output_type": "stream",
          "name": "stdout",
          "text": [
            "INFO:tensorflow:Assets written to: /content/drive/My Drive/ECE_209_AS_project_data/USCHADmodels/DeepConvLSTMUSCHAD_withmag_1/assets\n"
          ]
        },
        {
          "output_type": "stream",
          "name": "stderr",
          "text": [
            "INFO:tensorflow:Assets written to: /content/drive/My Drive/ECE_209_AS_project_data/USCHADmodels/DeepConvLSTMUSCHAD_withmag_1/assets\n"
          ]
        },
        {
          "output_type": "stream",
          "name": "stdout",
          "text": [
            "INFO:tensorflow:Assets written to: /content/drive/My Drive/ECE_209_AS_project_data/USCHADmodels/DeepConvLSTMUSCHAD_withmag_1/assets\n"
          ]
        },
        {
          "output_type": "stream",
          "name": "stderr",
          "text": [
            "INFO:tensorflow:Assets written to: /content/drive/My Drive/ECE_209_AS_project_data/USCHADmodels/DeepConvLSTMUSCHAD_withmag_1/assets\n"
          ]
        },
        {
          "output_type": "stream",
          "name": "stdout",
          "text": [
            "INFO:tensorflow:Assets written to: /content/drive/My Drive/ECE_209_AS_project_data/USCHADmodels/DeepConvLSTMUSCHAD_withmag_1/assets\n"
          ]
        },
        {
          "output_type": "stream",
          "name": "stderr",
          "text": [
            "INFO:tensorflow:Assets written to: /content/drive/My Drive/ECE_209_AS_project_data/USCHADmodels/DeepConvLSTMUSCHAD_withmag_1/assets\n"
          ]
        },
        {
          "output_type": "stream",
          "name": "stdout",
          "text": [
            "INFO:tensorflow:Assets written to: /content/drive/My Drive/ECE_209_AS_project_data/USCHADmodels/DeepConvLSTMUSCHAD_withmag_1/assets\n"
          ]
        },
        {
          "output_type": "stream",
          "name": "stderr",
          "text": [
            "INFO:tensorflow:Assets written to: /content/drive/My Drive/ECE_209_AS_project_data/USCHADmodels/DeepConvLSTMUSCHAD_withmag_1/assets\n"
          ]
        },
        {
          "output_type": "stream",
          "name": "stdout",
          "text": [
            "INFO:tensorflow:Assets written to: /content/drive/My Drive/ECE_209_AS_project_data/USCHADmodels/DeepConvLSTMUSCHAD_withmag_1/assets\n"
          ]
        },
        {
          "output_type": "stream",
          "name": "stderr",
          "text": [
            "INFO:tensorflow:Assets written to: /content/drive/My Drive/ECE_209_AS_project_data/USCHADmodels/DeepConvLSTMUSCHAD_withmag_1/assets\n"
          ]
        },
        {
          "output_type": "stream",
          "name": "stdout",
          "text": [
            "INFO:tensorflow:Assets written to: /content/drive/My Drive/ECE_209_AS_project_data/USCHADmodels/DeepConvLSTMUSCHAD_withmag_1/assets\n"
          ]
        },
        {
          "output_type": "stream",
          "name": "stderr",
          "text": [
            "INFO:tensorflow:Assets written to: /content/drive/My Drive/ECE_209_AS_project_data/USCHADmodels/DeepConvLSTMUSCHAD_withmag_1/assets\n"
          ]
        },
        {
          "output_type": "stream",
          "name": "stdout",
          "text": [
            "INFO:tensorflow:Assets written to: /content/drive/My Drive/ECE_209_AS_project_data/USCHADmodels/DeepConvLSTMUSCHAD_withmag_1/assets\n"
          ]
        },
        {
          "output_type": "stream",
          "name": "stderr",
          "text": [
            "INFO:tensorflow:Assets written to: /content/drive/My Drive/ECE_209_AS_project_data/USCHADmodels/DeepConvLSTMUSCHAD_withmag_1/assets\n"
          ]
        },
        {
          "output_type": "stream",
          "name": "stdout",
          "text": [
            "INFO:tensorflow:Assets written to: /content/drive/My Drive/ECE_209_AS_project_data/USCHADmodels/DeepConvLSTMUSCHAD_withmag_1/assets\n"
          ]
        },
        {
          "output_type": "stream",
          "name": "stderr",
          "text": [
            "INFO:tensorflow:Assets written to: /content/drive/My Drive/ECE_209_AS_project_data/USCHADmodels/DeepConvLSTMUSCHAD_withmag_1/assets\n"
          ]
        },
        {
          "output_type": "stream",
          "name": "stdout",
          "text": [
            "INFO:tensorflow:Assets written to: /content/drive/My Drive/ECE_209_AS_project_data/USCHADmodels/DeepConvLSTMUSCHAD_withmag_1/assets\n"
          ]
        },
        {
          "output_type": "stream",
          "name": "stderr",
          "text": [
            "INFO:tensorflow:Assets written to: /content/drive/My Drive/ECE_209_AS_project_data/USCHADmodels/DeepConvLSTMUSCHAD_withmag_1/assets\n"
          ]
        },
        {
          "output_type": "stream",
          "name": "stdout",
          "text": [
            "tf.Tensor(0.873109, shape=(), dtype=float32)\n",
            "INFO:tensorflow:Assets written to: /content/drive/My Drive/ECE_209_AS_project_data/USCHADmodels/DeepConvLSTMUSCHAD_withmag_2/assets\n"
          ]
        },
        {
          "output_type": "stream",
          "name": "stderr",
          "text": [
            "INFO:tensorflow:Assets written to: /content/drive/My Drive/ECE_209_AS_project_data/USCHADmodels/DeepConvLSTMUSCHAD_withmag_2/assets\n"
          ]
        },
        {
          "output_type": "stream",
          "name": "stdout",
          "text": [
            "INFO:tensorflow:Assets written to: /content/drive/My Drive/ECE_209_AS_project_data/USCHADmodels/DeepConvLSTMUSCHAD_withmag_2/assets\n"
          ]
        },
        {
          "output_type": "stream",
          "name": "stderr",
          "text": [
            "INFO:tensorflow:Assets written to: /content/drive/My Drive/ECE_209_AS_project_data/USCHADmodels/DeepConvLSTMUSCHAD_withmag_2/assets\n"
          ]
        },
        {
          "output_type": "stream",
          "name": "stdout",
          "text": [
            "INFO:tensorflow:Assets written to: /content/drive/My Drive/ECE_209_AS_project_data/USCHADmodels/DeepConvLSTMUSCHAD_withmag_2/assets\n"
          ]
        },
        {
          "output_type": "stream",
          "name": "stderr",
          "text": [
            "INFO:tensorflow:Assets written to: /content/drive/My Drive/ECE_209_AS_project_data/USCHADmodels/DeepConvLSTMUSCHAD_withmag_2/assets\n"
          ]
        },
        {
          "output_type": "stream",
          "name": "stdout",
          "text": [
            "INFO:tensorflow:Assets written to: /content/drive/My Drive/ECE_209_AS_project_data/USCHADmodels/DeepConvLSTMUSCHAD_withmag_2/assets\n"
          ]
        },
        {
          "output_type": "stream",
          "name": "stderr",
          "text": [
            "INFO:tensorflow:Assets written to: /content/drive/My Drive/ECE_209_AS_project_data/USCHADmodels/DeepConvLSTMUSCHAD_withmag_2/assets\n"
          ]
        },
        {
          "output_type": "stream",
          "name": "stdout",
          "text": [
            "INFO:tensorflow:Assets written to: /content/drive/My Drive/ECE_209_AS_project_data/USCHADmodels/DeepConvLSTMUSCHAD_withmag_2/assets\n"
          ]
        },
        {
          "output_type": "stream",
          "name": "stderr",
          "text": [
            "INFO:tensorflow:Assets written to: /content/drive/My Drive/ECE_209_AS_project_data/USCHADmodels/DeepConvLSTMUSCHAD_withmag_2/assets\n"
          ]
        },
        {
          "output_type": "stream",
          "name": "stdout",
          "text": [
            "INFO:tensorflow:Assets written to: /content/drive/My Drive/ECE_209_AS_project_data/USCHADmodels/DeepConvLSTMUSCHAD_withmag_2/assets\n"
          ]
        },
        {
          "output_type": "stream",
          "name": "stderr",
          "text": [
            "INFO:tensorflow:Assets written to: /content/drive/My Drive/ECE_209_AS_project_data/USCHADmodels/DeepConvLSTMUSCHAD_withmag_2/assets\n"
          ]
        },
        {
          "output_type": "stream",
          "name": "stdout",
          "text": [
            "INFO:tensorflow:Assets written to: /content/drive/My Drive/ECE_209_AS_project_data/USCHADmodels/DeepConvLSTMUSCHAD_withmag_2/assets\n"
          ]
        },
        {
          "output_type": "stream",
          "name": "stderr",
          "text": [
            "INFO:tensorflow:Assets written to: /content/drive/My Drive/ECE_209_AS_project_data/USCHADmodels/DeepConvLSTMUSCHAD_withmag_2/assets\n"
          ]
        },
        {
          "output_type": "stream",
          "name": "stdout",
          "text": [
            "INFO:tensorflow:Assets written to: /content/drive/My Drive/ECE_209_AS_project_data/USCHADmodels/DeepConvLSTMUSCHAD_withmag_2/assets\n"
          ]
        },
        {
          "output_type": "stream",
          "name": "stderr",
          "text": [
            "INFO:tensorflow:Assets written to: /content/drive/My Drive/ECE_209_AS_project_data/USCHADmodels/DeepConvLSTMUSCHAD_withmag_2/assets\n"
          ]
        },
        {
          "output_type": "stream",
          "name": "stdout",
          "text": [
            "INFO:tensorflow:Assets written to: /content/drive/My Drive/ECE_209_AS_project_data/USCHADmodels/DeepConvLSTMUSCHAD_withmag_2/assets\n"
          ]
        },
        {
          "output_type": "stream",
          "name": "stderr",
          "text": [
            "INFO:tensorflow:Assets written to: /content/drive/My Drive/ECE_209_AS_project_data/USCHADmodels/DeepConvLSTMUSCHAD_withmag_2/assets\n"
          ]
        },
        {
          "output_type": "stream",
          "name": "stdout",
          "text": [
            "INFO:tensorflow:Assets written to: /content/drive/My Drive/ECE_209_AS_project_data/USCHADmodels/DeepConvLSTMUSCHAD_withmag_2/assets\n"
          ]
        },
        {
          "output_type": "stream",
          "name": "stderr",
          "text": [
            "INFO:tensorflow:Assets written to: /content/drive/My Drive/ECE_209_AS_project_data/USCHADmodels/DeepConvLSTMUSCHAD_withmag_2/assets\n"
          ]
        },
        {
          "output_type": "stream",
          "name": "stdout",
          "text": [
            "INFO:tensorflow:Assets written to: /content/drive/My Drive/ECE_209_AS_project_data/USCHADmodels/DeepConvLSTMUSCHAD_withmag_2/assets\n"
          ]
        },
        {
          "output_type": "stream",
          "name": "stderr",
          "text": [
            "INFO:tensorflow:Assets written to: /content/drive/My Drive/ECE_209_AS_project_data/USCHADmodels/DeepConvLSTMUSCHAD_withmag_2/assets\n"
          ]
        },
        {
          "output_type": "stream",
          "name": "stdout",
          "text": [
            "INFO:tensorflow:Assets written to: /content/drive/My Drive/ECE_209_AS_project_data/USCHADmodels/DeepConvLSTMUSCHAD_withmag_2/assets\n"
          ]
        },
        {
          "output_type": "stream",
          "name": "stderr",
          "text": [
            "INFO:tensorflow:Assets written to: /content/drive/My Drive/ECE_209_AS_project_data/USCHADmodels/DeepConvLSTMUSCHAD_withmag_2/assets\n"
          ]
        },
        {
          "output_type": "stream",
          "name": "stdout",
          "text": [
            "INFO:tensorflow:Assets written to: /content/drive/My Drive/ECE_209_AS_project_data/USCHADmodels/DeepConvLSTMUSCHAD_withmag_2/assets\n"
          ]
        },
        {
          "output_type": "stream",
          "name": "stderr",
          "text": [
            "INFO:tensorflow:Assets written to: /content/drive/My Drive/ECE_209_AS_project_data/USCHADmodels/DeepConvLSTMUSCHAD_withmag_2/assets\n"
          ]
        },
        {
          "output_type": "stream",
          "name": "stdout",
          "text": [
            "INFO:tensorflow:Assets written to: /content/drive/My Drive/ECE_209_AS_project_data/USCHADmodels/DeepConvLSTMUSCHAD_withmag_2/assets\n"
          ]
        },
        {
          "output_type": "stream",
          "name": "stderr",
          "text": [
            "INFO:tensorflow:Assets written to: /content/drive/My Drive/ECE_209_AS_project_data/USCHADmodels/DeepConvLSTMUSCHAD_withmag_2/assets\n"
          ]
        },
        {
          "output_type": "stream",
          "name": "stdout",
          "text": [
            "INFO:tensorflow:Assets written to: /content/drive/My Drive/ECE_209_AS_project_data/USCHADmodels/DeepConvLSTMUSCHAD_withmag_2/assets\n"
          ]
        },
        {
          "output_type": "stream",
          "name": "stderr",
          "text": [
            "INFO:tensorflow:Assets written to: /content/drive/My Drive/ECE_209_AS_project_data/USCHADmodels/DeepConvLSTMUSCHAD_withmag_2/assets\n"
          ]
        },
        {
          "output_type": "stream",
          "name": "stdout",
          "text": [
            "INFO:tensorflow:Assets written to: /content/drive/My Drive/ECE_209_AS_project_data/USCHADmodels/DeepConvLSTMUSCHAD_withmag_2/assets\n"
          ]
        },
        {
          "output_type": "stream",
          "name": "stderr",
          "text": [
            "INFO:tensorflow:Assets written to: /content/drive/My Drive/ECE_209_AS_project_data/USCHADmodels/DeepConvLSTMUSCHAD_withmag_2/assets\n"
          ]
        },
        {
          "output_type": "stream",
          "name": "stdout",
          "text": [
            "INFO:tensorflow:Assets written to: /content/drive/My Drive/ECE_209_AS_project_data/USCHADmodels/DeepConvLSTMUSCHAD_withmag_2/assets\n"
          ]
        },
        {
          "output_type": "stream",
          "name": "stderr",
          "text": [
            "INFO:tensorflow:Assets written to: /content/drive/My Drive/ECE_209_AS_project_data/USCHADmodels/DeepConvLSTMUSCHAD_withmag_2/assets\n"
          ]
        },
        {
          "output_type": "stream",
          "name": "stdout",
          "text": [
            "INFO:tensorflow:Assets written to: /content/drive/My Drive/ECE_209_AS_project_data/USCHADmodels/DeepConvLSTMUSCHAD_withmag_2/assets\n"
          ]
        },
        {
          "output_type": "stream",
          "name": "stderr",
          "text": [
            "INFO:tensorflow:Assets written to: /content/drive/My Drive/ECE_209_AS_project_data/USCHADmodels/DeepConvLSTMUSCHAD_withmag_2/assets\n"
          ]
        },
        {
          "output_type": "stream",
          "name": "stdout",
          "text": [
            "INFO:tensorflow:Assets written to: /content/drive/My Drive/ECE_209_AS_project_data/USCHADmodels/DeepConvLSTMUSCHAD_withmag_2/assets\n"
          ]
        },
        {
          "output_type": "stream",
          "name": "stderr",
          "text": [
            "INFO:tensorflow:Assets written to: /content/drive/My Drive/ECE_209_AS_project_data/USCHADmodels/DeepConvLSTMUSCHAD_withmag_2/assets\n"
          ]
        },
        {
          "output_type": "stream",
          "name": "stdout",
          "text": [
            "INFO:tensorflow:Assets written to: /content/drive/My Drive/ECE_209_AS_project_data/USCHADmodels/DeepConvLSTMUSCHAD_withmag_2/assets\n"
          ]
        },
        {
          "output_type": "stream",
          "name": "stderr",
          "text": [
            "INFO:tensorflow:Assets written to: /content/drive/My Drive/ECE_209_AS_project_data/USCHADmodels/DeepConvLSTMUSCHAD_withmag_2/assets\n"
          ]
        },
        {
          "output_type": "stream",
          "name": "stdout",
          "text": [
            "tf.Tensor(0.8331275, shape=(), dtype=float32)\n",
            "INFO:tensorflow:Assets written to: /content/drive/My Drive/ECE_209_AS_project_data/USCHADmodels/DeepConvLSTMUSCHAD_withmag_3/assets\n"
          ]
        },
        {
          "output_type": "stream",
          "name": "stderr",
          "text": [
            "INFO:tensorflow:Assets written to: /content/drive/My Drive/ECE_209_AS_project_data/USCHADmodels/DeepConvLSTMUSCHAD_withmag_3/assets\n"
          ]
        },
        {
          "output_type": "stream",
          "name": "stdout",
          "text": [
            "INFO:tensorflow:Assets written to: /content/drive/My Drive/ECE_209_AS_project_data/USCHADmodels/DeepConvLSTMUSCHAD_withmag_3/assets\n"
          ]
        },
        {
          "output_type": "stream",
          "name": "stderr",
          "text": [
            "INFO:tensorflow:Assets written to: /content/drive/My Drive/ECE_209_AS_project_data/USCHADmodels/DeepConvLSTMUSCHAD_withmag_3/assets\n"
          ]
        },
        {
          "output_type": "stream",
          "name": "stdout",
          "text": [
            "INFO:tensorflow:Assets written to: /content/drive/My Drive/ECE_209_AS_project_data/USCHADmodels/DeepConvLSTMUSCHAD_withmag_3/assets\n"
          ]
        },
        {
          "output_type": "stream",
          "name": "stderr",
          "text": [
            "INFO:tensorflow:Assets written to: /content/drive/My Drive/ECE_209_AS_project_data/USCHADmodels/DeepConvLSTMUSCHAD_withmag_3/assets\n"
          ]
        },
        {
          "output_type": "stream",
          "name": "stdout",
          "text": [
            "INFO:tensorflow:Assets written to: /content/drive/My Drive/ECE_209_AS_project_data/USCHADmodels/DeepConvLSTMUSCHAD_withmag_3/assets\n"
          ]
        },
        {
          "output_type": "stream",
          "name": "stderr",
          "text": [
            "INFO:tensorflow:Assets written to: /content/drive/My Drive/ECE_209_AS_project_data/USCHADmodels/DeepConvLSTMUSCHAD_withmag_3/assets\n"
          ]
        },
        {
          "output_type": "stream",
          "name": "stdout",
          "text": [
            "INFO:tensorflow:Assets written to: /content/drive/My Drive/ECE_209_AS_project_data/USCHADmodels/DeepConvLSTMUSCHAD_withmag_3/assets\n"
          ]
        },
        {
          "output_type": "stream",
          "name": "stderr",
          "text": [
            "INFO:tensorflow:Assets written to: /content/drive/My Drive/ECE_209_AS_project_data/USCHADmodels/DeepConvLSTMUSCHAD_withmag_3/assets\n"
          ]
        },
        {
          "output_type": "stream",
          "name": "stdout",
          "text": [
            "INFO:tensorflow:Assets written to: /content/drive/My Drive/ECE_209_AS_project_data/USCHADmodels/DeepConvLSTMUSCHAD_withmag_3/assets\n"
          ]
        },
        {
          "output_type": "stream",
          "name": "stderr",
          "text": [
            "INFO:tensorflow:Assets written to: /content/drive/My Drive/ECE_209_AS_project_data/USCHADmodels/DeepConvLSTMUSCHAD_withmag_3/assets\n"
          ]
        },
        {
          "output_type": "stream",
          "name": "stdout",
          "text": [
            "INFO:tensorflow:Assets written to: /content/drive/My Drive/ECE_209_AS_project_data/USCHADmodels/DeepConvLSTMUSCHAD_withmag_3/assets\n"
          ]
        },
        {
          "output_type": "stream",
          "name": "stderr",
          "text": [
            "INFO:tensorflow:Assets written to: /content/drive/My Drive/ECE_209_AS_project_data/USCHADmodels/DeepConvLSTMUSCHAD_withmag_3/assets\n"
          ]
        },
        {
          "output_type": "stream",
          "name": "stdout",
          "text": [
            "INFO:tensorflow:Assets written to: /content/drive/My Drive/ECE_209_AS_project_data/USCHADmodels/DeepConvLSTMUSCHAD_withmag_3/assets\n"
          ]
        },
        {
          "output_type": "stream",
          "name": "stderr",
          "text": [
            "INFO:tensorflow:Assets written to: /content/drive/My Drive/ECE_209_AS_project_data/USCHADmodels/DeepConvLSTMUSCHAD_withmag_3/assets\n"
          ]
        },
        {
          "output_type": "stream",
          "name": "stdout",
          "text": [
            "INFO:tensorflow:Assets written to: /content/drive/My Drive/ECE_209_AS_project_data/USCHADmodels/DeepConvLSTMUSCHAD_withmag_3/assets\n"
          ]
        },
        {
          "output_type": "stream",
          "name": "stderr",
          "text": [
            "INFO:tensorflow:Assets written to: /content/drive/My Drive/ECE_209_AS_project_data/USCHADmodels/DeepConvLSTMUSCHAD_withmag_3/assets\n"
          ]
        },
        {
          "output_type": "stream",
          "name": "stdout",
          "text": [
            "INFO:tensorflow:Assets written to: /content/drive/My Drive/ECE_209_AS_project_data/USCHADmodels/DeepConvLSTMUSCHAD_withmag_3/assets\n"
          ]
        },
        {
          "output_type": "stream",
          "name": "stderr",
          "text": [
            "INFO:tensorflow:Assets written to: /content/drive/My Drive/ECE_209_AS_project_data/USCHADmodels/DeepConvLSTMUSCHAD_withmag_3/assets\n"
          ]
        },
        {
          "output_type": "stream",
          "name": "stdout",
          "text": [
            "INFO:tensorflow:Assets written to: /content/drive/My Drive/ECE_209_AS_project_data/USCHADmodels/DeepConvLSTMUSCHAD_withmag_3/assets\n"
          ]
        },
        {
          "output_type": "stream",
          "name": "stderr",
          "text": [
            "INFO:tensorflow:Assets written to: /content/drive/My Drive/ECE_209_AS_project_data/USCHADmodels/DeepConvLSTMUSCHAD_withmag_3/assets\n"
          ]
        },
        {
          "output_type": "stream",
          "name": "stdout",
          "text": [
            "INFO:tensorflow:Assets written to: /content/drive/My Drive/ECE_209_AS_project_data/USCHADmodels/DeepConvLSTMUSCHAD_withmag_3/assets\n"
          ]
        },
        {
          "output_type": "stream",
          "name": "stderr",
          "text": [
            "INFO:tensorflow:Assets written to: /content/drive/My Drive/ECE_209_AS_project_data/USCHADmodels/DeepConvLSTMUSCHAD_withmag_3/assets\n"
          ]
        },
        {
          "output_type": "stream",
          "name": "stdout",
          "text": [
            "INFO:tensorflow:Assets written to: /content/drive/My Drive/ECE_209_AS_project_data/USCHADmodels/DeepConvLSTMUSCHAD_withmag_3/assets\n"
          ]
        },
        {
          "output_type": "stream",
          "name": "stderr",
          "text": [
            "INFO:tensorflow:Assets written to: /content/drive/My Drive/ECE_209_AS_project_data/USCHADmodels/DeepConvLSTMUSCHAD_withmag_3/assets\n"
          ]
        },
        {
          "output_type": "stream",
          "name": "stdout",
          "text": [
            "INFO:tensorflow:Assets written to: /content/drive/My Drive/ECE_209_AS_project_data/USCHADmodels/DeepConvLSTMUSCHAD_withmag_3/assets\n"
          ]
        },
        {
          "output_type": "stream",
          "name": "stderr",
          "text": [
            "INFO:tensorflow:Assets written to: /content/drive/My Drive/ECE_209_AS_project_data/USCHADmodels/DeepConvLSTMUSCHAD_withmag_3/assets\n"
          ]
        },
        {
          "output_type": "stream",
          "name": "stdout",
          "text": [
            "INFO:tensorflow:Assets written to: /content/drive/My Drive/ECE_209_AS_project_data/USCHADmodels/DeepConvLSTMUSCHAD_withmag_3/assets\n"
          ]
        },
        {
          "output_type": "stream",
          "name": "stderr",
          "text": [
            "INFO:tensorflow:Assets written to: /content/drive/My Drive/ECE_209_AS_project_data/USCHADmodels/DeepConvLSTMUSCHAD_withmag_3/assets\n"
          ]
        },
        {
          "output_type": "stream",
          "name": "stdout",
          "text": [
            "INFO:tensorflow:Assets written to: /content/drive/My Drive/ECE_209_AS_project_data/USCHADmodels/DeepConvLSTMUSCHAD_withmag_3/assets\n"
          ]
        },
        {
          "output_type": "stream",
          "name": "stderr",
          "text": [
            "INFO:tensorflow:Assets written to: /content/drive/My Drive/ECE_209_AS_project_data/USCHADmodels/DeepConvLSTMUSCHAD_withmag_3/assets\n"
          ]
        },
        {
          "output_type": "stream",
          "name": "stdout",
          "text": [
            "INFO:tensorflow:Assets written to: /content/drive/My Drive/ECE_209_AS_project_data/USCHADmodels/DeepConvLSTMUSCHAD_withmag_3/assets\n"
          ]
        },
        {
          "output_type": "stream",
          "name": "stderr",
          "text": [
            "INFO:tensorflow:Assets written to: /content/drive/My Drive/ECE_209_AS_project_data/USCHADmodels/DeepConvLSTMUSCHAD_withmag_3/assets\n"
          ]
        },
        {
          "output_type": "stream",
          "name": "stdout",
          "text": [
            "INFO:tensorflow:Assets written to: /content/drive/My Drive/ECE_209_AS_project_data/USCHADmodels/DeepConvLSTMUSCHAD_withmag_3/assets\n"
          ]
        },
        {
          "output_type": "stream",
          "name": "stderr",
          "text": [
            "INFO:tensorflow:Assets written to: /content/drive/My Drive/ECE_209_AS_project_data/USCHADmodels/DeepConvLSTMUSCHAD_withmag_3/assets\n"
          ]
        },
        {
          "output_type": "stream",
          "name": "stdout",
          "text": [
            "INFO:tensorflow:Assets written to: /content/drive/My Drive/ECE_209_AS_project_data/USCHADmodels/DeepConvLSTMUSCHAD_withmag_3/assets\n"
          ]
        },
        {
          "output_type": "stream",
          "name": "stderr",
          "text": [
            "INFO:tensorflow:Assets written to: /content/drive/My Drive/ECE_209_AS_project_data/USCHADmodels/DeepConvLSTMUSCHAD_withmag_3/assets\n"
          ]
        },
        {
          "output_type": "stream",
          "name": "stdout",
          "text": [
            "INFO:tensorflow:Assets written to: /content/drive/My Drive/ECE_209_AS_project_data/USCHADmodels/DeepConvLSTMUSCHAD_withmag_3/assets\n"
          ]
        },
        {
          "output_type": "stream",
          "name": "stderr",
          "text": [
            "INFO:tensorflow:Assets written to: /content/drive/My Drive/ECE_209_AS_project_data/USCHADmodels/DeepConvLSTMUSCHAD_withmag_3/assets\n"
          ]
        },
        {
          "output_type": "stream",
          "name": "stdout",
          "text": [
            "INFO:tensorflow:Assets written to: /content/drive/My Drive/ECE_209_AS_project_data/USCHADmodels/DeepConvLSTMUSCHAD_withmag_3/assets\n"
          ]
        },
        {
          "output_type": "stream",
          "name": "stderr",
          "text": [
            "INFO:tensorflow:Assets written to: /content/drive/My Drive/ECE_209_AS_project_data/USCHADmodels/DeepConvLSTMUSCHAD_withmag_3/assets\n"
          ]
        },
        {
          "output_type": "stream",
          "name": "stdout",
          "text": [
            "INFO:tensorflow:Assets written to: /content/drive/My Drive/ECE_209_AS_project_data/USCHADmodels/DeepConvLSTMUSCHAD_withmag_3/assets\n"
          ]
        },
        {
          "output_type": "stream",
          "name": "stderr",
          "text": [
            "INFO:tensorflow:Assets written to: /content/drive/My Drive/ECE_209_AS_project_data/USCHADmodels/DeepConvLSTMUSCHAD_withmag_3/assets\n"
          ]
        },
        {
          "output_type": "stream",
          "name": "stdout",
          "text": [
            "INFO:tensorflow:Assets written to: /content/drive/My Drive/ECE_209_AS_project_data/USCHADmodels/DeepConvLSTMUSCHAD_withmag_3/assets\n"
          ]
        },
        {
          "output_type": "stream",
          "name": "stderr",
          "text": [
            "INFO:tensorflow:Assets written to: /content/drive/My Drive/ECE_209_AS_project_data/USCHADmodels/DeepConvLSTMUSCHAD_withmag_3/assets\n"
          ]
        },
        {
          "output_type": "stream",
          "name": "stdout",
          "text": [
            "INFO:tensorflow:Assets written to: /content/drive/My Drive/ECE_209_AS_project_data/USCHADmodels/DeepConvLSTMUSCHAD_withmag_3/assets\n"
          ]
        },
        {
          "output_type": "stream",
          "name": "stderr",
          "text": [
            "INFO:tensorflow:Assets written to: /content/drive/My Drive/ECE_209_AS_project_data/USCHADmodels/DeepConvLSTMUSCHAD_withmag_3/assets\n"
          ]
        },
        {
          "output_type": "stream",
          "name": "stdout",
          "text": [
            "INFO:tensorflow:Assets written to: /content/drive/My Drive/ECE_209_AS_project_data/USCHADmodels/DeepConvLSTMUSCHAD_withmag_3/assets\n"
          ]
        },
        {
          "output_type": "stream",
          "name": "stderr",
          "text": [
            "INFO:tensorflow:Assets written to: /content/drive/My Drive/ECE_209_AS_project_data/USCHADmodels/DeepConvLSTMUSCHAD_withmag_3/assets\n"
          ]
        },
        {
          "output_type": "stream",
          "name": "stdout",
          "text": [
            "tf.Tensor(0.86199445, shape=(), dtype=float32)\n",
            "INFO:tensorflow:Assets written to: /content/drive/My Drive/ECE_209_AS_project_data/USCHADmodels/DeepConvLSTMUSCHAD_withmag_4/assets\n"
          ]
        },
        {
          "output_type": "stream",
          "name": "stderr",
          "text": [
            "INFO:tensorflow:Assets written to: /content/drive/My Drive/ECE_209_AS_project_data/USCHADmodels/DeepConvLSTMUSCHAD_withmag_4/assets\n"
          ]
        },
        {
          "output_type": "stream",
          "name": "stdout",
          "text": [
            "INFO:tensorflow:Assets written to: /content/drive/My Drive/ECE_209_AS_project_data/USCHADmodels/DeepConvLSTMUSCHAD_withmag_4/assets\n"
          ]
        },
        {
          "output_type": "stream",
          "name": "stderr",
          "text": [
            "INFO:tensorflow:Assets written to: /content/drive/My Drive/ECE_209_AS_project_data/USCHADmodels/DeepConvLSTMUSCHAD_withmag_4/assets\n"
          ]
        },
        {
          "output_type": "stream",
          "name": "stdout",
          "text": [
            "INFO:tensorflow:Assets written to: /content/drive/My Drive/ECE_209_AS_project_data/USCHADmodels/DeepConvLSTMUSCHAD_withmag_4/assets\n"
          ]
        },
        {
          "output_type": "stream",
          "name": "stderr",
          "text": [
            "INFO:tensorflow:Assets written to: /content/drive/My Drive/ECE_209_AS_project_data/USCHADmodels/DeepConvLSTMUSCHAD_withmag_4/assets\n"
          ]
        },
        {
          "output_type": "stream",
          "name": "stdout",
          "text": [
            "INFO:tensorflow:Assets written to: /content/drive/My Drive/ECE_209_AS_project_data/USCHADmodels/DeepConvLSTMUSCHAD_withmag_4/assets\n"
          ]
        },
        {
          "output_type": "stream",
          "name": "stderr",
          "text": [
            "INFO:tensorflow:Assets written to: /content/drive/My Drive/ECE_209_AS_project_data/USCHADmodels/DeepConvLSTMUSCHAD_withmag_4/assets\n"
          ]
        },
        {
          "output_type": "stream",
          "name": "stdout",
          "text": [
            "INFO:tensorflow:Assets written to: /content/drive/My Drive/ECE_209_AS_project_data/USCHADmodels/DeepConvLSTMUSCHAD_withmag_4/assets\n"
          ]
        },
        {
          "output_type": "stream",
          "name": "stderr",
          "text": [
            "INFO:tensorflow:Assets written to: /content/drive/My Drive/ECE_209_AS_project_data/USCHADmodels/DeepConvLSTMUSCHAD_withmag_4/assets\n"
          ]
        },
        {
          "output_type": "stream",
          "name": "stdout",
          "text": [
            "INFO:tensorflow:Assets written to: /content/drive/My Drive/ECE_209_AS_project_data/USCHADmodels/DeepConvLSTMUSCHAD_withmag_4/assets\n"
          ]
        },
        {
          "output_type": "stream",
          "name": "stderr",
          "text": [
            "INFO:tensorflow:Assets written to: /content/drive/My Drive/ECE_209_AS_project_data/USCHADmodels/DeepConvLSTMUSCHAD_withmag_4/assets\n"
          ]
        },
        {
          "output_type": "stream",
          "name": "stdout",
          "text": [
            "INFO:tensorflow:Assets written to: /content/drive/My Drive/ECE_209_AS_project_data/USCHADmodels/DeepConvLSTMUSCHAD_withmag_4/assets\n"
          ]
        },
        {
          "output_type": "stream",
          "name": "stderr",
          "text": [
            "INFO:tensorflow:Assets written to: /content/drive/My Drive/ECE_209_AS_project_data/USCHADmodels/DeepConvLSTMUSCHAD_withmag_4/assets\n"
          ]
        },
        {
          "output_type": "stream",
          "name": "stdout",
          "text": [
            "INFO:tensorflow:Assets written to: /content/drive/My Drive/ECE_209_AS_project_data/USCHADmodels/DeepConvLSTMUSCHAD_withmag_4/assets\n"
          ]
        },
        {
          "output_type": "stream",
          "name": "stderr",
          "text": [
            "INFO:tensorflow:Assets written to: /content/drive/My Drive/ECE_209_AS_project_data/USCHADmodels/DeepConvLSTMUSCHAD_withmag_4/assets\n"
          ]
        },
        {
          "output_type": "stream",
          "name": "stdout",
          "text": [
            "INFO:tensorflow:Assets written to: /content/drive/My Drive/ECE_209_AS_project_data/USCHADmodels/DeepConvLSTMUSCHAD_withmag_4/assets\n"
          ]
        },
        {
          "output_type": "stream",
          "name": "stderr",
          "text": [
            "INFO:tensorflow:Assets written to: /content/drive/My Drive/ECE_209_AS_project_data/USCHADmodels/DeepConvLSTMUSCHAD_withmag_4/assets\n"
          ]
        },
        {
          "output_type": "stream",
          "name": "stdout",
          "text": [
            "INFO:tensorflow:Assets written to: /content/drive/My Drive/ECE_209_AS_project_data/USCHADmodels/DeepConvLSTMUSCHAD_withmag_4/assets\n"
          ]
        },
        {
          "output_type": "stream",
          "name": "stderr",
          "text": [
            "INFO:tensorflow:Assets written to: /content/drive/My Drive/ECE_209_AS_project_data/USCHADmodels/DeepConvLSTMUSCHAD_withmag_4/assets\n"
          ]
        },
        {
          "output_type": "stream",
          "name": "stdout",
          "text": [
            "INFO:tensorflow:Assets written to: /content/drive/My Drive/ECE_209_AS_project_data/USCHADmodels/DeepConvLSTMUSCHAD_withmag_4/assets\n"
          ]
        },
        {
          "output_type": "stream",
          "name": "stderr",
          "text": [
            "INFO:tensorflow:Assets written to: /content/drive/My Drive/ECE_209_AS_project_data/USCHADmodels/DeepConvLSTMUSCHAD_withmag_4/assets\n"
          ]
        },
        {
          "output_type": "stream",
          "name": "stdout",
          "text": [
            "tf.Tensor(0.8666255, shape=(), dtype=float32)\n"
          ]
        }
      ],
      "id": "xZJiAvacRVQ-"
    },
    {
      "cell_type": "code",
      "source": [
        "test_accuracies_magnify = []\n",
        "recall_scores_magnify = []\n",
        "\n",
        "for i in range(5):\n",
        "\n",
        "  model_saved = keras.models.load_model(path_to_models + f\"DeepConvLSTMUSCHAD_withmag_{i}\")\n",
        "  test_accuracy = tf.keras.metrics.Accuracy()\n",
        "  logits = model_saved(X_test, training=False)\n",
        "  prediction = tf.argmax(logits, axis=1, output_type=tf.int32)\n",
        "  test_accuracies_magnify.append(test_accuracy(prediction, Y_test))\n",
        "  recall_scores_magnify.append(recall_score(Y_test, prediction, average=None))\n"
      ],
      "metadata": {
        "id": "9u6hwBV6n5Nj"
      },
      "id": "9u6hwBV6n5Nj",
      "execution_count": 36,
      "outputs": []
    },
    {
      "cell_type": "code",
      "source": [
        "sum_ac = 0\n",
        "\n",
        "for ac in test_accuracies_magnify:\n",
        "\n",
        "  sum_ac += ac.numpy()\n",
        "\n",
        "print(f\"Mean accuracy is {round(sum_ac/len(test_accuracies_magnify), 2)}\")"
      ],
      "metadata": {
        "colab": {
          "base_uri": "https://localhost:8080/"
        },
        "id": "oXDDhocqRVQ_",
        "outputId": "aa22faaa-9e31-4331-d746-02c8a3711fdd"
      },
      "execution_count": 37,
      "outputs": [
        {
          "output_type": "stream",
          "name": "stdout",
          "text": [
            "Mean accuracy is 0.89\n"
          ]
        }
      ],
      "id": "oXDDhocqRVQ_"
    },
    {
      "cell_type": "code",
      "source": [
        "mean_recall_scores_with_magnify  = sum(recall_scores_magnify)/len(recall_scores_magnify)\n",
        "\n",
        "for i in range(len(mean_recall_scores_with_magnify)):\n",
        "\n",
        "  print(f\"Label {data_class_names[i]} has mean accuracy {round(mean_recall_scores_with_magnify[i], 2)}\")"
      ],
      "metadata": {
        "colab": {
          "base_uri": "https://localhost:8080/"
        },
        "id": "YboKSuXaRVQ_",
        "outputId": "fee6d984-e482-4375-eda6-e738c3f9e0ba"
      },
      "execution_count": 38,
      "outputs": [
        {
          "output_type": "stream",
          "name": "stdout",
          "text": [
            "Label walking forward has mean accuracy 0.94\n",
            "Label walking left has mean accuracy 0.92\n",
            "Label walking right has mean accuracy 0.94\n",
            "Label walking upstairs has mean accuracy 0.95\n",
            "Label walking downstairs has mean accuracy 0.91\n",
            "Label running forward has mean accuracy 0.98\n",
            "Label jumping has mean accuracy 0.93\n",
            "Label sitting has mean accuracy 0.96\n",
            "Label standing  has mean accuracy 0.85\n",
            "Label sleeping  has mean accuracy 1.0\n",
            "Label elevator up has mean accuracy 0.49\n",
            "Label elevator down has mean accuracy 0.51\n"
          ]
        }
      ],
      "id": "YboKSuXaRVQ_"
    },
    {
      "cell_type": "markdown",
      "source": [
        "### Resampling"
      ],
      "metadata": {
        "id": "xKBbjqYzXgDi"
      },
      "id": "xKBbjqYzXgDi"
    },
    {
      "cell_type": "code",
      "source": [
        "from sklearn.metrics import recall_score"
      ],
      "metadata": {
        "id": "pvALe8Emcwmb"
      },
      "id": "pvALe8Emcwmb",
      "execution_count": null,
      "outputs": []
    },
    {
      "cell_type": "code",
      "source": [
        "test_accuracies_resampling = []\n",
        "recall_scores_resampling = []\n",
        "\n",
        "for i in range(5):\n",
        "\n",
        "  rnd_seed = seeds[i]\n",
        "  tf.random.set_seed(rnd_seed)\n",
        "  indices = np.random.RandomState(seed=rnd_seed).permutation(len(X_train))\n",
        "  X_train = X_train[indices]\n",
        "  Y_train = Y_train[indices]\n",
        "\n",
        "  X_train_resample = resampling((X_train), 1, 0)\n",
        "  Xtrain_tot=np.concatenate((X_train, X_train_resample))\n",
        "  Y_train_tot = np.concatenate((Y_train, Y_train))\n",
        "\n",
        "  train_data = Xtrain_tot[len(Xtrain_tot)//10:]\n",
        "  train_labels = Y_train_tot[len(Xtrain_tot)//10:]\n",
        "  val_data = Xtrain_tot[:len(Xtrain_tot)//10]\n",
        "  val_labels = Y_train_tot[:len(Xtrain_tot)//10]\n",
        "\n",
        "  model = keras.Model(inputs = inputs, outputs = outputs)\n",
        "  model.compile(loss = \"sparse_categorical_crossentropy\", optimizer = \"adam\", metrics=[\"accuracy\"])\n",
        "  tensorboard = keras.callbacks.TensorBoard(log_dir = path_to_logs)\n",
        "  callbacks = [keras.callbacks.ModelCheckpoint(filepath=path_to_models + f\"DeepConvLSTMUSCHAD_withresampling_{i}\"), tensorboard, keras.callbacks.EarlyStopping(monitor='val_loss', patience=10)]\n",
        "  history = model.fit(train_data, train_labels, epochs = 25, batch_size = 64, validation_data = (val_data, val_labels), callbacks = callbacks, class_weight = data_class_weights, verbose = False)\n",
        "\n",
        "  model_saved = keras.models.load_model(path_to_models + f\"DeepConvLSTMUSCHAD_withresampling_{i}\")\n",
        "  test_accuracy = tf.keras.metrics.Accuracy()\n",
        "  logits = model_saved(X_test, training=False)\n",
        "  prediction = tf.argmax(logits, axis=1, output_type=tf.int32)\n",
        "  test_accuracies_resampling.append(test_accuracy(prediction, Y_test))\n",
        "  print(test_accuracy(prediction, Y_test))\n",
        "  recall_scores_resampling.append(recall_score(Y_test, prediction, average=None))"
      ],
      "metadata": {
        "colab": {
          "base_uri": "https://localhost:8080/"
        },
        "outputId": "989aa5d4-bfdd-4ca7-a2db-afe2a69bff54",
        "id": "UUtilrEyXgDj"
      },
      "execution_count": 52,
      "outputs": [
        {
          "metadata": {
            "tags": null
          },
          "name": "stdout",
          "output_type": "stream",
          "text": [
            "INFO:tensorflow:Assets written to: /content/drive/My Drive/ECE_209_AS_project_data/USCHADmodels/DeepConvLSTMUSCHAD_withresampling_0/assets\n"
          ]
        },
        {
          "metadata": {
            "tags": null
          },
          "name": "stderr",
          "output_type": "stream",
          "text": [
            "INFO:tensorflow:Assets written to: /content/drive/My Drive/ECE_209_AS_project_data/USCHADmodels/DeepConvLSTMUSCHAD_withresampling_0/assets\n"
          ]
        },
        {
          "metadata": {
            "tags": null
          },
          "name": "stdout",
          "output_type": "stream",
          "text": [
            "INFO:tensorflow:Assets written to: /content/drive/My Drive/ECE_209_AS_project_data/USCHADmodels/DeepConvLSTMUSCHAD_withresampling_0/assets\n"
          ]
        },
        {
          "metadata": {
            "tags": null
          },
          "name": "stderr",
          "output_type": "stream",
          "text": [
            "INFO:tensorflow:Assets written to: /content/drive/My Drive/ECE_209_AS_project_data/USCHADmodels/DeepConvLSTMUSCHAD_withresampling_0/assets\n"
          ]
        },
        {
          "metadata": {
            "tags": null
          },
          "name": "stdout",
          "output_type": "stream",
          "text": [
            "INFO:tensorflow:Assets written to: /content/drive/My Drive/ECE_209_AS_project_data/USCHADmodels/DeepConvLSTMUSCHAD_withresampling_0/assets\n"
          ]
        },
        {
          "metadata": {
            "tags": null
          },
          "name": "stderr",
          "output_type": "stream",
          "text": [
            "INFO:tensorflow:Assets written to: /content/drive/My Drive/ECE_209_AS_project_data/USCHADmodels/DeepConvLSTMUSCHAD_withresampling_0/assets\n"
          ]
        },
        {
          "metadata": {
            "tags": null
          },
          "name": "stdout",
          "output_type": "stream",
          "text": [
            "INFO:tensorflow:Assets written to: /content/drive/My Drive/ECE_209_AS_project_data/USCHADmodels/DeepConvLSTMUSCHAD_withresampling_0/assets\n"
          ]
        },
        {
          "metadata": {
            "tags": null
          },
          "name": "stderr",
          "output_type": "stream",
          "text": [
            "INFO:tensorflow:Assets written to: /content/drive/My Drive/ECE_209_AS_project_data/USCHADmodels/DeepConvLSTMUSCHAD_withresampling_0/assets\n"
          ]
        },
        {
          "metadata": {
            "tags": null
          },
          "name": "stdout",
          "output_type": "stream",
          "text": [
            "INFO:tensorflow:Assets written to: /content/drive/My Drive/ECE_209_AS_project_data/USCHADmodels/DeepConvLSTMUSCHAD_withresampling_0/assets\n"
          ]
        },
        {
          "metadata": {
            "tags": null
          },
          "name": "stderr",
          "output_type": "stream",
          "text": [
            "INFO:tensorflow:Assets written to: /content/drive/My Drive/ECE_209_AS_project_data/USCHADmodels/DeepConvLSTMUSCHAD_withresampling_0/assets\n"
          ]
        },
        {
          "metadata": {
            "tags": null
          },
          "name": "stdout",
          "output_type": "stream",
          "text": [
            "INFO:tensorflow:Assets written to: /content/drive/My Drive/ECE_209_AS_project_data/USCHADmodels/DeepConvLSTMUSCHAD_withresampling_0/assets\n"
          ]
        },
        {
          "metadata": {
            "tags": null
          },
          "name": "stderr",
          "output_type": "stream",
          "text": [
            "INFO:tensorflow:Assets written to: /content/drive/My Drive/ECE_209_AS_project_data/USCHADmodels/DeepConvLSTMUSCHAD_withresampling_0/assets\n"
          ]
        },
        {
          "metadata": {
            "tags": null
          },
          "name": "stdout",
          "output_type": "stream",
          "text": [
            "INFO:tensorflow:Assets written to: /content/drive/My Drive/ECE_209_AS_project_data/USCHADmodels/DeepConvLSTMUSCHAD_withresampling_0/assets\n"
          ]
        },
        {
          "metadata": {
            "tags": null
          },
          "name": "stderr",
          "output_type": "stream",
          "text": [
            "INFO:tensorflow:Assets written to: /content/drive/My Drive/ECE_209_AS_project_data/USCHADmodels/DeepConvLSTMUSCHAD_withresampling_0/assets\n"
          ]
        },
        {
          "metadata": {
            "tags": null
          },
          "name": "stdout",
          "output_type": "stream",
          "text": [
            "INFO:tensorflow:Assets written to: /content/drive/My Drive/ECE_209_AS_project_data/USCHADmodels/DeepConvLSTMUSCHAD_withresampling_0/assets\n"
          ]
        },
        {
          "metadata": {
            "tags": null
          },
          "name": "stderr",
          "output_type": "stream",
          "text": [
            "INFO:tensorflow:Assets written to: /content/drive/My Drive/ECE_209_AS_project_data/USCHADmodels/DeepConvLSTMUSCHAD_withresampling_0/assets\n"
          ]
        },
        {
          "metadata": {
            "tags": null
          },
          "name": "stdout",
          "output_type": "stream",
          "text": [
            "INFO:tensorflow:Assets written to: /content/drive/My Drive/ECE_209_AS_project_data/USCHADmodels/DeepConvLSTMUSCHAD_withresampling_0/assets\n"
          ]
        },
        {
          "metadata": {
            "tags": null
          },
          "name": "stderr",
          "output_type": "stream",
          "text": [
            "INFO:tensorflow:Assets written to: /content/drive/My Drive/ECE_209_AS_project_data/USCHADmodels/DeepConvLSTMUSCHAD_withresampling_0/assets\n"
          ]
        },
        {
          "metadata": {
            "tags": null
          },
          "name": "stdout",
          "output_type": "stream",
          "text": [
            "INFO:tensorflow:Assets written to: /content/drive/My Drive/ECE_209_AS_project_data/USCHADmodels/DeepConvLSTMUSCHAD_withresampling_0/assets\n"
          ]
        },
        {
          "metadata": {
            "tags": null
          },
          "name": "stderr",
          "output_type": "stream",
          "text": [
            "INFO:tensorflow:Assets written to: /content/drive/My Drive/ECE_209_AS_project_data/USCHADmodels/DeepConvLSTMUSCHAD_withresampling_0/assets\n"
          ]
        },
        {
          "metadata": {
            "tags": null
          },
          "name": "stdout",
          "output_type": "stream",
          "text": [
            "INFO:tensorflow:Assets written to: /content/drive/My Drive/ECE_209_AS_project_data/USCHADmodels/DeepConvLSTMUSCHAD_withresampling_0/assets\n"
          ]
        },
        {
          "metadata": {
            "tags": null
          },
          "name": "stderr",
          "output_type": "stream",
          "text": [
            "INFO:tensorflow:Assets written to: /content/drive/My Drive/ECE_209_AS_project_data/USCHADmodels/DeepConvLSTMUSCHAD_withresampling_0/assets\n"
          ]
        },
        {
          "metadata": {
            "tags": null
          },
          "name": "stdout",
          "output_type": "stream",
          "text": [
            "INFO:tensorflow:Assets written to: /content/drive/My Drive/ECE_209_AS_project_data/USCHADmodels/DeepConvLSTMUSCHAD_withresampling_0/assets\n"
          ]
        },
        {
          "metadata": {
            "tags": null
          },
          "name": "stderr",
          "output_type": "stream",
          "text": [
            "INFO:tensorflow:Assets written to: /content/drive/My Drive/ECE_209_AS_project_data/USCHADmodels/DeepConvLSTMUSCHAD_withresampling_0/assets\n"
          ]
        },
        {
          "metadata": {
            "tags": null
          },
          "name": "stdout",
          "output_type": "stream",
          "text": [
            "INFO:tensorflow:Assets written to: /content/drive/My Drive/ECE_209_AS_project_data/USCHADmodels/DeepConvLSTMUSCHAD_withresampling_0/assets\n"
          ]
        },
        {
          "metadata": {
            "tags": null
          },
          "name": "stderr",
          "output_type": "stream",
          "text": [
            "INFO:tensorflow:Assets written to: /content/drive/My Drive/ECE_209_AS_project_data/USCHADmodels/DeepConvLSTMUSCHAD_withresampling_0/assets\n"
          ]
        },
        {
          "metadata": {
            "tags": null
          },
          "name": "stdout",
          "output_type": "stream",
          "text": [
            "INFO:tensorflow:Assets written to: /content/drive/My Drive/ECE_209_AS_project_data/USCHADmodels/DeepConvLSTMUSCHAD_withresampling_0/assets\n"
          ]
        },
        {
          "metadata": {
            "tags": null
          },
          "name": "stderr",
          "output_type": "stream",
          "text": [
            "INFO:tensorflow:Assets written to: /content/drive/My Drive/ECE_209_AS_project_data/USCHADmodels/DeepConvLSTMUSCHAD_withresampling_0/assets\n"
          ]
        },
        {
          "metadata": {
            "tags": null
          },
          "name": "stdout",
          "output_type": "stream",
          "text": [
            "INFO:tensorflow:Assets written to: /content/drive/My Drive/ECE_209_AS_project_data/USCHADmodels/DeepConvLSTMUSCHAD_withresampling_0/assets\n"
          ]
        },
        {
          "metadata": {
            "tags": null
          },
          "name": "stderr",
          "output_type": "stream",
          "text": [
            "INFO:tensorflow:Assets written to: /content/drive/My Drive/ECE_209_AS_project_data/USCHADmodels/DeepConvLSTMUSCHAD_withresampling_0/assets\n"
          ]
        },
        {
          "metadata": {
            "tags": null
          },
          "name": "stdout",
          "output_type": "stream",
          "text": [
            "INFO:tensorflow:Assets written to: /content/drive/My Drive/ECE_209_AS_project_data/USCHADmodels/DeepConvLSTMUSCHAD_withresampling_0/assets\n"
          ]
        },
        {
          "metadata": {
            "tags": null
          },
          "name": "stderr",
          "output_type": "stream",
          "text": [
            "INFO:tensorflow:Assets written to: /content/drive/My Drive/ECE_209_AS_project_data/USCHADmodels/DeepConvLSTMUSCHAD_withresampling_0/assets\n"
          ]
        },
        {
          "metadata": {
            "tags": null
          },
          "name": "stdout",
          "output_type": "stream",
          "text": [
            "INFO:tensorflow:Assets written to: /content/drive/My Drive/ECE_209_AS_project_data/USCHADmodels/DeepConvLSTMUSCHAD_withresampling_0/assets\n"
          ]
        },
        {
          "metadata": {
            "tags": null
          },
          "name": "stderr",
          "output_type": "stream",
          "text": [
            "INFO:tensorflow:Assets written to: /content/drive/My Drive/ECE_209_AS_project_data/USCHADmodels/DeepConvLSTMUSCHAD_withresampling_0/assets\n"
          ]
        },
        {
          "metadata": {
            "tags": null
          },
          "name": "stdout",
          "output_type": "stream",
          "text": [
            "INFO:tensorflow:Assets written to: /content/drive/My Drive/ECE_209_AS_project_data/USCHADmodels/DeepConvLSTMUSCHAD_withresampling_0/assets\n"
          ]
        },
        {
          "metadata": {
            "tags": null
          },
          "name": "stderr",
          "output_type": "stream",
          "text": [
            "INFO:tensorflow:Assets written to: /content/drive/My Drive/ECE_209_AS_project_data/USCHADmodels/DeepConvLSTMUSCHAD_withresampling_0/assets\n"
          ]
        },
        {
          "metadata": {
            "tags": null
          },
          "name": "stdout",
          "output_type": "stream",
          "text": [
            "INFO:tensorflow:Assets written to: /content/drive/My Drive/ECE_209_AS_project_data/USCHADmodels/DeepConvLSTMUSCHAD_withresampling_0/assets\n"
          ]
        },
        {
          "metadata": {
            "tags": null
          },
          "name": "stderr",
          "output_type": "stream",
          "text": [
            "INFO:tensorflow:Assets written to: /content/drive/My Drive/ECE_209_AS_project_data/USCHADmodels/DeepConvLSTMUSCHAD_withresampling_0/assets\n"
          ]
        },
        {
          "metadata": {
            "tags": null
          },
          "name": "stdout",
          "output_type": "stream",
          "text": [
            "INFO:tensorflow:Assets written to: /content/drive/My Drive/ECE_209_AS_project_data/USCHADmodels/DeepConvLSTMUSCHAD_withresampling_0/assets\n"
          ]
        },
        {
          "metadata": {
            "tags": null
          },
          "name": "stderr",
          "output_type": "stream",
          "text": [
            "INFO:tensorflow:Assets written to: /content/drive/My Drive/ECE_209_AS_project_data/USCHADmodels/DeepConvLSTMUSCHAD_withresampling_0/assets\n"
          ]
        },
        {
          "metadata": {
            "tags": null
          },
          "name": "stdout",
          "output_type": "stream",
          "text": [
            "INFO:tensorflow:Assets written to: /content/drive/My Drive/ECE_209_AS_project_data/USCHADmodels/DeepConvLSTMUSCHAD_withresampling_0/assets\n"
          ]
        },
        {
          "metadata": {
            "tags": null
          },
          "name": "stderr",
          "output_type": "stream",
          "text": [
            "INFO:tensorflow:Assets written to: /content/drive/My Drive/ECE_209_AS_project_data/USCHADmodels/DeepConvLSTMUSCHAD_withresampling_0/assets\n"
          ]
        },
        {
          "metadata": {
            "tags": null
          },
          "name": "stdout",
          "output_type": "stream",
          "text": [
            "INFO:tensorflow:Assets written to: /content/drive/My Drive/ECE_209_AS_project_data/USCHADmodels/DeepConvLSTMUSCHAD_withresampling_0/assets\n"
          ]
        },
        {
          "metadata": {
            "tags": null
          },
          "name": "stderr",
          "output_type": "stream",
          "text": [
            "INFO:tensorflow:Assets written to: /content/drive/My Drive/ECE_209_AS_project_data/USCHADmodels/DeepConvLSTMUSCHAD_withresampling_0/assets\n"
          ]
        },
        {
          "metadata": {
            "tags": null
          },
          "name": "stdout",
          "output_type": "stream",
          "text": [
            "INFO:tensorflow:Assets written to: /content/drive/My Drive/ECE_209_AS_project_data/USCHADmodels/DeepConvLSTMUSCHAD_withresampling_0/assets\n"
          ]
        },
        {
          "metadata": {
            "tags": null
          },
          "name": "stderr",
          "output_type": "stream",
          "text": [
            "INFO:tensorflow:Assets written to: /content/drive/My Drive/ECE_209_AS_project_data/USCHADmodels/DeepConvLSTMUSCHAD_withresampling_0/assets\n"
          ]
        },
        {
          "metadata": {
            "tags": null
          },
          "name": "stdout",
          "output_type": "stream",
          "text": [
            "INFO:tensorflow:Assets written to: /content/drive/My Drive/ECE_209_AS_project_data/USCHADmodels/DeepConvLSTMUSCHAD_withresampling_0/assets\n"
          ]
        },
        {
          "metadata": {
            "tags": null
          },
          "name": "stderr",
          "output_type": "stream",
          "text": [
            "INFO:tensorflow:Assets written to: /content/drive/My Drive/ECE_209_AS_project_data/USCHADmodels/DeepConvLSTMUSCHAD_withresampling_0/assets\n"
          ]
        },
        {
          "metadata": {
            "tags": null
          },
          "name": "stdout",
          "output_type": "stream",
          "text": [
            "INFO:tensorflow:Assets written to: /content/drive/My Drive/ECE_209_AS_project_data/USCHADmodels/DeepConvLSTMUSCHAD_withresampling_0/assets\n"
          ]
        },
        {
          "metadata": {
            "tags": null
          },
          "name": "stderr",
          "output_type": "stream",
          "text": [
            "INFO:tensorflow:Assets written to: /content/drive/My Drive/ECE_209_AS_project_data/USCHADmodels/DeepConvLSTMUSCHAD_withresampling_0/assets\n"
          ]
        },
        {
          "metadata": {
            "tags": null
          },
          "name": "stdout",
          "output_type": "stream",
          "text": [
            "tf.Tensor(0.8411547, shape=(), dtype=float32)\n",
            "INFO:tensorflow:Assets written to: /content/drive/My Drive/ECE_209_AS_project_data/USCHADmodels/DeepConvLSTMUSCHAD_withresampling_1/assets\n"
          ]
        },
        {
          "metadata": {
            "tags": null
          },
          "name": "stderr",
          "output_type": "stream",
          "text": [
            "INFO:tensorflow:Assets written to: /content/drive/My Drive/ECE_209_AS_project_data/USCHADmodels/DeepConvLSTMUSCHAD_withresampling_1/assets\n"
          ]
        },
        {
          "metadata": {
            "tags": null
          },
          "name": "stdout",
          "output_type": "stream",
          "text": [
            "INFO:tensorflow:Assets written to: /content/drive/My Drive/ECE_209_AS_project_data/USCHADmodels/DeepConvLSTMUSCHAD_withresampling_1/assets\n"
          ]
        },
        {
          "metadata": {
            "tags": null
          },
          "name": "stderr",
          "output_type": "stream",
          "text": [
            "INFO:tensorflow:Assets written to: /content/drive/My Drive/ECE_209_AS_project_data/USCHADmodels/DeepConvLSTMUSCHAD_withresampling_1/assets\n"
          ]
        },
        {
          "metadata": {
            "tags": null
          },
          "name": "stdout",
          "output_type": "stream",
          "text": [
            "INFO:tensorflow:Assets written to: /content/drive/My Drive/ECE_209_AS_project_data/USCHADmodels/DeepConvLSTMUSCHAD_withresampling_1/assets\n"
          ]
        },
        {
          "metadata": {
            "tags": null
          },
          "name": "stderr",
          "output_type": "stream",
          "text": [
            "INFO:tensorflow:Assets written to: /content/drive/My Drive/ECE_209_AS_project_data/USCHADmodels/DeepConvLSTMUSCHAD_withresampling_1/assets\n"
          ]
        },
        {
          "metadata": {
            "tags": null
          },
          "name": "stdout",
          "output_type": "stream",
          "text": [
            "INFO:tensorflow:Assets written to: /content/drive/My Drive/ECE_209_AS_project_data/USCHADmodels/DeepConvLSTMUSCHAD_withresampling_1/assets\n"
          ]
        },
        {
          "metadata": {
            "tags": null
          },
          "name": "stderr",
          "output_type": "stream",
          "text": [
            "INFO:tensorflow:Assets written to: /content/drive/My Drive/ECE_209_AS_project_data/USCHADmodels/DeepConvLSTMUSCHAD_withresampling_1/assets\n"
          ]
        },
        {
          "metadata": {
            "tags": null
          },
          "name": "stdout",
          "output_type": "stream",
          "text": [
            "INFO:tensorflow:Assets written to: /content/drive/My Drive/ECE_209_AS_project_data/USCHADmodels/DeepConvLSTMUSCHAD_withresampling_1/assets\n"
          ]
        },
        {
          "metadata": {
            "tags": null
          },
          "name": "stderr",
          "output_type": "stream",
          "text": [
            "INFO:tensorflow:Assets written to: /content/drive/My Drive/ECE_209_AS_project_data/USCHADmodels/DeepConvLSTMUSCHAD_withresampling_1/assets\n"
          ]
        },
        {
          "metadata": {
            "tags": null
          },
          "name": "stdout",
          "output_type": "stream",
          "text": [
            "INFO:tensorflow:Assets written to: /content/drive/My Drive/ECE_209_AS_project_data/USCHADmodels/DeepConvLSTMUSCHAD_withresampling_1/assets\n"
          ]
        },
        {
          "metadata": {
            "tags": null
          },
          "name": "stderr",
          "output_type": "stream",
          "text": [
            "INFO:tensorflow:Assets written to: /content/drive/My Drive/ECE_209_AS_project_data/USCHADmodels/DeepConvLSTMUSCHAD_withresampling_1/assets\n"
          ]
        },
        {
          "metadata": {
            "tags": null
          },
          "name": "stdout",
          "output_type": "stream",
          "text": [
            "INFO:tensorflow:Assets written to: /content/drive/My Drive/ECE_209_AS_project_data/USCHADmodels/DeepConvLSTMUSCHAD_withresampling_1/assets\n"
          ]
        },
        {
          "metadata": {
            "tags": null
          },
          "name": "stderr",
          "output_type": "stream",
          "text": [
            "INFO:tensorflow:Assets written to: /content/drive/My Drive/ECE_209_AS_project_data/USCHADmodels/DeepConvLSTMUSCHAD_withresampling_1/assets\n"
          ]
        },
        {
          "metadata": {
            "tags": null
          },
          "name": "stdout",
          "output_type": "stream",
          "text": [
            "INFO:tensorflow:Assets written to: /content/drive/My Drive/ECE_209_AS_project_data/USCHADmodels/DeepConvLSTMUSCHAD_withresampling_1/assets\n"
          ]
        },
        {
          "metadata": {
            "tags": null
          },
          "name": "stderr",
          "output_type": "stream",
          "text": [
            "INFO:tensorflow:Assets written to: /content/drive/My Drive/ECE_209_AS_project_data/USCHADmodels/DeepConvLSTMUSCHAD_withresampling_1/assets\n"
          ]
        },
        {
          "metadata": {
            "tags": null
          },
          "name": "stdout",
          "output_type": "stream",
          "text": [
            "INFO:tensorflow:Assets written to: /content/drive/My Drive/ECE_209_AS_project_data/USCHADmodels/DeepConvLSTMUSCHAD_withresampling_1/assets\n"
          ]
        },
        {
          "metadata": {
            "tags": null
          },
          "name": "stderr",
          "output_type": "stream",
          "text": [
            "INFO:tensorflow:Assets written to: /content/drive/My Drive/ECE_209_AS_project_data/USCHADmodels/DeepConvLSTMUSCHAD_withresampling_1/assets\n"
          ]
        },
        {
          "metadata": {
            "tags": null
          },
          "name": "stdout",
          "output_type": "stream",
          "text": [
            "INFO:tensorflow:Assets written to: /content/drive/My Drive/ECE_209_AS_project_data/USCHADmodels/DeepConvLSTMUSCHAD_withresampling_1/assets\n"
          ]
        },
        {
          "metadata": {
            "tags": null
          },
          "name": "stderr",
          "output_type": "stream",
          "text": [
            "INFO:tensorflow:Assets written to: /content/drive/My Drive/ECE_209_AS_project_data/USCHADmodels/DeepConvLSTMUSCHAD_withresampling_1/assets\n"
          ]
        },
        {
          "metadata": {
            "tags": null
          },
          "name": "stdout",
          "output_type": "stream",
          "text": [
            "INFO:tensorflow:Assets written to: /content/drive/My Drive/ECE_209_AS_project_data/USCHADmodels/DeepConvLSTMUSCHAD_withresampling_1/assets\n"
          ]
        },
        {
          "metadata": {
            "tags": null
          },
          "name": "stderr",
          "output_type": "stream",
          "text": [
            "INFO:tensorflow:Assets written to: /content/drive/My Drive/ECE_209_AS_project_data/USCHADmodels/DeepConvLSTMUSCHAD_withresampling_1/assets\n"
          ]
        },
        {
          "metadata": {
            "tags": null
          },
          "name": "stdout",
          "output_type": "stream",
          "text": [
            "tf.Tensor(0.84269834, shape=(), dtype=float32)\n",
            "INFO:tensorflow:Assets written to: /content/drive/My Drive/ECE_209_AS_project_data/USCHADmodels/DeepConvLSTMUSCHAD_withresampling_2/assets\n"
          ]
        },
        {
          "metadata": {
            "tags": null
          },
          "name": "stderr",
          "output_type": "stream",
          "text": [
            "INFO:tensorflow:Assets written to: /content/drive/My Drive/ECE_209_AS_project_data/USCHADmodels/DeepConvLSTMUSCHAD_withresampling_2/assets\n"
          ]
        },
        {
          "metadata": {
            "tags": null
          },
          "name": "stdout",
          "output_type": "stream",
          "text": [
            "INFO:tensorflow:Assets written to: /content/drive/My Drive/ECE_209_AS_project_data/USCHADmodels/DeepConvLSTMUSCHAD_withresampling_2/assets\n"
          ]
        },
        {
          "metadata": {
            "tags": null
          },
          "name": "stderr",
          "output_type": "stream",
          "text": [
            "INFO:tensorflow:Assets written to: /content/drive/My Drive/ECE_209_AS_project_data/USCHADmodels/DeepConvLSTMUSCHAD_withresampling_2/assets\n"
          ]
        },
        {
          "metadata": {
            "tags": null
          },
          "name": "stdout",
          "output_type": "stream",
          "text": [
            "INFO:tensorflow:Assets written to: /content/drive/My Drive/ECE_209_AS_project_data/USCHADmodels/DeepConvLSTMUSCHAD_withresampling_2/assets\n"
          ]
        },
        {
          "metadata": {
            "tags": null
          },
          "name": "stderr",
          "output_type": "stream",
          "text": [
            "INFO:tensorflow:Assets written to: /content/drive/My Drive/ECE_209_AS_project_data/USCHADmodels/DeepConvLSTMUSCHAD_withresampling_2/assets\n"
          ]
        },
        {
          "metadata": {
            "tags": null
          },
          "name": "stdout",
          "output_type": "stream",
          "text": [
            "INFO:tensorflow:Assets written to: /content/drive/My Drive/ECE_209_AS_project_data/USCHADmodels/DeepConvLSTMUSCHAD_withresampling_2/assets\n"
          ]
        },
        {
          "metadata": {
            "tags": null
          },
          "name": "stderr",
          "output_type": "stream",
          "text": [
            "INFO:tensorflow:Assets written to: /content/drive/My Drive/ECE_209_AS_project_data/USCHADmodels/DeepConvLSTMUSCHAD_withresampling_2/assets\n"
          ]
        },
        {
          "metadata": {
            "tags": null
          },
          "name": "stdout",
          "output_type": "stream",
          "text": [
            "INFO:tensorflow:Assets written to: /content/drive/My Drive/ECE_209_AS_project_data/USCHADmodels/DeepConvLSTMUSCHAD_withresampling_2/assets\n"
          ]
        },
        {
          "metadata": {
            "tags": null
          },
          "name": "stderr",
          "output_type": "stream",
          "text": [
            "INFO:tensorflow:Assets written to: /content/drive/My Drive/ECE_209_AS_project_data/USCHADmodels/DeepConvLSTMUSCHAD_withresampling_2/assets\n"
          ]
        },
        {
          "metadata": {
            "tags": null
          },
          "name": "stdout",
          "output_type": "stream",
          "text": [
            "INFO:tensorflow:Assets written to: /content/drive/My Drive/ECE_209_AS_project_data/USCHADmodels/DeepConvLSTMUSCHAD_withresampling_2/assets\n"
          ]
        },
        {
          "metadata": {
            "tags": null
          },
          "name": "stderr",
          "output_type": "stream",
          "text": [
            "INFO:tensorflow:Assets written to: /content/drive/My Drive/ECE_209_AS_project_data/USCHADmodels/DeepConvLSTMUSCHAD_withresampling_2/assets\n"
          ]
        },
        {
          "metadata": {
            "tags": null
          },
          "name": "stdout",
          "output_type": "stream",
          "text": [
            "INFO:tensorflow:Assets written to: /content/drive/My Drive/ECE_209_AS_project_data/USCHADmodels/DeepConvLSTMUSCHAD_withresampling_2/assets\n"
          ]
        },
        {
          "metadata": {
            "tags": null
          },
          "name": "stderr",
          "output_type": "stream",
          "text": [
            "INFO:tensorflow:Assets written to: /content/drive/My Drive/ECE_209_AS_project_data/USCHADmodels/DeepConvLSTMUSCHAD_withresampling_2/assets\n"
          ]
        },
        {
          "metadata": {
            "tags": null
          },
          "name": "stdout",
          "output_type": "stream",
          "text": [
            "INFO:tensorflow:Assets written to: /content/drive/My Drive/ECE_209_AS_project_data/USCHADmodels/DeepConvLSTMUSCHAD_withresampling_2/assets\n"
          ]
        },
        {
          "metadata": {
            "tags": null
          },
          "name": "stderr",
          "output_type": "stream",
          "text": [
            "INFO:tensorflow:Assets written to: /content/drive/My Drive/ECE_209_AS_project_data/USCHADmodels/DeepConvLSTMUSCHAD_withresampling_2/assets\n"
          ]
        },
        {
          "metadata": {
            "tags": null
          },
          "name": "stdout",
          "output_type": "stream",
          "text": [
            "INFO:tensorflow:Assets written to: /content/drive/My Drive/ECE_209_AS_project_data/USCHADmodels/DeepConvLSTMUSCHAD_withresampling_2/assets\n"
          ]
        },
        {
          "metadata": {
            "tags": null
          },
          "name": "stderr",
          "output_type": "stream",
          "text": [
            "INFO:tensorflow:Assets written to: /content/drive/My Drive/ECE_209_AS_project_data/USCHADmodels/DeepConvLSTMUSCHAD_withresampling_2/assets\n"
          ]
        },
        {
          "metadata": {
            "tags": null
          },
          "name": "stdout",
          "output_type": "stream",
          "text": [
            "INFO:tensorflow:Assets written to: /content/drive/My Drive/ECE_209_AS_project_data/USCHADmodels/DeepConvLSTMUSCHAD_withresampling_2/assets\n"
          ]
        },
        {
          "metadata": {
            "tags": null
          },
          "name": "stderr",
          "output_type": "stream",
          "text": [
            "INFO:tensorflow:Assets written to: /content/drive/My Drive/ECE_209_AS_project_data/USCHADmodels/DeepConvLSTMUSCHAD_withresampling_2/assets\n"
          ]
        },
        {
          "metadata": {
            "tags": null
          },
          "name": "stdout",
          "output_type": "stream",
          "text": [
            "INFO:tensorflow:Assets written to: /content/drive/My Drive/ECE_209_AS_project_data/USCHADmodels/DeepConvLSTMUSCHAD_withresampling_2/assets\n"
          ]
        },
        {
          "metadata": {
            "tags": null
          },
          "name": "stderr",
          "output_type": "stream",
          "text": [
            "INFO:tensorflow:Assets written to: /content/drive/My Drive/ECE_209_AS_project_data/USCHADmodels/DeepConvLSTMUSCHAD_withresampling_2/assets\n"
          ]
        },
        {
          "metadata": {
            "tags": null
          },
          "name": "stdout",
          "output_type": "stream",
          "text": [
            "INFO:tensorflow:Assets written to: /content/drive/My Drive/ECE_209_AS_project_data/USCHADmodels/DeepConvLSTMUSCHAD_withresampling_2/assets\n"
          ]
        },
        {
          "metadata": {
            "tags": null
          },
          "name": "stderr",
          "output_type": "stream",
          "text": [
            "INFO:tensorflow:Assets written to: /content/drive/My Drive/ECE_209_AS_project_data/USCHADmodels/DeepConvLSTMUSCHAD_withresampling_2/assets\n"
          ]
        },
        {
          "metadata": {
            "tags": null
          },
          "name": "stdout",
          "output_type": "stream",
          "text": [
            "tf.Tensor(0.83343625, shape=(), dtype=float32)\n",
            "INFO:tensorflow:Assets written to: /content/drive/My Drive/ECE_209_AS_project_data/USCHADmodels/DeepConvLSTMUSCHAD_withresampling_3/assets\n"
          ]
        },
        {
          "metadata": {
            "tags": null
          },
          "name": "stderr",
          "output_type": "stream",
          "text": [
            "INFO:tensorflow:Assets written to: /content/drive/My Drive/ECE_209_AS_project_data/USCHADmodels/DeepConvLSTMUSCHAD_withresampling_3/assets\n"
          ]
        },
        {
          "metadata": {
            "tags": null
          },
          "name": "stdout",
          "output_type": "stream",
          "text": [
            "INFO:tensorflow:Assets written to: /content/drive/My Drive/ECE_209_AS_project_data/USCHADmodels/DeepConvLSTMUSCHAD_withresampling_3/assets\n"
          ]
        },
        {
          "metadata": {
            "tags": null
          },
          "name": "stderr",
          "output_type": "stream",
          "text": [
            "INFO:tensorflow:Assets written to: /content/drive/My Drive/ECE_209_AS_project_data/USCHADmodels/DeepConvLSTMUSCHAD_withresampling_3/assets\n"
          ]
        },
        {
          "metadata": {
            "tags": null
          },
          "name": "stdout",
          "output_type": "stream",
          "text": [
            "INFO:tensorflow:Assets written to: /content/drive/My Drive/ECE_209_AS_project_data/USCHADmodels/DeepConvLSTMUSCHAD_withresampling_3/assets\n"
          ]
        },
        {
          "metadata": {
            "tags": null
          },
          "name": "stderr",
          "output_type": "stream",
          "text": [
            "INFO:tensorflow:Assets written to: /content/drive/My Drive/ECE_209_AS_project_data/USCHADmodels/DeepConvLSTMUSCHAD_withresampling_3/assets\n"
          ]
        },
        {
          "metadata": {
            "tags": null
          },
          "name": "stdout",
          "output_type": "stream",
          "text": [
            "INFO:tensorflow:Assets written to: /content/drive/My Drive/ECE_209_AS_project_data/USCHADmodels/DeepConvLSTMUSCHAD_withresampling_3/assets\n"
          ]
        },
        {
          "metadata": {
            "tags": null
          },
          "name": "stderr",
          "output_type": "stream",
          "text": [
            "INFO:tensorflow:Assets written to: /content/drive/My Drive/ECE_209_AS_project_data/USCHADmodels/DeepConvLSTMUSCHAD_withresampling_3/assets\n"
          ]
        },
        {
          "metadata": {
            "tags": null
          },
          "name": "stdout",
          "output_type": "stream",
          "text": [
            "INFO:tensorflow:Assets written to: /content/drive/My Drive/ECE_209_AS_project_data/USCHADmodels/DeepConvLSTMUSCHAD_withresampling_3/assets\n"
          ]
        },
        {
          "metadata": {
            "tags": null
          },
          "name": "stderr",
          "output_type": "stream",
          "text": [
            "INFO:tensorflow:Assets written to: /content/drive/My Drive/ECE_209_AS_project_data/USCHADmodels/DeepConvLSTMUSCHAD_withresampling_3/assets\n"
          ]
        },
        {
          "metadata": {
            "tags": null
          },
          "name": "stdout",
          "output_type": "stream",
          "text": [
            "INFO:tensorflow:Assets written to: /content/drive/My Drive/ECE_209_AS_project_data/USCHADmodels/DeepConvLSTMUSCHAD_withresampling_3/assets\n"
          ]
        },
        {
          "metadata": {
            "tags": null
          },
          "name": "stderr",
          "output_type": "stream",
          "text": [
            "INFO:tensorflow:Assets written to: /content/drive/My Drive/ECE_209_AS_project_data/USCHADmodels/DeepConvLSTMUSCHAD_withresampling_3/assets\n"
          ]
        },
        {
          "metadata": {
            "tags": null
          },
          "name": "stdout",
          "output_type": "stream",
          "text": [
            "INFO:tensorflow:Assets written to: /content/drive/My Drive/ECE_209_AS_project_data/USCHADmodels/DeepConvLSTMUSCHAD_withresampling_3/assets\n"
          ]
        },
        {
          "metadata": {
            "tags": null
          },
          "name": "stderr",
          "output_type": "stream",
          "text": [
            "INFO:tensorflow:Assets written to: /content/drive/My Drive/ECE_209_AS_project_data/USCHADmodels/DeepConvLSTMUSCHAD_withresampling_3/assets\n"
          ]
        },
        {
          "metadata": {
            "tags": null
          },
          "name": "stdout",
          "output_type": "stream",
          "text": [
            "INFO:tensorflow:Assets written to: /content/drive/My Drive/ECE_209_AS_project_data/USCHADmodels/DeepConvLSTMUSCHAD_withresampling_3/assets\n"
          ]
        },
        {
          "metadata": {
            "tags": null
          },
          "name": "stderr",
          "output_type": "stream",
          "text": [
            "INFO:tensorflow:Assets written to: /content/drive/My Drive/ECE_209_AS_project_data/USCHADmodels/DeepConvLSTMUSCHAD_withresampling_3/assets\n"
          ]
        },
        {
          "metadata": {
            "tags": null
          },
          "name": "stdout",
          "output_type": "stream",
          "text": [
            "INFO:tensorflow:Assets written to: /content/drive/My Drive/ECE_209_AS_project_data/USCHADmodels/DeepConvLSTMUSCHAD_withresampling_3/assets\n"
          ]
        },
        {
          "metadata": {
            "tags": null
          },
          "name": "stderr",
          "output_type": "stream",
          "text": [
            "INFO:tensorflow:Assets written to: /content/drive/My Drive/ECE_209_AS_project_data/USCHADmodels/DeepConvLSTMUSCHAD_withresampling_3/assets\n"
          ]
        },
        {
          "metadata": {
            "tags": null
          },
          "name": "stdout",
          "output_type": "stream",
          "text": [
            "INFO:tensorflow:Assets written to: /content/drive/My Drive/ECE_209_AS_project_data/USCHADmodels/DeepConvLSTMUSCHAD_withresampling_3/assets\n"
          ]
        },
        {
          "metadata": {
            "tags": null
          },
          "name": "stderr",
          "output_type": "stream",
          "text": [
            "INFO:tensorflow:Assets written to: /content/drive/My Drive/ECE_209_AS_project_data/USCHADmodels/DeepConvLSTMUSCHAD_withresampling_3/assets\n"
          ]
        },
        {
          "metadata": {
            "tags": null
          },
          "name": "stdout",
          "output_type": "stream",
          "text": [
            "INFO:tensorflow:Assets written to: /content/drive/My Drive/ECE_209_AS_project_data/USCHADmodels/DeepConvLSTMUSCHAD_withresampling_3/assets\n"
          ]
        },
        {
          "metadata": {
            "tags": null
          },
          "name": "stderr",
          "output_type": "stream",
          "text": [
            "INFO:tensorflow:Assets written to: /content/drive/My Drive/ECE_209_AS_project_data/USCHADmodels/DeepConvLSTMUSCHAD_withresampling_3/assets\n"
          ]
        },
        {
          "metadata": {
            "tags": null
          },
          "name": "stdout",
          "output_type": "stream",
          "text": [
            "INFO:tensorflow:Assets written to: /content/drive/My Drive/ECE_209_AS_project_data/USCHADmodels/DeepConvLSTMUSCHAD_withresampling_3/assets\n"
          ]
        },
        {
          "metadata": {
            "tags": null
          },
          "name": "stderr",
          "output_type": "stream",
          "text": [
            "INFO:tensorflow:Assets written to: /content/drive/My Drive/ECE_209_AS_project_data/USCHADmodels/DeepConvLSTMUSCHAD_withresampling_3/assets\n"
          ]
        },
        {
          "metadata": {
            "tags": null
          },
          "name": "stdout",
          "output_type": "stream",
          "text": [
            "tf.Tensor(0.8217042, shape=(), dtype=float32)\n",
            "INFO:tensorflow:Assets written to: /content/drive/My Drive/ECE_209_AS_project_data/USCHADmodels/DeepConvLSTMUSCHAD_withresampling_4/assets\n"
          ]
        },
        {
          "metadata": {
            "tags": null
          },
          "name": "stderr",
          "output_type": "stream",
          "text": [
            "INFO:tensorflow:Assets written to: /content/drive/My Drive/ECE_209_AS_project_data/USCHADmodels/DeepConvLSTMUSCHAD_withresampling_4/assets\n"
          ]
        },
        {
          "metadata": {
            "tags": null
          },
          "name": "stdout",
          "output_type": "stream",
          "text": [
            "INFO:tensorflow:Assets written to: /content/drive/My Drive/ECE_209_AS_project_data/USCHADmodels/DeepConvLSTMUSCHAD_withresampling_4/assets\n"
          ]
        },
        {
          "metadata": {
            "tags": null
          },
          "name": "stderr",
          "output_type": "stream",
          "text": [
            "INFO:tensorflow:Assets written to: /content/drive/My Drive/ECE_209_AS_project_data/USCHADmodels/DeepConvLSTMUSCHAD_withresampling_4/assets\n"
          ]
        },
        {
          "metadata": {
            "tags": null
          },
          "name": "stdout",
          "output_type": "stream",
          "text": [
            "INFO:tensorflow:Assets written to: /content/drive/My Drive/ECE_209_AS_project_data/USCHADmodels/DeepConvLSTMUSCHAD_withresampling_4/assets\n"
          ]
        },
        {
          "metadata": {
            "tags": null
          },
          "name": "stderr",
          "output_type": "stream",
          "text": [
            "INFO:tensorflow:Assets written to: /content/drive/My Drive/ECE_209_AS_project_data/USCHADmodels/DeepConvLSTMUSCHAD_withresampling_4/assets\n"
          ]
        },
        {
          "metadata": {
            "tags": null
          },
          "name": "stdout",
          "output_type": "stream",
          "text": [
            "INFO:tensorflow:Assets written to: /content/drive/My Drive/ECE_209_AS_project_data/USCHADmodels/DeepConvLSTMUSCHAD_withresampling_4/assets\n"
          ]
        },
        {
          "metadata": {
            "tags": null
          },
          "name": "stderr",
          "output_type": "stream",
          "text": [
            "INFO:tensorflow:Assets written to: /content/drive/My Drive/ECE_209_AS_project_data/USCHADmodels/DeepConvLSTMUSCHAD_withresampling_4/assets\n"
          ]
        },
        {
          "output_type": "stream",
          "name": "stdout",
          "text": [
            "INFO:tensorflow:Assets written to: /content/drive/My Drive/ECE_209_AS_project_data/USCHADmodels/DeepConvLSTMUSCHAD_withresampling_4/assets\n"
          ]
        },
        {
          "output_type": "stream",
          "name": "stderr",
          "text": [
            "INFO:tensorflow:Assets written to: /content/drive/My Drive/ECE_209_AS_project_data/USCHADmodels/DeepConvLSTMUSCHAD_withresampling_4/assets\n"
          ]
        },
        {
          "output_type": "stream",
          "name": "stdout",
          "text": [
            "INFO:tensorflow:Assets written to: /content/drive/My Drive/ECE_209_AS_project_data/USCHADmodels/DeepConvLSTMUSCHAD_withresampling_4/assets\n"
          ]
        },
        {
          "output_type": "stream",
          "name": "stderr",
          "text": [
            "INFO:tensorflow:Assets written to: /content/drive/My Drive/ECE_209_AS_project_data/USCHADmodels/DeepConvLSTMUSCHAD_withresampling_4/assets\n"
          ]
        },
        {
          "output_type": "stream",
          "name": "stdout",
          "text": [
            "INFO:tensorflow:Assets written to: /content/drive/My Drive/ECE_209_AS_project_data/USCHADmodels/DeepConvLSTMUSCHAD_withresampling_4/assets\n"
          ]
        },
        {
          "output_type": "stream",
          "name": "stderr",
          "text": [
            "INFO:tensorflow:Assets written to: /content/drive/My Drive/ECE_209_AS_project_data/USCHADmodels/DeepConvLSTMUSCHAD_withresampling_4/assets\n"
          ]
        },
        {
          "output_type": "stream",
          "name": "stdout",
          "text": [
            "INFO:tensorflow:Assets written to: /content/drive/My Drive/ECE_209_AS_project_data/USCHADmodels/DeepConvLSTMUSCHAD_withresampling_4/assets\n"
          ]
        },
        {
          "output_type": "stream",
          "name": "stderr",
          "text": [
            "INFO:tensorflow:Assets written to: /content/drive/My Drive/ECE_209_AS_project_data/USCHADmodels/DeepConvLSTMUSCHAD_withresampling_4/assets\n"
          ]
        },
        {
          "output_type": "stream",
          "name": "stdout",
          "text": [
            "INFO:tensorflow:Assets written to: /content/drive/My Drive/ECE_209_AS_project_data/USCHADmodels/DeepConvLSTMUSCHAD_withresampling_4/assets\n"
          ]
        },
        {
          "output_type": "stream",
          "name": "stderr",
          "text": [
            "INFO:tensorflow:Assets written to: /content/drive/My Drive/ECE_209_AS_project_data/USCHADmodels/DeepConvLSTMUSCHAD_withresampling_4/assets\n"
          ]
        },
        {
          "output_type": "stream",
          "name": "stdout",
          "text": [
            "INFO:tensorflow:Assets written to: /content/drive/My Drive/ECE_209_AS_project_data/USCHADmodels/DeepConvLSTMUSCHAD_withresampling_4/assets\n"
          ]
        },
        {
          "output_type": "stream",
          "name": "stderr",
          "text": [
            "INFO:tensorflow:Assets written to: /content/drive/My Drive/ECE_209_AS_project_data/USCHADmodels/DeepConvLSTMUSCHAD_withresampling_4/assets\n"
          ]
        },
        {
          "output_type": "stream",
          "name": "stdout",
          "text": [
            "INFO:tensorflow:Assets written to: /content/drive/My Drive/ECE_209_AS_project_data/USCHADmodels/DeepConvLSTMUSCHAD_withresampling_4/assets\n"
          ]
        },
        {
          "output_type": "stream",
          "name": "stderr",
          "text": [
            "INFO:tensorflow:Assets written to: /content/drive/My Drive/ECE_209_AS_project_data/USCHADmodels/DeepConvLSTMUSCHAD_withresampling_4/assets\n"
          ]
        },
        {
          "output_type": "stream",
          "name": "stdout",
          "text": [
            "INFO:tensorflow:Assets written to: /content/drive/My Drive/ECE_209_AS_project_data/USCHADmodels/DeepConvLSTMUSCHAD_withresampling_4/assets\n"
          ]
        },
        {
          "output_type": "stream",
          "name": "stderr",
          "text": [
            "INFO:tensorflow:Assets written to: /content/drive/My Drive/ECE_209_AS_project_data/USCHADmodels/DeepConvLSTMUSCHAD_withresampling_4/assets\n"
          ]
        },
        {
          "output_type": "stream",
          "name": "stdout",
          "text": [
            "INFO:tensorflow:Assets written to: /content/drive/My Drive/ECE_209_AS_project_data/USCHADmodels/DeepConvLSTMUSCHAD_withresampling_4/assets\n"
          ]
        },
        {
          "output_type": "stream",
          "name": "stderr",
          "text": [
            "INFO:tensorflow:Assets written to: /content/drive/My Drive/ECE_209_AS_project_data/USCHADmodels/DeepConvLSTMUSCHAD_withresampling_4/assets\n"
          ]
        },
        {
          "output_type": "stream",
          "name": "stdout",
          "text": [
            "INFO:tensorflow:Assets written to: /content/drive/My Drive/ECE_209_AS_project_data/USCHADmodels/DeepConvLSTMUSCHAD_withresampling_4/assets\n"
          ]
        },
        {
          "output_type": "stream",
          "name": "stderr",
          "text": [
            "INFO:tensorflow:Assets written to: /content/drive/My Drive/ECE_209_AS_project_data/USCHADmodels/DeepConvLSTMUSCHAD_withresampling_4/assets\n"
          ]
        },
        {
          "output_type": "stream",
          "name": "stdout",
          "text": [
            "tf.Tensor(0.79700524, shape=(), dtype=float32)\n"
          ]
        }
      ],
      "id": "UUtilrEyXgDj"
    },
    {
      "cell_type": "code",
      "source": [
        "test_accuracies_resampling = []\n",
        "recall_scores_resampling = []\n",
        "\n",
        "for i in range(5):\n",
        "\n",
        "  model_saved = keras.models.load_model(path_to_models + f\"DeepConvLSTMUSCHAD_withresampling_{i}\")\n",
        "  test_accuracy = tf.keras.metrics.Accuracy()\n",
        "  logits = model_saved(X_test, training=False)\n",
        "  prediction = tf.argmax(logits, axis=1, output_type=tf.int32)\n",
        "  test_accuracies_resampling.append(test_accuracy(prediction, Y_test))\n",
        "  recall_scores_resampling.append(recall_score(Y_test, prediction, average=None))"
      ],
      "metadata": {
        "id": "vRZwBN1foPoL"
      },
      "id": "vRZwBN1foPoL",
      "execution_count": 39,
      "outputs": []
    },
    {
      "cell_type": "code",
      "source": [
        "sum_ac = 0\n",
        "\n",
        "for ac in test_accuracies_resampling:\n",
        "\n",
        "  sum_ac += ac.numpy()\n",
        "\n",
        "print(f\"Mean accuracy is {round(sum_ac/len(test_accuracies_resampling), 2)}\")"
      ],
      "metadata": {
        "colab": {
          "base_uri": "https://localhost:8080/"
        },
        "outputId": "9bbbc3f1-5d02-47ab-ce61-ab56056949f9",
        "id": "Od6AICaYXgDj"
      },
      "execution_count": 40,
      "outputs": [
        {
          "output_type": "stream",
          "name": "stdout",
          "text": [
            "Mean accuracy is 0.85\n"
          ]
        }
      ],
      "id": "Od6AICaYXgDj"
    },
    {
      "cell_type": "code",
      "source": [
        "mean_recall_scores_with_resampling  = sum(recall_scores_resampling)/len(recall_scores_resampling)\n",
        "\n",
        "for i in range(len(mean_recall_scores_with_resampling)):\n",
        "\n",
        "  print(f\"Label {data_class_names[i]} has mean accuracy {round(mean_recall_scores_with_resampling[i], 2)}\")"
      ],
      "metadata": {
        "colab": {
          "base_uri": "https://localhost:8080/"
        },
        "outputId": "4032cd0a-1bc9-4d7e-bf3e-3f9ec9ec3014",
        "id": "gWdlo5-0XgDj"
      },
      "execution_count": 41,
      "outputs": [
        {
          "output_type": "stream",
          "name": "stdout",
          "text": [
            "Label walking forward has mean accuracy 0.91\n",
            "Label walking left has mean accuracy 0.91\n",
            "Label walking right has mean accuracy 0.92\n",
            "Label walking upstairs has mean accuracy 0.89\n",
            "Label walking downstairs has mean accuracy 0.85\n",
            "Label running forward has mean accuracy 0.96\n",
            "Label jumping has mean accuracy 0.85\n",
            "Label sitting has mean accuracy 0.87\n",
            "Label standing  has mean accuracy 0.8\n",
            "Label sleeping  has mean accuracy 1.0\n",
            "Label elevator up has mean accuracy 0.41\n",
            "Label elevator down has mean accuracy 0.51\n"
          ]
        }
      ],
      "id": "gWdlo5-0XgDj"
    },
    {
      "cell_type": "markdown",
      "source": [
        "### Noise "
      ],
      "metadata": {
        "id": "UUv5V3qmdHiK"
      },
      "id": "UUv5V3qmdHiK"
    },
    {
      "cell_type": "code",
      "source": [
        "test_accuracies_noise = []\n",
        "recall_scores_noise = []\n",
        "\n",
        "for i in range(5):\n",
        "\n",
        "  rnd_seed = seeds[i]\n",
        "  tf.random.set_seed(rnd_seed)\n",
        "  indices = np.random.RandomState(seed=rnd_seed).permutation(len(X_train))\n",
        "  X_train = X_train[indices]\n",
        "  Y_train = Y_train[indices]\n",
        "\n",
        "  X_train_noise = noise((X_train))\n",
        "  Xtrain_tot=np.concatenate((X_train, X_train_noise))\n",
        "  Y_train_tot = np.concatenate((Y_train, Y_train))\n",
        "\n",
        "  train_data = Xtrain_tot[len(Xtrain_tot)//10:]\n",
        "  train_labels = Y_train_tot[len(Xtrain_tot)//10:]\n",
        "  val_data = Xtrain_tot[:len(Xtrain_tot)//10]\n",
        "  val_labels = Y_train_tot[:len(Xtrain_tot)//10]\n",
        "\n",
        "  model = keras.Model(inputs = inputs, outputs = outputs)\n",
        "  model.compile(loss = \"sparse_categorical_crossentropy\", optimizer = \"adam\", metrics=[\"accuracy\"])\n",
        "  tensorboard = keras.callbacks.TensorBoard(log_dir = path_to_logs)\n",
        "  callbacks = [keras.callbacks.ModelCheckpoint(filepath=path_to_models + f\"DeepConvLSTMUSCHAD_withnoise_{i}\"), tensorboard, keras.callbacks.EarlyStopping(monitor='val_loss', patience=10)]\n",
        "  history = model.fit(train_data, train_labels, epochs = 25, batch_size = 64, validation_data = (val_data, val_labels), callbacks = callbacks, class_weight = data_class_weights, verbose = False)\n",
        "\n",
        "  model_saved = keras.models.load_model(path_to_models + f\"DeepConvLSTMUSCHAD_withnoise_{i}\")\n",
        "  test_accuracy = tf.keras.metrics.Accuracy()\n",
        "  logits = model_saved(X_test, training=False)\n",
        "  prediction = tf.argmax(logits, axis=1, output_type=tf.int32)\n",
        "  test_accuracies_noise.append(test_accuracy(prediction, Y_test))\n",
        "  print(test_accuracy(prediction, Y_test))\n",
        "  recall_scores_noise.append(recall_score(Y_test, prediction, average=None))"
      ],
      "metadata": {
        "colab": {
          "base_uri": "https://localhost:8080/"
        },
        "outputId": "e244832c-040e-43c8-efe4-832b28422838",
        "id": "njf8OupEdHiL"
      },
      "execution_count": 55,
      "outputs": [
        {
          "output_type": "stream",
          "name": "stdout",
          "text": [
            "INFO:tensorflow:Assets written to: /content/drive/My Drive/ECE_209_AS_project_data/USCHADmodels/DeepConvLSTMUSCHAD_withnoise_0/assets\n"
          ]
        },
        {
          "output_type": "stream",
          "name": "stderr",
          "text": [
            "INFO:tensorflow:Assets written to: /content/drive/My Drive/ECE_209_AS_project_data/USCHADmodels/DeepConvLSTMUSCHAD_withnoise_0/assets\n"
          ]
        },
        {
          "output_type": "stream",
          "name": "stdout",
          "text": [
            "INFO:tensorflow:Assets written to: /content/drive/My Drive/ECE_209_AS_project_data/USCHADmodels/DeepConvLSTMUSCHAD_withnoise_0/assets\n"
          ]
        },
        {
          "output_type": "stream",
          "name": "stderr",
          "text": [
            "INFO:tensorflow:Assets written to: /content/drive/My Drive/ECE_209_AS_project_data/USCHADmodels/DeepConvLSTMUSCHAD_withnoise_0/assets\n"
          ]
        },
        {
          "output_type": "stream",
          "name": "stdout",
          "text": [
            "INFO:tensorflow:Assets written to: /content/drive/My Drive/ECE_209_AS_project_data/USCHADmodels/DeepConvLSTMUSCHAD_withnoise_0/assets\n"
          ]
        },
        {
          "output_type": "stream",
          "name": "stderr",
          "text": [
            "INFO:tensorflow:Assets written to: /content/drive/My Drive/ECE_209_AS_project_data/USCHADmodels/DeepConvLSTMUSCHAD_withnoise_0/assets\n"
          ]
        },
        {
          "output_type": "stream",
          "name": "stdout",
          "text": [
            "INFO:tensorflow:Assets written to: /content/drive/My Drive/ECE_209_AS_project_data/USCHADmodels/DeepConvLSTMUSCHAD_withnoise_0/assets\n"
          ]
        },
        {
          "output_type": "stream",
          "name": "stderr",
          "text": [
            "INFO:tensorflow:Assets written to: /content/drive/My Drive/ECE_209_AS_project_data/USCHADmodels/DeepConvLSTMUSCHAD_withnoise_0/assets\n"
          ]
        },
        {
          "output_type": "stream",
          "name": "stdout",
          "text": [
            "INFO:tensorflow:Assets written to: /content/drive/My Drive/ECE_209_AS_project_data/USCHADmodels/DeepConvLSTMUSCHAD_withnoise_0/assets\n"
          ]
        },
        {
          "output_type": "stream",
          "name": "stderr",
          "text": [
            "INFO:tensorflow:Assets written to: /content/drive/My Drive/ECE_209_AS_project_data/USCHADmodels/DeepConvLSTMUSCHAD_withnoise_0/assets\n"
          ]
        },
        {
          "output_type": "stream",
          "name": "stdout",
          "text": [
            "INFO:tensorflow:Assets written to: /content/drive/My Drive/ECE_209_AS_project_data/USCHADmodels/DeepConvLSTMUSCHAD_withnoise_0/assets\n"
          ]
        },
        {
          "output_type": "stream",
          "name": "stderr",
          "text": [
            "INFO:tensorflow:Assets written to: /content/drive/My Drive/ECE_209_AS_project_data/USCHADmodels/DeepConvLSTMUSCHAD_withnoise_0/assets\n"
          ]
        },
        {
          "output_type": "stream",
          "name": "stdout",
          "text": [
            "INFO:tensorflow:Assets written to: /content/drive/My Drive/ECE_209_AS_project_data/USCHADmodels/DeepConvLSTMUSCHAD_withnoise_0/assets\n"
          ]
        },
        {
          "output_type": "stream",
          "name": "stderr",
          "text": [
            "INFO:tensorflow:Assets written to: /content/drive/My Drive/ECE_209_AS_project_data/USCHADmodels/DeepConvLSTMUSCHAD_withnoise_0/assets\n"
          ]
        },
        {
          "output_type": "stream",
          "name": "stdout",
          "text": [
            "INFO:tensorflow:Assets written to: /content/drive/My Drive/ECE_209_AS_project_data/USCHADmodels/DeepConvLSTMUSCHAD_withnoise_0/assets\n"
          ]
        },
        {
          "output_type": "stream",
          "name": "stderr",
          "text": [
            "INFO:tensorflow:Assets written to: /content/drive/My Drive/ECE_209_AS_project_data/USCHADmodels/DeepConvLSTMUSCHAD_withnoise_0/assets\n"
          ]
        },
        {
          "output_type": "stream",
          "name": "stdout",
          "text": [
            "INFO:tensorflow:Assets written to: /content/drive/My Drive/ECE_209_AS_project_data/USCHADmodels/DeepConvLSTMUSCHAD_withnoise_0/assets\n"
          ]
        },
        {
          "output_type": "stream",
          "name": "stderr",
          "text": [
            "INFO:tensorflow:Assets written to: /content/drive/My Drive/ECE_209_AS_project_data/USCHADmodels/DeepConvLSTMUSCHAD_withnoise_0/assets\n"
          ]
        },
        {
          "output_type": "stream",
          "name": "stdout",
          "text": [
            "INFO:tensorflow:Assets written to: /content/drive/My Drive/ECE_209_AS_project_data/USCHADmodels/DeepConvLSTMUSCHAD_withnoise_0/assets\n"
          ]
        },
        {
          "output_type": "stream",
          "name": "stderr",
          "text": [
            "INFO:tensorflow:Assets written to: /content/drive/My Drive/ECE_209_AS_project_data/USCHADmodels/DeepConvLSTMUSCHAD_withnoise_0/assets\n"
          ]
        },
        {
          "output_type": "stream",
          "name": "stdout",
          "text": [
            "INFO:tensorflow:Assets written to: /content/drive/My Drive/ECE_209_AS_project_data/USCHADmodels/DeepConvLSTMUSCHAD_withnoise_0/assets\n"
          ]
        },
        {
          "output_type": "stream",
          "name": "stderr",
          "text": [
            "INFO:tensorflow:Assets written to: /content/drive/My Drive/ECE_209_AS_project_data/USCHADmodels/DeepConvLSTMUSCHAD_withnoise_0/assets\n"
          ]
        },
        {
          "output_type": "stream",
          "name": "stdout",
          "text": [
            "INFO:tensorflow:Assets written to: /content/drive/My Drive/ECE_209_AS_project_data/USCHADmodels/DeepConvLSTMUSCHAD_withnoise_0/assets\n"
          ]
        },
        {
          "output_type": "stream",
          "name": "stderr",
          "text": [
            "INFO:tensorflow:Assets written to: /content/drive/My Drive/ECE_209_AS_project_data/USCHADmodels/DeepConvLSTMUSCHAD_withnoise_0/assets\n"
          ]
        },
        {
          "output_type": "stream",
          "name": "stdout",
          "text": [
            "INFO:tensorflow:Assets written to: /content/drive/My Drive/ECE_209_AS_project_data/USCHADmodels/DeepConvLSTMUSCHAD_withnoise_0/assets\n"
          ]
        },
        {
          "output_type": "stream",
          "name": "stderr",
          "text": [
            "INFO:tensorflow:Assets written to: /content/drive/My Drive/ECE_209_AS_project_data/USCHADmodels/DeepConvLSTMUSCHAD_withnoise_0/assets\n"
          ]
        },
        {
          "output_type": "stream",
          "name": "stdout",
          "text": [
            "INFO:tensorflow:Assets written to: /content/drive/My Drive/ECE_209_AS_project_data/USCHADmodels/DeepConvLSTMUSCHAD_withnoise_0/assets\n"
          ]
        },
        {
          "output_type": "stream",
          "name": "stderr",
          "text": [
            "INFO:tensorflow:Assets written to: /content/drive/My Drive/ECE_209_AS_project_data/USCHADmodels/DeepConvLSTMUSCHAD_withnoise_0/assets\n"
          ]
        },
        {
          "output_type": "stream",
          "name": "stdout",
          "text": [
            "INFO:tensorflow:Assets written to: /content/drive/My Drive/ECE_209_AS_project_data/USCHADmodels/DeepConvLSTMUSCHAD_withnoise_0/assets\n"
          ]
        },
        {
          "output_type": "stream",
          "name": "stderr",
          "text": [
            "INFO:tensorflow:Assets written to: /content/drive/My Drive/ECE_209_AS_project_data/USCHADmodels/DeepConvLSTMUSCHAD_withnoise_0/assets\n"
          ]
        },
        {
          "output_type": "stream",
          "name": "stdout",
          "text": [
            "INFO:tensorflow:Assets written to: /content/drive/My Drive/ECE_209_AS_project_data/USCHADmodels/DeepConvLSTMUSCHAD_withnoise_0/assets\n"
          ]
        },
        {
          "output_type": "stream",
          "name": "stderr",
          "text": [
            "INFO:tensorflow:Assets written to: /content/drive/My Drive/ECE_209_AS_project_data/USCHADmodels/DeepConvLSTMUSCHAD_withnoise_0/assets\n"
          ]
        },
        {
          "output_type": "stream",
          "name": "stdout",
          "text": [
            "INFO:tensorflow:Assets written to: /content/drive/My Drive/ECE_209_AS_project_data/USCHADmodels/DeepConvLSTMUSCHAD_withnoise_0/assets\n"
          ]
        },
        {
          "output_type": "stream",
          "name": "stderr",
          "text": [
            "INFO:tensorflow:Assets written to: /content/drive/My Drive/ECE_209_AS_project_data/USCHADmodels/DeepConvLSTMUSCHAD_withnoise_0/assets\n"
          ]
        },
        {
          "output_type": "stream",
          "name": "stdout",
          "text": [
            "INFO:tensorflow:Assets written to: /content/drive/My Drive/ECE_209_AS_project_data/USCHADmodels/DeepConvLSTMUSCHAD_withnoise_0/assets\n"
          ]
        },
        {
          "output_type": "stream",
          "name": "stderr",
          "text": [
            "INFO:tensorflow:Assets written to: /content/drive/My Drive/ECE_209_AS_project_data/USCHADmodels/DeepConvLSTMUSCHAD_withnoise_0/assets\n"
          ]
        },
        {
          "output_type": "stream",
          "name": "stdout",
          "text": [
            "INFO:tensorflow:Assets written to: /content/drive/My Drive/ECE_209_AS_project_data/USCHADmodels/DeepConvLSTMUSCHAD_withnoise_0/assets\n"
          ]
        },
        {
          "output_type": "stream",
          "name": "stderr",
          "text": [
            "INFO:tensorflow:Assets written to: /content/drive/My Drive/ECE_209_AS_project_data/USCHADmodels/DeepConvLSTMUSCHAD_withnoise_0/assets\n"
          ]
        },
        {
          "output_type": "stream",
          "name": "stdout",
          "text": [
            "INFO:tensorflow:Assets written to: /content/drive/My Drive/ECE_209_AS_project_data/USCHADmodels/DeepConvLSTMUSCHAD_withnoise_0/assets\n"
          ]
        },
        {
          "output_type": "stream",
          "name": "stderr",
          "text": [
            "INFO:tensorflow:Assets written to: /content/drive/My Drive/ECE_209_AS_project_data/USCHADmodels/DeepConvLSTMUSCHAD_withnoise_0/assets\n"
          ]
        },
        {
          "output_type": "stream",
          "name": "stdout",
          "text": [
            "INFO:tensorflow:Assets written to: /content/drive/My Drive/ECE_209_AS_project_data/USCHADmodels/DeepConvLSTMUSCHAD_withnoise_0/assets\n"
          ]
        },
        {
          "output_type": "stream",
          "name": "stderr",
          "text": [
            "INFO:tensorflow:Assets written to: /content/drive/My Drive/ECE_209_AS_project_data/USCHADmodels/DeepConvLSTMUSCHAD_withnoise_0/assets\n"
          ]
        },
        {
          "output_type": "stream",
          "name": "stdout",
          "text": [
            "INFO:tensorflow:Assets written to: /content/drive/My Drive/ECE_209_AS_project_data/USCHADmodels/DeepConvLSTMUSCHAD_withnoise_0/assets\n"
          ]
        },
        {
          "output_type": "stream",
          "name": "stderr",
          "text": [
            "INFO:tensorflow:Assets written to: /content/drive/My Drive/ECE_209_AS_project_data/USCHADmodels/DeepConvLSTMUSCHAD_withnoise_0/assets\n"
          ]
        },
        {
          "output_type": "stream",
          "name": "stdout",
          "text": [
            "INFO:tensorflow:Assets written to: /content/drive/My Drive/ECE_209_AS_project_data/USCHADmodels/DeepConvLSTMUSCHAD_withnoise_0/assets\n"
          ]
        },
        {
          "output_type": "stream",
          "name": "stderr",
          "text": [
            "INFO:tensorflow:Assets written to: /content/drive/My Drive/ECE_209_AS_project_data/USCHADmodels/DeepConvLSTMUSCHAD_withnoise_0/assets\n"
          ]
        },
        {
          "output_type": "stream",
          "name": "stdout",
          "text": [
            "INFO:tensorflow:Assets written to: /content/drive/My Drive/ECE_209_AS_project_data/USCHADmodels/DeepConvLSTMUSCHAD_withnoise_0/assets\n"
          ]
        },
        {
          "output_type": "stream",
          "name": "stderr",
          "text": [
            "INFO:tensorflow:Assets written to: /content/drive/My Drive/ECE_209_AS_project_data/USCHADmodels/DeepConvLSTMUSCHAD_withnoise_0/assets\n"
          ]
        },
        {
          "output_type": "stream",
          "name": "stdout",
          "text": [
            "INFO:tensorflow:Assets written to: /content/drive/My Drive/ECE_209_AS_project_data/USCHADmodels/DeepConvLSTMUSCHAD_withnoise_0/assets\n"
          ]
        },
        {
          "output_type": "stream",
          "name": "stderr",
          "text": [
            "INFO:tensorflow:Assets written to: /content/drive/My Drive/ECE_209_AS_project_data/USCHADmodels/DeepConvLSTMUSCHAD_withnoise_0/assets\n"
          ]
        },
        {
          "output_type": "stream",
          "name": "stdout",
          "text": [
            "tf.Tensor(0.84084594, shape=(), dtype=float32)\n",
            "INFO:tensorflow:Assets written to: /content/drive/My Drive/ECE_209_AS_project_data/USCHADmodels/DeepConvLSTMUSCHAD_withnoise_1/assets\n"
          ]
        },
        {
          "output_type": "stream",
          "name": "stderr",
          "text": [
            "INFO:tensorflow:Assets written to: /content/drive/My Drive/ECE_209_AS_project_data/USCHADmodels/DeepConvLSTMUSCHAD_withnoise_1/assets\n"
          ]
        },
        {
          "output_type": "stream",
          "name": "stdout",
          "text": [
            "INFO:tensorflow:Assets written to: /content/drive/My Drive/ECE_209_AS_project_data/USCHADmodels/DeepConvLSTMUSCHAD_withnoise_1/assets\n"
          ]
        },
        {
          "output_type": "stream",
          "name": "stderr",
          "text": [
            "INFO:tensorflow:Assets written to: /content/drive/My Drive/ECE_209_AS_project_data/USCHADmodels/DeepConvLSTMUSCHAD_withnoise_1/assets\n"
          ]
        },
        {
          "output_type": "stream",
          "name": "stdout",
          "text": [
            "INFO:tensorflow:Assets written to: /content/drive/My Drive/ECE_209_AS_project_data/USCHADmodels/DeepConvLSTMUSCHAD_withnoise_1/assets\n"
          ]
        },
        {
          "output_type": "stream",
          "name": "stderr",
          "text": [
            "INFO:tensorflow:Assets written to: /content/drive/My Drive/ECE_209_AS_project_data/USCHADmodels/DeepConvLSTMUSCHAD_withnoise_1/assets\n"
          ]
        },
        {
          "output_type": "stream",
          "name": "stdout",
          "text": [
            "INFO:tensorflow:Assets written to: /content/drive/My Drive/ECE_209_AS_project_data/USCHADmodels/DeepConvLSTMUSCHAD_withnoise_1/assets\n"
          ]
        },
        {
          "output_type": "stream",
          "name": "stderr",
          "text": [
            "INFO:tensorflow:Assets written to: /content/drive/My Drive/ECE_209_AS_project_data/USCHADmodels/DeepConvLSTMUSCHAD_withnoise_1/assets\n"
          ]
        },
        {
          "output_type": "stream",
          "name": "stdout",
          "text": [
            "INFO:tensorflow:Assets written to: /content/drive/My Drive/ECE_209_AS_project_data/USCHADmodels/DeepConvLSTMUSCHAD_withnoise_1/assets\n"
          ]
        },
        {
          "output_type": "stream",
          "name": "stderr",
          "text": [
            "INFO:tensorflow:Assets written to: /content/drive/My Drive/ECE_209_AS_project_data/USCHADmodels/DeepConvLSTMUSCHAD_withnoise_1/assets\n"
          ]
        },
        {
          "output_type": "stream",
          "name": "stdout",
          "text": [
            "INFO:tensorflow:Assets written to: /content/drive/My Drive/ECE_209_AS_project_data/USCHADmodels/DeepConvLSTMUSCHAD_withnoise_1/assets\n"
          ]
        },
        {
          "output_type": "stream",
          "name": "stderr",
          "text": [
            "INFO:tensorflow:Assets written to: /content/drive/My Drive/ECE_209_AS_project_data/USCHADmodels/DeepConvLSTMUSCHAD_withnoise_1/assets\n"
          ]
        },
        {
          "output_type": "stream",
          "name": "stdout",
          "text": [
            "INFO:tensorflow:Assets written to: /content/drive/My Drive/ECE_209_AS_project_data/USCHADmodels/DeepConvLSTMUSCHAD_withnoise_1/assets\n"
          ]
        },
        {
          "output_type": "stream",
          "name": "stderr",
          "text": [
            "INFO:tensorflow:Assets written to: /content/drive/My Drive/ECE_209_AS_project_data/USCHADmodels/DeepConvLSTMUSCHAD_withnoise_1/assets\n"
          ]
        },
        {
          "output_type": "stream",
          "name": "stdout",
          "text": [
            "INFO:tensorflow:Assets written to: /content/drive/My Drive/ECE_209_AS_project_data/USCHADmodels/DeepConvLSTMUSCHAD_withnoise_1/assets\n"
          ]
        },
        {
          "output_type": "stream",
          "name": "stderr",
          "text": [
            "INFO:tensorflow:Assets written to: /content/drive/My Drive/ECE_209_AS_project_data/USCHADmodels/DeepConvLSTMUSCHAD_withnoise_1/assets\n"
          ]
        },
        {
          "output_type": "stream",
          "name": "stdout",
          "text": [
            "INFO:tensorflow:Assets written to: /content/drive/My Drive/ECE_209_AS_project_data/USCHADmodels/DeepConvLSTMUSCHAD_withnoise_1/assets\n"
          ]
        },
        {
          "output_type": "stream",
          "name": "stderr",
          "text": [
            "INFO:tensorflow:Assets written to: /content/drive/My Drive/ECE_209_AS_project_data/USCHADmodels/DeepConvLSTMUSCHAD_withnoise_1/assets\n"
          ]
        },
        {
          "output_type": "stream",
          "name": "stdout",
          "text": [
            "INFO:tensorflow:Assets written to: /content/drive/My Drive/ECE_209_AS_project_data/USCHADmodels/DeepConvLSTMUSCHAD_withnoise_1/assets\n"
          ]
        },
        {
          "output_type": "stream",
          "name": "stderr",
          "text": [
            "INFO:tensorflow:Assets written to: /content/drive/My Drive/ECE_209_AS_project_data/USCHADmodels/DeepConvLSTMUSCHAD_withnoise_1/assets\n"
          ]
        },
        {
          "output_type": "stream",
          "name": "stdout",
          "text": [
            "INFO:tensorflow:Assets written to: /content/drive/My Drive/ECE_209_AS_project_data/USCHADmodels/DeepConvLSTMUSCHAD_withnoise_1/assets\n"
          ]
        },
        {
          "output_type": "stream",
          "name": "stderr",
          "text": [
            "INFO:tensorflow:Assets written to: /content/drive/My Drive/ECE_209_AS_project_data/USCHADmodels/DeepConvLSTMUSCHAD_withnoise_1/assets\n"
          ]
        },
        {
          "output_type": "stream",
          "name": "stdout",
          "text": [
            "INFO:tensorflow:Assets written to: /content/drive/My Drive/ECE_209_AS_project_data/USCHADmodels/DeepConvLSTMUSCHAD_withnoise_1/assets\n"
          ]
        },
        {
          "output_type": "stream",
          "name": "stderr",
          "text": [
            "INFO:tensorflow:Assets written to: /content/drive/My Drive/ECE_209_AS_project_data/USCHADmodels/DeepConvLSTMUSCHAD_withnoise_1/assets\n"
          ]
        },
        {
          "output_type": "stream",
          "name": "stdout",
          "text": [
            "INFO:tensorflow:Assets written to: /content/drive/My Drive/ECE_209_AS_project_data/USCHADmodels/DeepConvLSTMUSCHAD_withnoise_1/assets\n"
          ]
        },
        {
          "output_type": "stream",
          "name": "stderr",
          "text": [
            "INFO:tensorflow:Assets written to: /content/drive/My Drive/ECE_209_AS_project_data/USCHADmodels/DeepConvLSTMUSCHAD_withnoise_1/assets\n"
          ]
        },
        {
          "output_type": "stream",
          "name": "stdout",
          "text": [
            "INFO:tensorflow:Assets written to: /content/drive/My Drive/ECE_209_AS_project_data/USCHADmodels/DeepConvLSTMUSCHAD_withnoise_1/assets\n"
          ]
        },
        {
          "output_type": "stream",
          "name": "stderr",
          "text": [
            "INFO:tensorflow:Assets written to: /content/drive/My Drive/ECE_209_AS_project_data/USCHADmodels/DeepConvLSTMUSCHAD_withnoise_1/assets\n"
          ]
        },
        {
          "output_type": "stream",
          "name": "stdout",
          "text": [
            "INFO:tensorflow:Assets written to: /content/drive/My Drive/ECE_209_AS_project_data/USCHADmodels/DeepConvLSTMUSCHAD_withnoise_1/assets\n"
          ]
        },
        {
          "output_type": "stream",
          "name": "stderr",
          "text": [
            "INFO:tensorflow:Assets written to: /content/drive/My Drive/ECE_209_AS_project_data/USCHADmodels/DeepConvLSTMUSCHAD_withnoise_1/assets\n"
          ]
        },
        {
          "output_type": "stream",
          "name": "stdout",
          "text": [
            "INFO:tensorflow:Assets written to: /content/drive/My Drive/ECE_209_AS_project_data/USCHADmodels/DeepConvLSTMUSCHAD_withnoise_1/assets\n"
          ]
        },
        {
          "output_type": "stream",
          "name": "stderr",
          "text": [
            "INFO:tensorflow:Assets written to: /content/drive/My Drive/ECE_209_AS_project_data/USCHADmodels/DeepConvLSTMUSCHAD_withnoise_1/assets\n"
          ]
        },
        {
          "output_type": "stream",
          "name": "stdout",
          "text": [
            "INFO:tensorflow:Assets written to: /content/drive/My Drive/ECE_209_AS_project_data/USCHADmodels/DeepConvLSTMUSCHAD_withnoise_1/assets\n"
          ]
        },
        {
          "output_type": "stream",
          "name": "stderr",
          "text": [
            "INFO:tensorflow:Assets written to: /content/drive/My Drive/ECE_209_AS_project_data/USCHADmodels/DeepConvLSTMUSCHAD_withnoise_1/assets\n"
          ]
        },
        {
          "output_type": "stream",
          "name": "stdout",
          "text": [
            "INFO:tensorflow:Assets written to: /content/drive/My Drive/ECE_209_AS_project_data/USCHADmodels/DeepConvLSTMUSCHAD_withnoise_1/assets\n"
          ]
        },
        {
          "output_type": "stream",
          "name": "stderr",
          "text": [
            "INFO:tensorflow:Assets written to: /content/drive/My Drive/ECE_209_AS_project_data/USCHADmodels/DeepConvLSTMUSCHAD_withnoise_1/assets\n"
          ]
        },
        {
          "output_type": "stream",
          "name": "stdout",
          "text": [
            "INFO:tensorflow:Assets written to: /content/drive/My Drive/ECE_209_AS_project_data/USCHADmodels/DeepConvLSTMUSCHAD_withnoise_1/assets\n"
          ]
        },
        {
          "output_type": "stream",
          "name": "stderr",
          "text": [
            "INFO:tensorflow:Assets written to: /content/drive/My Drive/ECE_209_AS_project_data/USCHADmodels/DeepConvLSTMUSCHAD_withnoise_1/assets\n"
          ]
        },
        {
          "output_type": "stream",
          "name": "stdout",
          "text": [
            "INFO:tensorflow:Assets written to: /content/drive/My Drive/ECE_209_AS_project_data/USCHADmodels/DeepConvLSTMUSCHAD_withnoise_1/assets\n"
          ]
        },
        {
          "output_type": "stream",
          "name": "stderr",
          "text": [
            "INFO:tensorflow:Assets written to: /content/drive/My Drive/ECE_209_AS_project_data/USCHADmodels/DeepConvLSTMUSCHAD_withnoise_1/assets\n"
          ]
        },
        {
          "output_type": "stream",
          "name": "stdout",
          "text": [
            "INFO:tensorflow:Assets written to: /content/drive/My Drive/ECE_209_AS_project_data/USCHADmodels/DeepConvLSTMUSCHAD_withnoise_1/assets\n"
          ]
        },
        {
          "output_type": "stream",
          "name": "stderr",
          "text": [
            "INFO:tensorflow:Assets written to: /content/drive/My Drive/ECE_209_AS_project_data/USCHADmodels/DeepConvLSTMUSCHAD_withnoise_1/assets\n"
          ]
        },
        {
          "output_type": "stream",
          "name": "stdout",
          "text": [
            "INFO:tensorflow:Assets written to: /content/drive/My Drive/ECE_209_AS_project_data/USCHADmodels/DeepConvLSTMUSCHAD_withnoise_1/assets\n"
          ]
        },
        {
          "output_type": "stream",
          "name": "stderr",
          "text": [
            "INFO:tensorflow:Assets written to: /content/drive/My Drive/ECE_209_AS_project_data/USCHADmodels/DeepConvLSTMUSCHAD_withnoise_1/assets\n"
          ]
        },
        {
          "output_type": "stream",
          "name": "stdout",
          "text": [
            "INFO:tensorflow:Assets written to: /content/drive/My Drive/ECE_209_AS_project_data/USCHADmodels/DeepConvLSTMUSCHAD_withnoise_1/assets\n"
          ]
        },
        {
          "output_type": "stream",
          "name": "stderr",
          "text": [
            "INFO:tensorflow:Assets written to: /content/drive/My Drive/ECE_209_AS_project_data/USCHADmodels/DeepConvLSTMUSCHAD_withnoise_1/assets\n"
          ]
        },
        {
          "output_type": "stream",
          "name": "stdout",
          "text": [
            "INFO:tensorflow:Assets written to: /content/drive/My Drive/ECE_209_AS_project_data/USCHADmodels/DeepConvLSTMUSCHAD_withnoise_1/assets\n"
          ]
        },
        {
          "output_type": "stream",
          "name": "stderr",
          "text": [
            "INFO:tensorflow:Assets written to: /content/drive/My Drive/ECE_209_AS_project_data/USCHADmodels/DeepConvLSTMUSCHAD_withnoise_1/assets\n"
          ]
        },
        {
          "output_type": "stream",
          "name": "stdout",
          "text": [
            "INFO:tensorflow:Assets written to: /content/drive/My Drive/ECE_209_AS_project_data/USCHADmodels/DeepConvLSTMUSCHAD_withnoise_1/assets\n"
          ]
        },
        {
          "output_type": "stream",
          "name": "stderr",
          "text": [
            "INFO:tensorflow:Assets written to: /content/drive/My Drive/ECE_209_AS_project_data/USCHADmodels/DeepConvLSTMUSCHAD_withnoise_1/assets\n"
          ]
        },
        {
          "output_type": "stream",
          "name": "stdout",
          "text": [
            "tf.Tensor(0.84377897, shape=(), dtype=float32)\n",
            "INFO:tensorflow:Assets written to: /content/drive/My Drive/ECE_209_AS_project_data/USCHADmodels/DeepConvLSTMUSCHAD_withnoise_2/assets\n"
          ]
        },
        {
          "output_type": "stream",
          "name": "stderr",
          "text": [
            "INFO:tensorflow:Assets written to: /content/drive/My Drive/ECE_209_AS_project_data/USCHADmodels/DeepConvLSTMUSCHAD_withnoise_2/assets\n"
          ]
        },
        {
          "output_type": "stream",
          "name": "stdout",
          "text": [
            "INFO:tensorflow:Assets written to: /content/drive/My Drive/ECE_209_AS_project_data/USCHADmodels/DeepConvLSTMUSCHAD_withnoise_2/assets\n"
          ]
        },
        {
          "output_type": "stream",
          "name": "stderr",
          "text": [
            "INFO:tensorflow:Assets written to: /content/drive/My Drive/ECE_209_AS_project_data/USCHADmodels/DeepConvLSTMUSCHAD_withnoise_2/assets\n"
          ]
        },
        {
          "output_type": "stream",
          "name": "stdout",
          "text": [
            "INFO:tensorflow:Assets written to: /content/drive/My Drive/ECE_209_AS_project_data/USCHADmodels/DeepConvLSTMUSCHAD_withnoise_2/assets\n"
          ]
        },
        {
          "output_type": "stream",
          "name": "stderr",
          "text": [
            "INFO:tensorflow:Assets written to: /content/drive/My Drive/ECE_209_AS_project_data/USCHADmodels/DeepConvLSTMUSCHAD_withnoise_2/assets\n"
          ]
        },
        {
          "output_type": "stream",
          "name": "stdout",
          "text": [
            "INFO:tensorflow:Assets written to: /content/drive/My Drive/ECE_209_AS_project_data/USCHADmodels/DeepConvLSTMUSCHAD_withnoise_2/assets\n"
          ]
        },
        {
          "output_type": "stream",
          "name": "stderr",
          "text": [
            "INFO:tensorflow:Assets written to: /content/drive/My Drive/ECE_209_AS_project_data/USCHADmodels/DeepConvLSTMUSCHAD_withnoise_2/assets\n"
          ]
        },
        {
          "output_type": "stream",
          "name": "stdout",
          "text": [
            "INFO:tensorflow:Assets written to: /content/drive/My Drive/ECE_209_AS_project_data/USCHADmodels/DeepConvLSTMUSCHAD_withnoise_2/assets\n"
          ]
        },
        {
          "output_type": "stream",
          "name": "stderr",
          "text": [
            "INFO:tensorflow:Assets written to: /content/drive/My Drive/ECE_209_AS_project_data/USCHADmodels/DeepConvLSTMUSCHAD_withnoise_2/assets\n"
          ]
        },
        {
          "output_type": "stream",
          "name": "stdout",
          "text": [
            "INFO:tensorflow:Assets written to: /content/drive/My Drive/ECE_209_AS_project_data/USCHADmodels/DeepConvLSTMUSCHAD_withnoise_2/assets\n"
          ]
        },
        {
          "output_type": "stream",
          "name": "stderr",
          "text": [
            "INFO:tensorflow:Assets written to: /content/drive/My Drive/ECE_209_AS_project_data/USCHADmodels/DeepConvLSTMUSCHAD_withnoise_2/assets\n"
          ]
        },
        {
          "output_type": "stream",
          "name": "stdout",
          "text": [
            "INFO:tensorflow:Assets written to: /content/drive/My Drive/ECE_209_AS_project_data/USCHADmodels/DeepConvLSTMUSCHAD_withnoise_2/assets\n"
          ]
        },
        {
          "output_type": "stream",
          "name": "stderr",
          "text": [
            "INFO:tensorflow:Assets written to: /content/drive/My Drive/ECE_209_AS_project_data/USCHADmodels/DeepConvLSTMUSCHAD_withnoise_2/assets\n"
          ]
        },
        {
          "output_type": "stream",
          "name": "stdout",
          "text": [
            "INFO:tensorflow:Assets written to: /content/drive/My Drive/ECE_209_AS_project_data/USCHADmodels/DeepConvLSTMUSCHAD_withnoise_2/assets\n"
          ]
        },
        {
          "output_type": "stream",
          "name": "stderr",
          "text": [
            "INFO:tensorflow:Assets written to: /content/drive/My Drive/ECE_209_AS_project_data/USCHADmodels/DeepConvLSTMUSCHAD_withnoise_2/assets\n"
          ]
        },
        {
          "output_type": "stream",
          "name": "stdout",
          "text": [
            "INFO:tensorflow:Assets written to: /content/drive/My Drive/ECE_209_AS_project_data/USCHADmodels/DeepConvLSTMUSCHAD_withnoise_2/assets\n"
          ]
        },
        {
          "output_type": "stream",
          "name": "stderr",
          "text": [
            "INFO:tensorflow:Assets written to: /content/drive/My Drive/ECE_209_AS_project_data/USCHADmodels/DeepConvLSTMUSCHAD_withnoise_2/assets\n"
          ]
        },
        {
          "output_type": "stream",
          "name": "stdout",
          "text": [
            "INFO:tensorflow:Assets written to: /content/drive/My Drive/ECE_209_AS_project_data/USCHADmodels/DeepConvLSTMUSCHAD_withnoise_2/assets\n"
          ]
        },
        {
          "output_type": "stream",
          "name": "stderr",
          "text": [
            "INFO:tensorflow:Assets written to: /content/drive/My Drive/ECE_209_AS_project_data/USCHADmodels/DeepConvLSTMUSCHAD_withnoise_2/assets\n"
          ]
        },
        {
          "output_type": "stream",
          "name": "stdout",
          "text": [
            "INFO:tensorflow:Assets written to: /content/drive/My Drive/ECE_209_AS_project_data/USCHADmodels/DeepConvLSTMUSCHAD_withnoise_2/assets\n"
          ]
        },
        {
          "output_type": "stream",
          "name": "stderr",
          "text": [
            "INFO:tensorflow:Assets written to: /content/drive/My Drive/ECE_209_AS_project_data/USCHADmodels/DeepConvLSTMUSCHAD_withnoise_2/assets\n"
          ]
        },
        {
          "output_type": "stream",
          "name": "stdout",
          "text": [
            "INFO:tensorflow:Assets written to: /content/drive/My Drive/ECE_209_AS_project_data/USCHADmodels/DeepConvLSTMUSCHAD_withnoise_2/assets\n"
          ]
        },
        {
          "output_type": "stream",
          "name": "stderr",
          "text": [
            "INFO:tensorflow:Assets written to: /content/drive/My Drive/ECE_209_AS_project_data/USCHADmodels/DeepConvLSTMUSCHAD_withnoise_2/assets\n"
          ]
        },
        {
          "output_type": "stream",
          "name": "stdout",
          "text": [
            "INFO:tensorflow:Assets written to: /content/drive/My Drive/ECE_209_AS_project_data/USCHADmodels/DeepConvLSTMUSCHAD_withnoise_2/assets\n"
          ]
        },
        {
          "output_type": "stream",
          "name": "stderr",
          "text": [
            "INFO:tensorflow:Assets written to: /content/drive/My Drive/ECE_209_AS_project_data/USCHADmodels/DeepConvLSTMUSCHAD_withnoise_2/assets\n"
          ]
        },
        {
          "output_type": "stream",
          "name": "stdout",
          "text": [
            "INFO:tensorflow:Assets written to: /content/drive/My Drive/ECE_209_AS_project_data/USCHADmodels/DeepConvLSTMUSCHAD_withnoise_2/assets\n"
          ]
        },
        {
          "output_type": "stream",
          "name": "stderr",
          "text": [
            "INFO:tensorflow:Assets written to: /content/drive/My Drive/ECE_209_AS_project_data/USCHADmodels/DeepConvLSTMUSCHAD_withnoise_2/assets\n"
          ]
        },
        {
          "output_type": "stream",
          "name": "stdout",
          "text": [
            "INFO:tensorflow:Assets written to: /content/drive/My Drive/ECE_209_AS_project_data/USCHADmodels/DeepConvLSTMUSCHAD_withnoise_2/assets\n"
          ]
        },
        {
          "output_type": "stream",
          "name": "stderr",
          "text": [
            "INFO:tensorflow:Assets written to: /content/drive/My Drive/ECE_209_AS_project_data/USCHADmodels/DeepConvLSTMUSCHAD_withnoise_2/assets\n"
          ]
        },
        {
          "output_type": "stream",
          "name": "stdout",
          "text": [
            "INFO:tensorflow:Assets written to: /content/drive/My Drive/ECE_209_AS_project_data/USCHADmodels/DeepConvLSTMUSCHAD_withnoise_2/assets\n"
          ]
        },
        {
          "output_type": "stream",
          "name": "stderr",
          "text": [
            "INFO:tensorflow:Assets written to: /content/drive/My Drive/ECE_209_AS_project_data/USCHADmodels/DeepConvLSTMUSCHAD_withnoise_2/assets\n"
          ]
        },
        {
          "output_type": "stream",
          "name": "stdout",
          "text": [
            "INFO:tensorflow:Assets written to: /content/drive/My Drive/ECE_209_AS_project_data/USCHADmodels/DeepConvLSTMUSCHAD_withnoise_2/assets\n"
          ]
        },
        {
          "output_type": "stream",
          "name": "stderr",
          "text": [
            "INFO:tensorflow:Assets written to: /content/drive/My Drive/ECE_209_AS_project_data/USCHADmodels/DeepConvLSTMUSCHAD_withnoise_2/assets\n"
          ]
        },
        {
          "output_type": "stream",
          "name": "stdout",
          "text": [
            "INFO:tensorflow:Assets written to: /content/drive/My Drive/ECE_209_AS_project_data/USCHADmodels/DeepConvLSTMUSCHAD_withnoise_2/assets\n"
          ]
        },
        {
          "output_type": "stream",
          "name": "stderr",
          "text": [
            "INFO:tensorflow:Assets written to: /content/drive/My Drive/ECE_209_AS_project_data/USCHADmodels/DeepConvLSTMUSCHAD_withnoise_2/assets\n"
          ]
        },
        {
          "output_type": "stream",
          "name": "stdout",
          "text": [
            "INFO:tensorflow:Assets written to: /content/drive/My Drive/ECE_209_AS_project_data/USCHADmodels/DeepConvLSTMUSCHAD_withnoise_2/assets\n"
          ]
        },
        {
          "output_type": "stream",
          "name": "stderr",
          "text": [
            "INFO:tensorflow:Assets written to: /content/drive/My Drive/ECE_209_AS_project_data/USCHADmodels/DeepConvLSTMUSCHAD_withnoise_2/assets\n"
          ]
        },
        {
          "output_type": "stream",
          "name": "stdout",
          "text": [
            "INFO:tensorflow:Assets written to: /content/drive/My Drive/ECE_209_AS_project_data/USCHADmodels/DeepConvLSTMUSCHAD_withnoise_2/assets\n"
          ]
        },
        {
          "output_type": "stream",
          "name": "stderr",
          "text": [
            "INFO:tensorflow:Assets written to: /content/drive/My Drive/ECE_209_AS_project_data/USCHADmodels/DeepConvLSTMUSCHAD_withnoise_2/assets\n"
          ]
        },
        {
          "output_type": "stream",
          "name": "stdout",
          "text": [
            "INFO:tensorflow:Assets written to: /content/drive/My Drive/ECE_209_AS_project_data/USCHADmodels/DeepConvLSTMUSCHAD_withnoise_2/assets\n"
          ]
        },
        {
          "output_type": "stream",
          "name": "stderr",
          "text": [
            "INFO:tensorflow:Assets written to: /content/drive/My Drive/ECE_209_AS_project_data/USCHADmodels/DeepConvLSTMUSCHAD_withnoise_2/assets\n"
          ]
        },
        {
          "output_type": "stream",
          "name": "stdout",
          "text": [
            "tf.Tensor(0.8386848, shape=(), dtype=float32)\n",
            "INFO:tensorflow:Assets written to: /content/drive/My Drive/ECE_209_AS_project_data/USCHADmodels/DeepConvLSTMUSCHAD_withnoise_3/assets\n"
          ]
        },
        {
          "output_type": "stream",
          "name": "stderr",
          "text": [
            "INFO:tensorflow:Assets written to: /content/drive/My Drive/ECE_209_AS_project_data/USCHADmodels/DeepConvLSTMUSCHAD_withnoise_3/assets\n"
          ]
        },
        {
          "output_type": "stream",
          "name": "stdout",
          "text": [
            "INFO:tensorflow:Assets written to: /content/drive/My Drive/ECE_209_AS_project_data/USCHADmodels/DeepConvLSTMUSCHAD_withnoise_3/assets\n"
          ]
        },
        {
          "output_type": "stream",
          "name": "stderr",
          "text": [
            "INFO:tensorflow:Assets written to: /content/drive/My Drive/ECE_209_AS_project_data/USCHADmodels/DeepConvLSTMUSCHAD_withnoise_3/assets\n"
          ]
        },
        {
          "output_type": "stream",
          "name": "stdout",
          "text": [
            "INFO:tensorflow:Assets written to: /content/drive/My Drive/ECE_209_AS_project_data/USCHADmodels/DeepConvLSTMUSCHAD_withnoise_3/assets\n"
          ]
        },
        {
          "output_type": "stream",
          "name": "stderr",
          "text": [
            "INFO:tensorflow:Assets written to: /content/drive/My Drive/ECE_209_AS_project_data/USCHADmodels/DeepConvLSTMUSCHAD_withnoise_3/assets\n"
          ]
        },
        {
          "output_type": "stream",
          "name": "stdout",
          "text": [
            "INFO:tensorflow:Assets written to: /content/drive/My Drive/ECE_209_AS_project_data/USCHADmodels/DeepConvLSTMUSCHAD_withnoise_3/assets\n"
          ]
        },
        {
          "output_type": "stream",
          "name": "stderr",
          "text": [
            "INFO:tensorflow:Assets written to: /content/drive/My Drive/ECE_209_AS_project_data/USCHADmodels/DeepConvLSTMUSCHAD_withnoise_3/assets\n"
          ]
        },
        {
          "output_type": "stream",
          "name": "stdout",
          "text": [
            "INFO:tensorflow:Assets written to: /content/drive/My Drive/ECE_209_AS_project_data/USCHADmodels/DeepConvLSTMUSCHAD_withnoise_3/assets\n"
          ]
        },
        {
          "output_type": "stream",
          "name": "stderr",
          "text": [
            "INFO:tensorflow:Assets written to: /content/drive/My Drive/ECE_209_AS_project_data/USCHADmodels/DeepConvLSTMUSCHAD_withnoise_3/assets\n"
          ]
        },
        {
          "output_type": "stream",
          "name": "stdout",
          "text": [
            "INFO:tensorflow:Assets written to: /content/drive/My Drive/ECE_209_AS_project_data/USCHADmodels/DeepConvLSTMUSCHAD_withnoise_3/assets\n"
          ]
        },
        {
          "output_type": "stream",
          "name": "stderr",
          "text": [
            "INFO:tensorflow:Assets written to: /content/drive/My Drive/ECE_209_AS_project_data/USCHADmodels/DeepConvLSTMUSCHAD_withnoise_3/assets\n"
          ]
        },
        {
          "output_type": "stream",
          "name": "stdout",
          "text": [
            "INFO:tensorflow:Assets written to: /content/drive/My Drive/ECE_209_AS_project_data/USCHADmodels/DeepConvLSTMUSCHAD_withnoise_3/assets\n"
          ]
        },
        {
          "output_type": "stream",
          "name": "stderr",
          "text": [
            "INFO:tensorflow:Assets written to: /content/drive/My Drive/ECE_209_AS_project_data/USCHADmodels/DeepConvLSTMUSCHAD_withnoise_3/assets\n"
          ]
        },
        {
          "output_type": "stream",
          "name": "stdout",
          "text": [
            "INFO:tensorflow:Assets written to: /content/drive/My Drive/ECE_209_AS_project_data/USCHADmodels/DeepConvLSTMUSCHAD_withnoise_3/assets\n"
          ]
        },
        {
          "output_type": "stream",
          "name": "stderr",
          "text": [
            "INFO:tensorflow:Assets written to: /content/drive/My Drive/ECE_209_AS_project_data/USCHADmodels/DeepConvLSTMUSCHAD_withnoise_3/assets\n"
          ]
        },
        {
          "output_type": "stream",
          "name": "stdout",
          "text": [
            "INFO:tensorflow:Assets written to: /content/drive/My Drive/ECE_209_AS_project_data/USCHADmodels/DeepConvLSTMUSCHAD_withnoise_3/assets\n"
          ]
        },
        {
          "output_type": "stream",
          "name": "stderr",
          "text": [
            "INFO:tensorflow:Assets written to: /content/drive/My Drive/ECE_209_AS_project_data/USCHADmodels/DeepConvLSTMUSCHAD_withnoise_3/assets\n"
          ]
        },
        {
          "output_type": "stream",
          "name": "stdout",
          "text": [
            "INFO:tensorflow:Assets written to: /content/drive/My Drive/ECE_209_AS_project_data/USCHADmodels/DeepConvLSTMUSCHAD_withnoise_3/assets\n"
          ]
        },
        {
          "output_type": "stream",
          "name": "stderr",
          "text": [
            "INFO:tensorflow:Assets written to: /content/drive/My Drive/ECE_209_AS_project_data/USCHADmodels/DeepConvLSTMUSCHAD_withnoise_3/assets\n"
          ]
        },
        {
          "output_type": "stream",
          "name": "stdout",
          "text": [
            "INFO:tensorflow:Assets written to: /content/drive/My Drive/ECE_209_AS_project_data/USCHADmodels/DeepConvLSTMUSCHAD_withnoise_3/assets\n"
          ]
        },
        {
          "output_type": "stream",
          "name": "stderr",
          "text": [
            "INFO:tensorflow:Assets written to: /content/drive/My Drive/ECE_209_AS_project_data/USCHADmodels/DeepConvLSTMUSCHAD_withnoise_3/assets\n"
          ]
        },
        {
          "output_type": "stream",
          "name": "stdout",
          "text": [
            "INFO:tensorflow:Assets written to: /content/drive/My Drive/ECE_209_AS_project_data/USCHADmodels/DeepConvLSTMUSCHAD_withnoise_3/assets\n"
          ]
        },
        {
          "output_type": "stream",
          "name": "stderr",
          "text": [
            "INFO:tensorflow:Assets written to: /content/drive/My Drive/ECE_209_AS_project_data/USCHADmodels/DeepConvLSTMUSCHAD_withnoise_3/assets\n"
          ]
        },
        {
          "output_type": "stream",
          "name": "stdout",
          "text": [
            "INFO:tensorflow:Assets written to: /content/drive/My Drive/ECE_209_AS_project_data/USCHADmodels/DeepConvLSTMUSCHAD_withnoise_3/assets\n"
          ]
        },
        {
          "output_type": "stream",
          "name": "stderr",
          "text": [
            "INFO:tensorflow:Assets written to: /content/drive/My Drive/ECE_209_AS_project_data/USCHADmodels/DeepConvLSTMUSCHAD_withnoise_3/assets\n"
          ]
        },
        {
          "output_type": "stream",
          "name": "stdout",
          "text": [
            "INFO:tensorflow:Assets written to: /content/drive/My Drive/ECE_209_AS_project_data/USCHADmodels/DeepConvLSTMUSCHAD_withnoise_3/assets\n"
          ]
        },
        {
          "output_type": "stream",
          "name": "stderr",
          "text": [
            "INFO:tensorflow:Assets written to: /content/drive/My Drive/ECE_209_AS_project_data/USCHADmodels/DeepConvLSTMUSCHAD_withnoise_3/assets\n"
          ]
        },
        {
          "output_type": "stream",
          "name": "stdout",
          "text": [
            "INFO:tensorflow:Assets written to: /content/drive/My Drive/ECE_209_AS_project_data/USCHADmodels/DeepConvLSTMUSCHAD_withnoise_3/assets\n"
          ]
        },
        {
          "output_type": "stream",
          "name": "stderr",
          "text": [
            "INFO:tensorflow:Assets written to: /content/drive/My Drive/ECE_209_AS_project_data/USCHADmodels/DeepConvLSTMUSCHAD_withnoise_3/assets\n"
          ]
        },
        {
          "output_type": "stream",
          "name": "stdout",
          "text": [
            "INFO:tensorflow:Assets written to: /content/drive/My Drive/ECE_209_AS_project_data/USCHADmodels/DeepConvLSTMUSCHAD_withnoise_3/assets\n"
          ]
        },
        {
          "output_type": "stream",
          "name": "stderr",
          "text": [
            "INFO:tensorflow:Assets written to: /content/drive/My Drive/ECE_209_AS_project_data/USCHADmodels/DeepConvLSTMUSCHAD_withnoise_3/assets\n"
          ]
        },
        {
          "output_type": "stream",
          "name": "stdout",
          "text": [
            "INFO:tensorflow:Assets written to: /content/drive/My Drive/ECE_209_AS_project_data/USCHADmodels/DeepConvLSTMUSCHAD_withnoise_3/assets\n"
          ]
        },
        {
          "output_type": "stream",
          "name": "stderr",
          "text": [
            "INFO:tensorflow:Assets written to: /content/drive/My Drive/ECE_209_AS_project_data/USCHADmodels/DeepConvLSTMUSCHAD_withnoise_3/assets\n"
          ]
        },
        {
          "output_type": "stream",
          "name": "stdout",
          "text": [
            "INFO:tensorflow:Assets written to: /content/drive/My Drive/ECE_209_AS_project_data/USCHADmodels/DeepConvLSTMUSCHAD_withnoise_3/assets\n"
          ]
        },
        {
          "output_type": "stream",
          "name": "stderr",
          "text": [
            "INFO:tensorflow:Assets written to: /content/drive/My Drive/ECE_209_AS_project_data/USCHADmodels/DeepConvLSTMUSCHAD_withnoise_3/assets\n"
          ]
        },
        {
          "output_type": "stream",
          "name": "stdout",
          "text": [
            "INFO:tensorflow:Assets written to: /content/drive/My Drive/ECE_209_AS_project_data/USCHADmodels/DeepConvLSTMUSCHAD_withnoise_3/assets\n"
          ]
        },
        {
          "output_type": "stream",
          "name": "stderr",
          "text": [
            "INFO:tensorflow:Assets written to: /content/drive/My Drive/ECE_209_AS_project_data/USCHADmodels/DeepConvLSTMUSCHAD_withnoise_3/assets\n"
          ]
        },
        {
          "output_type": "stream",
          "name": "stdout",
          "text": [
            "INFO:tensorflow:Assets written to: /content/drive/My Drive/ECE_209_AS_project_data/USCHADmodels/DeepConvLSTMUSCHAD_withnoise_3/assets\n"
          ]
        },
        {
          "output_type": "stream",
          "name": "stderr",
          "text": [
            "INFO:tensorflow:Assets written to: /content/drive/My Drive/ECE_209_AS_project_data/USCHADmodels/DeepConvLSTMUSCHAD_withnoise_3/assets\n"
          ]
        },
        {
          "output_type": "stream",
          "name": "stdout",
          "text": [
            "INFO:tensorflow:Assets written to: /content/drive/My Drive/ECE_209_AS_project_data/USCHADmodels/DeepConvLSTMUSCHAD_withnoise_3/assets\n"
          ]
        },
        {
          "output_type": "stream",
          "name": "stderr",
          "text": [
            "INFO:tensorflow:Assets written to: /content/drive/My Drive/ECE_209_AS_project_data/USCHADmodels/DeepConvLSTMUSCHAD_withnoise_3/assets\n"
          ]
        },
        {
          "output_type": "stream",
          "name": "stdout",
          "text": [
            "INFO:tensorflow:Assets written to: /content/drive/My Drive/ECE_209_AS_project_data/USCHADmodels/DeepConvLSTMUSCHAD_withnoise_3/assets\n"
          ]
        },
        {
          "output_type": "stream",
          "name": "stderr",
          "text": [
            "INFO:tensorflow:Assets written to: /content/drive/My Drive/ECE_209_AS_project_data/USCHADmodels/DeepConvLSTMUSCHAD_withnoise_3/assets\n"
          ]
        },
        {
          "output_type": "stream",
          "name": "stdout",
          "text": [
            "INFO:tensorflow:Assets written to: /content/drive/My Drive/ECE_209_AS_project_data/USCHADmodels/DeepConvLSTMUSCHAD_withnoise_3/assets\n"
          ]
        },
        {
          "output_type": "stream",
          "name": "stderr",
          "text": [
            "INFO:tensorflow:Assets written to: /content/drive/My Drive/ECE_209_AS_project_data/USCHADmodels/DeepConvLSTMUSCHAD_withnoise_3/assets\n"
          ]
        },
        {
          "output_type": "stream",
          "name": "stdout",
          "text": [
            "INFO:tensorflow:Assets written to: /content/drive/My Drive/ECE_209_AS_project_data/USCHADmodels/DeepConvLSTMUSCHAD_withnoise_3/assets\n"
          ]
        },
        {
          "output_type": "stream",
          "name": "stderr",
          "text": [
            "INFO:tensorflow:Assets written to: /content/drive/My Drive/ECE_209_AS_project_data/USCHADmodels/DeepConvLSTMUSCHAD_withnoise_3/assets\n"
          ]
        },
        {
          "output_type": "stream",
          "name": "stdout",
          "text": [
            "INFO:tensorflow:Assets written to: /content/drive/My Drive/ECE_209_AS_project_data/USCHADmodels/DeepConvLSTMUSCHAD_withnoise_3/assets\n"
          ]
        },
        {
          "output_type": "stream",
          "name": "stderr",
          "text": [
            "INFO:tensorflow:Assets written to: /content/drive/My Drive/ECE_209_AS_project_data/USCHADmodels/DeepConvLSTMUSCHAD_withnoise_3/assets\n"
          ]
        },
        {
          "output_type": "stream",
          "name": "stdout",
          "text": [
            "tf.Tensor(0.8460945, shape=(), dtype=float32)\n",
            "INFO:tensorflow:Assets written to: /content/drive/My Drive/ECE_209_AS_project_data/USCHADmodels/DeepConvLSTMUSCHAD_withnoise_4/assets\n"
          ]
        },
        {
          "output_type": "stream",
          "name": "stderr",
          "text": [
            "INFO:tensorflow:Assets written to: /content/drive/My Drive/ECE_209_AS_project_data/USCHADmodels/DeepConvLSTMUSCHAD_withnoise_4/assets\n"
          ]
        },
        {
          "output_type": "stream",
          "name": "stdout",
          "text": [
            "INFO:tensorflow:Assets written to: /content/drive/My Drive/ECE_209_AS_project_data/USCHADmodels/DeepConvLSTMUSCHAD_withnoise_4/assets\n"
          ]
        },
        {
          "output_type": "stream",
          "name": "stderr",
          "text": [
            "INFO:tensorflow:Assets written to: /content/drive/My Drive/ECE_209_AS_project_data/USCHADmodels/DeepConvLSTMUSCHAD_withnoise_4/assets\n"
          ]
        },
        {
          "output_type": "stream",
          "name": "stdout",
          "text": [
            "INFO:tensorflow:Assets written to: /content/drive/My Drive/ECE_209_AS_project_data/USCHADmodels/DeepConvLSTMUSCHAD_withnoise_4/assets\n"
          ]
        },
        {
          "output_type": "stream",
          "name": "stderr",
          "text": [
            "INFO:tensorflow:Assets written to: /content/drive/My Drive/ECE_209_AS_project_data/USCHADmodels/DeepConvLSTMUSCHAD_withnoise_4/assets\n"
          ]
        },
        {
          "output_type": "stream",
          "name": "stdout",
          "text": [
            "INFO:tensorflow:Assets written to: /content/drive/My Drive/ECE_209_AS_project_data/USCHADmodels/DeepConvLSTMUSCHAD_withnoise_4/assets\n"
          ]
        },
        {
          "output_type": "stream",
          "name": "stderr",
          "text": [
            "INFO:tensorflow:Assets written to: /content/drive/My Drive/ECE_209_AS_project_data/USCHADmodels/DeepConvLSTMUSCHAD_withnoise_4/assets\n"
          ]
        },
        {
          "output_type": "stream",
          "name": "stdout",
          "text": [
            "INFO:tensorflow:Assets written to: /content/drive/My Drive/ECE_209_AS_project_data/USCHADmodels/DeepConvLSTMUSCHAD_withnoise_4/assets\n"
          ]
        },
        {
          "output_type": "stream",
          "name": "stderr",
          "text": [
            "INFO:tensorflow:Assets written to: /content/drive/My Drive/ECE_209_AS_project_data/USCHADmodels/DeepConvLSTMUSCHAD_withnoise_4/assets\n"
          ]
        },
        {
          "output_type": "stream",
          "name": "stdout",
          "text": [
            "INFO:tensorflow:Assets written to: /content/drive/My Drive/ECE_209_AS_project_data/USCHADmodels/DeepConvLSTMUSCHAD_withnoise_4/assets\n"
          ]
        },
        {
          "output_type": "stream",
          "name": "stderr",
          "text": [
            "INFO:tensorflow:Assets written to: /content/drive/My Drive/ECE_209_AS_project_data/USCHADmodels/DeepConvLSTMUSCHAD_withnoise_4/assets\n"
          ]
        },
        {
          "output_type": "stream",
          "name": "stdout",
          "text": [
            "INFO:tensorflow:Assets written to: /content/drive/My Drive/ECE_209_AS_project_data/USCHADmodels/DeepConvLSTMUSCHAD_withnoise_4/assets\n"
          ]
        },
        {
          "output_type": "stream",
          "name": "stderr",
          "text": [
            "INFO:tensorflow:Assets written to: /content/drive/My Drive/ECE_209_AS_project_data/USCHADmodels/DeepConvLSTMUSCHAD_withnoise_4/assets\n"
          ]
        },
        {
          "output_type": "stream",
          "name": "stdout",
          "text": [
            "INFO:tensorflow:Assets written to: /content/drive/My Drive/ECE_209_AS_project_data/USCHADmodels/DeepConvLSTMUSCHAD_withnoise_4/assets\n"
          ]
        },
        {
          "output_type": "stream",
          "name": "stderr",
          "text": [
            "INFO:tensorflow:Assets written to: /content/drive/My Drive/ECE_209_AS_project_data/USCHADmodels/DeepConvLSTMUSCHAD_withnoise_4/assets\n"
          ]
        },
        {
          "output_type": "stream",
          "name": "stdout",
          "text": [
            "INFO:tensorflow:Assets written to: /content/drive/My Drive/ECE_209_AS_project_data/USCHADmodels/DeepConvLSTMUSCHAD_withnoise_4/assets\n"
          ]
        },
        {
          "output_type": "stream",
          "name": "stderr",
          "text": [
            "INFO:tensorflow:Assets written to: /content/drive/My Drive/ECE_209_AS_project_data/USCHADmodels/DeepConvLSTMUSCHAD_withnoise_4/assets\n"
          ]
        },
        {
          "output_type": "stream",
          "name": "stdout",
          "text": [
            "INFO:tensorflow:Assets written to: /content/drive/My Drive/ECE_209_AS_project_data/USCHADmodels/DeepConvLSTMUSCHAD_withnoise_4/assets\n"
          ]
        },
        {
          "output_type": "stream",
          "name": "stderr",
          "text": [
            "INFO:tensorflow:Assets written to: /content/drive/My Drive/ECE_209_AS_project_data/USCHADmodels/DeepConvLSTMUSCHAD_withnoise_4/assets\n"
          ]
        },
        {
          "output_type": "stream",
          "name": "stdout",
          "text": [
            "INFO:tensorflow:Assets written to: /content/drive/My Drive/ECE_209_AS_project_data/USCHADmodels/DeepConvLSTMUSCHAD_withnoise_4/assets\n"
          ]
        },
        {
          "output_type": "stream",
          "name": "stderr",
          "text": [
            "INFO:tensorflow:Assets written to: /content/drive/My Drive/ECE_209_AS_project_data/USCHADmodels/DeepConvLSTMUSCHAD_withnoise_4/assets\n"
          ]
        },
        {
          "output_type": "stream",
          "name": "stdout",
          "text": [
            "INFO:tensorflow:Assets written to: /content/drive/My Drive/ECE_209_AS_project_data/USCHADmodels/DeepConvLSTMUSCHAD_withnoise_4/assets\n"
          ]
        },
        {
          "output_type": "stream",
          "name": "stderr",
          "text": [
            "INFO:tensorflow:Assets written to: /content/drive/My Drive/ECE_209_AS_project_data/USCHADmodels/DeepConvLSTMUSCHAD_withnoise_4/assets\n"
          ]
        },
        {
          "output_type": "stream",
          "name": "stdout",
          "text": [
            "INFO:tensorflow:Assets written to: /content/drive/My Drive/ECE_209_AS_project_data/USCHADmodels/DeepConvLSTMUSCHAD_withnoise_4/assets\n"
          ]
        },
        {
          "output_type": "stream",
          "name": "stderr",
          "text": [
            "INFO:tensorflow:Assets written to: /content/drive/My Drive/ECE_209_AS_project_data/USCHADmodels/DeepConvLSTMUSCHAD_withnoise_4/assets\n"
          ]
        },
        {
          "output_type": "stream",
          "name": "stdout",
          "text": [
            "INFO:tensorflow:Assets written to: /content/drive/My Drive/ECE_209_AS_project_data/USCHADmodels/DeepConvLSTMUSCHAD_withnoise_4/assets\n"
          ]
        },
        {
          "output_type": "stream",
          "name": "stderr",
          "text": [
            "INFO:tensorflow:Assets written to: /content/drive/My Drive/ECE_209_AS_project_data/USCHADmodels/DeepConvLSTMUSCHAD_withnoise_4/assets\n"
          ]
        },
        {
          "output_type": "stream",
          "name": "stdout",
          "text": [
            "INFO:tensorflow:Assets written to: /content/drive/My Drive/ECE_209_AS_project_data/USCHADmodels/DeepConvLSTMUSCHAD_withnoise_4/assets\n"
          ]
        },
        {
          "output_type": "stream",
          "name": "stderr",
          "text": [
            "INFO:tensorflow:Assets written to: /content/drive/My Drive/ECE_209_AS_project_data/USCHADmodels/DeepConvLSTMUSCHAD_withnoise_4/assets\n"
          ]
        },
        {
          "output_type": "stream",
          "name": "stdout",
          "text": [
            "tf.Tensor(0.84732944, shape=(), dtype=float32)\n"
          ]
        }
      ],
      "id": "njf8OupEdHiL"
    },
    {
      "cell_type": "code",
      "source": [
        "test_accuracies_noise = []\n",
        "recall_scores_noise = []\n",
        "\n",
        "for i in range(5):\n",
        "\n",
        "  model_saved = keras.models.load_model(path_to_models + f\"DeepConvLSTMUSCHAD_withnoise_{i}\")\n",
        "  test_accuracy = tf.keras.metrics.Accuracy()\n",
        "  logits = model_saved(X_test, training=False)\n",
        "  prediction = tf.argmax(logits, axis=1, output_type=tf.int32)\n",
        "  test_accuracies_noise.append(test_accuracy(prediction, Y_test))\n",
        "  recall_scores_noise.append(recall_score(Y_test, prediction, average=None))"
      ],
      "metadata": {
        "id": "9MPxqF2SopYh"
      },
      "id": "9MPxqF2SopYh",
      "execution_count": 43,
      "outputs": []
    },
    {
      "cell_type": "code",
      "source": [
        "sum_ac = 0\n",
        "\n",
        "for ac in test_accuracies_noise:\n",
        "\n",
        "  sum_ac += ac.numpy()\n",
        "\n",
        "print(f\"Mean accuracy is {round(sum_ac/len(test_accuracies_noise), 2)}\")"
      ],
      "metadata": {
        "colab": {
          "base_uri": "https://localhost:8080/"
        },
        "id": "fuVQ3uSAdHiM",
        "outputId": "8f442add-a370-460e-cba8-b92e7ae5c26d"
      },
      "execution_count": 44,
      "outputs": [
        {
          "output_type": "stream",
          "name": "stdout",
          "text": [
            "Mean accuracy is 0.89\n"
          ]
        }
      ],
      "id": "fuVQ3uSAdHiM"
    },
    {
      "cell_type": "code",
      "source": [
        "mean_recall_scores_with_noise  = sum(recall_scores_noise)/len(recall_scores_noise)\n",
        "\n",
        "for i in range(len(mean_recall_scores_with_noise)):\n",
        "\n",
        "  print(f\"Label {data_class_names[i]} has mean accuracy {round(mean_recall_scores_with_noise[i], 2)}\")"
      ],
      "metadata": {
        "colab": {
          "base_uri": "https://localhost:8080/"
        },
        "id": "XpvWzc3udHiM",
        "outputId": "dc3ae3d7-a752-4cc7-8b9f-12ddde7912ad"
      },
      "execution_count": 45,
      "outputs": [
        {
          "output_type": "stream",
          "name": "stdout",
          "text": [
            "Label walking forward has mean accuracy 0.95\n",
            "Label walking left has mean accuracy 0.94\n",
            "Label walking right has mean accuracy 0.95\n",
            "Label walking upstairs has mean accuracy 0.95\n",
            "Label walking downstairs has mean accuracy 0.89\n",
            "Label running forward has mean accuracy 0.97\n",
            "Label jumping has mean accuracy 0.88\n",
            "Label sitting has mean accuracy 0.95\n",
            "Label standing  has mean accuracy 0.83\n",
            "Label sleeping  has mean accuracy 0.99\n",
            "Label elevator up has mean accuracy 0.34\n",
            "Label elevator down has mean accuracy 0.69\n"
          ]
        }
      ],
      "id": "XpvWzc3udHiM"
    },
    {
      "cell_type": "markdown",
      "source": [
        "## Results"
      ],
      "metadata": {
        "id": "QJNC4C5cu3uQ"
      },
      "id": "QJNC4C5cu3uQ"
    },
    {
      "cell_type": "markdown",
      "source": [
        "|  Activity |  Baseline |  Weight Decay |  Rotation | Scaling  |  Noise |  Resampling | Magnify | \n",
        "|---|---|---|---|---|---|---|---|\n",
        "| Walking  | 0.94  |  0.95 |  0.96 |  0.96 |  0.95 |  0.94 | 0.97 | \n",
        "| Stairs-Up  |  0.96 |  0.97 | 0.97 | 0.98  |  0.95 | 0.96  | 0.98 |\n",
        "| Stairs-Down  | .99  | 0.99  |  0.99 |  0.99 |  0.99 | 1.0  | 0.99 |\n",
        "| Sitting  | 0.80  | 0.77  |  0.8 | 0.82  | 0.79  |  0.79 | 0.81 |\n",
        "| Standing | 0.83  |  0.86 |  0.79 |  0.9 | 0.81  |  0.83 | 0.94 |\n",
        "| Lying  |  1 |  0.99 |  0.94 | 1  | 1  |  1 | 1 |\n",
        "|  Overall Accuracy |  0.92 |  0.92 | 0.9  | 0.94  |  0.91 | 0.92  | 0.95|"
      ],
      "metadata": {
        "id": "CstBhMEOHtDO"
      },
      "id": "CstBhMEOHtDO"
    }
  ],
  "metadata": {
    "kernelspec": {
      "display_name": "Python [conda env:ECE209AS] *",
      "language": "python",
      "name": "conda-env-ECE209AS-py"
    },
    "language_info": {
      "codemirror_mode": {
        "name": "ipython",
        "version": 3
      },
      "file_extension": ".py",
      "mimetype": "text/x-python",
      "name": "python",
      "nbconvert_exporter": "python",
      "pygments_lexer": "ipython3",
      "version": "3.8.13"
    },
    "colab": {
      "name": "DeepConvLSTM_USCHAD.ipynb",
      "provenance": [],
      "collapsed_sections": [],
      "include_colab_link": true
    },
    "accelerator": "GPU"
  },
  "nbformat": 4,
  "nbformat_minor": 5
}