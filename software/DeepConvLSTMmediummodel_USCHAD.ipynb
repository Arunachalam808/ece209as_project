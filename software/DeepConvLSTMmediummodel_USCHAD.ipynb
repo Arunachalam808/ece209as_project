{
  "cells": [
    {
      "cell_type": "markdown",
      "metadata": {
        "id": "view-in-github",
        "colab_type": "text"
      },
      "source": [
        "<a href=\"https://colab.research.google.com/github/shreyasrajesh0308/ece209as_project/blob/main/software/DeepConvLSTMmediummodel_USCHAD.ipynb\" target=\"_parent\"><img src=\"https://colab.research.google.com/assets/colab-badge.svg\" alt=\"Open In Colab\"/></a>"
      ]
    },
    {
      "cell_type": "markdown",
      "id": "3ced1304",
      "metadata": {
        "id": "3ced1304"
      },
      "source": [
        "# DeepConvLSTM - Medium Model\n",
        "\n",
        "Building the LSTM architecture and experimenting with the USC HAD dataset\n",
        "\n",
        "Results are compared for the following cases:\n",
        "\n",
        "1. Baseline DeepConvLSTM - Medium Model\n",
        "2. Model with weight decay\n",
        "3. Model with Rotation. \n",
        "4. Model with Scale. \n",
        "5. Model with Magnify \n",
        "6. Model with Resample\n",
        "7. Model with Noise\n",
        "\n",
        "|  Activity |  Baseline |  Weight Decay |  Rotation | Scaling  |  Noise |  Resampling | Magnify | \n",
        "|---|---|---|---|---|---|---|---|\n",
        "| Walking Forward | 0.95  |  0.96 |  0.94 |  0.94 |  0.96 |  0.96 | 0.95 | \n",
        "| Walking Left |  0.92 |  0.94 | 0.92 | 0.93  |  0.94 | 0.94  | 0.94 |\n",
        "| Walking Right  | 0.96  | 0.93  |  0.94 |  0.95 |  0.94 | 0.95  | 0.94 |\n",
        "| Walking Upstairs  | 0.96  | 0.95  |  0.92 | 0.96  | 0.95  |  0.96 | 0.95 |\n",
        "| Walking Downstairs | 0.96  |  0.95 |  0.94 |  0.94 | 0.95  |  0.96 | 0.96 |\n",
        "| Running Forward  |  0.97 |  0.97 |  0.97 | 0.97  | 0.95  |  0.97 | 0.97 |\n",
        "|  Jumping |  0.96 |  0.97 | 0.96  | 0.94  |  0.97 | 0.96  | 0.97|\n",
        "|  Sitting |  0.97 |  0.97 | 0.95  | 0.97  |  0.98 | 0.96  | 0.96|\n",
        "|  Standing |  0.87 |  0.88 | 0.88  | 0.87  |  0.87 | 0.88  | 0.89|\n",
        "|  Sleeping |  0.99 |  0.99 | 0.96  | 1.0  |  1.0 | 1.0  | 1.0|\n",
        "|  Elevator Up |  0.57 |  0.48 | 0.51  | 0.44 |  0.5 | 0.53  | 0.51|\n",
        "|  Elevator Down |  0.34 |  0.44 | 0.46  | 0.54  |  0.51 | 0.47  | 0.47|\n",
        "|  Overall Accuracy |  0.89 |  0.9 | 0.89  | 0.9  |  0.91 | 0.91  | 0.9|"
      ]
    },
    {
      "cell_type": "markdown",
      "id": "471e5497",
      "metadata": {
        "id": "471e5497"
      },
      "source": [
        "## Module Import"
      ]
    },
    {
      "cell_type": "code",
      "execution_count": 1,
      "id": "f0127712",
      "metadata": {
        "id": "f0127712"
      },
      "outputs": [],
      "source": [
        "import tensorflow as tf\n",
        "from tensorflow import keras \n",
        "from keras import layers\n",
        "\n",
        "import numpy as np\n",
        "\n",
        "from sklearn.utils import class_weight"
      ]
    },
    {
      "cell_type": "code",
      "source": [
        "from google.colab import drive\n",
        "drive.mount('/content/drive')"
      ],
      "metadata": {
        "colab": {
          "base_uri": "https://localhost:8080/"
        },
        "id": "Wk0ejQrtKRfP",
        "outputId": "6c4f3a6b-c735-4da6-d189-ad3aa367f28b"
      },
      "id": "Wk0ejQrtKRfP",
      "execution_count": 2,
      "outputs": [
        {
          "output_type": "stream",
          "name": "stdout",
          "text": [
            "Mounted at /content/drive\n"
          ]
        }
      ]
    },
    {
      "cell_type": "markdown",
      "id": "3780af41",
      "metadata": {
        "id": "3780af41"
      },
      "source": [
        "## Load the Dataset"
      ]
    },
    {
      "cell_type": "code",
      "source": [
        "import os"
      ],
      "metadata": {
        "id": "z-L2RaYGW9v3"
      },
      "id": "z-L2RaYGW9v3",
      "execution_count": 3,
      "outputs": []
    },
    {
      "cell_type": "code",
      "source": [
        "dataset = '/content/drive/My Drive/ECE_209_AS_project_data/USC-HAD/'"
      ],
      "metadata": {
        "id": "GYNuuWS_W40q"
      },
      "id": "GYNuuWS_W40q",
      "execution_count": 4,
      "outputs": []
    },
    {
      "cell_type": "code",
      "source": [
        "import scipy.io\n",
        "mat = scipy.io.loadmat('/content/drive/My Drive/ECE_209_AS_project_data/USC-HAD/Subject13/a11t4.mat')"
      ],
      "metadata": {
        "id": "4UvkMrz_WpbI"
      },
      "id": "4UvkMrz_WpbI",
      "execution_count": 5,
      "outputs": []
    },
    {
      "cell_type": "code",
      "source": [
        "flag =0\n",
        "window =128\n",
        "l = list(range(1,15))\n",
        "for num in l:\n",
        "  dataset_address = dataset + \"Subject\"+str(num) +'/'\n",
        "  for fil in os.listdir(dataset_address):\n",
        "    print(str(dataset_address +fil) )\n",
        "    if str(dataset_address +fil) != '/content/drive/My Drive/ECE_209_AS_project_data/USC-HAD/Subject13/a11t4.mat':\n",
        "      mat = scipy.io.loadmat(str(dataset_address +fil) )\n",
        "      dat = mat['sensor_readings']\n",
        "      N = mat['sensor_readings'].shape[0]\n",
        "      print(N)\n",
        "      re= N % window\n",
        "      q = int(N /window)\n",
        "      dat =dat[ :N-re , :]\n",
        "      dat = dat.reshape(q,window,6)\n",
        "      act  = int(mat['activity_number'][0]) -1\n",
        "      act = q *[act]\n",
        "      if flag==0:\n",
        "        X = dat.copy()\n",
        "        Y = np.array(act)\n",
        "        flag =1\n",
        "\n",
        "      else:\n",
        "        X = np.concatenate((X, dat), axis=0)\n",
        "        Y = np.concatenate((Y, act), axis=0)"
      ],
      "metadata": {
        "colab": {
          "base_uri": "https://localhost:8080/"
        },
        "id": "w-oxHT-mWzVF",
        "outputId": "133e812b-ba17-4bb3-c4e4-65dbbc4f1178"
      },
      "id": "w-oxHT-mWzVF",
      "execution_count": 6,
      "outputs": [
        {
          "output_type": "stream",
          "name": "stdout",
          "text": [
            "/content/drive/My Drive/ECE_209_AS_project_data/USC-HAD/Subject1/a7t1.mat\n",
            "1100\n",
            "/content/drive/My Drive/ECE_209_AS_project_data/USC-HAD/Subject1/a6t1.mat\n",
            "1500\n",
            "/content/drive/My Drive/ECE_209_AS_project_data/USC-HAD/Subject1/a1t1.mat\n",
            "2400\n",
            "/content/drive/My Drive/ECE_209_AS_project_data/USC-HAD/Subject1/a2t1.mat\n",
            "2600\n",
            "/content/drive/My Drive/ECE_209_AS_project_data/USC-HAD/Subject1/a3t1.mat\n",
            "3100\n",
            "/content/drive/My Drive/ECE_209_AS_project_data/USC-HAD/Subject1/a2t2.mat\n",
            "3000\n",
            "/content/drive/My Drive/ECE_209_AS_project_data/USC-HAD/Subject1/a2t3.mat\n",
            "3600\n",
            "/content/drive/My Drive/ECE_209_AS_project_data/USC-HAD/Subject1/a2t4.mat\n",
            "3500\n",
            "/content/drive/My Drive/ECE_209_AS_project_data/USC-HAD/Subject1/a2t5.mat\n",
            "3700\n",
            "/content/drive/My Drive/ECE_209_AS_project_data/USC-HAD/Subject1/a3t2.mat\n",
            "3900\n",
            "/content/drive/My Drive/ECE_209_AS_project_data/USC-HAD/Subject1/a3t3.mat\n",
            "3800\n",
            "/content/drive/My Drive/ECE_209_AS_project_data/USC-HAD/Subject1/a3t4.mat\n",
            "4000\n",
            "/content/drive/My Drive/ECE_209_AS_project_data/USC-HAD/Subject1/a3t5.mat\n",
            "3900\n",
            "/content/drive/My Drive/ECE_209_AS_project_data/USC-HAD/Subject1/a6t2.mat\n",
            "1700\n",
            "/content/drive/My Drive/ECE_209_AS_project_data/USC-HAD/Subject1/a6t3.mat\n",
            "1700\n",
            "/content/drive/My Drive/ECE_209_AS_project_data/USC-HAD/Subject1/a6t4.mat\n",
            "1700\n",
            "/content/drive/My Drive/ECE_209_AS_project_data/USC-HAD/Subject1/a6t5.mat\n",
            "1600\n",
            "/content/drive/My Drive/ECE_209_AS_project_data/USC-HAD/Subject1/a7t2.mat\n",
            "1400\n",
            "/content/drive/My Drive/ECE_209_AS_project_data/USC-HAD/Subject1/a7t3.mat\n",
            "1500\n",
            "/content/drive/My Drive/ECE_209_AS_project_data/USC-HAD/Subject1/a7t4.mat\n",
            "1500\n",
            "/content/drive/My Drive/ECE_209_AS_project_data/USC-HAD/Subject1/a7t5.mat\n",
            "1500\n",
            "/content/drive/My Drive/ECE_209_AS_project_data/USC-HAD/Subject1/a8t1.mat\n",
            "4000\n",
            "/content/drive/My Drive/ECE_209_AS_project_data/USC-HAD/Subject1/a8t2.mat\n",
            "4000\n",
            "/content/drive/My Drive/ECE_209_AS_project_data/USC-HAD/Subject1/a8t3.mat\n",
            "4000\n",
            "/content/drive/My Drive/ECE_209_AS_project_data/USC-HAD/Subject1/a8t4.mat\n",
            "4000\n",
            "/content/drive/My Drive/ECE_209_AS_project_data/USC-HAD/Subject1/a8t5.mat\n",
            "4000\n",
            "/content/drive/My Drive/ECE_209_AS_project_data/USC-HAD/Subject1/a9t1.mat\n",
            "2000\n",
            "/content/drive/My Drive/ECE_209_AS_project_data/USC-HAD/Subject1/a9t2.mat\n",
            "2000\n",
            "/content/drive/My Drive/ECE_209_AS_project_data/USC-HAD/Subject1/a9t3.mat\n",
            "2000\n",
            "/content/drive/My Drive/ECE_209_AS_project_data/USC-HAD/Subject1/a9t4.mat\n",
            "2000\n",
            "/content/drive/My Drive/ECE_209_AS_project_data/USC-HAD/Subject1/a9t5.mat\n",
            "1500\n",
            "/content/drive/My Drive/ECE_209_AS_project_data/USC-HAD/Subject1/a1t2.mat\n",
            "2500\n",
            "/content/drive/My Drive/ECE_209_AS_project_data/USC-HAD/Subject1/a1t3.mat\n",
            "2500\n",
            "/content/drive/My Drive/ECE_209_AS_project_data/USC-HAD/Subject1/a1t4.mat\n",
            "2600\n",
            "/content/drive/My Drive/ECE_209_AS_project_data/USC-HAD/Subject1/a1t5.mat\n",
            "2300\n",
            "/content/drive/My Drive/ECE_209_AS_project_data/USC-HAD/Subject1/a4t1.mat\n",
            "7500\n",
            "/content/drive/My Drive/ECE_209_AS_project_data/USC-HAD/Subject1/a5t1.mat\n",
            "7600\n",
            "/content/drive/My Drive/ECE_209_AS_project_data/USC-HAD/Subject1/a4t2.mat\n",
            "7600\n",
            "/content/drive/My Drive/ECE_209_AS_project_data/USC-HAD/Subject1/a5t2.mat\n",
            "6600\n",
            "/content/drive/My Drive/ECE_209_AS_project_data/USC-HAD/Subject1/a4t3.mat\n",
            "6800\n",
            "/content/drive/My Drive/ECE_209_AS_project_data/USC-HAD/Subject1/a5t3.mat\n",
            "6500\n",
            "/content/drive/My Drive/ECE_209_AS_project_data/USC-HAD/Subject1/a4t4.mat\n",
            "3200\n",
            "/content/drive/My Drive/ECE_209_AS_project_data/USC-HAD/Subject1/a5t4.mat\n",
            "3300\n",
            "/content/drive/My Drive/ECE_209_AS_project_data/USC-HAD/Subject1/a4t5.mat\n",
            "5600\n",
            "/content/drive/My Drive/ECE_209_AS_project_data/USC-HAD/Subject1/a5t5.mat\n",
            "4700\n",
            "/content/drive/My Drive/ECE_209_AS_project_data/USC-HAD/Subject1/a10t1.mat\n",
            "4500\n",
            "/content/drive/My Drive/ECE_209_AS_project_data/USC-HAD/Subject1/a10t2.mat\n",
            "5500\n",
            "/content/drive/My Drive/ECE_209_AS_project_data/USC-HAD/Subject1/a10t3.mat\n",
            "5000\n",
            "/content/drive/My Drive/ECE_209_AS_project_data/USC-HAD/Subject1/a10t4.mat\n",
            "5000\n",
            "/content/drive/My Drive/ECE_209_AS_project_data/USC-HAD/Subject1/a10t5.mat\n",
            "5000\n",
            "/content/drive/My Drive/ECE_209_AS_project_data/USC-HAD/Subject1/a12t1.mat\n",
            "1751\n",
            "/content/drive/My Drive/ECE_209_AS_project_data/USC-HAD/Subject1/a12t2.mat\n",
            "1737\n",
            "/content/drive/My Drive/ECE_209_AS_project_data/USC-HAD/Subject1/a12t3.mat\n",
            "1981\n",
            "/content/drive/My Drive/ECE_209_AS_project_data/USC-HAD/Subject1/a12t4.mat\n",
            "1765\n",
            "/content/drive/My Drive/ECE_209_AS_project_data/USC-HAD/Subject1/a12t5.mat\n",
            "1953\n",
            "/content/drive/My Drive/ECE_209_AS_project_data/USC-HAD/Subject1/a11t1.mat\n",
            "1870\n",
            "/content/drive/My Drive/ECE_209_AS_project_data/USC-HAD/Subject1/a11t2.mat\n",
            "1985\n",
            "/content/drive/My Drive/ECE_209_AS_project_data/USC-HAD/Subject1/a11t3.mat\n",
            "1936\n",
            "/content/drive/My Drive/ECE_209_AS_project_data/USC-HAD/Subject1/a11t4.mat\n",
            "1917\n",
            "/content/drive/My Drive/ECE_209_AS_project_data/USC-HAD/Subject1/a11t5.mat\n",
            "1979\n",
            "/content/drive/My Drive/ECE_209_AS_project_data/USC-HAD/Subject2/a1t1.mat\n",
            "2600\n",
            "/content/drive/My Drive/ECE_209_AS_project_data/USC-HAD/Subject2/a2t1.mat\n",
            "2700\n",
            "/content/drive/My Drive/ECE_209_AS_project_data/USC-HAD/Subject2/a3t1.mat\n",
            "3100\n",
            "/content/drive/My Drive/ECE_209_AS_project_data/USC-HAD/Subject2/a6t1.mat\n",
            "1900\n",
            "/content/drive/My Drive/ECE_209_AS_project_data/USC-HAD/Subject2/a7t1.mat\n",
            "1600\n",
            "/content/drive/My Drive/ECE_209_AS_project_data/USC-HAD/Subject2/a1t2.mat\n",
            "2500\n",
            "/content/drive/My Drive/ECE_209_AS_project_data/USC-HAD/Subject2/a1t3.mat\n",
            "2400\n",
            "/content/drive/My Drive/ECE_209_AS_project_data/USC-HAD/Subject2/a1t4.mat\n",
            "2600\n",
            "/content/drive/My Drive/ECE_209_AS_project_data/USC-HAD/Subject2/a1t5.mat\n",
            "2500\n",
            "/content/drive/My Drive/ECE_209_AS_project_data/USC-HAD/Subject2/a2t2.mat\n",
            "2700\n",
            "/content/drive/My Drive/ECE_209_AS_project_data/USC-HAD/Subject2/a2t3.mat\n",
            "3100\n",
            "/content/drive/My Drive/ECE_209_AS_project_data/USC-HAD/Subject2/a2t4.mat\n",
            "3000\n",
            "/content/drive/My Drive/ECE_209_AS_project_data/USC-HAD/Subject2/a2t5.mat\n",
            "4000\n",
            "/content/drive/My Drive/ECE_209_AS_project_data/USC-HAD/Subject2/a3t2.mat\n",
            "3000\n",
            "/content/drive/My Drive/ECE_209_AS_project_data/USC-HAD/Subject2/a3t3.mat\n",
            "3100\n",
            "/content/drive/My Drive/ECE_209_AS_project_data/USC-HAD/Subject2/a3t4.mat\n",
            "3900\n",
            "/content/drive/My Drive/ECE_209_AS_project_data/USC-HAD/Subject2/a3t5.mat\n",
            "4100\n",
            "/content/drive/My Drive/ECE_209_AS_project_data/USC-HAD/Subject2/a6t2.mat\n",
            "1900\n",
            "/content/drive/My Drive/ECE_209_AS_project_data/USC-HAD/Subject2/a6t3.mat\n",
            "1600\n",
            "/content/drive/My Drive/ECE_209_AS_project_data/USC-HAD/Subject2/a6t4.mat\n",
            "1800\n",
            "/content/drive/My Drive/ECE_209_AS_project_data/USC-HAD/Subject2/a6t5.mat\n",
            "1700\n",
            "/content/drive/My Drive/ECE_209_AS_project_data/USC-HAD/Subject2/a7t2.mat\n",
            "1300\n",
            "/content/drive/My Drive/ECE_209_AS_project_data/USC-HAD/Subject2/a7t3.mat\n",
            "1300\n",
            "/content/drive/My Drive/ECE_209_AS_project_data/USC-HAD/Subject2/a7t4.mat\n",
            "1400\n",
            "/content/drive/My Drive/ECE_209_AS_project_data/USC-HAD/Subject2/a7t5.mat\n",
            "1400\n",
            "/content/drive/My Drive/ECE_209_AS_project_data/USC-HAD/Subject2/a8t1.mat\n",
            "2000\n",
            "/content/drive/My Drive/ECE_209_AS_project_data/USC-HAD/Subject2/a8t2.mat\n",
            "2000\n",
            "/content/drive/My Drive/ECE_209_AS_project_data/USC-HAD/Subject2/a8t3.mat\n",
            "2000\n",
            "/content/drive/My Drive/ECE_209_AS_project_data/USC-HAD/Subject2/a8t4.mat\n",
            "2000\n",
            "/content/drive/My Drive/ECE_209_AS_project_data/USC-HAD/Subject2/a8t5.mat\n",
            "2000\n",
            "/content/drive/My Drive/ECE_209_AS_project_data/USC-HAD/Subject2/a9t1.mat\n",
            "2000\n",
            "/content/drive/My Drive/ECE_209_AS_project_data/USC-HAD/Subject2/a9t2.mat\n",
            "2000\n",
            "/content/drive/My Drive/ECE_209_AS_project_data/USC-HAD/Subject2/a9t3.mat\n",
            "2000\n",
            "/content/drive/My Drive/ECE_209_AS_project_data/USC-HAD/Subject2/a9t4.mat\n",
            "2000\n",
            "/content/drive/My Drive/ECE_209_AS_project_data/USC-HAD/Subject2/a9t5.mat\n",
            "1500\n",
            "/content/drive/My Drive/ECE_209_AS_project_data/USC-HAD/Subject2/a4t1.mat\n",
            "4800\n",
            "/content/drive/My Drive/ECE_209_AS_project_data/USC-HAD/Subject2/a5t1.mat\n",
            "4400\n",
            "/content/drive/My Drive/ECE_209_AS_project_data/USC-HAD/Subject2/a4t2.mat\n",
            "4200\n",
            "/content/drive/My Drive/ECE_209_AS_project_data/USC-HAD/Subject2/a5t2.mat\n",
            "3900\n",
            "/content/drive/My Drive/ECE_209_AS_project_data/USC-HAD/Subject2/a4t3.mat\n",
            "5100\n",
            "/content/drive/My Drive/ECE_209_AS_project_data/USC-HAD/Subject2/a5t3.mat\n",
            "4500\n",
            "/content/drive/My Drive/ECE_209_AS_project_data/USC-HAD/Subject2/a4t4.mat\n",
            "4800\n",
            "/content/drive/My Drive/ECE_209_AS_project_data/USC-HAD/Subject2/a5t4.mat\n",
            "4800\n",
            "/content/drive/My Drive/ECE_209_AS_project_data/USC-HAD/Subject2/a4t5.mat\n",
            "2800\n",
            "/content/drive/My Drive/ECE_209_AS_project_data/USC-HAD/Subject2/a5t5.mat\n",
            "4600\n",
            "/content/drive/My Drive/ECE_209_AS_project_data/USC-HAD/Subject2/a12t1.mat\n",
            "3311\n",
            "/content/drive/My Drive/ECE_209_AS_project_data/USC-HAD/Subject2/a12t2.mat\n",
            "1548\n",
            "/content/drive/My Drive/ECE_209_AS_project_data/USC-HAD/Subject2/a12t3.mat\n",
            "2385\n",
            "/content/drive/My Drive/ECE_209_AS_project_data/USC-HAD/Subject2/a12t4.mat\n",
            "2527\n",
            "/content/drive/My Drive/ECE_209_AS_project_data/USC-HAD/Subject2/a12t5.mat\n",
            "2444\n",
            "/content/drive/My Drive/ECE_209_AS_project_data/USC-HAD/Subject2/a11t1.mat\n",
            "1840\n",
            "/content/drive/My Drive/ECE_209_AS_project_data/USC-HAD/Subject2/a11t2.mat\n",
            "1717\n",
            "/content/drive/My Drive/ECE_209_AS_project_data/USC-HAD/Subject2/a11t3.mat\n",
            "2400\n",
            "/content/drive/My Drive/ECE_209_AS_project_data/USC-HAD/Subject2/a11t4.mat\n",
            "2201\n",
            "/content/drive/My Drive/ECE_209_AS_project_data/USC-HAD/Subject2/a11t5.mat\n",
            "2155\n",
            "/content/drive/My Drive/ECE_209_AS_project_data/USC-HAD/Subject2/a10t1.mat\n",
            "5000\n",
            "/content/drive/My Drive/ECE_209_AS_project_data/USC-HAD/Subject2/a10t2.mat\n",
            "5000\n",
            "/content/drive/My Drive/ECE_209_AS_project_data/USC-HAD/Subject2/a10t3.mat\n",
            "5000\n",
            "/content/drive/My Drive/ECE_209_AS_project_data/USC-HAD/Subject2/a10t4.mat\n",
            "5000\n",
            "/content/drive/My Drive/ECE_209_AS_project_data/USC-HAD/Subject2/a10t5.mat\n",
            "5000\n",
            "/content/drive/My Drive/ECE_209_AS_project_data/USC-HAD/Subject3/a1t1.mat\n",
            "3400\n",
            "/content/drive/My Drive/ECE_209_AS_project_data/USC-HAD/Subject3/a1t2.mat\n",
            "2700\n",
            "/content/drive/My Drive/ECE_209_AS_project_data/USC-HAD/Subject3/a6t1.mat\n",
            "2000\n",
            "/content/drive/My Drive/ECE_209_AS_project_data/USC-HAD/Subject3/a7t1.mat\n",
            "1400\n",
            "/content/drive/My Drive/ECE_209_AS_project_data/USC-HAD/Subject3/a1t3.mat\n",
            "2500\n",
            "/content/drive/My Drive/ECE_209_AS_project_data/USC-HAD/Subject3/a1t4.mat\n",
            "2500\n",
            "/content/drive/My Drive/ECE_209_AS_project_data/USC-HAD/Subject3/a1t5.mat\n",
            "2300\n",
            "/content/drive/My Drive/ECE_209_AS_project_data/USC-HAD/Subject3/a6t2.mat\n",
            "1900\n",
            "/content/drive/My Drive/ECE_209_AS_project_data/USC-HAD/Subject3/a6t3.mat\n",
            "1900\n",
            "/content/drive/My Drive/ECE_209_AS_project_data/USC-HAD/Subject3/a6t5.mat\n",
            "1900\n",
            "/content/drive/My Drive/ECE_209_AS_project_data/USC-HAD/Subject3/a6t4.mat\n",
            "1800\n",
            "/content/drive/My Drive/ECE_209_AS_project_data/USC-HAD/Subject3/a7t2.mat\n",
            "1300\n",
            "/content/drive/My Drive/ECE_209_AS_project_data/USC-HAD/Subject3/a7t3.mat\n",
            "1600\n",
            "/content/drive/My Drive/ECE_209_AS_project_data/USC-HAD/Subject3/a7t4.mat\n",
            "1700\n",
            "/content/drive/My Drive/ECE_209_AS_project_data/USC-HAD/Subject3/a7t5.mat\n",
            "1900\n",
            "/content/drive/My Drive/ECE_209_AS_project_data/USC-HAD/Subject3/a8t1.mat\n",
            "3000\n",
            "/content/drive/My Drive/ECE_209_AS_project_data/USC-HAD/Subject3/a8t2.mat\n",
            "3000\n",
            "/content/drive/My Drive/ECE_209_AS_project_data/USC-HAD/Subject3/a8t3.mat\n",
            "3000\n",
            "/content/drive/My Drive/ECE_209_AS_project_data/USC-HAD/Subject3/a8t4.mat\n",
            "3000\n",
            "/content/drive/My Drive/ECE_209_AS_project_data/USC-HAD/Subject3/a8t5.mat\n",
            "2500\n",
            "/content/drive/My Drive/ECE_209_AS_project_data/USC-HAD/Subject3/a9t1.mat\n",
            "3000\n",
            "/content/drive/My Drive/ECE_209_AS_project_data/USC-HAD/Subject3/a9t2.mat\n",
            "3000\n",
            "/content/drive/My Drive/ECE_209_AS_project_data/USC-HAD/Subject3/a9t3.mat\n",
            "3000\n",
            "/content/drive/My Drive/ECE_209_AS_project_data/USC-HAD/Subject3/a9t4.mat\n",
            "3000\n",
            "/content/drive/My Drive/ECE_209_AS_project_data/USC-HAD/Subject3/a9t5.mat\n",
            "3000\n",
            "/content/drive/My Drive/ECE_209_AS_project_data/USC-HAD/Subject3/a4t1.mat\n",
            "900\n",
            "/content/drive/My Drive/ECE_209_AS_project_data/USC-HAD/Subject3/a5t1.mat\n",
            "700\n",
            "/content/drive/My Drive/ECE_209_AS_project_data/USC-HAD/Subject3/a4t2.mat\n",
            "800\n",
            "/content/drive/My Drive/ECE_209_AS_project_data/USC-HAD/Subject3/a5t2.mat\n",
            "700\n",
            "/content/drive/My Drive/ECE_209_AS_project_data/USC-HAD/Subject3/a4t3.mat\n",
            "700\n",
            "/content/drive/My Drive/ECE_209_AS_project_data/USC-HAD/Subject3/a5t3.mat\n",
            "700\n",
            "/content/drive/My Drive/ECE_209_AS_project_data/USC-HAD/Subject3/a4t4.mat\n",
            "700\n",
            "/content/drive/My Drive/ECE_209_AS_project_data/USC-HAD/Subject3/a5t4.mat\n",
            "700\n",
            "/content/drive/My Drive/ECE_209_AS_project_data/USC-HAD/Subject3/a4t5.mat\n",
            "700\n",
            "/content/drive/My Drive/ECE_209_AS_project_data/USC-HAD/Subject3/a5t5.mat\n",
            "700\n",
            "/content/drive/My Drive/ECE_209_AS_project_data/USC-HAD/Subject3/a3t1.mat\n",
            "2100\n",
            "/content/drive/My Drive/ECE_209_AS_project_data/USC-HAD/Subject3/a3t2.mat\n",
            "1800\n",
            "/content/drive/My Drive/ECE_209_AS_project_data/USC-HAD/Subject3/a3t3.mat\n",
            "1800\n",
            "/content/drive/My Drive/ECE_209_AS_project_data/USC-HAD/Subject3/a3t4.mat\n",
            "2700\n",
            "/content/drive/My Drive/ECE_209_AS_project_data/USC-HAD/Subject3/a3t5.mat\n",
            "1700\n",
            "/content/drive/My Drive/ECE_209_AS_project_data/USC-HAD/Subject3/a2t1.mat\n",
            "2000\n",
            "/content/drive/My Drive/ECE_209_AS_project_data/USC-HAD/Subject3/a2t2.mat\n",
            "2200\n",
            "/content/drive/My Drive/ECE_209_AS_project_data/USC-HAD/Subject3/a2t3.mat\n",
            "2300\n",
            "/content/drive/My Drive/ECE_209_AS_project_data/USC-HAD/Subject3/a2t4.mat\n",
            "2200\n",
            "/content/drive/My Drive/ECE_209_AS_project_data/USC-HAD/Subject3/a2t5.mat\n",
            "2200\n",
            "/content/drive/My Drive/ECE_209_AS_project_data/USC-HAD/Subject3/a10t1.mat\n",
            "5000\n",
            "/content/drive/My Drive/ECE_209_AS_project_data/USC-HAD/Subject3/a10t2.mat\n",
            "5000\n",
            "/content/drive/My Drive/ECE_209_AS_project_data/USC-HAD/Subject3/a10t3.mat\n",
            "5000\n",
            "/content/drive/My Drive/ECE_209_AS_project_data/USC-HAD/Subject3/a10t4.mat\n",
            "5000\n",
            "/content/drive/My Drive/ECE_209_AS_project_data/USC-HAD/Subject3/a10t5.mat\n",
            "5000\n",
            "/content/drive/My Drive/ECE_209_AS_project_data/USC-HAD/Subject3/a12t1.mat\n",
            "2852\n",
            "/content/drive/My Drive/ECE_209_AS_project_data/USC-HAD/Subject3/a12t2.mat\n",
            "1805\n",
            "/content/drive/My Drive/ECE_209_AS_project_data/USC-HAD/Subject3/a12t4.mat\n",
            "2304\n",
            "/content/drive/My Drive/ECE_209_AS_project_data/USC-HAD/Subject3/a12t3.mat\n",
            "2076\n",
            "/content/drive/My Drive/ECE_209_AS_project_data/USC-HAD/Subject3/a12t5.mat\n",
            "2265\n",
            "/content/drive/My Drive/ECE_209_AS_project_data/USC-HAD/Subject3/a11t1.mat\n",
            "1997\n",
            "/content/drive/My Drive/ECE_209_AS_project_data/USC-HAD/Subject3/a11t2.mat\n",
            "1952\n",
            "/content/drive/My Drive/ECE_209_AS_project_data/USC-HAD/Subject3/a11t3.mat\n",
            "2277\n",
            "/content/drive/My Drive/ECE_209_AS_project_data/USC-HAD/Subject3/a11t4.mat\n",
            "2392\n",
            "/content/drive/My Drive/ECE_209_AS_project_data/USC-HAD/Subject3/a11t5.mat\n",
            "2580\n",
            "/content/drive/My Drive/ECE_209_AS_project_data/USC-HAD/Subject4/a1t1.mat\n",
            "2900\n",
            "/content/drive/My Drive/ECE_209_AS_project_data/USC-HAD/Subject4/a1t2.mat\n",
            "2900\n",
            "/content/drive/My Drive/ECE_209_AS_project_data/USC-HAD/Subject4/a2t1.mat\n",
            "2300\n",
            "/content/drive/My Drive/ECE_209_AS_project_data/USC-HAD/Subject4/a3t1.mat\n",
            "2300\n",
            "/content/drive/My Drive/ECE_209_AS_project_data/USC-HAD/Subject4/a4t1.mat\n",
            "700\n",
            "/content/drive/My Drive/ECE_209_AS_project_data/USC-HAD/Subject4/a4t2.mat\n",
            "700\n",
            "/content/drive/My Drive/ECE_209_AS_project_data/USC-HAD/Subject4/a5t1.mat\n",
            "600\n",
            "/content/drive/My Drive/ECE_209_AS_project_data/USC-HAD/Subject4/a5t2.mat\n",
            "600\n",
            "/content/drive/My Drive/ECE_209_AS_project_data/USC-HAD/Subject4/a6t1.mat\n",
            "2100\n",
            "/content/drive/My Drive/ECE_209_AS_project_data/USC-HAD/Subject4/a7t1.mat\n",
            "1200\n",
            "/content/drive/My Drive/ECE_209_AS_project_data/USC-HAD/Subject4/a1t3.mat\n",
            "2800\n",
            "/content/drive/My Drive/ECE_209_AS_project_data/USC-HAD/Subject4/a1t4.mat\n",
            "2800\n",
            "/content/drive/My Drive/ECE_209_AS_project_data/USC-HAD/Subject4/a1t5.mat\n",
            "2600\n",
            "/content/drive/My Drive/ECE_209_AS_project_data/USC-HAD/Subject4/a2t2.mat\n",
            "2000\n",
            "/content/drive/My Drive/ECE_209_AS_project_data/USC-HAD/Subject4/a2t3.mat\n",
            "3400\n",
            "/content/drive/My Drive/ECE_209_AS_project_data/USC-HAD/Subject4/a2t4.mat\n",
            "3400\n",
            "/content/drive/My Drive/ECE_209_AS_project_data/USC-HAD/Subject4/a2t5.mat\n",
            "3100\n",
            "/content/drive/My Drive/ECE_209_AS_project_data/USC-HAD/Subject4/a3t2.mat\n",
            "4900\n",
            "/content/drive/My Drive/ECE_209_AS_project_data/USC-HAD/Subject4/a3t3.mat\n",
            "3100\n",
            "/content/drive/My Drive/ECE_209_AS_project_data/USC-HAD/Subject4/a3t4.mat\n",
            "3400\n",
            "/content/drive/My Drive/ECE_209_AS_project_data/USC-HAD/Subject4/a3t5.mat\n",
            "3400\n",
            "/content/drive/My Drive/ECE_209_AS_project_data/USC-HAD/Subject4/a6t2.mat\n",
            "1800\n",
            "/content/drive/My Drive/ECE_209_AS_project_data/USC-HAD/Subject4/a6t3.mat\n",
            "1900\n",
            "/content/drive/My Drive/ECE_209_AS_project_data/USC-HAD/Subject4/a6t4.mat\n",
            "1900\n",
            "/content/drive/My Drive/ECE_209_AS_project_data/USC-HAD/Subject4/a6t5.mat\n",
            "1900\n",
            "/content/drive/My Drive/ECE_209_AS_project_data/USC-HAD/Subject4/a7t2.mat\n",
            "1200\n",
            "/content/drive/My Drive/ECE_209_AS_project_data/USC-HAD/Subject4/a7t3.mat\n",
            "1400\n",
            "/content/drive/My Drive/ECE_209_AS_project_data/USC-HAD/Subject4/a7t4.mat\n",
            "1300\n",
            "/content/drive/My Drive/ECE_209_AS_project_data/USC-HAD/Subject4/a7t5.mat\n",
            "1300\n",
            "/content/drive/My Drive/ECE_209_AS_project_data/USC-HAD/Subject4/a8t1.mat\n",
            "4000\n",
            "/content/drive/My Drive/ECE_209_AS_project_data/USC-HAD/Subject4/a8t2.mat\n",
            "4000\n",
            "/content/drive/My Drive/ECE_209_AS_project_data/USC-HAD/Subject4/a8t3.mat\n",
            "4000\n",
            "/content/drive/My Drive/ECE_209_AS_project_data/USC-HAD/Subject4/a8t4.mat\n",
            "4000\n",
            "/content/drive/My Drive/ECE_209_AS_project_data/USC-HAD/Subject4/a8t5.mat\n",
            "4000\n",
            "/content/drive/My Drive/ECE_209_AS_project_data/USC-HAD/Subject4/a9t1.mat\n",
            "4000\n",
            "/content/drive/My Drive/ECE_209_AS_project_data/USC-HAD/Subject4/a9t2.mat\n",
            "4000\n",
            "/content/drive/My Drive/ECE_209_AS_project_data/USC-HAD/Subject4/a9t3.mat\n",
            "4000\n",
            "/content/drive/My Drive/ECE_209_AS_project_data/USC-HAD/Subject4/a9t4.mat\n",
            "4000\n",
            "/content/drive/My Drive/ECE_209_AS_project_data/USC-HAD/Subject4/a9t5.mat\n",
            "4000\n",
            "/content/drive/My Drive/ECE_209_AS_project_data/USC-HAD/Subject4/a4t3.mat\n",
            "1000\n",
            "/content/drive/My Drive/ECE_209_AS_project_data/USC-HAD/Subject4/a5t3.mat\n",
            "1000\n",
            "/content/drive/My Drive/ECE_209_AS_project_data/USC-HAD/Subject4/a4t4.mat\n",
            "1000\n",
            "/content/drive/My Drive/ECE_209_AS_project_data/USC-HAD/Subject4/a5t4.mat\n",
            "1000\n",
            "/content/drive/My Drive/ECE_209_AS_project_data/USC-HAD/Subject4/a4t5.mat\n",
            "1000\n",
            "/content/drive/My Drive/ECE_209_AS_project_data/USC-HAD/Subject4/a5t5.mat\n",
            "1000\n",
            "/content/drive/My Drive/ECE_209_AS_project_data/USC-HAD/Subject4/a10t1.mat\n",
            "5000\n",
            "/content/drive/My Drive/ECE_209_AS_project_data/USC-HAD/Subject4/a10t2.mat\n",
            "5000\n",
            "/content/drive/My Drive/ECE_209_AS_project_data/USC-HAD/Subject4/a10t3.mat\n",
            "5000\n",
            "/content/drive/My Drive/ECE_209_AS_project_data/USC-HAD/Subject4/a10t4.mat\n",
            "5000\n",
            "/content/drive/My Drive/ECE_209_AS_project_data/USC-HAD/Subject4/a10t5.mat\n",
            "5000\n",
            "/content/drive/My Drive/ECE_209_AS_project_data/USC-HAD/Subject4/a12t1.mat\n",
            "2542\n",
            "/content/drive/My Drive/ECE_209_AS_project_data/USC-HAD/Subject4/a12t2.mat\n",
            "2618\n",
            "/content/drive/My Drive/ECE_209_AS_project_data/USC-HAD/Subject4/a12t3.mat\n",
            "2526\n",
            "/content/drive/My Drive/ECE_209_AS_project_data/USC-HAD/Subject4/a12t4.mat\n",
            "2193\n",
            "/content/drive/My Drive/ECE_209_AS_project_data/USC-HAD/Subject4/a12t5.mat\n",
            "2084\n",
            "/content/drive/My Drive/ECE_209_AS_project_data/USC-HAD/Subject4/a11t1.mat\n",
            "2567\n",
            "/content/drive/My Drive/ECE_209_AS_project_data/USC-HAD/Subject4/a11t2.mat\n",
            "2423\n",
            "/content/drive/My Drive/ECE_209_AS_project_data/USC-HAD/Subject4/a11t3.mat\n",
            "2417\n",
            "/content/drive/My Drive/ECE_209_AS_project_data/USC-HAD/Subject4/a11t4.mat\n",
            "2208\n",
            "/content/drive/My Drive/ECE_209_AS_project_data/USC-HAD/Subject4/a11t5.mat\n",
            "2489\n",
            "/content/drive/My Drive/ECE_209_AS_project_data/USC-HAD/Subject5/a1t1.mat\n",
            "2900\n",
            "/content/drive/My Drive/ECE_209_AS_project_data/USC-HAD/Subject5/a2t1.mat\n",
            "3400\n",
            "/content/drive/My Drive/ECE_209_AS_project_data/USC-HAD/Subject5/a3t1.mat\n",
            "3600\n",
            "/content/drive/My Drive/ECE_209_AS_project_data/USC-HAD/Subject5/a6t1.mat\n",
            "1800\n",
            "/content/drive/My Drive/ECE_209_AS_project_data/USC-HAD/Subject5/a7t1.mat\n",
            "1400\n",
            "/content/drive/My Drive/ECE_209_AS_project_data/USC-HAD/Subject5/a4t1.mat\n",
            "1300\n",
            "/content/drive/My Drive/ECE_209_AS_project_data/USC-HAD/Subject5/a4t2.mat\n",
            "700\n",
            "/content/drive/My Drive/ECE_209_AS_project_data/USC-HAD/Subject5/a5t1.mat\n",
            "800\n",
            "/content/drive/My Drive/ECE_209_AS_project_data/USC-HAD/Subject5/a5t2.mat\n",
            "800\n",
            "/content/drive/My Drive/ECE_209_AS_project_data/USC-HAD/Subject5/a1t2.mat\n",
            "2600\n",
            "/content/drive/My Drive/ECE_209_AS_project_data/USC-HAD/Subject5/a1t3.mat\n",
            "2600\n",
            "/content/drive/My Drive/ECE_209_AS_project_data/USC-HAD/Subject5/a1t4.mat\n",
            "2600\n",
            "/content/drive/My Drive/ECE_209_AS_project_data/USC-HAD/Subject5/a1t5.mat\n",
            "2600\n",
            "/content/drive/My Drive/ECE_209_AS_project_data/USC-HAD/Subject5/a2t2.mat\n",
            "3300\n",
            "/content/drive/My Drive/ECE_209_AS_project_data/USC-HAD/Subject5/a2t3.mat\n",
            "3700\n",
            "/content/drive/My Drive/ECE_209_AS_project_data/USC-HAD/Subject5/a2t4.mat\n",
            "3600\n",
            "/content/drive/My Drive/ECE_209_AS_project_data/USC-HAD/Subject5/a2t5.mat\n",
            "3800\n",
            "/content/drive/My Drive/ECE_209_AS_project_data/USC-HAD/Subject5/a3t2.mat\n",
            "3100\n",
            "/content/drive/My Drive/ECE_209_AS_project_data/USC-HAD/Subject5/a3t3.mat\n",
            "3400\n",
            "/content/drive/My Drive/ECE_209_AS_project_data/USC-HAD/Subject5/a3t4.mat\n",
            "4000\n",
            "/content/drive/My Drive/ECE_209_AS_project_data/USC-HAD/Subject5/a3t5.mat\n",
            "3600\n",
            "/content/drive/My Drive/ECE_209_AS_project_data/USC-HAD/Subject5/a6t2.mat\n",
            "1800\n",
            "/content/drive/My Drive/ECE_209_AS_project_data/USC-HAD/Subject5/a6t3.mat\n",
            "1800\n",
            "/content/drive/My Drive/ECE_209_AS_project_data/USC-HAD/Subject5/a6t4.mat\n",
            "1700\n",
            "/content/drive/My Drive/ECE_209_AS_project_data/USC-HAD/Subject5/a6t5.mat\n",
            "1800\n",
            "/content/drive/My Drive/ECE_209_AS_project_data/USC-HAD/Subject5/a7t2.mat\n",
            "600\n",
            "/content/drive/My Drive/ECE_209_AS_project_data/USC-HAD/Subject5/a7t3.mat\n",
            "600\n",
            "/content/drive/My Drive/ECE_209_AS_project_data/USC-HAD/Subject5/a7t4.mat\n",
            "700\n",
            "/content/drive/My Drive/ECE_209_AS_project_data/USC-HAD/Subject5/a7t5.mat\n",
            "800\n",
            "/content/drive/My Drive/ECE_209_AS_project_data/USC-HAD/Subject5/a8t1.mat\n",
            "2000\n",
            "/content/drive/My Drive/ECE_209_AS_project_data/USC-HAD/Subject5/a8t2.mat\n",
            "2000\n",
            "/content/drive/My Drive/ECE_209_AS_project_data/USC-HAD/Subject5/a8t3.mat\n",
            "2000\n",
            "/content/drive/My Drive/ECE_209_AS_project_data/USC-HAD/Subject5/a8t4.mat\n",
            "2000\n",
            "/content/drive/My Drive/ECE_209_AS_project_data/USC-HAD/Subject5/a8t5.mat\n",
            "2000\n",
            "/content/drive/My Drive/ECE_209_AS_project_data/USC-HAD/Subject5/a9t1.mat\n",
            "2000\n",
            "/content/drive/My Drive/ECE_209_AS_project_data/USC-HAD/Subject5/a9t2.mat\n",
            "2000\n",
            "/content/drive/My Drive/ECE_209_AS_project_data/USC-HAD/Subject5/a9t3.mat\n",
            "2000\n",
            "/content/drive/My Drive/ECE_209_AS_project_data/USC-HAD/Subject5/a9t4.mat\n",
            "2000\n",
            "/content/drive/My Drive/ECE_209_AS_project_data/USC-HAD/Subject5/a9t5.mat\n",
            "2000\n",
            "/content/drive/My Drive/ECE_209_AS_project_data/USC-HAD/Subject5/a5t3.mat\n",
            "900\n",
            "/content/drive/My Drive/ECE_209_AS_project_data/USC-HAD/Subject5/a4t3.mat\n",
            "1500\n",
            "/content/drive/My Drive/ECE_209_AS_project_data/USC-HAD/Subject5/a5t4.mat\n",
            "800\n",
            "/content/drive/My Drive/ECE_209_AS_project_data/USC-HAD/Subject5/a4t4.mat\n",
            "800\n",
            "/content/drive/My Drive/ECE_209_AS_project_data/USC-HAD/Subject5/a5t5.mat\n",
            "800\n",
            "/content/drive/My Drive/ECE_209_AS_project_data/USC-HAD/Subject5/a4t5.mat\n",
            "900\n",
            "/content/drive/My Drive/ECE_209_AS_project_data/USC-HAD/Subject5/a10t1.mat\n",
            "5000\n",
            "/content/drive/My Drive/ECE_209_AS_project_data/USC-HAD/Subject5/a10t2.mat\n",
            "5000\n",
            "/content/drive/My Drive/ECE_209_AS_project_data/USC-HAD/Subject5/a10t3.mat\n",
            "5000\n",
            "/content/drive/My Drive/ECE_209_AS_project_data/USC-HAD/Subject5/a10t4.mat\n",
            "5000\n",
            "/content/drive/My Drive/ECE_209_AS_project_data/USC-HAD/Subject5/a10t5.mat\n",
            "5000\n",
            "/content/drive/My Drive/ECE_209_AS_project_data/USC-HAD/Subject5/a12t1.mat\n",
            "2294\n",
            "/content/drive/My Drive/ECE_209_AS_project_data/USC-HAD/Subject5/a12t2.mat\n",
            "2434\n",
            "/content/drive/My Drive/ECE_209_AS_project_data/USC-HAD/Subject5/a12t3.mat\n",
            "2513\n",
            "/content/drive/My Drive/ECE_209_AS_project_data/USC-HAD/Subject5/a12t4.mat\n",
            "2329\n",
            "/content/drive/My Drive/ECE_209_AS_project_data/USC-HAD/Subject5/a12t5.mat\n",
            "2493\n",
            "/content/drive/My Drive/ECE_209_AS_project_data/USC-HAD/Subject5/a11t1.mat\n",
            "2775\n",
            "/content/drive/My Drive/ECE_209_AS_project_data/USC-HAD/Subject5/a11t2.mat\n",
            "2462\n",
            "/content/drive/My Drive/ECE_209_AS_project_data/USC-HAD/Subject5/a11t3.mat\n",
            "1891\n",
            "/content/drive/My Drive/ECE_209_AS_project_data/USC-HAD/Subject5/a11t4.mat\n",
            "2304\n",
            "/content/drive/My Drive/ECE_209_AS_project_data/USC-HAD/Subject5/a11t5.mat\n",
            "2285\n",
            "/content/drive/My Drive/ECE_209_AS_project_data/USC-HAD/Subject6/a7t1.mat\n",
            "1500\n",
            "/content/drive/My Drive/ECE_209_AS_project_data/USC-HAD/Subject6/a6t1.mat\n",
            "2200\n",
            "/content/drive/My Drive/ECE_209_AS_project_data/USC-HAD/Subject6/a5t1.mat\n",
            "600\n",
            "/content/drive/My Drive/ECE_209_AS_project_data/USC-HAD/Subject6/a1t1.mat\n",
            "2400\n",
            "/content/drive/My Drive/ECE_209_AS_project_data/USC-HAD/Subject6/a2t1.mat\n",
            "2300\n",
            "/content/drive/My Drive/ECE_209_AS_project_data/USC-HAD/Subject6/a3t1.mat\n",
            "2300\n",
            "/content/drive/My Drive/ECE_209_AS_project_data/USC-HAD/Subject6/a4t1.mat\n",
            "600\n",
            "/content/drive/My Drive/ECE_209_AS_project_data/USC-HAD/Subject6/a1t2.mat\n",
            "2500\n",
            "/content/drive/My Drive/ECE_209_AS_project_data/USC-HAD/Subject6/a1t3.mat\n",
            "2700\n",
            "/content/drive/My Drive/ECE_209_AS_project_data/USC-HAD/Subject6/a1t4.mat\n",
            "2600\n",
            "/content/drive/My Drive/ECE_209_AS_project_data/USC-HAD/Subject6/a1t5.mat\n",
            "2700\n",
            "/content/drive/My Drive/ECE_209_AS_project_data/USC-HAD/Subject6/a2t2.mat\n",
            "3600\n",
            "/content/drive/My Drive/ECE_209_AS_project_data/USC-HAD/Subject6/a2t3.mat\n",
            "3300\n",
            "/content/drive/My Drive/ECE_209_AS_project_data/USC-HAD/Subject6/a2t4.mat\n",
            "3500\n",
            "/content/drive/My Drive/ECE_209_AS_project_data/USC-HAD/Subject6/a2t5.mat\n",
            "3900\n",
            "/content/drive/My Drive/ECE_209_AS_project_data/USC-HAD/Subject6/a3t2.mat\n",
            "4200\n",
            "/content/drive/My Drive/ECE_209_AS_project_data/USC-HAD/Subject6/a3t3.mat\n",
            "5000\n",
            "/content/drive/My Drive/ECE_209_AS_project_data/USC-HAD/Subject6/a3t4.mat\n",
            "4500\n",
            "/content/drive/My Drive/ECE_209_AS_project_data/USC-HAD/Subject6/a3t5.mat\n",
            "6000\n",
            "/content/drive/My Drive/ECE_209_AS_project_data/USC-HAD/Subject6/a6t2.mat\n",
            "1800\n",
            "/content/drive/My Drive/ECE_209_AS_project_data/USC-HAD/Subject6/a6t3.mat\n",
            "1900\n",
            "/content/drive/My Drive/ECE_209_AS_project_data/USC-HAD/Subject6/a6t4.mat\n",
            "1900\n",
            "/content/drive/My Drive/ECE_209_AS_project_data/USC-HAD/Subject6/a6t5.mat\n",
            "1900\n",
            "/content/drive/My Drive/ECE_209_AS_project_data/USC-HAD/Subject6/a7t2.mat\n",
            "1000\n",
            "/content/drive/My Drive/ECE_209_AS_project_data/USC-HAD/Subject6/a7t3.mat\n",
            "600\n",
            "/content/drive/My Drive/ECE_209_AS_project_data/USC-HAD/Subject6/a7t4.mat\n",
            "600\n",
            "/content/drive/My Drive/ECE_209_AS_project_data/USC-HAD/Subject6/a7t5.mat\n",
            "600\n",
            "/content/drive/My Drive/ECE_209_AS_project_data/USC-HAD/Subject6/a5t2.mat\n",
            "900\n",
            "/content/drive/My Drive/ECE_209_AS_project_data/USC-HAD/Subject6/a4t2.mat\n",
            "900\n",
            "/content/drive/My Drive/ECE_209_AS_project_data/USC-HAD/Subject6/a5t3.mat\n",
            "800\n",
            "/content/drive/My Drive/ECE_209_AS_project_data/USC-HAD/Subject6/a4t3.mat\n",
            "900\n",
            "/content/drive/My Drive/ECE_209_AS_project_data/USC-HAD/Subject6/a5t4.mat\n",
            "800\n",
            "/content/drive/My Drive/ECE_209_AS_project_data/USC-HAD/Subject6/a4t4.mat\n",
            "800\n",
            "/content/drive/My Drive/ECE_209_AS_project_data/USC-HAD/Subject6/a5t5.mat\n",
            "800\n",
            "/content/drive/My Drive/ECE_209_AS_project_data/USC-HAD/Subject6/a4t5.mat\n",
            "900\n",
            "/content/drive/My Drive/ECE_209_AS_project_data/USC-HAD/Subject6/a8t1.mat\n",
            "4000\n",
            "/content/drive/My Drive/ECE_209_AS_project_data/USC-HAD/Subject6/a8t2.mat\n",
            "4000\n",
            "/content/drive/My Drive/ECE_209_AS_project_data/USC-HAD/Subject6/a8t3.mat\n",
            "4000\n",
            "/content/drive/My Drive/ECE_209_AS_project_data/USC-HAD/Subject6/a8t4.mat\n",
            "4000\n",
            "/content/drive/My Drive/ECE_209_AS_project_data/USC-HAD/Subject6/a8t5.mat\n",
            "4000\n",
            "/content/drive/My Drive/ECE_209_AS_project_data/USC-HAD/Subject6/a9t1.mat\n",
            "4000\n",
            "/content/drive/My Drive/ECE_209_AS_project_data/USC-HAD/Subject6/a9t2.mat\n",
            "4000\n",
            "/content/drive/My Drive/ECE_209_AS_project_data/USC-HAD/Subject6/a9t3.mat\n",
            "4000\n",
            "/content/drive/My Drive/ECE_209_AS_project_data/USC-HAD/Subject6/a9t4.mat\n",
            "4000\n",
            "/content/drive/My Drive/ECE_209_AS_project_data/USC-HAD/Subject6/a9t5.mat\n",
            "4000\n",
            "/content/drive/My Drive/ECE_209_AS_project_data/USC-HAD/Subject6/a10t1.mat\n",
            "5000\n",
            "/content/drive/My Drive/ECE_209_AS_project_data/USC-HAD/Subject6/a10t2.mat\n",
            "5000\n",
            "/content/drive/My Drive/ECE_209_AS_project_data/USC-HAD/Subject6/a10t3.mat\n",
            "5000\n",
            "/content/drive/My Drive/ECE_209_AS_project_data/USC-HAD/Subject6/a10t4.mat\n",
            "5000\n",
            "/content/drive/My Drive/ECE_209_AS_project_data/USC-HAD/Subject6/a10t5.mat\n",
            "5000\n",
            "/content/drive/My Drive/ECE_209_AS_project_data/USC-HAD/Subject6/a12t1.mat\n",
            "2156\n",
            "/content/drive/My Drive/ECE_209_AS_project_data/USC-HAD/Subject6/a12t2.mat\n",
            "1831\n",
            "/content/drive/My Drive/ECE_209_AS_project_data/USC-HAD/Subject6/a12t3.mat\n",
            "1777\n",
            "/content/drive/My Drive/ECE_209_AS_project_data/USC-HAD/Subject6/a12t4.mat\n",
            "2237\n",
            "/content/drive/My Drive/ECE_209_AS_project_data/USC-HAD/Subject6/a12t5.mat\n",
            "2087\n",
            "/content/drive/My Drive/ECE_209_AS_project_data/USC-HAD/Subject6/a11t1.mat\n",
            "1816\n",
            "/content/drive/My Drive/ECE_209_AS_project_data/USC-HAD/Subject6/a11t2.mat\n",
            "2153\n",
            "/content/drive/My Drive/ECE_209_AS_project_data/USC-HAD/Subject6/a11t3.mat\n",
            "2162\n",
            "/content/drive/My Drive/ECE_209_AS_project_data/USC-HAD/Subject6/a11t4.mat\n",
            "1892\n",
            "/content/drive/My Drive/ECE_209_AS_project_data/USC-HAD/Subject6/a11t5.mat\n",
            "2166\n",
            "/content/drive/My Drive/ECE_209_AS_project_data/USC-HAD/Subject7/a1t1.mat\n",
            "2200\n",
            "/content/drive/My Drive/ECE_209_AS_project_data/USC-HAD/Subject7/a1t2.mat\n",
            "1900\n",
            "/content/drive/My Drive/ECE_209_AS_project_data/USC-HAD/Subject7/a1t3.mat\n",
            "1900\n",
            "/content/drive/My Drive/ECE_209_AS_project_data/USC-HAD/Subject7/a1t4.mat\n",
            "2200\n",
            "/content/drive/My Drive/ECE_209_AS_project_data/USC-HAD/Subject7/a1t5.mat\n",
            "2400\n",
            "/content/drive/My Drive/ECE_209_AS_project_data/USC-HAD/Subject7/a7t1.mat\n",
            "1100\n",
            "/content/drive/My Drive/ECE_209_AS_project_data/USC-HAD/Subject7/a7t2.mat\n",
            "2500\n",
            "/content/drive/My Drive/ECE_209_AS_project_data/USC-HAD/Subject7/a7t3.mat\n",
            "1800\n",
            "/content/drive/My Drive/ECE_209_AS_project_data/USC-HAD/Subject7/a7t4.mat\n",
            "1100\n",
            "/content/drive/My Drive/ECE_209_AS_project_data/USC-HAD/Subject7/a7t5.mat\n",
            "1200\n",
            "/content/drive/My Drive/ECE_209_AS_project_data/USC-HAD/Subject7/a6t1.mat\n",
            "1000\n",
            "/content/drive/My Drive/ECE_209_AS_project_data/USC-HAD/Subject7/a6t2.mat\n",
            "1000\n",
            "/content/drive/My Drive/ECE_209_AS_project_data/USC-HAD/Subject7/a6t3.mat\n",
            "1200\n",
            "/content/drive/My Drive/ECE_209_AS_project_data/USC-HAD/Subject7/a6t4.mat\n",
            "1200\n",
            "/content/drive/My Drive/ECE_209_AS_project_data/USC-HAD/Subject7/a6t5.mat\n",
            "1100\n",
            "/content/drive/My Drive/ECE_209_AS_project_data/USC-HAD/Subject7/a2t1.mat\n",
            "1500\n",
            "/content/drive/My Drive/ECE_209_AS_project_data/USC-HAD/Subject7/a2t2.mat\n",
            "2300\n",
            "/content/drive/My Drive/ECE_209_AS_project_data/USC-HAD/Subject7/a2t3.mat\n",
            "2500\n",
            "/content/drive/My Drive/ECE_209_AS_project_data/USC-HAD/Subject7/a2t4.mat\n",
            "2700\n",
            "/content/drive/My Drive/ECE_209_AS_project_data/USC-HAD/Subject7/a2t5.mat\n",
            "2600\n",
            "/content/drive/My Drive/ECE_209_AS_project_data/USC-HAD/Subject7/a3t1.mat\n",
            "2900\n",
            "/content/drive/My Drive/ECE_209_AS_project_data/USC-HAD/Subject7/a3t2.mat\n",
            "2800\n",
            "/content/drive/My Drive/ECE_209_AS_project_data/USC-HAD/Subject7/a3t3.mat\n",
            "3000\n",
            "/content/drive/My Drive/ECE_209_AS_project_data/USC-HAD/Subject7/a3t4.mat\n",
            "3300\n",
            "/content/drive/My Drive/ECE_209_AS_project_data/USC-HAD/Subject7/a3t5.mat\n",
            "4400\n",
            "/content/drive/My Drive/ECE_209_AS_project_data/USC-HAD/Subject7/a8t1.mat\n",
            "3000\n",
            "/content/drive/My Drive/ECE_209_AS_project_data/USC-HAD/Subject7/a8t2.mat\n",
            "3000\n",
            "/content/drive/My Drive/ECE_209_AS_project_data/USC-HAD/Subject7/a8t3.mat\n",
            "3000\n",
            "/content/drive/My Drive/ECE_209_AS_project_data/USC-HAD/Subject7/a8t4.mat\n",
            "2000\n",
            "/content/drive/My Drive/ECE_209_AS_project_data/USC-HAD/Subject7/a8t5.mat\n",
            "3000\n",
            "/content/drive/My Drive/ECE_209_AS_project_data/USC-HAD/Subject7/a9t1.mat\n",
            "3000\n",
            "/content/drive/My Drive/ECE_209_AS_project_data/USC-HAD/Subject7/a9t2.mat\n",
            "3000\n",
            "/content/drive/My Drive/ECE_209_AS_project_data/USC-HAD/Subject7/a9t4.mat\n",
            "3000\n",
            "/content/drive/My Drive/ECE_209_AS_project_data/USC-HAD/Subject7/a4t1.mat\n",
            "800\n",
            "/content/drive/My Drive/ECE_209_AS_project_data/USC-HAD/Subject7/a5t1.mat\n",
            "700\n",
            "/content/drive/My Drive/ECE_209_AS_project_data/USC-HAD/Subject7/a4t2.mat\n",
            "800\n",
            "/content/drive/My Drive/ECE_209_AS_project_data/USC-HAD/Subject7/a5t2.mat\n",
            "900\n",
            "/content/drive/My Drive/ECE_209_AS_project_data/USC-HAD/Subject7/a4t3.mat\n",
            "800\n",
            "/content/drive/My Drive/ECE_209_AS_project_data/USC-HAD/Subject7/a5t3.mat\n",
            "900\n",
            "/content/drive/My Drive/ECE_209_AS_project_data/USC-HAD/Subject7/a4t4.mat\n",
            "900\n",
            "/content/drive/My Drive/ECE_209_AS_project_data/USC-HAD/Subject7/a5t4.mat\n",
            "700\n",
            "/content/drive/My Drive/ECE_209_AS_project_data/USC-HAD/Subject7/a4t5.mat\n",
            "900\n",
            "/content/drive/My Drive/ECE_209_AS_project_data/USC-HAD/Subject7/a5t5.mat\n",
            "800\n",
            "/content/drive/My Drive/ECE_209_AS_project_data/USC-HAD/Subject7/a9t3.mat\n",
            "3000\n",
            "/content/drive/My Drive/ECE_209_AS_project_data/USC-HAD/Subject7/a9t5.mat\n",
            "3000\n",
            "/content/drive/My Drive/ECE_209_AS_project_data/USC-HAD/Subject7/a10t1.mat\n",
            "5000\n",
            "/content/drive/My Drive/ECE_209_AS_project_data/USC-HAD/Subject7/a10t2.mat\n",
            "5000\n",
            "/content/drive/My Drive/ECE_209_AS_project_data/USC-HAD/Subject7/a10t3.mat\n",
            "5000\n",
            "/content/drive/My Drive/ECE_209_AS_project_data/USC-HAD/Subject7/a10t4.mat\n",
            "5000\n",
            "/content/drive/My Drive/ECE_209_AS_project_data/USC-HAD/Subject7/a10t5.mat\n",
            "5000\n",
            "/content/drive/My Drive/ECE_209_AS_project_data/USC-HAD/Subject7/a12t1.mat\n",
            "1957\n",
            "/content/drive/My Drive/ECE_209_AS_project_data/USC-HAD/Subject7/a12t2.mat\n",
            "2103\n",
            "/content/drive/My Drive/ECE_209_AS_project_data/USC-HAD/Subject7/a12t3.mat\n",
            "2940\n",
            "/content/drive/My Drive/ECE_209_AS_project_data/USC-HAD/Subject7/a12t4.mat\n",
            "1930\n",
            "/content/drive/My Drive/ECE_209_AS_project_data/USC-HAD/Subject7/a12t5.mat\n",
            "2185\n",
            "/content/drive/My Drive/ECE_209_AS_project_data/USC-HAD/Subject7/a11t1.mat\n",
            "2199\n",
            "/content/drive/My Drive/ECE_209_AS_project_data/USC-HAD/Subject7/a11t2.mat\n",
            "1935\n",
            "/content/drive/My Drive/ECE_209_AS_project_data/USC-HAD/Subject7/a11t3.mat\n",
            "1898\n",
            "/content/drive/My Drive/ECE_209_AS_project_data/USC-HAD/Subject7/a11t4.mat\n",
            "1652\n",
            "/content/drive/My Drive/ECE_209_AS_project_data/USC-HAD/Subject7/a11t5.mat\n",
            "1846\n",
            "/content/drive/My Drive/ECE_209_AS_project_data/USC-HAD/Subject8/a7t1.mat\n",
            "1400\n",
            "/content/drive/My Drive/ECE_209_AS_project_data/USC-HAD/Subject8/a7t2.mat\n",
            "1400\n",
            "/content/drive/My Drive/ECE_209_AS_project_data/USC-HAD/Subject8/a7t3.mat\n",
            "1400\n",
            "/content/drive/My Drive/ECE_209_AS_project_data/USC-HAD/Subject8/a7t4.mat\n",
            "1500\n",
            "/content/drive/My Drive/ECE_209_AS_project_data/USC-HAD/Subject8/a7t5.mat\n",
            "1450\n",
            "/content/drive/My Drive/ECE_209_AS_project_data/USC-HAD/Subject8/a4t1.mat\n",
            "4500\n",
            "/content/drive/My Drive/ECE_209_AS_project_data/USC-HAD/Subject8/a4t2.mat\n",
            "3400\n",
            "/content/drive/My Drive/ECE_209_AS_project_data/USC-HAD/Subject8/a4t3.mat\n",
            "3500\n",
            "/content/drive/My Drive/ECE_209_AS_project_data/USC-HAD/Subject8/a4t4.mat\n",
            "5100\n",
            "/content/drive/My Drive/ECE_209_AS_project_data/USC-HAD/Subject8/a4t5.mat\n",
            "4800\n",
            "/content/drive/My Drive/ECE_209_AS_project_data/USC-HAD/Subject8/a5t1.mat\n",
            "3600\n",
            "/content/drive/My Drive/ECE_209_AS_project_data/USC-HAD/Subject8/a5t2.mat\n",
            "4100\n",
            "/content/drive/My Drive/ECE_209_AS_project_data/USC-HAD/Subject8/a5t3.mat\n",
            "4100\n",
            "/content/drive/My Drive/ECE_209_AS_project_data/USC-HAD/Subject8/a5t4.mat\n",
            "4300\n",
            "/content/drive/My Drive/ECE_209_AS_project_data/USC-HAD/Subject8/a5t5.mat\n",
            "5100\n",
            "/content/drive/My Drive/ECE_209_AS_project_data/USC-HAD/Subject8/a1t1.mat\n",
            "3000\n",
            "/content/drive/My Drive/ECE_209_AS_project_data/USC-HAD/Subject8/a1t2.mat\n",
            "3000\n",
            "/content/drive/My Drive/ECE_209_AS_project_data/USC-HAD/Subject8/a1t3.mat\n",
            "3000\n",
            "/content/drive/My Drive/ECE_209_AS_project_data/USC-HAD/Subject8/a1t4.mat\n",
            "3000\n",
            "/content/drive/My Drive/ECE_209_AS_project_data/USC-HAD/Subject8/a1t5.mat\n",
            "3000\n",
            "/content/drive/My Drive/ECE_209_AS_project_data/USC-HAD/Subject8/a6t1.mat\n",
            "3000\n",
            "/content/drive/My Drive/ECE_209_AS_project_data/USC-HAD/Subject8/a6t2.mat\n",
            "3000\n",
            "/content/drive/My Drive/ECE_209_AS_project_data/USC-HAD/Subject8/a6t3.mat\n",
            "3000\n",
            "/content/drive/My Drive/ECE_209_AS_project_data/USC-HAD/Subject8/a6t4.mat\n",
            "3000\n",
            "/content/drive/My Drive/ECE_209_AS_project_data/USC-HAD/Subject8/a6t5.mat\n",
            "3000\n",
            "/content/drive/My Drive/ECE_209_AS_project_data/USC-HAD/Subject8/a8t1.mat\n",
            "3000\n",
            "/content/drive/My Drive/ECE_209_AS_project_data/USC-HAD/Subject8/a8t2.mat\n",
            "3000\n",
            "/content/drive/My Drive/ECE_209_AS_project_data/USC-HAD/Subject8/a8t3.mat\n",
            "3000\n",
            "/content/drive/My Drive/ECE_209_AS_project_data/USC-HAD/Subject8/a8t4.mat\n",
            "3000\n",
            "/content/drive/My Drive/ECE_209_AS_project_data/USC-HAD/Subject8/a8t5.mat\n",
            "3000\n",
            "/content/drive/My Drive/ECE_209_AS_project_data/USC-HAD/Subject8/a9t1.mat\n",
            "3000\n",
            "/content/drive/My Drive/ECE_209_AS_project_data/USC-HAD/Subject8/a9t2.mat\n",
            "3000\n",
            "/content/drive/My Drive/ECE_209_AS_project_data/USC-HAD/Subject8/a9t3.mat\n",
            "3000\n",
            "/content/drive/My Drive/ECE_209_AS_project_data/USC-HAD/Subject8/a9t4.mat\n",
            "3000\n",
            "/content/drive/My Drive/ECE_209_AS_project_data/USC-HAD/Subject8/a9t5.mat\n",
            "3000\n",
            "/content/drive/My Drive/ECE_209_AS_project_data/USC-HAD/Subject8/a2t1.mat\n",
            "3800\n",
            "/content/drive/My Drive/ECE_209_AS_project_data/USC-HAD/Subject8/a2t2.mat\n",
            "4100\n",
            "/content/drive/My Drive/ECE_209_AS_project_data/USC-HAD/Subject8/a2t3.mat\n",
            "5800\n",
            "/content/drive/My Drive/ECE_209_AS_project_data/USC-HAD/Subject8/a2t4.mat\n",
            "5400\n",
            "/content/drive/My Drive/ECE_209_AS_project_data/USC-HAD/Subject8/a2t5.mat\n",
            "6600\n",
            "/content/drive/My Drive/ECE_209_AS_project_data/USC-HAD/Subject8/a3t1.mat\n",
            "4400\n",
            "/content/drive/My Drive/ECE_209_AS_project_data/USC-HAD/Subject8/a3t2.mat\n",
            "4600\n",
            "/content/drive/My Drive/ECE_209_AS_project_data/USC-HAD/Subject8/a3t3.mat\n",
            "6400\n",
            "/content/drive/My Drive/ECE_209_AS_project_data/USC-HAD/Subject8/a3t4.mat\n",
            "6100\n",
            "/content/drive/My Drive/ECE_209_AS_project_data/USC-HAD/Subject8/a3t5.mat\n",
            "6400\n",
            "/content/drive/My Drive/ECE_209_AS_project_data/USC-HAD/Subject8/a12t1.mat\n",
            "1629\n",
            "/content/drive/My Drive/ECE_209_AS_project_data/USC-HAD/Subject8/a12t2.mat\n",
            "2088\n",
            "/content/drive/My Drive/ECE_209_AS_project_data/USC-HAD/Subject8/a12t3.mat\n",
            "1605\n",
            "/content/drive/My Drive/ECE_209_AS_project_data/USC-HAD/Subject8/a12t4.mat\n",
            "2196\n",
            "/content/drive/My Drive/ECE_209_AS_project_data/USC-HAD/Subject8/a12t5.mat\n",
            "1990\n",
            "/content/drive/My Drive/ECE_209_AS_project_data/USC-HAD/Subject8/a11t1.mat\n",
            "1617\n",
            "/content/drive/My Drive/ECE_209_AS_project_data/USC-HAD/Subject8/a11t2.mat\n",
            "1700\n",
            "/content/drive/My Drive/ECE_209_AS_project_data/USC-HAD/Subject8/a11t3.mat\n",
            "1658\n",
            "/content/drive/My Drive/ECE_209_AS_project_data/USC-HAD/Subject8/a11t4.mat\n",
            "2194\n",
            "/content/drive/My Drive/ECE_209_AS_project_data/USC-HAD/Subject8/a11t5.mat\n",
            "1924\n",
            "/content/drive/My Drive/ECE_209_AS_project_data/USC-HAD/Subject8/a10t1.mat\n",
            "5000\n",
            "/content/drive/My Drive/ECE_209_AS_project_data/USC-HAD/Subject8/a10t2.mat\n",
            "5000\n",
            "/content/drive/My Drive/ECE_209_AS_project_data/USC-HAD/Subject8/a10t3.mat\n",
            "5000\n",
            "/content/drive/My Drive/ECE_209_AS_project_data/USC-HAD/Subject8/a10t4.mat\n",
            "5000\n",
            "/content/drive/My Drive/ECE_209_AS_project_data/USC-HAD/Subject8/a10t5.mat\n",
            "5000\n",
            "/content/drive/My Drive/ECE_209_AS_project_data/USC-HAD/Subject9/a1t1.mat\n",
            "7800\n",
            "/content/drive/My Drive/ECE_209_AS_project_data/USC-HAD/Subject9/a1t2.mat\n",
            "8600\n",
            "/content/drive/My Drive/ECE_209_AS_project_data/USC-HAD/Subject9/a1t3.mat\n",
            "8900\n",
            "/content/drive/My Drive/ECE_209_AS_project_data/USC-HAD/Subject9/a1t4.mat\n",
            "8700\n",
            "/content/drive/My Drive/ECE_209_AS_project_data/USC-HAD/Subject9/a1t5.mat\n",
            "8500\n",
            "/content/drive/My Drive/ECE_209_AS_project_data/USC-HAD/Subject9/a2t1.mat\n",
            "5900\n",
            "/content/drive/My Drive/ECE_209_AS_project_data/USC-HAD/Subject9/a2t2.mat\n",
            "4000\n",
            "/content/drive/My Drive/ECE_209_AS_project_data/USC-HAD/Subject9/a2t3.mat\n",
            "4100\n",
            "/content/drive/My Drive/ECE_209_AS_project_data/USC-HAD/Subject9/a2t4.mat\n",
            "4100\n",
            "/content/drive/My Drive/ECE_209_AS_project_data/USC-HAD/Subject9/a2t5.mat\n",
            "4400\n",
            "/content/drive/My Drive/ECE_209_AS_project_data/USC-HAD/Subject9/a3t1.mat\n",
            "4500\n",
            "/content/drive/My Drive/ECE_209_AS_project_data/USC-HAD/Subject9/a3t2.mat\n",
            "4000\n",
            "/content/drive/My Drive/ECE_209_AS_project_data/USC-HAD/Subject9/a3t3.mat\n",
            "3900\n",
            "/content/drive/My Drive/ECE_209_AS_project_data/USC-HAD/Subject9/a3t4.mat\n",
            "4200\n",
            "/content/drive/My Drive/ECE_209_AS_project_data/USC-HAD/Subject9/a3t5.mat\n",
            "4200\n",
            "/content/drive/My Drive/ECE_209_AS_project_data/USC-HAD/Subject9/a6t1.mat\n",
            "3100\n",
            "/content/drive/My Drive/ECE_209_AS_project_data/USC-HAD/Subject9/a6t2.mat\n",
            "3100\n",
            "/content/drive/My Drive/ECE_209_AS_project_data/USC-HAD/Subject9/a6t3.mat\n",
            "2900\n",
            "/content/drive/My Drive/ECE_209_AS_project_data/USC-HAD/Subject9/a6t4.mat\n",
            "2900\n",
            "/content/drive/My Drive/ECE_209_AS_project_data/USC-HAD/Subject9/a6t5.mat\n",
            "2900\n",
            "/content/drive/My Drive/ECE_209_AS_project_data/USC-HAD/Subject9/a7t1.mat\n",
            "1800\n",
            "/content/drive/My Drive/ECE_209_AS_project_data/USC-HAD/Subject9/a7t2.mat\n",
            "1700\n",
            "/content/drive/My Drive/ECE_209_AS_project_data/USC-HAD/Subject9/a7t3.mat\n",
            "1600\n",
            "/content/drive/My Drive/ECE_209_AS_project_data/USC-HAD/Subject9/a7t4.mat\n",
            "1600\n",
            "/content/drive/My Drive/ECE_209_AS_project_data/USC-HAD/Subject9/a7t5.mat\n",
            "1500\n",
            "/content/drive/My Drive/ECE_209_AS_project_data/USC-HAD/Subject9/a8t1.mat\n",
            "5000\n",
            "/content/drive/My Drive/ECE_209_AS_project_data/USC-HAD/Subject9/a8t2.mat\n",
            "3000\n",
            "/content/drive/My Drive/ECE_209_AS_project_data/USC-HAD/Subject9/a8t3.mat\n",
            "3000\n",
            "/content/drive/My Drive/ECE_209_AS_project_data/USC-HAD/Subject9/a8t4.mat\n",
            "3000\n",
            "/content/drive/My Drive/ECE_209_AS_project_data/USC-HAD/Subject9/a8t5.mat\n",
            "2000\n",
            "/content/drive/My Drive/ECE_209_AS_project_data/USC-HAD/Subject9/a9t1.mat\n",
            "2000\n",
            "/content/drive/My Drive/ECE_209_AS_project_data/USC-HAD/Subject9/a9t2.mat\n",
            "3000\n",
            "/content/drive/My Drive/ECE_209_AS_project_data/USC-HAD/Subject9/a9t3.mat\n",
            "3000\n",
            "/content/drive/My Drive/ECE_209_AS_project_data/USC-HAD/Subject9/a9t4.mat\n",
            "3000\n",
            "/content/drive/My Drive/ECE_209_AS_project_data/USC-HAD/Subject9/a9t5.mat\n",
            "3000\n",
            "/content/drive/My Drive/ECE_209_AS_project_data/USC-HAD/Subject9/a4t1.mat\n",
            "6500\n",
            "/content/drive/My Drive/ECE_209_AS_project_data/USC-HAD/Subject9/a4t2.mat\n",
            "7000\n",
            "/content/drive/My Drive/ECE_209_AS_project_data/USC-HAD/Subject9/a4t5.mat\n",
            "6800\n",
            "/content/drive/My Drive/ECE_209_AS_project_data/USC-HAD/Subject9/a4t3.mat\n",
            "7100\n",
            "/content/drive/My Drive/ECE_209_AS_project_data/USC-HAD/Subject9/a4t4.mat\n",
            "7100\n",
            "/content/drive/My Drive/ECE_209_AS_project_data/USC-HAD/Subject9/a5t2.mat\n",
            "6200\n",
            "/content/drive/My Drive/ECE_209_AS_project_data/USC-HAD/Subject9/a5t1.mat\n",
            "6000\n",
            "/content/drive/My Drive/ECE_209_AS_project_data/USC-HAD/Subject9/a5t3.mat\n",
            "6300\n",
            "/content/drive/My Drive/ECE_209_AS_project_data/USC-HAD/Subject9/a5t4.mat\n",
            "6300\n",
            "/content/drive/My Drive/ECE_209_AS_project_data/USC-HAD/Subject9/a5t5.mat\n",
            "6600\n",
            "/content/drive/My Drive/ECE_209_AS_project_data/USC-HAD/Subject9/a10t1.mat\n",
            "5000\n",
            "/content/drive/My Drive/ECE_209_AS_project_data/USC-HAD/Subject9/a10t2.mat\n",
            "5000\n",
            "/content/drive/My Drive/ECE_209_AS_project_data/USC-HAD/Subject9/a10t3.mat\n",
            "5000\n",
            "/content/drive/My Drive/ECE_209_AS_project_data/USC-HAD/Subject9/a10t4.mat\n",
            "5000\n",
            "/content/drive/My Drive/ECE_209_AS_project_data/USC-HAD/Subject9/a10t5.mat\n",
            "5000\n",
            "/content/drive/My Drive/ECE_209_AS_project_data/USC-HAD/Subject9/a12t1.mat\n",
            "2955\n",
            "/content/drive/My Drive/ECE_209_AS_project_data/USC-HAD/Subject9/a12t2.mat\n",
            "2899\n",
            "/content/drive/My Drive/ECE_209_AS_project_data/USC-HAD/Subject9/a12t3.mat\n",
            "3385\n",
            "/content/drive/My Drive/ECE_209_AS_project_data/USC-HAD/Subject9/a12t4.mat\n",
            "3432\n",
            "/content/drive/My Drive/ECE_209_AS_project_data/USC-HAD/Subject9/a12t5.mat\n",
            "2852\n",
            "/content/drive/My Drive/ECE_209_AS_project_data/USC-HAD/Subject9/a11t1.mat\n",
            "2415\n",
            "/content/drive/My Drive/ECE_209_AS_project_data/USC-HAD/Subject9/a11t2.mat\n",
            "3025\n",
            "/content/drive/My Drive/ECE_209_AS_project_data/USC-HAD/Subject9/a11t3.mat\n",
            "3021\n",
            "/content/drive/My Drive/ECE_209_AS_project_data/USC-HAD/Subject9/a11t4.mat\n",
            "3537\n",
            "/content/drive/My Drive/ECE_209_AS_project_data/USC-HAD/Subject9/a11t5.mat\n",
            "3446\n",
            "/content/drive/My Drive/ECE_209_AS_project_data/USC-HAD/Subject10/a7t1.mat\n",
            "1000\n",
            "/content/drive/My Drive/ECE_209_AS_project_data/USC-HAD/Subject10/a7t2.mat\n",
            "1000\n",
            "/content/drive/My Drive/ECE_209_AS_project_data/USC-HAD/Subject10/a7t3.mat\n",
            "950\n",
            "/content/drive/My Drive/ECE_209_AS_project_data/USC-HAD/Subject10/a7t4.mat\n",
            "1000\n",
            "/content/drive/My Drive/ECE_209_AS_project_data/USC-HAD/Subject10/a7t5.mat\n",
            "1000\n",
            "/content/drive/My Drive/ECE_209_AS_project_data/USC-HAD/Subject10/a6t1.mat\n",
            "3000\n",
            "/content/drive/My Drive/ECE_209_AS_project_data/USC-HAD/Subject10/a6t2.mat\n",
            "2700\n",
            "/content/drive/My Drive/ECE_209_AS_project_data/USC-HAD/Subject10/a6t3.mat\n",
            "3300\n",
            "/content/drive/My Drive/ECE_209_AS_project_data/USC-HAD/Subject10/a6t4.mat\n",
            "3100\n",
            "/content/drive/My Drive/ECE_209_AS_project_data/USC-HAD/Subject10/a6t5.mat\n",
            "3000\n",
            "/content/drive/My Drive/ECE_209_AS_project_data/USC-HAD/Subject10/a1t1.mat\n",
            "8300\n",
            "/content/drive/My Drive/ECE_209_AS_project_data/USC-HAD/Subject10/a1t2.mat\n",
            "8200\n",
            "/content/drive/My Drive/ECE_209_AS_project_data/USC-HAD/Subject10/a1t3.mat\n",
            "8900\n",
            "/content/drive/My Drive/ECE_209_AS_project_data/USC-HAD/Subject10/a1t4.mat\n",
            "8700\n",
            "/content/drive/My Drive/ECE_209_AS_project_data/USC-HAD/Subject10/a1t5.mat\n",
            "8600\n",
            "/content/drive/My Drive/ECE_209_AS_project_data/USC-HAD/Subject10/a2t1.mat\n",
            "4000\n",
            "/content/drive/My Drive/ECE_209_AS_project_data/USC-HAD/Subject10/a2t2.mat\n",
            "3300\n",
            "/content/drive/My Drive/ECE_209_AS_project_data/USC-HAD/Subject10/a2t3.mat\n",
            "3300\n",
            "/content/drive/My Drive/ECE_209_AS_project_data/USC-HAD/Subject10/a2t4.mat\n",
            "3100\n",
            "/content/drive/My Drive/ECE_209_AS_project_data/USC-HAD/Subject10/a2t5.mat\n",
            "3100\n",
            "/content/drive/My Drive/ECE_209_AS_project_data/USC-HAD/Subject10/a3t1.mat\n",
            "4400\n",
            "/content/drive/My Drive/ECE_209_AS_project_data/USC-HAD/Subject10/a3t2.mat\n",
            "3300\n",
            "/content/drive/My Drive/ECE_209_AS_project_data/USC-HAD/Subject10/a3t3.mat\n",
            "3200\n",
            "/content/drive/My Drive/ECE_209_AS_project_data/USC-HAD/Subject10/a3t4.mat\n",
            "3400\n",
            "/content/drive/My Drive/ECE_209_AS_project_data/USC-HAD/Subject10/a3t5.mat\n",
            "3400\n",
            "/content/drive/My Drive/ECE_209_AS_project_data/USC-HAD/Subject10/a8t1.mat\n",
            "3000\n",
            "/content/drive/My Drive/ECE_209_AS_project_data/USC-HAD/Subject10/a8t2.mat\n",
            "5000\n",
            "/content/drive/My Drive/ECE_209_AS_project_data/USC-HAD/Subject10/a8t3.mat\n",
            "4000\n",
            "/content/drive/My Drive/ECE_209_AS_project_data/USC-HAD/Subject10/a8t4.mat\n",
            "4000\n",
            "/content/drive/My Drive/ECE_209_AS_project_data/USC-HAD/Subject10/a8t5.mat\n",
            "4000\n",
            "/content/drive/My Drive/ECE_209_AS_project_data/USC-HAD/Subject10/a9t1.mat\n",
            "4000\n",
            "/content/drive/My Drive/ECE_209_AS_project_data/USC-HAD/Subject10/a9t2.mat\n",
            "4000\n",
            "/content/drive/My Drive/ECE_209_AS_project_data/USC-HAD/Subject10/a9t3.mat\n",
            "4000\n",
            "/content/drive/My Drive/ECE_209_AS_project_data/USC-HAD/Subject10/a9t4.mat\n",
            "4000\n",
            "/content/drive/My Drive/ECE_209_AS_project_data/USC-HAD/Subject10/a9t5.mat\n",
            "4000\n",
            "/content/drive/My Drive/ECE_209_AS_project_data/USC-HAD/Subject10/a5t1.mat\n",
            "4900\n",
            "/content/drive/My Drive/ECE_209_AS_project_data/USC-HAD/Subject10/a5t2.mat\n",
            "5300\n",
            "/content/drive/My Drive/ECE_209_AS_project_data/USC-HAD/Subject10/a5t3.mat\n",
            "6200\n",
            "/content/drive/My Drive/ECE_209_AS_project_data/USC-HAD/Subject10/a5t4.mat\n",
            "5700\n",
            "/content/drive/My Drive/ECE_209_AS_project_data/USC-HAD/Subject10/a5t5.mat\n",
            "5900\n",
            "/content/drive/My Drive/ECE_209_AS_project_data/USC-HAD/Subject10/a4t1.mat\n",
            "5700\n",
            "/content/drive/My Drive/ECE_209_AS_project_data/USC-HAD/Subject10/a4t2.mat\n",
            "6000\n",
            "/content/drive/My Drive/ECE_209_AS_project_data/USC-HAD/Subject10/a4t3.mat\n",
            "5800\n",
            "/content/drive/My Drive/ECE_209_AS_project_data/USC-HAD/Subject10/a4t4.mat\n",
            "6500\n",
            "/content/drive/My Drive/ECE_209_AS_project_data/USC-HAD/Subject10/a4t5.mat\n",
            "6900\n",
            "/content/drive/My Drive/ECE_209_AS_project_data/USC-HAD/Subject10/a10t1.mat\n",
            "5000\n",
            "/content/drive/My Drive/ECE_209_AS_project_data/USC-HAD/Subject10/a10t2.mat\n",
            "5000\n",
            "/content/drive/My Drive/ECE_209_AS_project_data/USC-HAD/Subject10/a10t3.mat\n",
            "5000\n",
            "/content/drive/My Drive/ECE_209_AS_project_data/USC-HAD/Subject10/a10t4.mat\n",
            "5000\n",
            "/content/drive/My Drive/ECE_209_AS_project_data/USC-HAD/Subject10/a10t5.mat\n",
            "5000\n",
            "/content/drive/My Drive/ECE_209_AS_project_data/USC-HAD/Subject10/a12t1.mat\n",
            "2476\n",
            "/content/drive/My Drive/ECE_209_AS_project_data/USC-HAD/Subject10/a12t2.mat\n",
            "2657\n",
            "/content/drive/My Drive/ECE_209_AS_project_data/USC-HAD/Subject10/a12t3.mat\n",
            "2630\n",
            "/content/drive/My Drive/ECE_209_AS_project_data/USC-HAD/Subject10/a12t4.mat\n",
            "2926\n",
            "/content/drive/My Drive/ECE_209_AS_project_data/USC-HAD/Subject10/a12t5.mat\n",
            "2592\n",
            "/content/drive/My Drive/ECE_209_AS_project_data/USC-HAD/Subject10/a11t1.mat\n",
            "3237\n",
            "/content/drive/My Drive/ECE_209_AS_project_data/USC-HAD/Subject10/a11t2.mat\n",
            "2743\n",
            "/content/drive/My Drive/ECE_209_AS_project_data/USC-HAD/Subject10/a11t3.mat\n",
            "3136\n",
            "/content/drive/My Drive/ECE_209_AS_project_data/USC-HAD/Subject10/a11t4.mat\n",
            "2964\n",
            "/content/drive/My Drive/ECE_209_AS_project_data/USC-HAD/Subject10/a11t5.mat\n",
            "2825\n",
            "/content/drive/My Drive/ECE_209_AS_project_data/USC-HAD/Subject11/a7t1.mat\n",
            "1800\n",
            "/content/drive/My Drive/ECE_209_AS_project_data/USC-HAD/Subject11/a7t2.mat\n",
            "1800\n",
            "/content/drive/My Drive/ECE_209_AS_project_data/USC-HAD/Subject11/a7t3.mat\n",
            "1900\n",
            "/content/drive/My Drive/ECE_209_AS_project_data/USC-HAD/Subject11/a7t4.mat\n",
            "2000\n",
            "/content/drive/My Drive/ECE_209_AS_project_data/USC-HAD/Subject11/a7t5.mat\n",
            "2600\n",
            "/content/drive/My Drive/ECE_209_AS_project_data/USC-HAD/Subject11/a1t1.mat\n",
            "8400\n",
            "/content/drive/My Drive/ECE_209_AS_project_data/USC-HAD/Subject11/a1t2.mat\n",
            "6900\n",
            "/content/drive/My Drive/ECE_209_AS_project_data/USC-HAD/Subject11/a1t3.mat\n",
            "10500\n",
            "/content/drive/My Drive/ECE_209_AS_project_data/USC-HAD/Subject11/a1t4.mat\n",
            "12000\n",
            "/content/drive/My Drive/ECE_209_AS_project_data/USC-HAD/Subject11/a1t5.mat\n",
            "10700\n",
            "/content/drive/My Drive/ECE_209_AS_project_data/USC-HAD/Subject11/a2t1.mat\n",
            "4800\n",
            "/content/drive/My Drive/ECE_209_AS_project_data/USC-HAD/Subject11/a2t2.mat\n",
            "3900\n",
            "/content/drive/My Drive/ECE_209_AS_project_data/USC-HAD/Subject11/a2t3.mat\n",
            "4100\n",
            "/content/drive/My Drive/ECE_209_AS_project_data/USC-HAD/Subject11/a2t4.mat\n",
            "3900\n",
            "/content/drive/My Drive/ECE_209_AS_project_data/USC-HAD/Subject11/a2t5.mat\n",
            "4000\n",
            "/content/drive/My Drive/ECE_209_AS_project_data/USC-HAD/Subject11/a3t1.mat\n",
            "4000\n",
            "/content/drive/My Drive/ECE_209_AS_project_data/USC-HAD/Subject11/a3t2.mat\n",
            "3700\n",
            "/content/drive/My Drive/ECE_209_AS_project_data/USC-HAD/Subject11/a3t3.mat\n",
            "4200\n",
            "/content/drive/My Drive/ECE_209_AS_project_data/USC-HAD/Subject11/a3t4.mat\n",
            "4000\n",
            "/content/drive/My Drive/ECE_209_AS_project_data/USC-HAD/Subject11/a3t5.mat\n",
            "4200\n",
            "/content/drive/My Drive/ECE_209_AS_project_data/USC-HAD/Subject11/a6t1.mat\n",
            "4300\n",
            "/content/drive/My Drive/ECE_209_AS_project_data/USC-HAD/Subject11/a6t2.mat\n",
            "4000\n",
            "/content/drive/My Drive/ECE_209_AS_project_data/USC-HAD/Subject11/a6t3.mat\n",
            "4200\n",
            "/content/drive/My Drive/ECE_209_AS_project_data/USC-HAD/Subject11/a6t4.mat\n",
            "4600\n",
            "/content/drive/My Drive/ECE_209_AS_project_data/USC-HAD/Subject11/a6t5.mat\n",
            "4200\n",
            "/content/drive/My Drive/ECE_209_AS_project_data/USC-HAD/Subject11/a4t1.mat\n",
            "4000\n",
            "/content/drive/My Drive/ECE_209_AS_project_data/USC-HAD/Subject11/a5t1.mat\n",
            "3200\n",
            "/content/drive/My Drive/ECE_209_AS_project_data/USC-HAD/Subject11/a4t2.mat\n",
            "3500\n",
            "/content/drive/My Drive/ECE_209_AS_project_data/USC-HAD/Subject11/a5t2.mat\n",
            "3300\n",
            "/content/drive/My Drive/ECE_209_AS_project_data/USC-HAD/Subject11/a4t3.mat\n",
            "3700\n",
            "/content/drive/My Drive/ECE_209_AS_project_data/USC-HAD/Subject11/a5t3.mat\n",
            "3100\n",
            "/content/drive/My Drive/ECE_209_AS_project_data/USC-HAD/Subject11/a4t4.mat\n",
            "3700\n",
            "/content/drive/My Drive/ECE_209_AS_project_data/USC-HAD/Subject11/a5t4.mat\n",
            "3300\n",
            "/content/drive/My Drive/ECE_209_AS_project_data/USC-HAD/Subject11/a4t5.mat\n",
            "3700\n",
            "/content/drive/My Drive/ECE_209_AS_project_data/USC-HAD/Subject11/a5t5.mat\n",
            "3200\n",
            "/content/drive/My Drive/ECE_209_AS_project_data/USC-HAD/Subject11/a8t1.mat\n",
            "5000\n",
            "/content/drive/My Drive/ECE_209_AS_project_data/USC-HAD/Subject11/a8t2.mat\n",
            "5000\n",
            "/content/drive/My Drive/ECE_209_AS_project_data/USC-HAD/Subject11/a8t3.mat\n",
            "5000\n",
            "/content/drive/My Drive/ECE_209_AS_project_data/USC-HAD/Subject11/a8t4.mat\n",
            "5000\n",
            "/content/drive/My Drive/ECE_209_AS_project_data/USC-HAD/Subject11/a8t5.mat\n",
            "7000\n",
            "/content/drive/My Drive/ECE_209_AS_project_data/USC-HAD/Subject11/a9t1.mat\n",
            "5000\n",
            "/content/drive/My Drive/ECE_209_AS_project_data/USC-HAD/Subject11/a9t2.mat\n",
            "5000\n",
            "/content/drive/My Drive/ECE_209_AS_project_data/USC-HAD/Subject11/a9t3.mat\n",
            "5000\n",
            "/content/drive/My Drive/ECE_209_AS_project_data/USC-HAD/Subject11/a9t4.mat\n",
            "6000\n",
            "/content/drive/My Drive/ECE_209_AS_project_data/USC-HAD/Subject11/a9t5.mat\n",
            "6000\n",
            "/content/drive/My Drive/ECE_209_AS_project_data/USC-HAD/Subject11/a10t1.mat\n",
            "5000\n",
            "/content/drive/My Drive/ECE_209_AS_project_data/USC-HAD/Subject11/a10t2.mat\n",
            "5000\n",
            "/content/drive/My Drive/ECE_209_AS_project_data/USC-HAD/Subject11/a10t3.mat\n",
            "5000\n",
            "/content/drive/My Drive/ECE_209_AS_project_data/USC-HAD/Subject11/a10t4.mat\n",
            "5000\n",
            "/content/drive/My Drive/ECE_209_AS_project_data/USC-HAD/Subject11/a10t5.mat\n",
            "5000\n",
            "/content/drive/My Drive/ECE_209_AS_project_data/USC-HAD/Subject11/a12t1.mat\n",
            "2901\n",
            "/content/drive/My Drive/ECE_209_AS_project_data/USC-HAD/Subject11/a11t1.mat\n",
            "2867\n",
            "/content/drive/My Drive/ECE_209_AS_project_data/USC-HAD/Subject11/a12t2.mat\n",
            "2886\n",
            "/content/drive/My Drive/ECE_209_AS_project_data/USC-HAD/Subject11/a12t3.mat\n",
            "2540\n",
            "/content/drive/My Drive/ECE_209_AS_project_data/USC-HAD/Subject11/a12t4.mat\n",
            "2820\n",
            "/content/drive/My Drive/ECE_209_AS_project_data/USC-HAD/Subject11/a12t5.mat\n",
            "2807\n",
            "/content/drive/My Drive/ECE_209_AS_project_data/USC-HAD/Subject11/a11t2.mat\n",
            "2862\n",
            "/content/drive/My Drive/ECE_209_AS_project_data/USC-HAD/Subject11/a11t3.mat\n",
            "3121\n",
            "/content/drive/My Drive/ECE_209_AS_project_data/USC-HAD/Subject11/a11t4.mat\n",
            "2989\n",
            "/content/drive/My Drive/ECE_209_AS_project_data/USC-HAD/Subject11/a11t5.mat\n",
            "2844\n",
            "/content/drive/My Drive/ECE_209_AS_project_data/USC-HAD/Subject12/a7t1.mat\n",
            "2800\n",
            "/content/drive/My Drive/ECE_209_AS_project_data/USC-HAD/Subject12/a7t2.mat\n",
            "2100\n",
            "/content/drive/My Drive/ECE_209_AS_project_data/USC-HAD/Subject12/a7t3.mat\n",
            "3100\n",
            "/content/drive/My Drive/ECE_209_AS_project_data/USC-HAD/Subject12/a7t4.mat\n",
            "2500\n",
            "/content/drive/My Drive/ECE_209_AS_project_data/USC-HAD/Subject12/a7t5.mat\n",
            "2900\n",
            "/content/drive/My Drive/ECE_209_AS_project_data/USC-HAD/Subject12/a1t1.mat\n",
            "13400\n",
            "/content/drive/My Drive/ECE_209_AS_project_data/USC-HAD/Subject12/a1t2.mat\n",
            "13000\n",
            "/content/drive/My Drive/ECE_209_AS_project_data/USC-HAD/Subject12/a1t3.mat\n",
            "13000\n",
            "/content/drive/My Drive/ECE_209_AS_project_data/USC-HAD/Subject12/a1t4.mat\n",
            "13500\n",
            "/content/drive/My Drive/ECE_209_AS_project_data/USC-HAD/Subject12/a1t5.mat\n",
            "13500\n",
            "/content/drive/My Drive/ECE_209_AS_project_data/USC-HAD/Subject12/a6t1.mat\n",
            "1700\n",
            "/content/drive/My Drive/ECE_209_AS_project_data/USC-HAD/Subject12/a6t2.mat\n",
            "1800\n",
            "/content/drive/My Drive/ECE_209_AS_project_data/USC-HAD/Subject12/a6t3.mat\n",
            "1900\n",
            "/content/drive/My Drive/ECE_209_AS_project_data/USC-HAD/Subject12/a6t4.mat\n",
            "1900\n",
            "/content/drive/My Drive/ECE_209_AS_project_data/USC-HAD/Subject12/a6t5.mat\n",
            "1700\n",
            "/content/drive/My Drive/ECE_209_AS_project_data/USC-HAD/Subject12/a8t1.mat\n",
            "5000\n",
            "/content/drive/My Drive/ECE_209_AS_project_data/USC-HAD/Subject12/a8t2.mat\n",
            "5000\n",
            "/content/drive/My Drive/ECE_209_AS_project_data/USC-HAD/Subject12/a8t3.mat\n",
            "5000\n",
            "/content/drive/My Drive/ECE_209_AS_project_data/USC-HAD/Subject12/a8t4.mat\n",
            "5000\n",
            "/content/drive/My Drive/ECE_209_AS_project_data/USC-HAD/Subject12/a8t5.mat\n",
            "5000\n",
            "/content/drive/My Drive/ECE_209_AS_project_data/USC-HAD/Subject12/a9t3.mat\n",
            "5000\n",
            "/content/drive/My Drive/ECE_209_AS_project_data/USC-HAD/Subject12/a9t2.mat\n",
            "6000\n",
            "/content/drive/My Drive/ECE_209_AS_project_data/USC-HAD/Subject12/a9t1.mat\n",
            "6000\n",
            "/content/drive/My Drive/ECE_209_AS_project_data/USC-HAD/Subject12/a9t4.mat\n",
            "4000\n",
            "/content/drive/My Drive/ECE_209_AS_project_data/USC-HAD/Subject12/a9t5.mat\n",
            "5000\n",
            "/content/drive/My Drive/ECE_209_AS_project_data/USC-HAD/Subject12/a2t1.mat\n",
            "5000\n",
            "/content/drive/My Drive/ECE_209_AS_project_data/USC-HAD/Subject12/a2t2.mat\n",
            "5300\n",
            "/content/drive/My Drive/ECE_209_AS_project_data/USC-HAD/Subject12/a2t3.mat\n",
            "5400\n",
            "/content/drive/My Drive/ECE_209_AS_project_data/USC-HAD/Subject12/a2t4.mat\n",
            "5600\n",
            "/content/drive/My Drive/ECE_209_AS_project_data/USC-HAD/Subject12/a2t5.mat\n",
            "5600\n",
            "/content/drive/My Drive/ECE_209_AS_project_data/USC-HAD/Subject12/a3t1.mat\n",
            "3800\n",
            "/content/drive/My Drive/ECE_209_AS_project_data/USC-HAD/Subject12/a3t2.mat\n",
            "4600\n",
            "/content/drive/My Drive/ECE_209_AS_project_data/USC-HAD/Subject12/a3t3.mat\n",
            "4500\n",
            "/content/drive/My Drive/ECE_209_AS_project_data/USC-HAD/Subject12/a3t4.mat\n",
            "5000\n",
            "/content/drive/My Drive/ECE_209_AS_project_data/USC-HAD/Subject12/a3t5.mat\n",
            "4900\n",
            "/content/drive/My Drive/ECE_209_AS_project_data/USC-HAD/Subject12/a4t1.mat\n",
            "2600\n",
            "/content/drive/My Drive/ECE_209_AS_project_data/USC-HAD/Subject12/a5t1.mat\n",
            "2500\n",
            "/content/drive/My Drive/ECE_209_AS_project_data/USC-HAD/Subject12/a4t2.mat\n",
            "2700\n",
            "/content/drive/My Drive/ECE_209_AS_project_data/USC-HAD/Subject12/a5t2.mat\n",
            "2400\n",
            "/content/drive/My Drive/ECE_209_AS_project_data/USC-HAD/Subject12/a4t3.mat\n",
            "2700\n",
            "/content/drive/My Drive/ECE_209_AS_project_data/USC-HAD/Subject12/a5t3.mat\n",
            "2200\n",
            "/content/drive/My Drive/ECE_209_AS_project_data/USC-HAD/Subject12/a4t4.mat\n",
            "2400\n",
            "/content/drive/My Drive/ECE_209_AS_project_data/USC-HAD/Subject12/a5t4.mat\n",
            "2100\n",
            "/content/drive/My Drive/ECE_209_AS_project_data/USC-HAD/Subject12/a4t5.mat\n",
            "2500\n",
            "/content/drive/My Drive/ECE_209_AS_project_data/USC-HAD/Subject12/a5t5.mat\n",
            "2100\n",
            "/content/drive/My Drive/ECE_209_AS_project_data/USC-HAD/Subject12/a10t1.mat\n",
            "5000\n",
            "/content/drive/My Drive/ECE_209_AS_project_data/USC-HAD/Subject12/a10t2.mat\n",
            "5000\n",
            "/content/drive/My Drive/ECE_209_AS_project_data/USC-HAD/Subject12/a10t3.mat\n",
            "5000\n",
            "/content/drive/My Drive/ECE_209_AS_project_data/USC-HAD/Subject12/a10t4.mat\n",
            "5000\n",
            "/content/drive/My Drive/ECE_209_AS_project_data/USC-HAD/Subject12/a10t5.mat\n",
            "5000\n",
            "/content/drive/My Drive/ECE_209_AS_project_data/USC-HAD/Subject12/a12t1.mat\n",
            "2841\n",
            "/content/drive/My Drive/ECE_209_AS_project_data/USC-HAD/Subject12/a11t1.mat\n",
            "2813\n",
            "/content/drive/My Drive/ECE_209_AS_project_data/USC-HAD/Subject12/a12t2.mat\n",
            "3364\n",
            "/content/drive/My Drive/ECE_209_AS_project_data/USC-HAD/Subject12/a12t3.mat\n",
            "3339\n",
            "/content/drive/My Drive/ECE_209_AS_project_data/USC-HAD/Subject12/a12t4.mat\n",
            "3571\n",
            "/content/drive/My Drive/ECE_209_AS_project_data/USC-HAD/Subject12/a12t5.mat\n",
            "2737\n",
            "/content/drive/My Drive/ECE_209_AS_project_data/USC-HAD/Subject12/a11t2.mat\n",
            "2840\n",
            "/content/drive/My Drive/ECE_209_AS_project_data/USC-HAD/Subject12/a11t3.mat\n",
            "2838\n",
            "/content/drive/My Drive/ECE_209_AS_project_data/USC-HAD/Subject12/a11t4.mat\n",
            "3003\n",
            "/content/drive/My Drive/ECE_209_AS_project_data/USC-HAD/Subject12/a11t5.mat\n",
            "3141\n",
            "/content/drive/My Drive/ECE_209_AS_project_data/USC-HAD/Subject13/a7t1.mat\n",
            "1500\n",
            "/content/drive/My Drive/ECE_209_AS_project_data/USC-HAD/Subject13/a7t2.mat\n",
            "1400\n",
            "/content/drive/My Drive/ECE_209_AS_project_data/USC-HAD/Subject13/a7t3.mat\n",
            "2000\n",
            "/content/drive/My Drive/ECE_209_AS_project_data/USC-HAD/Subject13/a7t4.mat\n",
            "1700\n",
            "/content/drive/My Drive/ECE_209_AS_project_data/USC-HAD/Subject13/a7t5.mat\n",
            "1700\n",
            "/content/drive/My Drive/ECE_209_AS_project_data/USC-HAD/Subject13/a6t3.mat\n",
            "4900\n",
            "/content/drive/My Drive/ECE_209_AS_project_data/USC-HAD/Subject13/a1t3.mat\n",
            "10000\n",
            "/content/drive/My Drive/ECE_209_AS_project_data/USC-HAD/Subject13/a6t1.mat\n",
            "4600\n",
            "/content/drive/My Drive/ECE_209_AS_project_data/USC-HAD/Subject13/a1t1.mat\n",
            "9400\n",
            "/content/drive/My Drive/ECE_209_AS_project_data/USC-HAD/Subject13/a6t2.mat\n",
            "4100\n",
            "/content/drive/My Drive/ECE_209_AS_project_data/USC-HAD/Subject13/a1t2.mat\n",
            "9800\n",
            "/content/drive/My Drive/ECE_209_AS_project_data/USC-HAD/Subject13/a6t4.mat\n",
            "4600\n",
            "/content/drive/My Drive/ECE_209_AS_project_data/USC-HAD/Subject13/a1t4.mat\n",
            "10800\n",
            "/content/drive/My Drive/ECE_209_AS_project_data/USC-HAD/Subject13/a6t5.mat\n",
            "4500\n",
            "/content/drive/My Drive/ECE_209_AS_project_data/USC-HAD/Subject13/a1t5.mat\n",
            "9600\n",
            "/content/drive/My Drive/ECE_209_AS_project_data/USC-HAD/Subject13/a4t1.mat\n",
            "2200\n",
            "/content/drive/My Drive/ECE_209_AS_project_data/USC-HAD/Subject13/a5t1.mat\n",
            "2100\n",
            "/content/drive/My Drive/ECE_209_AS_project_data/USC-HAD/Subject13/a4t2.mat\n",
            "2300\n",
            "/content/drive/My Drive/ECE_209_AS_project_data/USC-HAD/Subject13/a5t2.mat\n",
            "2400\n",
            "/content/drive/My Drive/ECE_209_AS_project_data/USC-HAD/Subject13/a4t3.mat\n",
            "2500\n",
            "/content/drive/My Drive/ECE_209_AS_project_data/USC-HAD/Subject13/a5t3.mat\n",
            "2300\n",
            "/content/drive/My Drive/ECE_209_AS_project_data/USC-HAD/Subject13/a4t4.mat\n",
            "2400\n",
            "/content/drive/My Drive/ECE_209_AS_project_data/USC-HAD/Subject13/a5t4.mat\n",
            "2300\n",
            "/content/drive/My Drive/ECE_209_AS_project_data/USC-HAD/Subject13/a4t5.mat\n",
            "2400\n",
            "/content/drive/My Drive/ECE_209_AS_project_data/USC-HAD/Subject13/a5t5.mat\n",
            "2300\n",
            "/content/drive/My Drive/ECE_209_AS_project_data/USC-HAD/Subject13/a3t1.mat\n",
            "3100\n",
            "/content/drive/My Drive/ECE_209_AS_project_data/USC-HAD/Subject13/a2t1.mat\n",
            "3200\n",
            "/content/drive/My Drive/ECE_209_AS_project_data/USC-HAD/Subject13/a3t2.mat\n",
            "3200\n",
            "/content/drive/My Drive/ECE_209_AS_project_data/USC-HAD/Subject13/a2t2.mat\n",
            "3500\n",
            "/content/drive/My Drive/ECE_209_AS_project_data/USC-HAD/Subject13/a3t3.mat\n",
            "3300\n",
            "/content/drive/My Drive/ECE_209_AS_project_data/USC-HAD/Subject13/a2t3.mat\n",
            "3500\n",
            "/content/drive/My Drive/ECE_209_AS_project_data/USC-HAD/Subject13/a3t4.mat\n",
            "3100\n",
            "/content/drive/My Drive/ECE_209_AS_project_data/USC-HAD/Subject13/a2t4.mat\n",
            "3200\n",
            "/content/drive/My Drive/ECE_209_AS_project_data/USC-HAD/Subject13/a3t5.mat\n",
            "3200\n",
            "/content/drive/My Drive/ECE_209_AS_project_data/USC-HAD/Subject13/a2t5.mat\n",
            "3300\n",
            "/content/drive/My Drive/ECE_209_AS_project_data/USC-HAD/Subject13/a8t1.mat\n",
            "5000\n",
            "/content/drive/My Drive/ECE_209_AS_project_data/USC-HAD/Subject13/a8t2.mat\n",
            "5000\n",
            "/content/drive/My Drive/ECE_209_AS_project_data/USC-HAD/Subject13/a8t3.mat\n",
            "5000\n",
            "/content/drive/My Drive/ECE_209_AS_project_data/USC-HAD/Subject13/a8t4.mat\n",
            "5000\n",
            "/content/drive/My Drive/ECE_209_AS_project_data/USC-HAD/Subject13/a8t5.mat\n",
            "5000\n",
            "/content/drive/My Drive/ECE_209_AS_project_data/USC-HAD/Subject13/a9t1.mat\n",
            "5000\n",
            "/content/drive/My Drive/ECE_209_AS_project_data/USC-HAD/Subject13/a9t2.mat\n",
            "5000\n",
            "/content/drive/My Drive/ECE_209_AS_project_data/USC-HAD/Subject13/a9t3.mat\n",
            "5000\n",
            "/content/drive/My Drive/ECE_209_AS_project_data/USC-HAD/Subject13/a9t4.mat\n",
            "5000\n",
            "/content/drive/My Drive/ECE_209_AS_project_data/USC-HAD/Subject13/a9t5.mat\n",
            "5000\n",
            "/content/drive/My Drive/ECE_209_AS_project_data/USC-HAD/Subject13/a12t1.mat\n",
            "1725\n",
            "/content/drive/My Drive/ECE_209_AS_project_data/USC-HAD/Subject13/a12t2.mat\n",
            "1954\n",
            "/content/drive/My Drive/ECE_209_AS_project_data/USC-HAD/Subject13/a12t3.mat\n",
            "1663\n",
            "/content/drive/My Drive/ECE_209_AS_project_data/USC-HAD/Subject13/a12t4.mat\n",
            "1975\n",
            "/content/drive/My Drive/ECE_209_AS_project_data/USC-HAD/Subject13/a12t5.mat\n",
            "1716\n",
            "/content/drive/My Drive/ECE_209_AS_project_data/USC-HAD/Subject13/a11t1.mat\n",
            "2059\n",
            "/content/drive/My Drive/ECE_209_AS_project_data/USC-HAD/Subject13/a11t2.mat\n",
            "2124\n",
            "/content/drive/My Drive/ECE_209_AS_project_data/USC-HAD/Subject13/a11t3.mat\n",
            "2181\n",
            "/content/drive/My Drive/ECE_209_AS_project_data/USC-HAD/Subject13/a11t4.mat\n",
            "/content/drive/My Drive/ECE_209_AS_project_data/USC-HAD/Subject13/a11t5.mat\n",
            "2405\n",
            "/content/drive/My Drive/ECE_209_AS_project_data/USC-HAD/Subject13/a10t1.mat\n",
            "10000\n",
            "/content/drive/My Drive/ECE_209_AS_project_data/USC-HAD/Subject13/a10t2.mat\n",
            "10000\n",
            "/content/drive/My Drive/ECE_209_AS_project_data/USC-HAD/Subject13/a10t3.mat\n",
            "10000\n",
            "/content/drive/My Drive/ECE_209_AS_project_data/USC-HAD/Subject13/a10t4.mat\n",
            "10000\n",
            "/content/drive/My Drive/ECE_209_AS_project_data/USC-HAD/Subject13/a10t5.mat\n",
            "10000\n",
            "/content/drive/My Drive/ECE_209_AS_project_data/USC-HAD/Subject14/a7t1.mat\n",
            "1700\n",
            "/content/drive/My Drive/ECE_209_AS_project_data/USC-HAD/Subject14/a7t2.mat\n",
            "2200\n",
            "/content/drive/My Drive/ECE_209_AS_project_data/USC-HAD/Subject14/a7t3.mat\n",
            "2200\n",
            "/content/drive/My Drive/ECE_209_AS_project_data/USC-HAD/Subject14/a7t4.mat\n",
            "2900\n",
            "/content/drive/My Drive/ECE_209_AS_project_data/USC-HAD/Subject14/a7t5.mat\n",
            "1600\n",
            "/content/drive/My Drive/ECE_209_AS_project_data/USC-HAD/Subject14/a8t1.mat\n",
            "5000\n",
            "/content/drive/My Drive/ECE_209_AS_project_data/USC-HAD/Subject14/a8t2.mat\n",
            "5000\n",
            "/content/drive/My Drive/ECE_209_AS_project_data/USC-HAD/Subject14/a8t3.mat\n",
            "5000\n",
            "/content/drive/My Drive/ECE_209_AS_project_data/USC-HAD/Subject14/a8t4.mat\n",
            "5000\n",
            "/content/drive/My Drive/ECE_209_AS_project_data/USC-HAD/Subject14/a8t5.mat\n",
            "5000\n",
            "/content/drive/My Drive/ECE_209_AS_project_data/USC-HAD/Subject14/a9t1.mat\n",
            "2000\n",
            "/content/drive/My Drive/ECE_209_AS_project_data/USC-HAD/Subject14/a9t2.mat\n",
            "2000\n",
            "/content/drive/My Drive/ECE_209_AS_project_data/USC-HAD/Subject14/a9t3.mat\n",
            "2000\n",
            "/content/drive/My Drive/ECE_209_AS_project_data/USC-HAD/Subject14/a9t4.mat\n",
            "2000\n",
            "/content/drive/My Drive/ECE_209_AS_project_data/USC-HAD/Subject14/a9t5.mat\n",
            "2000\n",
            "/content/drive/My Drive/ECE_209_AS_project_data/USC-HAD/Subject14/a10t1.mat\n",
            "5000\n",
            "/content/drive/My Drive/ECE_209_AS_project_data/USC-HAD/Subject14/a10t2.mat\n",
            "5000\n",
            "/content/drive/My Drive/ECE_209_AS_project_data/USC-HAD/Subject14/a10t3.mat\n",
            "5000\n",
            "/content/drive/My Drive/ECE_209_AS_project_data/USC-HAD/Subject14/a10t4.mat\n",
            "5000\n",
            "/content/drive/My Drive/ECE_209_AS_project_data/USC-HAD/Subject14/a10t5.mat\n",
            "5000\n",
            "/content/drive/My Drive/ECE_209_AS_project_data/USC-HAD/Subject14/a12t1.mat\n",
            "2103\n",
            "/content/drive/My Drive/ECE_209_AS_project_data/USC-HAD/Subject14/a12t2.mat\n",
            "1959\n",
            "/content/drive/My Drive/ECE_209_AS_project_data/USC-HAD/Subject14/a12t3.mat\n",
            "2067\n",
            "/content/drive/My Drive/ECE_209_AS_project_data/USC-HAD/Subject14/a12t4.mat\n",
            "1938\n",
            "/content/drive/My Drive/ECE_209_AS_project_data/USC-HAD/Subject14/a12t5.mat\n",
            "1848\n",
            "/content/drive/My Drive/ECE_209_AS_project_data/USC-HAD/Subject14/a11t1.mat\n",
            "2302\n",
            "/content/drive/My Drive/ECE_209_AS_project_data/USC-HAD/Subject14/a11t2.mat\n",
            "2184\n",
            "/content/drive/My Drive/ECE_209_AS_project_data/USC-HAD/Subject14/a11t3.mat\n",
            "2153\n",
            "/content/drive/My Drive/ECE_209_AS_project_data/USC-HAD/Subject14/a11t4.mat\n",
            "2185\n",
            "/content/drive/My Drive/ECE_209_AS_project_data/USC-HAD/Subject14/a11t5.mat\n",
            "2191\n",
            "/content/drive/My Drive/ECE_209_AS_project_data/USC-HAD/Subject14/a1t1.mat\n",
            "5600\n",
            "/content/drive/My Drive/ECE_209_AS_project_data/USC-HAD/Subject14/a6t1.mat\n",
            "3200\n",
            "/content/drive/My Drive/ECE_209_AS_project_data/USC-HAD/Subject14/a1t2.mat\n",
            "5300\n",
            "/content/drive/My Drive/ECE_209_AS_project_data/USC-HAD/Subject14/a6t2.mat\n",
            "3700\n",
            "/content/drive/My Drive/ECE_209_AS_project_data/USC-HAD/Subject14/a1t3.mat\n",
            "5200\n",
            "/content/drive/My Drive/ECE_209_AS_project_data/USC-HAD/Subject14/a6t3.mat\n",
            "4000\n",
            "/content/drive/My Drive/ECE_209_AS_project_data/USC-HAD/Subject14/a1t4.mat\n",
            "5800\n",
            "/content/drive/My Drive/ECE_209_AS_project_data/USC-HAD/Subject14/a6t4.mat\n",
            "3600\n",
            "/content/drive/My Drive/ECE_209_AS_project_data/USC-HAD/Subject14/a1t5.mat\n",
            "5700\n",
            "/content/drive/My Drive/ECE_209_AS_project_data/USC-HAD/Subject14/a6t5.mat\n",
            "3700\n",
            "/content/drive/My Drive/ECE_209_AS_project_data/USC-HAD/Subject14/a5t1.mat\n",
            "1400\n",
            "/content/drive/My Drive/ECE_209_AS_project_data/USC-HAD/Subject14/a4t1.mat\n",
            "1500\n",
            "/content/drive/My Drive/ECE_209_AS_project_data/USC-HAD/Subject14/a5t2.mat\n",
            "1600\n",
            "/content/drive/My Drive/ECE_209_AS_project_data/USC-HAD/Subject14/a4t2.mat\n",
            "1600\n",
            "/content/drive/My Drive/ECE_209_AS_project_data/USC-HAD/Subject14/a5t3.mat\n",
            "1600\n",
            "/content/drive/My Drive/ECE_209_AS_project_data/USC-HAD/Subject14/a4t3.mat\n",
            "1800\n",
            "/content/drive/My Drive/ECE_209_AS_project_data/USC-HAD/Subject14/a5t4.mat\n",
            "1500\n",
            "/content/drive/My Drive/ECE_209_AS_project_data/USC-HAD/Subject14/a4t4.mat\n",
            "1500\n",
            "/content/drive/My Drive/ECE_209_AS_project_data/USC-HAD/Subject14/a5t5.mat\n",
            "1300\n",
            "/content/drive/My Drive/ECE_209_AS_project_data/USC-HAD/Subject14/a4t5.mat\n",
            "1300\n",
            "/content/drive/My Drive/ECE_209_AS_project_data/USC-HAD/Subject14/a2t1.mat\n",
            "4600\n",
            "/content/drive/My Drive/ECE_209_AS_project_data/USC-HAD/Subject14/a3t1.mat\n",
            "5600\n",
            "/content/drive/My Drive/ECE_209_AS_project_data/USC-HAD/Subject14/a2t2.mat\n",
            "3900\n",
            "/content/drive/My Drive/ECE_209_AS_project_data/USC-HAD/Subject14/a3t2.mat\n",
            "5800\n",
            "/content/drive/My Drive/ECE_209_AS_project_data/USC-HAD/Subject14/a2t3.mat\n",
            "5600\n",
            "/content/drive/My Drive/ECE_209_AS_project_data/USC-HAD/Subject14/a3t3.mat\n",
            "6600\n",
            "/content/drive/My Drive/ECE_209_AS_project_data/USC-HAD/Subject14/a2t4.mat\n",
            "6000\n",
            "/content/drive/My Drive/ECE_209_AS_project_data/USC-HAD/Subject14/a3t4.mat\n",
            "6500\n",
            "/content/drive/My Drive/ECE_209_AS_project_data/USC-HAD/Subject14/a2t5.mat\n",
            "6400\n",
            "/content/drive/My Drive/ECE_209_AS_project_data/USC-HAD/Subject14/a3t5.mat\n",
            "6600\n"
          ]
        }
      ]
    },
    {
      "cell_type": "code",
      "source": [
        "data_class_names =['walking forward', 'walking left', 'walking right', 'walking upstairs' , 'walking downstairs',  'running forward' ,  'jumping', 'sitting', 'standing ', 'sleeping ',  'elevator up',  'elevator down']\n",
        "data_class_weights ={}\n",
        "for i in range(len(data_class_names)+1):\n",
        "     data_class_weights[i]= 1\n",
        "print(data_class_weights)"
      ],
      "metadata": {
        "colab": {
          "base_uri": "https://localhost:8080/"
        },
        "id": "eMj5fMOyYwYQ",
        "outputId": "8613f4ec-2742-4c05-e8ee-a5e57c485512"
      },
      "id": "eMj5fMOyYwYQ",
      "execution_count": 7,
      "outputs": [
        {
          "output_type": "stream",
          "name": "stdout",
          "text": [
            "{0: 1, 1: 1, 2: 1, 3: 1, 4: 1, 5: 1, 6: 1, 7: 1, 8: 1, 9: 1, 10: 1, 11: 1, 12: 1}\n"
          ]
        }
      ]
    },
    {
      "cell_type": "code",
      "source": [
        "n = int( 0.7 *Y.shape[0])\n",
        "t = np.random.choice(list(range(Y.shape[0])),n, replace=False)\n",
        "te = list(set(list(range(Y.shape[0])))-set(t))\n",
        "X_train = X[t]\n",
        "Y_train =Y[t]\n",
        "X_test = X[te]\n",
        "Y_test =Y[te]"
      ],
      "metadata": {
        "id": "PBSAVKbIZ0ZM"
      },
      "id": "PBSAVKbIZ0ZM",
      "execution_count": 8,
      "outputs": []
    },
    {
      "cell_type": "code",
      "execution_count": 9,
      "id": "63d707ab",
      "metadata": {
        "colab": {
          "base_uri": "https://localhost:8080/"
        },
        "id": "63d707ab",
        "outputId": "5b4052f3-a6e3-4a4a-f4fd-1de42da1fc7d"
      },
      "outputs": [
        {
          "output_type": "stream",
          "name": "stdout",
          "text": [
            "(15113, 128, 6)\n",
            "(15113,)\n",
            "(6478, 128, 6)\n",
            "(6478,)\n"
          ]
        }
      ],
      "source": [
        "print(X_train.shape)\n",
        "print(Y_train.shape)\n",
        "print(X_test.shape)\n",
        "print(Y_test.shape)"
      ]
    },
    {
      "cell_type": "code",
      "source": [
        "len(data_class_names)"
      ],
      "metadata": {
        "colab": {
          "base_uri": "https://localhost:8080/"
        },
        "id": "ClIp8DXqaF4y",
        "outputId": "dfeb0065-edb9-46ce-d457-e164ccc56199"
      },
      "id": "ClIp8DXqaF4y",
      "execution_count": 10,
      "outputs": [
        {
          "output_type": "execute_result",
          "data": {
            "text/plain": [
              "12"
            ]
          },
          "metadata": {},
          "execution_count": 10
        }
      ]
    },
    {
      "cell_type": "markdown",
      "id": "1e373bd9",
      "metadata": {
        "id": "1e373bd9"
      },
      "source": [
        "### Define the model "
      ]
    },
    {
      "cell_type": "code",
      "execution_count": 11,
      "id": "9b7c6e21",
      "metadata": {
        "id": "9b7c6e21"
      },
      "outputs": [],
      "source": [
        "inputs = keras.Input(shape = (128, 6, 1 ))\n",
        "features = layers.Conv2D(64, kernel_size = (5, 1), strides = (1, 1), padding = \"valid\", activation = \"relu\")(inputs)\n",
        "features = layers.Conv2D(64, kernel_size = (5, 1), strides = (1, 1), padding = \"valid\", activation = \"relu\")(features)\n",
        "#features = layers.Conv2D(64, kernel_size = (5, 1), strides = (1, 1), padding = \"valid\", activation = \"relu\")(features)\n",
        "#features = layers.Conv2D(64, kernel_size = (5, 1), strides = (1, 1), padding = \"valid\", activation = \"relu\")(features)\n",
        "features = layers.Reshape((features.shape[1], features.shape[2]*features.shape[3]))(features)\n",
        "features = layers.LSTM(128, return_sequences = True, activation = \"tanh\")(features)\n",
        "features = layers.Dropout(0.5)(features)\n",
        "#features = layers.LSTM(128, return_sequences = True, activation = \"tanh\")(features)\n",
        "#features = layers.Dropout(0.5)(features)\n",
        "features = layers.LSTM(128, activation = \"tanh\")(features)\n",
        "features = layers.Dropout(0.5)(features)\n",
        "outputs = layers.Dense(12, activation = \"softmax\")(features)\n",
        "\n",
        "model = keras.Model(inputs = inputs, outputs = outputs)\n"
      ]
    },
    {
      "cell_type": "code",
      "execution_count": 12,
      "id": "adb167c6",
      "metadata": {
        "colab": {
          "base_uri": "https://localhost:8080/"
        },
        "id": "adb167c6",
        "outputId": "fc491666-7825-43f9-e22c-fe8825ca10ba"
      },
      "outputs": [
        {
          "output_type": "stream",
          "name": "stdout",
          "text": [
            "Model: \"model\"\n",
            "_________________________________________________________________\n",
            " Layer (type)                Output Shape              Param #   \n",
            "=================================================================\n",
            " input_1 (InputLayer)        [(None, 128, 6, 1)]       0         \n",
            "                                                                 \n",
            " conv2d (Conv2D)             (None, 124, 6, 64)        384       \n",
            "                                                                 \n",
            " conv2d_1 (Conv2D)           (None, 120, 6, 64)        20544     \n",
            "                                                                 \n",
            " reshape (Reshape)           (None, 120, 384)          0         \n",
            "                                                                 \n",
            " lstm (LSTM)                 (None, 120, 128)          262656    \n",
            "                                                                 \n",
            " dropout (Dropout)           (None, 120, 128)          0         \n",
            "                                                                 \n",
            " lstm_1 (LSTM)               (None, 128)               131584    \n",
            "                                                                 \n",
            " dropout_1 (Dropout)         (None, 128)               0         \n",
            "                                                                 \n",
            " dense (Dense)               (None, 12)                1548      \n",
            "                                                                 \n",
            "=================================================================\n",
            "Total params: 416,716\n",
            "Trainable params: 416,716\n",
            "Non-trainable params: 0\n",
            "_________________________________________________________________\n"
          ]
        }
      ],
      "source": [
        "model.summary()"
      ]
    },
    {
      "cell_type": "code",
      "source": [
        "path_to_logs = \"/content/drive/My Drive/ECE_209_AS_project_data/USCHADlogs/\"\n",
        "path_to_models = \"/content/drive/My Drive/ECE_209_AS_project_data/USCHADmodels/\""
      ],
      "metadata": {
        "id": "VCQtMlG_aqzN"
      },
      "id": "VCQtMlG_aqzN",
      "execution_count": 13,
      "outputs": []
    },
    {
      "cell_type": "markdown",
      "id": "89104158",
      "metadata": {
        "id": "89104158"
      },
      "source": [
        "### Split the Data and Train the model "
      ]
    },
    {
      "cell_type": "code",
      "source": [
        "import absl.logging\n",
        "absl.logging.set_verbosity(absl.logging.ERROR)"
      ],
      "metadata": {
        "id": "0gqiJVQoJjRg"
      },
      "id": "0gqiJVQoJjRg",
      "execution_count": 14,
      "outputs": []
    },
    {
      "cell_type": "code",
      "source": [
        "seeds = []"
      ],
      "metadata": {
        "id": "AajsTRlzIQ0f"
      },
      "id": "AajsTRlzIQ0f",
      "execution_count": 17,
      "outputs": []
    },
    {
      "cell_type": "code",
      "source": [
        "from sklearn.metrics import confusion_matrix, recall_score"
      ],
      "metadata": {
        "id": "XeMW9tcf4IqW"
      },
      "id": "XeMW9tcf4IqW",
      "execution_count": 15,
      "outputs": []
    },
    {
      "cell_type": "code",
      "source": [
        "test_accuracies = []\n",
        "recall_scores = []\n",
        "\n",
        "for i in range(5):\n",
        "\n",
        "  rnd_seed = np.random.randint(1, 100)\n",
        "  seeds.append(rnd_seed)\n",
        "  tf.random.set_seed(rnd_seed)\n",
        "  indices = np.random.RandomState(seed=rnd_seed).permutation(len(X_train))\n",
        "  X_train = X_train[indices]\n",
        "  Y_train = Y_train[indices]\n",
        "\n",
        "  train_data = X_train[len(X_train)//10:]\n",
        "  train_labels = Y_train[len(X_train)//10:]\n",
        "  val_data = X_train[:len(X_train)//10]\n",
        "  val_labels = Y_train[:len(X_train)//10]\n",
        "\n",
        "  model = keras.Model(inputs = inputs, outputs = outputs)\n",
        "  model.compile(loss = \"sparse_categorical_crossentropy\", optimizer = \"adam\", metrics=[\"accuracy\"])\n",
        "  tensorboard = keras.callbacks.TensorBoard(log_dir = path_to_logs)\n",
        "  callbacks = [keras.callbacks.ModelCheckpoint(filepath=path_to_models + f\"DeepConvLSTMmediumUSCHAD_baseline_{i}\"), tensorboard, keras.callbacks.EarlyStopping(monitor='val_loss', patience=5)]\n",
        "  history = model.fit(train_data, train_labels, epochs = 100, batch_size = 64, validation_data = (val_data, val_labels), callbacks = callbacks, class_weight = data_class_weights, verbose = False)\n",
        "\n",
        "  model_saved = keras.models.load_model(path_to_models + f\"DeepConvLSTMmediumUSCHAD_baseline_{i}\")\n",
        "  test_accuracy = tf.keras.metrics.Accuracy()\n",
        "  logits = model_saved(X_test, training=False)\n",
        "  prediction = tf.argmax(logits, axis=1, output_type=tf.int32)\n",
        "  test_accuracies.append(test_accuracy(prediction, Y_test))\n",
        "  print(test_accuracy(prediction, Y_test))\n",
        "  recall_scores.append(recall_score(Y_test, prediction, average=None))"
      ],
      "metadata": {
        "colab": {
          "base_uri": "https://localhost:8080/"
        },
        "id": "QsBspytF91ve",
        "outputId": "2a912d96-aad0-42fd-aefe-c23a2b11ad38"
      },
      "id": "QsBspytF91ve",
      "execution_count": 18,
      "outputs": [
        {
          "output_type": "stream",
          "name": "stdout",
          "text": [
            "INFO:tensorflow:Assets written to: /content/drive/My Drive/ECE_209_AS_project_data/USCHADmodels/DeepConvLSTMmediumUSCHAD_baseline_0/assets\n"
          ]
        },
        {
          "output_type": "stream",
          "name": "stderr",
          "text": [
            "INFO:tensorflow:Assets written to: /content/drive/My Drive/ECE_209_AS_project_data/USCHADmodels/DeepConvLSTMmediumUSCHAD_baseline_0/assets\n"
          ]
        },
        {
          "output_type": "stream",
          "name": "stdout",
          "text": [
            "INFO:tensorflow:Assets written to: /content/drive/My Drive/ECE_209_AS_project_data/USCHADmodels/DeepConvLSTMmediumUSCHAD_baseline_0/assets\n"
          ]
        },
        {
          "output_type": "stream",
          "name": "stderr",
          "text": [
            "INFO:tensorflow:Assets written to: /content/drive/My Drive/ECE_209_AS_project_data/USCHADmodels/DeepConvLSTMmediumUSCHAD_baseline_0/assets\n"
          ]
        },
        {
          "output_type": "stream",
          "name": "stdout",
          "text": [
            "INFO:tensorflow:Assets written to: /content/drive/My Drive/ECE_209_AS_project_data/USCHADmodels/DeepConvLSTMmediumUSCHAD_baseline_0/assets\n"
          ]
        },
        {
          "output_type": "stream",
          "name": "stderr",
          "text": [
            "INFO:tensorflow:Assets written to: /content/drive/My Drive/ECE_209_AS_project_data/USCHADmodels/DeepConvLSTMmediumUSCHAD_baseline_0/assets\n"
          ]
        },
        {
          "output_type": "stream",
          "name": "stdout",
          "text": [
            "INFO:tensorflow:Assets written to: /content/drive/My Drive/ECE_209_AS_project_data/USCHADmodels/DeepConvLSTMmediumUSCHAD_baseline_0/assets\n"
          ]
        },
        {
          "output_type": "stream",
          "name": "stderr",
          "text": [
            "INFO:tensorflow:Assets written to: /content/drive/My Drive/ECE_209_AS_project_data/USCHADmodels/DeepConvLSTMmediumUSCHAD_baseline_0/assets\n"
          ]
        },
        {
          "output_type": "stream",
          "name": "stdout",
          "text": [
            "INFO:tensorflow:Assets written to: /content/drive/My Drive/ECE_209_AS_project_data/USCHADmodels/DeepConvLSTMmediumUSCHAD_baseline_0/assets\n"
          ]
        },
        {
          "output_type": "stream",
          "name": "stderr",
          "text": [
            "INFO:tensorflow:Assets written to: /content/drive/My Drive/ECE_209_AS_project_data/USCHADmodels/DeepConvLSTMmediumUSCHAD_baseline_0/assets\n"
          ]
        },
        {
          "output_type": "stream",
          "name": "stdout",
          "text": [
            "INFO:tensorflow:Assets written to: /content/drive/My Drive/ECE_209_AS_project_data/USCHADmodels/DeepConvLSTMmediumUSCHAD_baseline_0/assets\n"
          ]
        },
        {
          "output_type": "stream",
          "name": "stderr",
          "text": [
            "INFO:tensorflow:Assets written to: /content/drive/My Drive/ECE_209_AS_project_data/USCHADmodels/DeepConvLSTMmediumUSCHAD_baseline_0/assets\n"
          ]
        },
        {
          "output_type": "stream",
          "name": "stdout",
          "text": [
            "INFO:tensorflow:Assets written to: /content/drive/My Drive/ECE_209_AS_project_data/USCHADmodels/DeepConvLSTMmediumUSCHAD_baseline_0/assets\n"
          ]
        },
        {
          "output_type": "stream",
          "name": "stderr",
          "text": [
            "INFO:tensorflow:Assets written to: /content/drive/My Drive/ECE_209_AS_project_data/USCHADmodels/DeepConvLSTMmediumUSCHAD_baseline_0/assets\n"
          ]
        },
        {
          "output_type": "stream",
          "name": "stdout",
          "text": [
            "INFO:tensorflow:Assets written to: /content/drive/My Drive/ECE_209_AS_project_data/USCHADmodels/DeepConvLSTMmediumUSCHAD_baseline_0/assets\n"
          ]
        },
        {
          "output_type": "stream",
          "name": "stderr",
          "text": [
            "INFO:tensorflow:Assets written to: /content/drive/My Drive/ECE_209_AS_project_data/USCHADmodels/DeepConvLSTMmediumUSCHAD_baseline_0/assets\n"
          ]
        },
        {
          "output_type": "stream",
          "name": "stdout",
          "text": [
            "INFO:tensorflow:Assets written to: /content/drive/My Drive/ECE_209_AS_project_data/USCHADmodels/DeepConvLSTMmediumUSCHAD_baseline_0/assets\n"
          ]
        },
        {
          "output_type": "stream",
          "name": "stderr",
          "text": [
            "INFO:tensorflow:Assets written to: /content/drive/My Drive/ECE_209_AS_project_data/USCHADmodels/DeepConvLSTMmediumUSCHAD_baseline_0/assets\n"
          ]
        },
        {
          "output_type": "stream",
          "name": "stdout",
          "text": [
            "INFO:tensorflow:Assets written to: /content/drive/My Drive/ECE_209_AS_project_data/USCHADmodels/DeepConvLSTMmediumUSCHAD_baseline_0/assets\n"
          ]
        },
        {
          "output_type": "stream",
          "name": "stderr",
          "text": [
            "INFO:tensorflow:Assets written to: /content/drive/My Drive/ECE_209_AS_project_data/USCHADmodels/DeepConvLSTMmediumUSCHAD_baseline_0/assets\n"
          ]
        },
        {
          "output_type": "stream",
          "name": "stdout",
          "text": [
            "INFO:tensorflow:Assets written to: /content/drive/My Drive/ECE_209_AS_project_data/USCHADmodels/DeepConvLSTMmediumUSCHAD_baseline_0/assets\n"
          ]
        },
        {
          "output_type": "stream",
          "name": "stderr",
          "text": [
            "INFO:tensorflow:Assets written to: /content/drive/My Drive/ECE_209_AS_project_data/USCHADmodels/DeepConvLSTMmediumUSCHAD_baseline_0/assets\n"
          ]
        },
        {
          "output_type": "stream",
          "name": "stdout",
          "text": [
            "INFO:tensorflow:Assets written to: /content/drive/My Drive/ECE_209_AS_project_data/USCHADmodels/DeepConvLSTMmediumUSCHAD_baseline_0/assets\n"
          ]
        },
        {
          "output_type": "stream",
          "name": "stderr",
          "text": [
            "INFO:tensorflow:Assets written to: /content/drive/My Drive/ECE_209_AS_project_data/USCHADmodels/DeepConvLSTMmediumUSCHAD_baseline_0/assets\n"
          ]
        },
        {
          "output_type": "stream",
          "name": "stdout",
          "text": [
            "INFO:tensorflow:Assets written to: /content/drive/My Drive/ECE_209_AS_project_data/USCHADmodels/DeepConvLSTMmediumUSCHAD_baseline_0/assets\n"
          ]
        },
        {
          "output_type": "stream",
          "name": "stderr",
          "text": [
            "INFO:tensorflow:Assets written to: /content/drive/My Drive/ECE_209_AS_project_data/USCHADmodels/DeepConvLSTMmediumUSCHAD_baseline_0/assets\n"
          ]
        },
        {
          "output_type": "stream",
          "name": "stdout",
          "text": [
            "INFO:tensorflow:Assets written to: /content/drive/My Drive/ECE_209_AS_project_data/USCHADmodels/DeepConvLSTMmediumUSCHAD_baseline_0/assets\n"
          ]
        },
        {
          "output_type": "stream",
          "name": "stderr",
          "text": [
            "INFO:tensorflow:Assets written to: /content/drive/My Drive/ECE_209_AS_project_data/USCHADmodels/DeepConvLSTMmediumUSCHAD_baseline_0/assets\n"
          ]
        },
        {
          "output_type": "stream",
          "name": "stdout",
          "text": [
            "INFO:tensorflow:Assets written to: /content/drive/My Drive/ECE_209_AS_project_data/USCHADmodels/DeepConvLSTMmediumUSCHAD_baseline_0/assets\n"
          ]
        },
        {
          "output_type": "stream",
          "name": "stderr",
          "text": [
            "INFO:tensorflow:Assets written to: /content/drive/My Drive/ECE_209_AS_project_data/USCHADmodels/DeepConvLSTMmediumUSCHAD_baseline_0/assets\n"
          ]
        },
        {
          "output_type": "stream",
          "name": "stdout",
          "text": [
            "INFO:tensorflow:Assets written to: /content/drive/My Drive/ECE_209_AS_project_data/USCHADmodels/DeepConvLSTMmediumUSCHAD_baseline_0/assets\n"
          ]
        },
        {
          "output_type": "stream",
          "name": "stderr",
          "text": [
            "INFO:tensorflow:Assets written to: /content/drive/My Drive/ECE_209_AS_project_data/USCHADmodels/DeepConvLSTMmediumUSCHAD_baseline_0/assets\n"
          ]
        },
        {
          "output_type": "stream",
          "name": "stdout",
          "text": [
            "INFO:tensorflow:Assets written to: /content/drive/My Drive/ECE_209_AS_project_data/USCHADmodels/DeepConvLSTMmediumUSCHAD_baseline_0/assets\n"
          ]
        },
        {
          "output_type": "stream",
          "name": "stderr",
          "text": [
            "INFO:tensorflow:Assets written to: /content/drive/My Drive/ECE_209_AS_project_data/USCHADmodels/DeepConvLSTMmediumUSCHAD_baseline_0/assets\n"
          ]
        },
        {
          "output_type": "stream",
          "name": "stdout",
          "text": [
            "INFO:tensorflow:Assets written to: /content/drive/My Drive/ECE_209_AS_project_data/USCHADmodels/DeepConvLSTMmediumUSCHAD_baseline_0/assets\n"
          ]
        },
        {
          "output_type": "stream",
          "name": "stderr",
          "text": [
            "INFO:tensorflow:Assets written to: /content/drive/My Drive/ECE_209_AS_project_data/USCHADmodels/DeepConvLSTMmediumUSCHAD_baseline_0/assets\n"
          ]
        },
        {
          "output_type": "stream",
          "name": "stdout",
          "text": [
            "INFO:tensorflow:Assets written to: /content/drive/My Drive/ECE_209_AS_project_data/USCHADmodels/DeepConvLSTMmediumUSCHAD_baseline_0/assets\n"
          ]
        },
        {
          "output_type": "stream",
          "name": "stderr",
          "text": [
            "INFO:tensorflow:Assets written to: /content/drive/My Drive/ECE_209_AS_project_data/USCHADmodels/DeepConvLSTMmediumUSCHAD_baseline_0/assets\n"
          ]
        },
        {
          "output_type": "stream",
          "name": "stdout",
          "text": [
            "INFO:tensorflow:Assets written to: /content/drive/My Drive/ECE_209_AS_project_data/USCHADmodels/DeepConvLSTMmediumUSCHAD_baseline_0/assets\n"
          ]
        },
        {
          "output_type": "stream",
          "name": "stderr",
          "text": [
            "INFO:tensorflow:Assets written to: /content/drive/My Drive/ECE_209_AS_project_data/USCHADmodels/DeepConvLSTMmediumUSCHAD_baseline_0/assets\n"
          ]
        },
        {
          "output_type": "stream",
          "name": "stdout",
          "text": [
            "INFO:tensorflow:Assets written to: /content/drive/My Drive/ECE_209_AS_project_data/USCHADmodels/DeepConvLSTMmediumUSCHAD_baseline_0/assets\n"
          ]
        },
        {
          "output_type": "stream",
          "name": "stderr",
          "text": [
            "INFO:tensorflow:Assets written to: /content/drive/My Drive/ECE_209_AS_project_data/USCHADmodels/DeepConvLSTMmediumUSCHAD_baseline_0/assets\n"
          ]
        },
        {
          "output_type": "stream",
          "name": "stdout",
          "text": [
            "INFO:tensorflow:Assets written to: /content/drive/My Drive/ECE_209_AS_project_data/USCHADmodels/DeepConvLSTMmediumUSCHAD_baseline_0/assets\n"
          ]
        },
        {
          "output_type": "stream",
          "name": "stderr",
          "text": [
            "INFO:tensorflow:Assets written to: /content/drive/My Drive/ECE_209_AS_project_data/USCHADmodels/DeepConvLSTMmediumUSCHAD_baseline_0/assets\n"
          ]
        },
        {
          "output_type": "stream",
          "name": "stdout",
          "text": [
            "INFO:tensorflow:Assets written to: /content/drive/My Drive/ECE_209_AS_project_data/USCHADmodels/DeepConvLSTMmediumUSCHAD_baseline_0/assets\n"
          ]
        },
        {
          "output_type": "stream",
          "name": "stderr",
          "text": [
            "INFO:tensorflow:Assets written to: /content/drive/My Drive/ECE_209_AS_project_data/USCHADmodels/DeepConvLSTMmediumUSCHAD_baseline_0/assets\n"
          ]
        },
        {
          "output_type": "stream",
          "name": "stdout",
          "text": [
            "INFO:tensorflow:Assets written to: /content/drive/My Drive/ECE_209_AS_project_data/USCHADmodels/DeepConvLSTMmediumUSCHAD_baseline_0/assets\n"
          ]
        },
        {
          "output_type": "stream",
          "name": "stderr",
          "text": [
            "INFO:tensorflow:Assets written to: /content/drive/My Drive/ECE_209_AS_project_data/USCHADmodels/DeepConvLSTMmediumUSCHAD_baseline_0/assets\n"
          ]
        },
        {
          "output_type": "stream",
          "name": "stdout",
          "text": [
            "tf.Tensor(0.8836061, shape=(), dtype=float32)\n",
            "INFO:tensorflow:Assets written to: /content/drive/My Drive/ECE_209_AS_project_data/USCHADmodels/DeepConvLSTMmediumUSCHAD_baseline_1/assets\n"
          ]
        },
        {
          "output_type": "stream",
          "name": "stderr",
          "text": [
            "INFO:tensorflow:Assets written to: /content/drive/My Drive/ECE_209_AS_project_data/USCHADmodels/DeepConvLSTMmediumUSCHAD_baseline_1/assets\n"
          ]
        },
        {
          "output_type": "stream",
          "name": "stdout",
          "text": [
            "INFO:tensorflow:Assets written to: /content/drive/My Drive/ECE_209_AS_project_data/USCHADmodels/DeepConvLSTMmediumUSCHAD_baseline_1/assets\n"
          ]
        },
        {
          "output_type": "stream",
          "name": "stderr",
          "text": [
            "INFO:tensorflow:Assets written to: /content/drive/My Drive/ECE_209_AS_project_data/USCHADmodels/DeepConvLSTMmediumUSCHAD_baseline_1/assets\n"
          ]
        },
        {
          "output_type": "stream",
          "name": "stdout",
          "text": [
            "INFO:tensorflow:Assets written to: /content/drive/My Drive/ECE_209_AS_project_data/USCHADmodels/DeepConvLSTMmediumUSCHAD_baseline_1/assets\n"
          ]
        },
        {
          "output_type": "stream",
          "name": "stderr",
          "text": [
            "INFO:tensorflow:Assets written to: /content/drive/My Drive/ECE_209_AS_project_data/USCHADmodels/DeepConvLSTMmediumUSCHAD_baseline_1/assets\n"
          ]
        },
        {
          "output_type": "stream",
          "name": "stdout",
          "text": [
            "INFO:tensorflow:Assets written to: /content/drive/My Drive/ECE_209_AS_project_data/USCHADmodels/DeepConvLSTMmediumUSCHAD_baseline_1/assets\n"
          ]
        },
        {
          "output_type": "stream",
          "name": "stderr",
          "text": [
            "INFO:tensorflow:Assets written to: /content/drive/My Drive/ECE_209_AS_project_data/USCHADmodels/DeepConvLSTMmediumUSCHAD_baseline_1/assets\n"
          ]
        },
        {
          "output_type": "stream",
          "name": "stdout",
          "text": [
            "INFO:tensorflow:Assets written to: /content/drive/My Drive/ECE_209_AS_project_data/USCHADmodels/DeepConvLSTMmediumUSCHAD_baseline_1/assets\n"
          ]
        },
        {
          "output_type": "stream",
          "name": "stderr",
          "text": [
            "INFO:tensorflow:Assets written to: /content/drive/My Drive/ECE_209_AS_project_data/USCHADmodels/DeepConvLSTMmediumUSCHAD_baseline_1/assets\n"
          ]
        },
        {
          "output_type": "stream",
          "name": "stdout",
          "text": [
            "INFO:tensorflow:Assets written to: /content/drive/My Drive/ECE_209_AS_project_data/USCHADmodels/DeepConvLSTMmediumUSCHAD_baseline_1/assets\n"
          ]
        },
        {
          "output_type": "stream",
          "name": "stderr",
          "text": [
            "INFO:tensorflow:Assets written to: /content/drive/My Drive/ECE_209_AS_project_data/USCHADmodels/DeepConvLSTMmediumUSCHAD_baseline_1/assets\n"
          ]
        },
        {
          "output_type": "stream",
          "name": "stdout",
          "text": [
            "INFO:tensorflow:Assets written to: /content/drive/My Drive/ECE_209_AS_project_data/USCHADmodels/DeepConvLSTMmediumUSCHAD_baseline_1/assets\n"
          ]
        },
        {
          "output_type": "stream",
          "name": "stderr",
          "text": [
            "INFO:tensorflow:Assets written to: /content/drive/My Drive/ECE_209_AS_project_data/USCHADmodels/DeepConvLSTMmediumUSCHAD_baseline_1/assets\n"
          ]
        },
        {
          "output_type": "stream",
          "name": "stdout",
          "text": [
            "INFO:tensorflow:Assets written to: /content/drive/My Drive/ECE_209_AS_project_data/USCHADmodels/DeepConvLSTMmediumUSCHAD_baseline_1/assets\n"
          ]
        },
        {
          "output_type": "stream",
          "name": "stderr",
          "text": [
            "INFO:tensorflow:Assets written to: /content/drive/My Drive/ECE_209_AS_project_data/USCHADmodels/DeepConvLSTMmediumUSCHAD_baseline_1/assets\n"
          ]
        },
        {
          "output_type": "stream",
          "name": "stdout",
          "text": [
            "INFO:tensorflow:Assets written to: /content/drive/My Drive/ECE_209_AS_project_data/USCHADmodels/DeepConvLSTMmediumUSCHAD_baseline_1/assets\n"
          ]
        },
        {
          "output_type": "stream",
          "name": "stderr",
          "text": [
            "INFO:tensorflow:Assets written to: /content/drive/My Drive/ECE_209_AS_project_data/USCHADmodels/DeepConvLSTMmediumUSCHAD_baseline_1/assets\n"
          ]
        },
        {
          "output_type": "stream",
          "name": "stdout",
          "text": [
            "INFO:tensorflow:Assets written to: /content/drive/My Drive/ECE_209_AS_project_data/USCHADmodels/DeepConvLSTMmediumUSCHAD_baseline_1/assets\n"
          ]
        },
        {
          "output_type": "stream",
          "name": "stderr",
          "text": [
            "INFO:tensorflow:Assets written to: /content/drive/My Drive/ECE_209_AS_project_data/USCHADmodels/DeepConvLSTMmediumUSCHAD_baseline_1/assets\n"
          ]
        },
        {
          "output_type": "stream",
          "name": "stdout",
          "text": [
            "INFO:tensorflow:Assets written to: /content/drive/My Drive/ECE_209_AS_project_data/USCHADmodels/DeepConvLSTMmediumUSCHAD_baseline_1/assets\n"
          ]
        },
        {
          "output_type": "stream",
          "name": "stderr",
          "text": [
            "INFO:tensorflow:Assets written to: /content/drive/My Drive/ECE_209_AS_project_data/USCHADmodels/DeepConvLSTMmediumUSCHAD_baseline_1/assets\n"
          ]
        },
        {
          "output_type": "stream",
          "name": "stdout",
          "text": [
            "INFO:tensorflow:Assets written to: /content/drive/My Drive/ECE_209_AS_project_data/USCHADmodels/DeepConvLSTMmediumUSCHAD_baseline_1/assets\n"
          ]
        },
        {
          "output_type": "stream",
          "name": "stderr",
          "text": [
            "INFO:tensorflow:Assets written to: /content/drive/My Drive/ECE_209_AS_project_data/USCHADmodels/DeepConvLSTMmediumUSCHAD_baseline_1/assets\n"
          ]
        },
        {
          "output_type": "stream",
          "name": "stdout",
          "text": [
            "tf.Tensor(0.89626426, shape=(), dtype=float32)\n",
            "INFO:tensorflow:Assets written to: /content/drive/My Drive/ECE_209_AS_project_data/USCHADmodels/DeepConvLSTMmediumUSCHAD_baseline_2/assets\n"
          ]
        },
        {
          "output_type": "stream",
          "name": "stderr",
          "text": [
            "INFO:tensorflow:Assets written to: /content/drive/My Drive/ECE_209_AS_project_data/USCHADmodels/DeepConvLSTMmediumUSCHAD_baseline_2/assets\n"
          ]
        },
        {
          "output_type": "stream",
          "name": "stdout",
          "text": [
            "INFO:tensorflow:Assets written to: /content/drive/My Drive/ECE_209_AS_project_data/USCHADmodels/DeepConvLSTMmediumUSCHAD_baseline_2/assets\n"
          ]
        },
        {
          "output_type": "stream",
          "name": "stderr",
          "text": [
            "INFO:tensorflow:Assets written to: /content/drive/My Drive/ECE_209_AS_project_data/USCHADmodels/DeepConvLSTMmediumUSCHAD_baseline_2/assets\n"
          ]
        },
        {
          "output_type": "stream",
          "name": "stdout",
          "text": [
            "INFO:tensorflow:Assets written to: /content/drive/My Drive/ECE_209_AS_project_data/USCHADmodels/DeepConvLSTMmediumUSCHAD_baseline_2/assets\n"
          ]
        },
        {
          "output_type": "stream",
          "name": "stderr",
          "text": [
            "INFO:tensorflow:Assets written to: /content/drive/My Drive/ECE_209_AS_project_data/USCHADmodels/DeepConvLSTMmediumUSCHAD_baseline_2/assets\n"
          ]
        },
        {
          "output_type": "stream",
          "name": "stdout",
          "text": [
            "INFO:tensorflow:Assets written to: /content/drive/My Drive/ECE_209_AS_project_data/USCHADmodels/DeepConvLSTMmediumUSCHAD_baseline_2/assets\n"
          ]
        },
        {
          "output_type": "stream",
          "name": "stderr",
          "text": [
            "INFO:tensorflow:Assets written to: /content/drive/My Drive/ECE_209_AS_project_data/USCHADmodels/DeepConvLSTMmediumUSCHAD_baseline_2/assets\n"
          ]
        },
        {
          "output_type": "stream",
          "name": "stdout",
          "text": [
            "INFO:tensorflow:Assets written to: /content/drive/My Drive/ECE_209_AS_project_data/USCHADmodels/DeepConvLSTMmediumUSCHAD_baseline_2/assets\n"
          ]
        },
        {
          "output_type": "stream",
          "name": "stderr",
          "text": [
            "INFO:tensorflow:Assets written to: /content/drive/My Drive/ECE_209_AS_project_data/USCHADmodels/DeepConvLSTMmediumUSCHAD_baseline_2/assets\n"
          ]
        },
        {
          "output_type": "stream",
          "name": "stdout",
          "text": [
            "INFO:tensorflow:Assets written to: /content/drive/My Drive/ECE_209_AS_project_data/USCHADmodels/DeepConvLSTMmediumUSCHAD_baseline_2/assets\n"
          ]
        },
        {
          "output_type": "stream",
          "name": "stderr",
          "text": [
            "INFO:tensorflow:Assets written to: /content/drive/My Drive/ECE_209_AS_project_data/USCHADmodels/DeepConvLSTMmediumUSCHAD_baseline_2/assets\n"
          ]
        },
        {
          "output_type": "stream",
          "name": "stdout",
          "text": [
            "INFO:tensorflow:Assets written to: /content/drive/My Drive/ECE_209_AS_project_data/USCHADmodels/DeepConvLSTMmediumUSCHAD_baseline_2/assets\n"
          ]
        },
        {
          "output_type": "stream",
          "name": "stderr",
          "text": [
            "INFO:tensorflow:Assets written to: /content/drive/My Drive/ECE_209_AS_project_data/USCHADmodels/DeepConvLSTMmediumUSCHAD_baseline_2/assets\n"
          ]
        },
        {
          "output_type": "stream",
          "name": "stdout",
          "text": [
            "INFO:tensorflow:Assets written to: /content/drive/My Drive/ECE_209_AS_project_data/USCHADmodels/DeepConvLSTMmediumUSCHAD_baseline_2/assets\n"
          ]
        },
        {
          "output_type": "stream",
          "name": "stderr",
          "text": [
            "INFO:tensorflow:Assets written to: /content/drive/My Drive/ECE_209_AS_project_data/USCHADmodels/DeepConvLSTMmediumUSCHAD_baseline_2/assets\n"
          ]
        },
        {
          "output_type": "stream",
          "name": "stdout",
          "text": [
            "INFO:tensorflow:Assets written to: /content/drive/My Drive/ECE_209_AS_project_data/USCHADmodels/DeepConvLSTMmediumUSCHAD_baseline_2/assets\n"
          ]
        },
        {
          "output_type": "stream",
          "name": "stderr",
          "text": [
            "INFO:tensorflow:Assets written to: /content/drive/My Drive/ECE_209_AS_project_data/USCHADmodels/DeepConvLSTMmediumUSCHAD_baseline_2/assets\n"
          ]
        },
        {
          "output_type": "stream",
          "name": "stdout",
          "text": [
            "tf.Tensor(0.90027785, shape=(), dtype=float32)\n",
            "INFO:tensorflow:Assets written to: /content/drive/My Drive/ECE_209_AS_project_data/USCHADmodels/DeepConvLSTMmediumUSCHAD_baseline_3/assets\n"
          ]
        },
        {
          "output_type": "stream",
          "name": "stderr",
          "text": [
            "INFO:tensorflow:Assets written to: /content/drive/My Drive/ECE_209_AS_project_data/USCHADmodels/DeepConvLSTMmediumUSCHAD_baseline_3/assets\n"
          ]
        },
        {
          "output_type": "stream",
          "name": "stdout",
          "text": [
            "INFO:tensorflow:Assets written to: /content/drive/My Drive/ECE_209_AS_project_data/USCHADmodels/DeepConvLSTMmediumUSCHAD_baseline_3/assets\n"
          ]
        },
        {
          "output_type": "stream",
          "name": "stderr",
          "text": [
            "INFO:tensorflow:Assets written to: /content/drive/My Drive/ECE_209_AS_project_data/USCHADmodels/DeepConvLSTMmediumUSCHAD_baseline_3/assets\n"
          ]
        },
        {
          "output_type": "stream",
          "name": "stdout",
          "text": [
            "INFO:tensorflow:Assets written to: /content/drive/My Drive/ECE_209_AS_project_data/USCHADmodels/DeepConvLSTMmediumUSCHAD_baseline_3/assets\n"
          ]
        },
        {
          "output_type": "stream",
          "name": "stderr",
          "text": [
            "INFO:tensorflow:Assets written to: /content/drive/My Drive/ECE_209_AS_project_data/USCHADmodels/DeepConvLSTMmediumUSCHAD_baseline_3/assets\n"
          ]
        },
        {
          "output_type": "stream",
          "name": "stdout",
          "text": [
            "INFO:tensorflow:Assets written to: /content/drive/My Drive/ECE_209_AS_project_data/USCHADmodels/DeepConvLSTMmediumUSCHAD_baseline_3/assets\n"
          ]
        },
        {
          "output_type": "stream",
          "name": "stderr",
          "text": [
            "INFO:tensorflow:Assets written to: /content/drive/My Drive/ECE_209_AS_project_data/USCHADmodels/DeepConvLSTMmediumUSCHAD_baseline_3/assets\n"
          ]
        },
        {
          "output_type": "stream",
          "name": "stdout",
          "text": [
            "INFO:tensorflow:Assets written to: /content/drive/My Drive/ECE_209_AS_project_data/USCHADmodels/DeepConvLSTMmediumUSCHAD_baseline_3/assets\n"
          ]
        },
        {
          "output_type": "stream",
          "name": "stderr",
          "text": [
            "INFO:tensorflow:Assets written to: /content/drive/My Drive/ECE_209_AS_project_data/USCHADmodels/DeepConvLSTMmediumUSCHAD_baseline_3/assets\n"
          ]
        },
        {
          "output_type": "stream",
          "name": "stdout",
          "text": [
            "INFO:tensorflow:Assets written to: /content/drive/My Drive/ECE_209_AS_project_data/USCHADmodels/DeepConvLSTMmediumUSCHAD_baseline_3/assets\n"
          ]
        },
        {
          "output_type": "stream",
          "name": "stderr",
          "text": [
            "INFO:tensorflow:Assets written to: /content/drive/My Drive/ECE_209_AS_project_data/USCHADmodels/DeepConvLSTMmediumUSCHAD_baseline_3/assets\n"
          ]
        },
        {
          "output_type": "stream",
          "name": "stdout",
          "text": [
            "INFO:tensorflow:Assets written to: /content/drive/My Drive/ECE_209_AS_project_data/USCHADmodels/DeepConvLSTMmediumUSCHAD_baseline_3/assets\n"
          ]
        },
        {
          "output_type": "stream",
          "name": "stderr",
          "text": [
            "INFO:tensorflow:Assets written to: /content/drive/My Drive/ECE_209_AS_project_data/USCHADmodels/DeepConvLSTMmediumUSCHAD_baseline_3/assets\n"
          ]
        },
        {
          "output_type": "stream",
          "name": "stdout",
          "text": [
            "INFO:tensorflow:Assets written to: /content/drive/My Drive/ECE_209_AS_project_data/USCHADmodels/DeepConvLSTMmediumUSCHAD_baseline_3/assets\n"
          ]
        },
        {
          "output_type": "stream",
          "name": "stderr",
          "text": [
            "INFO:tensorflow:Assets written to: /content/drive/My Drive/ECE_209_AS_project_data/USCHADmodels/DeepConvLSTMmediumUSCHAD_baseline_3/assets\n"
          ]
        },
        {
          "output_type": "stream",
          "name": "stdout",
          "text": [
            "INFO:tensorflow:Assets written to: /content/drive/My Drive/ECE_209_AS_project_data/USCHADmodels/DeepConvLSTMmediumUSCHAD_baseline_3/assets\n"
          ]
        },
        {
          "output_type": "stream",
          "name": "stderr",
          "text": [
            "INFO:tensorflow:Assets written to: /content/drive/My Drive/ECE_209_AS_project_data/USCHADmodels/DeepConvLSTMmediumUSCHAD_baseline_3/assets\n"
          ]
        },
        {
          "output_type": "stream",
          "name": "stdout",
          "text": [
            "INFO:tensorflow:Assets written to: /content/drive/My Drive/ECE_209_AS_project_data/USCHADmodels/DeepConvLSTMmediumUSCHAD_baseline_3/assets\n"
          ]
        },
        {
          "output_type": "stream",
          "name": "stderr",
          "text": [
            "INFO:tensorflow:Assets written to: /content/drive/My Drive/ECE_209_AS_project_data/USCHADmodels/DeepConvLSTMmediumUSCHAD_baseline_3/assets\n"
          ]
        },
        {
          "output_type": "stream",
          "name": "stdout",
          "text": [
            "tf.Tensor(0.8990429, shape=(), dtype=float32)\n",
            "INFO:tensorflow:Assets written to: /content/drive/My Drive/ECE_209_AS_project_data/USCHADmodels/DeepConvLSTMmediumUSCHAD_baseline_4/assets\n"
          ]
        },
        {
          "output_type": "stream",
          "name": "stderr",
          "text": [
            "INFO:tensorflow:Assets written to: /content/drive/My Drive/ECE_209_AS_project_data/USCHADmodels/DeepConvLSTMmediumUSCHAD_baseline_4/assets\n"
          ]
        },
        {
          "output_type": "stream",
          "name": "stdout",
          "text": [
            "INFO:tensorflow:Assets written to: /content/drive/My Drive/ECE_209_AS_project_data/USCHADmodels/DeepConvLSTMmediumUSCHAD_baseline_4/assets\n"
          ]
        },
        {
          "output_type": "stream",
          "name": "stderr",
          "text": [
            "INFO:tensorflow:Assets written to: /content/drive/My Drive/ECE_209_AS_project_data/USCHADmodels/DeepConvLSTMmediumUSCHAD_baseline_4/assets\n"
          ]
        },
        {
          "output_type": "stream",
          "name": "stdout",
          "text": [
            "INFO:tensorflow:Assets written to: /content/drive/My Drive/ECE_209_AS_project_data/USCHADmodels/DeepConvLSTMmediumUSCHAD_baseline_4/assets\n"
          ]
        },
        {
          "output_type": "stream",
          "name": "stderr",
          "text": [
            "INFO:tensorflow:Assets written to: /content/drive/My Drive/ECE_209_AS_project_data/USCHADmodels/DeepConvLSTMmediumUSCHAD_baseline_4/assets\n"
          ]
        },
        {
          "output_type": "stream",
          "name": "stdout",
          "text": [
            "INFO:tensorflow:Assets written to: /content/drive/My Drive/ECE_209_AS_project_data/USCHADmodels/DeepConvLSTMmediumUSCHAD_baseline_4/assets\n"
          ]
        },
        {
          "output_type": "stream",
          "name": "stderr",
          "text": [
            "INFO:tensorflow:Assets written to: /content/drive/My Drive/ECE_209_AS_project_data/USCHADmodels/DeepConvLSTMmediumUSCHAD_baseline_4/assets\n"
          ]
        },
        {
          "output_type": "stream",
          "name": "stdout",
          "text": [
            "INFO:tensorflow:Assets written to: /content/drive/My Drive/ECE_209_AS_project_data/USCHADmodels/DeepConvLSTMmediumUSCHAD_baseline_4/assets\n"
          ]
        },
        {
          "output_type": "stream",
          "name": "stderr",
          "text": [
            "INFO:tensorflow:Assets written to: /content/drive/My Drive/ECE_209_AS_project_data/USCHADmodels/DeepConvLSTMmediumUSCHAD_baseline_4/assets\n"
          ]
        },
        {
          "output_type": "stream",
          "name": "stdout",
          "text": [
            "INFO:tensorflow:Assets written to: /content/drive/My Drive/ECE_209_AS_project_data/USCHADmodels/DeepConvLSTMmediumUSCHAD_baseline_4/assets\n"
          ]
        },
        {
          "output_type": "stream",
          "name": "stderr",
          "text": [
            "INFO:tensorflow:Assets written to: /content/drive/My Drive/ECE_209_AS_project_data/USCHADmodels/DeepConvLSTMmediumUSCHAD_baseline_4/assets\n"
          ]
        },
        {
          "output_type": "stream",
          "name": "stdout",
          "text": [
            "tf.Tensor(0.8996604, shape=(), dtype=float32)\n"
          ]
        }
      ]
    },
    {
      "cell_type": "code",
      "source": [
        "# Print Average Total Accuracy \n",
        "sum_ac = 0\n",
        "\n",
        "for ac in test_accuracies:\n",
        "\n",
        "  sum_ac += ac.numpy()\n",
        "\n",
        "print(f\"Mean accuracy is {sum_ac/len(test_accuracies)}\")"
      ],
      "metadata": {
        "colab": {
          "base_uri": "https://localhost:8080/"
        },
        "id": "X1xeEESK9enG",
        "outputId": "f52b9f95-189e-4797-9643-79c96aba32b9"
      },
      "id": "X1xeEESK9enG",
      "execution_count": 21,
      "outputs": [
        {
          "output_type": "stream",
          "name": "stdout",
          "text": [
            "Mean accuracy is 0.8957702994346619\n"
          ]
        }
      ]
    },
    {
      "cell_type": "code",
      "source": [
        "mean_recall_scores  = sum(recall_scores)/len(recall_scores)\n",
        "\n",
        "for i in range(len(mean_recall_scores)):\n",
        "\n",
        "  print(f\"Label {data_class_names[i]} has mean accuracy {mean_recall_scores[i]}\")"
      ],
      "metadata": {
        "colab": {
          "base_uri": "https://localhost:8080/"
        },
        "id": "O2V1B9eS-7yj",
        "outputId": "518d9aa8-acbc-419e-e781-5ad6eaa9ca23"
      },
      "id": "O2V1B9eS-7yj",
      "execution_count": 22,
      "outputs": [
        {
          "output_type": "stream",
          "name": "stdout",
          "text": [
            "Label walking forward has mean accuracy 0.952557127312296\n",
            "Label walking left has mean accuracy 0.9195979899497487\n",
            "Label walking right has mean accuracy 0.9331058020477816\n",
            "Label walking upstairs has mean accuracy 0.9641137855579869\n",
            "Label walking downstairs has mean accuracy 0.9584650112866816\n",
            "Label running forward has mean accuracy 0.9672131147540982\n",
            "Label jumping has mean accuracy 0.9576923076923076\n",
            "Label sitting has mean accuracy 0.9725888324873097\n",
            "Label standing  has mean accuracy 0.872822299651568\n",
            "Label sleeping  has mean accuracy 0.9988876529477195\n",
            "Label elevator up has mean accuracy 0.576271186440678\n",
            "Label elevator down has mean accuracy 0.34123989218328843\n"
          ]
        }
      ]
    },
    {
      "cell_type": "code",
      "source": [
        "import matplotlib.pyplot as plt"
      ],
      "metadata": {
        "id": "-i12fkN9foJQ"
      },
      "id": "-i12fkN9foJQ",
      "execution_count": 23,
      "outputs": []
    },
    {
      "cell_type": "markdown",
      "source": [
        "## Same model with regularization"
      ],
      "metadata": {
        "id": "ThJOJJ5Qph0v"
      },
      "id": "ThJOJJ5Qph0v"
    },
    {
      "cell_type": "code",
      "source": [
        "from tensorflow.keras import regularizers"
      ],
      "metadata": {
        "id": "CDPA3cnVsBpL"
      },
      "id": "CDPA3cnVsBpL",
      "execution_count": 24,
      "outputs": []
    },
    {
      "cell_type": "code",
      "source": [
        "test_accuracies_with_reg = []\n",
        "recall_scores_with_reg = []\n",
        "\n",
        "for i in range(5):\n",
        "\n",
        "  rnd_seed = seeds[i]\n",
        "  tf.random.set_seed(rnd_seed)\n",
        "  indices = np.random.RandomState(seed=rnd_seed).permutation(len(X_train))\n",
        "  X_train = X_train[indices]\n",
        "  Y_train = Y_train[indices]\n",
        "\n",
        "  train_data = X_train[len(X_train)//10:]\n",
        "  train_labels = Y_train[len(X_train)//10:]\n",
        "  val_data = X_train[:len(X_train)//10]\n",
        "  val_labels = Y_train[:len(X_train)//10]\n",
        "\n",
        "  model_with_reg = keras.Model(inputs = inputs, outputs = outputs)\n",
        "  model_with_reg.compile(loss = \"sparse_categorical_crossentropy\", optimizer = \"adam\", metrics=[\"accuracy\"])\n",
        "  tensorboard = keras.callbacks.TensorBoard(log_dir = path_to_logs)\n",
        "  callbacks = [keras.callbacks.ModelCheckpoint(filepath=path_to_models + f\"DeepConvLSTMmediumUSCHAD_with_reg_{i}\"), tensorboard, keras.callbacks.EarlyStopping(monitor='val_loss', patience=5)]\n",
        "  history = model_with_reg.fit(train_data, train_labels, epochs = 100, batch_size = 64, validation_data = (val_data, val_labels), callbacks = callbacks, class_weight = data_class_weights, verbose = False)\n",
        "\n",
        "  model_saved = keras.models.load_model(path_to_models + f\"DeepConvLSTMmediumUSCHAD_with_reg_{i}\")\n",
        "  test_accuracy = tf.keras.metrics.Accuracy()\n",
        "  logits = model_saved(X_test, training=False)\n",
        "  prediction = tf.argmax(logits, axis=1, output_type=tf.int32)\n",
        "  test_accuracies_with_reg.append(test_accuracy(prediction, Y_test))\n",
        "  print(test_accuracy(prediction, Y_test))\n",
        "  recall_scores_with_reg.append(recall_score(Y_test, prediction, average=None))"
      ],
      "metadata": {
        "colab": {
          "base_uri": "https://localhost:8080/"
        },
        "id": "Yaas6g94Ha79",
        "outputId": "7de8f63b-f11d-43d7-fac4-bdac79b052ab"
      },
      "id": "Yaas6g94Ha79",
      "execution_count": 25,
      "outputs": [
        {
          "output_type": "stream",
          "name": "stdout",
          "text": [
            "INFO:tensorflow:Assets written to: /content/drive/My Drive/ECE_209_AS_project_data/USCHADmodels/DeepConvLSTMmediumUSCHAD_with_reg_0/assets\n"
          ]
        },
        {
          "output_type": "stream",
          "name": "stderr",
          "text": [
            "INFO:tensorflow:Assets written to: /content/drive/My Drive/ECE_209_AS_project_data/USCHADmodels/DeepConvLSTMmediumUSCHAD_with_reg_0/assets\n"
          ]
        },
        {
          "output_type": "stream",
          "name": "stdout",
          "text": [
            "INFO:tensorflow:Assets written to: /content/drive/My Drive/ECE_209_AS_project_data/USCHADmodels/DeepConvLSTMmediumUSCHAD_with_reg_0/assets\n"
          ]
        },
        {
          "output_type": "stream",
          "name": "stderr",
          "text": [
            "INFO:tensorflow:Assets written to: /content/drive/My Drive/ECE_209_AS_project_data/USCHADmodels/DeepConvLSTMmediumUSCHAD_with_reg_0/assets\n"
          ]
        },
        {
          "output_type": "stream",
          "name": "stdout",
          "text": [
            "INFO:tensorflow:Assets written to: /content/drive/My Drive/ECE_209_AS_project_data/USCHADmodels/DeepConvLSTMmediumUSCHAD_with_reg_0/assets\n"
          ]
        },
        {
          "output_type": "stream",
          "name": "stderr",
          "text": [
            "INFO:tensorflow:Assets written to: /content/drive/My Drive/ECE_209_AS_project_data/USCHADmodels/DeepConvLSTMmediumUSCHAD_with_reg_0/assets\n"
          ]
        },
        {
          "output_type": "stream",
          "name": "stdout",
          "text": [
            "INFO:tensorflow:Assets written to: /content/drive/My Drive/ECE_209_AS_project_data/USCHADmodels/DeepConvLSTMmediumUSCHAD_with_reg_0/assets\n"
          ]
        },
        {
          "output_type": "stream",
          "name": "stderr",
          "text": [
            "INFO:tensorflow:Assets written to: /content/drive/My Drive/ECE_209_AS_project_data/USCHADmodels/DeepConvLSTMmediumUSCHAD_with_reg_0/assets\n"
          ]
        },
        {
          "output_type": "stream",
          "name": "stdout",
          "text": [
            "INFO:tensorflow:Assets written to: /content/drive/My Drive/ECE_209_AS_project_data/USCHADmodels/DeepConvLSTMmediumUSCHAD_with_reg_0/assets\n"
          ]
        },
        {
          "output_type": "stream",
          "name": "stderr",
          "text": [
            "INFO:tensorflow:Assets written to: /content/drive/My Drive/ECE_209_AS_project_data/USCHADmodels/DeepConvLSTMmediumUSCHAD_with_reg_0/assets\n"
          ]
        },
        {
          "output_type": "stream",
          "name": "stdout",
          "text": [
            "INFO:tensorflow:Assets written to: /content/drive/My Drive/ECE_209_AS_project_data/USCHADmodels/DeepConvLSTMmediumUSCHAD_with_reg_0/assets\n"
          ]
        },
        {
          "output_type": "stream",
          "name": "stderr",
          "text": [
            "INFO:tensorflow:Assets written to: /content/drive/My Drive/ECE_209_AS_project_data/USCHADmodels/DeepConvLSTMmediumUSCHAD_with_reg_0/assets\n"
          ]
        },
        {
          "output_type": "stream",
          "name": "stdout",
          "text": [
            "tf.Tensor(0.9021303, shape=(), dtype=float32)\n",
            "INFO:tensorflow:Assets written to: /content/drive/My Drive/ECE_209_AS_project_data/USCHADmodels/DeepConvLSTMmediumUSCHAD_with_reg_1/assets\n"
          ]
        },
        {
          "output_type": "stream",
          "name": "stderr",
          "text": [
            "INFO:tensorflow:Assets written to: /content/drive/My Drive/ECE_209_AS_project_data/USCHADmodels/DeepConvLSTMmediumUSCHAD_with_reg_1/assets\n"
          ]
        },
        {
          "output_type": "stream",
          "name": "stdout",
          "text": [
            "INFO:tensorflow:Assets written to: /content/drive/My Drive/ECE_209_AS_project_data/USCHADmodels/DeepConvLSTMmediumUSCHAD_with_reg_1/assets\n"
          ]
        },
        {
          "output_type": "stream",
          "name": "stderr",
          "text": [
            "INFO:tensorflow:Assets written to: /content/drive/My Drive/ECE_209_AS_project_data/USCHADmodels/DeepConvLSTMmediumUSCHAD_with_reg_1/assets\n"
          ]
        },
        {
          "output_type": "stream",
          "name": "stdout",
          "text": [
            "INFO:tensorflow:Assets written to: /content/drive/My Drive/ECE_209_AS_project_data/USCHADmodels/DeepConvLSTMmediumUSCHAD_with_reg_1/assets\n"
          ]
        },
        {
          "output_type": "stream",
          "name": "stderr",
          "text": [
            "INFO:tensorflow:Assets written to: /content/drive/My Drive/ECE_209_AS_project_data/USCHADmodels/DeepConvLSTMmediumUSCHAD_with_reg_1/assets\n"
          ]
        },
        {
          "output_type": "stream",
          "name": "stdout",
          "text": [
            "INFO:tensorflow:Assets written to: /content/drive/My Drive/ECE_209_AS_project_data/USCHADmodels/DeepConvLSTMmediumUSCHAD_with_reg_1/assets\n"
          ]
        },
        {
          "output_type": "stream",
          "name": "stderr",
          "text": [
            "INFO:tensorflow:Assets written to: /content/drive/My Drive/ECE_209_AS_project_data/USCHADmodels/DeepConvLSTMmediumUSCHAD_with_reg_1/assets\n"
          ]
        },
        {
          "output_type": "stream",
          "name": "stdout",
          "text": [
            "INFO:tensorflow:Assets written to: /content/drive/My Drive/ECE_209_AS_project_data/USCHADmodels/DeepConvLSTMmediumUSCHAD_with_reg_1/assets\n"
          ]
        },
        {
          "output_type": "stream",
          "name": "stderr",
          "text": [
            "INFO:tensorflow:Assets written to: /content/drive/My Drive/ECE_209_AS_project_data/USCHADmodels/DeepConvLSTMmediumUSCHAD_with_reg_1/assets\n"
          ]
        },
        {
          "output_type": "stream",
          "name": "stdout",
          "text": [
            "INFO:tensorflow:Assets written to: /content/drive/My Drive/ECE_209_AS_project_data/USCHADmodels/DeepConvLSTMmediumUSCHAD_with_reg_1/assets\n"
          ]
        },
        {
          "output_type": "stream",
          "name": "stderr",
          "text": [
            "INFO:tensorflow:Assets written to: /content/drive/My Drive/ECE_209_AS_project_data/USCHADmodels/DeepConvLSTMmediumUSCHAD_with_reg_1/assets\n"
          ]
        },
        {
          "output_type": "stream",
          "name": "stdout",
          "text": [
            "INFO:tensorflow:Assets written to: /content/drive/My Drive/ECE_209_AS_project_data/USCHADmodels/DeepConvLSTMmediumUSCHAD_with_reg_1/assets\n"
          ]
        },
        {
          "output_type": "stream",
          "name": "stderr",
          "text": [
            "INFO:tensorflow:Assets written to: /content/drive/My Drive/ECE_209_AS_project_data/USCHADmodels/DeepConvLSTMmediumUSCHAD_with_reg_1/assets\n"
          ]
        },
        {
          "output_type": "stream",
          "name": "stdout",
          "text": [
            "INFO:tensorflow:Assets written to: /content/drive/My Drive/ECE_209_AS_project_data/USCHADmodels/DeepConvLSTMmediumUSCHAD_with_reg_1/assets\n"
          ]
        },
        {
          "output_type": "stream",
          "name": "stderr",
          "text": [
            "INFO:tensorflow:Assets written to: /content/drive/My Drive/ECE_209_AS_project_data/USCHADmodels/DeepConvLSTMmediumUSCHAD_with_reg_1/assets\n"
          ]
        },
        {
          "output_type": "stream",
          "name": "stdout",
          "text": [
            "INFO:tensorflow:Assets written to: /content/drive/My Drive/ECE_209_AS_project_data/USCHADmodels/DeepConvLSTMmediumUSCHAD_with_reg_1/assets\n"
          ]
        },
        {
          "output_type": "stream",
          "name": "stderr",
          "text": [
            "INFO:tensorflow:Assets written to: /content/drive/My Drive/ECE_209_AS_project_data/USCHADmodels/DeepConvLSTMmediumUSCHAD_with_reg_1/assets\n"
          ]
        },
        {
          "output_type": "stream",
          "name": "stdout",
          "text": [
            "INFO:tensorflow:Assets written to: /content/drive/My Drive/ECE_209_AS_project_data/USCHADmodels/DeepConvLSTMmediumUSCHAD_with_reg_1/assets\n"
          ]
        },
        {
          "output_type": "stream",
          "name": "stderr",
          "text": [
            "INFO:tensorflow:Assets written to: /content/drive/My Drive/ECE_209_AS_project_data/USCHADmodels/DeepConvLSTMmediumUSCHAD_with_reg_1/assets\n"
          ]
        },
        {
          "output_type": "stream",
          "name": "stdout",
          "text": [
            "INFO:tensorflow:Assets written to: /content/drive/My Drive/ECE_209_AS_project_data/USCHADmodels/DeepConvLSTMmediumUSCHAD_with_reg_1/assets\n"
          ]
        },
        {
          "output_type": "stream",
          "name": "stderr",
          "text": [
            "INFO:tensorflow:Assets written to: /content/drive/My Drive/ECE_209_AS_project_data/USCHADmodels/DeepConvLSTMmediumUSCHAD_with_reg_1/assets\n"
          ]
        },
        {
          "output_type": "stream",
          "name": "stdout",
          "text": [
            "INFO:tensorflow:Assets written to: /content/drive/My Drive/ECE_209_AS_project_data/USCHADmodels/DeepConvLSTMmediumUSCHAD_with_reg_1/assets\n"
          ]
        },
        {
          "output_type": "stream",
          "name": "stderr",
          "text": [
            "INFO:tensorflow:Assets written to: /content/drive/My Drive/ECE_209_AS_project_data/USCHADmodels/DeepConvLSTMmediumUSCHAD_with_reg_1/assets\n"
          ]
        },
        {
          "output_type": "stream",
          "name": "stdout",
          "text": [
            "tf.Tensor(0.89132446, shape=(), dtype=float32)\n",
            "INFO:tensorflow:Assets written to: /content/drive/My Drive/ECE_209_AS_project_data/USCHADmodels/DeepConvLSTMmediumUSCHAD_with_reg_2/assets\n"
          ]
        },
        {
          "output_type": "stream",
          "name": "stderr",
          "text": [
            "INFO:tensorflow:Assets written to: /content/drive/My Drive/ECE_209_AS_project_data/USCHADmodels/DeepConvLSTMmediumUSCHAD_with_reg_2/assets\n"
          ]
        },
        {
          "output_type": "stream",
          "name": "stdout",
          "text": [
            "INFO:tensorflow:Assets written to: /content/drive/My Drive/ECE_209_AS_project_data/USCHADmodels/DeepConvLSTMmediumUSCHAD_with_reg_2/assets\n"
          ]
        },
        {
          "output_type": "stream",
          "name": "stderr",
          "text": [
            "INFO:tensorflow:Assets written to: /content/drive/My Drive/ECE_209_AS_project_data/USCHADmodels/DeepConvLSTMmediumUSCHAD_with_reg_2/assets\n"
          ]
        },
        {
          "output_type": "stream",
          "name": "stdout",
          "text": [
            "INFO:tensorflow:Assets written to: /content/drive/My Drive/ECE_209_AS_project_data/USCHADmodels/DeepConvLSTMmediumUSCHAD_with_reg_2/assets\n"
          ]
        },
        {
          "output_type": "stream",
          "name": "stderr",
          "text": [
            "INFO:tensorflow:Assets written to: /content/drive/My Drive/ECE_209_AS_project_data/USCHADmodels/DeepConvLSTMmediumUSCHAD_with_reg_2/assets\n"
          ]
        },
        {
          "output_type": "stream",
          "name": "stdout",
          "text": [
            "INFO:tensorflow:Assets written to: /content/drive/My Drive/ECE_209_AS_project_data/USCHADmodels/DeepConvLSTMmediumUSCHAD_with_reg_2/assets\n"
          ]
        },
        {
          "output_type": "stream",
          "name": "stderr",
          "text": [
            "INFO:tensorflow:Assets written to: /content/drive/My Drive/ECE_209_AS_project_data/USCHADmodels/DeepConvLSTMmediumUSCHAD_with_reg_2/assets\n"
          ]
        },
        {
          "output_type": "stream",
          "name": "stdout",
          "text": [
            "INFO:tensorflow:Assets written to: /content/drive/My Drive/ECE_209_AS_project_data/USCHADmodels/DeepConvLSTMmediumUSCHAD_with_reg_2/assets\n"
          ]
        },
        {
          "output_type": "stream",
          "name": "stderr",
          "text": [
            "INFO:tensorflow:Assets written to: /content/drive/My Drive/ECE_209_AS_project_data/USCHADmodels/DeepConvLSTMmediumUSCHAD_with_reg_2/assets\n"
          ]
        },
        {
          "output_type": "stream",
          "name": "stdout",
          "text": [
            "INFO:tensorflow:Assets written to: /content/drive/My Drive/ECE_209_AS_project_data/USCHADmodels/DeepConvLSTMmediumUSCHAD_with_reg_2/assets\n"
          ]
        },
        {
          "output_type": "stream",
          "name": "stderr",
          "text": [
            "INFO:tensorflow:Assets written to: /content/drive/My Drive/ECE_209_AS_project_data/USCHADmodels/DeepConvLSTMmediumUSCHAD_with_reg_2/assets\n"
          ]
        },
        {
          "output_type": "stream",
          "name": "stdout",
          "text": [
            "tf.Tensor(0.8950293, shape=(), dtype=float32)\n",
            "INFO:tensorflow:Assets written to: /content/drive/My Drive/ECE_209_AS_project_data/USCHADmodels/DeepConvLSTMmediumUSCHAD_with_reg_3/assets\n"
          ]
        },
        {
          "output_type": "stream",
          "name": "stderr",
          "text": [
            "INFO:tensorflow:Assets written to: /content/drive/My Drive/ECE_209_AS_project_data/USCHADmodels/DeepConvLSTMmediumUSCHAD_with_reg_3/assets\n"
          ]
        },
        {
          "output_type": "stream",
          "name": "stdout",
          "text": [
            "INFO:tensorflow:Assets written to: /content/drive/My Drive/ECE_209_AS_project_data/USCHADmodels/DeepConvLSTMmediumUSCHAD_with_reg_3/assets\n"
          ]
        },
        {
          "output_type": "stream",
          "name": "stderr",
          "text": [
            "INFO:tensorflow:Assets written to: /content/drive/My Drive/ECE_209_AS_project_data/USCHADmodels/DeepConvLSTMmediumUSCHAD_with_reg_3/assets\n"
          ]
        },
        {
          "output_type": "stream",
          "name": "stdout",
          "text": [
            "INFO:tensorflow:Assets written to: /content/drive/My Drive/ECE_209_AS_project_data/USCHADmodels/DeepConvLSTMmediumUSCHAD_with_reg_3/assets\n"
          ]
        },
        {
          "output_type": "stream",
          "name": "stderr",
          "text": [
            "INFO:tensorflow:Assets written to: /content/drive/My Drive/ECE_209_AS_project_data/USCHADmodels/DeepConvLSTMmediumUSCHAD_with_reg_3/assets\n"
          ]
        },
        {
          "output_type": "stream",
          "name": "stdout",
          "text": [
            "INFO:tensorflow:Assets written to: /content/drive/My Drive/ECE_209_AS_project_data/USCHADmodels/DeepConvLSTMmediumUSCHAD_with_reg_3/assets\n"
          ]
        },
        {
          "output_type": "stream",
          "name": "stderr",
          "text": [
            "INFO:tensorflow:Assets written to: /content/drive/My Drive/ECE_209_AS_project_data/USCHADmodels/DeepConvLSTMmediumUSCHAD_with_reg_3/assets\n"
          ]
        },
        {
          "output_type": "stream",
          "name": "stdout",
          "text": [
            "INFO:tensorflow:Assets written to: /content/drive/My Drive/ECE_209_AS_project_data/USCHADmodels/DeepConvLSTMmediumUSCHAD_with_reg_3/assets\n"
          ]
        },
        {
          "output_type": "stream",
          "name": "stderr",
          "text": [
            "INFO:tensorflow:Assets written to: /content/drive/My Drive/ECE_209_AS_project_data/USCHADmodels/DeepConvLSTMmediumUSCHAD_with_reg_3/assets\n"
          ]
        },
        {
          "output_type": "stream",
          "name": "stdout",
          "text": [
            "INFO:tensorflow:Assets written to: /content/drive/My Drive/ECE_209_AS_project_data/USCHADmodels/DeepConvLSTMmediumUSCHAD_with_reg_3/assets\n"
          ]
        },
        {
          "output_type": "stream",
          "name": "stderr",
          "text": [
            "INFO:tensorflow:Assets written to: /content/drive/My Drive/ECE_209_AS_project_data/USCHADmodels/DeepConvLSTMmediumUSCHAD_with_reg_3/assets\n"
          ]
        },
        {
          "output_type": "stream",
          "name": "stdout",
          "text": [
            "tf.Tensor(0.9047546, shape=(), dtype=float32)\n",
            "INFO:tensorflow:Assets written to: /content/drive/My Drive/ECE_209_AS_project_data/USCHADmodels/DeepConvLSTMmediumUSCHAD_with_reg_4/assets\n"
          ]
        },
        {
          "output_type": "stream",
          "name": "stderr",
          "text": [
            "INFO:tensorflow:Assets written to: /content/drive/My Drive/ECE_209_AS_project_data/USCHADmodels/DeepConvLSTMmediumUSCHAD_with_reg_4/assets\n"
          ]
        },
        {
          "output_type": "stream",
          "name": "stdout",
          "text": [
            "INFO:tensorflow:Assets written to: /content/drive/My Drive/ECE_209_AS_project_data/USCHADmodels/DeepConvLSTMmediumUSCHAD_with_reg_4/assets\n"
          ]
        },
        {
          "output_type": "stream",
          "name": "stderr",
          "text": [
            "INFO:tensorflow:Assets written to: /content/drive/My Drive/ECE_209_AS_project_data/USCHADmodels/DeepConvLSTMmediumUSCHAD_with_reg_4/assets\n"
          ]
        },
        {
          "output_type": "stream",
          "name": "stdout",
          "text": [
            "INFO:tensorflow:Assets written to: /content/drive/My Drive/ECE_209_AS_project_data/USCHADmodels/DeepConvLSTMmediumUSCHAD_with_reg_4/assets\n"
          ]
        },
        {
          "output_type": "stream",
          "name": "stderr",
          "text": [
            "INFO:tensorflow:Assets written to: /content/drive/My Drive/ECE_209_AS_project_data/USCHADmodels/DeepConvLSTMmediumUSCHAD_with_reg_4/assets\n"
          ]
        },
        {
          "output_type": "stream",
          "name": "stdout",
          "text": [
            "INFO:tensorflow:Assets written to: /content/drive/My Drive/ECE_209_AS_project_data/USCHADmodels/DeepConvLSTMmediumUSCHAD_with_reg_4/assets\n"
          ]
        },
        {
          "output_type": "stream",
          "name": "stderr",
          "text": [
            "INFO:tensorflow:Assets written to: /content/drive/My Drive/ECE_209_AS_project_data/USCHADmodels/DeepConvLSTMmediumUSCHAD_with_reg_4/assets\n"
          ]
        },
        {
          "output_type": "stream",
          "name": "stdout",
          "text": [
            "INFO:tensorflow:Assets written to: /content/drive/My Drive/ECE_209_AS_project_data/USCHADmodels/DeepConvLSTMmediumUSCHAD_with_reg_4/assets\n"
          ]
        },
        {
          "output_type": "stream",
          "name": "stderr",
          "text": [
            "INFO:tensorflow:Assets written to: /content/drive/My Drive/ECE_209_AS_project_data/USCHADmodels/DeepConvLSTMmediumUSCHAD_with_reg_4/assets\n"
          ]
        },
        {
          "output_type": "stream",
          "name": "stdout",
          "text": [
            "INFO:tensorflow:Assets written to: /content/drive/My Drive/ECE_209_AS_project_data/USCHADmodels/DeepConvLSTMmediumUSCHAD_with_reg_4/assets\n"
          ]
        },
        {
          "output_type": "stream",
          "name": "stderr",
          "text": [
            "INFO:tensorflow:Assets written to: /content/drive/My Drive/ECE_209_AS_project_data/USCHADmodels/DeepConvLSTMmediumUSCHAD_with_reg_4/assets\n"
          ]
        },
        {
          "output_type": "stream",
          "name": "stdout",
          "text": [
            "INFO:tensorflow:Assets written to: /content/drive/My Drive/ECE_209_AS_project_data/USCHADmodels/DeepConvLSTMmediumUSCHAD_with_reg_4/assets\n"
          ]
        },
        {
          "output_type": "stream",
          "name": "stderr",
          "text": [
            "INFO:tensorflow:Assets written to: /content/drive/My Drive/ECE_209_AS_project_data/USCHADmodels/DeepConvLSTMmediumUSCHAD_with_reg_4/assets\n"
          ]
        },
        {
          "output_type": "stream",
          "name": "stdout",
          "text": [
            "tf.Tensor(0.89935166, shape=(), dtype=float32)\n"
          ]
        }
      ]
    },
    {
      "cell_type": "code",
      "source": [
        "sum_ac = 0\n",
        "\n",
        "for ac in test_accuracies_with_reg:\n",
        "\n",
        "  sum_ac += ac.numpy()\n",
        "\n",
        "print(f\"Mean accuracy is {sum_ac/len(test_accuracies_with_reg)}\")"
      ],
      "metadata": {
        "colab": {
          "base_uri": "https://localhost:8080/"
        },
        "id": "VO3WodH__1BV",
        "outputId": "4905744a-0fc2-46ad-d9c2-a6624ef6abed"
      },
      "id": "VO3WodH__1BV",
      "execution_count": 26,
      "outputs": [
        {
          "output_type": "stream",
          "name": "stdout",
          "text": [
            "Mean accuracy is 0.8985180616378784\n"
          ]
        }
      ]
    },
    {
      "cell_type": "code",
      "source": [
        "mean_recall_scores_with_reg  = sum(recall_scores_with_reg)/len(recall_scores_with_reg)\n",
        "\n",
        "for i in range(len(mean_recall_scores_with_reg)):\n",
        "\n",
        "  print(f\"Label {data_class_names[i]} has mean accuracy {mean_recall_scores_with_reg[i]}\")"
      ],
      "metadata": {
        "colab": {
          "base_uri": "https://localhost:8080/"
        },
        "id": "TgrX8i4u_32k",
        "outputId": "41279057-5856-4fbb-bd75-10b2f727466b"
      },
      "id": "TgrX8i4u_32k",
      "execution_count": 27,
      "outputs": [
        {
          "output_type": "stream",
          "name": "stdout",
          "text": [
            "Label walking forward has mean accuracy 0.9597388465723613\n",
            "Label walking left has mean accuracy 0.9403685092127304\n",
            "Label walking right has mean accuracy 0.9337883959044369\n",
            "Label walking upstairs has mean accuracy 0.9527352297592998\n",
            "Label walking downstairs has mean accuracy 0.9512415349887133\n",
            "Label running forward has mean accuracy 0.9695550351288056\n",
            "Label jumping has mean accuracy 0.9653846153846155\n",
            "Label sitting has mean accuracy 0.966497461928934\n",
            "Label standing  has mean accuracy 0.8801393728222996\n",
            "Label sleeping  has mean accuracy 0.999777530589544\n",
            "Label elevator up has mean accuracy 0.4836158192090395\n",
            "Label elevator down has mean accuracy 0.4361185983827493\n"
          ]
        }
      ]
    },
    {
      "cell_type": "markdown",
      "source": [
        "## With Augmentations\n",
        "\n",
        "1. Rotation\n",
        "2. Scale\n",
        "3. Magnify\n",
        "4. Resample\n",
        "5. Noise"
      ],
      "metadata": {
        "id": "inzqqX_x59It"
      },
      "id": "inzqqX_x59It"
    },
    {
      "cell_type": "markdown",
      "source": [
        "### Augmentations"
      ],
      "metadata": {
        "id": "_yfPDEClURqA"
      },
      "id": "_yfPDEClURqA"
    },
    {
      "cell_type": "code",
      "source": [
        "import numpy as np\n",
        "import tensorflow as tf\n",
        "import random\n",
        "\n",
        "def resampling_fast_random(x):\n",
        "    M, N = random.choice([[1, 0], [2, 1], [3, 2]])\n",
        "    time_steps = x.shape[1]\n",
        "    raw_set = np.arange(x.shape[1])\n",
        "    interp_steps = np.arange(0, raw_set[-1] + 1e-1, 1 / (M + 1))\n",
        "    x_interp = interp1d(raw_set, x, axis=1)\n",
        "    x_up = x_interp(interp_steps)\n",
        "\n",
        "    length_inserted = x_up.shape[1]\n",
        "    start = random.randint(0, length_inserted - time_steps * (N + 1))\n",
        "    index_selected = np.arange(start, start + time_steps * (N + 1), N + 1)\n",
        "    return x_up[:, index_selected, :]\n",
        "\n",
        "def resampling(x,M,N):\n",
        "    '''\n",
        "    :param x: the data of a batch,shape=(batch_size,timesteps,features)\n",
        "    :param M: the number of  new value under tow values\n",
        "    :param N: the interval of resampling\n",
        "    :return: x after resampling，shape=(batch_size,timesteps,features)\n",
        "    '''\n",
        "    assert M>N,'the value of M have to greater than N'\n",
        "\n",
        "    timesetps = x.shape[1]\n",
        "\n",
        "    for i in range(timesetps-1):\n",
        "        x1 = x[:,i*(M+1),:]\n",
        "        x2 = x[:,i*(M+1)+1,:]\n",
        "        for j in range(M):\n",
        "            v = np.add(1,np.subtract(x2,x1)*(j+1)/(M+1))\n",
        "            x = np.insert(x,i*(M+1)+j+1,v,axis=1)\n",
        "\n",
        "    length_inserted = x.shape[1]\n",
        "    start = random.randint(0,length_inserted-timesetps*(N+1))\n",
        "    index_selected = np.arange(start,start+timesetps*(N+1),N+1)\n",
        "    return x[:,index_selected,:]\n",
        "    return x\n",
        "\n",
        "def noise(x):\n",
        "    x = tf.add(x,tf.multiply(x,tf.cast(tf.random.uniform(shape = (x.shape[0],x.shape[1],x.shape[2]),minval=-0.1,maxval=0.1),tf.float64)))\n",
        "    return x\n",
        "\n",
        "\n",
        "def scaling(x):\n",
        "    alpha = np.random.randint(7,10)/10\n",
        "    # alpha = 0.9\n",
        "    return tf.multiply(x,alpha)\n",
        "#\n",
        "def magnify(x):\n",
        "    lam = np.random.randint(11,14)/10\n",
        "    return tf.multiply(x,lam)\n",
        "\n",
        "\n",
        "def inverting(x):\n",
        "    return np.multiply(x,-1)\n",
        "def reversing(x):\n",
        "    return x[:,-1::-1,:]\n",
        "\n",
        "\n",
        "def rotation(x):\n",
        "    c = x.shape[2]//3\n",
        "    x_new = rotation_transform_vectorized(x[:,:,0:3])\n",
        "    for i in range(1,c):\n",
        "        temp = rotation_transform_vectorized(x[:,:,i*3:(i+1)*3])\n",
        "        x_new = np.concatenate((x_new,temp),axis=-1)\n",
        "    return x_new\n",
        "def rotation_transform_vectorized(X):\n",
        "    \"\"\"\n",
        "    Applying a random 3D rotation\n",
        "    \"\"\"\n",
        "    axes = np.random.uniform(low=-1, high=1, size=(X.shape[0], X.shape[2]))\n",
        "    angles = np.random.uniform(low=-np.pi, high=np.pi, size=(X.shape[0]))\n",
        "    matrices = axis_angle_to_rotation_matrix_3d_vectorized(axes, angles)\n",
        "\n",
        "    return np.matmul(X, matrices)\n",
        "def axis_angle_to_rotation_matrix_3d_vectorized(axes, angles):\n",
        "    \"\"\"\n",
        "    Get the rotational matrix corresponding to a rotation of (angle) radian around the axes\n",
        "    Reference: the Transforms3d package - transforms3d.axangles.axangle2mat\n",
        "    Formula: http://en.wikipedia.org/wiki/Rotation_matrix#Axis_and_angle\n",
        "    \"\"\"\n",
        "    axes = axes / np.linalg.norm(axes, ord=2, axis=1, keepdims=True)\n",
        "    x = axes[:, 0]; y = axes[:, 1]; z = axes[:, 2]\n",
        "    c = np.cos(angles)\n",
        "    s = np.sin(angles)\n",
        "    C = 1 - c\n",
        "\n",
        "    xs = x*s;   ys = y*s;   zs = z*s\n",
        "    xC = x*C;   yC = y*C;   zC = z*C\n",
        "    xyC = x*yC; yzC = y*zC; zxC = z*xC\n",
        "\n",
        "    m = np.array([\n",
        "        [ x*xC+c,   xyC-zs,   zxC+ys ],\n",
        "        [ xyC+zs,   y*yC+c,   yzC-xs ],\n",
        "        [ zxC-ys,   yzC+xs,   z*zC+c ]])\n",
        "    matrix_transposed = np.transpose(m, axes=(2,0,1))\n",
        "    return matrix_transposed\n",
        "## This example using cubic splice is not the best approach to generate random curves. \n",
        "## You can use other aprroaches, e.g., Gaussian process regression, Bezier curve, etc.\n",
        "def GenerateRandomCurves(X, sigma=0.2, knot=4):\n",
        "    xx = (np.ones((X.shape[1],1))*(np.arange(0,X.shape[0], (X.shape[0]-1)/(knot+1)))).transpose()\n",
        "    yy = np.random.normal(loc=1.0, scale=sigma, size=(knot+2, X.shape[1]))\n",
        "    x_range = np.arange(X.shape[0])\n",
        "    cs_x = CubicSpline(xx[:,0], yy[:,0])\n",
        "    cs_y = CubicSpline(xx[:,1], yy[:,1])\n",
        "    cs_z = CubicSpline(xx[:,2], yy[:,2])\n",
        "    return np.array([cs_x(x_range),cs_y(x_range),cs_z(x_range)]).transpose()\n",
        "\n",
        "  \n",
        "def DistortTimesteps(X, sigma=0.2):\n",
        "    tt = GenerateRandomCurves(X, sigma) # Regard these samples aroun 1 as time intervals\n",
        "    tt_cum = np.cumsum(tt, axis=0)        # Add intervals to make a cumulative graph\n",
        "    # Make the last value to have X.shape[0]\n",
        "    t_scale = [(X.shape[0]-1)/tt_cum[-1,0],(X.shape[0]-1)/tt_cum[-1,1],(X.shape[0]-1)/tt_cum[-1,2]]\n",
        "    tt_cum[:,0] = tt_cum[:,0]*t_scale[0]\n",
        "    tt_cum[:,1] = tt_cum[:,1]*t_scale[1]\n",
        "    tt_cum[:,2] = tt_cum[:,2]*t_scale[2]\n",
        "    return tt_cum\n",
        "\n",
        "def DA_TimeWarp(X, sigma=0.2):\n",
        "    tt_new = DistortTimesteps(X, sigma)\n",
        "    X_new = np.zeros(X.shape)\n",
        "    x_range = np.arange(X.shape[0])\n",
        "    X_new[:,0] = np.interp(x_range, tt_new[:,0], X[:,0])\n",
        "    X_new[:,1] = np.interp(x_range, tt_new[:,1], X[:,1])\n",
        "    X_new[:,2] = np.interp(x_range, tt_new[:,2], X[:,2])\n",
        "    return X_new\n"
      ],
      "metadata": {
        "id": "2NqzomTtUUNJ"
      },
      "id": "2NqzomTtUUNJ",
      "execution_count": 28,
      "outputs": []
    },
    {
      "cell_type": "markdown",
      "source": [
        "### Rotation"
      ],
      "metadata": {
        "id": "m6gJcAY4Ou6z"
      },
      "id": "m6gJcAY4Ou6z"
    },
    {
      "cell_type": "code",
      "source": [
        "test_accuracies_rot = []\n",
        "recall_scores_rot = []\n",
        "\n",
        "for i in range(5):\n",
        "\n",
        "  rnd_seed = seeds[i]\n",
        "  tf.random.set_seed(rnd_seed)\n",
        "  indices = np.random.RandomState(seed=rnd_seed).permutation(len(X_train))\n",
        "  X_train = X_train[indices]\n",
        "  Y_train = Y_train[indices]\n",
        "\n",
        "  X_train_rot = rotation((X_train))\n",
        "  Xtrain_tot=np.concatenate((X_train, X_train_rot))\n",
        "  Y_train_tot = np.concatenate((Y_train, Y_train))\n",
        "\n",
        "  train_data = Xtrain_tot[len(Xtrain_tot)//10:]\n",
        "  train_labels = Y_train_tot[len(Xtrain_tot)//10:]\n",
        "  val_data = Xtrain_tot[:len(Xtrain_tot)//10]\n",
        "  val_labels = Y_train_tot[:len(Xtrain_tot)//10]\n",
        "\n",
        "  model = keras.Model(inputs = inputs, outputs = outputs)\n",
        "  model.compile(loss = \"sparse_categorical_crossentropy\", optimizer = \"adam\", metrics=[\"accuracy\"])\n",
        "  tensorboard = keras.callbacks.TensorBoard(log_dir = path_to_logs)\n",
        "  callbacks = [keras.callbacks.ModelCheckpoint(filepath=path_to_models + f\"DeepConvLSTMmediumUSCHAD_withrot_{i}\"), tensorboard, keras.callbacks.EarlyStopping(monitor='val_loss', patience=5)]\n",
        "  history = model.fit(train_data, train_labels, epochs = 100, batch_size = 64, validation_data = (val_data, val_labels), callbacks = callbacks, class_weight = data_class_weights, verbose = False)\n",
        "\n",
        "  model_saved = keras.models.load_model(path_to_models + f\"DeepConvLSTMmediumUSCHAD_withrot_{i}\")\n",
        "  test_accuracy = tf.keras.metrics.Accuracy()\n",
        "  logits = model_saved(X_test, training=False)\n",
        "  prediction = tf.argmax(logits, axis=1, output_type=tf.int32)\n",
        "  test_accuracies_rot.append(test_accuracy(prediction, Y_test))\n",
        "  print(test_accuracy(prediction, Y_test))\n",
        "  recall_scores_rot.append(recall_score(Y_test, prediction, average=None))"
      ],
      "metadata": {
        "colab": {
          "base_uri": "https://localhost:8080/"
        },
        "id": "ftcQfCEgNbfo",
        "outputId": "61f3e5ca-d2d5-4cbb-f886-bbc104a5436b"
      },
      "id": "ftcQfCEgNbfo",
      "execution_count": 29,
      "outputs": [
        {
          "output_type": "stream",
          "name": "stdout",
          "text": [
            "INFO:tensorflow:Assets written to: /content/drive/My Drive/ECE_209_AS_project_data/USCHADmodels/DeepConvLSTMmediumUSCHAD_withrot_0/assets\n"
          ]
        },
        {
          "output_type": "stream",
          "name": "stderr",
          "text": [
            "INFO:tensorflow:Assets written to: /content/drive/My Drive/ECE_209_AS_project_data/USCHADmodels/DeepConvLSTMmediumUSCHAD_withrot_0/assets\n"
          ]
        },
        {
          "output_type": "stream",
          "name": "stdout",
          "text": [
            "INFO:tensorflow:Assets written to: /content/drive/My Drive/ECE_209_AS_project_data/USCHADmodels/DeepConvLSTMmediumUSCHAD_withrot_0/assets\n"
          ]
        },
        {
          "output_type": "stream",
          "name": "stderr",
          "text": [
            "INFO:tensorflow:Assets written to: /content/drive/My Drive/ECE_209_AS_project_data/USCHADmodels/DeepConvLSTMmediumUSCHAD_withrot_0/assets\n"
          ]
        },
        {
          "output_type": "stream",
          "name": "stdout",
          "text": [
            "INFO:tensorflow:Assets written to: /content/drive/My Drive/ECE_209_AS_project_data/USCHADmodels/DeepConvLSTMmediumUSCHAD_withrot_0/assets\n"
          ]
        },
        {
          "output_type": "stream",
          "name": "stderr",
          "text": [
            "INFO:tensorflow:Assets written to: /content/drive/My Drive/ECE_209_AS_project_data/USCHADmodels/DeepConvLSTMmediumUSCHAD_withrot_0/assets\n"
          ]
        },
        {
          "output_type": "stream",
          "name": "stdout",
          "text": [
            "INFO:tensorflow:Assets written to: /content/drive/My Drive/ECE_209_AS_project_data/USCHADmodels/DeepConvLSTMmediumUSCHAD_withrot_0/assets\n"
          ]
        },
        {
          "output_type": "stream",
          "name": "stderr",
          "text": [
            "INFO:tensorflow:Assets written to: /content/drive/My Drive/ECE_209_AS_project_data/USCHADmodels/DeepConvLSTMmediumUSCHAD_withrot_0/assets\n"
          ]
        },
        {
          "output_type": "stream",
          "name": "stdout",
          "text": [
            "INFO:tensorflow:Assets written to: /content/drive/My Drive/ECE_209_AS_project_data/USCHADmodels/DeepConvLSTMmediumUSCHAD_withrot_0/assets\n"
          ]
        },
        {
          "output_type": "stream",
          "name": "stderr",
          "text": [
            "INFO:tensorflow:Assets written to: /content/drive/My Drive/ECE_209_AS_project_data/USCHADmodels/DeepConvLSTMmediumUSCHAD_withrot_0/assets\n"
          ]
        },
        {
          "output_type": "stream",
          "name": "stdout",
          "text": [
            "INFO:tensorflow:Assets written to: /content/drive/My Drive/ECE_209_AS_project_data/USCHADmodels/DeepConvLSTMmediumUSCHAD_withrot_0/assets\n"
          ]
        },
        {
          "output_type": "stream",
          "name": "stderr",
          "text": [
            "INFO:tensorflow:Assets written to: /content/drive/My Drive/ECE_209_AS_project_data/USCHADmodels/DeepConvLSTMmediumUSCHAD_withrot_0/assets\n"
          ]
        },
        {
          "output_type": "stream",
          "name": "stdout",
          "text": [
            "INFO:tensorflow:Assets written to: /content/drive/My Drive/ECE_209_AS_project_data/USCHADmodels/DeepConvLSTMmediumUSCHAD_withrot_0/assets\n"
          ]
        },
        {
          "output_type": "stream",
          "name": "stderr",
          "text": [
            "INFO:tensorflow:Assets written to: /content/drive/My Drive/ECE_209_AS_project_data/USCHADmodels/DeepConvLSTMmediumUSCHAD_withrot_0/assets\n"
          ]
        },
        {
          "output_type": "stream",
          "name": "stdout",
          "text": [
            "INFO:tensorflow:Assets written to: /content/drive/My Drive/ECE_209_AS_project_data/USCHADmodels/DeepConvLSTMmediumUSCHAD_withrot_0/assets\n"
          ]
        },
        {
          "output_type": "stream",
          "name": "stderr",
          "text": [
            "INFO:tensorflow:Assets written to: /content/drive/My Drive/ECE_209_AS_project_data/USCHADmodels/DeepConvLSTMmediumUSCHAD_withrot_0/assets\n"
          ]
        },
        {
          "output_type": "stream",
          "name": "stdout",
          "text": [
            "INFO:tensorflow:Assets written to: /content/drive/My Drive/ECE_209_AS_project_data/USCHADmodels/DeepConvLSTMmediumUSCHAD_withrot_0/assets\n"
          ]
        },
        {
          "output_type": "stream",
          "name": "stderr",
          "text": [
            "INFO:tensorflow:Assets written to: /content/drive/My Drive/ECE_209_AS_project_data/USCHADmodels/DeepConvLSTMmediumUSCHAD_withrot_0/assets\n"
          ]
        },
        {
          "output_type": "stream",
          "name": "stdout",
          "text": [
            "INFO:tensorflow:Assets written to: /content/drive/My Drive/ECE_209_AS_project_data/USCHADmodels/DeepConvLSTMmediumUSCHAD_withrot_0/assets\n"
          ]
        },
        {
          "output_type": "stream",
          "name": "stderr",
          "text": [
            "INFO:tensorflow:Assets written to: /content/drive/My Drive/ECE_209_AS_project_data/USCHADmodels/DeepConvLSTMmediumUSCHAD_withrot_0/assets\n"
          ]
        },
        {
          "output_type": "stream",
          "name": "stdout",
          "text": [
            "INFO:tensorflow:Assets written to: /content/drive/My Drive/ECE_209_AS_project_data/USCHADmodels/DeepConvLSTMmediumUSCHAD_withrot_0/assets\n"
          ]
        },
        {
          "output_type": "stream",
          "name": "stderr",
          "text": [
            "INFO:tensorflow:Assets written to: /content/drive/My Drive/ECE_209_AS_project_data/USCHADmodels/DeepConvLSTMmediumUSCHAD_withrot_0/assets\n"
          ]
        },
        {
          "output_type": "stream",
          "name": "stdout",
          "text": [
            "INFO:tensorflow:Assets written to: /content/drive/My Drive/ECE_209_AS_project_data/USCHADmodels/DeepConvLSTMmediumUSCHAD_withrot_0/assets\n"
          ]
        },
        {
          "output_type": "stream",
          "name": "stderr",
          "text": [
            "INFO:tensorflow:Assets written to: /content/drive/My Drive/ECE_209_AS_project_data/USCHADmodels/DeepConvLSTMmediumUSCHAD_withrot_0/assets\n"
          ]
        },
        {
          "output_type": "stream",
          "name": "stdout",
          "text": [
            "INFO:tensorflow:Assets written to: /content/drive/My Drive/ECE_209_AS_project_data/USCHADmodels/DeepConvLSTMmediumUSCHAD_withrot_0/assets\n"
          ]
        },
        {
          "output_type": "stream",
          "name": "stderr",
          "text": [
            "INFO:tensorflow:Assets written to: /content/drive/My Drive/ECE_209_AS_project_data/USCHADmodels/DeepConvLSTMmediumUSCHAD_withrot_0/assets\n"
          ]
        },
        {
          "output_type": "stream",
          "name": "stdout",
          "text": [
            "INFO:tensorflow:Assets written to: /content/drive/My Drive/ECE_209_AS_project_data/USCHADmodels/DeepConvLSTMmediumUSCHAD_withrot_0/assets\n"
          ]
        },
        {
          "output_type": "stream",
          "name": "stderr",
          "text": [
            "INFO:tensorflow:Assets written to: /content/drive/My Drive/ECE_209_AS_project_data/USCHADmodels/DeepConvLSTMmediumUSCHAD_withrot_0/assets\n"
          ]
        },
        {
          "output_type": "stream",
          "name": "stdout",
          "text": [
            "INFO:tensorflow:Assets written to: /content/drive/My Drive/ECE_209_AS_project_data/USCHADmodels/DeepConvLSTMmediumUSCHAD_withrot_0/assets\n"
          ]
        },
        {
          "output_type": "stream",
          "name": "stderr",
          "text": [
            "INFO:tensorflow:Assets written to: /content/drive/My Drive/ECE_209_AS_project_data/USCHADmodels/DeepConvLSTMmediumUSCHAD_withrot_0/assets\n"
          ]
        },
        {
          "output_type": "stream",
          "name": "stdout",
          "text": [
            "INFO:tensorflow:Assets written to: /content/drive/My Drive/ECE_209_AS_project_data/USCHADmodels/DeepConvLSTMmediumUSCHAD_withrot_0/assets\n"
          ]
        },
        {
          "output_type": "stream",
          "name": "stderr",
          "text": [
            "INFO:tensorflow:Assets written to: /content/drive/My Drive/ECE_209_AS_project_data/USCHADmodels/DeepConvLSTMmediumUSCHAD_withrot_0/assets\n"
          ]
        },
        {
          "output_type": "stream",
          "name": "stdout",
          "text": [
            "tf.Tensor(0.88468665, shape=(), dtype=float32)\n",
            "INFO:tensorflow:Assets written to: /content/drive/My Drive/ECE_209_AS_project_data/USCHADmodels/DeepConvLSTMmediumUSCHAD_withrot_1/assets\n"
          ]
        },
        {
          "output_type": "stream",
          "name": "stderr",
          "text": [
            "INFO:tensorflow:Assets written to: /content/drive/My Drive/ECE_209_AS_project_data/USCHADmodels/DeepConvLSTMmediumUSCHAD_withrot_1/assets\n"
          ]
        },
        {
          "output_type": "stream",
          "name": "stdout",
          "text": [
            "INFO:tensorflow:Assets written to: /content/drive/My Drive/ECE_209_AS_project_data/USCHADmodels/DeepConvLSTMmediumUSCHAD_withrot_1/assets\n"
          ]
        },
        {
          "output_type": "stream",
          "name": "stderr",
          "text": [
            "INFO:tensorflow:Assets written to: /content/drive/My Drive/ECE_209_AS_project_data/USCHADmodels/DeepConvLSTMmediumUSCHAD_withrot_1/assets\n"
          ]
        },
        {
          "output_type": "stream",
          "name": "stdout",
          "text": [
            "INFO:tensorflow:Assets written to: /content/drive/My Drive/ECE_209_AS_project_data/USCHADmodels/DeepConvLSTMmediumUSCHAD_withrot_1/assets\n"
          ]
        },
        {
          "output_type": "stream",
          "name": "stderr",
          "text": [
            "INFO:tensorflow:Assets written to: /content/drive/My Drive/ECE_209_AS_project_data/USCHADmodels/DeepConvLSTMmediumUSCHAD_withrot_1/assets\n"
          ]
        },
        {
          "output_type": "stream",
          "name": "stdout",
          "text": [
            "INFO:tensorflow:Assets written to: /content/drive/My Drive/ECE_209_AS_project_data/USCHADmodels/DeepConvLSTMmediumUSCHAD_withrot_1/assets\n"
          ]
        },
        {
          "output_type": "stream",
          "name": "stderr",
          "text": [
            "INFO:tensorflow:Assets written to: /content/drive/My Drive/ECE_209_AS_project_data/USCHADmodels/DeepConvLSTMmediumUSCHAD_withrot_1/assets\n"
          ]
        },
        {
          "output_type": "stream",
          "name": "stdout",
          "text": [
            "INFO:tensorflow:Assets written to: /content/drive/My Drive/ECE_209_AS_project_data/USCHADmodels/DeepConvLSTMmediumUSCHAD_withrot_1/assets\n"
          ]
        },
        {
          "output_type": "stream",
          "name": "stderr",
          "text": [
            "INFO:tensorflow:Assets written to: /content/drive/My Drive/ECE_209_AS_project_data/USCHADmodels/DeepConvLSTMmediumUSCHAD_withrot_1/assets\n"
          ]
        },
        {
          "output_type": "stream",
          "name": "stdout",
          "text": [
            "INFO:tensorflow:Assets written to: /content/drive/My Drive/ECE_209_AS_project_data/USCHADmodels/DeepConvLSTMmediumUSCHAD_withrot_1/assets\n"
          ]
        },
        {
          "output_type": "stream",
          "name": "stderr",
          "text": [
            "INFO:tensorflow:Assets written to: /content/drive/My Drive/ECE_209_AS_project_data/USCHADmodels/DeepConvLSTMmediumUSCHAD_withrot_1/assets\n"
          ]
        },
        {
          "output_type": "stream",
          "name": "stdout",
          "text": [
            "tf.Tensor(0.8873109, shape=(), dtype=float32)\n",
            "INFO:tensorflow:Assets written to: /content/drive/My Drive/ECE_209_AS_project_data/USCHADmodels/DeepConvLSTMmediumUSCHAD_withrot_2/assets\n"
          ]
        },
        {
          "output_type": "stream",
          "name": "stderr",
          "text": [
            "INFO:tensorflow:Assets written to: /content/drive/My Drive/ECE_209_AS_project_data/USCHADmodels/DeepConvLSTMmediumUSCHAD_withrot_2/assets\n"
          ]
        },
        {
          "output_type": "stream",
          "name": "stdout",
          "text": [
            "INFO:tensorflow:Assets written to: /content/drive/My Drive/ECE_209_AS_project_data/USCHADmodels/DeepConvLSTMmediumUSCHAD_withrot_2/assets\n"
          ]
        },
        {
          "output_type": "stream",
          "name": "stderr",
          "text": [
            "INFO:tensorflow:Assets written to: /content/drive/My Drive/ECE_209_AS_project_data/USCHADmodels/DeepConvLSTMmediumUSCHAD_withrot_2/assets\n"
          ]
        },
        {
          "output_type": "stream",
          "name": "stdout",
          "text": [
            "INFO:tensorflow:Assets written to: /content/drive/My Drive/ECE_209_AS_project_data/USCHADmodels/DeepConvLSTMmediumUSCHAD_withrot_2/assets\n"
          ]
        },
        {
          "output_type": "stream",
          "name": "stderr",
          "text": [
            "INFO:tensorflow:Assets written to: /content/drive/My Drive/ECE_209_AS_project_data/USCHADmodels/DeepConvLSTMmediumUSCHAD_withrot_2/assets\n"
          ]
        },
        {
          "output_type": "stream",
          "name": "stdout",
          "text": [
            "INFO:tensorflow:Assets written to: /content/drive/My Drive/ECE_209_AS_project_data/USCHADmodels/DeepConvLSTMmediumUSCHAD_withrot_2/assets\n"
          ]
        },
        {
          "output_type": "stream",
          "name": "stderr",
          "text": [
            "INFO:tensorflow:Assets written to: /content/drive/My Drive/ECE_209_AS_project_data/USCHADmodels/DeepConvLSTMmediumUSCHAD_withrot_2/assets\n"
          ]
        },
        {
          "output_type": "stream",
          "name": "stdout",
          "text": [
            "INFO:tensorflow:Assets written to: /content/drive/My Drive/ECE_209_AS_project_data/USCHADmodels/DeepConvLSTMmediumUSCHAD_withrot_2/assets\n"
          ]
        },
        {
          "output_type": "stream",
          "name": "stderr",
          "text": [
            "INFO:tensorflow:Assets written to: /content/drive/My Drive/ECE_209_AS_project_data/USCHADmodels/DeepConvLSTMmediumUSCHAD_withrot_2/assets\n"
          ]
        },
        {
          "output_type": "stream",
          "name": "stdout",
          "text": [
            "INFO:tensorflow:Assets written to: /content/drive/My Drive/ECE_209_AS_project_data/USCHADmodels/DeepConvLSTMmediumUSCHAD_withrot_2/assets\n"
          ]
        },
        {
          "output_type": "stream",
          "name": "stderr",
          "text": [
            "INFO:tensorflow:Assets written to: /content/drive/My Drive/ECE_209_AS_project_data/USCHADmodels/DeepConvLSTMmediumUSCHAD_withrot_2/assets\n"
          ]
        },
        {
          "output_type": "stream",
          "name": "stdout",
          "text": [
            "INFO:tensorflow:Assets written to: /content/drive/My Drive/ECE_209_AS_project_data/USCHADmodels/DeepConvLSTMmediumUSCHAD_withrot_2/assets\n"
          ]
        },
        {
          "output_type": "stream",
          "name": "stderr",
          "text": [
            "INFO:tensorflow:Assets written to: /content/drive/My Drive/ECE_209_AS_project_data/USCHADmodels/DeepConvLSTMmediumUSCHAD_withrot_2/assets\n"
          ]
        },
        {
          "output_type": "stream",
          "name": "stdout",
          "text": [
            "INFO:tensorflow:Assets written to: /content/drive/My Drive/ECE_209_AS_project_data/USCHADmodels/DeepConvLSTMmediumUSCHAD_withrot_2/assets\n"
          ]
        },
        {
          "output_type": "stream",
          "name": "stderr",
          "text": [
            "INFO:tensorflow:Assets written to: /content/drive/My Drive/ECE_209_AS_project_data/USCHADmodels/DeepConvLSTMmediumUSCHAD_withrot_2/assets\n"
          ]
        },
        {
          "output_type": "stream",
          "name": "stdout",
          "text": [
            "INFO:tensorflow:Assets written to: /content/drive/My Drive/ECE_209_AS_project_data/USCHADmodels/DeepConvLSTMmediumUSCHAD_withrot_2/assets\n"
          ]
        },
        {
          "output_type": "stream",
          "name": "stderr",
          "text": [
            "INFO:tensorflow:Assets written to: /content/drive/My Drive/ECE_209_AS_project_data/USCHADmodels/DeepConvLSTMmediumUSCHAD_withrot_2/assets\n"
          ]
        },
        {
          "output_type": "stream",
          "name": "stdout",
          "text": [
            "tf.Tensor(0.89055264, shape=(), dtype=float32)\n",
            "INFO:tensorflow:Assets written to: /content/drive/My Drive/ECE_209_AS_project_data/USCHADmodels/DeepConvLSTMmediumUSCHAD_withrot_3/assets\n"
          ]
        },
        {
          "output_type": "stream",
          "name": "stderr",
          "text": [
            "INFO:tensorflow:Assets written to: /content/drive/My Drive/ECE_209_AS_project_data/USCHADmodels/DeepConvLSTMmediumUSCHAD_withrot_3/assets\n"
          ]
        },
        {
          "output_type": "stream",
          "name": "stdout",
          "text": [
            "INFO:tensorflow:Assets written to: /content/drive/My Drive/ECE_209_AS_project_data/USCHADmodels/DeepConvLSTMmediumUSCHAD_withrot_3/assets\n"
          ]
        },
        {
          "output_type": "stream",
          "name": "stderr",
          "text": [
            "INFO:tensorflow:Assets written to: /content/drive/My Drive/ECE_209_AS_project_data/USCHADmodels/DeepConvLSTMmediumUSCHAD_withrot_3/assets\n"
          ]
        },
        {
          "output_type": "stream",
          "name": "stdout",
          "text": [
            "INFO:tensorflow:Assets written to: /content/drive/My Drive/ECE_209_AS_project_data/USCHADmodels/DeepConvLSTMmediumUSCHAD_withrot_3/assets\n"
          ]
        },
        {
          "output_type": "stream",
          "name": "stderr",
          "text": [
            "INFO:tensorflow:Assets written to: /content/drive/My Drive/ECE_209_AS_project_data/USCHADmodels/DeepConvLSTMmediumUSCHAD_withrot_3/assets\n"
          ]
        },
        {
          "output_type": "stream",
          "name": "stdout",
          "text": [
            "INFO:tensorflow:Assets written to: /content/drive/My Drive/ECE_209_AS_project_data/USCHADmodels/DeepConvLSTMmediumUSCHAD_withrot_3/assets\n"
          ]
        },
        {
          "output_type": "stream",
          "name": "stderr",
          "text": [
            "INFO:tensorflow:Assets written to: /content/drive/My Drive/ECE_209_AS_project_data/USCHADmodels/DeepConvLSTMmediumUSCHAD_withrot_3/assets\n"
          ]
        },
        {
          "output_type": "stream",
          "name": "stdout",
          "text": [
            "INFO:tensorflow:Assets written to: /content/drive/My Drive/ECE_209_AS_project_data/USCHADmodels/DeepConvLSTMmediumUSCHAD_withrot_3/assets\n"
          ]
        },
        {
          "output_type": "stream",
          "name": "stderr",
          "text": [
            "INFO:tensorflow:Assets written to: /content/drive/My Drive/ECE_209_AS_project_data/USCHADmodels/DeepConvLSTMmediumUSCHAD_withrot_3/assets\n"
          ]
        },
        {
          "output_type": "stream",
          "name": "stdout",
          "text": [
            "INFO:tensorflow:Assets written to: /content/drive/My Drive/ECE_209_AS_project_data/USCHADmodels/DeepConvLSTMmediumUSCHAD_withrot_3/assets\n"
          ]
        },
        {
          "output_type": "stream",
          "name": "stderr",
          "text": [
            "INFO:tensorflow:Assets written to: /content/drive/My Drive/ECE_209_AS_project_data/USCHADmodels/DeepConvLSTMmediumUSCHAD_withrot_3/assets\n"
          ]
        },
        {
          "output_type": "stream",
          "name": "stdout",
          "text": [
            "INFO:tensorflow:Assets written to: /content/drive/My Drive/ECE_209_AS_project_data/USCHADmodels/DeepConvLSTMmediumUSCHAD_withrot_3/assets\n"
          ]
        },
        {
          "output_type": "stream",
          "name": "stderr",
          "text": [
            "INFO:tensorflow:Assets written to: /content/drive/My Drive/ECE_209_AS_project_data/USCHADmodels/DeepConvLSTMmediumUSCHAD_withrot_3/assets\n"
          ]
        },
        {
          "output_type": "stream",
          "name": "stdout",
          "text": [
            "INFO:tensorflow:Assets written to: /content/drive/My Drive/ECE_209_AS_project_data/USCHADmodels/DeepConvLSTMmediumUSCHAD_withrot_3/assets\n"
          ]
        },
        {
          "output_type": "stream",
          "name": "stderr",
          "text": [
            "INFO:tensorflow:Assets written to: /content/drive/My Drive/ECE_209_AS_project_data/USCHADmodels/DeepConvLSTMmediumUSCHAD_withrot_3/assets\n"
          ]
        },
        {
          "output_type": "stream",
          "name": "stdout",
          "text": [
            "tf.Tensor(0.887774, shape=(), dtype=float32)\n",
            "INFO:tensorflow:Assets written to: /content/drive/My Drive/ECE_209_AS_project_data/USCHADmodels/DeepConvLSTMmediumUSCHAD_withrot_4/assets\n"
          ]
        },
        {
          "output_type": "stream",
          "name": "stderr",
          "text": [
            "INFO:tensorflow:Assets written to: /content/drive/My Drive/ECE_209_AS_project_data/USCHADmodels/DeepConvLSTMmediumUSCHAD_withrot_4/assets\n"
          ]
        },
        {
          "output_type": "stream",
          "name": "stdout",
          "text": [
            "INFO:tensorflow:Assets written to: /content/drive/My Drive/ECE_209_AS_project_data/USCHADmodels/DeepConvLSTMmediumUSCHAD_withrot_4/assets\n"
          ]
        },
        {
          "output_type": "stream",
          "name": "stderr",
          "text": [
            "INFO:tensorflow:Assets written to: /content/drive/My Drive/ECE_209_AS_project_data/USCHADmodels/DeepConvLSTMmediumUSCHAD_withrot_4/assets\n"
          ]
        },
        {
          "output_type": "stream",
          "name": "stdout",
          "text": [
            "INFO:tensorflow:Assets written to: /content/drive/My Drive/ECE_209_AS_project_data/USCHADmodels/DeepConvLSTMmediumUSCHAD_withrot_4/assets\n"
          ]
        },
        {
          "output_type": "stream",
          "name": "stderr",
          "text": [
            "INFO:tensorflow:Assets written to: /content/drive/My Drive/ECE_209_AS_project_data/USCHADmodels/DeepConvLSTMmediumUSCHAD_withrot_4/assets\n"
          ]
        },
        {
          "output_type": "stream",
          "name": "stdout",
          "text": [
            "INFO:tensorflow:Assets written to: /content/drive/My Drive/ECE_209_AS_project_data/USCHADmodels/DeepConvLSTMmediumUSCHAD_withrot_4/assets\n"
          ]
        },
        {
          "output_type": "stream",
          "name": "stderr",
          "text": [
            "INFO:tensorflow:Assets written to: /content/drive/My Drive/ECE_209_AS_project_data/USCHADmodels/DeepConvLSTMmediumUSCHAD_withrot_4/assets\n"
          ]
        },
        {
          "output_type": "stream",
          "name": "stdout",
          "text": [
            "INFO:tensorflow:Assets written to: /content/drive/My Drive/ECE_209_AS_project_data/USCHADmodels/DeepConvLSTMmediumUSCHAD_withrot_4/assets\n"
          ]
        },
        {
          "output_type": "stream",
          "name": "stderr",
          "text": [
            "INFO:tensorflow:Assets written to: /content/drive/My Drive/ECE_209_AS_project_data/USCHADmodels/DeepConvLSTMmediumUSCHAD_withrot_4/assets\n"
          ]
        },
        {
          "output_type": "stream",
          "name": "stdout",
          "text": [
            "INFO:tensorflow:Assets written to: /content/drive/My Drive/ECE_209_AS_project_data/USCHADmodels/DeepConvLSTMmediumUSCHAD_withrot_4/assets\n"
          ]
        },
        {
          "output_type": "stream",
          "name": "stderr",
          "text": [
            "INFO:tensorflow:Assets written to: /content/drive/My Drive/ECE_209_AS_project_data/USCHADmodels/DeepConvLSTMmediumUSCHAD_withrot_4/assets\n"
          ]
        },
        {
          "output_type": "stream",
          "name": "stdout",
          "text": [
            "INFO:tensorflow:Assets written to: /content/drive/My Drive/ECE_209_AS_project_data/USCHADmodels/DeepConvLSTMmediumUSCHAD_withrot_4/assets\n"
          ]
        },
        {
          "output_type": "stream",
          "name": "stderr",
          "text": [
            "INFO:tensorflow:Assets written to: /content/drive/My Drive/ECE_209_AS_project_data/USCHADmodels/DeepConvLSTMmediumUSCHAD_withrot_4/assets\n"
          ]
        },
        {
          "output_type": "stream",
          "name": "stdout",
          "text": [
            "tf.Tensor(0.8887002, shape=(), dtype=float32)\n"
          ]
        }
      ]
    },
    {
      "cell_type": "code",
      "source": [
        "sum_ac = 0\n",
        "\n",
        "for ac in test_accuracies_rot:\n",
        "\n",
        "  sum_ac += ac.numpy()\n",
        "\n",
        "print(f\"Mean accuracy is {round(sum_ac/len(test_accuracies_rot), 2)}\")"
      ],
      "metadata": {
        "colab": {
          "base_uri": "https://localhost:8080/"
        },
        "outputId": "671da9e7-968e-4d36-b0fb-6b237157c566",
        "id": "vLKVw88eOFvj"
      },
      "execution_count": 30,
      "outputs": [
        {
          "output_type": "stream",
          "name": "stdout",
          "text": [
            "Mean accuracy is 0.89\n"
          ]
        }
      ],
      "id": "vLKVw88eOFvj"
    },
    {
      "cell_type": "code",
      "source": [
        "mean_recall_scores_with_rot  = sum(recall_scores_rot)/len(recall_scores_rot)\n",
        "\n",
        "for i in range(len(mean_recall_scores_with_rot)):\n",
        "\n",
        "  print(f\"Label {data_class_names[i]} has mean accuracy {round(mean_recall_scores_with_rot[i], 2)}\")"
      ],
      "metadata": {
        "colab": {
          "base_uri": "https://localhost:8080/"
        },
        "outputId": "b9e2bb95-234f-4c3f-b266-83da048b3a96",
        "id": "Lu8EFJdFOFvk"
      },
      "execution_count": 31,
      "outputs": [
        {
          "output_type": "stream",
          "name": "stdout",
          "text": [
            "Label walking forward has mean accuracy 0.94\n",
            "Label walking left has mean accuracy 0.92\n",
            "Label walking right has mean accuracy 0.94\n",
            "Label walking upstairs has mean accuracy 0.92\n",
            "Label walking downstairs has mean accuracy 0.94\n",
            "Label running forward has mean accuracy 0.97\n",
            "Label jumping has mean accuracy 0.96\n",
            "Label sitting has mean accuracy 0.95\n",
            "Label standing  has mean accuracy 0.88\n",
            "Label sleeping  has mean accuracy 0.96\n",
            "Label elevator up has mean accuracy 0.51\n",
            "Label elevator down has mean accuracy 0.46\n"
          ]
        }
      ],
      "id": "Lu8EFJdFOFvk"
    },
    {
      "cell_type": "markdown",
      "source": [
        "### Scaling"
      ],
      "metadata": {
        "id": "aT2-9javOsIf"
      },
      "id": "aT2-9javOsIf"
    },
    {
      "cell_type": "code",
      "source": [
        "test_accuracies_scale = []\n",
        "recall_scores_scale = []\n",
        "\n",
        "for i in range(5):\n",
        "\n",
        "  rnd_seed = seeds[i]\n",
        "  tf.random.set_seed(rnd_seed)\n",
        "  indices = np.random.RandomState(seed=rnd_seed).permutation(len(X_train))\n",
        "  X_train = X_train[indices]\n",
        "  Y_train = Y_train[indices]\n",
        "\n",
        "  X_train_scale = scaling((X_train))\n",
        "  Xtrain_tot=np.concatenate((X_train, X_train_scale))\n",
        "  Y_train_tot = np.concatenate((Y_train, Y_train))\n",
        "\n",
        "  train_data = Xtrain_tot[len(Xtrain_tot)//10:]\n",
        "  train_labels = Y_train_tot[len(Xtrain_tot)//10:]\n",
        "  val_data = Xtrain_tot[:len(Xtrain_tot)//10]\n",
        "  val_labels = Y_train_tot[:len(Xtrain_tot)//10]\n",
        "\n",
        "  model = keras.Model(inputs = inputs, outputs = outputs)\n",
        "  model.compile(loss = \"sparse_categorical_crossentropy\", optimizer = \"adam\", metrics=[\"accuracy\"])\n",
        "  tensorboard = keras.callbacks.TensorBoard(log_dir = path_to_logs)\n",
        "  callbacks = [keras.callbacks.ModelCheckpoint(filepath=path_to_models + f\"DeepConvLSTMmediumUSCHAD_withscale_{i}\"), tensorboard, keras.callbacks.EarlyStopping(monitor='val_loss', patience=5)]\n",
        "  history = model.fit(train_data, train_labels, epochs = 100, batch_size = 64, validation_data = (val_data, val_labels), callbacks = callbacks, class_weight = data_class_weights, verbose = False)\n",
        "\n",
        "  model_saved = keras.models.load_model(path_to_models + f\"DeepConvLSTMmediumUSCHAD_withscale_{i}\")\n",
        "  test_accuracy = tf.keras.metrics.Accuracy()\n",
        "  logits = model_saved(X_test, training=False)\n",
        "  prediction = tf.argmax(logits, axis=1, output_type=tf.int32)\n",
        "  test_accuracies_scale.append(test_accuracy(prediction, Y_test))\n",
        "  print(test_accuracy(prediction, Y_test))\n",
        "  recall_scores_scale.append(recall_score(Y_test, prediction, average=None))"
      ],
      "metadata": {
        "colab": {
          "base_uri": "https://localhost:8080/"
        },
        "id": "dNVN1AoBOi-U",
        "outputId": "ec39e90c-a425-4725-e489-3f3e37613c87"
      },
      "id": "dNVN1AoBOi-U",
      "execution_count": 32,
      "outputs": [
        {
          "output_type": "stream",
          "name": "stdout",
          "text": [
            "INFO:tensorflow:Assets written to: /content/drive/My Drive/ECE_209_AS_project_data/USCHADmodels/DeepConvLSTMmediumUSCHAD_withscale_0/assets\n"
          ]
        },
        {
          "output_type": "stream",
          "name": "stderr",
          "text": [
            "INFO:tensorflow:Assets written to: /content/drive/My Drive/ECE_209_AS_project_data/USCHADmodels/DeepConvLSTMmediumUSCHAD_withscale_0/assets\n"
          ]
        },
        {
          "output_type": "stream",
          "name": "stdout",
          "text": [
            "INFO:tensorflow:Assets written to: /content/drive/My Drive/ECE_209_AS_project_data/USCHADmodels/DeepConvLSTMmediumUSCHAD_withscale_0/assets\n"
          ]
        },
        {
          "output_type": "stream",
          "name": "stderr",
          "text": [
            "INFO:tensorflow:Assets written to: /content/drive/My Drive/ECE_209_AS_project_data/USCHADmodels/DeepConvLSTMmediumUSCHAD_withscale_0/assets\n"
          ]
        },
        {
          "output_type": "stream",
          "name": "stdout",
          "text": [
            "INFO:tensorflow:Assets written to: /content/drive/My Drive/ECE_209_AS_project_data/USCHADmodels/DeepConvLSTMmediumUSCHAD_withscale_0/assets\n"
          ]
        },
        {
          "output_type": "stream",
          "name": "stderr",
          "text": [
            "INFO:tensorflow:Assets written to: /content/drive/My Drive/ECE_209_AS_project_data/USCHADmodels/DeepConvLSTMmediumUSCHAD_withscale_0/assets\n"
          ]
        },
        {
          "output_type": "stream",
          "name": "stdout",
          "text": [
            "INFO:tensorflow:Assets written to: /content/drive/My Drive/ECE_209_AS_project_data/USCHADmodels/DeepConvLSTMmediumUSCHAD_withscale_0/assets\n"
          ]
        },
        {
          "output_type": "stream",
          "name": "stderr",
          "text": [
            "INFO:tensorflow:Assets written to: /content/drive/My Drive/ECE_209_AS_project_data/USCHADmodels/DeepConvLSTMmediumUSCHAD_withscale_0/assets\n"
          ]
        },
        {
          "output_type": "stream",
          "name": "stdout",
          "text": [
            "INFO:tensorflow:Assets written to: /content/drive/My Drive/ECE_209_AS_project_data/USCHADmodels/DeepConvLSTMmediumUSCHAD_withscale_0/assets\n"
          ]
        },
        {
          "output_type": "stream",
          "name": "stderr",
          "text": [
            "INFO:tensorflow:Assets written to: /content/drive/My Drive/ECE_209_AS_project_data/USCHADmodels/DeepConvLSTMmediumUSCHAD_withscale_0/assets\n"
          ]
        },
        {
          "output_type": "stream",
          "name": "stdout",
          "text": [
            "INFO:tensorflow:Assets written to: /content/drive/My Drive/ECE_209_AS_project_data/USCHADmodels/DeepConvLSTMmediumUSCHAD_withscale_0/assets\n"
          ]
        },
        {
          "output_type": "stream",
          "name": "stderr",
          "text": [
            "INFO:tensorflow:Assets written to: /content/drive/My Drive/ECE_209_AS_project_data/USCHADmodels/DeepConvLSTMmediumUSCHAD_withscale_0/assets\n"
          ]
        },
        {
          "output_type": "stream",
          "name": "stdout",
          "text": [
            "INFO:tensorflow:Assets written to: /content/drive/My Drive/ECE_209_AS_project_data/USCHADmodels/DeepConvLSTMmediumUSCHAD_withscale_0/assets\n"
          ]
        },
        {
          "output_type": "stream",
          "name": "stderr",
          "text": [
            "INFO:tensorflow:Assets written to: /content/drive/My Drive/ECE_209_AS_project_data/USCHADmodels/DeepConvLSTMmediumUSCHAD_withscale_0/assets\n"
          ]
        },
        {
          "output_type": "stream",
          "name": "stdout",
          "text": [
            "INFO:tensorflow:Assets written to: /content/drive/My Drive/ECE_209_AS_project_data/USCHADmodels/DeepConvLSTMmediumUSCHAD_withscale_0/assets\n"
          ]
        },
        {
          "output_type": "stream",
          "name": "stderr",
          "text": [
            "INFO:tensorflow:Assets written to: /content/drive/My Drive/ECE_209_AS_project_data/USCHADmodels/DeepConvLSTMmediumUSCHAD_withscale_0/assets\n"
          ]
        },
        {
          "output_type": "stream",
          "name": "stdout",
          "text": [
            "tf.Tensor(0.8891633, shape=(), dtype=float32)\n",
            "INFO:tensorflow:Assets written to: /content/drive/My Drive/ECE_209_AS_project_data/USCHADmodels/DeepConvLSTMmediumUSCHAD_withscale_1/assets\n"
          ]
        },
        {
          "output_type": "stream",
          "name": "stderr",
          "text": [
            "INFO:tensorflow:Assets written to: /content/drive/My Drive/ECE_209_AS_project_data/USCHADmodels/DeepConvLSTMmediumUSCHAD_withscale_1/assets\n"
          ]
        },
        {
          "output_type": "stream",
          "name": "stdout",
          "text": [
            "INFO:tensorflow:Assets written to: /content/drive/My Drive/ECE_209_AS_project_data/USCHADmodels/DeepConvLSTMmediumUSCHAD_withscale_1/assets\n"
          ]
        },
        {
          "output_type": "stream",
          "name": "stderr",
          "text": [
            "INFO:tensorflow:Assets written to: /content/drive/My Drive/ECE_209_AS_project_data/USCHADmodels/DeepConvLSTMmediumUSCHAD_withscale_1/assets\n"
          ]
        },
        {
          "output_type": "stream",
          "name": "stdout",
          "text": [
            "INFO:tensorflow:Assets written to: /content/drive/My Drive/ECE_209_AS_project_data/USCHADmodels/DeepConvLSTMmediumUSCHAD_withscale_1/assets\n"
          ]
        },
        {
          "output_type": "stream",
          "name": "stderr",
          "text": [
            "INFO:tensorflow:Assets written to: /content/drive/My Drive/ECE_209_AS_project_data/USCHADmodels/DeepConvLSTMmediumUSCHAD_withscale_1/assets\n"
          ]
        },
        {
          "output_type": "stream",
          "name": "stdout",
          "text": [
            "INFO:tensorflow:Assets written to: /content/drive/My Drive/ECE_209_AS_project_data/USCHADmodels/DeepConvLSTMmediumUSCHAD_withscale_1/assets\n"
          ]
        },
        {
          "output_type": "stream",
          "name": "stderr",
          "text": [
            "INFO:tensorflow:Assets written to: /content/drive/My Drive/ECE_209_AS_project_data/USCHADmodels/DeepConvLSTMmediumUSCHAD_withscale_1/assets\n"
          ]
        },
        {
          "output_type": "stream",
          "name": "stdout",
          "text": [
            "INFO:tensorflow:Assets written to: /content/drive/My Drive/ECE_209_AS_project_data/USCHADmodels/DeepConvLSTMmediumUSCHAD_withscale_1/assets\n"
          ]
        },
        {
          "output_type": "stream",
          "name": "stderr",
          "text": [
            "INFO:tensorflow:Assets written to: /content/drive/My Drive/ECE_209_AS_project_data/USCHADmodels/DeepConvLSTMmediumUSCHAD_withscale_1/assets\n"
          ]
        },
        {
          "output_type": "stream",
          "name": "stdout",
          "text": [
            "INFO:tensorflow:Assets written to: /content/drive/My Drive/ECE_209_AS_project_data/USCHADmodels/DeepConvLSTMmediumUSCHAD_withscale_1/assets\n"
          ]
        },
        {
          "output_type": "stream",
          "name": "stderr",
          "text": [
            "INFO:tensorflow:Assets written to: /content/drive/My Drive/ECE_209_AS_project_data/USCHADmodels/DeepConvLSTMmediumUSCHAD_withscale_1/assets\n"
          ]
        },
        {
          "output_type": "stream",
          "name": "stdout",
          "text": [
            "INFO:tensorflow:Assets written to: /content/drive/My Drive/ECE_209_AS_project_data/USCHADmodels/DeepConvLSTMmediumUSCHAD_withscale_1/assets\n"
          ]
        },
        {
          "output_type": "stream",
          "name": "stderr",
          "text": [
            "INFO:tensorflow:Assets written to: /content/drive/My Drive/ECE_209_AS_project_data/USCHADmodels/DeepConvLSTMmediumUSCHAD_withscale_1/assets\n"
          ]
        },
        {
          "output_type": "stream",
          "name": "stdout",
          "text": [
            "INFO:tensorflow:Assets written to: /content/drive/My Drive/ECE_209_AS_project_data/USCHADmodels/DeepConvLSTMmediumUSCHAD_withscale_1/assets\n"
          ]
        },
        {
          "output_type": "stream",
          "name": "stderr",
          "text": [
            "INFO:tensorflow:Assets written to: /content/drive/My Drive/ECE_209_AS_project_data/USCHADmodels/DeepConvLSTMmediumUSCHAD_withscale_1/assets\n"
          ]
        },
        {
          "output_type": "stream",
          "name": "stdout",
          "text": [
            "INFO:tensorflow:Assets written to: /content/drive/My Drive/ECE_209_AS_project_data/USCHADmodels/DeepConvLSTMmediumUSCHAD_withscale_1/assets\n"
          ]
        },
        {
          "output_type": "stream",
          "name": "stderr",
          "text": [
            "INFO:tensorflow:Assets written to: /content/drive/My Drive/ECE_209_AS_project_data/USCHADmodels/DeepConvLSTMmediumUSCHAD_withscale_1/assets\n"
          ]
        },
        {
          "output_type": "stream",
          "name": "stdout",
          "text": [
            "INFO:tensorflow:Assets written to: /content/drive/My Drive/ECE_209_AS_project_data/USCHADmodels/DeepConvLSTMmediumUSCHAD_withscale_1/assets\n"
          ]
        },
        {
          "output_type": "stream",
          "name": "stderr",
          "text": [
            "INFO:tensorflow:Assets written to: /content/drive/My Drive/ECE_209_AS_project_data/USCHADmodels/DeepConvLSTMmediumUSCHAD_withscale_1/assets\n"
          ]
        },
        {
          "output_type": "stream",
          "name": "stdout",
          "text": [
            "INFO:tensorflow:Assets written to: /content/drive/My Drive/ECE_209_AS_project_data/USCHADmodels/DeepConvLSTMmediumUSCHAD_withscale_1/assets\n"
          ]
        },
        {
          "output_type": "stream",
          "name": "stderr",
          "text": [
            "INFO:tensorflow:Assets written to: /content/drive/My Drive/ECE_209_AS_project_data/USCHADmodels/DeepConvLSTMmediumUSCHAD_withscale_1/assets\n"
          ]
        },
        {
          "output_type": "stream",
          "name": "stdout",
          "text": [
            "tf.Tensor(0.902439, shape=(), dtype=float32)\n",
            "INFO:tensorflow:Assets written to: /content/drive/My Drive/ECE_209_AS_project_data/USCHADmodels/DeepConvLSTMmediumUSCHAD_withscale_2/assets\n"
          ]
        },
        {
          "output_type": "stream",
          "name": "stderr",
          "text": [
            "INFO:tensorflow:Assets written to: /content/drive/My Drive/ECE_209_AS_project_data/USCHADmodels/DeepConvLSTMmediumUSCHAD_withscale_2/assets\n"
          ]
        },
        {
          "output_type": "stream",
          "name": "stdout",
          "text": [
            "INFO:tensorflow:Assets written to: /content/drive/My Drive/ECE_209_AS_project_data/USCHADmodels/DeepConvLSTMmediumUSCHAD_withscale_2/assets\n"
          ]
        },
        {
          "output_type": "stream",
          "name": "stderr",
          "text": [
            "INFO:tensorflow:Assets written to: /content/drive/My Drive/ECE_209_AS_project_data/USCHADmodels/DeepConvLSTMmediumUSCHAD_withscale_2/assets\n"
          ]
        },
        {
          "output_type": "stream",
          "name": "stdout",
          "text": [
            "INFO:tensorflow:Assets written to: /content/drive/My Drive/ECE_209_AS_project_data/USCHADmodels/DeepConvLSTMmediumUSCHAD_withscale_2/assets\n"
          ]
        },
        {
          "output_type": "stream",
          "name": "stderr",
          "text": [
            "INFO:tensorflow:Assets written to: /content/drive/My Drive/ECE_209_AS_project_data/USCHADmodels/DeepConvLSTMmediumUSCHAD_withscale_2/assets\n"
          ]
        },
        {
          "output_type": "stream",
          "name": "stdout",
          "text": [
            "INFO:tensorflow:Assets written to: /content/drive/My Drive/ECE_209_AS_project_data/USCHADmodels/DeepConvLSTMmediumUSCHAD_withscale_2/assets\n"
          ]
        },
        {
          "output_type": "stream",
          "name": "stderr",
          "text": [
            "INFO:tensorflow:Assets written to: /content/drive/My Drive/ECE_209_AS_project_data/USCHADmodels/DeepConvLSTMmediumUSCHAD_withscale_2/assets\n"
          ]
        },
        {
          "output_type": "stream",
          "name": "stdout",
          "text": [
            "INFO:tensorflow:Assets written to: /content/drive/My Drive/ECE_209_AS_project_data/USCHADmodels/DeepConvLSTMmediumUSCHAD_withscale_2/assets\n"
          ]
        },
        {
          "output_type": "stream",
          "name": "stderr",
          "text": [
            "INFO:tensorflow:Assets written to: /content/drive/My Drive/ECE_209_AS_project_data/USCHADmodels/DeepConvLSTMmediumUSCHAD_withscale_2/assets\n"
          ]
        },
        {
          "output_type": "stream",
          "name": "stdout",
          "text": [
            "INFO:tensorflow:Assets written to: /content/drive/My Drive/ECE_209_AS_project_data/USCHADmodels/DeepConvLSTMmediumUSCHAD_withscale_2/assets\n"
          ]
        },
        {
          "output_type": "stream",
          "name": "stderr",
          "text": [
            "INFO:tensorflow:Assets written to: /content/drive/My Drive/ECE_209_AS_project_data/USCHADmodels/DeepConvLSTMmediumUSCHAD_withscale_2/assets\n"
          ]
        },
        {
          "output_type": "stream",
          "name": "stdout",
          "text": [
            "INFO:tensorflow:Assets written to: /content/drive/My Drive/ECE_209_AS_project_data/USCHADmodels/DeepConvLSTMmediumUSCHAD_withscale_2/assets\n"
          ]
        },
        {
          "output_type": "stream",
          "name": "stderr",
          "text": [
            "INFO:tensorflow:Assets written to: /content/drive/My Drive/ECE_209_AS_project_data/USCHADmodels/DeepConvLSTMmediumUSCHAD_withscale_2/assets\n"
          ]
        },
        {
          "output_type": "stream",
          "name": "stdout",
          "text": [
            "INFO:tensorflow:Assets written to: /content/drive/My Drive/ECE_209_AS_project_data/USCHADmodels/DeepConvLSTMmediumUSCHAD_withscale_2/assets\n"
          ]
        },
        {
          "output_type": "stream",
          "name": "stderr",
          "text": [
            "INFO:tensorflow:Assets written to: /content/drive/My Drive/ECE_209_AS_project_data/USCHADmodels/DeepConvLSTMmediumUSCHAD_withscale_2/assets\n"
          ]
        },
        {
          "output_type": "stream",
          "name": "stdout",
          "text": [
            "INFO:tensorflow:Assets written to: /content/drive/My Drive/ECE_209_AS_project_data/USCHADmodels/DeepConvLSTMmediumUSCHAD_withscale_2/assets\n"
          ]
        },
        {
          "output_type": "stream",
          "name": "stderr",
          "text": [
            "INFO:tensorflow:Assets written to: /content/drive/My Drive/ECE_209_AS_project_data/USCHADmodels/DeepConvLSTMmediumUSCHAD_withscale_2/assets\n"
          ]
        },
        {
          "output_type": "stream",
          "name": "stdout",
          "text": [
            "INFO:tensorflow:Assets written to: /content/drive/My Drive/ECE_209_AS_project_data/USCHADmodels/DeepConvLSTMmediumUSCHAD_withscale_2/assets\n"
          ]
        },
        {
          "output_type": "stream",
          "name": "stderr",
          "text": [
            "INFO:tensorflow:Assets written to: /content/drive/My Drive/ECE_209_AS_project_data/USCHADmodels/DeepConvLSTMmediumUSCHAD_withscale_2/assets\n"
          ]
        },
        {
          "output_type": "stream",
          "name": "stdout",
          "text": [
            "INFO:tensorflow:Assets written to: /content/drive/My Drive/ECE_209_AS_project_data/USCHADmodels/DeepConvLSTMmediumUSCHAD_withscale_2/assets\n"
          ]
        },
        {
          "output_type": "stream",
          "name": "stderr",
          "text": [
            "INFO:tensorflow:Assets written to: /content/drive/My Drive/ECE_209_AS_project_data/USCHADmodels/DeepConvLSTMmediumUSCHAD_withscale_2/assets\n"
          ]
        },
        {
          "output_type": "stream",
          "name": "stdout",
          "text": [
            "INFO:tensorflow:Assets written to: /content/drive/My Drive/ECE_209_AS_project_data/USCHADmodels/DeepConvLSTMmediumUSCHAD_withscale_2/assets\n"
          ]
        },
        {
          "output_type": "stream",
          "name": "stderr",
          "text": [
            "INFO:tensorflow:Assets written to: /content/drive/My Drive/ECE_209_AS_project_data/USCHADmodels/DeepConvLSTMmediumUSCHAD_withscale_2/assets\n"
          ]
        },
        {
          "output_type": "stream",
          "name": "stdout",
          "text": [
            "INFO:tensorflow:Assets written to: /content/drive/My Drive/ECE_209_AS_project_data/USCHADmodels/DeepConvLSTMmediumUSCHAD_withscale_2/assets\n"
          ]
        },
        {
          "output_type": "stream",
          "name": "stderr",
          "text": [
            "INFO:tensorflow:Assets written to: /content/drive/My Drive/ECE_209_AS_project_data/USCHADmodels/DeepConvLSTMmediumUSCHAD_withscale_2/assets\n"
          ]
        },
        {
          "output_type": "stream",
          "name": "stdout",
          "text": [
            "tf.Tensor(0.902439, shape=(), dtype=float32)\n",
            "INFO:tensorflow:Assets written to: /content/drive/My Drive/ECE_209_AS_project_data/USCHADmodels/DeepConvLSTMmediumUSCHAD_withscale_3/assets\n"
          ]
        },
        {
          "output_type": "stream",
          "name": "stderr",
          "text": [
            "INFO:tensorflow:Assets written to: /content/drive/My Drive/ECE_209_AS_project_data/USCHADmodels/DeepConvLSTMmediumUSCHAD_withscale_3/assets\n"
          ]
        },
        {
          "output_type": "stream",
          "name": "stdout",
          "text": [
            "INFO:tensorflow:Assets written to: /content/drive/My Drive/ECE_209_AS_project_data/USCHADmodels/DeepConvLSTMmediumUSCHAD_withscale_3/assets\n"
          ]
        },
        {
          "output_type": "stream",
          "name": "stderr",
          "text": [
            "INFO:tensorflow:Assets written to: /content/drive/My Drive/ECE_209_AS_project_data/USCHADmodels/DeepConvLSTMmediumUSCHAD_withscale_3/assets\n"
          ]
        },
        {
          "output_type": "stream",
          "name": "stdout",
          "text": [
            "INFO:tensorflow:Assets written to: /content/drive/My Drive/ECE_209_AS_project_data/USCHADmodels/DeepConvLSTMmediumUSCHAD_withscale_3/assets\n"
          ]
        },
        {
          "output_type": "stream",
          "name": "stderr",
          "text": [
            "INFO:tensorflow:Assets written to: /content/drive/My Drive/ECE_209_AS_project_data/USCHADmodels/DeepConvLSTMmediumUSCHAD_withscale_3/assets\n"
          ]
        },
        {
          "output_type": "stream",
          "name": "stdout",
          "text": [
            "INFO:tensorflow:Assets written to: /content/drive/My Drive/ECE_209_AS_project_data/USCHADmodels/DeepConvLSTMmediumUSCHAD_withscale_3/assets\n"
          ]
        },
        {
          "output_type": "stream",
          "name": "stderr",
          "text": [
            "INFO:tensorflow:Assets written to: /content/drive/My Drive/ECE_209_AS_project_data/USCHADmodels/DeepConvLSTMmediumUSCHAD_withscale_3/assets\n"
          ]
        },
        {
          "output_type": "stream",
          "name": "stdout",
          "text": [
            "INFO:tensorflow:Assets written to: /content/drive/My Drive/ECE_209_AS_project_data/USCHADmodels/DeepConvLSTMmediumUSCHAD_withscale_3/assets\n"
          ]
        },
        {
          "output_type": "stream",
          "name": "stderr",
          "text": [
            "INFO:tensorflow:Assets written to: /content/drive/My Drive/ECE_209_AS_project_data/USCHADmodels/DeepConvLSTMmediumUSCHAD_withscale_3/assets\n"
          ]
        },
        {
          "output_type": "stream",
          "name": "stdout",
          "text": [
            "INFO:tensorflow:Assets written to: /content/drive/My Drive/ECE_209_AS_project_data/USCHADmodels/DeepConvLSTMmediumUSCHAD_withscale_3/assets\n"
          ]
        },
        {
          "output_type": "stream",
          "name": "stderr",
          "text": [
            "INFO:tensorflow:Assets written to: /content/drive/My Drive/ECE_209_AS_project_data/USCHADmodels/DeepConvLSTMmediumUSCHAD_withscale_3/assets\n"
          ]
        },
        {
          "output_type": "stream",
          "name": "stdout",
          "text": [
            "INFO:tensorflow:Assets written to: /content/drive/My Drive/ECE_209_AS_project_data/USCHADmodels/DeepConvLSTMmediumUSCHAD_withscale_3/assets\n"
          ]
        },
        {
          "output_type": "stream",
          "name": "stderr",
          "text": [
            "INFO:tensorflow:Assets written to: /content/drive/My Drive/ECE_209_AS_project_data/USCHADmodels/DeepConvLSTMmediumUSCHAD_withscale_3/assets\n"
          ]
        },
        {
          "output_type": "stream",
          "name": "stdout",
          "text": [
            "tf.Tensor(0.90367395, shape=(), dtype=float32)\n",
            "INFO:tensorflow:Assets written to: /content/drive/My Drive/ECE_209_AS_project_data/USCHADmodels/DeepConvLSTMmediumUSCHAD_withscale_4/assets\n"
          ]
        },
        {
          "output_type": "stream",
          "name": "stderr",
          "text": [
            "INFO:tensorflow:Assets written to: /content/drive/My Drive/ECE_209_AS_project_data/USCHADmodels/DeepConvLSTMmediumUSCHAD_withscale_4/assets\n"
          ]
        },
        {
          "output_type": "stream",
          "name": "stdout",
          "text": [
            "INFO:tensorflow:Assets written to: /content/drive/My Drive/ECE_209_AS_project_data/USCHADmodels/DeepConvLSTMmediumUSCHAD_withscale_4/assets\n"
          ]
        },
        {
          "output_type": "stream",
          "name": "stderr",
          "text": [
            "INFO:tensorflow:Assets written to: /content/drive/My Drive/ECE_209_AS_project_data/USCHADmodels/DeepConvLSTMmediumUSCHAD_withscale_4/assets\n"
          ]
        },
        {
          "output_type": "stream",
          "name": "stdout",
          "text": [
            "INFO:tensorflow:Assets written to: /content/drive/My Drive/ECE_209_AS_project_data/USCHADmodels/DeepConvLSTMmediumUSCHAD_withscale_4/assets\n"
          ]
        },
        {
          "output_type": "stream",
          "name": "stderr",
          "text": [
            "INFO:tensorflow:Assets written to: /content/drive/My Drive/ECE_209_AS_project_data/USCHADmodels/DeepConvLSTMmediumUSCHAD_withscale_4/assets\n"
          ]
        },
        {
          "output_type": "stream",
          "name": "stdout",
          "text": [
            "INFO:tensorflow:Assets written to: /content/drive/My Drive/ECE_209_AS_project_data/USCHADmodels/DeepConvLSTMmediumUSCHAD_withscale_4/assets\n"
          ]
        },
        {
          "output_type": "stream",
          "name": "stderr",
          "text": [
            "INFO:tensorflow:Assets written to: /content/drive/My Drive/ECE_209_AS_project_data/USCHADmodels/DeepConvLSTMmediumUSCHAD_withscale_4/assets\n"
          ]
        },
        {
          "output_type": "stream",
          "name": "stdout",
          "text": [
            "INFO:tensorflow:Assets written to: /content/drive/My Drive/ECE_209_AS_project_data/USCHADmodels/DeepConvLSTMmediumUSCHAD_withscale_4/assets\n"
          ]
        },
        {
          "output_type": "stream",
          "name": "stderr",
          "text": [
            "INFO:tensorflow:Assets written to: /content/drive/My Drive/ECE_209_AS_project_data/USCHADmodels/DeepConvLSTMmediumUSCHAD_withscale_4/assets\n"
          ]
        },
        {
          "output_type": "stream",
          "name": "stdout",
          "text": [
            "INFO:tensorflow:Assets written to: /content/drive/My Drive/ECE_209_AS_project_data/USCHADmodels/DeepConvLSTMmediumUSCHAD_withscale_4/assets\n"
          ]
        },
        {
          "output_type": "stream",
          "name": "stderr",
          "text": [
            "INFO:tensorflow:Assets written to: /content/drive/My Drive/ECE_209_AS_project_data/USCHADmodels/DeepConvLSTMmediumUSCHAD_withscale_4/assets\n"
          ]
        },
        {
          "output_type": "stream",
          "name": "stdout",
          "text": [
            "tf.Tensor(0.896573, shape=(), dtype=float32)\n"
          ]
        }
      ]
    },
    {
      "cell_type": "code",
      "source": [
        "sum_ac = 0\n",
        "\n",
        "for ac in test_accuracies_scale:\n",
        "\n",
        "  sum_ac += ac.numpy()\n",
        "\n",
        "print(f\"Mean accuracy is {round(sum_ac/len(test_accuracies_scale), 2)}\")"
      ],
      "metadata": {
        "colab": {
          "base_uri": "https://localhost:8080/"
        },
        "id": "_ehiKcFbQ1Mo",
        "outputId": "5caa5b4f-4b93-42d4-9042-29d54036e607"
      },
      "id": "_ehiKcFbQ1Mo",
      "execution_count": 33,
      "outputs": [
        {
          "output_type": "stream",
          "name": "stdout",
          "text": [
            "Mean accuracy is 0.9\n"
          ]
        }
      ]
    },
    {
      "cell_type": "code",
      "source": [
        "mean_recall_scores_with_scale  = sum(recall_scores_scale)/len(recall_scores_scale)\n",
        "\n",
        "for i in range(len(mean_recall_scores_with_scale)):\n",
        "\n",
        "  print(f\"Label {data_class_names[i]} has mean accuracy {round(mean_recall_scores_with_scale[i], 2)}\")"
      ],
      "metadata": {
        "colab": {
          "base_uri": "https://localhost:8080/"
        },
        "id": "-2iPrKIqQ19f",
        "outputId": "4e4b57ad-ad8a-473b-fc75-1b7e53c794f7"
      },
      "id": "-2iPrKIqQ19f",
      "execution_count": 34,
      "outputs": [
        {
          "output_type": "stream",
          "name": "stdout",
          "text": [
            "Label walking forward has mean accuracy 0.94\n",
            "Label walking left has mean accuracy 0.93\n",
            "Label walking right has mean accuracy 0.95\n",
            "Label walking upstairs has mean accuracy 0.96\n",
            "Label walking downstairs has mean accuracy 0.94\n",
            "Label running forward has mean accuracy 0.97\n",
            "Label jumping has mean accuracy 0.94\n",
            "Label sitting has mean accuracy 0.97\n",
            "Label standing  has mean accuracy 0.87\n",
            "Label sleeping  has mean accuracy 1.0\n",
            "Label elevator up has mean accuracy 0.44\n",
            "Label elevator down has mean accuracy 0.54\n"
          ]
        }
      ]
    },
    {
      "cell_type": "markdown",
      "source": [
        "### Magnify"
      ],
      "metadata": {
        "id": "S2PimZmNROfy"
      },
      "id": "S2PimZmNROfy"
    },
    {
      "cell_type": "code",
      "source": [
        "test_accuracies_magnify = []\n",
        "recall_scores_magnify = []\n",
        "\n",
        "for i in range(5):\n",
        "\n",
        "  rnd_seed = seeds[i]\n",
        "  tf.random.set_seed(rnd_seed)\n",
        "  indices = np.random.RandomState(seed=rnd_seed).permutation(len(X_train))\n",
        "  X_train = X_train[indices]\n",
        "  Y_train = Y_train[indices]\n",
        "\n",
        "  X_train_magnify = magnify((X_train))\n",
        "  Xtrain_tot=np.concatenate((X_train, X_train_magnify))\n",
        "  Y_train_tot = np.concatenate((Y_train, Y_train))\n",
        "\n",
        "  train_data = Xtrain_tot[len(Xtrain_tot)//10:]\n",
        "  train_labels = Y_train_tot[len(Xtrain_tot)//10:]\n",
        "  val_data = Xtrain_tot[:len(Xtrain_tot)//10]\n",
        "  val_labels = Y_train_tot[:len(Xtrain_tot)//10]\n",
        "\n",
        "  model = keras.Model(inputs = inputs, outputs = outputs)\n",
        "  model.compile(loss = \"sparse_categorical_crossentropy\", optimizer = \"adam\", metrics=[\"accuracy\"])\n",
        "  tensorboard = keras.callbacks.TensorBoard(log_dir = path_to_logs)\n",
        "  callbacks = [keras.callbacks.ModelCheckpoint(filepath=path_to_models + f\"DeepConvLSTMmediumUSCHAD_withmag_{i}\"), tensorboard, keras.callbacks.EarlyStopping(monitor='val_loss', patience=5)]\n",
        "  history = model.fit(train_data, train_labels, epochs = 100, batch_size = 64, validation_data = (val_data, val_labels), callbacks = callbacks, class_weight = data_class_weights, verbose = False)\n",
        "\n",
        "  model_saved = keras.models.load_model(path_to_models + f\"DeepConvLSTMmediumUSCHAD_withmag_{i}\")\n",
        "  test_accuracy = tf.keras.metrics.Accuracy()\n",
        "  logits = model_saved(X_test, training=False)\n",
        "  prediction = tf.argmax(logits, axis=1, output_type=tf.int32)\n",
        "  test_accuracies_magnify.append(test_accuracy(prediction, Y_test))\n",
        "  print(test_accuracy(prediction, Y_test))\n",
        "  recall_scores_magnify.append(recall_score(Y_test, prediction, average=None))"
      ],
      "metadata": {
        "colab": {
          "base_uri": "https://localhost:8080/"
        },
        "id": "xZJiAvacRVQ-",
        "outputId": "6b00d43d-59a1-4906-b101-f8c85e4b0d1b"
      },
      "execution_count": 35,
      "outputs": [
        {
          "output_type": "stream",
          "name": "stdout",
          "text": [
            "INFO:tensorflow:Assets written to: /content/drive/My Drive/ECE_209_AS_project_data/USCHADmodels/DeepConvLSTMmediumUSCHAD_withmag_0/assets\n"
          ]
        },
        {
          "output_type": "stream",
          "name": "stderr",
          "text": [
            "INFO:tensorflow:Assets written to: /content/drive/My Drive/ECE_209_AS_project_data/USCHADmodels/DeepConvLSTMmediumUSCHAD_withmag_0/assets\n"
          ]
        },
        {
          "output_type": "stream",
          "name": "stdout",
          "text": [
            "INFO:tensorflow:Assets written to: /content/drive/My Drive/ECE_209_AS_project_data/USCHADmodels/DeepConvLSTMmediumUSCHAD_withmag_0/assets\n"
          ]
        },
        {
          "output_type": "stream",
          "name": "stderr",
          "text": [
            "INFO:tensorflow:Assets written to: /content/drive/My Drive/ECE_209_AS_project_data/USCHADmodels/DeepConvLSTMmediumUSCHAD_withmag_0/assets\n"
          ]
        },
        {
          "output_type": "stream",
          "name": "stdout",
          "text": [
            "INFO:tensorflow:Assets written to: /content/drive/My Drive/ECE_209_AS_project_data/USCHADmodels/DeepConvLSTMmediumUSCHAD_withmag_0/assets\n"
          ]
        },
        {
          "output_type": "stream",
          "name": "stderr",
          "text": [
            "INFO:tensorflow:Assets written to: /content/drive/My Drive/ECE_209_AS_project_data/USCHADmodels/DeepConvLSTMmediumUSCHAD_withmag_0/assets\n"
          ]
        },
        {
          "output_type": "stream",
          "name": "stdout",
          "text": [
            "INFO:tensorflow:Assets written to: /content/drive/My Drive/ECE_209_AS_project_data/USCHADmodels/DeepConvLSTMmediumUSCHAD_withmag_0/assets\n"
          ]
        },
        {
          "output_type": "stream",
          "name": "stderr",
          "text": [
            "INFO:tensorflow:Assets written to: /content/drive/My Drive/ECE_209_AS_project_data/USCHADmodels/DeepConvLSTMmediumUSCHAD_withmag_0/assets\n"
          ]
        },
        {
          "output_type": "stream",
          "name": "stdout",
          "text": [
            "INFO:tensorflow:Assets written to: /content/drive/My Drive/ECE_209_AS_project_data/USCHADmodels/DeepConvLSTMmediumUSCHAD_withmag_0/assets\n"
          ]
        },
        {
          "output_type": "stream",
          "name": "stderr",
          "text": [
            "INFO:tensorflow:Assets written to: /content/drive/My Drive/ECE_209_AS_project_data/USCHADmodels/DeepConvLSTMmediumUSCHAD_withmag_0/assets\n"
          ]
        },
        {
          "output_type": "stream",
          "name": "stdout",
          "text": [
            "INFO:tensorflow:Assets written to: /content/drive/My Drive/ECE_209_AS_project_data/USCHADmodels/DeepConvLSTMmediumUSCHAD_withmag_0/assets\n"
          ]
        },
        {
          "output_type": "stream",
          "name": "stderr",
          "text": [
            "INFO:tensorflow:Assets written to: /content/drive/My Drive/ECE_209_AS_project_data/USCHADmodels/DeepConvLSTMmediumUSCHAD_withmag_0/assets\n"
          ]
        },
        {
          "output_type": "stream",
          "name": "stdout",
          "text": [
            "INFO:tensorflow:Assets written to: /content/drive/My Drive/ECE_209_AS_project_data/USCHADmodels/DeepConvLSTMmediumUSCHAD_withmag_0/assets\n"
          ]
        },
        {
          "output_type": "stream",
          "name": "stderr",
          "text": [
            "INFO:tensorflow:Assets written to: /content/drive/My Drive/ECE_209_AS_project_data/USCHADmodels/DeepConvLSTMmediumUSCHAD_withmag_0/assets\n"
          ]
        },
        {
          "output_type": "stream",
          "name": "stdout",
          "text": [
            "tf.Tensor(0.90336525, shape=(), dtype=float32)\n",
            "INFO:tensorflow:Assets written to: /content/drive/My Drive/ECE_209_AS_project_data/USCHADmodels/DeepConvLSTMmediumUSCHAD_withmag_1/assets\n"
          ]
        },
        {
          "output_type": "stream",
          "name": "stderr",
          "text": [
            "INFO:tensorflow:Assets written to: /content/drive/My Drive/ECE_209_AS_project_data/USCHADmodels/DeepConvLSTMmediumUSCHAD_withmag_1/assets\n"
          ]
        },
        {
          "output_type": "stream",
          "name": "stdout",
          "text": [
            "INFO:tensorflow:Assets written to: /content/drive/My Drive/ECE_209_AS_project_data/USCHADmodels/DeepConvLSTMmediumUSCHAD_withmag_1/assets\n"
          ]
        },
        {
          "output_type": "stream",
          "name": "stderr",
          "text": [
            "INFO:tensorflow:Assets written to: /content/drive/My Drive/ECE_209_AS_project_data/USCHADmodels/DeepConvLSTMmediumUSCHAD_withmag_1/assets\n"
          ]
        },
        {
          "output_type": "stream",
          "name": "stdout",
          "text": [
            "INFO:tensorflow:Assets written to: /content/drive/My Drive/ECE_209_AS_project_data/USCHADmodels/DeepConvLSTMmediumUSCHAD_withmag_1/assets\n"
          ]
        },
        {
          "output_type": "stream",
          "name": "stderr",
          "text": [
            "INFO:tensorflow:Assets written to: /content/drive/My Drive/ECE_209_AS_project_data/USCHADmodels/DeepConvLSTMmediumUSCHAD_withmag_1/assets\n"
          ]
        },
        {
          "output_type": "stream",
          "name": "stdout",
          "text": [
            "INFO:tensorflow:Assets written to: /content/drive/My Drive/ECE_209_AS_project_data/USCHADmodels/DeepConvLSTMmediumUSCHAD_withmag_1/assets\n"
          ]
        },
        {
          "output_type": "stream",
          "name": "stderr",
          "text": [
            "INFO:tensorflow:Assets written to: /content/drive/My Drive/ECE_209_AS_project_data/USCHADmodels/DeepConvLSTMmediumUSCHAD_withmag_1/assets\n"
          ]
        },
        {
          "output_type": "stream",
          "name": "stdout",
          "text": [
            "INFO:tensorflow:Assets written to: /content/drive/My Drive/ECE_209_AS_project_data/USCHADmodels/DeepConvLSTMmediumUSCHAD_withmag_1/assets\n"
          ]
        },
        {
          "output_type": "stream",
          "name": "stderr",
          "text": [
            "INFO:tensorflow:Assets written to: /content/drive/My Drive/ECE_209_AS_project_data/USCHADmodels/DeepConvLSTMmediumUSCHAD_withmag_1/assets\n"
          ]
        },
        {
          "output_type": "stream",
          "name": "stdout",
          "text": [
            "INFO:tensorflow:Assets written to: /content/drive/My Drive/ECE_209_AS_project_data/USCHADmodels/DeepConvLSTMmediumUSCHAD_withmag_1/assets\n"
          ]
        },
        {
          "output_type": "stream",
          "name": "stderr",
          "text": [
            "INFO:tensorflow:Assets written to: /content/drive/My Drive/ECE_209_AS_project_data/USCHADmodels/DeepConvLSTMmediumUSCHAD_withmag_1/assets\n"
          ]
        },
        {
          "output_type": "stream",
          "name": "stdout",
          "text": [
            "INFO:tensorflow:Assets written to: /content/drive/My Drive/ECE_209_AS_project_data/USCHADmodels/DeepConvLSTMmediumUSCHAD_withmag_1/assets\n"
          ]
        },
        {
          "output_type": "stream",
          "name": "stderr",
          "text": [
            "INFO:tensorflow:Assets written to: /content/drive/My Drive/ECE_209_AS_project_data/USCHADmodels/DeepConvLSTMmediumUSCHAD_withmag_1/assets\n"
          ]
        },
        {
          "output_type": "stream",
          "name": "stdout",
          "text": [
            "tf.Tensor(0.9015128, shape=(), dtype=float32)\n",
            "INFO:tensorflow:Assets written to: /content/drive/My Drive/ECE_209_AS_project_data/USCHADmodels/DeepConvLSTMmediumUSCHAD_withmag_2/assets\n"
          ]
        },
        {
          "output_type": "stream",
          "name": "stderr",
          "text": [
            "INFO:tensorflow:Assets written to: /content/drive/My Drive/ECE_209_AS_project_data/USCHADmodels/DeepConvLSTMmediumUSCHAD_withmag_2/assets\n"
          ]
        },
        {
          "output_type": "stream",
          "name": "stdout",
          "text": [
            "INFO:tensorflow:Assets written to: /content/drive/My Drive/ECE_209_AS_project_data/USCHADmodels/DeepConvLSTMmediumUSCHAD_withmag_2/assets\n"
          ]
        },
        {
          "output_type": "stream",
          "name": "stderr",
          "text": [
            "INFO:tensorflow:Assets written to: /content/drive/My Drive/ECE_209_AS_project_data/USCHADmodels/DeepConvLSTMmediumUSCHAD_withmag_2/assets\n"
          ]
        },
        {
          "output_type": "stream",
          "name": "stdout",
          "text": [
            "INFO:tensorflow:Assets written to: /content/drive/My Drive/ECE_209_AS_project_data/USCHADmodels/DeepConvLSTMmediumUSCHAD_withmag_2/assets\n"
          ]
        },
        {
          "output_type": "stream",
          "name": "stderr",
          "text": [
            "INFO:tensorflow:Assets written to: /content/drive/My Drive/ECE_209_AS_project_data/USCHADmodels/DeepConvLSTMmediumUSCHAD_withmag_2/assets\n"
          ]
        },
        {
          "output_type": "stream",
          "name": "stdout",
          "text": [
            "INFO:tensorflow:Assets written to: /content/drive/My Drive/ECE_209_AS_project_data/USCHADmodels/DeepConvLSTMmediumUSCHAD_withmag_2/assets\n"
          ]
        },
        {
          "output_type": "stream",
          "name": "stderr",
          "text": [
            "INFO:tensorflow:Assets written to: /content/drive/My Drive/ECE_209_AS_project_data/USCHADmodels/DeepConvLSTMmediumUSCHAD_withmag_2/assets\n"
          ]
        },
        {
          "output_type": "stream",
          "name": "stdout",
          "text": [
            "INFO:tensorflow:Assets written to: /content/drive/My Drive/ECE_209_AS_project_data/USCHADmodels/DeepConvLSTMmediumUSCHAD_withmag_2/assets\n"
          ]
        },
        {
          "output_type": "stream",
          "name": "stderr",
          "text": [
            "INFO:tensorflow:Assets written to: /content/drive/My Drive/ECE_209_AS_project_data/USCHADmodels/DeepConvLSTMmediumUSCHAD_withmag_2/assets\n"
          ]
        },
        {
          "output_type": "stream",
          "name": "stdout",
          "text": [
            "INFO:tensorflow:Assets written to: /content/drive/My Drive/ECE_209_AS_project_data/USCHADmodels/DeepConvLSTMmediumUSCHAD_withmag_2/assets\n"
          ]
        },
        {
          "output_type": "stream",
          "name": "stderr",
          "text": [
            "INFO:tensorflow:Assets written to: /content/drive/My Drive/ECE_209_AS_project_data/USCHADmodels/DeepConvLSTMmediumUSCHAD_withmag_2/assets\n"
          ]
        },
        {
          "output_type": "stream",
          "name": "stdout",
          "text": [
            "INFO:tensorflow:Assets written to: /content/drive/My Drive/ECE_209_AS_project_data/USCHADmodels/DeepConvLSTMmediumUSCHAD_withmag_2/assets\n"
          ]
        },
        {
          "output_type": "stream",
          "name": "stderr",
          "text": [
            "INFO:tensorflow:Assets written to: /content/drive/My Drive/ECE_209_AS_project_data/USCHADmodels/DeepConvLSTMmediumUSCHAD_withmag_2/assets\n"
          ]
        },
        {
          "output_type": "stream",
          "name": "stdout",
          "text": [
            "INFO:tensorflow:Assets written to: /content/drive/My Drive/ECE_209_AS_project_data/USCHADmodels/DeepConvLSTMmediumUSCHAD_withmag_2/assets\n"
          ]
        },
        {
          "output_type": "stream",
          "name": "stderr",
          "text": [
            "INFO:tensorflow:Assets written to: /content/drive/My Drive/ECE_209_AS_project_data/USCHADmodels/DeepConvLSTMmediumUSCHAD_withmag_2/assets\n"
          ]
        },
        {
          "output_type": "stream",
          "name": "stdout",
          "text": [
            "INFO:tensorflow:Assets written to: /content/drive/My Drive/ECE_209_AS_project_data/USCHADmodels/DeepConvLSTMmediumUSCHAD_withmag_2/assets\n"
          ]
        },
        {
          "output_type": "stream",
          "name": "stderr",
          "text": [
            "INFO:tensorflow:Assets written to: /content/drive/My Drive/ECE_209_AS_project_data/USCHADmodels/DeepConvLSTMmediumUSCHAD_withmag_2/assets\n"
          ]
        },
        {
          "output_type": "stream",
          "name": "stdout",
          "text": [
            "INFO:tensorflow:Assets written to: /content/drive/My Drive/ECE_209_AS_project_data/USCHADmodels/DeepConvLSTMmediumUSCHAD_withmag_2/assets\n"
          ]
        },
        {
          "output_type": "stream",
          "name": "stderr",
          "text": [
            "INFO:tensorflow:Assets written to: /content/drive/My Drive/ECE_209_AS_project_data/USCHADmodels/DeepConvLSTMmediumUSCHAD_withmag_2/assets\n"
          ]
        },
        {
          "output_type": "stream",
          "name": "stdout",
          "text": [
            "INFO:tensorflow:Assets written to: /content/drive/My Drive/ECE_209_AS_project_data/USCHADmodels/DeepConvLSTMmediumUSCHAD_withmag_2/assets\n"
          ]
        },
        {
          "output_type": "stream",
          "name": "stderr",
          "text": [
            "INFO:tensorflow:Assets written to: /content/drive/My Drive/ECE_209_AS_project_data/USCHADmodels/DeepConvLSTMmediumUSCHAD_withmag_2/assets\n"
          ]
        },
        {
          "output_type": "stream",
          "name": "stdout",
          "text": [
            "INFO:tensorflow:Assets written to: /content/drive/My Drive/ECE_209_AS_project_data/USCHADmodels/DeepConvLSTMmediumUSCHAD_withmag_2/assets\n"
          ]
        },
        {
          "output_type": "stream",
          "name": "stderr",
          "text": [
            "INFO:tensorflow:Assets written to: /content/drive/My Drive/ECE_209_AS_project_data/USCHADmodels/DeepConvLSTMmediumUSCHAD_withmag_2/assets\n"
          ]
        },
        {
          "output_type": "stream",
          "name": "stdout",
          "text": [
            "INFO:tensorflow:Assets written to: /content/drive/My Drive/ECE_209_AS_project_data/USCHADmodels/DeepConvLSTMmediumUSCHAD_withmag_2/assets\n"
          ]
        },
        {
          "output_type": "stream",
          "name": "stderr",
          "text": [
            "INFO:tensorflow:Assets written to: /content/drive/My Drive/ECE_209_AS_project_data/USCHADmodels/DeepConvLSTMmediumUSCHAD_withmag_2/assets\n"
          ]
        },
        {
          "output_type": "stream",
          "name": "stdout",
          "text": [
            "tf.Tensor(0.8950293, shape=(), dtype=float32)\n",
            "INFO:tensorflow:Assets written to: /content/drive/My Drive/ECE_209_AS_project_data/USCHADmodels/DeepConvLSTMmediumUSCHAD_withmag_3/assets\n"
          ]
        },
        {
          "output_type": "stream",
          "name": "stderr",
          "text": [
            "INFO:tensorflow:Assets written to: /content/drive/My Drive/ECE_209_AS_project_data/USCHADmodels/DeepConvLSTMmediumUSCHAD_withmag_3/assets\n"
          ]
        },
        {
          "output_type": "stream",
          "name": "stdout",
          "text": [
            "INFO:tensorflow:Assets written to: /content/drive/My Drive/ECE_209_AS_project_data/USCHADmodels/DeepConvLSTMmediumUSCHAD_withmag_3/assets\n"
          ]
        },
        {
          "output_type": "stream",
          "name": "stderr",
          "text": [
            "INFO:tensorflow:Assets written to: /content/drive/My Drive/ECE_209_AS_project_data/USCHADmodels/DeepConvLSTMmediumUSCHAD_withmag_3/assets\n"
          ]
        },
        {
          "output_type": "stream",
          "name": "stdout",
          "text": [
            "INFO:tensorflow:Assets written to: /content/drive/My Drive/ECE_209_AS_project_data/USCHADmodels/DeepConvLSTMmediumUSCHAD_withmag_3/assets\n"
          ]
        },
        {
          "output_type": "stream",
          "name": "stderr",
          "text": [
            "INFO:tensorflow:Assets written to: /content/drive/My Drive/ECE_209_AS_project_data/USCHADmodels/DeepConvLSTMmediumUSCHAD_withmag_3/assets\n"
          ]
        },
        {
          "output_type": "stream",
          "name": "stdout",
          "text": [
            "INFO:tensorflow:Assets written to: /content/drive/My Drive/ECE_209_AS_project_data/USCHADmodels/DeepConvLSTMmediumUSCHAD_withmag_3/assets\n"
          ]
        },
        {
          "output_type": "stream",
          "name": "stderr",
          "text": [
            "INFO:tensorflow:Assets written to: /content/drive/My Drive/ECE_209_AS_project_data/USCHADmodels/DeepConvLSTMmediumUSCHAD_withmag_3/assets\n"
          ]
        },
        {
          "output_type": "stream",
          "name": "stdout",
          "text": [
            "INFO:tensorflow:Assets written to: /content/drive/My Drive/ECE_209_AS_project_data/USCHADmodels/DeepConvLSTMmediumUSCHAD_withmag_3/assets\n"
          ]
        },
        {
          "output_type": "stream",
          "name": "stderr",
          "text": [
            "INFO:tensorflow:Assets written to: /content/drive/My Drive/ECE_209_AS_project_data/USCHADmodels/DeepConvLSTMmediumUSCHAD_withmag_3/assets\n"
          ]
        },
        {
          "output_type": "stream",
          "name": "stdout",
          "text": [
            "INFO:tensorflow:Assets written to: /content/drive/My Drive/ECE_209_AS_project_data/USCHADmodels/DeepConvLSTMmediumUSCHAD_withmag_3/assets\n"
          ]
        },
        {
          "output_type": "stream",
          "name": "stderr",
          "text": [
            "INFO:tensorflow:Assets written to: /content/drive/My Drive/ECE_209_AS_project_data/USCHADmodels/DeepConvLSTMmediumUSCHAD_withmag_3/assets\n"
          ]
        },
        {
          "output_type": "stream",
          "name": "stdout",
          "text": [
            "tf.Tensor(0.90089536, shape=(), dtype=float32)\n",
            "INFO:tensorflow:Assets written to: /content/drive/My Drive/ECE_209_AS_project_data/USCHADmodels/DeepConvLSTMmediumUSCHAD_withmag_4/assets\n"
          ]
        },
        {
          "output_type": "stream",
          "name": "stderr",
          "text": [
            "INFO:tensorflow:Assets written to: /content/drive/My Drive/ECE_209_AS_project_data/USCHADmodels/DeepConvLSTMmediumUSCHAD_withmag_4/assets\n"
          ]
        },
        {
          "output_type": "stream",
          "name": "stdout",
          "text": [
            "INFO:tensorflow:Assets written to: /content/drive/My Drive/ECE_209_AS_project_data/USCHADmodels/DeepConvLSTMmediumUSCHAD_withmag_4/assets\n"
          ]
        },
        {
          "output_type": "stream",
          "name": "stderr",
          "text": [
            "INFO:tensorflow:Assets written to: /content/drive/My Drive/ECE_209_AS_project_data/USCHADmodels/DeepConvLSTMmediumUSCHAD_withmag_4/assets\n"
          ]
        },
        {
          "output_type": "stream",
          "name": "stdout",
          "text": [
            "INFO:tensorflow:Assets written to: /content/drive/My Drive/ECE_209_AS_project_data/USCHADmodels/DeepConvLSTMmediumUSCHAD_withmag_4/assets\n"
          ]
        },
        {
          "output_type": "stream",
          "name": "stderr",
          "text": [
            "INFO:tensorflow:Assets written to: /content/drive/My Drive/ECE_209_AS_project_data/USCHADmodels/DeepConvLSTMmediumUSCHAD_withmag_4/assets\n"
          ]
        },
        {
          "output_type": "stream",
          "name": "stdout",
          "text": [
            "INFO:tensorflow:Assets written to: /content/drive/My Drive/ECE_209_AS_project_data/USCHADmodels/DeepConvLSTMmediumUSCHAD_withmag_4/assets\n"
          ]
        },
        {
          "output_type": "stream",
          "name": "stderr",
          "text": [
            "INFO:tensorflow:Assets written to: /content/drive/My Drive/ECE_209_AS_project_data/USCHADmodels/DeepConvLSTMmediumUSCHAD_withmag_4/assets\n"
          ]
        },
        {
          "output_type": "stream",
          "name": "stdout",
          "text": [
            "INFO:tensorflow:Assets written to: /content/drive/My Drive/ECE_209_AS_project_data/USCHADmodels/DeepConvLSTMmediumUSCHAD_withmag_4/assets\n"
          ]
        },
        {
          "output_type": "stream",
          "name": "stderr",
          "text": [
            "INFO:tensorflow:Assets written to: /content/drive/My Drive/ECE_209_AS_project_data/USCHADmodels/DeepConvLSTMmediumUSCHAD_withmag_4/assets\n"
          ]
        },
        {
          "output_type": "stream",
          "name": "stdout",
          "text": [
            "INFO:tensorflow:Assets written to: /content/drive/My Drive/ECE_209_AS_project_data/USCHADmodels/DeepConvLSTMmediumUSCHAD_withmag_4/assets\n"
          ]
        },
        {
          "output_type": "stream",
          "name": "stderr",
          "text": [
            "INFO:tensorflow:Assets written to: /content/drive/My Drive/ECE_209_AS_project_data/USCHADmodels/DeepConvLSTMmediumUSCHAD_withmag_4/assets\n"
          ]
        },
        {
          "output_type": "stream",
          "name": "stdout",
          "text": [
            "INFO:tensorflow:Assets written to: /content/drive/My Drive/ECE_209_AS_project_data/USCHADmodels/DeepConvLSTMmediumUSCHAD_withmag_4/assets\n"
          ]
        },
        {
          "output_type": "stream",
          "name": "stderr",
          "text": [
            "INFO:tensorflow:Assets written to: /content/drive/My Drive/ECE_209_AS_project_data/USCHADmodels/DeepConvLSTMmediumUSCHAD_withmag_4/assets\n"
          ]
        },
        {
          "output_type": "stream",
          "name": "stdout",
          "text": [
            "INFO:tensorflow:Assets written to: /content/drive/My Drive/ECE_209_AS_project_data/USCHADmodels/DeepConvLSTMmediumUSCHAD_withmag_4/assets\n"
          ]
        },
        {
          "output_type": "stream",
          "name": "stderr",
          "text": [
            "INFO:tensorflow:Assets written to: /content/drive/My Drive/ECE_209_AS_project_data/USCHADmodels/DeepConvLSTMmediumUSCHAD_withmag_4/assets\n"
          ]
        },
        {
          "output_type": "stream",
          "name": "stdout",
          "text": [
            "INFO:tensorflow:Assets written to: /content/drive/My Drive/ECE_209_AS_project_data/USCHADmodels/DeepConvLSTMmediumUSCHAD_withmag_4/assets\n"
          ]
        },
        {
          "output_type": "stream",
          "name": "stderr",
          "text": [
            "INFO:tensorflow:Assets written to: /content/drive/My Drive/ECE_209_AS_project_data/USCHADmodels/DeepConvLSTMmediumUSCHAD_withmag_4/assets\n"
          ]
        },
        {
          "output_type": "stream",
          "name": "stdout",
          "text": [
            "tf.Tensor(0.9079963, shape=(), dtype=float32)\n"
          ]
        }
      ],
      "id": "xZJiAvacRVQ-"
    },
    {
      "cell_type": "code",
      "source": [
        "sum_ac = 0\n",
        "\n",
        "for ac in test_accuracies_magnify:\n",
        "\n",
        "  sum_ac += ac.numpy()\n",
        "\n",
        "print(f\"Mean accuracy is {round(sum_ac/len(test_accuracies_magnify), 2)}\")"
      ],
      "metadata": {
        "colab": {
          "base_uri": "https://localhost:8080/"
        },
        "id": "oXDDhocqRVQ_",
        "outputId": "9b31ae32-e50a-4122-fb4f-95b2d42a6030"
      },
      "execution_count": 36,
      "outputs": [
        {
          "output_type": "stream",
          "name": "stdout",
          "text": [
            "Mean accuracy is 0.9\n"
          ]
        }
      ],
      "id": "oXDDhocqRVQ_"
    },
    {
      "cell_type": "code",
      "source": [
        "mean_recall_scores_with_magnify  = sum(recall_scores_magnify)/len(recall_scores_magnify)\n",
        "\n",
        "for i in range(len(mean_recall_scores_with_magnify)):\n",
        "\n",
        "  print(f\"Label {data_class_names[i]} has mean accuracy {round(mean_recall_scores_with_magnify[i], 2)}\")"
      ],
      "metadata": {
        "colab": {
          "base_uri": "https://localhost:8080/"
        },
        "id": "YboKSuXaRVQ_",
        "outputId": "e5944d4a-d491-48bf-b7ed-8c80eca66b60"
      },
      "execution_count": 37,
      "outputs": [
        {
          "output_type": "stream",
          "name": "stdout",
          "text": [
            "Label walking forward has mean accuracy 0.95\n",
            "Label walking left has mean accuracy 0.94\n",
            "Label walking right has mean accuracy 0.94\n",
            "Label walking upstairs has mean accuracy 0.95\n",
            "Label walking downstairs has mean accuracy 0.96\n",
            "Label running forward has mean accuracy 0.97\n",
            "Label jumping has mean accuracy 0.97\n",
            "Label sitting has mean accuracy 0.96\n",
            "Label standing  has mean accuracy 0.89\n",
            "Label sleeping  has mean accuracy 1.0\n",
            "Label elevator up has mean accuracy 0.51\n",
            "Label elevator down has mean accuracy 0.47\n"
          ]
        }
      ],
      "id": "YboKSuXaRVQ_"
    },
    {
      "cell_type": "markdown",
      "source": [
        "### Resampling"
      ],
      "metadata": {
        "id": "xKBbjqYzXgDi"
      },
      "id": "xKBbjqYzXgDi"
    },
    {
      "cell_type": "code",
      "source": [
        "from sklearn.metrics import recall_score"
      ],
      "metadata": {
        "id": "pvALe8Emcwmb"
      },
      "id": "pvALe8Emcwmb",
      "execution_count": 38,
      "outputs": []
    },
    {
      "cell_type": "code",
      "source": [
        "test_accuracies_resampling = []\n",
        "recall_scores_resampling = []\n",
        "\n",
        "for i in range(5):\n",
        "\n",
        "  rnd_seed = seeds[i]\n",
        "  tf.random.set_seed(rnd_seed)\n",
        "  indices = np.random.RandomState(seed=rnd_seed).permutation(len(X_train))\n",
        "  X_train = X_train[indices]\n",
        "  Y_train = Y_train[indices]\n",
        "\n",
        "  X_train_resample = resampling((X_train), 1, 0)\n",
        "  Xtrain_tot=np.concatenate((X_train, X_train_resample))\n",
        "  Y_train_tot = np.concatenate((Y_train, Y_train))\n",
        "\n",
        "  train_data = Xtrain_tot[len(Xtrain_tot)//10:]\n",
        "  train_labels = Y_train_tot[len(Xtrain_tot)//10:]\n",
        "  val_data = Xtrain_tot[:len(Xtrain_tot)//10]\n",
        "  val_labels = Y_train_tot[:len(Xtrain_tot)//10]\n",
        "\n",
        "  model = keras.Model(inputs = inputs, outputs = outputs)\n",
        "  model.compile(loss = \"sparse_categorical_crossentropy\", optimizer = \"adam\", metrics=[\"accuracy\"])\n",
        "  tensorboard = keras.callbacks.TensorBoard(log_dir = path_to_logs)\n",
        "  callbacks = [keras.callbacks.ModelCheckpoint(filepath=path_to_models + f\"DeepConvLSTMmediumUSCHAD_withresampling_{i}\"), tensorboard, keras.callbacks.EarlyStopping(monitor='val_loss', patience=5)]\n",
        "  history = model.fit(train_data, train_labels, epochs = 100, batch_size = 64, validation_data = (val_data, val_labels), callbacks = callbacks, class_weight = data_class_weights, verbose = False)\n",
        "\n",
        "  model_saved = keras.models.load_model(path_to_models + f\"DeepConvLSTMmediumUSCHAD_withresampling_{i}\")\n",
        "  test_accuracy = tf.keras.metrics.Accuracy()\n",
        "  logits = model_saved(X_test, training=False)\n",
        "  prediction = tf.argmax(logits, axis=1, output_type=tf.int32)\n",
        "  test_accuracies_resampling.append(test_accuracy(prediction, Y_test))\n",
        "  print(test_accuracy(prediction, Y_test))\n",
        "  recall_scores_resampling.append(recall_score(Y_test, prediction, average=None))"
      ],
      "metadata": {
        "colab": {
          "base_uri": "https://localhost:8080/"
        },
        "outputId": "e73e53eb-7094-4ec1-c27a-7d0ad0e5ddd3",
        "id": "UUtilrEyXgDj"
      },
      "execution_count": 39,
      "outputs": [
        {
          "output_type": "stream",
          "name": "stdout",
          "text": [
            "INFO:tensorflow:Assets written to: /content/drive/My Drive/ECE_209_AS_project_data/USCHADmodels/DeepConvLSTMmediumUSCHAD_withresampling_0/assets\n"
          ]
        },
        {
          "output_type": "stream",
          "name": "stderr",
          "text": [
            "INFO:tensorflow:Assets written to: /content/drive/My Drive/ECE_209_AS_project_data/USCHADmodels/DeepConvLSTMmediumUSCHAD_withresampling_0/assets\n"
          ]
        },
        {
          "output_type": "stream",
          "name": "stdout",
          "text": [
            "INFO:tensorflow:Assets written to: /content/drive/My Drive/ECE_209_AS_project_data/USCHADmodels/DeepConvLSTMmediumUSCHAD_withresampling_0/assets\n"
          ]
        },
        {
          "output_type": "stream",
          "name": "stderr",
          "text": [
            "INFO:tensorflow:Assets written to: /content/drive/My Drive/ECE_209_AS_project_data/USCHADmodels/DeepConvLSTMmediumUSCHAD_withresampling_0/assets\n"
          ]
        },
        {
          "output_type": "stream",
          "name": "stdout",
          "text": [
            "INFO:tensorflow:Assets written to: /content/drive/My Drive/ECE_209_AS_project_data/USCHADmodels/DeepConvLSTMmediumUSCHAD_withresampling_0/assets\n"
          ]
        },
        {
          "output_type": "stream",
          "name": "stderr",
          "text": [
            "INFO:tensorflow:Assets written to: /content/drive/My Drive/ECE_209_AS_project_data/USCHADmodels/DeepConvLSTMmediumUSCHAD_withresampling_0/assets\n"
          ]
        },
        {
          "output_type": "stream",
          "name": "stdout",
          "text": [
            "INFO:tensorflow:Assets written to: /content/drive/My Drive/ECE_209_AS_project_data/USCHADmodels/DeepConvLSTMmediumUSCHAD_withresampling_0/assets\n"
          ]
        },
        {
          "output_type": "stream",
          "name": "stderr",
          "text": [
            "INFO:tensorflow:Assets written to: /content/drive/My Drive/ECE_209_AS_project_data/USCHADmodels/DeepConvLSTMmediumUSCHAD_withresampling_0/assets\n"
          ]
        },
        {
          "output_type": "stream",
          "name": "stdout",
          "text": [
            "INFO:tensorflow:Assets written to: /content/drive/My Drive/ECE_209_AS_project_data/USCHADmodels/DeepConvLSTMmediumUSCHAD_withresampling_0/assets\n"
          ]
        },
        {
          "output_type": "stream",
          "name": "stderr",
          "text": [
            "INFO:tensorflow:Assets written to: /content/drive/My Drive/ECE_209_AS_project_data/USCHADmodels/DeepConvLSTMmediumUSCHAD_withresampling_0/assets\n"
          ]
        },
        {
          "output_type": "stream",
          "name": "stdout",
          "text": [
            "INFO:tensorflow:Assets written to: /content/drive/My Drive/ECE_209_AS_project_data/USCHADmodels/DeepConvLSTMmediumUSCHAD_withresampling_0/assets\n"
          ]
        },
        {
          "output_type": "stream",
          "name": "stderr",
          "text": [
            "INFO:tensorflow:Assets written to: /content/drive/My Drive/ECE_209_AS_project_data/USCHADmodels/DeepConvLSTMmediumUSCHAD_withresampling_0/assets\n"
          ]
        },
        {
          "output_type": "stream",
          "name": "stdout",
          "text": [
            "INFO:tensorflow:Assets written to: /content/drive/My Drive/ECE_209_AS_project_data/USCHADmodels/DeepConvLSTMmediumUSCHAD_withresampling_0/assets\n"
          ]
        },
        {
          "output_type": "stream",
          "name": "stderr",
          "text": [
            "INFO:tensorflow:Assets written to: /content/drive/My Drive/ECE_209_AS_project_data/USCHADmodels/DeepConvLSTMmediumUSCHAD_withresampling_0/assets\n"
          ]
        },
        {
          "output_type": "stream",
          "name": "stdout",
          "text": [
            "INFO:tensorflow:Assets written to: /content/drive/My Drive/ECE_209_AS_project_data/USCHADmodels/DeepConvLSTMmediumUSCHAD_withresampling_0/assets\n"
          ]
        },
        {
          "output_type": "stream",
          "name": "stderr",
          "text": [
            "INFO:tensorflow:Assets written to: /content/drive/My Drive/ECE_209_AS_project_data/USCHADmodels/DeepConvLSTMmediumUSCHAD_withresampling_0/assets\n"
          ]
        },
        {
          "output_type": "stream",
          "name": "stdout",
          "text": [
            "INFO:tensorflow:Assets written to: /content/drive/My Drive/ECE_209_AS_project_data/USCHADmodels/DeepConvLSTMmediumUSCHAD_withresampling_0/assets\n"
          ]
        },
        {
          "output_type": "stream",
          "name": "stderr",
          "text": [
            "INFO:tensorflow:Assets written to: /content/drive/My Drive/ECE_209_AS_project_data/USCHADmodels/DeepConvLSTMmediumUSCHAD_withresampling_0/assets\n"
          ]
        },
        {
          "output_type": "stream",
          "name": "stdout",
          "text": [
            "INFO:tensorflow:Assets written to: /content/drive/My Drive/ECE_209_AS_project_data/USCHADmodels/DeepConvLSTMmediumUSCHAD_withresampling_0/assets\n"
          ]
        },
        {
          "output_type": "stream",
          "name": "stderr",
          "text": [
            "INFO:tensorflow:Assets written to: /content/drive/My Drive/ECE_209_AS_project_data/USCHADmodels/DeepConvLSTMmediumUSCHAD_withresampling_0/assets\n"
          ]
        },
        {
          "output_type": "stream",
          "name": "stdout",
          "text": [
            "INFO:tensorflow:Assets written to: /content/drive/My Drive/ECE_209_AS_project_data/USCHADmodels/DeepConvLSTMmediumUSCHAD_withresampling_0/assets\n"
          ]
        },
        {
          "output_type": "stream",
          "name": "stderr",
          "text": [
            "INFO:tensorflow:Assets written to: /content/drive/My Drive/ECE_209_AS_project_data/USCHADmodels/DeepConvLSTMmediumUSCHAD_withresampling_0/assets\n"
          ]
        },
        {
          "output_type": "stream",
          "name": "stdout",
          "text": [
            "INFO:tensorflow:Assets written to: /content/drive/My Drive/ECE_209_AS_project_data/USCHADmodels/DeepConvLSTMmediumUSCHAD_withresampling_0/assets\n"
          ]
        },
        {
          "output_type": "stream",
          "name": "stderr",
          "text": [
            "INFO:tensorflow:Assets written to: /content/drive/My Drive/ECE_209_AS_project_data/USCHADmodels/DeepConvLSTMmediumUSCHAD_withresampling_0/assets\n"
          ]
        },
        {
          "output_type": "stream",
          "name": "stdout",
          "text": [
            "tf.Tensor(0.9022847, shape=(), dtype=float32)\n",
            "INFO:tensorflow:Assets written to: /content/drive/My Drive/ECE_209_AS_project_data/USCHADmodels/DeepConvLSTMmediumUSCHAD_withresampling_1/assets\n"
          ]
        },
        {
          "output_type": "stream",
          "name": "stderr",
          "text": [
            "INFO:tensorflow:Assets written to: /content/drive/My Drive/ECE_209_AS_project_data/USCHADmodels/DeepConvLSTMmediumUSCHAD_withresampling_1/assets\n"
          ]
        },
        {
          "output_type": "stream",
          "name": "stdout",
          "text": [
            "INFO:tensorflow:Assets written to: /content/drive/My Drive/ECE_209_AS_project_data/USCHADmodels/DeepConvLSTMmediumUSCHAD_withresampling_1/assets\n"
          ]
        },
        {
          "output_type": "stream",
          "name": "stderr",
          "text": [
            "INFO:tensorflow:Assets written to: /content/drive/My Drive/ECE_209_AS_project_data/USCHADmodels/DeepConvLSTMmediumUSCHAD_withresampling_1/assets\n"
          ]
        },
        {
          "output_type": "stream",
          "name": "stdout",
          "text": [
            "INFO:tensorflow:Assets written to: /content/drive/My Drive/ECE_209_AS_project_data/USCHADmodels/DeepConvLSTMmediumUSCHAD_withresampling_1/assets\n"
          ]
        },
        {
          "output_type": "stream",
          "name": "stderr",
          "text": [
            "INFO:tensorflow:Assets written to: /content/drive/My Drive/ECE_209_AS_project_data/USCHADmodels/DeepConvLSTMmediumUSCHAD_withresampling_1/assets\n"
          ]
        },
        {
          "output_type": "stream",
          "name": "stdout",
          "text": [
            "INFO:tensorflow:Assets written to: /content/drive/My Drive/ECE_209_AS_project_data/USCHADmodels/DeepConvLSTMmediumUSCHAD_withresampling_1/assets\n"
          ]
        },
        {
          "output_type": "stream",
          "name": "stderr",
          "text": [
            "INFO:tensorflow:Assets written to: /content/drive/My Drive/ECE_209_AS_project_data/USCHADmodels/DeepConvLSTMmediumUSCHAD_withresampling_1/assets\n"
          ]
        },
        {
          "output_type": "stream",
          "name": "stdout",
          "text": [
            "INFO:tensorflow:Assets written to: /content/drive/My Drive/ECE_209_AS_project_data/USCHADmodels/DeepConvLSTMmediumUSCHAD_withresampling_1/assets\n"
          ]
        },
        {
          "output_type": "stream",
          "name": "stderr",
          "text": [
            "INFO:tensorflow:Assets written to: /content/drive/My Drive/ECE_209_AS_project_data/USCHADmodels/DeepConvLSTMmediumUSCHAD_withresampling_1/assets\n"
          ]
        },
        {
          "output_type": "stream",
          "name": "stdout",
          "text": [
            "INFO:tensorflow:Assets written to: /content/drive/My Drive/ECE_209_AS_project_data/USCHADmodels/DeepConvLSTMmediumUSCHAD_withresampling_1/assets\n"
          ]
        },
        {
          "output_type": "stream",
          "name": "stderr",
          "text": [
            "INFO:tensorflow:Assets written to: /content/drive/My Drive/ECE_209_AS_project_data/USCHADmodels/DeepConvLSTMmediumUSCHAD_withresampling_1/assets\n"
          ]
        },
        {
          "output_type": "stream",
          "name": "stdout",
          "text": [
            "INFO:tensorflow:Assets written to: /content/drive/My Drive/ECE_209_AS_project_data/USCHADmodels/DeepConvLSTMmediumUSCHAD_withresampling_1/assets\n"
          ]
        },
        {
          "output_type": "stream",
          "name": "stderr",
          "text": [
            "INFO:tensorflow:Assets written to: /content/drive/My Drive/ECE_209_AS_project_data/USCHADmodels/DeepConvLSTMmediumUSCHAD_withresampling_1/assets\n"
          ]
        },
        {
          "output_type": "stream",
          "name": "stdout",
          "text": [
            "tf.Tensor(0.90521765, shape=(), dtype=float32)\n",
            "INFO:tensorflow:Assets written to: /content/drive/My Drive/ECE_209_AS_project_data/USCHADmodels/DeepConvLSTMmediumUSCHAD_withresampling_2/assets\n"
          ]
        },
        {
          "output_type": "stream",
          "name": "stderr",
          "text": [
            "INFO:tensorflow:Assets written to: /content/drive/My Drive/ECE_209_AS_project_data/USCHADmodels/DeepConvLSTMmediumUSCHAD_withresampling_2/assets\n"
          ]
        },
        {
          "output_type": "stream",
          "name": "stdout",
          "text": [
            "INFO:tensorflow:Assets written to: /content/drive/My Drive/ECE_209_AS_project_data/USCHADmodels/DeepConvLSTMmediumUSCHAD_withresampling_2/assets\n"
          ]
        },
        {
          "output_type": "stream",
          "name": "stderr",
          "text": [
            "INFO:tensorflow:Assets written to: /content/drive/My Drive/ECE_209_AS_project_data/USCHADmodels/DeepConvLSTMmediumUSCHAD_withresampling_2/assets\n"
          ]
        },
        {
          "output_type": "stream",
          "name": "stdout",
          "text": [
            "INFO:tensorflow:Assets written to: /content/drive/My Drive/ECE_209_AS_project_data/USCHADmodels/DeepConvLSTMmediumUSCHAD_withresampling_2/assets\n"
          ]
        },
        {
          "output_type": "stream",
          "name": "stderr",
          "text": [
            "INFO:tensorflow:Assets written to: /content/drive/My Drive/ECE_209_AS_project_data/USCHADmodels/DeepConvLSTMmediumUSCHAD_withresampling_2/assets\n"
          ]
        },
        {
          "output_type": "stream",
          "name": "stdout",
          "text": [
            "INFO:tensorflow:Assets written to: /content/drive/My Drive/ECE_209_AS_project_data/USCHADmodels/DeepConvLSTMmediumUSCHAD_withresampling_2/assets\n"
          ]
        },
        {
          "output_type": "stream",
          "name": "stderr",
          "text": [
            "INFO:tensorflow:Assets written to: /content/drive/My Drive/ECE_209_AS_project_data/USCHADmodels/DeepConvLSTMmediumUSCHAD_withresampling_2/assets\n"
          ]
        },
        {
          "output_type": "stream",
          "name": "stdout",
          "text": [
            "INFO:tensorflow:Assets written to: /content/drive/My Drive/ECE_209_AS_project_data/USCHADmodels/DeepConvLSTMmediumUSCHAD_withresampling_2/assets\n"
          ]
        },
        {
          "output_type": "stream",
          "name": "stderr",
          "text": [
            "INFO:tensorflow:Assets written to: /content/drive/My Drive/ECE_209_AS_project_data/USCHADmodels/DeepConvLSTMmediumUSCHAD_withresampling_2/assets\n"
          ]
        },
        {
          "output_type": "stream",
          "name": "stdout",
          "text": [
            "INFO:tensorflow:Assets written to: /content/drive/My Drive/ECE_209_AS_project_data/USCHADmodels/DeepConvLSTMmediumUSCHAD_withresampling_2/assets\n"
          ]
        },
        {
          "output_type": "stream",
          "name": "stderr",
          "text": [
            "INFO:tensorflow:Assets written to: /content/drive/My Drive/ECE_209_AS_project_data/USCHADmodels/DeepConvLSTMmediumUSCHAD_withresampling_2/assets\n"
          ]
        },
        {
          "output_type": "stream",
          "name": "stdout",
          "text": [
            "INFO:tensorflow:Assets written to: /content/drive/My Drive/ECE_209_AS_project_data/USCHADmodels/DeepConvLSTMmediumUSCHAD_withresampling_2/assets\n"
          ]
        },
        {
          "output_type": "stream",
          "name": "stderr",
          "text": [
            "INFO:tensorflow:Assets written to: /content/drive/My Drive/ECE_209_AS_project_data/USCHADmodels/DeepConvLSTMmediumUSCHAD_withresampling_2/assets\n"
          ]
        },
        {
          "output_type": "stream",
          "name": "stdout",
          "text": [
            "tf.Tensor(0.9015128, shape=(), dtype=float32)\n",
            "INFO:tensorflow:Assets written to: /content/drive/My Drive/ECE_209_AS_project_data/USCHADmodels/DeepConvLSTMmediumUSCHAD_withresampling_3/assets\n"
          ]
        },
        {
          "output_type": "stream",
          "name": "stderr",
          "text": [
            "INFO:tensorflow:Assets written to: /content/drive/My Drive/ECE_209_AS_project_data/USCHADmodels/DeepConvLSTMmediumUSCHAD_withresampling_3/assets\n"
          ]
        },
        {
          "output_type": "stream",
          "name": "stdout",
          "text": [
            "INFO:tensorflow:Assets written to: /content/drive/My Drive/ECE_209_AS_project_data/USCHADmodels/DeepConvLSTMmediumUSCHAD_withresampling_3/assets\n"
          ]
        },
        {
          "output_type": "stream",
          "name": "stderr",
          "text": [
            "INFO:tensorflow:Assets written to: /content/drive/My Drive/ECE_209_AS_project_data/USCHADmodels/DeepConvLSTMmediumUSCHAD_withresampling_3/assets\n"
          ]
        },
        {
          "output_type": "stream",
          "name": "stdout",
          "text": [
            "INFO:tensorflow:Assets written to: /content/drive/My Drive/ECE_209_AS_project_data/USCHADmodels/DeepConvLSTMmediumUSCHAD_withresampling_3/assets\n"
          ]
        },
        {
          "output_type": "stream",
          "name": "stderr",
          "text": [
            "INFO:tensorflow:Assets written to: /content/drive/My Drive/ECE_209_AS_project_data/USCHADmodels/DeepConvLSTMmediumUSCHAD_withresampling_3/assets\n"
          ]
        },
        {
          "output_type": "stream",
          "name": "stdout",
          "text": [
            "INFO:tensorflow:Assets written to: /content/drive/My Drive/ECE_209_AS_project_data/USCHADmodels/DeepConvLSTMmediumUSCHAD_withresampling_3/assets\n"
          ]
        },
        {
          "output_type": "stream",
          "name": "stderr",
          "text": [
            "INFO:tensorflow:Assets written to: /content/drive/My Drive/ECE_209_AS_project_data/USCHADmodels/DeepConvLSTMmediumUSCHAD_withresampling_3/assets\n"
          ]
        },
        {
          "output_type": "stream",
          "name": "stdout",
          "text": [
            "INFO:tensorflow:Assets written to: /content/drive/My Drive/ECE_209_AS_project_data/USCHADmodels/DeepConvLSTMmediumUSCHAD_withresampling_3/assets\n"
          ]
        },
        {
          "output_type": "stream",
          "name": "stderr",
          "text": [
            "INFO:tensorflow:Assets written to: /content/drive/My Drive/ECE_209_AS_project_data/USCHADmodels/DeepConvLSTMmediumUSCHAD_withresampling_3/assets\n"
          ]
        },
        {
          "output_type": "stream",
          "name": "stdout",
          "text": [
            "INFO:tensorflow:Assets written to: /content/drive/My Drive/ECE_209_AS_project_data/USCHADmodels/DeepConvLSTMmediumUSCHAD_withresampling_3/assets\n"
          ]
        },
        {
          "output_type": "stream",
          "name": "stderr",
          "text": [
            "INFO:tensorflow:Assets written to: /content/drive/My Drive/ECE_209_AS_project_data/USCHADmodels/DeepConvLSTMmediumUSCHAD_withresampling_3/assets\n"
          ]
        },
        {
          "output_type": "stream",
          "name": "stdout",
          "text": [
            "tf.Tensor(0.9109293, shape=(), dtype=float32)\n",
            "INFO:tensorflow:Assets written to: /content/drive/My Drive/ECE_209_AS_project_data/USCHADmodels/DeepConvLSTMmediumUSCHAD_withresampling_4/assets\n"
          ]
        },
        {
          "output_type": "stream",
          "name": "stderr",
          "text": [
            "INFO:tensorflow:Assets written to: /content/drive/My Drive/ECE_209_AS_project_data/USCHADmodels/DeepConvLSTMmediumUSCHAD_withresampling_4/assets\n"
          ]
        },
        {
          "output_type": "stream",
          "name": "stdout",
          "text": [
            "INFO:tensorflow:Assets written to: /content/drive/My Drive/ECE_209_AS_project_data/USCHADmodels/DeepConvLSTMmediumUSCHAD_withresampling_4/assets\n"
          ]
        },
        {
          "output_type": "stream",
          "name": "stderr",
          "text": [
            "INFO:tensorflow:Assets written to: /content/drive/My Drive/ECE_209_AS_project_data/USCHADmodels/DeepConvLSTMmediumUSCHAD_withresampling_4/assets\n"
          ]
        },
        {
          "output_type": "stream",
          "name": "stdout",
          "text": [
            "INFO:tensorflow:Assets written to: /content/drive/My Drive/ECE_209_AS_project_data/USCHADmodels/DeepConvLSTMmediumUSCHAD_withresampling_4/assets\n"
          ]
        },
        {
          "output_type": "stream",
          "name": "stderr",
          "text": [
            "INFO:tensorflow:Assets written to: /content/drive/My Drive/ECE_209_AS_project_data/USCHADmodels/DeepConvLSTMmediumUSCHAD_withresampling_4/assets\n"
          ]
        },
        {
          "output_type": "stream",
          "name": "stdout",
          "text": [
            "INFO:tensorflow:Assets written to: /content/drive/My Drive/ECE_209_AS_project_data/USCHADmodels/DeepConvLSTMmediumUSCHAD_withresampling_4/assets\n"
          ]
        },
        {
          "output_type": "stream",
          "name": "stderr",
          "text": [
            "INFO:tensorflow:Assets written to: /content/drive/My Drive/ECE_209_AS_project_data/USCHADmodels/DeepConvLSTMmediumUSCHAD_withresampling_4/assets\n"
          ]
        },
        {
          "output_type": "stream",
          "name": "stdout",
          "text": [
            "INFO:tensorflow:Assets written to: /content/drive/My Drive/ECE_209_AS_project_data/USCHADmodels/DeepConvLSTMmediumUSCHAD_withresampling_4/assets\n"
          ]
        },
        {
          "output_type": "stream",
          "name": "stderr",
          "text": [
            "INFO:tensorflow:Assets written to: /content/drive/My Drive/ECE_209_AS_project_data/USCHADmodels/DeepConvLSTMmediumUSCHAD_withresampling_4/assets\n"
          ]
        },
        {
          "output_type": "stream",
          "name": "stdout",
          "text": [
            "INFO:tensorflow:Assets written to: /content/drive/My Drive/ECE_209_AS_project_data/USCHADmodels/DeepConvLSTMmediumUSCHAD_withresampling_4/assets\n"
          ]
        },
        {
          "output_type": "stream",
          "name": "stderr",
          "text": [
            "INFO:tensorflow:Assets written to: /content/drive/My Drive/ECE_209_AS_project_data/USCHADmodels/DeepConvLSTMmediumUSCHAD_withresampling_4/assets\n"
          ]
        },
        {
          "output_type": "stream",
          "name": "stdout",
          "text": [
            "tf.Tensor(0.90861374, shape=(), dtype=float32)\n"
          ]
        }
      ],
      "id": "UUtilrEyXgDj"
    },
    {
      "cell_type": "code",
      "source": [
        "sum_ac = 0\n",
        "\n",
        "for ac in test_accuracies_resampling:\n",
        "\n",
        "  sum_ac += ac.numpy()\n",
        "\n",
        "print(f\"Mean accuracy is {round(sum_ac/len(test_accuracies_resampling), 2)}\")"
      ],
      "metadata": {
        "colab": {
          "base_uri": "https://localhost:8080/"
        },
        "outputId": "51e4b54e-10e1-4ffb-b0b0-dc3790ffde99",
        "id": "Od6AICaYXgDj"
      },
      "execution_count": 40,
      "outputs": [
        {
          "output_type": "stream",
          "name": "stdout",
          "text": [
            "Mean accuracy is 0.91\n"
          ]
        }
      ],
      "id": "Od6AICaYXgDj"
    },
    {
      "cell_type": "code",
      "source": [
        "mean_recall_scores_with_resampling  = sum(recall_scores_resampling)/len(recall_scores_resampling)\n",
        "\n",
        "for i in range(len(mean_recall_scores_with_resampling)):\n",
        "\n",
        "  print(f\"Label {data_class_names[i]} has mean accuracy {round(mean_recall_scores_with_resampling[i], 2)}\")"
      ],
      "metadata": {
        "colab": {
          "base_uri": "https://localhost:8080/"
        },
        "outputId": "14cdb234-ec98-4485-ba9f-4a594c82c033",
        "id": "gWdlo5-0XgDj"
      },
      "execution_count": 41,
      "outputs": [
        {
          "output_type": "stream",
          "name": "stdout",
          "text": [
            "Label walking forward has mean accuracy 0.96\n",
            "Label walking left has mean accuracy 0.94\n",
            "Label walking right has mean accuracy 0.95\n",
            "Label walking upstairs has mean accuracy 0.96\n",
            "Label walking downstairs has mean accuracy 0.96\n",
            "Label running forward has mean accuracy 0.97\n",
            "Label jumping has mean accuracy 0.96\n",
            "Label sitting has mean accuracy 0.96\n",
            "Label standing  has mean accuracy 0.88\n",
            "Label sleeping  has mean accuracy 1.0\n",
            "Label elevator up has mean accuracy 0.53\n",
            "Label elevator down has mean accuracy 0.47\n"
          ]
        }
      ],
      "id": "gWdlo5-0XgDj"
    },
    {
      "cell_type": "markdown",
      "source": [
        "### Noise "
      ],
      "metadata": {
        "id": "UUv5V3qmdHiK"
      },
      "id": "UUv5V3qmdHiK"
    },
    {
      "cell_type": "code",
      "source": [
        "test_accuracies_noise = []\n",
        "recall_scores_noise = []\n",
        "\n",
        "for i in range(5):\n",
        "\n",
        "  rnd_seed = seeds[i]\n",
        "  tf.random.set_seed(rnd_seed)\n",
        "  indices = np.random.RandomState(seed=rnd_seed).permutation(len(X_train))\n",
        "  X_train = X_train[indices]\n",
        "  Y_train = Y_train[indices]\n",
        "\n",
        "  X_train_noise = noise((X_train))\n",
        "  Xtrain_tot=np.concatenate((X_train, X_train_noise))\n",
        "  Y_train_tot = np.concatenate((Y_train, Y_train))\n",
        "\n",
        "  train_data = Xtrain_tot[len(Xtrain_tot)//10:]\n",
        "  train_labels = Y_train_tot[len(Xtrain_tot)//10:]\n",
        "  val_data = Xtrain_tot[:len(Xtrain_tot)//10]\n",
        "  val_labels = Y_train_tot[:len(Xtrain_tot)//10]\n",
        "\n",
        "  model = keras.Model(inputs = inputs, outputs = outputs)\n",
        "  model.compile(loss = \"sparse_categorical_crossentropy\", optimizer = \"adam\", metrics=[\"accuracy\"])\n",
        "  tensorboard = keras.callbacks.TensorBoard(log_dir = path_to_logs)\n",
        "  callbacks = [keras.callbacks.ModelCheckpoint(filepath=path_to_models + f\"DeepConvLSTMmediumUSCHAD_withnoise_{i}\"), tensorboard, keras.callbacks.EarlyStopping(monitor='val_loss', patience=5)]\n",
        "  history = model.fit(train_data, train_labels, epochs = 100, batch_size = 64, validation_data = (val_data, val_labels), callbacks = callbacks, class_weight = data_class_weights, verbose = False)\n",
        "\n",
        "  model_saved = keras.models.load_model(path_to_models + f\"DeepConvLSTMmediumUSCHAD_withnoise_{i}\")\n",
        "  test_accuracy = tf.keras.metrics.Accuracy()\n",
        "  logits = model_saved(X_test, training=False)\n",
        "  prediction = tf.argmax(logits, axis=1, output_type=tf.int32)\n",
        "  test_accuracies_noise.append(test_accuracy(prediction, Y_test))\n",
        "  print(test_accuracy(prediction, Y_test))\n",
        "  recall_scores_noise.append(recall_score(Y_test, prediction, average=None))"
      ],
      "metadata": {
        "colab": {
          "base_uri": "https://localhost:8080/"
        },
        "outputId": "16701cc4-023c-4e56-a9f9-36d5efc715e9",
        "id": "njf8OupEdHiL"
      },
      "execution_count": 42,
      "outputs": [
        {
          "output_type": "stream",
          "name": "stdout",
          "text": [
            "INFO:tensorflow:Assets written to: /content/drive/My Drive/ECE_209_AS_project_data/USCHADmodels/DeepConvLSTMmediumUSCHAD_withnoise_0/assets\n"
          ]
        },
        {
          "output_type": "stream",
          "name": "stderr",
          "text": [
            "INFO:tensorflow:Assets written to: /content/drive/My Drive/ECE_209_AS_project_data/USCHADmodels/DeepConvLSTMmediumUSCHAD_withnoise_0/assets\n"
          ]
        },
        {
          "output_type": "stream",
          "name": "stdout",
          "text": [
            "INFO:tensorflow:Assets written to: /content/drive/My Drive/ECE_209_AS_project_data/USCHADmodels/DeepConvLSTMmediumUSCHAD_withnoise_0/assets\n"
          ]
        },
        {
          "output_type": "stream",
          "name": "stderr",
          "text": [
            "INFO:tensorflow:Assets written to: /content/drive/My Drive/ECE_209_AS_project_data/USCHADmodels/DeepConvLSTMmediumUSCHAD_withnoise_0/assets\n"
          ]
        },
        {
          "output_type": "stream",
          "name": "stdout",
          "text": [
            "INFO:tensorflow:Assets written to: /content/drive/My Drive/ECE_209_AS_project_data/USCHADmodels/DeepConvLSTMmediumUSCHAD_withnoise_0/assets\n"
          ]
        },
        {
          "output_type": "stream",
          "name": "stderr",
          "text": [
            "INFO:tensorflow:Assets written to: /content/drive/My Drive/ECE_209_AS_project_data/USCHADmodels/DeepConvLSTMmediumUSCHAD_withnoise_0/assets\n"
          ]
        },
        {
          "output_type": "stream",
          "name": "stdout",
          "text": [
            "INFO:tensorflow:Assets written to: /content/drive/My Drive/ECE_209_AS_project_data/USCHADmodels/DeepConvLSTMmediumUSCHAD_withnoise_0/assets\n"
          ]
        },
        {
          "output_type": "stream",
          "name": "stderr",
          "text": [
            "INFO:tensorflow:Assets written to: /content/drive/My Drive/ECE_209_AS_project_data/USCHADmodels/DeepConvLSTMmediumUSCHAD_withnoise_0/assets\n"
          ]
        },
        {
          "output_type": "stream",
          "name": "stdout",
          "text": [
            "INFO:tensorflow:Assets written to: /content/drive/My Drive/ECE_209_AS_project_data/USCHADmodels/DeepConvLSTMmediumUSCHAD_withnoise_0/assets\n"
          ]
        },
        {
          "output_type": "stream",
          "name": "stderr",
          "text": [
            "INFO:tensorflow:Assets written to: /content/drive/My Drive/ECE_209_AS_project_data/USCHADmodels/DeepConvLSTMmediumUSCHAD_withnoise_0/assets\n"
          ]
        },
        {
          "output_type": "stream",
          "name": "stdout",
          "text": [
            "INFO:tensorflow:Assets written to: /content/drive/My Drive/ECE_209_AS_project_data/USCHADmodels/DeepConvLSTMmediumUSCHAD_withnoise_0/assets\n"
          ]
        },
        {
          "output_type": "stream",
          "name": "stderr",
          "text": [
            "INFO:tensorflow:Assets written to: /content/drive/My Drive/ECE_209_AS_project_data/USCHADmodels/DeepConvLSTMmediumUSCHAD_withnoise_0/assets\n"
          ]
        },
        {
          "output_type": "stream",
          "name": "stdout",
          "text": [
            "INFO:tensorflow:Assets written to: /content/drive/My Drive/ECE_209_AS_project_data/USCHADmodels/DeepConvLSTMmediumUSCHAD_withnoise_0/assets\n"
          ]
        },
        {
          "output_type": "stream",
          "name": "stderr",
          "text": [
            "INFO:tensorflow:Assets written to: /content/drive/My Drive/ECE_209_AS_project_data/USCHADmodels/DeepConvLSTMmediumUSCHAD_withnoise_0/assets\n"
          ]
        },
        {
          "output_type": "stream",
          "name": "stdout",
          "text": [
            "tf.Tensor(0.90429145, shape=(), dtype=float32)\n",
            "INFO:tensorflow:Assets written to: /content/drive/My Drive/ECE_209_AS_project_data/USCHADmodels/DeepConvLSTMmediumUSCHAD_withnoise_1/assets\n"
          ]
        },
        {
          "output_type": "stream",
          "name": "stderr",
          "text": [
            "INFO:tensorflow:Assets written to: /content/drive/My Drive/ECE_209_AS_project_data/USCHADmodels/DeepConvLSTMmediumUSCHAD_withnoise_1/assets\n"
          ]
        },
        {
          "output_type": "stream",
          "name": "stdout",
          "text": [
            "INFO:tensorflow:Assets written to: /content/drive/My Drive/ECE_209_AS_project_data/USCHADmodels/DeepConvLSTMmediumUSCHAD_withnoise_1/assets\n"
          ]
        },
        {
          "output_type": "stream",
          "name": "stderr",
          "text": [
            "INFO:tensorflow:Assets written to: /content/drive/My Drive/ECE_209_AS_project_data/USCHADmodels/DeepConvLSTMmediumUSCHAD_withnoise_1/assets\n"
          ]
        },
        {
          "output_type": "stream",
          "name": "stdout",
          "text": [
            "INFO:tensorflow:Assets written to: /content/drive/My Drive/ECE_209_AS_project_data/USCHADmodels/DeepConvLSTMmediumUSCHAD_withnoise_1/assets\n"
          ]
        },
        {
          "output_type": "stream",
          "name": "stderr",
          "text": [
            "INFO:tensorflow:Assets written to: /content/drive/My Drive/ECE_209_AS_project_data/USCHADmodels/DeepConvLSTMmediumUSCHAD_withnoise_1/assets\n"
          ]
        },
        {
          "output_type": "stream",
          "name": "stdout",
          "text": [
            "INFO:tensorflow:Assets written to: /content/drive/My Drive/ECE_209_AS_project_data/USCHADmodels/DeepConvLSTMmediumUSCHAD_withnoise_1/assets\n"
          ]
        },
        {
          "output_type": "stream",
          "name": "stderr",
          "text": [
            "INFO:tensorflow:Assets written to: /content/drive/My Drive/ECE_209_AS_project_data/USCHADmodels/DeepConvLSTMmediumUSCHAD_withnoise_1/assets\n"
          ]
        },
        {
          "output_type": "stream",
          "name": "stdout",
          "text": [
            "INFO:tensorflow:Assets written to: /content/drive/My Drive/ECE_209_AS_project_data/USCHADmodels/DeepConvLSTMmediumUSCHAD_withnoise_1/assets\n"
          ]
        },
        {
          "output_type": "stream",
          "name": "stderr",
          "text": [
            "INFO:tensorflow:Assets written to: /content/drive/My Drive/ECE_209_AS_project_data/USCHADmodels/DeepConvLSTMmediumUSCHAD_withnoise_1/assets\n"
          ]
        },
        {
          "output_type": "stream",
          "name": "stdout",
          "text": [
            "INFO:tensorflow:Assets written to: /content/drive/My Drive/ECE_209_AS_project_data/USCHADmodels/DeepConvLSTMmediumUSCHAD_withnoise_1/assets\n"
          ]
        },
        {
          "output_type": "stream",
          "name": "stderr",
          "text": [
            "INFO:tensorflow:Assets written to: /content/drive/My Drive/ECE_209_AS_project_data/USCHADmodels/DeepConvLSTMmediumUSCHAD_withnoise_1/assets\n"
          ]
        },
        {
          "output_type": "stream",
          "name": "stdout",
          "text": [
            "tf.Tensor(0.9072245, shape=(), dtype=float32)\n",
            "INFO:tensorflow:Assets written to: /content/drive/My Drive/ECE_209_AS_project_data/USCHADmodels/DeepConvLSTMmediumUSCHAD_withnoise_2/assets\n"
          ]
        },
        {
          "output_type": "stream",
          "name": "stderr",
          "text": [
            "INFO:tensorflow:Assets written to: /content/drive/My Drive/ECE_209_AS_project_data/USCHADmodels/DeepConvLSTMmediumUSCHAD_withnoise_2/assets\n"
          ]
        },
        {
          "output_type": "stream",
          "name": "stdout",
          "text": [
            "INFO:tensorflow:Assets written to: /content/drive/My Drive/ECE_209_AS_project_data/USCHADmodels/DeepConvLSTMmediumUSCHAD_withnoise_2/assets\n"
          ]
        },
        {
          "output_type": "stream",
          "name": "stderr",
          "text": [
            "INFO:tensorflow:Assets written to: /content/drive/My Drive/ECE_209_AS_project_data/USCHADmodels/DeepConvLSTMmediumUSCHAD_withnoise_2/assets\n"
          ]
        },
        {
          "output_type": "stream",
          "name": "stdout",
          "text": [
            "INFO:tensorflow:Assets written to: /content/drive/My Drive/ECE_209_AS_project_data/USCHADmodels/DeepConvLSTMmediumUSCHAD_withnoise_2/assets\n"
          ]
        },
        {
          "output_type": "stream",
          "name": "stderr",
          "text": [
            "INFO:tensorflow:Assets written to: /content/drive/My Drive/ECE_209_AS_project_data/USCHADmodels/DeepConvLSTMmediumUSCHAD_withnoise_2/assets\n"
          ]
        },
        {
          "output_type": "stream",
          "name": "stdout",
          "text": [
            "INFO:tensorflow:Assets written to: /content/drive/My Drive/ECE_209_AS_project_data/USCHADmodels/DeepConvLSTMmediumUSCHAD_withnoise_2/assets\n"
          ]
        },
        {
          "output_type": "stream",
          "name": "stderr",
          "text": [
            "INFO:tensorflow:Assets written to: /content/drive/My Drive/ECE_209_AS_project_data/USCHADmodels/DeepConvLSTMmediumUSCHAD_withnoise_2/assets\n"
          ]
        },
        {
          "output_type": "stream",
          "name": "stdout",
          "text": [
            "INFO:tensorflow:Assets written to: /content/drive/My Drive/ECE_209_AS_project_data/USCHADmodels/DeepConvLSTMmediumUSCHAD_withnoise_2/assets\n"
          ]
        },
        {
          "output_type": "stream",
          "name": "stderr",
          "text": [
            "INFO:tensorflow:Assets written to: /content/drive/My Drive/ECE_209_AS_project_data/USCHADmodels/DeepConvLSTMmediumUSCHAD_withnoise_2/assets\n"
          ]
        },
        {
          "output_type": "stream",
          "name": "stdout",
          "text": [
            "INFO:tensorflow:Assets written to: /content/drive/My Drive/ECE_209_AS_project_data/USCHADmodels/DeepConvLSTMmediumUSCHAD_withnoise_2/assets\n"
          ]
        },
        {
          "output_type": "stream",
          "name": "stderr",
          "text": [
            "INFO:tensorflow:Assets written to: /content/drive/My Drive/ECE_209_AS_project_data/USCHADmodels/DeepConvLSTMmediumUSCHAD_withnoise_2/assets\n"
          ]
        },
        {
          "output_type": "stream",
          "name": "stdout",
          "text": [
            "INFO:tensorflow:Assets written to: /content/drive/My Drive/ECE_209_AS_project_data/USCHADmodels/DeepConvLSTMmediumUSCHAD_withnoise_2/assets\n"
          ]
        },
        {
          "output_type": "stream",
          "name": "stderr",
          "text": [
            "INFO:tensorflow:Assets written to: /content/drive/My Drive/ECE_209_AS_project_data/USCHADmodels/DeepConvLSTMmediumUSCHAD_withnoise_2/assets\n"
          ]
        },
        {
          "output_type": "stream",
          "name": "stdout",
          "text": [
            "tf.Tensor(0.91000307, shape=(), dtype=float32)\n",
            "INFO:tensorflow:Assets written to: /content/drive/My Drive/ECE_209_AS_project_data/USCHADmodels/DeepConvLSTMmediumUSCHAD_withnoise_3/assets\n"
          ]
        },
        {
          "output_type": "stream",
          "name": "stderr",
          "text": [
            "INFO:tensorflow:Assets written to: /content/drive/My Drive/ECE_209_AS_project_data/USCHADmodels/DeepConvLSTMmediumUSCHAD_withnoise_3/assets\n"
          ]
        },
        {
          "output_type": "stream",
          "name": "stdout",
          "text": [
            "INFO:tensorflow:Assets written to: /content/drive/My Drive/ECE_209_AS_project_data/USCHADmodels/DeepConvLSTMmediumUSCHAD_withnoise_3/assets\n"
          ]
        },
        {
          "output_type": "stream",
          "name": "stderr",
          "text": [
            "INFO:tensorflow:Assets written to: /content/drive/My Drive/ECE_209_AS_project_data/USCHADmodels/DeepConvLSTMmediumUSCHAD_withnoise_3/assets\n"
          ]
        },
        {
          "output_type": "stream",
          "name": "stdout",
          "text": [
            "INFO:tensorflow:Assets written to: /content/drive/My Drive/ECE_209_AS_project_data/USCHADmodels/DeepConvLSTMmediumUSCHAD_withnoise_3/assets\n"
          ]
        },
        {
          "output_type": "stream",
          "name": "stderr",
          "text": [
            "INFO:tensorflow:Assets written to: /content/drive/My Drive/ECE_209_AS_project_data/USCHADmodels/DeepConvLSTMmediumUSCHAD_withnoise_3/assets\n"
          ]
        },
        {
          "output_type": "stream",
          "name": "stdout",
          "text": [
            "INFO:tensorflow:Assets written to: /content/drive/My Drive/ECE_209_AS_project_data/USCHADmodels/DeepConvLSTMmediumUSCHAD_withnoise_3/assets\n"
          ]
        },
        {
          "output_type": "stream",
          "name": "stderr",
          "text": [
            "INFO:tensorflow:Assets written to: /content/drive/My Drive/ECE_209_AS_project_data/USCHADmodels/DeepConvLSTMmediumUSCHAD_withnoise_3/assets\n"
          ]
        },
        {
          "output_type": "stream",
          "name": "stdout",
          "text": [
            "INFO:tensorflow:Assets written to: /content/drive/My Drive/ECE_209_AS_project_data/USCHADmodels/DeepConvLSTMmediumUSCHAD_withnoise_3/assets\n"
          ]
        },
        {
          "output_type": "stream",
          "name": "stderr",
          "text": [
            "INFO:tensorflow:Assets written to: /content/drive/My Drive/ECE_209_AS_project_data/USCHADmodels/DeepConvLSTMmediumUSCHAD_withnoise_3/assets\n"
          ]
        },
        {
          "output_type": "stream",
          "name": "stdout",
          "text": [
            "INFO:tensorflow:Assets written to: /content/drive/My Drive/ECE_209_AS_project_data/USCHADmodels/DeepConvLSTMmediumUSCHAD_withnoise_3/assets\n"
          ]
        },
        {
          "output_type": "stream",
          "name": "stderr",
          "text": [
            "INFO:tensorflow:Assets written to: /content/drive/My Drive/ECE_209_AS_project_data/USCHADmodels/DeepConvLSTMmediumUSCHAD_withnoise_3/assets\n"
          ]
        },
        {
          "output_type": "stream",
          "name": "stdout",
          "text": [
            "INFO:tensorflow:Assets written to: /content/drive/My Drive/ECE_209_AS_project_data/USCHADmodels/DeepConvLSTMmediumUSCHAD_withnoise_3/assets\n"
          ]
        },
        {
          "output_type": "stream",
          "name": "stderr",
          "text": [
            "INFO:tensorflow:Assets written to: /content/drive/My Drive/ECE_209_AS_project_data/USCHADmodels/DeepConvLSTMmediumUSCHAD_withnoise_3/assets\n"
          ]
        },
        {
          "output_type": "stream",
          "name": "stdout",
          "text": [
            "tf.Tensor(0.90614384, shape=(), dtype=float32)\n",
            "INFO:tensorflow:Assets written to: /content/drive/My Drive/ECE_209_AS_project_data/USCHADmodels/DeepConvLSTMmediumUSCHAD_withnoise_4/assets\n"
          ]
        },
        {
          "output_type": "stream",
          "name": "stderr",
          "text": [
            "INFO:tensorflow:Assets written to: /content/drive/My Drive/ECE_209_AS_project_data/USCHADmodels/DeepConvLSTMmediumUSCHAD_withnoise_4/assets\n"
          ]
        },
        {
          "output_type": "stream",
          "name": "stdout",
          "text": [
            "INFO:tensorflow:Assets written to: /content/drive/My Drive/ECE_209_AS_project_data/USCHADmodels/DeepConvLSTMmediumUSCHAD_withnoise_4/assets\n"
          ]
        },
        {
          "output_type": "stream",
          "name": "stderr",
          "text": [
            "INFO:tensorflow:Assets written to: /content/drive/My Drive/ECE_209_AS_project_data/USCHADmodels/DeepConvLSTMmediumUSCHAD_withnoise_4/assets\n"
          ]
        },
        {
          "output_type": "stream",
          "name": "stdout",
          "text": [
            "INFO:tensorflow:Assets written to: /content/drive/My Drive/ECE_209_AS_project_data/USCHADmodels/DeepConvLSTMmediumUSCHAD_withnoise_4/assets\n"
          ]
        },
        {
          "output_type": "stream",
          "name": "stderr",
          "text": [
            "INFO:tensorflow:Assets written to: /content/drive/My Drive/ECE_209_AS_project_data/USCHADmodels/DeepConvLSTMmediumUSCHAD_withnoise_4/assets\n"
          ]
        },
        {
          "output_type": "stream",
          "name": "stdout",
          "text": [
            "INFO:tensorflow:Assets written to: /content/drive/My Drive/ECE_209_AS_project_data/USCHADmodels/DeepConvLSTMmediumUSCHAD_withnoise_4/assets\n"
          ]
        },
        {
          "output_type": "stream",
          "name": "stderr",
          "text": [
            "INFO:tensorflow:Assets written to: /content/drive/My Drive/ECE_209_AS_project_data/USCHADmodels/DeepConvLSTMmediumUSCHAD_withnoise_4/assets\n"
          ]
        },
        {
          "output_type": "stream",
          "name": "stdout",
          "text": [
            "INFO:tensorflow:Assets written to: /content/drive/My Drive/ECE_209_AS_project_data/USCHADmodels/DeepConvLSTMmediumUSCHAD_withnoise_4/assets\n"
          ]
        },
        {
          "output_type": "stream",
          "name": "stderr",
          "text": [
            "INFO:tensorflow:Assets written to: /content/drive/My Drive/ECE_209_AS_project_data/USCHADmodels/DeepConvLSTMmediumUSCHAD_withnoise_4/assets\n"
          ]
        },
        {
          "output_type": "stream",
          "name": "stdout",
          "text": [
            "INFO:tensorflow:Assets written to: /content/drive/My Drive/ECE_209_AS_project_data/USCHADmodels/DeepConvLSTMmediumUSCHAD_withnoise_4/assets\n"
          ]
        },
        {
          "output_type": "stream",
          "name": "stderr",
          "text": [
            "INFO:tensorflow:Assets written to: /content/drive/My Drive/ECE_209_AS_project_data/USCHADmodels/DeepConvLSTMmediumUSCHAD_withnoise_4/assets\n"
          ]
        },
        {
          "output_type": "stream",
          "name": "stdout",
          "text": [
            "INFO:tensorflow:Assets written to: /content/drive/My Drive/ECE_209_AS_project_data/USCHADmodels/DeepConvLSTMmediumUSCHAD_withnoise_4/assets\n"
          ]
        },
        {
          "output_type": "stream",
          "name": "stderr",
          "text": [
            "INFO:tensorflow:Assets written to: /content/drive/My Drive/ECE_209_AS_project_data/USCHADmodels/DeepConvLSTMmediumUSCHAD_withnoise_4/assets\n"
          ]
        },
        {
          "output_type": "stream",
          "name": "stdout",
          "text": [
            "INFO:tensorflow:Assets written to: /content/drive/My Drive/ECE_209_AS_project_data/USCHADmodels/DeepConvLSTMmediumUSCHAD_withnoise_4/assets\n"
          ]
        },
        {
          "output_type": "stream",
          "name": "stderr",
          "text": [
            "INFO:tensorflow:Assets written to: /content/drive/My Drive/ECE_209_AS_project_data/USCHADmodels/DeepConvLSTMmediumUSCHAD_withnoise_4/assets\n"
          ]
        },
        {
          "output_type": "stream",
          "name": "stdout",
          "text": [
            "INFO:tensorflow:Assets written to: /content/drive/My Drive/ECE_209_AS_project_data/USCHADmodels/DeepConvLSTMmediumUSCHAD_withnoise_4/assets\n"
          ]
        },
        {
          "output_type": "stream",
          "name": "stderr",
          "text": [
            "INFO:tensorflow:Assets written to: /content/drive/My Drive/ECE_209_AS_project_data/USCHADmodels/DeepConvLSTMmediumUSCHAD_withnoise_4/assets\n"
          ]
        },
        {
          "output_type": "stream",
          "name": "stdout",
          "text": [
            "tf.Tensor(0.8998148, shape=(), dtype=float32)\n"
          ]
        }
      ],
      "id": "njf8OupEdHiL"
    },
    {
      "cell_type": "code",
      "source": [
        "sum_ac = 0\n",
        "\n",
        "for ac in test_accuracies_noise:\n",
        "\n",
        "  sum_ac += ac.numpy()\n",
        "\n",
        "print(f\"Mean accuracy is {round(sum_ac/len(test_accuracies_noise), 2)}\")"
      ],
      "metadata": {
        "id": "fuVQ3uSAdHiM",
        "colab": {
          "base_uri": "https://localhost:8080/"
        },
        "outputId": "bda5fc64-dd3c-4c85-92ef-a8da1fbaf5c0"
      },
      "execution_count": 45,
      "outputs": [
        {
          "output_type": "stream",
          "name": "stdout",
          "text": [
            "Mean accuracy is 0.91\n"
          ]
        }
      ],
      "id": "fuVQ3uSAdHiM"
    },
    {
      "cell_type": "code",
      "source": [
        "mean_recall_scores_with_noise  = sum(recall_scores_noise)/len(recall_scores_noise)\n",
        "\n",
        "for i in range(len(mean_recall_scores_with_noise)):\n",
        "\n",
        "  print(f\"Label {data_class_names[i]} has mean accuracy {round(mean_recall_scores_with_noise[i], 2)}\")"
      ],
      "metadata": {
        "colab": {
          "base_uri": "https://localhost:8080/"
        },
        "id": "XpvWzc3udHiM",
        "outputId": "a9333aec-6d29-4761-eff0-4e39f399738b"
      },
      "execution_count": 46,
      "outputs": [
        {
          "output_type": "stream",
          "name": "stdout",
          "text": [
            "Label walking forward has mean accuracy 0.96\n",
            "Label walking left has mean accuracy 0.94\n",
            "Label walking right has mean accuracy 0.94\n",
            "Label walking upstairs has mean accuracy 0.95\n",
            "Label walking downstairs has mean accuracy 0.95\n",
            "Label running forward has mean accuracy 0.97\n",
            "Label jumping has mean accuracy 0.97\n",
            "Label sitting has mean accuracy 0.98\n",
            "Label standing  has mean accuracy 0.87\n",
            "Label sleeping  has mean accuracy 1.0\n",
            "Label elevator up has mean accuracy 0.5\n",
            "Label elevator down has mean accuracy 0.51\n"
          ]
        }
      ],
      "id": "XpvWzc3udHiM"
    },
    {
      "cell_type": "markdown",
      "source": [
        "## Results"
      ],
      "metadata": {
        "id": "QJNC4C5cu3uQ"
      },
      "id": "QJNC4C5cu3uQ"
    },
    {
      "cell_type": "markdown",
      "source": [
        "|  Activity |  Baseline |  Weight Decay |  Rotation | Scaling  |  Noise |  Resampling | Magnify | \n",
        "|---|---|---|---|---|---|---|---|\n",
        "| Walking  | 0.94  |  0.95 |  0.96 |  0.96 |  0.95 |  0.94 | 0.97 | \n",
        "| Stairs-Up  |  0.96 |  0.97 | 0.97 | 0.98  |  0.95 | 0.96  | 0.98 |\n",
        "| Stairs-Down  | .99  | 0.99  |  0.99 |  0.99 |  0.99 | 1.0  | 0.99 |\n",
        "| Sitting  | 0.80  | 0.77  |  0.8 | 0.82  | 0.79  |  0.79 | 0.81 |\n",
        "| Standing | 0.83  |  0.86 |  0.79 |  0.9 | 0.81  |  0.83 | 0.94 |\n",
        "| Lying  |  1 |  0.99 |  0.94 | 1  | 1  |  1 | 1 |\n",
        "|  Overall Accuracy |  0.92 |  0.92 | 0.9  | 0.94  |  0.91 | 0.92  | 0.95|"
      ],
      "metadata": {
        "id": "CstBhMEOHtDO"
      },
      "id": "CstBhMEOHtDO"
    }
  ],
  "metadata": {
    "kernelspec": {
      "display_name": "Python [conda env:ECE209AS] *",
      "language": "python",
      "name": "conda-env-ECE209AS-py"
    },
    "language_info": {
      "codemirror_mode": {
        "name": "ipython",
        "version": 3
      },
      "file_extension": ".py",
      "mimetype": "text/x-python",
      "name": "python",
      "nbconvert_exporter": "python",
      "pygments_lexer": "ipython3",
      "version": "3.8.13"
    },
    "colab": {
      "name": "DeepConvLSTMmediummodel_USCHAD.ipynb",
      "provenance": [],
      "collapsed_sections": [],
      "include_colab_link": true
    },
    "accelerator": "GPU"
  },
  "nbformat": 4,
  "nbformat_minor": 5
}